{
 "cells": [
  {
   "cell_type": "code",
   "execution_count": 2,
   "metadata": {},
   "outputs": [
    {
     "data": {
      "text/html": [
       "<div>\n",
       "<style scoped>\n",
       "    .dataframe tbody tr th:only-of-type {\n",
       "        vertical-align: middle;\n",
       "    }\n",
       "\n",
       "    .dataframe tbody tr th {\n",
       "        vertical-align: top;\n",
       "    }\n",
       "\n",
       "    .dataframe thead th {\n",
       "        text-align: right;\n",
       "    }\n",
       "</style>\n",
       "<table border=\"1\" class=\"dataframe\">\n",
       "  <thead>\n",
       "    <tr style=\"text-align: right;\">\n",
       "      <th></th>\n",
       "      <th>weekly_sales</th>\n",
       "      <th>sid</th>\n",
       "      <th>dept</th>\n",
       "      <th>store</th>\n",
       "      <th>type</th>\n",
       "      <th>size</th>\n",
       "      <th>temperature_stdev</th>\n",
       "      <th>fuel_price_avg</th>\n",
       "      <th>fuel_price_stdev</th>\n",
       "      <th>cpi_avg</th>\n",
       "      <th>cpi_stdev</th>\n",
       "      <th>unemployment_avg</th>\n",
       "      <th>unemployment_stdev</th>\n",
       "      <th>holidayfreq</th>\n",
       "    </tr>\n",
       "  </thead>\n",
       "  <tbody>\n",
       "    <tr>\n",
       "      <th>31798</th>\n",
       "      <td>1</td>\n",
       "      <td>218350</td>\n",
       "      <td>58</td>\n",
       "      <td>17</td>\n",
       "      <td>2</td>\n",
       "      <td>93188</td>\n",
       "      <td>23.043333</td>\n",
       "      <td>10.520515</td>\n",
       "      <td>2.910667</td>\n",
       "      <td>0.205456</td>\n",
       "      <td>128.215848</td>\n",
       "      <td>1.934053</td>\n",
       "      <td>6.605667</td>\n",
       "      <td>0.236826</td>\n",
       "    </tr>\n",
       "  </tbody>\n",
       "</table>\n",
       "</div>"
      ],
      "text/plain": [
       "       weekly_sales     sid  dept  store  type   size  temperature_stdev  \\\n",
       "31798             1  218350    58     17     2  93188          23.043333   \n",
       "\n",
       "       fuel_price_avg  fuel_price_stdev   cpi_avg   cpi_stdev  \\\n",
       "31798       10.520515          2.910667  0.205456  128.215848   \n",
       "\n",
       "       unemployment_avg  unemployment_stdev  holidayfreq  \n",
       "31798          1.934053            6.605667     0.236826  "
      ]
     },
     "execution_count": 2,
     "metadata": {},
     "output_type": "execute_result"
    }
   ],
   "source": [
    "df = pd.read_parquet('walmart.parquet').sample(n=1000)\n",
    "df.head(1)"
   ]
  },
  {
   "cell_type": "code",
   "execution_count": 3,
   "metadata": {},
   "outputs": [],
   "source": [
    "df = df[['weekly_sales', 'dept', 'size', 'store', 'unemployment_stdev']]"
   ]
  },
  {
   "cell_type": "code",
   "execution_count": 4,
   "metadata": {},
   "outputs": [],
   "source": [
    "X = df[df.columns[df.columns != 'weekly_sales']]\n",
    "y = df['weekly_sales']"
   ]
  },
  {
   "cell_type": "code",
   "execution_count": 5,
   "metadata": {},
   "outputs": [
    {
     "data": {
      "text/plain": [
       "array([0, 1, 2, 3, 4, 5, 6], dtype=int32)"
      ]
     },
     "execution_count": 5,
     "metadata": {},
     "output_type": "execute_result"
    }
   ],
   "source": [
    "np.unique(y)"
   ]
  },
  {
   "cell_type": "code",
   "execution_count": 6,
   "metadata": {},
   "outputs": [
    {
     "data": {
      "text/plain": [
       "PCA(copy=True, iterated_power='auto', n_components=2, random_state=None,\n",
       "    svd_solver='auto', tol=0.0, whiten=False)"
      ]
     },
     "execution_count": 6,
     "metadata": {},
     "output_type": "execute_result"
    }
   ],
   "source": [
    "from sklearn.decomposition import PCA\n",
    "\n",
    "pca = PCA(n_components=2)\n",
    "pca.fit(X)"
   ]
  },
  {
   "cell_type": "code",
   "execution_count": 7,
   "metadata": {},
   "outputs": [],
   "source": [
    "tf = pca.fit_transform(X)"
   ]
  },
  {
   "cell_type": "code",
   "execution_count": 8,
   "metadata": {},
   "outputs": [
    {
     "name": "stdout",
     "output_type": "stream",
     "text": [
      "components: [[-1.00250421e-05 -9.99999999e-01  3.43082964e-05  2.28063129e-06]\n",
      " [ 9.99761282e-01 -9.27139439e-06  2.18041112e-02  1.39989058e-03]]\n",
      "mean: [4.36400000e+01 1.38513158e+05 2.22480000e+01 7.90653683e+00]\n",
      "covariance: <bound method _BasePCA.get_covariance of PCA(copy=True, iterated_power='auto', n_components=2, random_state=None,\n",
      "    svd_solver='auto', tol=0.0, whiten=False)>\n",
      "contribution ratio: [9.99999704e-01 2.53478965e-07]\n",
      "accumulated contribution ratio: 0.999999957125546\n"
     ]
    }
   ],
   "source": [
    "print('components: {0}'.format(pca.components_))\n",
    "print('mean: {0}'.format(pca.mean_))\n",
    "print('covariance: {0}'.format(pca.get_covariance))\n",
    "print('contribution ratio: {0}'.format(pca.explained_variance_ratio_))\n",
    "print('accumulated contribution ratio: {0}'.format(sum(pca.explained_variance_ratio_)))"
   ]
  },
  {
   "cell_type": "code",
   "execution_count": 9,
   "metadata": {},
   "outputs": [
    {
     "data": {
      "text/plain": [
       "<matplotlib.collections.PathCollection at 0x7fd85813c358>"
      ]
     },
     "execution_count": 9,
     "metadata": {},
     "output_type": "execute_result"
    },
    {
     "data": {
      "text/plain": [
       "Text(0.5, 1.0, 'principal component')"
      ]
     },
     "execution_count": 9,
     "metadata": {},
     "output_type": "execute_result"
    },
    {
     "data": {
      "text/plain": [
       "Text(0.5, 0, 'pc1')"
      ]
     },
     "execution_count": 9,
     "metadata": {},
     "output_type": "execute_result"
    },
    {
     "data": {
      "text/plain": [
       "Text(0, 0.5, 'pc2')"
      ]
     },
     "execution_count": 9,
     "metadata": {},
     "output_type": "execute_result"
    },
    {
     "data": {
      "text/plain": [
       "<matplotlib.collections.PathCollection at 0x7fd85813c828>"
      ]
     },
     "execution_count": 9,
     "metadata": {},
     "output_type": "execute_result"
    },
    {
     "data": {
      "text/plain": [
       "Text(0.5, 1.0, 'principal component')"
      ]
     },
     "execution_count": 9,
     "metadata": {},
     "output_type": "execute_result"
    },
    {
     "data": {
      "text/plain": [
       "Text(0.5, 0, 'pc1')"
      ]
     },
     "execution_count": 9,
     "metadata": {},
     "output_type": "execute_result"
    },
    {
     "data": {
      "text/plain": [
       "Text(0, 0.5, 'pc2')"
      ]
     },
     "execution_count": 9,
     "metadata": {},
     "output_type": "execute_result"
    },
    {
     "data": {
      "text/plain": [
       "<matplotlib.collections.PathCollection at 0x7fd85813c748>"
      ]
     },
     "execution_count": 9,
     "metadata": {},
     "output_type": "execute_result"
    },
    {
     "data": {
      "text/plain": [
       "Text(0.5, 1.0, 'principal component')"
      ]
     },
     "execution_count": 9,
     "metadata": {},
     "output_type": "execute_result"
    },
    {
     "data": {
      "text/plain": [
       "Text(0.5, 0, 'pc1')"
      ]
     },
     "execution_count": 9,
     "metadata": {},
     "output_type": "execute_result"
    },
    {
     "data": {
      "text/plain": [
       "Text(0, 0.5, 'pc2')"
      ]
     },
     "execution_count": 9,
     "metadata": {},
     "output_type": "execute_result"
    },
    {
     "data": {
      "text/plain": [
       "<matplotlib.collections.PathCollection at 0x7fd85813ce10>"
      ]
     },
     "execution_count": 9,
     "metadata": {},
     "output_type": "execute_result"
    },
    {
     "data": {
      "text/plain": [
       "Text(0.5, 1.0, 'principal component')"
      ]
     },
     "execution_count": 9,
     "metadata": {},
     "output_type": "execute_result"
    },
    {
     "data": {
      "text/plain": [
       "Text(0.5, 0, 'pc1')"
      ]
     },
     "execution_count": 9,
     "metadata": {},
     "output_type": "execute_result"
    },
    {
     "data": {
      "text/plain": [
       "Text(0, 0.5, 'pc2')"
      ]
     },
     "execution_count": 9,
     "metadata": {},
     "output_type": "execute_result"
    },
    {
     "data": {
      "text/plain": [
       "<matplotlib.collections.PathCollection at 0x7fd85813ccf8>"
      ]
     },
     "execution_count": 9,
     "metadata": {},
     "output_type": "execute_result"
    },
    {
     "data": {
      "text/plain": [
       "Text(0.5, 1.0, 'principal component')"
      ]
     },
     "execution_count": 9,
     "metadata": {},
     "output_type": "execute_result"
    },
    {
     "data": {
      "text/plain": [
       "Text(0.5, 0, 'pc1')"
      ]
     },
     "execution_count": 9,
     "metadata": {},
     "output_type": "execute_result"
    },
    {
     "data": {
      "text/plain": [
       "Text(0, 0.5, 'pc2')"
      ]
     },
     "execution_count": 9,
     "metadata": {},
     "output_type": "execute_result"
    },
    {
     "data": {
      "text/plain": [
       "<matplotlib.collections.PathCollection at 0x7fd8580e6128>"
      ]
     },
     "execution_count": 9,
     "metadata": {},
     "output_type": "execute_result"
    },
    {
     "data": {
      "text/plain": [
       "Text(0.5, 1.0, 'principal component')"
      ]
     },
     "execution_count": 9,
     "metadata": {},
     "output_type": "execute_result"
    },
    {
     "data": {
      "text/plain": [
       "Text(0.5, 0, 'pc1')"
      ]
     },
     "execution_count": 9,
     "metadata": {},
     "output_type": "execute_result"
    },
    {
     "data": {
      "text/plain": [
       "Text(0, 0.5, 'pc2')"
      ]
     },
     "execution_count": 9,
     "metadata": {},
     "output_type": "execute_result"
    },
    {
     "data": {
      "text/plain": [
       "<matplotlib.collections.PathCollection at 0x7fd8580e6780>"
      ]
     },
     "execution_count": 9,
     "metadata": {},
     "output_type": "execute_result"
    },
    {
     "data": {
      "text/plain": [
       "Text(0.5, 1.0, 'principal component')"
      ]
     },
     "execution_count": 9,
     "metadata": {},
     "output_type": "execute_result"
    },
    {
     "data": {
      "text/plain": [
       "Text(0.5, 0, 'pc1')"
      ]
     },
     "execution_count": 9,
     "metadata": {},
     "output_type": "execute_result"
    },
    {
     "data": {
      "text/plain": [
       "Text(0, 0.5, 'pc2')"
      ]
     },
     "execution_count": 9,
     "metadata": {},
     "output_type": "execute_result"
    },
    {
     "data": {
      "image/png": "[encoded data removed]",
      "text/plain": [
       "<Figure size 432x288 with 1 Axes>"
      ]
     },
     "metadata": {
      "needs_background": "light"
     },
     "output_type": "display_data"
    }
   ],
   "source": [
    "from matplotlib import pyplot as plt\n",
    "\n",
    "for label in np.unique(y):\n",
    "    plt.scatter(tf[y == label, 0], tf[y == label, 1])\n",
    "    plt.title('principal component')\n",
    "    plt.xlabel('pc1')\n",
    "    plt.ylabel('pc2')\n",
    "    \n",
    "plt.show()"
   ]
  },
  {
   "cell_type": "code",
   "execution_count": 10,
   "metadata": {},
   "outputs": [
    {
     "data": {
      "application/vnd.vegalite.v3+json": {
       "$schema": "https://vega.github.io/schema/vega-lite/v3.4.0.json",
       "config": {
        "mark": {
         "tooltip": null
        },
        "view": {
         "height": 300,
         "width": 400
        }
       },
       "datasets": {
        "data-05043712fe96fd37e6f6f9c2a26f9c3a": [
         {
          "pc1": 23980.15833050703,
          "pc2": -32.39785839294421
         },
         {
          "pc1": -65305.84184039855,
          "pc2": -6.205274647208874
         },
         {
          "pc1": 81316.15778672548,
          "pc2": -5.022998872765232
         },
         {
          "pc1": -65236.84168178731,
          "pc2": 1.9452847756927958
         },
         {
          "pc1": -62384.84254570761,
          "pc2": 29.595509042333422
         },
         {
          "pc1": -65305.84186023274,
          "pc2": -4.205619560264309
         },
         {
          "pc1": -81108.84190982315,
          "pc2": -36.58626673522485
         },
         {
          "pc1": -65236.84212413207,
          "pc2": 45.93401824264885
         },
         {
          "pc1": -65228.842501142266,
          "pc2": 45.69448423884449
         },
         {
          "pc1": 97451.15814876526,
          "pc2": 51.70652111071887
         },
         {
          "pc1": -65305.84201279831,
          "pc2": -6.3148220286524115
         },
         {
          "pc1": -65305.84239154319,
          "pc2": 48.78173865078604
         },
         {
          "pc1": 17860.158262554185,
          "pc2": -41.55567820653704
         },
         {
          "pc1": 44875.157922773775,
          "pc2": 28.919094716618947
         },
         {
          "pc1": -67349.8430823293,
          "pc2": 48.323065048066866
         },
         {
          "pc1": 23980.15835072398,
          "pc2": -34.39727853158577
         },
         {
          "pc1": -65305.842012744346,
          "pc2": -6.314788897908589
         },
         {
          "pc1": -65305.842032768574,
          "pc2": -4.315250468512686
         },
         {
          "pc1": -67788.84223358969,
          "pc2": 47.85176037125407
         },
         {
          "pc1": 98823.15811062623,
          "pc2": 51.69562612752551
         },
         {
          "pc1": 23980.15827027392,
          "pc2": -26.39934156372756
         },
         {
          "pc1": 14776.157457688594,
          "pc2": 28.332276789104025
         },
         {
          "pc1": -65670.84225933916,
          "pc2": 45.84385079553968
         },
         {
          "pc1": -67349.84219010064,
          "pc2": -40.65568904856637
         },
         {
          "pc1": -63793.84234725809,
          "pc2": -31.666042711553402
         },
         {
          "pc1": 98603.15816448556,
          "pc2": 52.73396459226395
         },
         {
          "pc1": -64493.84164595773,
          "pc2": 1.9752038370640446
         },
         {
          "pc1": -65228.84257150306,
          "pc2": 52.6926993549695
         },
         {
          "pc1": -16564.842124975352,
          "pc2": -36.09823300572529
         },
         {
          "pc1": -16569.841351791885,
          "pc2": -3.410570794748861
         },
         {
          "pc1": -65670.84181823889,
          "pc2": 1.8543534549549963
         },
         {
          "pc1": -19600.841863748705,
          "pc2": 28.430690286855047
         },
         {
          "pc1": -65670.84146738902,
          "pc2": -33.13730774656432
         },
         {
          "pc1": -65305.84171209878,
          "pc2": -36.30769221904493
         },
         {
          "pc1": 12680.157248786096,
          "pc2": 28.179320290280128
         },
         {
          "pc1": -63991.843044204514,
          "pc2": 51.398156708746036
         },
         {
          "pc1": 23980.158420523345,
          "pc2": -41.39583825410951
         },
         {
          "pc1": 67800.15715087163,
          "pc2": 28.650468035968117
         },
         {
          "pc1": 67800.1574710032,
          "pc2": -3.3423040887419324
         },
         {
          "pc1": -13999.842357207412,
          "pc2": 49.30018159947085
         },
         {
          "pc1": 12001.157690560767,
          "pc2": -11.791921310629377
         },
         {
          "pc1": -67349.84215962717,
          "pc2": -43.65472838029831
         },
         {
          "pc1": -62384.842184816014,
          "pc2": -6.395903175306253
         },
         {
          "pc1": -12801.84236457604,
          "pc2": -36.21414993618453
         },
         {
          "pc1": 18956.157464925,
          "pc2": 51.518375265536406
         },
         {
          "pc1": 18956.158336702953,
          "pc2": -35.46110218124012
         },
         {
          "pc1": 20292.158284424542,
          "pc2": 49.033703302754695
         },
         {
          "pc1": -65236.84213320837,
          "pc2": 46.9343618791164
         },
         {
          "pc1": -67788.84169002905,
          "pc2": -6.133993295201216
         },
         {
          "pc1": 98823.15812028828,
          "pc2": 50.695642029622924
         },
         {
          "pc1": 17860.15733023372,
          "pc2": 51.42212615096691
         },
         {
          "pc1": -81108.84223062448,
          "pc2": -4.593905711716278
         },
         {
          "pc1": -67349.84254939503,
          "pc2": -4.663296440887754
         },
         {
          "pc1": -65670.84207891655,
          "pc2": 27.8481304544989
         },
         {
          "pc1": -65670.84139718715,
          "pc2": -40.13562038840001
         },
         {
          "pc1": -64493.842087059544,
          "pc2": 45.96470024438833
         },
         {
          "pc1": -65305.84184004581,
          "pc2": -6.205058130798561
         },
         {
          "pc1": -65228.84161909145,
          "pc2": -42.284602368473216
         },
         {
          "pc1": 34832.15813278127,
          "pc2": 28.95540501283784
         },
         {
          "pc1": -65305.84173225452,
          "pc2": -34.3082345166727
         },
         {
          "pc1": -45595.84168075867,
          "pc2": 28.29549426304111
         },
         {
          "pc1": -63793.84267802441,
          "pc2": 1.326116457725196
         },
         {
          "pc1": -81108.84257199852,
          "pc2": 29.397657067502767
         },
         {
          "pc1": -65305.841862494155,
          "pc2": -21.311285121660347
         },
         {
          "pc1": -16564.842957040844,
          "pc2": 46.88196133171338
         },
         {
          "pc1": -63991.842462495166,
          "pc2": -6.587839925357479
         },
         {
          "pc1": -12801.842303453483,
          "pc2": -42.212120808073436
         },
         {
          "pc1": -16569.84189256103,
          "pc2": 50.57689633778114
         },
         {
          "pc1": -67349.84287180344,
          "pc2": 27.328078126389347
         },
         {
          "pc1": -13999.842146684208,
          "pc2": 28.30519304458765
         },
         {
          "pc1": 12680.157248364178,
          "pc2": 28.179061310522098
         },
         {
          "pc1": -65236.84194243836,
          "pc2": 27.93907810729352
         },
         {
          "pc1": -63991.84303392252,
          "pc2": 50.398553147767174
         },
         {
          "pc1": -12801.842353546761,
          "pc2": -37.21329479968205
         },
         {
          "pc1": 18956.158186698318,
          "pc2": -20.464455235935475
         },
         {
          "pc1": -81108.84264217383,
          "pc2": 36.39598604139527
         },
         {
          "pc1": -68985.84208683475,
          "pc2": -26.52009157257513
         },
         {
          "pc1": 12680.157569677118,
          "pc2": -3.8129856708654817
         },
         {
          "pc1": -64493.8420973803,
          "pc2": 46.964280007227266
         },
         {
          "pc1": -65236.84124105648,
          "pc2": -42.04443934716647
         },
         {
          "pc1": -12801.842304425792,
          "pc2": -42.212717628092385
         },
         {
          "pc1": -19600.842063936325,
          "pc2": 48.4261081781881
         },
         {
          "pc1": -65670.84158763329,
          "pc2": -21.140137832114203
         },
         {
          "pc1": -63991.842312376495,
          "pc2": -21.58441687613291
         },
         {
          "pc1": 98603.15796766235,
          "pc2": 48.58427619746826
         },
         {
          "pc1": 45325.157303167674,
          "pc2": 48.65247455761428
         },
         {
          "pc1": -65305.84257420064,
          "pc2": 49.671809762487605
         },
         {
          "pc1": 45325.157302970016,
          "pc2": 48.65235323376368
         },
         {
          "pc1": -65305.84235371509,
          "pc2": 27.67702142862871
         },
         {
          "pc1": -65305.842181249966,
          "pc2": 27.786608940268984
         },
         {
          "pc1": -65236.84124068549,
          "pc2": -42.044211631631484
         },
         {
          "pc1": -68985.84198585678,
          "pc2": -36.51725782732528
         },
         {
          "pc1": -64493.841285290386,
          "pc2": -34.01634603648304
         },
         {
          "pc1": 23980.158179759666,
          "pc2": -17.401667345339735
         },
         {
          "pc1": -19600.84205451945,
          "pc2": 47.42597359204775
         },
         {
          "pc1": -62384.84197412213,
          "pc2": -27.390786971710735
         },
         {
          "pc1": -67349.84309275955,
          "pc2": 49.32257761615775
         },
         {
          "pc1": -16569.84097022759,
          "pc2": -41.40112340622842
         },
         {
          "pc1": -57807.84179614533,
          "pc2": 47.22050977346795
         },
         {
          "pc1": 23980.158330297974,
          "pc2": -32.39798671624773
         },
         {
          "pc1": 23980.15827012416,
          "pc2": -26.3994334898759
         },
         {
          "pc1": -62384.842204866094,
          "pc2": -4.3963806113369674
         },
         {
          "pc1": -65305.84150935631,
          "pc2": -39.1972644297268
         },
         {
          "pc1": -65228.84257147036,
          "pc2": 52.69271942006787
         },
         {
          "pc1": 95525.15772937355,
          "pc2": 48.40304567224529
         },
         {
          "pc1": -67349.84227871893,
          "pc2": -31.65685105447311
         },
         {
          "pc1": -65670.84231949093,
          "pc2": 51.84241755418715
         },
         {
          "pc1": -1653.8419857451122,
          "pc2": -5.681524108717367
         },
         {
          "pc1": -65305.84218102189,
          "pc2": 27.786748929327384
         },
         {
          "pc1": 98603.1587375945,
          "pc2": -4.251396294870158
         },
         {
          "pc1": 12001.157900162216,
          "pc2": -32.78747565462357
         },
         {
          "pc1": 12680.157589922577,
          "pc2": -5.812388310874745
         },
         {
          "pc1": 17860.15815227873,
          "pc2": -30.558304104705954
         },
         {
          "pc1": 23980.158390285535,
          "pc2": -38.39665426701723
         },
         {
          "pc1": -65305.84254404569,
          "pc2": 46.67257491270411
         },
         {
          "pc1": -67349.84312355232,
          "pc2": 52.32142096320794
         },
         {
          "pc1": 26275.157127989125,
          "pc2": 51.37484610234748
         },
         {
          "pc1": -13999.842367030617,
          "pc2": 50.30006677177215
         },
         {
          "pc1": 23980.158400310578,
          "pc2": -39.39641554900189
         },
         {
          "pc1": 14776.157457807945,
          "pc2": 28.332350050044578
         },
         {
          "pc1": 12680.15757019406,
          "pc2": -3.8126683623331257
         },
         {
          "pc1": -65670.84141737447,
          "pc2": -38.136182051180846
         },
         {
          "pc1": -13999.842146909228,
          "pc2": 28.30505492205004
         },
         {
          "pc1": -65228.8417395683,
          "pc2": -30.28757524286266
         },
         {
          "pc1": -81108.84276195166,
          "pc2": 48.393442233469806
         },
         {
          "pc1": -65305.84184016593,
          "pc2": -6.205131858369315
         },
         {
          "pc1": -45595.84192090886,
          "pc2": 52.290041742377966
         },
         {
          "pc1": -67349.84309176214,
          "pc2": 49.323189834973135
         },
         {
          "pc1": -13999.841826439362,
          "pc2": -3.6875095522234016
         },
         {
          "pc1": 23980.1583603731,
          "pc2": -35.39727056220165
         },
         {
          "pc1": -63793.843008850774,
          "pc2": 34.31823876321842
         },
         {
          "pc1": -62384.84274609972,
          "pc2": 49.590801410144124
         },
         {
          "pc1": -16569.841030407482,
          "pc2": -35.40257391289815
         },
         {
          "pc1": -16569.84189161837,
          "pc2": 50.5774749592225
         },
         {
          "pc1": -81108.84186925965,
          "pc2": -40.585027452059784
         },
         {
          "pc1": 10406.15814303765,
          "pc2": -5.482933746669525
         },
         {
          "pc1": 98603.15789362561,
          "pc2": 52.561745396381276
         },
         {
          "pc1": -67788.84170970091,
          "pc2": -4.134238582710093
         },
         {
          "pc1": 12001.157849875844,
          "pc2": -27.788768170301616
         },
         {
          "pc1": -45595.84099877763,
          "pc2": -39.68810212526338
         },
         {
          "pc1": -81108.84255194846,
          "pc2": 27.398134503533477
         },
         {
          "pc1": -16569.841851518206,
          "pc2": 46.57842983128393
         },
         {
          "pc1": 20292.158284480036,
          "pc2": 49.033737366758906
         },
         {
          "pc1": -63793.84230735711,
          "pc2": -35.66521009660296
         },
         {
          "pc1": 45325.1582056867,
          "pc2": -41.32587796706565
         },
         {
          "pc1": -16564.842054787132,
          "pc2": -43.09655404690447
         },
         {
          "pc1": -12801.842323503564,
          "pc2": -40.21259824410416
         },
         {
          "pc1": -64493.8420973803,
          "pc2": 46.964280007227266
         },
         {
          "pc1": -64493.84210750949,
          "pc2": 47.96397736087525
         },
         {
          "pc1": -45595.84134046984,
          "pc2": -5.696734630780787
         },
         {
          "pc1": -19600.84204381554,
          "pc2": 46.42662901082691
         },
         {
          "pc1": 98603.1579680341,
          "pc2": 48.58450437963345
         },
         {
          "pc1": 44875.158263814454,
          "pc2": -5.072672679940446
         },
         {
          "pc1": 95525.15772966547,
          "pc2": 48.40322485824004
         },
         {
          "pc1": -12801.842374346412,
          "pc2": -35.21423233308468
         },
         {
          "pc1": 45325.157303101536,
          "pc2": 48.652433960787356
         },
         {
          "pc1": 12001.15797126192,
          "pc2": -39.78523720619938
         },
         {
          "pc1": -63991.842482478365,
          "pc2": -4.588276297931065
         },
         {
          "pc1": -67349.8421589711,
          "pc2": -43.654325678440344
         },
         {
          "pc1": 45325.158205021515,
          "pc2": -41.32628626848596
         },
         {
          "pc1": -65305.841549439734,
          "pc2": -35.19820903592396
         },
         {
          "pc1": -65670.84181823734,
          "pc2": 1.854354388215386
         },
         {
          "pc1": -62384.84273613019,
          "pc2": 48.591006064155266
         },
         {
          "pc1": -65228.84164927375,
          "pc2": -39.28538431737673
         },
         {
          "pc1": -63793.84230715793,
          "pc2": -35.66508783949196
         },
         {
          "pc1": -81108.84187975983,
          "pc2": -39.58555781394679
         },
         {
          "pc1": 67800.15715043298,
          "pc2": 28.650198790345804
         },
         {
          "pc1": -63991.84231263878,
          "pc2": -21.584577863550063
         },
         {
          "pc1": 12001.15745813599,
          "pc2": 11.201453330384043
         },
         {
          "pc1": -13999.841806057828,
          "pc2": -5.686828665427822
         },
         {
          "pc1": -65305.8417221375,
          "pc2": -35.307939336403784
         },
         {
          "pc1": -62384.841874039725,
          "pc2": -37.388502916830184
         },
         {
          "pc1": 14776.158159586677,
          "pc2": -41.650923823453816
         },
         {
          "pc1": -16564.842225749544,
          "pc2": -26.100941694082973
         },
         {
          "pc1": -67349.84311280963,
          "pc2": 51.32210018012702
         },
         {
          "pc1": -45595.840978917615,
          "pc2": -41.68774134678131
         },
         {
          "pc1": -81108.8418697348,
          "pc2": -40.58531909593143
         },
         {
          "pc1": -62384.84182374652,
          "pc2": -42.38720620148038
         },
         {
          "pc1": -16569.841110369107,
          "pc2": -27.404337135139883
         },
         {
          "pc1": -16569.8418624859,
          "pc2": 47.577612491827225
         },
         {
          "pc1": -13999.842337785642,
          "pc2": 47.30027336564568
         },
         {
          "pc1": 12001.157840936386,
          "pc2": -26.788340540399023
         },
         {
          "pc1": 12001.157970027338,
          "pc2": -39.785995013635485
         },
         {
          "pc1": -12801.84315628366,
          "pc2": 42.76715746095156
         },
         {
          "pc1": -63793.842227769506,
          "pc2": -43.663676456416994
         },
         {
          "pc1": 98603.15789397077,
          "pc2": 52.56195724648964
         },
         {
          "pc1": -45595.84187179701,
          "pc2": 47.2906133144053
         }
        ],
        "data-184ffbf9b793c8d222d2ad5949000fd6": [
         {
          "pc1": 10406.157712272567,
          "pc2": 37.506992697049924
         },
         {
          "pc1": -16564.84278627457,
          "pc2": 29.886228588301655
         },
         {
          "pc1": 81316.1572654241,
          "pc2": 46.964588257066396
         },
         {
          "pc1": -67349.84286138004,
          "pc2": 26.328561358626693
         },
         {
          "pc1": 98823.1579426708,
          "pc2": 37.5030188565387
         },
         {
          "pc1": -13999.841635202609,
          "pc2": -22.682506813106787
         },
         {
          "pc1": 81316.15799716923,
          "pc2": -26.018036190503757
         },
         {
          "pc1": -65228.842019781405,
          "pc2": -2.2939597707076937
         },
         {
          "pc1": 12001.157569887007,
          "pc2": 0.2049849577607676
         },
         {
          "pc1": 101121.15678833985,
          "pc2": 48.865306260954384
         },
         {
          "pc1": -45595.84115900572,
          "pc2": -23.6918156884549
         },
         {
          "pc1": -65670.84156761285,
          "pc2": -23.139678594661078
         },
         {
          "pc1": -65305.8415194528,
          "pc2": -38.19754701098046
         },
         {
          "pc1": -1653.841634574469,
          "pc2": -40.672988392294535
         },
         {
          "pc1": 98823.15890709354,
          "pc2": -40.36263277326167
         },
         {
          "pc1": 81316.15815763298,
          "pc2": -42.014177971951895
         },
         {
          "pc1": -12801.842544756148,
          "pc2": -18.218280740111666
         },
         {
          "pc1": 12001.157710049432,
          "pc2": -13.791788480997404
         },
         {
          "pc1": 10406.158032729509,
          "pc2": 5.514420290063177
         },
         {
          "pc1": -65228.84192971493,
          "pc2": -11.29190883428016
         },
         {
          "pc1": 45325.158035260996,
          "pc2": -24.329936173326722
         },
         {
          "pc1": -19600.84136241759,
          "pc2": -21.55732528283686
         },
         {
          "pc1": 103638.15766533231,
          "pc2": -32.04966429330187
         },
         {
          "pc1": 26275.15796114172,
          "pc2": -31.60468095391285
         },
         {
          "pc1": -65305.84166974482,
          "pc2": -23.201076451889413
         },
         {
          "pc1": -1653.842507995997,
          "pc2": 46.30548020000115
         },
         {
          "pc1": 10406.158273515988,
          "pc2": -18.47973661980076
         },
         {
          "pc1": 12680.157509698678,
          "pc2": 2.1856874794663654
         },
         {
          "pc1": -63793.84233709622,
          "pc2": -32.66572000010301
         },
         {
          "pc1": -45595.84167028282,
          "pc2": 27.296009692761896
         },
         {
          "pc1": 95525.15783994319,
          "pc2": 37.405852156299545
         },
         {
          "pc1": -68985.84211640054,
          "pc2": -23.520495084390795
         },
         {
          "pc1": -19600.841392921462,
          "pc2": -18.558304616312704
         },
         {
          "pc1": -65236.84220309173,
          "pc2": 53.93287003900365
         },
         {
          "pc1": -68985.84210628731,
          "pc2": -24.520202237272855
         },
         {
          "pc1": -67349.84226869389,
          "pc2": -32.65661233645776
         },
         {
          "pc1": -16564.843027402385,
          "pc2": 53.8801759812082
         },
         {
          "pc1": -81108.84218051107,
          "pc2": -9.592719354407512
         },
         {
          "pc1": 23980.157468520352,
          "pc2": 53.581714283062816
         },
         {
          "pc1": 17860.15779127462,
          "pc2": 5.43303905166491
         },
         {
          "pc1": 34832.15843346484,
          "pc2": -1.0374749767887719
         },
         {
          "pc1": -45595.841671296184,
          "pc2": 27.295387674712433
         },
         {
          "pc1": 20292.159036407542,
          "pc2": -25.94832845112666
         },
         {
          "pc1": 14776.157959060009,
          "pc2": -21.655714049187566
         },
         {
          "pc1": -65236.842092816274,
          "pc2": 42.935495937172576
         },
         {
          "pc1": 23980.158230960576,
          "pc2": -22.399813473537534
         },
         {
          "pc1": -57807.841104839405,
          "pc2": -21.76327766323045
         },
         {
          "pc1": 26275.157659316308,
          "pc2": -1.6125018428386015
         },
         {
          "pc1": 17860.15761093487,
          "pc2": 23.4288102553969
         },
         {
          "pc1": -13999.841534952197,
          "pc2": -32.68011963295321
         },
         {
          "pc1": -68985.84261781829,
          "pc2": 26.46746728945893
         },
         {
          "pc1": -65305.841932598,
          "pc2": -14.312912284529554
         },
         {
          "pc1": -65305.841932598,
          "pc2": -14.312912284529554
         },
         {
          "pc1": -65305.84165969239,
          "pc2": -24.20082093518705
         },
         {
          "pc1": 98823.158230991,
          "pc2": 39.698530173961245
         },
         {
          "pc1": -65236.841541530994,
          "pc2": -12.051431034236343
         },
         {
          "pc1": -67788.84186174556,
          "pc2": 10.861156160467212
         },
         {
          "pc1": -65305.84244168511,
          "pc2": 53.78053479484498
         },
         {
          "pc1": 103638.15770532224,
          "pc2": -36.04877708261867
         },
         {
          "pc1": -16564.84207484406,
          "pc2": -41.09703568260695
         },
         {
          "pc1": -62384.842044363555,
          "pc2": -20.392498594645172
         },
         {
          "pc1": -62384.84213457221,
          "pc2": -11.394636790919105
         },
         {
          "pc1": 10406.158383531449,
          "pc2": -29.477270309158406
         },
         {
          "pc1": -16569.841291028908,
          "pc2": -9.408762382719837
         },
         {
          "pc1": 98603.15806877027,
          "pc2": 38.587189736481406
         },
         {
          "pc1": -45595.84144973192,
          "pc2": 5.301261489099746
         },
         {
          "pc1": -67349.8422714238,
          "pc2": -32.658288005486725
         },
         {
          "pc1": -81108.84188946863,
          "pc2": -38.58560241380119
         },
         {
          "pc1": -45595.84116862405,
          "pc2": -22.69180475931612
         },
         {
          "pc1": -62384.8421546223,
          "pc2": -9.395114226949815
         },
         {
          "pc1": -63991.84306412458,
          "pc2": 53.39775906647859
         },
         {
          "pc1": -67788.8421433643,
          "pc2": 38.85390883339229
         },
         {
          "pc1": 34832.15861420599,
          "pc2": -19.032999799777993
         },
         {
          "pc1": 67800.15775203961,
          "pc2": -31.335414200396112
         },
         {
          "pc1": -65228.84192997492,
          "pc2": -11.292068421806729
         },
         {
          "pc1": -12801.842454473759,
          "pc2": -27.216097280708855
         },
         {
          "pc1": -65305.841880282824,
          "pc2": -2.2060969962950234
         },
         {
          "pc1": 44875.15854443123,
          "pc2": -33.066040371462044
         },
         {
          "pc1": -1653.8418964684838,
          "pc2": -14.679958001062067
         },
         {
          "pc1": -16569.8411698154,
          "pc2": -21.40533734367179
         },
         {
          "pc1": -81108.84266183163,
          "pc2": 38.39574938654499
         },
         {
          "pc1": -12801.842494630939,
          "pc2": -23.217087150034878
         },
         {
          "pc1": -65670.84218916387,
          "pc2": 38.84552182164718
         },
         {
          "pc1": 81316.15729547413,
          "pc2": 43.96528901231605
         },
         {
          "pc1": 101121.15724940358,
          "pc2": 2.876233160558227
         },
         {
          "pc1": -65228.84203999037,
          "pc2": -0.29453473244908823
         },
         {
          "pc1": -13999.842096559001,
          "pc2": 23.306386634664435
         },
         {
          "pc1": -62384.84186386112,
          "pc2": -38.3881699395155
         },
         {
          "pc1": 26275.157791310885,
          "pc2": -14.608374022046625
         },
         {
          "pc1": 98823.15836307789,
          "pc2": -4.487350689221366
         },
         {
          "pc1": 67800.15705091544,
          "pc2": 38.64826144169988
         },
         {
          "pc1": -1653.8424779208735,
          "pc2": 43.30619635404722
         },
         {
          "pc1": -67788.84162114457,
          "pc2": -13.133114607164222
         },
         {
          "pc1": -63793.84251788297,
          "pc2": -14.670223174925466
         },
         {
          "pc1": 97451.15908151375,
          "pc2": -41.2710205339855
         },
         {
          "pc1": 45325.15778421913,
          "pc2": 0.663840629572884
         },
         {
          "pc1": 12680.157098695558,
          "pc2": 43.17591450637277
         },
         {
          "pc1": -12801.842314196165,
          "pc2": -41.21280002499254
         },
         {
          "pc1": -12801.842534303109,
          "pc2": -19.217779309296724
         },
         {
          "pc1": -64493.84160611223,
          "pc2": -2.023997611989733
         },
         {
          "pc1": -67349.84263962042,
          "pc2": 4.334555096974034
         },
         {
          "pc1": 67800.15690024561,
          "pc2": 53.644500085584184
         },
         {
          "pc1": 12001.157699500225,
          "pc2": -12.792348940531971
         },
         {
          "pc1": -64493.841676032855,
          "pc2": 4.974487683017973
         },
         {
          "pc1": 98823.15793263094,
          "pc2": 38.50277103923454
         },
         {
          "pc1": -13999.842407891752,
          "pc2": 54.29864480288588
         },
         {
          "pc1": 44875.15831417267,
          "pc2": -10.071336067709005
         },
         {
          "pc1": 103638.15731434565,
          "pc2": 2.941912914782407
         },
         {
          "pc1": -12801.842504637736,
          "pc2": -22.217314668925564
         },
         {
          "pc1": 45325.15797467286,
          "pc2": -18.331637260410975
         },
         {
          "pc1": -65305.84179018592,
          "pc2": -11.204027394659704
         },
         {
          "pc1": -67788.84229282232,
          "pc2": 53.85089128580685
         },
         {
          "pc1": -65228.84165922431,
          "pc2": -38.28557730563301
         },
         {
          "pc1": -45595.841941409744,
          "pc2": 54.28928759464183
         },
         {
          "pc1": 98823.15834367248,
          "pc2": -2.487432422847021
         },
         {
          "pc1": 81316.1581375198,
          "pc2": -40.01469413828876
         },
         {
          "pc1": -65236.84148138075,
          "pc2": -18.049998726144203
         },
         {
          "pc1": -64493.84173647881,
          "pc2": 10.972873855780115
         },
         {
          "pc1": 26275.157659417415,
          "pc2": -1.6124397810227142
         },
         {
          "pc1": -81108.84216097185,
          "pc2": -11.592555493867595
         },
         {
          "pc1": 101121.15763044334,
          "pc2": -35.114641425755615
         },
         {
          "pc1": -64493.84159623239,
          "pc2": -3.0238480203415516
         },
         {
          "pc1": 23980.158380393535,
          "pc2": -37.39681132474854
         },
         {
          "pc1": -45595.84115945653,
          "pc2": -23.69209240016032
         },
         {
          "pc1": 17860.157961811314,
          "pc2": -11.562834614065604
         },
         {
          "pc1": -13999.841454956366,
          "pc2": -40.6783354123527
         },
         {
          "pc1": 34832.15803275361,
          "pc2": 38.9531545553313
         },
         {
          "pc1": 95525.15818050041,
          "pc2": 3.4137879829363587
         },
         {
          "pc1": -65670.84171798847,
          "pc2": -8.143259364891433
         },
         {
          "pc1": -81108.84241120561,
          "pc2": 13.401717336928916
         },
         {
          "pc1": -63991.842322492004,
          "pc2": -20.584711123141428
         },
         {
          "pc1": -67349.84286118619,
          "pc2": 26.328680349326333
         },
         {
          "pc1": -16569.84193242249,
          "pc2": 54.57608798760083
         },
         {
          "pc1": 97451.15810900493,
          "pc2": 55.705774822354435
         },
         {
          "pc1": -57807.841094793075,
          "pc2": -22.76302587956964
         },
         {
          "pc1": -81108.84216109045,
          "pc2": -11.592628288177961
         },
         {
          "pc1": -12801.842705172772,
          "pc2": -2.2221100275914663
         },
         {
          "pc1": -63991.84211187568,
          "pc2": -41.57964251582576
         },
         {
          "pc1": -81108.84225080494,
          "pc2": -2.5944631748253735
         },
         {
          "pc1": 98603.15907797609,
          "pc2": -38.24356825980831
         },
         {
          "pc1": 17860.157731124375,
          "pc2": 11.43160674357277
         },
         {
          "pc1": -16564.84259623059,
          "pc2": 10.890499184642877
         },
         {
          "pc1": 12680.157419496874,
          "pc2": 11.183553482864188
         },
         {
          "pc1": -81108.84279203857,
          "pc2": 51.392718846655725
         },
         {
          "pc1": 98603.15887077358,
          "pc2": -41.393712822290034
         },
         {
          "pc1": 45325.15816512356,
          "pc2": -37.327117016915615
         },
         {
          "pc1": 67800.15700016153,
          "pc2": 43.64668194845212
         },
         {
          "pc1": -67349.8424814183,
          "pc2": -11.662974909303161
         },
         {
          "pc1": -63991.84220233748,
          "pc2": -32.58193609995451
         },
         {
          "pc1": 98823.15846470089,
          "pc2": 3.626071295992105
         },
         {
          "pc1": 23980.15832083853,
          "pc2": -31.39787826139828
         },
         {
          "pc1": 10406.158473864012,
          "pc2": -38.475056052162735
         },
         {
          "pc1": -16569.841200237937,
          "pc2": -18.40626674771681
         },
         {
          "pc1": 34832.15876437712,
          "pc2": -34.02954455307
         },
         {
          "pc1": -62384.84263582426,
          "pc2": 38.59342730831305
         },
         {
          "pc1": -63991.84275371476,
          "pc2": 22.404934409200845
         },
         {
          "pc1": -45595.84101865514,
          "pc2": -37.688473636239905
         },
         {
          "pc1": 98823.15834340337,
          "pc2": -2.487597609935925
         },
         {
          "pc1": -68985.84223648284,
          "pc2": -11.523225777709213
         },
         {
          "pc1": 67800.15713082155,
          "pc2": 30.649990599937404
         }
        ],
        "data-3945f92b7a018ffe00166abcbb89e28a": [
         {
          "pc1": -12801.843205675263,
          "pc2": 47.7664141690126
         },
         {
          "pc1": -45595.84191133462,
          "pc2": 51.290003748687894
         },
         {
          "pc1": -81108.84221011105,
          "pc2": -6.59314386458193
         },
         {
          "pc1": -65305.842411681464,
          "pc2": 50.78120708565276
         },
         {
          "pc1": -12801.843236465746,
          "pc2": 50.76525891595336
         },
         {
          "pc1": -65305.842411593294,
          "pc2": 50.78126121475533
         },
         {
          "pc1": -13999.841805628308,
          "pc2": -5.6865650193678485
         },
         {
          "pc1": -62384.842706088115,
          "pc2": 45.59170191978788
         },
         {
          "pc1": -65305.84255422162,
          "pc2": 47.672243568595114
         },
         {
          "pc1": -62384.84275608979,
          "pc2": 50.59058415711772
         },
         {
          "pc1": -45595.84191189717,
          "pc2": 51.289658442343864
         }
        ],
        "data-8212933167f03a871ad7ec018f2214b9": [
         {
          "pc1": -45595.84113940645,
          "pc2": -25.69161496412961
         },
         {
          "pc1": -64493.84165638264,
          "pc2": 2.9747196715663056
         },
         {
          "pc1": 98823.15878212117,
          "pc2": -15.288491990007378
         }
        ],
        "data-84fa49d10a6e92ddf33adf015a2dde20": [
         {
          "pc1": -64493.84189658375,
          "pc2": 26.96923588668012
         },
         {
          "pc1": -64493.841455790585,
          "pc2": -17.02044997250319
         },
         {
          "pc1": 103638.15695408807,
          "pc2": 38.93371430200441
         },
         {
          "pc1": -63991.84227236683,
          "pc2": -25.583517533064647
         },
         {
          "pc1": -12801.842473879185,
          "pc2": -25.21617901433451
         },
         {
          "pc1": 98823.15792235163,
          "pc2": 39.502376233419085
         },
         {
          "pc1": -67349.84262959538,
          "pc2": 3.3347938149893914
         },
         {
          "pc1": 101121.15736019332,
          "pc2": -8.120825265946168
         },
         {
          "pc1": -16569.841782255924,
          "pc2": 39.579540434527665
         },
         {
          "pc1": 103638.15747476986,
          "pc2": -13.054253131435843
         },
         {
          "pc1": -13999.842257516133,
          "pc2": 39.302225573116246
         },
         {
          "pc1": 101121.15749000458,
          "pc2": -21.11803760707321
         },
         {
          "pc1": -62384.842074438675,
          "pc2": -17.39321474869124
         },
         {
          "pc1": 14776.157207183438,
          "pc2": 53.32638303292104
         },
         {
          "pc1": 101121.15759076926,
          "pc2": -31.11533475159296
         },
         {
          "pc1": -68985.8422567511,
          "pc2": -9.523837136605788
         },
         {
          "pc1": 81316.15775665111,
          "pc2": -2.02371456018111
         },
         {
          "pc1": 95525.15765949244,
          "pc2": 55.40155523202313
         },
         {
          "pc1": 45325.15789397992,
          "pc2": -10.333849380899963
         },
         {
          "pc1": -65236.84152175763,
          "pc2": -14.051123451596476
         },
         {
          "pc1": -57807.84136546918,
          "pc2": 4.230528734015719
         },
         {
          "pc1": -65670.84162790031,
          "pc2": -17.141195129503355
         },
         {
          "pc1": -16564.842756199447,
          "pc2": 26.886944742347723
         },
         {
          "pc1": 81316.15794710715,
          "pc2": -21.019191050274387
         },
         {
          "pc1": 81316.15796736094,
          "pc2": -23.018588557351507
         },
         {
          "pc1": 103638.15748498951,
          "pc2": -14.053894956090659
         },
         {
          "pc1": -12801.8426550316,
          "pc2": -7.220906638280593
         },
         {
          "pc1": -65305.84177000737,
          "pc2": -13.203471098126094
         },
         {
          "pc1": 10406.158263305455,
          "pc2": -17.480089195583606
         },
         {
          "pc1": 81316.15790679031,
          "pc2": -17.02027891194129
         },
         {
          "pc1": -16569.84126057786,
          "pc2": -12.40781548004251
         },
         {
          "pc1": -65236.841741937555,
          "pc2": 7.943852467600652
         },
         {
          "pc1": 95525.15848086696,
          "pc2": -26.579286591481427
         },
         {
          "pc1": 26275.157961736586,
          "pc2": -31.604315815785558
         },
         {
          "pc1": 14776.157738534945,
          "pc2": 0.33905001990119793
         },
         {
          "pc1": 98823.15846474726,
          "pc2": 3.626099760433978
         },
         {
          "pc1": 67800.15720066235,
          "pc2": 23.651456308759265
         },
         {
          "pc1": -64493.84142571545,
          "pc2": -20.019733818457123
         },
         {
          "pc1": 95525.15796989776,
          "pc2": 24.408727774964202
         },
         {
          "pc1": 20292.15885586786,
          "pc2": -7.952679971135861
         },
         {
          "pc1": 12001.157819800721,
          "pc2": -24.789484324347683
         },
         {
          "pc1": 20292.158354638603,
          "pc2": 42.03539812700213
         },
         {
          "pc1": -1653.8418964684838,
          "pc2": -14.679958001062067
         },
         {
          "pc1": -65305.84217113748,
          "pc2": 26.786901320756726
         },
         {
          "pc1": -13999.841625279436,
          "pc2": -23.682330623537506
         },
         {
          "pc1": -64493.84130506755,
          "pc2": -32.01665595227389
         },
         {
          "pc1": 67800.15754155478,
          "pc2": -10.340402080688087
         },
         {
          "pc1": -16564.84236556341,
          "pc2": -12.103954305380555
         },
         {
          "pc1": 20292.15885594236,
          "pc2": -7.952634241376789
         },
         {
          "pc1": 12680.157008274813,
          "pc2": 52.173646120274526
         },
         {
          "pc1": -16569.841240338108,
          "pc2": -14.407221619778237
         },
         {
          "pc1": 103638.15692358722,
          "pc2": 41.93273683504934
         },
         {
          "pc1": 10406.15819331566,
          "pc2": -10.481646363923618
         },
         {
          "pc1": 18956.15761535307,
          "pc2": 36.521988233250184
         },
         {
          "pc1": 103638.1575549702,
          "pc2": -21.052343387312987
         },
         {
          "pc1": 23980.158381336194,
          "pc2": -37.396232703307184
         },
         {
          "pc1": -68985.84246718878,
          "pc2": 11.471203914174295
         },
         {
          "pc1": 101121.15758974565,
          "pc2": -31.115963069150045
         },
         {
          "pc1": -19600.84135276657,
          "pc2": -22.557316146877262
         },
         {
          "pc1": -67349.84250146836,
          "pc2": -9.663452345333873
         },
         {
          "pc1": 98823.15878657639,
          "pc2": -28.36563037905144
         },
         {
          "pc1": -16569.841370316222,
          "pc2": -1.4101117039789266
         },
         {
          "pc1": -68985.84202634088,
          "pc2": -32.518448347635
         },
         {
          "pc1": -57807.84094415214,
          "pc2": -37.75928225540135
         },
         {
          "pc1": -63991.842492570286,
          "pc2": -3.588556079403551
         },
         {
          "pc1": -57807.841245459094,
          "pc2": -7.766784902534349
         },
         {
          "pc1": -12801.842484876535,
          "pc2": -24.217014552368816
         },
         {
          "pc1": -19600.84144238377,
          "pc2": -13.559091304859765
         },
         {
          "pc1": 98823.158464802,
          "pc2": 3.626133357807993
         },
         {
          "pc1": -64493.84151603206,
          "pc2": -11.021938276218698
         },
         {
          "pc1": -16569.84153165955,
          "pc2": 14.585490186334006
         },
         {
          "pc1": -65228.84187943082,
          "pc2": -16.290617718492697
         },
         {
          "pc1": 95525.1578094971,
          "pc2": 40.40490828671848
         },
         {
          "pc1": -62384.84208453557,
          "pc2": -16.393497563259995
         },
         {
          "pc1": 45325.15802482013,
          "pc2": -23.330430138058546
         },
         {
          "pc1": -45595.841479472554,
          "pc2": 8.300750652339318
         },
         {
          "pc1": 67800.15720055818,
          "pc2": 23.6513923804226
         },
         {
          "pc1": 44875.158584426485,
          "pc2": -37.06514989436749
         },
         {
          "pc1": 101121.15683859508,
          "pc2": 43.86657964479445
         },
         {
          "pc1": -67788.84175082167,
          "pc2": -0.1358199058078305
         },
         {
          "pc1": -64493.841535978005,
          "pc2": -9.022351783912745
         },
         {
          "pc1": 17860.15734009227,
          "pc2": 50.422262676969645
         },
         {
          "pc1": -81108.84220107201,
          "pc2": -7.593510365929024
         },
         {
          "pc1": -13999.841695554693,
          "pc2": -16.684063011515597
         },
         {
          "pc1": -19600.841382467668,
          "pc2": -19.55780271886757
         },
         {
          "pc1": -13999.842276823489,
          "pc2": 41.3022040347857
         },
         {
          "pc1": 67800.157431534,
          "pc2": 0.6571283422581926
         },
         {
          "pc1": 45325.157743869626,
          "pc2": 4.662732702807613
         },
         {
          "pc1": -62384.84215467778,
          "pc2": -9.395148290954026
         },
         {
          "pc1": 18956.158357047992,
          "pc2": -37.46044369269387
         },
         {
          "pc1": 103638.1574444697,
          "pc2": -10.055107408019532
         },
         {
          "pc1": -64493.84148522409,
          "pc2": -14.02077229066499
         },
         {
          "pc1": -67788.84148974488,
          "pc2": -26.12935192449954
         },
         {
          "pc1": -45595.84179094595,
          "pc2": 39.29292249397477
         },
         {
          "pc1": -19600.841462967517,
          "pc2": -11.55989631528712
         },
         {
          "pc1": -19600.841993995182,
          "pc2": 41.42763548219565
         },
         {
          "pc1": -13999.841865983055,
          "pc2": 0.31187714901764935
         },
         {
          "pc1": 26275.157520256565,
          "pc2": 12.384948443016905
         },
         {
          "pc1": 17860.157731227002,
          "pc2": 11.431669738649044
         },
         {
          "pc1": -65305.8418203485,
          "pc2": -8.204797211178159
         },
         {
          "pc1": -81108.84219104698,
          "pc2": -8.593271647913664
         },
         {
          "pc1": -63991.84256319866,
          "pc2": 3.4094947828929434
         },
         {
          "pc1": -13999.84174590758,
          "pc2": -11.68539635733568
         },
         {
          "pc1": -12801.84258415464,
          "pc2": -14.218804912503442
         },
         {
          "pc1": -65670.84172798386,
          "pc2": -7.143479884329201
         },
         {
          "pc1": -57807.84118475314,
          "pc2": -13.765011487769923
         },
         {
          "pc1": 44875.158324185926,
          "pc2": -11.071104582461663
         },
         {
          "pc1": 81316.15795706908,
          "pc2": -22.01899106256518
         },
         {
          "pc1": -64493.841766658086,
          "pc2": 13.972093773397377
         },
         {
          "pc1": -63793.842587522326,
          "pc2": -7.671565226745743
         },
         {
          "pc1": -12801.842594453356,
          "pc2": -13.21921161738887
         },
         {
          "pc1": 14776.157327508257,
          "pc2": 41.329262581271564
         },
         {
          "pc1": 14776.157367608424,
          "pc2": 37.330217453332985
         },
         {
          "pc1": -65305.841900461375,
          "pc2": -0.20665329282863173
         },
         {
          "pc1": -16569.841531629896,
          "pc2": 14.585508384911595
         },
         {
          "pc1": -63793.84269779777,
          "pc2": 3.3258088750853316
         },
         {
          "pc1": 18956.15811655267,
          "pc2": -13.466108063465391
         },
         {
          "pc1": 67800.1571605622,
          "pc2": 27.650501436697834
         },
         {
          "pc1": -45595.84181063341,
          "pc2": 41.2926676405469
         },
         {
          "pc1": -65305.8419426945,
          "pc2": -13.313194865783208
         },
         {
          "pc1": -64493.84174616937,
          "pc2": 11.9728404550504
         },
         {
          "pc1": 12680.157158560725,
          "pc2": 37.17717182814191
         },
         {
          "pc1": -65670.84162787258,
          "pc2": -17.14117809750125
         },
         {
          "pc1": 103638.1575650819,
          "pc2": -22.05205147345544
         },
         {
          "pc1": 98823.15809387548,
          "pc2": 40.61730079123979
         },
         {
          "pc1": -65228.84212051987,
          "pc2": 7.7033534725537764
         },
         {
          "pc1": 26275.15710960808,
          "pc2": 53.3753931529091
         },
         {
          "pc1": -65305.842123139155,
          "pc2": 4.6825119429819235
         },
         {
          "pc1": -65305.84191254792,
          "pc2": -16.31243484849884
         },
         {
          "pc1": 23980.15752829468,
          "pc2": 47.58291584252372
         },
         {
          "pc1": -57807.84119506478,
          "pc2": -12.765426125368661
         },
         {
          "pc1": 45325.158034595814,
          "pc2": -24.33034447474703
         },
         {
          "pc1": 97451.1584198557,
          "pc2": 24.713220810589586
         },
         {
          "pc1": 45325.15795472921,
          "pc2": -16.332049368214445
         },
         {
          "pc1": 101121.15751056893,
          "pc2": -23.117244495715816
         },
         {
          "pc1": -63991.84249360569,
          "pc2": -3.5891916297286546
         },
         {
          "pc1": 98603.15827922392,
          "pc2": 17.592158484935407
         },
         {
          "pc1": 103638.15757529167,
          "pc2": -23.051699364302788
         },
         {
          "pc1": 20292.159016291323,
          "pc2": -23.948846483984315
         },
         {
          "pc1": 23980.158260688284,
          "pc2": -25.39931056949041
         },
         {
          "pc1": -65305.84198279466,
          "pc2": -9.314149737844634
         },
         {
          "pc1": 98603.15903666416,
          "pc2": -34.24526694039999
         },
         {
          "pc1": -63991.84227253862,
          "pc2": -25.583622991488642
         },
         {
          "pc1": -45595.84140005752,
          "pc2": 0.3021783674711075
         },
         {
          "pc1": -45595.84137922213,
          "pc2": -1.6968621675071132
         },
         {
          "pc1": 81316.15785723524,
          "pc2": -12.021122529372095
         },
         {
          "pc1": 81316.1581074447,
          "pc2": -37.015410292334835
         },
         {
          "pc1": 10406.158022797214,
          "pc2": 6.514238500931566
         },
         {
          "pc1": -67349.8423410677,
          "pc2": -25.659632857088162
         },
         {
          "pc1": -12801.842484177901,
          "pc2": -24.216585719219943
         },
         {
          "pc1": 20292.15889599083,
          "pc2": -11.951711100168595
         },
         {
          "pc1": 101121.15738984234,
          "pc2": -11.120370658124193
         },
         {
          "pc1": 14776.157367463225,
          "pc2": 37.33012832696581
         },
         {
          "pc1": -65236.84157233745,
          "pc2": -9.052596086529658
         },
         {
          "pc1": -64493.84201713892,
          "pc2": 38.96621494938063
         },
         {
          "pc1": 45325.15780435359,
          "pc2": -1.3356301384447966
         },
         {
          "pc1": -65670.84165780857,
          "pc2": -14.141808858221703
         },
         {
          "pc1": 12680.157649787743,
          "pc2": -11.811130989105598
         },
         {
          "pc1": 81316.15774638964,
          "pc2": -1.0240984001870002
         },
         {
          "pc1": 18956.15813657311,
          "pc2": -15.465648826012266
         },
         {
          "pc1": 10406.158193162857,
          "pc2": -10.481740156592739
         },
         {
          "pc1": 26275.157729491595,
          "pc2": -8.610830816731102
         },
         {
          "pc1": 101121.15728972194,
          "pc2": -1.1226780445144826
         },
         {
          "pc1": -57807.8413249684,
          "pc2": 0.23172952018972381
         },
         {
          "pc1": 101121.1570390769,
          "pc2": 23.871342339346725
         },
         {
          "pc1": -13999.841756333251,
          "pc2": -10.685880989463614
         },
         {
          "pc1": 45325.158034595814,
          "pc2": -24.33034447474703
         },
         {
          "pc1": 103638.15751484645,
          "pc2": -17.053312724910455
         },
         {
          "pc1": 10406.157812178602,
          "pc2": 27.50916849372532
         },
         {
          "pc1": -81108.84218209915,
          "pc2": -9.59369414488412
         },
         {
          "pc1": 12680.157730169001,
          "pc2": -19.809110186996413
         },
         {
          "pc1": -63991.842352738946,
          "pc2": -17.585532735611494
         },
         {
          "pc1": -65236.841281464534,
          "pc2": -38.04558320445673
         },
         {
          "pc1": -13999.841715607436,
          "pc2": -14.684542080751996
         },
         {
          "pc1": -65670.84162773346,
          "pc2": -17.14109270417563
         },
         {
          "pc1": -65670.8416578367,
          "pc2": -14.1418261235389
         },
         {
          "pc1": 23980.158030459752,
          "pc2": -2.404587833844674
         },
         {
          "pc1": -65228.842120512265,
          "pc2": 7.703358138855722
         },
         {
          "pc1": -63793.84227789471,
          "pc2": -38.664870046493775
         },
         {
          "pc1": 14776.15726727819,
          "pc2": 47.327781277008974
         },
         {
          "pc1": -65305.841932669086,
          "pc2": -14.312955914452754
         },
         {
          "pc1": -65228.8419696562,
          "pc2": -7.292766180630908
         },
         {
          "pc1": 12001.157728962622,
          "pc2": -15.792008890422778
         },
         {
          "pc1": 45325.15751329368,
          "pc2": 27.657242188454408
         },
         {
          "pc1": 45325.15780435359,
          "pc2": -1.3356301384447966
         },
         {
          "pc1": -12801.842995883,
          "pc2": 26.770976949197273
         },
         {
          "pc1": -16569.841190569437,
          "pc2": -19.40624687926274
         },
         {
          "pc1": -57807.841325369016,
          "pc2": 0.23148360607714732
         },
         {
          "pc1": 17860.15816231214,
          "pc2": -31.55806025375846
         },
         {
          "pc1": -68985.84227731051,
          "pc2": -7.5246272148669116
         },
         {
          "pc1": 81316.1578268264,
          "pc2": -9.022043534073608
         },
         {
          "pc1": 98823.15828388029,
          "pc2": 3.511355051882514
         },
         {
          "pc1": -45595.841269281176,
          "pc2": -12.694441586623828
         },
         {
          "pc1": -65236.84157160612,
          "pc2": -9.052147188282412
         },
         {
          "pc1": 17860.158222121816,
          "pc2": -37.556836995993514
         },
         {
          "pc1": -67788.84189052986,
          "pc2": 13.861232344491647
         },
         {
          "pc1": 98603.15815567232,
          "pc2": 53.73446968277885
         },
         {
          "pc1": 17860.15798181274,
          "pc2": -13.562387042367346
         },
         {
          "pc1": -57807.84173652951,
          "pc2": 41.22161404053325
         },
         {
          "pc1": -19600.841633393215,
          "pc2": 5.4360454784518115
         },
         {
          "pc1": -67788.84162061167,
          "pc2": -13.132787499397773
         },
         {
          "pc1": -64493.84130506755,
          "pc2": -32.01665595227389
         },
         {
          "pc1": 18956.157444816374,
          "pc2": 53.517861898980705
         },
         {
          "pc1": -65670.84191848928,
          "pc2": 11.851966274801429
         },
         {
          "pc1": 34832.15873428374,
          "pc2": -31.03027190624073
         },
         {
          "pc1": -63793.84240697731,
          "pc2": -25.667210440325174
         },
         {
          "pc1": -64493.841625868874,
          "pc2": -0.02429492876531467
         }
        ],
        "data-f5a64f565f404de0935f844f3602b5f4": [
         {
          "pc1": -13999.842227109559,
          "pc2": 36.30314517792718
         },
         {
          "pc1": -65228.84193003649,
          "pc2": -11.292106218852496
         },
         {
          "pc1": -65670.84202879135,
          "pc2": 22.849324044575685
         },
         {
          "pc1": -12801.8429557988,
          "pc2": 22.77192202202461
         },
         {
          "pc1": 12001.157789725597,
          "pc2": -21.790200478393754
         },
         {
          "pc1": -67349.84232083138,
          "pc2": -27.659041096659763
         },
         {
          "pc1": -81108.84254252016,
          "pc2": 26.398006916846043
         },
         {
          "pc1": 14776.15783878536,
          "pc2": -9.658562799945232
         },
         {
          "pc1": -64493.84127469822,
          "pc2": -35.01575921234249
         },
         {
          "pc1": 23980.158380632238,
          "pc2": -37.39666480286741
         },
         {
          "pc1": -57807.84093399179,
          "pc2": -38.75896047721135
         },
         {
          "pc1": -16569.840989712073,
          "pc2": -39.40125366939431
         },
         {
          "pc1": -16569.841180377527,
          "pc2": -20.40590573591966
         },
         {
          "pc1": 67800.15785262453,
          "pc2": -41.33282170295689
         },
         {
          "pc1": 17860.157490085505,
          "pc2": 35.425608732212105
         },
         {
          "pc1": 103638.15705391276,
          "pc2": 28.935840169248983
         },
         {
          "pc1": -64493.84121528082,
          "pc2": -41.01477673575798
         },
         {
          "pc1": -65670.84190846424,
          "pc2": 10.852204992816784
         },
         {
          "pc1": 34832.15795246508,
          "pc2": 46.95119068210586
         },
         {
          "pc1": -65236.842022732984,
          "pc2": 35.937110501026524
         },
         {
          "pc1": -63793.84255772392,
          "pc2": -10.671018926090523
         },
         {
          "pc1": 14776.15809929123,
          "pc2": -35.65244525791312
         },
         {
          "pc1": 34832.15865407352,
          "pc2": -23.032187716556127
         },
         {
          "pc1": 34832.158393450576,
          "pc2": 2.9616228803617943
         },
         {
          "pc1": -57807.84093452622,
          "pc2": -38.75928851823819
         },
         {
          "pc1": -19600.841192291406,
          "pc2": -38.553450928872486
         },
         {
          "pc1": -65670.84159779745,
          "pc2": -20.140461943455183
         },
         {
          "pc1": -45595.841760958996,
          "pc2": 36.29358451891825
         },
         {
          "pc1": -65228.84184951459,
          "pc2": -19.289999090157306
         },
         {
          "pc1": -16569.8409993897,
          "pc2": -38.401279137410725
         },
         {
          "pc1": 26275.15733916345,
          "pc2": 30.380257216226003
         },
         {
          "pc1": 18956.15767545694,
          "pc2": 30.52339207690046
         },
         {
          "pc1": 44875.158474573334,
          "pc2": -26.067516579463295
         },
         {
          "pc1": 18956.15754506679,
          "pc2": 43.52024907913428
         },
         {
          "pc1": -57807.841626254056,
          "pc2": 30.224239938702173
         },
         {
          "pc1": 81316.15724555797,
          "pc2": 48.96422374554279
         },
         {
          "pc1": 98603.158053092,
          "pc2": 36.564991396117776
         },
         {
          "pc1": 67800.15696004842,
          "pc2": 47.64571914367738
         },
         {
          "pc1": -63793.84257769722,
          "pc2": -8.671449232471575
         },
         {
          "pc1": -81108.84216097185,
          "pc2": -11.592555493867595
         },
         {
          "pc1": -13999.841555832429,
          "pc2": -30.681106629156478
         },
         {
          "pc1": -63793.8430388491,
          "pc2": 37.317569738822
         },
         {
          "pc1": -13999.841555002278,
          "pc2": -30.680597068983925
         },
         {
          "pc1": -62384.84190399625,
          "pc2": -34.389146276565896
         },
         {
          "pc1": -63793.843198955554,
          "pc2": 53.313930836461616
         },
         {
          "pc1": 81316.15808781121,
          "pc2": -35.01563201501889
         },
         {
          "pc1": -81108.84270181319,
          "pc2": 42.39486730879393
         },
         {
          "pc1": 45325.15811512987,
          "pc2": -32.32822987996873
         },
         {
          "pc1": 81316.15794660995,
          "pc2": -21.019496226421687
         },
         {
          "pc1": 26275.157338561363,
          "pc2": 30.37988764511185
         },
         {
          "pc1": -13999.8414949539,
          "pc2": -36.67922728933787
         },
         {
          "pc1": 67800.15776236037,
          "pc2": -32.33499396323502
         },
         {
          "pc1": -45595.84109930628,
          "pc2": -29.690660092068175
         },
         {
          "pc1": 67800.15773205111,
          "pc2": -29.33585383938105
         },
         {
          "pc1": -68985.84214596135,
          "pc2": -20.520895563110187
         },
         {
          "pc1": 23980.158189917754,
          "pc2": -18.401346967040322
         },
         {
          "pc1": 98603.15791329485,
          "pc2": 50.56198905068448
         },
         {
          "pc1": -12801.843086379005,
          "pc2": 35.76866236670977
         },
         {
          "pc1": -45595.841630182666,
          "pc2": 23.29696456482332
         },
         {
          "pc1": -57807.84091477338,
          "pc2": -40.75899353461357
         },
         {
          "pc1": -1653.8418659760052,
          "pc2": -17.678985667039143
         },
         {
          "pc1": -63991.842632853964,
          "pc2": 10.40814293183858
         },
         {
          "pc1": 67800.15700005737,
          "pc2": 43.646618020115454
         },
         {
          "pc1": -45595.841048536415,
          "pc2": -34.68907079958633
         },
         {
          "pc1": -65670.84138743047,
          "pc2": -41.135546390843366
         },
         {
          "pc1": -62384.8427862166,
          "pc2": 53.58983627221841
         },
         {
          "pc1": 20292.158414718153,
          "pc2": 36.036787038486175
         },
         {
          "pc1": -16569.841882130415,
          "pc2": 49.57738400300535
         },
         {
          "pc1": 45325.15813517995,
          "pc2": -34.327752443938024
         },
         {
          "pc1": -65670.84160768335,
          "pc2": -19.14061526814492
         },
         {
          "pc1": 18956.158306922785,
          "pc2": -32.46163728277066
         },
         {
          "pc1": -16564.84211503393,
          "pc2": -37.09804561703134
         },
         {
          "pc1": -67788.84144952233,
          "pc2": -30.12832192497678
         },
         {
          "pc1": 17860.158272314675,
          "pc2": -42.55560187582941
         },
         {
          "pc1": 26275.157830390464,
          "pc2": -18.608045601021498
         },
         {
          "pc1": -12801.842835054344,
          "pc2": 10.77505915024256
         },
         {
          "pc1": 12001.157810117013,
          "pc2": -23.789513525405653
         },
         {
          "pc1": 67800.15780220588,
          "pc2": -36.33419541228881
         },
         {
          "pc1": -65236.841311154974,
          "pc2": -35.04606324362432
         },
         {
          "pc1": -63991.8420918256,
          "pc2": -43.579165079795054
         },
         {
          "pc1": -62384.84229497287,
          "pc2": 4.601543720835184
         },
         {
          "pc1": -64493.84215763468,
          "pc2": 52.96278377079847
         },
         {
          "pc1": 98823.15865179563,
          "pc2": -2.291595324207019
         },
         {
          "pc1": 20292.159036407542,
          "pc2": -25.94832845112666
         },
         {
          "pc1": 101121.157309642,
          "pc2": -3.122280402247053
         },
         {
          "pc1": 34832.158393655074,
          "pc2": 2.9617484038841537
         },
         {
          "pc1": -64493.8411951266,
          "pc2": -43.01423537139061
         },
         {
          "pc1": 17860.15749046789,
          "pc2": 35.4258434472
         },
         {
          "pc1": -62384.84183393957,
          "pc2": -41.38754804476876
         },
         {
          "pc1": 81316.15812755786,
          "pc2": -39.01489412599797
         },
         {
          "pc1": 10406.158383541333,
          "pc2": -29.47726424296587
         },
         {
          "pc1": 14776.157437757865,
          "pc2": 30.331872614013864
         },
         {
          "pc1": -65305.84196259329,
          "pc2": -11.313579442405187
         },
         {
          "pc1": 44875.15841410569,
          "pc2": -20.069143705661695
         },
         {
          "pc1": -67788.84141935292,
          "pc2": -33.127547908786575
         },
         {
          "pc1": 12680.15717887232,
          "pc2": 35.177809784959585
         },
         {
          "pc1": -64493.84152595295,
          "pc2": -10.022113065897384
         },
         {
          "pc1": 10406.15848388905,
          "pc2": -39.47481733414739
         },
         {
          "pc1": -63991.8429039444,
          "pc2": 37.40144323196786
         },
         {
          "pc1": 95525.15770932347,
          "pc2": 50.40256823621457
         },
         {
          "pc1": 34832.158844491525,
          "pc2": -42.02768753815913
         },
         {
          "pc1": -65670.84157790622,
          "pc2": -22.14008203313514
         },
         {
          "pc1": 12001.157339122907,
          "pc2": 23.199378952434383
         },
         {
          "pc1": 12001.15781086126,
          "pc2": -23.789056694445094
         },
         {
          "pc1": -65228.84227082631,
          "pc2": 22.699815165671136
         },
         {
          "pc1": -16564.842094894146,
          "pc2": -39.09751311863767
         },
         {
          "pc1": -62384.84214461398,
          "pc2": -10.394885774798741
         },
         {
          "pc1": -16569.841060243903,
          "pc2": -32.403143545063095
         },
         {
          "pc1": -57807.84170632286,
          "pc2": 38.22241092160299
         },
         {
          "pc1": 34832.1585138674,
          "pc2": -9.035441109034139
         },
         {
          "pc1": -81108.84200068978,
          "pc2": -27.588808799932256
         },
         {
          "pc1": -65305.84155960997,
          "pc2": -34.19853688030648
         },
         {
          "pc1": -65228.84184984377,
          "pc2": -19.29020114103158
         },
         {
          "pc1": 81316.15803733248,
          "pc2": -30.017042588136178
         },
         {
          "pc1": 45325.15731299506,
          "pc2": 47.652591951779044
         },
         {
          "pc1": -67788.84176985115,
          "pc2": 1.8643291091977636
         },
         {
          "pc1": -45595.841098855475,
          "pc2": -29.690383380362753
         },
         {
          "pc1": -63991.842302094505,
          "pc2": -22.584020437111764
         },
         {
          "pc1": 95525.15863109585,
          "pc2": -41.57579588087863
         },
         {
          "pc1": -68985.84277856257,
          "pc2": 42.463436884365244
         },
         {
          "pc1": 34832.15863412607,
          "pc2": -21.032602157510567
         },
         {
          "pc1": -65228.84184951459,
          "pc2": -19.289999090157306
         },
         {
          "pc1": -62384.84262581594,
          "pc2": 37.59365576046413
         },
         {
          "pc1": -67349.8429531266,
          "pc2": 35.325479169469006
         },
         {
          "pc1": -62384.84201435915,
          "pc2": -23.391825837207197
         },
         {
          "pc1": 14776.158089260109,
          "pc2": -34.652687708970035
         },
         {
          "pc1": -64493.8411951266,
          "pc2": -43.01423537139061
         },
         {
          "pc1": 98603.15817574746,
          "pc2": 51.734962517605986
         },
         {
          "pc1": 103638.15773604126,
          "pc2": -39.04766569279773
         },
         {
          "pc1": -65228.84173908025,
          "pc2": -30.28727566627769
         },
         {
          "pc1": 97451.15907135415,
          "pc2": -40.2713418455453
         },
         {
          "pc1": -65670.84157760824,
          "pc2": -22.139899114098846
         },
         {
          "pc1": 23980.15843052482,
          "pc2": -42.395614001630186
         },
         {
          "pc1": -12801.842314450832,
          "pc2": -41.212956346107745
         },
         {
          "pc1": 26275.157910652368,
          "pc2": -26.606098059852883
         },
         {
          "pc1": 20292.15838477986,
          "pc2": 39.03615487787513
         },
         {
          "pc1": 18956.158276874266,
          "pc2": -29.462337104759918
         },
         {
          "pc1": -45595.84178100909,
          "pc2": 38.29310708288754
         },
         {
          "pc1": -65305.841802272465,
          "pc2": -27.309808950329906
         },
         {
          "pc1": 12001.157589075772,
          "pc2": -1.7950662982190488
         },
         {
          "pc1": 17860.15782118782,
          "pc2": 2.4336558134795223
         },
         {
          "pc1": 34832.15884454931,
          "pc2": -42.02765207426434
         },
         {
          "pc1": 97451.15907165824,
          "pc2": -40.27115519346744
         },
         {
          "pc1": 34832.15875439616,
          "pc2": -33.02975620653406
         },
         {
          "pc1": -65236.841562165675,
          "pc2": -10.052267308886739
         },
         {
          "pc1": -16564.842205349007,
          "pc2": -28.10024914153253
         },
         {
          "pc1": -65305.841690022935,
          "pc2": -21.201693876978517
         },
         {
          "pc1": -65236.84204331899,
          "pc2": 37.93630409070859
         },
         {
          "pc1": -12801.843266540867,
          "pc2": 53.76454276190729
         },
         {
          "pc1": 44875.15841442308,
          "pc2": -20.068948887555436
         },
         {
          "pc1": 67800.15774201458,
          "pc2": -30.335652918411462
         },
         {
          "pc1": -12801.842524976699,
          "pc2": -20.21796942443024
         },
         {
          "pc1": -67349.84236949695,
          "pc2": -22.659338756762832
         },
         {
          "pc1": 23980.158180487953,
          "pc2": -17.40122031361327
         },
         {
          "pc1": -65305.842594196736,
          "pc2": 51.6713654572007
         },
         {
          "pc1": -19600.842114061532,
          "pc2": 53.424914588111314
         },
         {
          "pc1": -16564.8421847721,
          "pc2": -30.099448330776926
         },
         {
          "pc1": 44875.158634551684,
          "pc2": -42.06395630429071
         },
         {
          "pc1": 14776.158039286182,
          "pc2": -29.653788439638088
         },
         {
          "pc1": 26275.157990142667,
          "pc2": -34.60462414833183
         },
         {
          "pc1": 12680.157900413773,
          "pc2": -36.805163038721666
         },
         {
          "pc1": 97451.1590717829,
          "pc2": -40.271078666115514
         },
         {
          "pc1": -67788.84141061871,
          "pc2": -34.12810152884172
         },
         {
          "pc1": -19600.842114595198,
          "pc2": 53.42458701371468
         },
         {
          "pc1": 45325.15740322043,
          "pc2": 38.65474041391726
         },
         {
          "pc1": -65236.84140108617,
          "pc2": -26.04803111987721
         },
         {
          "pc1": -68985.84200603688,
          "pc2": -34.51781505711928
         },
         {
          "pc1": 10406.15770176707,
          "pc2": 38.50645906875155
         },
         {
          "pc1": -68985.8423675359,
          "pc2": 1.473224322994874
         },
         {
          "pc1": 12001.157789576595,
          "pc2": -21.790291937911903
         },
         {
          "pc1": 17860.15796078199,
          "pc2": -11.563466431349148
         },
         {
          "pc1": -67788.8414115363,
          "pc2": -34.12866475148665
         },
         {
          "pc1": -67349.84302217905,
          "pc2": 42.324497356159
         },
         {
          "pc1": 67800.15786261078,
          "pc2": -42.33260678308146
         },
         {
          "pc1": -16569.84191201586,
          "pc2": 52.57678427319284
         },
         {
          "pc1": 34832.158594067725,
          "pc2": -17.033531364911283
         },
         {
          "pc1": 34832.15882473186,
          "pc2": -40.02798672145549
         },
         {
          "pc1": 10406.158293724957,
          "pc2": -20.47916165805937
         },
         {
          "pc1": 12680.157098547315,
          "pc2": 43.1758235134848
         },
         {
          "pc1": 45325.157413708446,
          "pc2": 37.65526330972115
         },
         {
          "pc1": 17860.15806206172,
          "pc2": -21.56044743391203
         },
         {
          "pc1": 98823.15890709354,
          "pc2": -40.36263277326167
         },
         {
          "pc1": 18956.15819667394,
          "pc2": -21.464246848882773
         },
         {
          "pc1": -63793.842537397104,
          "pc2": -12.67037163666896
         },
         {
          "pc1": -16569.841049862323,
          "pc2": -33.402685977486456
         },
         {
          "pc1": -63793.84265842891,
          "pc2": -0.6736851511004862
         },
         {
          "pc1": -65305.84245382032,
          "pc2": 37.67472337484232
         },
         {
          "pc1": -45595.841059215236,
          "pc2": -33.68971081956909
         },
         {
          "pc1": -62384.84204443425,
          "pc2": -20.392541991253275
         },
         {
          "pc1": -65305.84244379528,
          "pc2": 36.674962092857676
         },
         {
          "pc1": -65305.842604221776,
          "pc2": 52.671126739185354
         },
         {
          "pc1": 101121.15730963896,
          "pc2": -3.1222822687678313
         },
         {
          "pc1": 95525.15767911152,
          "pc2": 53.40176808873346
         },
         {
          "pc1": 98603.15871616478,
          "pc2": -29.418381549665074
         },
         {
          "pc1": 20292.15910647792,
          "pc2": -32.946721819986024
         },
         {
          "pc1": 12001.157198589503,
          "pc2": 37.19592467565757
         },
         {
          "pc1": -62384.842635840985,
          "pc2": 38.59341704244876
         },
         {
          "pc1": 26275.157829788375,
          "pc2": -18.60841517213566
         },
         {
          "pc1": 18956.15762526712,
          "pc2": 35.522158823257136
         },
         {
          "pc1": 18956.157545125327,
          "pc2": 43.52028500965927
         },
         {
          "pc1": 17860.158021688643,
          "pc2": -17.561569826213333
         },
         {
          "pc1": -16564.842095073556,
          "pc2": -39.09762324336361
         },
         {
          "pc1": 12001.157048460953,
          "pc2": 52.19249556024048
         },
         {
          "pc1": -67788.84139988365,
          "pc2": -35.12742697822457
         },
         {
          "pc1": -65670.84232954257,
          "pc2": 52.84216250411498
         },
         {
          "pc1": 26275.15717821543,
          "pc2": 46.37610175424015
         },
         {
          "pc1": 95525.15860155212,
          "pc2": -38.57618586041864
         },
         {
          "pc1": 98603.15884055781,
          "pc2": -38.39451530292211
         },
         {
          "pc1": -62384.842676033135,
          "pc2": 42.59240570813379
         },
         {
          "pc1": 26275.157178647234,
          "pc2": 46.37636680019071
         },
         {
          "pc1": 98603.15803438977,
          "pc2": 38.56534129542216
         },
         {
          "pc1": 34832.15868414866,
          "pc2": -26.03147156251006
         },
         {
          "pc1": 98823.15865130532,
          "pc2": -2.291896300682563
         },
         {
          "pc1": -67788.84211183869,
          "pc2": 35.855515317849736
         },
         {
          "pc1": -1653.841614895369,
          "pc2": -42.67273867179881
         },
         {
          "pc1": 67800.15777215127,
          "pc2": -33.334898967319624
         },
         {
          "pc1": -65305.842433850055,
          "pc2": 35.6751518147026
         },
         {
          "pc1": -65228.841649013775,
          "pc2": -39.285224729850164
         },
         {
          "pc1": 34832.1585639926,
          "pc2": -14.034247518957358
         },
         {
          "pc1": -67788.84164992886,
          "pc2": -10.133038423139785
         },
         {
          "pc1": 34832.15806266832,
          "pc2": 35.953772250406296
         },
         {
          "pc1": 34832.158604092765,
          "pc2": -18.033292646895934
         },
         {
          "pc1": -16564.84283674035,
          "pc2": 34.88482594789767
         },
         {
          "pc1": 98823.15783239537,
          "pc2": 48.500392958369765
         },
         {
          "pc1": 26275.15797062549,
          "pc2": -32.604774476596084
         },
         {
          "pc1": -12801.842294111873,
          "pc2": -43.21230159060307
         },
         {
          "pc1": 14776.15771810476,
          "pc2": 2.3383392687731623
         },
         {
          "pc1": 17860.1575405931,
          "pc2": 30.427037037276776
         },
         {
          "pc1": -12801.84262497244,
          "pc2": -10.22020028346861
         },
         {
          "pc1": 34832.158804449144,
          "pc2": -38.02860694632577
         },
         {
          "pc1": -65228.84227070164,
          "pc2": 22.699891693023055
         },
         {
          "pc1": -1653.8417050439584,
          "pc2": -33.67484000428737
         },
         {
          "pc1": 98603.15804400125,
          "pc2": 37.565326166611634
         },
         {
          "pc1": -81108.84194053953,
          "pc2": -33.5873764918401
         },
         {
          "pc1": -13999.841464827841,
          "pc2": -39.678479871068745
         },
         {
          "pc1": 23980.157538528776,
          "pc2": 46.58328288384259
         },
         {
          "pc1": 98823.15892213042,
          "pc2": -29.28535945474977
         },
         {
          "pc1": 12001.157189308706,
          "pc2": 38.19614278860277
         },
         {
          "pc1": 67800.157832227,
          "pc2": -39.33351238898655
         },
         {
          "pc1": -65305.842130772005,
          "pc2": 22.788019046756087
         },
         {
          "pc1": -62384.8422949896,
          "pc2": 4.6015334549709035
         },
         {
          "pc1": -81108.84279215719,
          "pc2": 51.39264605234535
         },
         {
          "pc1": 98823.15824132998,
          "pc2": 38.69896161024698
         },
         {
          "pc1": -1653.8416152032542,
          "pc2": -42.67292765702765
         },
         {
          "pc1": 18956.15836699245,
          "pc2": -38.46025443747914
         },
         {
          "pc1": -1653.8416747688998,
          "pc2": -36.674001126500116
         },
         {
          "pc1": -13999.842237134599,
          "pc2": 37.302906459911824
         },
         {
          "pc1": -65670.84142726075,
          "pc2": -37.13633560918569
         },
         {
          "pc1": -65228.84227088788,
          "pc2": 22.699777368625366
         },
         {
          "pc1": 98603.1587169469,
          "pc2": -2.2522405022338607
         }
        ],
        "data-f7337a05bdb2478d8045bd9d6b285c47": [
         {
          "pc1": 45325.1576439528,
          "pc2": 14.660550373309494
         },
         {
          "pc1": 98823.15818464819,
          "pc2": 31.61978522711826
         },
         {
          "pc1": -67788.84150084408,
          "pc2": -25.130249990979934
         },
         {
          "pc1": 103638.15750511638,
          "pc2": -16.05337039041029
         },
         {
          "pc1": -65670.84194856441,
          "pc2": 14.851250120755354
         },
         {
          "pc1": 101121.15739986434,
          "pc2": -12.120133806629616
         },
         {
          "pc1": 10406.157591627694,
          "pc2": 49.50391669738746
         },
         {
          "pc1": 101121.15685791764,
          "pc2": 41.86661051572889
         },
         {
          "pc1": 98823.15883562743,
          "pc2": -33.36509613743969
         },
         {
          "pc1": 98603.15860963672,
          "pc2": -15.400217667383693
         },
         {
          "pc1": 98823.15857460648,
          "pc2": -25.481722125672132
         },
         {
          "pc1": 98603.15881922831,
          "pc2": -36.39577807757041
         },
         {
          "pc1": 44875.158103646805,
          "pc2": 10.9236508539685
         },
         {
          "pc1": -63991.842362763986,
          "pc2": -16.58577145362685
         },
         {
          "pc1": 98603.15813873272,
          "pc2": 31.588730106134403
         },
         {
          "pc1": -13999.841705582394,
          "pc2": -15.68430336273664
         },
         {
          "pc1": 81316.15788698348,
          "pc2": -15.02060702630972
         },
         {
          "pc1": 20292.158615306398,
          "pc2": 16.041615061265695
         },
         {
          "pc1": 44875.15806344744,
          "pc2": 14.922635086666672
         },
         {
          "pc1": -62384.842084397584,
          "pc2": -16.393412869879665
         },
         {
          "pc1": 95525.15804983886,
          "pc2": 16.410478398190683
         },
         {
          "pc1": 98603.15868568294,
          "pc2": -26.419347350865284
         },
         {
          "pc1": 98603.15885023771,
          "pc2": -39.39448843501513
         },
         {
          "pc1": -13999.841705807416,
          "pc2": -15.684441485274252
         },
         {
          "pc1": 10406.158163087734,
          "pc2": -7.482456310638812
         },
         {
          "pc1": 23980.15784906635,
          "pc2": 15.590536620437545
         },
         {
          "pc1": -1653.8418858793664,
          "pc2": -15.67937304344229
         },
         {
          "pc1": -16569.841130062654,
          "pc2": -25.40459572160931
         },
         {
          "pc1": 98603.1588104827,
          "pc2": -35.39523145696818
         },
         {
          "pc1": -65305.84240384601,
          "pc2": 32.67582433882547
         },
         {
          "pc1": 98823.15871458416,
          "pc2": -39.478608955567616
         },
         {
          "pc1": 45325.157242617555,
          "pc2": 54.650796802039764
         },
         {
          "pc1": -19600.84168351842,
          "pc2": 10.434851888375027
         },
         {
          "pc1": 97451.15898126335,
          "pc2": -31.27340771413907
         },
         {
          "pc1": 98823.15831168847,
          "pc2": 31.700745094231397
         },
         {
          "pc1": -67788.84159102307,
          "pc2": -16.132369988676274
         },
         {
          "pc1": 26275.157096996423,
          "pc2": 54.373566725656474
         },
         {
          "pc1": 98823.15898318304,
          "pc2": -35.28337325661659
         },
         {
          "pc1": 10406.158163240536,
          "pc2": -7.482362517969689
         },
         {
          "pc1": -13999.841966233465,
          "pc2": 10.309489968864078
         },
         {
          "pc1": 20292.15837470541,
          "pc2": 40.03588582889712
         },
         {
          "pc1": -12801.842875582506,
          "pc2": 14.77384156538155
         },
         {
          "pc1": 98823.15873224304,
          "pc2": -10.289533925270904
         },
         {
          "pc1": 98823.1588919063,
          "pc2": -26.286167068313993
         },
         {
          "pc1": 14776.157197051205,
          "pc2": 54.32607852004825
         },
         {
          "pc1": 44875.15845410095,
          "pc2": -24.06825322856713
         },
         {
          "pc1": 97451.15834968573,
          "pc2": 31.711553050893443
         },
         {
          "pc1": 98603.15797423953,
          "pc2": 44.56390898733001
         },
         {
          "pc1": 98823.1581818259,
          "pc2": 13.507860558277057
         },
         {
          "pc1": 23980.157990012172,
          "pc2": 1.5942440440949466
         },
         {
          "pc1": 12680.15747945175,
          "pc2": 5.184865866996305
         },
         {
          "pc1": 12680.157690024747,
          "pc2": -15.81009212360913
         },
         {
          "pc1": 17860.157450367726,
          "pc2": 39.42488857513857
         },
         {
          "pc1": 34832.15787222294,
          "pc2": 54.94925527332231
         },
         {
          "pc1": -65236.8417626665,
          "pc2": 9.942958330806123
         },
         {
          "pc1": 45325.15786417011,
          "pc2": -7.334402681008104
         },
         {
          "pc1": 20292.158615341374,
          "pc2": 16.041636526254646
         },
         {
          "pc1": 67800.15759153481,
          "pc2": -15.339297616978481
         },
         {
          "pc1": 10406.158002579887,
          "pc2": 8.513658406258035
         },
         {
          "pc1": 101121.15739986737,
          "pc2": -12.120131940108838
         },
         {
          "pc1": 98823.15896331616,
          "pc2": -33.2837382347704
         },
         {
          "pc1": 44875.15813333156,
          "pc2": 7.924127393409621
         },
         {
          "pc1": 101121.15743005351,
          "pc2": -15.119347658054352
         },
         {
          "pc1": 98823.15893215546,
          "pc2": -30.28512073673441
         },
         {
          "pc1": 98823.15861507652,
          "pc2": -11.370347933777538
         },
         {
          "pc1": 95525.15857052828,
          "pc2": -35.57748436894764
         },
         {
          "pc1": 17860.158001911477,
          "pc2": -15.561879742004173
         },
         {
          "pc1": 101121.15721941892,
          "pc2": 5.875572535505318
         },
         {
          "pc1": -12801.842875385611,
          "pc2": 14.773962422601961
         },
         {
          "pc1": 98603.1586964711,
          "pc2": -0.25297925117357456
         },
         {
          "pc1": -19600.84141297155,
          "pc2": -16.55878205234342
         },
         {
          "pc1": 98823.15853470853,
          "pc2": -21.48255287410179
         },
         {
          "pc1": 98603.15810423056,
          "pc2": 31.566807004244016
         },
         {
          "pc1": 26275.15753901581,
          "pc2": 10.384633540977116
         },
         {
          "pc1": 18956.157825878938,
          "pc2": 15.527001311572686
         },
         {
          "pc1": 34832.15827315009,
          "pc2": 14.958758264177513
         },
         {
          "pc1": 98603.15879714722,
          "pc2": -10.250330758111003
         },
         {
          "pc1": 97451.15884151182,
          "pc2": -17.27638206176068
         },
         {
          "pc1": 44875.158103256435,
          "pc2": 10.923411239363547
         },
         {
          "pc1": -12801.842644949542,
          "pc2": -8.22063292300064
         },
         {
          "pc1": -68985.84246705877,
          "pc2": 11.471283707937577
         },
         {
          "pc1": -81108.84243164796,
          "pc2": 15.40099911971776
         },
         {
          "pc1": 17860.157781184964,
          "pc2": 6.43276067008301
         },
         {
          "pc1": -1653.8425471474193,
          "pc2": 50.305107682422644
         },
         {
          "pc1": -67788.84167126978,
          "pc2": -8.134308197241003
         },
         {
          "pc1": 97451.1586703525,
          "pc2": -0.28089056615957964
         },
         {
          "pc1": 98603.15870979364,
          "pc2": -25.397887882744065
         },
         {
          "pc1": 12680.157369223429,
          "pc2": 16.182268899899448
         },
         {
          "pc1": 95525.15859057837,
          "pc2": -37.577006932916916
         },
         {
          "pc1": -65228.842562080106,
          "pc2": 51.6925685018707
         },
         {
          "pc1": 12001.157028908048,
          "pc2": 54.19232330035705
         },
         {
          "pc1": 98823.15832564115,
          "pc2": 17.623521581847612
         },
         {
          "pc1": 98823.15848402305,
          "pc2": -16.48409037063202
         },
         {
          "pc1": 81316.15756618216,
          "pc2": 16.971753997198867
         },
         {
          "pc1": 103638.1568030921,
          "pc2": 53.929752761535234
         },
         {
          "pc1": -16564.84235561059,
          "pc2": -13.103759917233688
         },
         {
          "pc1": -16564.842646264566,
          "pc2": 15.889361590189447
         },
         {
          "pc1": 44875.15808320635,
          "pc2": 12.922933803332834
         },
         {
          "pc1": 98603.15883616335,
          "pc2": -14.250041300707137
         },
         {
          "pc1": 101121.15752016786,
          "pc2": -24.11726732392456
         },
         {
          "pc1": -65228.84220057652,
          "pc2": 15.701531921537704
         },
         {
          "pc1": 98823.15886641259,
          "pc2": -36.36394415079182
         },
         {
          "pc1": 98823.15878669878,
          "pc2": -28.365555251590102
         },
         {
          "pc1": 98603.1590573726,
          "pc2": -36.244385402620715
         },
         {
          "pc1": 23980.157499132565,
          "pc2": 50.58276011134141
         },
         {
          "pc1": -68985.84231668316,
          "pc2": -3.5251355218320684
         },
         {
          "pc1": -16569.841311078988,
          "pc2": -7.409239818750551
         },
         {
          "pc1": 20292.158404661943,
          "pc2": 37.03652918863283
         },
         {
          "pc1": 44875.1581536728,
          "pc2": 5.924783548804883
         },
         {
          "pc1": 101121.15699886574,
          "pc2": 27.870319339276875
         },
         {
          "pc1": 98823.15850480107,
          "pc2": -0.37297383194646627
         },
         {
          "pc1": 97451.15881143668,
          "pc2": -14.277098215806749
         },
         {
          "pc1": 34832.15805280368,
          "pc2": 36.95363199136201
         },
         {
          "pc1": 98823.15822203248,
          "pc2": 9.508880758565738
         },
         {
          "pc1": 98823.15853332875,
          "pc2": -21.48339980790506
         },
         {
          "pc1": 97451.15897110372,
          "pc2": -30.27372902569887
         },
         {
          "pc1": 98823.15831168847,
          "pc2": 31.700745094231397
         },
         {
          "pc1": 98823.15840455065,
          "pc2": 9.624638987899965
         },
         {
          "pc1": 44875.158364198665,
          "pc2": -15.07020337287262
         },
         {
          "pc1": 98603.15863010037,
          "pc2": -17.399486384527094
         },
         {
          "pc1": 98603.1586459173,
          "pc2": -22.42009690564107
         },
         {
          "pc1": 81316.15771688467,
          "pc2": 1.9755354184129104
         },
         {
          "pc1": 98823.15867385415,
          "pc2": -35.4799504307453
         },
         {
          "pc1": -63793.842808273155,
          "pc2": 14.323060253175214
         },
         {
          "pc1": 98823.15895254687,
          "pc2": -32.28443378374631
         },
         {
          "pc1": 81316.15788695689,
          "pc2": -15.020623358366533
         },
         {
          "pc1": -65305.84204089938,
          "pc2": 13.789950992483988
         },
         {
          "pc1": -67349.84233005287,
          "pc2": -26.65878658655938
         },
         {
          "pc1": -63991.842623931225,
          "pc2": 9.407705036071706
         },
         {
          "pc1": 98823.15846097854,
          "pc2": 16.703659516543805
         },
         {
          "pc1": 95525.15839102627,
          "pc2": -17.581198938741153
         },
         {
          "pc1": 67800.15728119719,
          "pc2": 15.653571370167768
         },
         {
          "pc1": 10406.15824265329,
          "pc2": -15.480936202728483
         },
         {
          "pc1": 34832.15791236492,
          "pc2": 50.95023581004444
         },
         {
          "pc1": 95525.1583204663,
          "pc2": -10.583106079727134
         },
         {
          "pc1": 98603.15859500678,
          "pc2": -17.421772524708913
         },
         {
          "pc1": -13999.841785782724,
          "pc2": -7.686213106859496
         },
         {
          "pc1": 98603.15897819548,
          "pc2": -28.245667062501592
         },
         {
          "pc1": -16564.84231551043,
          "pc2": -17.10280504517226
         },
         {
          "pc1": 17860.15735017281,
          "pc2": 49.4225354589892
         },
         {
          "pc1": 20292.1582242112,
          "pc2": 55.03223226435641
         },
         {
          "pc1": 98603.15877554571,
          "pc2": -35.41742147132991
         },
         {
          "pc1": 98603.15815813815,
          "pc2": 29.58881183976006
         },
         {
          "pc1": -16569.841230502738,
          "pc2": -15.407099325996443
         },
         {
          "pc1": 18956.15758482486,
          "pc2": 39.52099396760811
         },
         {
          "pc1": 98603.15852706865,
          "pc2": 16.74359062680734
         },
         {
          "pc1": 81316.15786726029,
          "pc2": -13.020883811356734
         },
         {
          "pc1": 45325.15763399403,
          "pc2": 15.660352252121069
         },
         {
          "pc1": 98823.15870534827,
          "pc2": -20.368171007197454
         },
         {
          "pc1": 23980.158160437873,
          "pc2": -15.401697749643985
         },
         {
          "pc1": 98603.1587099662,
          "pc2": -25.39778195768988
         },
         {
          "pc1": 97451.15823940496,
          "pc2": 42.70892388631316
         },
         {
          "pc1": 97451.15884091277,
          "pc2": -17.276749766354065
         },
         {
          "pc1": -1653.8421962709772,
          "pc2": 15.313462812960134
         },
         {
          "pc1": 34832.15787212031,
          "pc2": 54.94919227824603
         },
         {
          "pc1": -65236.84182281676,
          "pc2": 15.94152602271398
         },
         {
          "pc1": -65236.84178271658,
          "pc2": 11.94248089477541
         },
         {
          "pc1": -65236.8416316621,
          "pc2": -3.0535216342304192
         },
         {
          "pc1": 10406.157722297608,
          "pc2": 36.50723141506528
         },
         {
          "pc1": -16569.841491692416,
          "pc2": 10.58636339811137
         },
         {
          "pc1": -81108.8423705117,
          "pc2": 9.403036647172359
         },
         {
          "pc1": -13999.841605331985,
          "pc2": -25.68191618258307
         },
         {
          "pc1": -63991.842362738134,
          "pc2": -16.585755588200236
         },
         {
          "pc1": -16569.841541678503,
          "pc2": 15.585255201360207
         },
         {
          "pc1": 14776.157377633463,
          "pc2": 36.33045617134834
         },
         {
          "pc1": 81316.15788716063,
          "pc2": -15.020498301474367
         },
         {
          "pc1": 17860.157691135202,
          "pc2": 15.430719999519757
         },
         {
          "pc1": -16569.841361366885,
          "pc2": -2.41053326768899
         },
         {
          "pc1": -57807.84148550437,
          "pc2": 16.227826971769368
         },
         {
          "pc1": 34832.15791236492,
          "pc2": 50.95023581004444
         },
         {
          "pc1": 98823.1584051991,
          "pc2": 9.625037023455993
         },
         {
          "pc1": 98823.15818080153,
          "pc2": 44.69729715363301
         },
         {
          "pc1": 97451.15889061833,
          "pc2": -22.275813756144718
         },
         {
          "pc1": -64493.84178670817,
          "pc2": 15.971616337366667
         },
         {
          "pc1": -65236.841742567754,
          "pc2": 7.943465631169295
         },
         {
          "pc1": -65236.84158153689,
          "pc2": -8.052328044153633
         },
         {
          "pc1": 10406.157691734428,
          "pc2": 39.506215684434245
         },
         {
          "pc1": -64493.841726789025,
          "pc2": 9.972906789879636
         },
         {
          "pc1": 17860.157741260406,
          "pc2": 10.43191358959654
         },
         {
          "pc1": 23980.157990012172,
          "pc2": 1.5942440440949466
         },
         {
          "pc1": 101121.15743996754,
          "pc2": -16.11917706804741
         },
         {
          "pc1": 12680.156998445145,
          "pc2": 53.173527326219194
         }
        ]
       },
       "hconcat": [
        {
         "data": {
          "name": "data-8212933167f03a871ad7ec018f2214b9"
         },
         "encoding": {
          "x": {
           "field": "pc1",
           "type": "quantitative"
          },
          "y": {
           "field": "pc2",
           "type": "quantitative"
          }
         },
         "height": 200,
         "mark": "point",
         "selection": {
          "selector001": {
           "bind": "scales",
           "encodings": [
            "x",
            "y"
           ],
           "type": "interval"
          }
         },
         "width": 200
        },
        {
         "data": {
          "name": "data-f7337a05bdb2478d8045bd9d6b285c47"
         },
         "encoding": {
          "x": {
           "field": "pc1",
           "type": "quantitative"
          },
          "y": {
           "field": "pc2",
           "type": "quantitative"
          }
         },
         "height": 200,
         "mark": "point",
         "selection": {
          "selector002": {
           "bind": "scales",
           "encodings": [
            "x",
            "y"
           ],
           "type": "interval"
          }
         },
         "width": 200
        },
        {
         "data": {
          "name": "data-84fa49d10a6e92ddf33adf015a2dde20"
         },
         "encoding": {
          "x": {
           "field": "pc1",
           "type": "quantitative"
          },
          "y": {
           "field": "pc2",
           "type": "quantitative"
          }
         },
         "height": 200,
         "mark": "point",
         "selection": {
          "selector003": {
           "bind": "scales",
           "encodings": [
            "x",
            "y"
           ],
           "type": "interval"
          }
         },
         "width": 200
        },
        {
         "data": {
          "name": "data-184ffbf9b793c8d222d2ad5949000fd6"
         },
         "encoding": {
          "x": {
           "field": "pc1",
           "type": "quantitative"
          },
          "y": {
           "field": "pc2",
           "type": "quantitative"
          }
         },
         "height": 200,
         "mark": "point",
         "selection": {
          "selector004": {
           "bind": "scales",
           "encodings": [
            "x",
            "y"
           ],
           "type": "interval"
          }
         },
         "width": 200
        },
        {
         "data": {
          "name": "data-f5a64f565f404de0935f844f3602b5f4"
         },
         "encoding": {
          "x": {
           "field": "pc1",
           "type": "quantitative"
          },
          "y": {
           "field": "pc2",
           "type": "quantitative"
          }
         },
         "height": 200,
         "mark": "point",
         "selection": {
          "selector005": {
           "bind": "scales",
           "encodings": [
            "x",
            "y"
           ],
           "type": "interval"
          }
         },
         "width": 200
        },
        {
         "data": {
          "name": "data-05043712fe96fd37e6f6f9c2a26f9c3a"
         },
         "encoding": {
          "x": {
           "field": "pc1",
           "type": "quantitative"
          },
          "y": {
           "field": "pc2",
           "type": "quantitative"
          }
         },
         "height": 200,
         "mark": "point",
         "selection": {
          "selector006": {
           "bind": "scales",
           "encodings": [
            "x",
            "y"
           ],
           "type": "interval"
          }
         },
         "width": 200
        },
        {
         "data": {
          "name": "data-3945f92b7a018ffe00166abcbb89e28a"
         },
         "encoding": {
          "x": {
           "field": "pc1",
           "type": "quantitative"
          },
          "y": {
           "field": "pc2",
           "type": "quantitative"
          }
         },
         "height": 200,
         "mark": "point",
         "selection": {
          "selector007": {
           "bind": "scales",
           "encodings": [
            "x",
            "y"
           ],
           "type": "interval"
          }
         },
         "width": 200
        }
       ]
      },
      "image/png": "[encoded data removed]",
      "text/plain": [
       "<VegaLite 3 object>\n",
       "\n",
       "If you see this message, it means the renderer has not been properly enabled\n",
       "for the frontend that you are using. For more information, see\n",
       "https://altair-viz.github.io/user_guide/troubleshooting.html\n"
      ]
     },
     "execution_count": 10,
     "metadata": {},
     "output_type": "execute_result"
    }
   ],
   "source": [
    "import altair as alt\n",
    "\n",
    "plots = []\n",
    "\n",
    "for label in np.unique(y):\n",
    "    pcs = pd.DataFrame({'pc1': tf[y == label, 0], 'pc2': tf[y == label, 1]})\n",
    "    plot = alt.Chart(pcs).mark_point().encode(x='pc1', y='pc2').properties(width=200, height=200).interactive() \n",
    "    plots.append(plot)\n",
    "\n",
    "alt.hconcat(*plots)"
   ]
  },
  {
   "cell_type": "code",
   "execution_count": null,
   "metadata": {},
   "outputs": [],
   "source": []
  }
 ],
 "metadata": {
  "kernelspec": {
   "display_name": "Python 3",
   "language": "python",
   "name": "python3"
  },
  "language_info": {
   "codemirror_mode": {
    "name": "ipython",
    "version": 3
   },
   "file_extension": ".py",
   "mimetype": "text/x-python",
   "name": "python",
   "nbconvert_exporter": "python",
   "pygments_lexer": "ipython3",
   "version": "3.7.3"
  }
 },
 "nbformat": 4,
 "nbformat_minor": 4
}

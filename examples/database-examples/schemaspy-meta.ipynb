{
 "cells": [
  {
   "cell_type": "code",
   "execution_count": 10,
   "metadata": {},
   "outputs": [
    {
     "data": {
      "text/plain": [
       "<sqlite3.Cursor at 0x7f04d2d951f0>"
      ]
     },
     "execution_count": 10,
     "metadata": {},
     "output_type": "execute_result"
    },
    {
     "data": {
      "text/plain": [
       "<sqlite3.Cursor at 0x7f04d2d95030>"
      ]
     },
     "execution_count": 10,
     "metadata": {},
     "output_type": "execute_result"
    },
    {
     "data": {
      "text/plain": [
       "<sqlite3.Cursor at 0x7f04d2d95260>"
      ]
     },
     "execution_count": 10,
     "metadata": {},
     "output_type": "execute_result"
    },
    {
     "data": {
      "text/plain": [
       "<sqlite3.Cursor at 0x7f04d2d952d0>"
      ]
     },
     "execution_count": 10,
     "metadata": {},
     "output_type": "execute_result"
    },
    {
     "data": {
      "text/plain": [
       "<sqlite3.Cursor at 0x7f04d2d951f0>"
      ]
     },
     "execution_count": 10,
     "metadata": {},
     "output_type": "execute_result"
    },
    {
     "data": {
      "text/plain": [
       "<sqlite3.Cursor at 0x7f04d2d95030>"
      ]
     },
     "execution_count": 10,
     "metadata": {},
     "output_type": "execute_result"
    },
    {
     "data": {
      "text/plain": [
       "<sqlite3.Cursor at 0x7f04d2d95260>"
      ]
     },
     "execution_count": 10,
     "metadata": {},
     "output_type": "execute_result"
    },
    {
     "data": {
      "text/plain": [
       "<sqlite3.Cursor at 0x7f04d2d952d0>"
      ]
     },
     "execution_count": 10,
     "metadata": {},
     "output_type": "execute_result"
    }
   ],
   "source": [
    "import sqlite3\n",
    "\n",
    "conn = sqlite3.connect('schemaspy_meta_test.db')\n",
    "\n",
    "conn.execute(\"\"\"\n",
    "CREATE TABLE item (\n",
    "   item_code INTEGER PRIMARY KEY,\n",
    "   item_name TEXT NOT NULL UNIQUE,\n",
    "   store_id INTEGER\n",
    ");\n",
    "\"\"\")\n",
    "\n",
    "conn.execute(\"INSERT INTO item VALUES(1, 'food', 2);\")\n",
    "conn.execute(\"INSERT INTO item VALUES(2, 'house', 2);\")\n",
    "conn.execute(\"INSERT INTO item VALUES(3, 'infra', 1);\")\n",
    "conn.execute(\"COMMIT;\")\n",
    "\n",
    "# Does not explicit define FK constraints\n",
    "conn.execute(\"\"\"\n",
    "CREATE TABLE acc_data ( \n",
    "    id INTEGER PRIMARY KEY AUTOINCREMENT,\n",
    "    acc_date DATE NOT NULL,\n",
    "    item_code INTEGER NOT NULL,\n",
    "    amount INTEGER\n",
    ");\n",
    "\"\"\")\n",
    "\n",
    "conn.execute(\"\"\"\n",
    "    INSERT INTO acc_data(acc_date, item_code, amount)\n",
    "    VALUES('2017-3-1', 1, 1000);\n",
    "\"\"\")\n",
    "conn.execute(\"COMMIT;\")\n",
    "\n",
    "conn.commit()\n",
    "conn.close()"
   ]
  },
  {
   "cell_type": "code",
   "execution_count": 14,
   "metadata": {},
   "outputs": [
    {
     "name": "stdout",
     "output_type": "stream",
     "text": [
      "  ____       _                          ____\n",
      " / ___|  ___| |__   ___ _ __ ___   __ _/ ___| _ __  _   _\n",
      " \\___ \\ / __| '_ \\ / _ \\ '_ ` _ \\ / _` \\___ \\| '_ \\| | | |\n",
      "  ___) | (__| | | |  __/ | | | | | (_| |___) | |_) | |_| |\n",
      " |____/ \\___|_| |_|\\___|_| |_| |_|\\__,_|____/| .__/ \\__, |\n",
      "                                             |_|    |___/\n",
      "\n",
      "                                              6.1.0\n",
      "\n",
      "SchemaSpy generates an HTML representation of a database schema's relationships.\n",
      "SchemaSpy comes with ABSOLUTELY NO WARRANTY.\n",
      "SchemaSpy is free software and can be redistributed under the conditions of LGPL version 3 or later.\n",
      "http://www.gnu.org/licenses/\n",
      "\n",
      "\u001b[32mINFO \u001b[0;39m - Starting Main v6.1.0 on cdea351c47a6 with PID 864 (/home/jovyan/examples/database-examples/schemaspy-6.1.0.jar started by jovyan in /home/jovyan/examples/database-examples)\n",
      "\u001b[32mINFO \u001b[0;39m - The following profiles are active: default\n",
      "\u001b[32mINFO \u001b[0;39m - Found configuration file: schemaspy-meta.properties\n",
      "\u001b[32mINFO \u001b[0;39m - Started Main in 2.481 seconds (JVM running for 3.635)\n",
      "\u001b[32mINFO \u001b[0;39m - Loaded configuration from schemaspy-meta.properties\n",
      "\u001b[32mINFO \u001b[0;39m - Starting schema analysis\n",
      "\u001b[32mINFO \u001b[0;39m - Parsing schemaspy_meta.xml\n",
      "\u001b[32mINFO \u001b[0;39m - Connected to SQLite - 3.27.2\n",
      "\u001b[32mINFO \u001b[0;39m - Using additional metadata from schemaspy_meta.xml\n",
      "\u001b[32mINFO \u001b[0;39m - Gathering schema details\n",
      "Gathering schema details...\u001b[32mINFO \u001b[0;39m - Found PK without index name created index 'acc_data_s_pk' for table 'acc_data'\n",
      ".\u001b[32mINFO \u001b[0;39m - Found PK without index name created index 'item_s_pk' for table 'item'\n",
      ".(0sec)\n",
      "Connecting relationships.....\u001b[33mWARN \u001b[0;39m - Assuming 'item.store_id' is a primary key due to being referenced by 'store.store_id'\n",
      "(0sec)\n",
      "Writing/graphing summary.\u001b[32mINFO \u001b[0;39m - Gathered schema details in 0 seconds\n",
      "\u001b[32mINFO \u001b[0;39m - Writing/graphing summary\n",
      "\u001b[32mINFO \u001b[0;39m - Graphviz rendered set to ''\n",
      "........(3sec)\n",
      "Writing/diagramming details\u001b[32mINFO \u001b[0;39m - Completed summary in 3 seconds\n",
      "\u001b[32mINFO \u001b[0;39m - Writing/diagramming details\n",
      "..(0sec)\n",
      "Wrote relationship details of 2 tables/views to directory 'schemaspy_meta_test.output' in 4 seconds.\n",
      "View the results by opening schemaspy_meta_test.output/index.html\n",
      "\u001b[32mINFO \u001b[0;39m - Wrote table details in 0 seconds\n",
      "\u001b[32mINFO \u001b[0;39m - Wrote relationship details of 2 tables/views to directory 'schemaspy_meta_test.output' in 4 seconds.\n",
      "\u001b[32mINFO \u001b[0;39m - View the results by opening schemaspy_meta_test.output/index.html\n"
     ]
    }
   ],
   "source": [
    "# Add a FK relationship via schemameta\n",
    "# https://schemaspy.readthedocs.io/en/latest/configuration/schemaMeta.html#schemameta-add-foreignkey\n",
    "!java -jar schemaspy-6.1.0.jar -configFile schemaspy-meta.properties -meta schemaspy_meta.xml -t sqlite-xerial -cat %"
   ]
  },
  {
   "cell_type": "code",
   "execution_count": null,
   "metadata": {},
   "outputs": [],
   "source": []
  }
 ],
 "metadata": {
  "kernelspec": {
   "display_name": "Python 3",
   "language": "python",
   "name": "python3"
  },
  "language_info": {
   "codemirror_mode": {
    "name": "ipython",
    "version": 3
   },
   "file_extension": ".py",
   "mimetype": "text/x-python",
   "name": "python",
   "nbconvert_exporter": "python",
   "pygments_lexer": "ipython3",
   "version": "3.7.3"
  }
 },
 "nbformat": 4,
 "nbformat_minor": 4
}

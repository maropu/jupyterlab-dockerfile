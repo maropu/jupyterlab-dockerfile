{
 "cells": [
  {
   "cell_type": "code",
   "execution_count": 1,
   "metadata": {},
   "outputs": [],
   "source": [
    "df = pd.read_parquet('walmart.parquet')"
   ]
  },
  {
   "cell_type": "code",
   "execution_count": 2,
   "metadata": {},
   "outputs": [
    {
     "data": {
      "text/plain": [
       "<matplotlib.axes._subplots.AxesSubplot at 0x7f988951d208>"
      ]
     },
     "execution_count": 2,
     "metadata": {},
     "output_type": "execute_result"
    },
    {
     "data": {
      "image/png": "[encoded data removed]",
      "text/plain": [
       "<Figure size 432x288 with 1 Axes>"
      ]
     },
     "metadata": {
      "needs_background": "light"
     },
     "output_type": "display_data"
    }
   ],
   "source": [
    "df['fuel_price_avg'].hist()"
   ]
  },
  {
   "cell_type": "code",
   "execution_count": 3,
   "metadata": {},
   "outputs": [
    {
     "data": {
      "text/plain": [
       "0.0"
      ]
     },
     "execution_count": 3,
     "metadata": {},
     "output_type": "execute_result"
    }
   ],
   "source": [
    "from scipy import stats\n",
    "\n",
    "df['fuel_price_avg'].min()"
   ]
  },
  {
   "cell_type": "code",
   "execution_count": 4,
   "metadata": {},
   "outputs": [
    {
     "data": {
      "text/plain": [
       "1.0"
      ]
     },
     "execution_count": 4,
     "metadata": {},
     "output_type": "execute_result"
    }
   ],
   "source": [
    "df['fuel_price_avg'] += 1.0\n",
    "df['fuel_price_avg'].min()"
   ]
  },
  {
   "cell_type": "code",
   "execution_count": 5,
   "metadata": {},
   "outputs": [
    {
     "data": {
      "text/plain": [
       "<matplotlib.axes._subplots.AxesSubplot at 0x7f988818cb70>"
      ]
     },
     "execution_count": 5,
     "metadata": {},
     "output_type": "execute_result"
    },
    {
     "data": {
      "image/png": "[encoded data removed]",
      "text/plain": [
       "<Figure size 432x288 with 1 Axes>"
      ]
     },
     "metadata": {
      "needs_background": "light"
     },
     "output_type": "display_data"
    }
   ],
   "source": [
    "v = stats.boxcox(df['fuel_price_avg'], lmbda=0)\n",
    "pd.Series(v).hist()"
   ]
  },
  {
   "cell_type": "code",
   "execution_count": 6,
   "metadata": {},
   "outputs": [
    {
     "data": {
      "text/plain": [
       "<matplotlib.axes._subplots.AxesSubplot at 0x7f9888058f28>"
      ]
     },
     "execution_count": 6,
     "metadata": {},
     "output_type": "execute_result"
    },
    {
     "data": {
      "image/png": "[encoded data removed]",
      "text/plain": [
       "<Figure size 432x288 with 1 Axes>"
      ]
     },
     "metadata": {
      "needs_background": "light"
     },
     "output_type": "display_data"
    }
   ],
   "source": [
    "v = stats.boxcox(df['fuel_price_avg'], lmbda=1)\n",
    "pd.Series(v).hist()"
   ]
  },
  {
   "cell_type": "code",
   "execution_count": 25,
   "metadata": {},
   "outputs": [
    {
     "data": {
      "text/plain": [
       "array([[<matplotlib.axes._subplots.AxesSubplot object at 0x7f9879688cf8>]],\n",
       "      dtype=object)"
      ]
     },
     "execution_count": 25,
     "metadata": {},
     "output_type": "execute_result"
    },
    {
     "data": {
      "image/png": "[encoded data removed]",
      "text/plain": [
       "<Figure size 432x288 with 1 Axes>"
      ]
     },
     "metadata": {
      "needs_background": "light"
     },
     "output_type": "display_data"
    }
   ],
   "source": [
    "# Use maximum likelihood estimation\n",
    "actual = pd.DataFrame(stats.boxcox(df['fuel_price_avg'])[0])\n",
    "actual.hist()"
   ]
  },
  {
   "cell_type": "code",
   "execution_count": 27,
   "metadata": {},
   "outputs": [],
   "source": [
    "# Checks a normal Q-Q plot (probability plot)\n",
    "rk = np.array(actual.rank(method='first', na_option='keep') / actual.count())\n",
    "expected = stats.norm.ppf(rk, loc=0, scale=1)"
   ]
  },
  {
   "cell_type": "code",
   "execution_count": 64,
   "metadata": {},
   "outputs": [],
   "source": [
    "df = pd.DataFrame({\"actual\" : actual[0].values, \"ppf\" : expected.flatten()})"
   ]
  },
  {
   "cell_type": "code",
   "execution_count": 65,
   "metadata": {},
   "outputs": [
    {
     "data": {
      "application/vnd.vegalite.v3+json": {
       "$schema": "https://vega.github.io/schema/vega-lite/v3.4.0.json",
       "config": {
        "mark": {
         "tooltip": null
        },
        "view": {
         "height": 300,
         "width": 400
        }
       },
       "data": {
        "name": "data-740283bbdfb9e741898202cc818fe3a5"
       },
       "datasets": {
        "data-740283bbdfb9e741898202cc818fe3a5": [
         {
          "actual": 5.019349751427631,
          "ppf": 1.5557389263098882
         },
         {
          "actual": 0,
          "ppf": -1.9075284566402415
         },
         {
          "actual": 1.4263155704499877,
          "ppf": -1.100961771880841
         },
         {
          "actual": 2.8816378668709186,
          "ppf": -0.0762341154553044
         },
         {
          "actual": 1.7880608186441593,
          "ppf": -0.8544981280449447
         },
         {
          "actual": 4.534485429857293,
          "ppf": 1.0929998218001558
         },
         {
          "actual": 0.7480891726316874,
          "ppf": -1.552939055343
         },
         {
          "actual": 2.1113619416927167,
          "ppf": -0.620089021101996
         },
         {
          "actual": 4.2758787850367455,
          "ppf": 0.8870635270207468
         },
         {
          "actual": 0,
          "ppf": -3.1436107588649937
         },
         {
          "actual": 2.7090164942726727,
          "ppf": -0.1956607896770862
         },
         {
          "actual": 2.797625467392173,
          "ppf": -0.129405574655714
         },
         {
          "actual": 4.233510743347458,
          "ppf": 0.8598478204871345
         },
         {
          "actual": 6.828910582476097,
          "ppf": 3.188450206351991
         },
         {
          "actual": 0.5712576204411784,
          "ppf": -1.6582570353684636
         },
         {
          "actual": 4.001191491400729,
          "ppf": 0.7197312744846242
         },
         {
          "actual": 2.7384748545808777,
          "ppf": -0.17972606390438836
         },
         {
          "actual": 1.2908651287569861,
          "ppf": -1.1744673523323006
         },
         {
          "actual": 2.516567669200982,
          "ppf": -0.3052841944451119
         },
         {
          "actual": 5.929283089815278,
          "ppf": 2.28174179236511
         },
         {
          "actual": 1.6665211201328534,
          "ppf": -0.9350263584190557
         },
         {
          "actual": 4.672300308415361,
          "ppf": 1.242296052791226
         },
         {
          "actual": 0,
          "ppf": -1.8965862549205554
         },
         {
          "actual": 3.5961985620949077,
          "ppf": 0.4427791615964713
         },
         {
          "actual": 1.6111207304334623,
          "ppf": -0.9661024957992752
         },
         {
          "actual": 1.2666002397609872,
          "ppf": -1.1924019439056726
         },
         {
          "actual": 4.173501603790507,
          "ppf": 0.8206370228819657
         },
         {
          "actual": 2.796656263499515,
          "ppf": -0.13067112756137794
         },
         {
          "actual": 1.0751430700725992,
          "ppf": -1.305793585399929
         },
         {
          "actual": 3.97391241462592,
          "ppf": 0.7006605011181739
         },
         {
          "actual": 1.4587772359068962,
          "ppf": -1.0748281715379162
         },
         {
          "actual": 2.11466847256718,
          "ppf": -0.6168332099229479
         },
         {
          "actual": 6.295337745886009,
          "ppf": 2.6701828513102837
         },
         {
          "actual": 1.751025223392272,
          "ppf": -0.8788569073893164
         },
         {
          "actual": 1.005951851208737,
          "ppf": -1.3517329136648242
         },
         {
          "actual": 1.4040335063730105,
          "ppf": -1.117656485969174
         },
         {
          "actual": 4.1486177234838175,
          "ppf": 0.8113004971070843
         },
         {
          "actual": 4.063887482601126,
          "ppf": 0.7493144116037997
         },
         {
          "actual": 4.526465768405659,
          "ppf": 1.0888825367805957
         },
         {
          "actual": 2.788208314740097,
          "ppf": -0.13676079596034782
         },
         {
          "actual": 2.2893845157161508,
          "ppf": -0.47518092643894744
         },
         {
          "actual": 4.026482643713817,
          "ppf": 0.7311596844010031
         },
         {
          "actual": 5.007124244287206,
          "ppf": 1.537168580260412
         },
         {
          "actual": 5.221768627070261,
          "ppf": 1.6860691175447724
         },
         {
          "actual": 4.4102706721743745,
          "ppf": 0.9904994566755246
         },
         {
          "actual": 5.434423783758564,
          "ppf": 1.8606506642339646
         },
         {
          "actual": 4.087988450543299,
          "ppf": 0.7678800233061184
         },
         {
          "actual": 4.742300356663007,
          "ppf": 1.2817825268884442
         },
         {
          "actual": 1.8136894851634682,
          "ppf": -0.8254162058054895
         },
         {
          "actual": 3.294176826137194,
          "ppf": 0.20944588743827933
         },
         {
          "actual": 3.3620052696845284,
          "ppf": 0.2500657086160377
         },
         {
          "actual": 4.562995777388519,
          "ppf": 1.1344411861415846
         },
         {
          "actual": 3.565686133426274,
          "ppf": 0.41213653720502796
         },
         {
          "actual": 2.2004533288366708,
          "ppf": -0.5382395047240591
         },
         {
          "actual": 2.0594264593100737,
          "ppf": -0.6474091836688525
         },
         {
          "actual": 4.130937957188932,
          "ppf": 0.8024463676208701
         },
         {
          "actual": 3.544521881086687,
          "ppf": 0.39650836205358747
         },
         {
          "actual": 1.38908168796827,
          "ppf": -1.1318294281256722
         },
         {
          "actual": 1.3509465300902908,
          "ppf": -1.1496982009648065
         },
         {
          "actual": 5.132899527275687,
          "ppf": 1.6387244910946912
         },
         {
          "actual": 2.730322209352097,
          "ppf": -0.1873225688403886
         },
         {
          "actual": 5.67453384343889,
          "ppf": 2.049796488105335
         },
         {
          "actual": 4.101609080966352,
          "ppf": 0.7794873952724705
         },
         {
          "actual": 5.126111436885221,
          "ppf": 1.6346193108463287
         },
         {
          "actual": 2.775953865303401,
          "ppf": -0.14804930189705898
         },
         {
          "actual": 4.1128864017367786,
          "ppf": 0.7971803951216748
         },
         {
          "actual": 3.54984333799135,
          "ppf": 0.4019443446297067
         },
         {
          "actual": 3.9003079141547916,
          "ppf": 0.6530937298353836
         },
         {
          "actual": 5.534298021617046,
          "ppf": 1.98533633830534
         },
         {
          "actual": 3.37288826903426,
          "ppf": 0.2617976077643752
         },
         {
          "actual": 2.7140451597850013,
          "ppf": -0.19523442418741652
         },
         {
          "actual": 3.7300224265641226,
          "ppf": 0.5204347049492334
         },
         {
          "actual": 5.2012791606257185,
          "ppf": 1.6599135629285393
         },
         {
          "actual": 2.0954512283639137,
          "ppf": -0.633105730180874
         },
         {
          "actual": 4.132915747758526,
          "ppf": 0.8045094390860332
         },
         {
          "actual": 4.867002460365307,
          "ppf": 1.3844858401863476
         },
         {
          "actual": 5.126111436885221,
          "ppf": 1.6314453333596304
         },
         {
          "actual": 4.089855404963585,
          "ppf": 0.7745576472227232
         },
         {
          "actual": 1.7271311860566132,
          "ppf": -0.8959550369281959
         },
         {
          "actual": 1.907940507744712,
          "ppf": -0.7444176657000191
         },
         {
          "actual": 3.989460954974613,
          "ppf": 0.7123183377202649
         },
         {
          "actual": 4.878599986104076,
          "ppf": 1.3976949650880788
         },
         {
          "actual": 3.1701798333482154,
          "ppf": 0.13145466983865245
         },
         {
          "actual": 1.4230523789431606,
          "ppf": -1.1106535007055176
         },
         {
          "actual": 2.367862732744349,
          "ppf": -0.4050559511221276
         },
         {
          "actual": 2.412150754809519,
          "ppf": -0.3868945943519614
         },
         {
          "actual": 4.44280929672571,
          "ppf": 1.0273810605195497
         },
         {
          "actual": 2.929679430855955,
          "ppf": -0.030929195233006666
         },
         {
          "actual": 2.347620433840376,
          "ppf": -0.42479025521541874
         },
         {
          "actual": 2.316706368612508,
          "ppf": -0.4440318285793905
         },
         {
          "actual": 1.019187780240878,
          "ppf": -1.34049523571365
         },
         {
          "actual": 4.396754015296639,
          "ppf": 0.9750030866435161
         },
         {
          "actual": 3.2422646631502614,
          "ppf": 0.17098769963246466
         },
         {
          "actual": 1.4540258236649475,
          "ppf": -1.0866150937970547
         },
         {
          "actual": 4.8351139620628825,
          "ppf": 1.3775077981066892
         },
         {
          "actual": 5.132899527275687,
          "ppf": 1.6403284342918907
         },
         {
          "actual": 4.968127170289907,
          "ppf": 1.477620512193292
         },
         {
          "actual": 4.653760662790445,
          "ppf": 1.2174716987894487
         },
         {
          "actual": 2.5832025119877717,
          "ppf": -0.2718290714823116
         },
         {
          "actual": 0,
          "ppf": -2.3385688024445566
         },
         {
          "actual": 3.3330906902618755,
          "ppf": 0.2383681283950375
         },
         {
          "actual": 0.840039992588377,
          "ppf": -1.5084023041053378
         },
         {
          "actual": 6.077613092909417,
          "ppf": 2.4555896060909075
         },
         {
          "actual": 3.071017544663561,
          "ppf": 0.05395689229705404
         },
         {
          "actual": 1.9101199817569872,
          "ppf": -0.7367138247943888
         },
         {
          "actual": 6.123433571187303,
          "ppf": 2.5303360650179196
         },
         {
          "actual": 1.4228764760794779,
          "ppf": -1.1112073031273972
         },
         {
          "actual": 4.611393400634728,
          "ppf": 1.1921586670208315
         },
         {
          "actual": 3.759070640297703,
          "ppf": 0.5551705920869919
         },
         {
          "actual": 0.5272084215955456,
          "ppf": -1.6863167412282443
         },
         {
          "actual": 3.2041743126448132,
          "ppf": 0.14611628035331758
         },
         {
          "actual": 2.788620522127883,
          "ppf": -0.13386607756567476
         },
         {
          "actual": 3.56661519234154,
          "ppf": 0.41304746199200826
         },
         {
          "actual": 3.525561133234381,
          "ppf": 0.3675170638765514
         },
         {
          "actual": 4.948151298876615,
          "ppf": 1.464746975037718
         },
         {
          "actual": 2.5424920687415984,
          "ppf": -0.29615609325192976
         },
         {
          "actual": 0.8898980400593245,
          "ppf": -1.4503988116343065
         },
         {
          "actual": 3.066678261210236,
          "ppf": 0.04988793010156397
         },
         {
          "actual": 2.908856324191438,
          "ppf": -0.048571681227821226
         },
         {
          "actual": 5.477383934696208,
          "ppf": 1.9473436290831083
         },
         {
          "actual": 0.7969538952177249,
          "ppf": -1.528270963050687
         },
         {
          "actual": 4.652520739188955,
          "ppf": 1.2155930416183165
         },
         {
          "actual": 2.165870941762221,
          "ppf": -0.564606728309673
         },
         {
          "actual": 1.7519302705528699,
          "ppf": -0.8766609067012057
         },
         {
          "actual": 3.9415152619313463,
          "ppf": 0.681238183997204
         },
         {
          "actual": 3.305109259690013,
          "ppf": 0.2241286980814553
         },
         {
          "actual": 3.0482275529129854,
          "ppf": 0.04109452390863908
         },
         {
          "actual": 3.377982296461478,
          "ppf": 0.26736732579526307
         },
         {
          "actual": 3.985025359319576,
          "ppf": 0.7077050769574915
         },
         {
          "actual": 2.534831331439471,
          "ppf": -0.2982171096895417
         },
         {
          "actual": 4.406665250487863,
          "ppf": 0.9833999452506696
         },
         {
          "actual": 0.6352952298258675,
          "ppf": -1.6220207143647345
         },
         {
          "actual": 4.004523305923497,
          "ppf": 0.7212031053684655
         },
         {
          "actual": 1.0751268738497024,
          "ppf": -1.3074774413388173
         },
         {
          "actual": 2.448768372221088,
          "ppf": -0.36259872156823925
         },
         {
          "actual": 1.2700208467523193,
          "ppf": -1.186341056233068
         },
         {
          "actual": 0.8155370156797421,
          "ppf": -1.518356325987469
         },
         {
          "actual": 1.676006976120986,
          "ppf": -0.9301339898769556
         },
         {
          "actual": 3.193795557096354,
          "ppf": 0.14110503098289656
         },
         {
          "actual": 2.379345657619636,
          "ppf": -0.40213870575116245
         },
         {
          "actual": 3.732252271108892,
          "ppf": 0.5281135099736034
         },
         {
          "actual": 0.9716167529226515,
          "ppf": -1.389960183721323
         },
         {
          "actual": 3.7675973359756103,
          "ppf": 0.5640461546720007
         },
         {
          "actual": 2.8008615745994554,
          "ppf": -0.1233217257643503
         },
         {
          "actual": 5.329170800837406,
          "ppf": 1.7484441115652516
         },
         {
          "actual": 1.8730561185312646,
          "ppf": -0.775122398592303
         },
         {
          "actual": 5.088197042934141,
          "ppf": 1.5894856332507779
         },
         {
          "actual": 3.9027647861770336,
          "ppf": 0.6564256524434317
         },
         {
          "actual": 3.0154021259550787,
          "ppf": 0.01210109457125212
         },
         {
          "actual": 3.4755091208109694,
          "ppf": 0.3264527701546379
         },
         {
          "actual": 2.7501909225568784,
          "ppf": -0.16983570981415172
         },
         {
          "actual": 2.490477233293557,
          "ppf": -0.32809192676825794
         },
         {
          "actual": 1.7280172038477326,
          "ppf": -0.8937255375804268
         },
         {
          "actual": 4.678835769303432,
          "ppf": 1.2489162395297826
         },
         {
          "actual": 1.6423213523493296,
          "ppf": -0.953881726138464
         },
         {
          "actual": 5.246199780460217,
          "ppf": 1.7057023671777212
         },
         {
          "actual": 2.7559276727224367,
          "ppf": -0.16638108594953063
         },
         {
          "actual": 2.7384748545808777,
          "ppf": -0.18185202121313235
         },
         {
          "actual": 0,
          "ppf": -2.189509217535231
         },
         {
          "actual": 3.2585220978866793,
          "ppf": 0.184951319486373
         },
         {
          "actual": 2.7680715575778083,
          "ppf": -0.15451690413345187
         },
         {
          "actual": 4.343887413068349,
          "ppf": 0.9319775459049662
         },
         {
          "actual": 2.760085556988519,
          "ppf": -0.16129366604152043
         },
         {
          "actual": 3.8370092474001436,
          "ppf": 0.605596537752889
         },
         {
          "actual": 1.8629955321795033,
          "ppf": -0.7879362065698722
         },
         {
          "actual": 4.994938219805024,
          "ppf": 1.528078876474856
         },
         {
          "actual": 3.2002069008493916,
          "ppf": 0.14345926541755197
         },
         {
          "actual": 0.5912504837557058,
          "ppf": -1.637581393268558
         },
         {
          "actual": 2.5071333778288167,
          "ppf": -0.3136216987444499
         },
         {
          "actual": 1.7280172038482728,
          "ppf": -0.8913226572301148
         },
         {
          "actual": 4.47499019448454,
          "ppf": 1.0479588983590347
         },
         {
          "actual": 2.3315879372135466,
          "ppf": -0.43192964534282563
         },
         {
          "actual": 3.078187975464346,
          "ppf": 0.06485193267178095
         },
         {
          "actual": 3.4755091208109694,
          "ppf": 0.32575954503164506
         },
         {
          "actual": 4.574772101919214,
          "ppf": 1.1495824867650835
         },
         {
          "actual": 4.67300320734512,
          "ppf": 1.2446263624004956
         },
         {
          "actual": 4.4171156138515855,
          "ppf": 1.0002080953368275
         },
         {
          "actual": 1.2243412739551962,
          "ppf": -1.2036698996875594
         },
         {
          "actual": 3.7560207902975207,
          "ppf": 0.5495326008711191
         },
         {
          "actual": 4.43302212365047,
          "ppf": 1.0150004574223401
         },
         {
          "actual": 4.269258480130337,
          "ppf": 0.881321470794329
         },
         {
          "actual": 4.628371971944391,
          "ppf": 1.2023146007716026
         },
         {
          "actual": 2.476600545459298,
          "ppf": -0.33554234079095346
         },
         {
          "actual": 0.9383243141062194,
          "ppf": -1.4160213403368387
         },
         {
          "actual": 2.6222159713964617,
          "ppf": -0.24224310772077434
         },
         {
          "actual": 2.304902181563452,
          "ppf": -0.455934174606559
         },
         {
          "actual": 3.8872274464535934,
          "ppf": 0.6408646822135057
         },
         {
          "actual": 0.24263309304583988,
          "ppf": -1.832706310269519
         },
         {
          "actual": 2.2260426482698334,
          "ppf": -0.5137408472332328
         },
         {
          "actual": 2.9281141439377736,
          "ppf": -0.03338050112698281
         },
         {
          "actual": 0.4468581540284611,
          "ppf": -1.7353673604411195
         },
         {
          "actual": 4.44280929672571,
          "ppf": 1.026773476650495
         },
         {
          "actual": 4.203599676412047,
          "ppf": 0.8417404538027532
         },
         {
          "actual": 2.036109123063246,
          "ppf": -0.6636327267197603
         },
         {
          "actual": 5.678542046640845,
          "ppf": 2.0581707243808673
         },
         {
          "actual": 3.759070640297703,
          "ppf": 0.555588921715623
         },
         {
          "actual": 2.740038609798409,
          "ppf": -0.17462705987777494
         },
         {
          "actual": 3.302557547244749,
          "ppf": 0.21788278249132031
         },
         {
          "actual": 1.0686342949042642,
          "ppf": -1.3114209239510588
         },
         {
          "actual": 4.645197380835424,
          "ppf": 1.2109772677311739
         },
         {
          "actual": 0.7939863235715189,
          "ppf": -1.5346417063831312
         },
         {
          "actual": 3.8443965505447872,
          "ppf": 0.6127906401086275
         },
         {
          "actual": 2.2293893181908566,
          "ppf": -0.5080215312358226
         },
         {
          "actual": 3.806111144019032,
          "ppf": 0.5844115934696462
         },
         {
          "actual": 2.058870609422847,
          "ppf": -0.6501380965748045
         },
         {
          "actual": 2.9281141439377736,
          "ppf": -0.03272281461490609
         },
         {
          "actual": 0.9383243141062194,
          "ppf": -1.418795277846386
         },
         {
          "actual": 2.5614077876251717,
          "ppf": -0.2819501444812339
         },
         {
          "actual": 3.2541992444698713,
          "ppf": 0.17723668875717422
         },
         {
          "actual": 0.8650740986563173,
          "ppf": -1.485679875181366
         },
         {
          "actual": 2.2012517008667523,
          "ppf": -0.5372037253962685
         },
         {
          "actual": 2.29445160200771,
          "ppf": -0.47063668252417523
         },
         {
          "actual": 2.5832025119877717,
          "ppf": -0.2720150944215112
         },
         {
          "actual": 3.5147130874097336,
          "ppf": 0.36093996745972967
         },
         {
          "actual": 4.187556527886602,
          "ppf": 0.8315645925067807
         },
         {
          "actual": 0.14087963153544955,
          "ppf": -1.8526131498500336
         },
         {
          "actual": 2.5649492353683594,
          "ppf": -0.28002308414045723
         },
         {
          "actual": 3.284118356140367,
          "ppf": 0.20511100530594947
         },
         {
          "actual": 1.96872982732176,
          "ppf": -0.6930425756858016
         },
         {
          "actual": 4.743604232480011,
          "ppf": 1.2887434102240327
         },
         {
          "actual": 2.640203259734464,
          "ppf": -0.23400537080257636
         },
         {
          "actual": 0.5719191656508041,
          "ppf": -1.6419366085906062
         },
         {
          "actual": 3.8735960624957424,
          "ppf": 0.6297504877630623
         },
         {
          "actual": 1.6637755559747442,
          "ppf": -0.9363224227535157
         },
         {
          "actual": 2.8868885328590093,
          "ppf": -0.06928391329607296
         },
         {
          "actual": 2.550342907449497,
          "ppf": -0.28642995386052467
         },
         {
          "actual": 2.6993894801028406,
          "ppf": -0.20010930807412594
         },
         {
          "actual": 3.70696469447091,
          "ppf": 0.506254638001276
         },
         {
          "actual": 2.130536194531685,
          "ppf": -0.5983621690895953
         },
         {
          "actual": 0.7434102339595217,
          "ppf": -1.5623873211962018
         },
         {
          "actual": 4.132915747758526,
          "ppf": 0.8040965510469438
         },
         {
          "actual": 2.327225648796495,
          "ppf": -0.4423178278989999
         },
         {
          "actual": 3.417851991728701,
          "ppf": 0.29104020113376317
         },
         {
          "actual": 5.817263614475707,
          "ppf": 2.170849555616688
         },
         {
          "actual": 3.9092339997398864,
          "ppf": 0.6609539320321549
         },
         {
          "actual": 4.560855939374677,
          "ppf": 1.1306962858817882
         },
         {
          "actual": 2.796656263499515,
          "ppf": -0.1310327524608199
         },
         {
          "actual": 2.8827448375146556,
          "ppf": -0.0717999617067238
         },
         {
          "actual": 1.5247769284731836,
          "ppf": -1.0336817773008513
         },
         {
          "actual": 1.5741557798295605,
          "ppf": -0.9990262754527249
         },
         {
          "actual": 3.404522030499726,
          "ppf": 0.27865612393168193
         },
         {
          "actual": 3.4448704630920415,
          "ppf": 0.31406111417034066
         },
         {
          "actual": 2.8819694694323217,
          "ppf": -0.07227926007391573
         },
         {
          "actual": 3.0080698627184708,
          "ppf": 0.007141026167339984
         },
         {
          "actual": 2.7090164942726727,
          "ppf": -0.19779315237057843
         },
         {
          "actual": 3.7571313435960074,
          "ppf": 0.5535678939647005
         },
         {
          "actual": 3.443415024890155,
          "ppf": 0.30966967239521276
         },
         {
          "actual": 2.352807035510149,
          "ppf": -0.4183897970648902
         },
         {
          "actual": 1.019187780240878,
          "ppf": -1.3393221346139987
         },
         {
          "actual": 1.1527390269348001,
          "ppf": -1.2620583528489266
         },
         {
          "actual": 3.6604843397165356,
          "ppf": 0.48134469933768376
         },
         {
          "actual": 2.2885704922301695,
          "ppf": -0.4760507944604779
         },
         {
          "actual": 2.4609337588863416,
          "ppf": -0.3539330757116498
         },
         {
          "actual": 3.377668900112316,
          "ppf": 0.2668719062888525
         },
         {
          "actual": 2.2885704922301695,
          "ppf": -0.47585002373625895
         },
         {
          "actual": 3.1431846454828554,
          "ppf": 0.11345261448447412
         },
         {
          "actual": 1.0686342949042642,
          "ppf": -1.3109974322434883
         },
         {
          "actual": 3.0053737564755747,
          "ppf": 0.0011652624124963028
         },
         {
          "actual": 6.077613092909417,
          "ppf": 2.4459575246868033
         },
         {
          "actual": 3.3620052696845284,
          "ppf": 0.25080563639078224
         },
         {
          "actual": 4.671517513892042,
          "ppf": 1.2356016520574888
         },
         {
          "actual": 2.047346274471702,
          "ppf": -0.6568704590981752
         },
         {
          "actual": 3.031100163120993,
          "ppf": 0.026027126202644874
         },
         {
          "actual": 0,
          "ppf": -2.2343401506727907
         },
         {
          "actual": 1.6999740168345643,
          "ppf": -0.9077112458789486
         },
         {
          "actual": 2.204091112177019,
          "ppf": -0.5325153911447477
         },
         {
          "actual": 3.5147130874097336,
          "ppf": 0.36068486275734707
         },
         {
          "actual": 0.9281558793752013,
          "ppf": -1.4260260444814343
         },
         {
          "actual": 2.476600545459298,
          "ppf": -0.33687020454152844
         },
         {
          "actual": 0.7376876885318291,
          "ppf": -1.5833860865076415
         },
         {
          "actual": 0,
          "ppf": -2.5545516698453534
         },
         {
          "actual": 4.192648156736059,
          "ppf": 0.8379143411489874
         },
         {
          "actual": 5.447876032157902,
          "ppf": 1.8955044425442023
         },
         {
          "actual": 3.8683782494232135,
          "ppf": 0.6264750314344101
         },
         {
          "actual": 3.4362615167289308,
          "ppf": 0.30578509328083736
         },
         {
          "actual": 2.6945738980165728,
          "ppf": -0.20559924858819129
         },
         {
          "actual": 2.416121928723649,
          "ppf": -0.38168333919047626
         },
         {
          "actual": 4.57567872218324,
          "ppf": 1.1516677026045539
         },
         {
          "actual": 2.473862036082046,
          "ppf": -0.34256781566763334
         },
         {
          "actual": 4.607896344872914,
          "ppf": 1.1828456208881781
         },
         {
          "actual": 2.149666393535521,
          "ppf": -0.5903051999469341
         },
         {
          "actual": 1.4488593785483677,
          "ppf": -1.0941951306427613
         },
         {
          "actual": 3.1205563833853276,
          "ppf": 0.10641864982657304
         },
         {
          "actual": 3.1202370057129203,
          "ppf": 0.10365462006008198
         },
         {
          "actual": 2.8259154914885873,
          "ppf": -0.10744034375323355
         },
         {
          "actual": 4.218391596989024,
          "ppf": 0.8519183297526776
         },
         {
          "actual": 3.709818712891412,
          "ppf": 0.510470621226536
         },
         {
          "actual": 3.7270218678385443,
          "ppf": 0.5182464049833595
         },
         {
          "actual": 3.0214078815961893,
          "ppf": 0.01933260445460071
         },
         {
          "actual": 4.218391596989024,
          "ppf": 0.8506305547504667
         },
         {
          "actual": 4.799063319889024,
          "ppf": 1.340348497185215
         },
         {
          "actual": 3.07251626243113,
          "ppf": 0.058445757187687006
         },
         {
          "actual": 3.1168576753970587,
          "ppf": 0.10077125881459209
         },
         {
          "actual": 3.302705693436586,
          "ppf": 0.2188619658362131
         },
         {
          "actual": 3.443415024890155,
          "ppf": 0.31023395011852295
         },
         {
          "actual": 2.2035762333314275,
          "ppf": -0.5360995289644007
         },
         {
          "actual": 0.13729770037949993,
          "ppf": -1.8596393875672605
         },
         {
          "actual": 2.2309968403440448,
          "ppf": -0.5041500206804398
         },
         {
          "actual": 2.506668668927563,
          "ppf": -0.31588219674024753
         },
         {
          "actual": 1.9179178353217308,
          "ppf": -0.7306913547517963
         },
         {
          "actual": 3.9404769569670943,
          "ppf": 0.6785275810859421
         },
         {
          "actual": 1.2666002397609872,
          "ppf": -1.1922802966428159
         },
         {
          "actual": 1.6899754770104811,
          "ppf": -0.914771076235098
         },
         {
          "actual": 3.502277162287925,
          "ppf": 0.3492291277248726
         },
         {
          "actual": 3.1168576753970587,
          "ppf": 0.10107156944618606
         },
         {
          "actual": 5.409306983195006,
          "ppf": 1.8385049541315408
         },
         {
          "actual": 3.9338173067820743,
          "ppf": 0.6688551837914974
         },
         {
          "actual": 2.1511339542634142,
          "ppf": -0.5849078587131926
         },
         {
          "actual": 1.7519302705528699,
          "ppf": -0.8768364311233275
         },
         {
          "actual": 2.262541036118327,
          "ppf": -0.4906922590084007
         },
         {
          "actual": 5.096757941283815,
          "ppf": 1.6070604893119644
         },
         {
          "actual": 0.8667224430883744,
          "ppf": -1.483521280347056
         },
         {
          "actual": 3.4275694325330575,
          "ppf": 0.29553179150363573
         },
         {
          "actual": 1.791378772391306,
          "ppf": -0.8494299028522836
         },
         {
          "actual": 3.485940568307048,
          "ppf": 0.33636428177067407
         },
         {
          "actual": 5.3375101979872195,
          "ppf": 1.7629564438969592
         },
         {
          "actual": 2.799419969152829,
          "ppf": -0.12693532859432763
         },
         {
          "actual": 1.9979390346651658,
          "ppf": -0.6819920175369037
         },
         {
          "actual": 2.9306211566001834,
          "ppf": -0.027940047844402613
         },
         {
          "actual": 1.4566673005700987,
          "ppf": -1.082633610628131
         },
         {
          "actual": 1.5344471102121473,
          "ppf": -1.0289016820483865
         },
         {
          "actual": 1.0576347026571349,
          "ppf": -1.3162370251776214
         },
         {
          "actual": 1.5841348642586723,
          "ppf": -0.989718994265886
         },
         {
          "actual": 1.9838641186557195,
          "ppf": -0.6867501189408954
         },
         {
          "actual": 4.38416231999923,
          "ppf": 0.965530891305111
         },
         {
          "actual": 1.7824186562547168,
          "ppf": -0.8605398960740637
         },
         {
          "actual": 1.3509465300902908,
          "ppf": -1.1516677026045534
         },
         {
          "actual": 3.8676249661970203,
          "ppf": 0.6249487843911394
         },
         {
          "actual": 3.8370092474001436,
          "ppf": 0.6062427194842117
         },
         {
          "actual": 2.8670829824078456,
          "ppf": -0.08498706245206829
         },
         {
          "actual": 2.389155448623168,
          "ppf": -0.3996131926535453
         },
         {
          "actual": 0.7730561326238392,
          "ppf": -1.548761936807247
         },
         {
          "actual": 3.6075758075988675,
          "ppf": 0.445747134730325
         },
         {
          "actual": 3.0154021259550787,
          "ppf": 0.012160856001633337
         },
         {
          "actual": 3.2129082442311105,
          "ppf": 0.15385171687868263
         },
         {
          "actual": 1.100046037737611,
          "ppf": -1.298817047581398
         },
         {
          "actual": 4.450777896670668,
          "ppf": 1.0335798272278363
         },
         {
          "actual": 2.414765771770353,
          "ppf": -0.3862506635937862
         },
         {
          "actual": 3.2004829315036574,
          "ppf": 0.14466687280168836
         },
         {
          "actual": 1.8243259622089927,
          "ppf": -0.8131288590611944
         },
         {
          "actual": 1.4260887865264165,
          "ppf": -1.1019482222552694
         },
         {
          "actual": 6.4621359492613095,
          "ppf": 2.774374973629212
         },
         {
          "actual": 2.4072718766665044,
          "ppf": -0.39269723387374567
         },
         {
          "actual": 2.108834074853822,
          "ppf": -0.6222632172404192
         },
         {
          "actual": 0.840039992588377,
          "ppf": -1.5015408678591122
         },
         {
          "actual": 3.9092339997398864,
          "ppf": 0.6619207265178876
         },
         {
          "actual": 4.329911552063301,
          "ppf": 0.9270990138227018
         },
         {
          "actual": 4.611393400634728,
          "ppf": 1.193132198328866
         },
         {
          "actual": 2.7597465957762117,
          "ppf": -0.16317067325823417
         },
         {
          "actual": 3.370018918252927,
          "ppf": 0.25586550905760097
         },
         {
          "actual": 3.806111144019032,
          "ppf": 0.5852624220950229
         },
         {
          "actual": 2.01603271386908,
          "ppf": -0.6752964349948904
         },
         {
          "actual": 4.1049702660485305,
          "ppf": 0.7828115023616029
         },
         {
          "actual": 2.1892389943050388,
          "ppf": -0.5528018887730554
         },
         {
          "actual": 2.9414615240161925,
          "ppf": -0.023038374164082703
         },
         {
          "actual": 2.430001959741113,
          "ppf": -0.3690518672164832
         },
         {
          "actual": 3.01076909867046,
          "ppf": 0.008993554745013102
         },
         {
          "actual": 2.416055066813084,
          "ppf": -0.38515634858979186
         },
         {
          "actual": 4.812303970359312,
          "ppf": 1.3560662981204061
         },
         {
          "actual": 3.224002359909561,
          "ppf": 0.16202018170811816
         },
         {
          "actual": 1.5344471102121473,
          "ppf": -1.0293075831056773
         },
         {
          "actual": 3.2046211341607704,
          "ppf": 0.1472035373275946
         },
         {
          "actual": 3.3525204112417732,
          "ppf": 0.24772350488090514
         },
         {
          "actual": 3.5515479463962194,
          "ppf": 0.4037589735066114
         },
         {
          "actual": 2.929679430855955,
          "ppf": -0.03116833860909183
         },
         {
          "actual": 2.861982593933774,
          "ppf": -0.08846603106605029
         },
         {
          "actual": 3.0772618600502653,
          "ppf": 0.06323518037882894
         },
         {
          "actual": 2.264533038582538,
          "ppf": -0.48934466202583377
         },
         {
          "actual": 2.108834074853822,
          "ppf": -0.6219006471615914
         },
         {
          "actual": 4.099982937408212,
          "ppf": 0.7782734092459113
         },
         {
          "actual": 3.6724330479010305,
          "ppf": 0.4927153275477848
         },
         {
          "actual": 1.4571946398090088,
          "ppf": -1.0784554071733141
         },
         {
          "actual": 1.580085774418476,
          "ppf": -0.9913781986881044
         },
         {
          "actual": 4.801684504936242,
          "ppf": 1.342699786132291
         },
         {
          "actual": 4.77061875760811,
          "ppf": 1.3213699264392247
         },
         {
          "actual": 2.278350457465894,
          "ppf": -0.4840303013410874
         },
         {
          "actual": 3.1518942941429198,
          "ppf": 0.12235837219864543
         },
         {
          "actual": 2.6955666097985014,
          "ppf": -0.20224355923083998
         },
         {
          "actual": 1.5841348642586723,
          "ppf": -0.9896214788493224
         },
         {
          "actual": 4.286803077273319,
          "ppf": 0.8923899679269262
         },
         {
          "actual": 4.652520739188955,
          "ppf": 1.2162187837740386
         },
         {
          "actual": 0.9046937354621626,
          "ppf": -1.4417285073591266
         },
         {
          "actual": 3.996273186604174,
          "ppf": 0.7157882537918497
         },
         {
          "actual": 1.8045094508157014,
          "ppf": -0.8361330144690948
         },
         {
          "actual": 1.4865206810072835,
          "ppf": -1.0614027110168798
         },
         {
          "actual": 3.52727087924207,
          "ppf": 0.3717398688869853
         },
         {
          "actual": 4.57567872218324,
          "ppf": 1.152247818639924
         },
         {
          "actual": 5.927412132379378,
          "ppf": 2.255882301753377
         },
         {
          "actual": 0.4406806248568797,
          "ppf": -1.7435053472048074
         },
         {
          "actual": 3.0441101893667972,
          "ppf": 0.03248365940749129
         },
         {
          "actual": 3.876465271827973,
          "ppf": 0.6314272204230454
         },
         {
          "actual": 2.7597465957762117,
          "ppf": -0.1622623725833556
         },
         {
          "actual": 4.7821242517592815,
          "ppf": 1.324811295789568
         },
         {
          "actual": 3.764003167734204,
          "ppf": 0.556077095871159
         },
         {
          "actual": 4.7669860229180525,
          "ppf": 1.31765935025672
         },
         {
          "actual": 1.41582107756945,
          "ppf": -1.1140925862225586
         },
         {
          "actual": 3.4345889062707124,
          "ppf": 0.30215530592655077
         },
         {
          "actual": 4.004523305923497,
          "ppf": 0.7217457527537009
         },
         {
          "actual": 3.0702625514459103,
          "ppf": 0.05192230374304806
         },
         {
          "actual": 2.1892389943050388,
          "ppf": -0.5517578586122907
         },
         {
          "actual": 3.1029177939165757,
          "ppf": 0.0884060398974213
         },
         {
          "actual": 3.9351775444416695,
          "ppf": 0.6703506649192716
         },
         {
          "actual": 2.636083765945923,
          "ppf": -0.2367699766816917
         },
         {
          "actual": 2.2707126615395237,
          "ppf": -0.48577781537300935
         },
         {
          "actual": 2.829214093993524,
          "ppf": -0.10581770535479595
         },
         {
          "actual": 4.560855939374677,
          "ppf": 1.1295645936076661
         },
         {
          "actual": 4.505955783948526,
          "ppf": 1.0627681742114783
         },
         {
          "actual": 2.5009256020104553,
          "ppf": -0.3217293267621933
         },
         {
          "actual": 3.4362615167289308,
          "ppf": 0.3050963771340305
         },
         {
          "actual": 2.612097462732571,
          "ppf": -0.2490177118122298
         },
         {
          "actual": 4.9694812217220266,
          "ppf": 1.4867617734951866
         },
         {
          "actual": 1.9032762816303772,
          "ppf": -0.7526417925466368
         },
         {
          "actual": 4.822254653491092,
          "ppf": 1.362538925078394
         },
         {
          "actual": 3.0772618600502653,
          "ppf": 0.06287592468592303
         },
         {
          "actual": 2.1969738064527533,
          "ppf": -0.5454368939847084
         },
         {
          "actual": 4.087644265616956,
          "ppf": 0.7664363810513555
         },
         {
          "actual": 4.932002981344229,
          "ppf": 1.451768790304463
         },
         {
          "actual": 2.9505454261991337,
          "ppf": -0.018914228724584634
         },
         {
          "actual": 4.381261328690335,
          "ppf": 0.9612538708958769
         },
         {
          "actual": 2.119362452339387,
          "ppf": -0.6127185424917841
         },
         {
          "actual": 5.226689970511145,
          "ppf": 1.6915408918352273
         },
         {
          "actual": 4.395893626640973,
          "ppf": 0.9730824752537055
         },
         {
          "actual": 4.56572532735102,
          "ppf": 1.1410619676434057
         },
         {
          "actual": 0.9417005909674168,
          "ppf": -1.4113143208966927
         },
         {
          "actual": 3.571429648206034,
          "ppf": 0.4215878672963491
         },
         {
          "actual": 4.422984692604889,
          "ppf": 1.0100119387996247
         },
         {
          "actual": 2.292769365320146,
          "ppf": -0.47203901064768977
         },
         {
          "actual": 2.197275042120385,
          "ppf": -0.5440505960742278
         },
         {
          "actual": 3.571429648206034,
          "ppf": 0.4219144430143873
         },
         {
          "actual": 4.327175087064787,
          "ppf": 0.9198679176048417
         },
         {
          "actual": 4.963672378006884,
          "ppf": 1.4675478001146018
         },
         {
          "actual": 3.528313924252298,
          "ppf": 0.3742382773414143
         },
         {
          "actual": 4.37833734981017,
          "ppf": 0.958412266602729
         },
         {
          "actual": 5.32725530635824,
          "ppf": 1.73833793297343
         },
         {
          "actual": 3.8098464315756595,
          "ppf": 0.5859717697088129
         },
         {
          "actual": 1.926865570357049,
          "ppf": -0.7259390607770555
         },
         {
          "actual": 2.861982593933774,
          "ppf": -0.08834604904695868
         },
         {
          "actual": 2.330677677840283,
          "ppf": -0.4342267700732254
         },
         {
          "actual": 4.563754280853919,
          "ppf": 1.1371747747123562
         },
         {
          "actual": 0,
          "ppf": -2.1462916782542685
         },
         {
          "actual": 1.9807907491514183,
          "ppf": -0.6903099614472241
         },
         {
          "actual": 3.235040391212128,
          "ppf": 0.16898701949558706
         },
         {
          "actual": 3.0455786299556427,
          "ppf": 0.03589180308947554
         },
         {
          "actual": 0.9931960440732351,
          "ppf": -1.3690691443718987
         },
         {
          "actual": 4.43302212365047,
          "ppf": 1.0186078884765777
         },
         {
          "actual": 1.8195842050690014,
          "ppf": -0.8197168815349066
         },
         {
          "actual": 1.9135954574516472,
          "ppf": -0.7349904003070986
         },
         {
          "actual": 4.584472256080676,
          "ppf": 1.1678236226804022
         },
         {
          "actual": 2.01603271386908,
          "ppf": -0.6764978966492132
         },
         {
          "actual": 1.608476149863558,
          "ppf": -0.9692519804070765
         },
         {
          "actual": 2.8002896828265476,
          "ppf": -0.12603177432444423
         },
         {
          "actual": 3.861886876345778,
          "ppf": 0.6172669397261875
         },
         {
          "actual": 0.24263309304583988,
          "ppf": -1.8330268437807198
         },
         {
          "actual": 2.999935099881793,
          "ppf": -0.003794580718969475
         },
         {
          "actual": 2.9583420191668717,
          "ppf": -0.013117044939619807
         },
         {
          "actual": 4.377742568493921,
          "ppf": 0.9552954135749797
         },
         {
          "actual": 0.2612325696118641,
          "ppf": -1.8194107663805807
         },
         {
          "actual": 2.476600545459298,
          "ppf": -0.3362378145342295
         },
         {
          "actual": 2.729663394483618,
          "ppf": -0.18847817373385053
         },
         {
          "actual": 2.799419969152829,
          "ppf": -0.12820047886341426
         },
         {
          "actual": 5.246199780460217,
          "ppf": 1.704935007946564
         },
         {
          "actual": 2.119362452339387,
          "ppf": -0.6130790624372361
         },
         {
          "actual": 3.3323845248135204,
          "ppf": 0.2365241609550293
         },
         {
          "actual": 3.071037876046957,
          "ppf": 0.05748803692262079
         },
         {
          "actual": 2.8008615745994554,
          "ppf": -0.12344215298930214
         },
         {
          "actual": 3.63119088761629,
          "ppf": 0.46004878708722513
         },
         {
          "actual": 3.8845380848889786,
          "ppf": 0.6399110437954463
         },
         {
          "actual": 1.8014761018887486,
          "ppf": -0.8400384411623674
         },
         {
          "actual": 0.8898926542746042,
          "ppf": -1.4564127037767767
         },
         {
          "actual": 1.7547492223271555,
          "ppf": -0.8721067104499857
         },
         {
          "actual": 1.2540393547522357,
          "ppf": -1.1955709874349616
         },
         {
          "actual": 4.1838908512170665,
          "ppf": 0.8289498060898944
         },
         {
          "actual": 4.3700670581816015,
          "ppf": 0.9525640023212727
         },
         {
          "actual": 1.9838641186557195,
          "ppf": -0.6870527450400464
         },
         {
          "actual": 2.760085556988519,
          "ppf": -0.1609909763272429
         },
         {
          "actual": 4.327330844988682,
          "ppf": 0.9223338795026756
         },
         {
          "actual": 3.059358967292334,
          "ppf": 0.0446234303195897
         },
         {
          "actual": 0.24263309304583988,
          "ppf": -1.8320658075480911
         },
         {
          "actual": 1.8730561185312646,
          "ppf": -0.7764141882507154
         },
         {
          "actual": 2.797625467392173,
          "ppf": -0.12886325839740162
         },
         {
          "actual": 1.41582107756945,
          "ppf": -1.1149822336615778
         },
         {
          "actual": 2.6713909239880764,
          "ppf": -0.21311223567119106
         },
         {
          "actual": 4.4171156138515855,
          "ppf": 0.9997155006957777
         },
         {
          "actual": 1.7539083554095714,
          "ppf": -0.8728061774142619
         },
         {
          "actual": 1.41582107756945,
          "ppf": -1.116095535465861
         },
         {
          "actual": 3.4036440748965044,
          "ppf": 0.2766687465215543
         },
         {
          "actual": 1.5134072174173336,
          "ppf": -1.0401264333939624
         },
         {
          "actual": 2.304574517097224,
          "ppf": -0.4587870327849
         },
         {
          "actual": 0,
          "ppf": -2.070244577961045
         },
         {
          "actual": 0.9046937354621626,
          "ppf": -1.443081392015495
         },
         {
          "actual": 2.8816378668709186,
          "ppf": -0.07419662070627671
         },
         {
          "actual": 2.5756468698768917,
          "ppf": -0.275054806972892
         },
         {
          "actual": 2.523015846842575,
          "ppf": -0.3017174981939682
         },
         {
          "actual": 2.636083765945923,
          "ppf": -0.23554104079559943
         },
         {
          "actual": 1.1322193976456338,
          "ppf": -1.2779871324857874
         },
         {
          "actual": 4.741465565056366,
          "ppf": 1.2787988810865492
         },
         {
          "actual": 2.1069645853790506,
          "ppf": -0.6227709528262566
         },
         {
          "actual": 3.334051145992702,
          "ppf": 0.23904445258556295
         },
         {
          "actual": 0.9993829708152718,
          "ppf": -1.3587688442762633
         },
         {
          "actual": 2.30489332691127,
          "ppf": -0.4570616039952612
         },
         {
          "actual": 2.203968427576285,
          "ppf": -0.5343755290268651
         },
         {
          "actual": 1.6365836396787246,
          "ppf": -0.9595479785361459
         },
         {
          "actual": 1.6860575582670392,
          "ppf": -0.9195030655437958
         },
         {
          "actual": 4.627999365497622,
          "ppf": 1.1967930528560546
         },
         {
          "actual": 4.579604912362144,
          "ppf": 1.161934977222717
         },
         {
          "actual": 3.9351775444416695,
          "ppf": 0.6706499410277041
         },
         {
          "actual": 3.450976582221779,
          "ppf": 0.31619628223091345
         },
         {
          "actual": 2.729663394483618,
          "ppf": -0.1892689957202429
         },
         {
          "actual": 4.225727026458801,
          "ppf": 0.8528635966849349
         },
         {
          "actual": 1.637188375042384,
          "ppf": -0.9569943627172688
         },
         {
          "actual": 3.087486497943529,
          "ppf": 0.06952351780794236
         },
         {
          "actual": 1.5409391087503965,
          "ppf": -1.0223293915100546
         },
         {
          "actual": 4.0786800726842225,
          "ppf": 0.757170900716432
         },
         {
          "actual": 4.7669860229180525,
          "ppf": 1.316379137873767
         },
         {
          "actual": 1.1252134488179804,
          "ppf": -1.2877842972252784
         },
         {
          "actual": 1.9436725998174254,
          "ppf": -0.7120873151024665
         },
         {
          "actual": 2.2997624455724837,
          "ppf": -0.46097896955575507
         },
         {
          "actual": 4.450777896670668,
          "ppf": 1.0327646130663173
         },
         {
          "actual": 4.246099768918515,
          "ppf": 0.8727187206943118
         },
         {
          "actual": 3.574211672404831,
          "ppf": 0.4266221468737186
         },
         {
          "actual": 1.8414326573424278,
          "ppf": -0.7978374310332901
         },
         {
          "actual": 2.203968427576285,
          "ppf": -0.535478705681124
         },
         {
          "actual": 3.216783896871297,
          "ppf": 0.15518215976498229
         },
         {
          "actual": 3.0455786299556427,
          "ppf": 0.03541344289124218
         },
         {
          "actual": 4.534669524374084,
          "ppf": 1.0955008894519631
         },
         {
          "actual": 3.970234622434651,
          "ppf": 0.6972274284202936
         },
         {
          "actual": 2.4454258927408845,
          "ppf": -0.36553588949342597
         },
         {
          "actual": 2.474592223183557,
          "ppf": -0.33895804929923234
         },
         {
          "actual": 3.1089502497259525,
          "ppf": 0.09440676826060575
         },
         {
          "actual": 2.636083765945923,
          "ppf": -0.23560247912653642
         },
         {
          "actual": 5.996357999307744,
          "ppf": 2.3573845577039383
         },
         {
          "actual": 5.817263614475707,
          "ppf": 2.168961799885396
         },
         {
          "actual": 3.412199584636813,
          "ppf": 0.28742624499927377
         },
         {
          "actual": 1.0219595756782716,
          "ppf": -1.3326122903763697
         },
         {
          "actual": 2.155914046620168,
          "ppf": -0.5743752802306367
         },
         {
          "actual": 2.553842687682175,
          "ppf": -0.284313777485779
         },
         {
          "actual": 5.929283089815278,
          "ppf": 2.2705852349525557
         },
         {
          "actual": 5.996357999307744,
          "ppf": 2.3404134486973684
         },
         {
          "actual": 1.7519302705528699,
          "ppf": -0.8763099388574563
         },
         {
          "actual": 2.047346274471702,
          "ppf": -0.6585025303185958
         },
         {
          "actual": 1.8136894851634682,
          "ppf": -0.8259203742516049
         },
         {
          "actual": 4.112886401736728,
          "ppf": 0.7955393087602305
         },
         {
          "actual": 4.189479630419976,
          "ppf": 0.8353704005202149
         },
         {
          "actual": 3.2792759993142604,
          "ppf": 0.20059705620410836
         },
         {
          "actual": 2.9144126521362694,
          "ppf": -0.03995820746324763
         },
         {
          "actual": 3.5706256778692946,
          "ppf": 0.4195640994581413
         },
         {
          "actual": 2.4262023234369137,
          "ppf": -0.3726364656935011
         },
         {
          "actual": 4.207187655834974,
          "ppf": 0.8466901423513955
         },
         {
          "actual": 2.8928417975612537,
          "ppf": -0.05844575718768715
         },
         {
          "actual": 4.362337830108205,
          "ppf": 0.9474031625456184
         },
         {
          "actual": 1.9929204395037445,
          "ppf": -0.6838028016367782
         },
         {
          "actual": 3.5960465328099387,
          "ppf": 0.43994673831572156
         },
         {
          "actual": 5.045295911404573,
          "ppf": 1.5585510465455958
         },
         {
          "actual": 3.676587521781002,
          "ppf": 0.4949430349023252
         },
         {
          "actual": 1.5744047127295158,
          "ppf": -0.9970596703095983
         },
         {
          "actual": 2.330677677840283,
          "ppf": -0.4331763723226088
         },
         {
          "actual": 2.389155448623168,
          "ppf": -0.39928959351620585
         },
         {
          "actual": 3.462274944349426,
          "ppf": 0.3238697253746345
         },
         {
          "actual": 4.194051932815799,
          "ppf": 0.8400384411623674
         },
         {
          "actual": 2.7384748545808777,
          "ppf": -0.18075856969065582
         },
         {
          "actual": 3.487453027500659,
          "ppf": 0.3425678156676332
         },
         {
          "actual": 2.1533130210266465,
          "ppf": -0.5840572064015651
         },
         {
          "actual": 2.3371843898179034,
          "ppf": -0.43022468472180014
         },
         {
          "actual": 3.2422646631503014,
          "ppf": 0.17159410112139156
         },
         {
          "actual": 3.235040391212128,
          "ppf": 0.169350728978145
         },
         {
          "actual": 3.4784467602383766,
          "ppf": 0.3304892052505208
         },
         {
          "actual": 0.4620096778323629,
          "ppf": -1.7236356257231646
         },
         {
          "actual": 3.486966045205313,
          "ppf": 0.3403507665559295
         },
         {
          "actual": 3.0581600242692293,
          "ppf": 0.04354675792304467
         },
         {
          "actual": 2.965006840255633,
          "ppf": -0.011443721642488809
         },
         {
          "actual": 2.913600218753495,
          "ppf": -0.041812224700575266
         },
         {
          "actual": 3.5404671162817754,
          "ppf": 0.3948927772420104
         },
         {
          "actual": 3.528244918876405,
          "ppf": 0.372252173280256
         },
         {
          "actual": 3.010359231093489,
          "ppf": 0.007858130747975043
         },
         {
          "actual": 2.130536194531685,
          "ppf": -0.5998637556939843
         },
         {
          "actual": 2.8358066062221403,
          "ppf": -0.09920978940428485
         },
         {
          "actual": 1.5841348642586723,
          "ppf": -0.9860200003727592
         },
         {
          "actual": 1.8495597448249808,
          "ppf": -0.7916094126177371
         },
         {
          "actual": 6.014894401969654,
          "ppf": 2.397730272144355
         },
         {
          "actual": 2.7753734437569673,
          "ppf": -0.15064767233160414
         },
         {
          "actual": 4.1091165267652165,
          "ppf": 0.7840298015771798
         },
         {
          "actual": 0.8270903669612278,
          "ppf": -1.514206246005731
         },
         {
          "actual": 1.6499212038482054,
          "ppf": -0.9515298071127762
         },
         {
          "actual": 3.098605154967844,
          "ppf": 0.08037001329304228
         },
         {
          "actual": 4.641803899695579,
          "ppf": 1.207625214670487
         },
         {
          "actual": 5.226689970511145,
          "ppf": 1.6920408439018164
         },
         {
          "actual": 2.9255329037569204,
          "ppf": -0.03421757760830251
         },
         {
          "actual": 0.5564988179274424,
          "ppf": -1.668746085516896
         },
         {
          "actual": 3.1510533842988973,
          "ppf": 0.12091355445248866
         },
         {
          "actual": 5.363055181509576,
          "ppf": 1.7686383186297419
         },
         {
          "actual": 4.087644265616956,
          "ppf": 0.7669174175282123
         },
         {
          "actual": 2.044666849170354,
          "ppf": -0.6613257029083605
         },
         {
          "actual": 3.912726621541984,
          "ppf": 0.6655703766317091
         },
         {
          "actual": 3.8872274464535934,
          "ppf": 0.6404244690352291
         },
         {
          "actual": 1.6637755559744556,
          "ppf": -0.9405920395970988
         },
         {
          "actual": 0.2612325696118641,
          "ppf": -1.8209767622540123
         },
         {
          "actual": 1.559530816990154,
          "ppf": -1.005543665076343
         },
         {
          "actual": 1.936786957678179,
          "ppf": -0.7202733464196147
         },
         {
          "actual": 4.740323394705887,
          "ppf": 1.2755569250308874
         },
         {
          "actual": 3.575343184165699,
          "ppf": 0.4305524644997494
         },
         {
          "actual": 2.5649492353683594,
          "ppf": -0.27933953879002055
         },
         {
          "actual": 0,
          "ppf": -1.900208418459671
         },
         {
          "actual": 3.3728567301431385,
          "ppf": 0.2593247922702637
         },
         {
          "actual": 3.1253128157860357,
          "ppf": 0.10756055039178072
         },
         {
          "actual": 5.730464222644987,
          "ppf": 2.0815837828752746
         },
         {
          "actual": 5.817263614475707,
          "ppf": 2.1695901930375046
         },
         {
          "actual": 2.130536194531685,
          "ppf": -0.6006508409688978
         },
         {
          "actual": 0,
          "ppf": -2.2536048042191945
         },
         {
          "actual": 1.1804601935233952,
          "ppf": -1.2503513174267233
         },
         {
          "actual": 1.355739223772794,
          "ppf": -1.1466946190954785
         },
         {
          "actual": 3.430886416750674,
          "ppf": 0.3007170117816385
         },
         {
          "actual": 2.857793806206553,
          "ppf": -0.09236615000474664
         },
         {
          "actual": 0,
          "ppf": -2.5159226249991304
         },
         {
          "actual": 3.37288826903426,
          "ppf": 0.2609319410077707
         },
         {
          "actual": 1.184689335505295,
          "ppf": -1.238555791896386
         },
         {
          "actual": 3.006829774357507,
          "ppf": 0.005348279974792878
         },
         {
          "actual": 2.357057671877967,
          "ppf": -0.41591260533940416
         },
         {
          "actual": 4.966250411567705,
          "ppf": 1.469831976960224
         },
         {
          "actual": 1.302196899677224,
          "ppf": -1.171020396898549
         },
         {
          "actual": 2.999935099881793,
          "ppf": -0.0028982201710063614
         },
         {
          "actual": 2.208125452504616,
          "ppf": -0.5306570940044166
         },
         {
          "actual": 3.0669687783031128,
          "ppf": 0.05126410092654261
         },
         {
          "actual": 2.155914046620168,
          "ppf": -0.575432707813488
         },
         {
          "actual": 5.861659760912625,
          "ppf": 2.2117139606779097
         },
         {
          "actual": 2.6955666097985014,
          "ppf": -0.2020605874540197
         },
         {
          "actual": 1.0751268738497024,
          "ppf": -1.3088834918490853
         },
         {
          "actual": 3.0601103896727926,
          "ppf": 0.04809306625676788
         },
         {
          "actual": 3.954655495880637,
          "ppf": 0.6900066559606268
         },
         {
          "actual": 3.7270218678385443,
          "ppf": 0.5175630703667535
         },
         {
          "actual": 2.165870941762221,
          "ppf": -0.5633456867666201
         },
         {
          "actual": 2.1420093120039825,
          "ppf": -0.5951490151140268
         },
         {
          "actual": 4.110355884271193,
          "ppf": 0.7850866029553046
         },
         {
          "actual": 0,
          "ppf": -2.580364872393552
         },
         {
          "actual": 0.7995344063257436,
          "ppf": -1.5269275392890025
         },
         {
          "actual": 5.221768627070261,
          "ppf": 1.6855741801035953
         },
         {
          "actual": 2.5614077876251717,
          "ppf": -0.2826341914755001
         },
         {
          "actual": 5.132899527275687,
          "ppf": 1.6389533677900179
         },
         {
          "actual": 2.9281141439377736,
          "ppf": -0.033858827643220644
         },
         {
          "actual": 1.5772952977270138,
          "ppf": -0.9962741071346103
         },
         {
          "actual": 0,
          "ppf": -2.3790943323823734
         },
         {
          "actual": 3.4839585779420275,
          "ppf": 0.3325725938608334
         },
         {
          "actual": 1.110654841149979,
          "ppf": -1.292178530267397
         },
         {
          "actual": 4.187833950870695,
          "ppf": 0.8337620308920001
         },
         {
          "actual": 1.9349474337953714,
          "ppf": -0.7232197254840537
         },
         {
          "actual": 3.1063791427976155,
          "ppf": 0.09332639251836254
         },
         {
          "actual": 0.9822170298845748,
          "ppf": -1.3819970454600103
         },
         {
          "actual": 4.7623121141135165,
          "ppf": 1.3093058119598213
         },
         {
          "actual": 4.233523804885637,
          "ppf": 0.8627052942076782
         },
         {
          "actual": 4.390389124971845,
          "ppf": 0.9680101281290734
         },
         {
          "actual": 2.1676930105193195,
          "ppf": -0.5622955027948732
         },
         {
          "actual": 3.5920364450048563,
          "ppf": 0.4382358224360458
         },
         {
          "actual": 1.826475985348099,
          "ppf": -0.8112174541973942
         },
         {
          "actual": 2.8008615745992334,
          "ppf": -0.12561015091994682
         },
         {
          "actual": 4.51286390096851,
          "ppf": 1.07600013988543
         },
         {
          "actual": 4.901496426216469,
          "ppf": 1.425200608707966
         },
         {
          "actual": 3.2585220978866793,
          "ppf": 0.18489053195024452
         },
         {
          "actual": 1.936786957678179,
          "ppf": -0.7204282629901656
         },
         {
          "actual": 3.100499959192458,
          "ppf": 0.08228857328159744
         },
         {
          "actual": 4.925088593697094,
          "ppf": 1.439367288810991
         },
         {
          "actual": 3.3944674633973406,
          "ppf": 0.2726352389129331
         },
         {
          "actual": 4.6848910218939865,
          "ppf": 1.2515273902767352
         },
         {
          "actual": 4.742300356663007,
          "ppf": 1.2808319480156514
         },
         {
          "actual": 3.486612502611351,
          "ppf": 0.3395277176506259
         },
         {
          "actual": 5.780149261570917,
          "ppf": 2.132156097257884
         },
         {
          "actual": 3.511629548699993,
          "ppf": 0.3587723241729142
         },
         {
          "actual": 1.5842428872786547,
          "ppf": -0.9845635797809883
         },
         {
          "actual": 2.3285033652446727,
          "ppf": -0.44086853409058435
         },
         {
          "actual": 2.4726273400378345,
          "ppf": -0.34472313397278315
         },
         {
          "actual": 3.954655495880637,
          "ppf": 0.6890971200632472
         },
         {
          "actual": 3.021069162523424,
          "ppf": 0.016643102070835917
         },
         {
          "actual": 3.644409866692449,
          "ppf": 0.4673681735796727
         },
         {
          "actual": 2.6623396207327485,
          "ppf": -0.22235201942066735
         },
         {
          "actual": 2.0972815221810976,
          "ppf": -0.6309896409197787
         },
         {
          "actual": 5.732421939400729,
          "ppf": 2.0852485005737433
         },
         {
          "actual": 2.2135502908057956,
          "ppf": -0.5288006275618283
         },
         {
          "actual": 4.362337830108205,
          "ppf": 0.9470288128704545
         },
         {
          "actual": 4.519907578345008,
          "ppf": 1.083385547154907
         },
         {
          "actual": 3.419319097357216,
          "ppf": 0.2925367411505757
         },
         {
          "actual": 2.7438531166738747,
          "ppf": -0.17420234957477912
         },
         {
          "actual": 3.93853495393319,
          "ppf": 0.6757468687958079
         },
         {
          "actual": 3.842292950701729,
          "ppf": 0.6097652748091728
         },
         {
          "actual": 1.4571946398090088,
          "ppf": -1.0770668496074007
         },
         {
          "actual": 3.7012124913349735,
          "ppf": 0.501573208915336
         },
         {
          "actual": 3.8683782494232135,
          "ppf": 0.627275076734552
         },
         {
          "actual": 2.8246773155170617,
          "ppf": -0.10984477385487945
         },
         {
          "actual": 3.3081218507902683,
          "ppf": 0.2273162431635621
         },
         {
          "actual": 3.5298006968193123,
          "ppf": 0.3797558796393768
         },
         {
          "actual": 2.8740075557363456,
          "ppf": -0.0789912314154284
         },
         {
          "actual": 4.316481166614224,
          "ppf": 0.9074406175984335
         },
         {
          "actual": 1.637188375042384,
          "ppf": -0.9578448739663479
         },
         {
          "actual": 1.8902601278723985,
          "ppf": -0.7599596423067869
         },
         {
          "actual": 4.641803899695579,
          "ppf": 1.2066346157458154
         },
         {
          "actual": 2.7501909225568784,
          "ppf": -0.1695325921176961
         },
         {
          "actual": 1.3962970354038955,
          "ppf": -1.1260655066125609
         },
         {
          "actual": 1.8195842050690014,
          "ppf": -0.8202186907276747
         },
         {
          "actual": 0.8490011204813265,
          "ppf": -1.487664686639103
         },
         {
          "actual": 4.476308482299479,
          "ppf": 1.0494087450440706
         },
         {
          "actual": 1.4239933651782566,
          "ppf": -1.1071172014911381
         },
         {
          "actual": 2.9583420191668717,
          "ppf": -0.014133008846996914
         },
         {
          "actual": 3.7143005173537156,
          "ppf": 0.5123775873188868
         },
         {
          "actual": 2.7569108919710303,
          "ppf": -0.16601755752983716
         },
         {
          "actual": 1.6762894176686924,
          "ppf": -0.9290293721528373
         },
         {
          "actual": 3.5735368900784548,
          "ppf": 0.424005595322991
         },
         {
          "actual": 4.559586339382318,
          "ppf": 1.1219071416138684
         },
         {
          "actual": 2.7914259024415524,
          "ppf": -0.13241914041894123
         },
         {
          "actual": 2.9583420191668717,
          "ppf": -0.013893957242292107
         },
         {
          "actual": 2.979823612783884,
          "ppf": -0.0074398192751685705
         },
         {
          "actual": 0.8898926542744081,
          "ppf": -1.4612620226055246
         },
         {
          "actual": 2.473862036082046,
          "ppf": -0.3431381858398006
         },
         {
          "actual": 0,
          "ppf": -1.9202122383263813
         },
         {
          "actual": 3.5668644811701635,
          "ppf": 0.4148052146531053
         },
         {
          "actual": 0,
          "ppf": -2.0743371168688753
         },
         {
          "actual": 3.8664493222305776,
          "ppf": 0.6232788490103898
         },
         {
          "actual": 2.8348330492952307,
          "ppf": -0.0997502704795623
         },
         {
          "actual": 3.006829774357507,
          "ppf": 0.0060056179447876
         },
         {
          "actual": 6.001923242168056,
          "ppf": 2.385214648805473
         },
         {
          "actual": 0.9716167529226515,
          "ppf": -1.393580413878328
         },
         {
          "actual": 1.2023921056472973,
          "ppf": -1.2217459743445431
         },
         {
          "actual": 3.755434949105811,
          "ppf": 0.5470324337038424
         },
         {
          "actual": 5.1726213166263495,
          "ppf": 1.6509751327667477
         },
         {
          "actual": 3.7316065596784385,
          "ppf": 0.5273579684887036
         },
         {
          "actual": 2.4177984115057845,
          "ppf": -0.3775731292792591
         },
         {
          "actual": 4.058889146530598,
          "ppf": 0.7452851383534012
         },
         {
          "actual": 0,
          "ppf": -2.1156250046754437
         },
         {
          "actual": 1.1252134488179804,
          "ppf": -1.2869631422190158
         },
         {
          "actual": 2.550342907449497,
          "ppf": -0.2879867841020297
         },
         {
          "actual": 3.1305145822074696,
          "ppf": 0.10864248029239768
         },
         {
          "actual": 0,
          "ppf": -2.49928908940593
         },
         {
          "actual": 2.946731452659591,
          "ppf": -0.02046821299088263
         },
         {
          "actual": 2.6720578570043196,
          "ppf": -0.2114620274014697
         },
         {
          "actual": 2.058870609422847,
          "ppf": -0.6488836717095736
         },
         {
          "actual": 3.527270879241999,
          "ppf": 0.3705235365869539
         },
         {
          "actual": 2.8927845595463504,
          "ppf": -0.06131924318865209
         },
         {
          "actual": 4.9694812217220266,
          "ppf": 1.4874840069820796
         },
         {
          "actual": 0.7414232059298687,
          "ppf": -1.5689008780665088
         },
         {
          "actual": 0.24739356931808645,
          "ppf": -1.8231766868668302
         },
         {
          "actual": 1.9349474337953714,
          "ppf": -0.7229868885437404
         },
         {
          "actual": 1.6860575582670392,
          "ppf": -0.9212372048405723
         },
         {
          "actual": 2.7384748545808777,
          "ppf": -0.18051560985650011
         },
         {
          "actual": 2.4635219210689523,
          "ppf": -0.35266097028718674
         },
         {
          "actual": 4.02974558724805,
          "ppf": 0.7341295063407781
         },
         {
          "actual": 2.1533130210266465,
          "ppf": -0.5826403907483886
         },
         {
          "actual": 4.312112996191242,
          "ppf": 0.9049179507334953
         },
         {
          "actual": 0.6534966425812999,
          "ppf": -1.6092380132071065
         },
         {
          "actual": 1.5979080232770713,
          "ppf": -0.9726987835614389
         },
         {
          "actual": 2.6744996906705896,
          "ppf": -0.20865188463128712
         },
         {
          "actual": 2.017795200052386,
          "ppf": -0.6733461357125187
         },
         {
          "actual": 3.099845335473974,
          "ppf": 0.08144916643261874
         },
         {
          "actual": 3.07267620861106,
          "ppf": 0.0599423027608421
         },
         {
          "actual": 3.7654914251763767,
          "ppf": 0.5575424144337866
         },
         {
          "actual": 2.2004533288366708,
          "ppf": -0.5394832027239147
         },
         {
          "actual": 4.915051445670126,
          "ppf": 1.428839819503551
         },
         {
          "actual": 2.9538156142672345,
          "ppf": -0.01688216378861261
         },
         {
          "actual": 2.454857498302297,
          "ppf": -0.3571795441711265
         },
         {
          "actual": 2.2963165723551096,
          "ppf": -0.46503657951105465
         },
         {
          "actual": 3.4290305700713426,
          "ppf": 0.2970927624306612
         },
         {
          "actual": 2.647563414383126,
          "ppf": -0.22713228384865827
         },
         {
          "actual": 0.6136086702912802,
          "ppf": -1.633710779948475
         },
         {
          "actual": 2.7680715575778083,
          "ppf": -0.15554505540337968
         },
         {
          "actual": 3.29596949635735,
          "ppf": 0.2114009196618392
         },
         {
          "actual": 2.1676930105193195,
          "ppf": -0.5613158903070701
         },
         {
          "actual": 3.4920900150355583,
          "ppf": 0.3463723992197736
         },
         {
          "actual": 5.070754347814792,
          "ppf": 1.5723884527084706
         },
         {
          "actual": 3.0154021259550787,
          "ppf": 0.011025396007822711
         },
         {
          "actual": 3.4432416982938943,
          "ppf": 0.30804008977069175
         },
         {
          "actual": 5.4370193069325214,
          "ppf": 1.8788386577028033
         },
         {
          "actual": 4.327489082664557,
          "ppf": 0.9262727741848042
         },
         {
          "actual": 4.430548760741651,
          "ppf": 1.0133015317784355
         },
         {
          "actual": 2.5426796206249715,
          "ppf": -0.2951572657512172
         },
         {
          "actual": 2.662388424928325,
          "ppf": -0.22002501875274066
         },
         {
          "actual": 3.5337259981699005,
          "ppf": 0.38676579537426303
         },
         {
          "actual": 3.4221652519395036,
          "ppf": 0.2932852567116447
         },
         {
          "actual": 3.255862909912114,
          "ppf": 0.17857231349079594
         },
         {
          "actual": 2.5974395901204397,
          "ppf": -0.2652003481625028
         },
         {
          "actual": 2.690619022336656,
          "ppf": -0.20663692846857826
         },
         {
          "actual": 3.4784467602383766,
          "ppf": 0.3304260946958255
         },
         {
          "actual": 0,
          "ppf": -1.956984844329809
         },
         {
          "actual": 1.8136894851634682,
          "ppf": -0.8251642002470279
         },
         {
          "actual": 3.3728567301431385,
          "ppf": 0.25895400704610994
         },
         {
          "actual": 3.8683782494232135,
          "ppf": 0.6282938973036417
         },
         {
          "actual": 2.8008615745992334,
          "ppf": -0.1257306124680479
         },
         {
          "actual": 4.867002460365307,
          "ppf": 1.3818417798091953
         },
         {
          "actual": 4.381442079943254,
          "ppf": 0.9645789175412902
         },
         {
          "actual": 2.4790245918938285,
          "ppf": -0.3352894814989951
         },
         {
          "actual": 3.098605154967844,
          "ppf": 0.08001031644015481
         },
         {
          "actual": 4.517962270629839,
          "ppf": 1.081775003452559
         },
         {
          "actual": 2.0947172368838194,
          "ppf": -0.6352246581908846
         },
         {
          "actual": 0,
          "ppf": -2.0050144802162646
         },
         {
          "actual": 3.8664493222305776,
          "ppf": 0.6216831443524083
         },
         {
          "actual": 3.0432447502772506,
          "ppf": 0.031228124731096076
         },
         {
          "actual": 4.412632522020969,
          "ppf": 0.993921097819906
         },
         {
          "actual": 0,
          "ppf": -1.8937063363961506
         },
         {
          "actual": 2.473862036082046,
          "ppf": -0.34332833403082175
         },
         {
          "actual": 5.0171063977276,
          "ppf": 1.5454001447646453
         },
         {
          "actual": 2.30723759014615,
          "ppf": -0.4524229564776788
         },
         {
          "actual": 0.962882958733763,
          "ppf": -1.4015141281604122
         },
         {
          "actual": 4.1838908512170665,
          "ppf": 0.8276024542896804
         },
         {
          "actual": 4.584472256080676,
          "ppf": 1.1675872990698424
         },
         {
          "actual": 4.743604232480011,
          "ppf": 1.2914902866541964
         },
         {
          "actual": 0,
          "ppf": -1.9134589627860954
         },
         {
          "actual": 3.5735368900784548,
          "ppf": 0.42413635383110176
         },
         {
          "actual": 2.4694606232278806,
          "ppf": -0.3500549346942265
         },
         {
          "actual": 1.676006976120986,
          "ppf": -0.9311475540653656
         },
         {
          "actual": 4.2549689066453205,
          "ppf": 0.8798244913575103
         },
         {
          "actual": 1.9077248171335082,
          "ppf": -0.748918847572709
         },
         {
          "actual": 2.304902181563452,
          "ppf": -0.4565309767056757
         },
         {
          "actual": 3.747436281089974,
          "ppf": 0.5405894129709485
         },
         {
          "actual": 5.434423783758564,
          "ppf": 1.8647149180246452
         },
         {
          "actual": 3.3404391052279037,
          "ppf": 0.24378180334616137
         },
         {
          "actual": 4.192648156736059,
          "ppf": 0.8359635026892873
         },
         {
          "actual": 3.6261338695998613,
          "ppf": 0.4576587135719204
         },
         {
          "actual": 0.9822170298845748,
          "ppf": -1.3838628376798034
         },
         {
          "actual": 2.7559276727224367,
          "ppf": -0.16716880636127432
         },
         {
          "actual": 6.295337745886009,
          "ppf": 2.657722231993439
         },
         {
          "actual": 1.4865206810076335,
          "ppf": -1.0573181451977898
         },
         {
          "actual": 2.22139280834717,
          "ppf": -0.5176313929488413
         },
         {
          "actual": 3.2800039463357518,
          "ppf": 0.20279251521439182
         },
         {
          "actual": 4.560414197028577,
          "ppf": 1.1270799491505443
         },
         {
          "actual": 3.2129082442311105,
          "ppf": 0.15203791488638407
         },
         {
          "actual": 2.6632682864582593,
          "ppf": -0.21360129753956197
         },
         {
          "actual": 4.3700670581816015,
          "ppf": 0.9511539883698719
         },
         {
          "actual": 5.008681282214612,
          "ppf": 1.5420557281041571
         },
         {
          "actual": 3.022986259565985,
          "ppf": 0.020288904662605117
         },
         {
          "actual": 1.4571946398090088,
          "ppf": -1.0756803656257807
         },
         {
          "actual": 0,
          "ppf": -2.6986963832760584
         },
         {
          "actual": 3.1168576753970587,
          "ppf": 0.09999049363499715
         },
         {
          "actual": 0.8650740986563173,
          "ppf": -1.4842400436787144
         },
         {
          "actual": 3.9829564910215036,
          "ppf": 0.7037190681471088
         },
         {
          "actual": 1.2666002397609872,
          "ppf": -1.19374123007632
         },
         {
          "actual": 0,
          "ppf": -2.1804062896413305
         },
         {
          "actual": 2.1585743139725744,
          "ppf": -0.5691679938455736
         },
         {
          "actual": 5.242998645989155,
          "ppf": 1.7023843678143742
         },
         {
          "actual": 2.220735883884762,
          "ppf": -0.524201684046891
         },
         {
          "actual": 3.07267620861106,
          "ppf": 0.059164082520398044
         },
         {
          "actual": 1.8014761018887486,
          "ppf": -0.839188346829556
         },
         {
          "actual": 6.077613092909417,
          "ppf": 2.4471491795398865
         },
         {
          "actual": 2.6623396207327485,
          "ppf": -0.22106589734118168
         },
         {
          "actual": 0,
          "ppf": -2.0273638358038695
         },
         {
          "actual": 3.7654914251763767,
          "ppf": 0.5574028087459947
         },
         {
          "actual": 2.416121928723649,
          "ppf": -0.37982010552648077
         },
         {
          "actual": 1.9032762816303772,
          "ppf": -0.7527211174073829
         },
         {
          "actual": 2.1275237327827603,
          "ppf": -0.6068891544519182
         },
         {
          "actual": 2.774603320850188,
          "ppf": -0.15119164546399208
         },
         {
          "actual": 0.993415400820771,
          "ppf": -1.3623877497818668
         },
         {
          "actual": 1.3910336509801593,
          "ppf": -1.1282084695871022
         },
         {
          "actual": 1.8446333475171952,
          "ppf": -0.7951293718923773
         },
         {
          "actual": 2.602207205865219,
          "ppf": -0.2617357679257255
         },
         {
          "actual": 4.560414197028577,
          "ppf": 1.1269671760375455
         },
         {
          "actual": 4.743604232480011,
          "ppf": 1.2872367641169276
         },
         {
          "actual": 2.419945471674816,
          "ppf": -0.37590518074366114
         },
         {
          "actual": 2.2135502908057956,
          "ppf": -0.5290068115172409
         },
         {
          "actual": 4.470825915589864,
          "ppf": 1.0429016928130435
         },
         {
          "actual": 1.2540393547522357,
          "ppf": -1.1945946191332322
         },
         {
          "actual": 2.5974395901204397,
          "ppf": -0.26526224448180746
         },
         {
          "actual": 0.7480891726316874,
          "ppf": -1.5577463261499236
         },
         {
          "actual": 2.0947172368838194,
          "ppf": -0.6357365507975573
         },
         {
          "actual": 4.652520739188955,
          "ppf": 1.2150927903777182
         },
         {
          "actual": 3.9338173067820743,
          "ppf": 0.6684815472529912
         },
         {
          "actual": 1.6899754770104811,
          "ppf": -0.9151343477356619
         },
         {
          "actual": 5.2012791606257185,
          "ppf": 1.6639556334476446
         },
         {
          "actual": 4.8851034547153676,
          "ppf": 1.4003980948307306
         },
         {
          "actual": 0.47106111793909206,
          "ppf": -1.712654231302461
         },
         {
          "actual": 1.4542054976681449,
          "ppf": -1.083385547154907
         },
         {
          "actual": 0.7028391122566172,
          "ppf": -1.5892743179686897
         },
         {
          "actual": 1.9089714709866743,
          "ppf": -0.7425269393907902
         },
         {
          "actual": 3.2585220978866793,
          "ppf": 0.18476895892730522
         },
         {
          "actual": 3.2350403912120456,
          "ppf": 0.166865824723116
         },
         {
          "actual": 5.79017903794886,
          "ppf": 2.1523103020007865
         },
         {
          "actual": 2.476600545459298,
          "ppf": -0.3357319993391202
         },
         {
          "actual": 1.218932786150747,
          "ppf": -1.206882154456092
         },
         {
          "actual": 3.2792759993142604,
          "ppf": 0.2003531761811587
         },
         {
          "actual": 2.1502657228594266,
          "ppf": -0.5866104347420527
         },
         {
          "actual": 4.696010684257312,
          "ppf": 1.260073141998473
         },
         {
          "actual": 1.4488593785483677,
          "ppf": -1.0947389699801988
         },
         {
          "actual": 2.230215706846918,
          "ppf": -0.5053038885356455
         },
         {
          "actual": 1.8330370199147117,
          "ppf": -0.8029411930445295
         },
         {
          "actual": 3.053951169321343,
          "ppf": 0.04223089341839377
         },
         {
          "actual": 3.1158026324035872,
          "ppf": 0.09800882386744429
         },
         {
          "actual": 3.3346925713528215,
          "ppf": 0.24070498541299673
         },
         {
          "actual": 2.5424920687415984,
          "ppf": -0.29596879061831377
         },
         {
          "actual": 4.969743647318902,
          "ppf": 1.4914702305431882
         },
         {
          "actual": 4.371098807739112,
          "ppf": 0.953222657333351
         },
         {
          "actual": 4.538000120394092,
          "ppf": 1.098882775927874
         },
         {
          "actual": 2.262541036118327,
          "ppf": -0.4910967118186827
         },
         {
          "actual": 3.1172683929931138,
          "ppf": 0.10227290340466136
         },
         {
          "actual": 3.3330906902618755,
          "ppf": 0.2378763247486536
         },
         {
          "actual": 5.5167776211029596,
          "ppf": 1.9635148316537525
         },
         {
          "actual": 5.39986808492487,
          "ppf": 1.8311064604211427
         },
         {
          "actual": 4.678835769303432,
          "ppf": 1.2486555924763354
         },
         {
          "actual": 3.4432416982938943,
          "ppf": 0.3093562273830943
         },
         {
          "actual": 3.01959524750117,
          "ppf": 0.015686864574613067
         },
         {
          "actual": 2.379345657619636,
          "ppf": -0.4014908943736012
         },
         {
          "actual": 2.8259154914885873,
          "ppf": -0.10713983394496424
         },
         {
          "actual": 5.79017903794886,
          "ppf": 2.1553490916984357
         },
         {
          "actual": 2.8181857196267095,
          "ppf": -0.11200930364702176
         },
         {
          "actual": 2.1287860714998046,
          "ppf": -0.6038746209583855
         },
         {
          "actual": 4.406665250487863,
          "ppf": 0.983303035806954
         },
         {
          "actual": 4.081919214381356,
          "ppf": 0.7589231351015236
         },
         {
          "actual": 1.5772952977270138,
          "ppf": -0.9961759549624227
         },
         {
          "actual": 1.4866072689693097,
          "ppf": -1.0555432030493048
         },
         {
          "actual": 2.2207667223207466,
          "ppf": -0.5214613284551147
         },
         {
          "actual": 3.709818712891412,
          "ppf": 0.509653918372116
         },
         {
          "actual": 4.327175087064787,
          "ppf": 0.9209632092590592
         },
         {
          "actual": 3.5668644811701635,
          "ppf": 0.4149354694850028
         },
         {
          "actual": 3.098605154967844,
          "ppf": 0.0802501131889942
         },
         {
          "actual": 2.1888224213191445,
          "ppf": -0.5537072025267995
         },
         {
          "actual": 0.5272084215955456,
          "ppf": -1.6868122990285843
         },
         {
          "actual": 4.752228253169145,
          "ppf": 1.3002072962042825
         },
         {
          "actual": 3.7961433215324782,
          "ppf": 0.5796688760197568
         },
         {
          "actual": 4.240887185963215,
          "ppf": 0.869138722731491
         },
         {
          "actual": 0,
          "ppf": -1.939053574872221
         },
         {
          "actual": 5.67453384343889,
          "ppf": 2.0478468172747815
         },
         {
          "actual": 2.1546305583191705,
          "ppf": -0.5803051975367618
         },
         {
          "actual": 1.0219595756782716,
          "ppf": -1.3356680210234138
         },
         {
          "actual": 2.183463372155907,
          "ppf": -0.5571934205806692
         },
         {
          "actual": 1.48940240914534,
          "ppf": -1.0515876605328978
         },
         {
          "actual": 1.9032762816303772,
          "ppf": -0.7524831570310767
         },
         {
          "actual": 0.962882958733763,
          "ppf": -1.3988067808143054
         },
         {
          "actual": 4.377742568493921,
          "ppf": 0.9546354553505495
         },
         {
          "actual": 2.4738620360821133,
          "ppf": -0.3400974962075687
         },
         {
          "actual": 3.97391241462592,
          "ppf": 0.7003550050786191
         },
         {
          "actual": 3.274789773553707,
          "ppf": 0.19925586331122414
         },
         {
          "actual": 4.966361069607754,
          "ppf": 1.4760201096562815
         },
         {
          "actual": 6.154450501604175,
          "ppf": 2.639771946813181
         },
         {
          "actual": 0,
          "ppf": -1.9659853099615785
         },
         {
          "actual": 4.500230324788326,
          "ppf": 1.0594105864207488
         },
         {
          "actual": 3.0471940905664376,
          "ppf": 0.03995820746324777
         },
         {
          "actual": 1.9838641186557195,
          "ppf": -0.6872797559126431
         },
         {
          "actual": 1.191154253370292,
          "ppf": -1.2288350195128597
         },
         {
          "actual": 2.2707126615395237,
          "ppf": -0.4871230668448625
         },
         {
          "actual": 3.745705294178676,
          "ppf": 0.5383776522495561
         },
         {
          "actual": 3.7389022165750316,
          "ppf": 0.5372037253962685
         },
         {
          "actual": 1.0219595756784323,
          "ppf": -1.3305820294670787
         },
         {
          "actual": 4.994938219805024,
          "ppf": 1.51816711812315
         },
         {
          "actual": 2.941256596646396,
          "ppf": -0.02345678645021432
         },
         {
          "actual": 1.5134072174173336,
          "ppf": -1.0402290779160592
         },
         {
          "actual": 3.419319097357216,
          "ppf": 0.2914142749031013
         },
         {
          "actual": 3.01076909867046,
          "ppf": 0.009471631391113183
         },
         {
          "actual": 5.241697177407979,
          "ppf": 1.6945469704391123
         },
         {
          "actual": 2.0236257746270847,
          "ppf": -0.6674358609840033
         },
         {
          "actual": 5.2012791606257185,
          "ppf": 1.6610995915968598
         },
         {
          "actual": 2.8928417975612537,
          "ppf": -0.05784717579561246
         },
         {
          "actual": 4.2035996764120585,
          "ppf": 0.8434449083370471
         },
         {
          "actual": 1.3910336509801593,
          "ppf": -1.12990394935013
         },
         {
          "actual": 1.5471198961372394,
          "ppf": -1.0162014650818665
         },
         {
          "actual": 2.729663394483618,
          "ppf": -0.1887214909984548
         },
         {
          "actual": 3.5706256778692946,
          "ppf": 0.420151467589703
         },
         {
          "actual": 4.742300356663007,
          "ppf": 1.281510814756197
         },
         {
          "actual": 2.262541036118327,
          "ppf": -0.4907596622343751
         },
         {
          "actual": 2.4876891296682557,
          "ppf": -0.32973196538550487
         },
         {
          "actual": 1.9386263985299184,
          "ppf": -0.7196538529018625
         },
         {
          "actual": 3.173827247332835,
          "ppf": 0.13314257414844063
         },
         {
          "actual": 4.794853591680055,
          "ppf": 1.3331933749003007
         },
         {
          "actual": 3.777553815915021,
          "ppf": 0.5699410706231022
         },
         {
          "actual": 4.165793877049573,
          "ppf": 0.8198841283256462
         },
         {
          "actual": 3.994499806136329,
          "ppf": 0.7127034599260267
         },
         {
          "actual": 1.637188375042384,
          "ppf": -0.9571833053794546
         },
         {
          "actual": 2.605818403777149,
          "ppf": -0.2538284383878381
         },
         {
          "actual": 1.3619792021928252,
          "ppf": -1.1394592734957572
         },
         {
          "actual": 4.9694812217220266,
          "ppf": 1.4887497858432293
         },
         {
          "actual": 2.627462076363298,
          "ppf": -0.24125864365371097
         },
         {
          "actual": 1.867635337914399,
          "ppf": -0.7797303303348577
         },
         {
          "actual": 2.8552030727660247,
          "ppf": -0.09446679235461407
         },
         {
          "actual": 4.812303970359312,
          "ppf": 1.3532243144960494
         },
         {
          "actual": 0,
          "ppf": -2.1298411133994857
         },
         {
          "actual": 4.596698136947914,
          "ppf": 1.1786461446670489
         },
         {
          "actual": 3.1457986393566024,
          "ppf": 0.11429465476874019
         },
         {
          "actual": 3.5515479463962194,
          "ppf": 0.4025922741332201
         },
         {
          "actual": 2.3285033652446727,
          "ppf": -0.4406051256757983
         },
         {
          "actual": 2.908856324191438,
          "ppf": -0.04899047845108686
         },
         {
          "actual": 0.7414232059298687,
          "ppf": -1.5697197671619803
         },
         {
          "actual": 1.160112673754901,
          "ppf": -1.2550660374911342
         },
         {
          "actual": 2.550342907449497,
          "ppf": -0.2892327508691422
         },
         {
          "actual": 4.225727026458801,
          "ppf": 0.8534655271508768
         },
         {
          "actual": 3.6723814464509745,
          "ppf": 0.49204074768683603
         },
         {
          "actual": 1.676006976120986,
          "ppf": -0.9316085814120887
         },
         {
          "actual": 2.9041680960904186,
          "ppf": -0.04958877512255512
         },
         {
          "actual": 1.7519302705528699,
          "ppf": -0.8770119825639063
         },
         {
          "actual": 2.230215706846918,
          "ppf": -0.5057112966141404
         },
         {
          "actual": 2.2181069593310436,
          "ppf": -0.5280448119317613
         },
         {
          "actual": 3.7488766490532037,
          "ppf": 0.5419731068508346
         },
         {
          "actual": 2.379345657619636,
          "ppf": -0.4018795609636483
         },
         {
          "actual": 2.460546263024324,
          "ppf": -0.35495117249557506
         },
         {
          "actual": 3.022986259565985,
          "ppf": 0.020527982579597946
         },
         {
          "actual": 4.250424699132332,
          "ppf": 0.8762222137616265
         },
         {
          "actual": 1.4571946398090088,
          "ppf": -1.0779211006107388
         },
         {
          "actual": 3.9829564910215036,
          "ppf": 0.7022654296942632
         },
         {
          "actual": 3.2624238994689154,
          "ppf": 0.18671445629923247
         },
         {
          "actual": 2.7840364716965658,
          "ppf": -0.1443045685142204
         },
         {
          "actual": 5.996357999307744,
          "ppf": 2.3602801432147005
         },
         {
          "actual": 0,
          "ppf": -2.3330821090593292
         },
         {
          "actual": 3.2350403912120456,
          "ppf": 0.1665628584021116
         },
         {
          "actual": 1.6860575582670392,
          "ppf": -0.9200503895613855
         },
         {
          "actual": 2.483393860753399,
          "ppf": -0.3322568363389968
         },
         {
          "actual": 4.824833935683102,
          "ppf": 1.3669366236311413
         },
         {
          "actual": 4.43302212365047,
          "ppf": 1.0176044959175201
         },
         {
          "actual": 4.173501603790507,
          "ppf": 0.8217253592520909
         },
         {
          "actual": 3.524339661129339,
          "ppf": 0.3645777720386206
         },
         {
          "actual": 3.0482275529129854,
          "ppf": 0.0404964561002885
         },
         {
          "actual": 4.234478369225109,
          "ppf": 0.8654829210636938
         },
         {
          "actual": 1.4566673005700987,
          "ppf": -1.0830632136585299
         },
         {
          "actual": 3.5033988220150043,
          "ppf": 0.35100808565757174
         },
         {
          "actual": 3.362421109078568,
          "ppf": 0.25419873628952677
         },
         {
          "actual": 3.9092339997398864,
          "ppf": 0.6606565810936776
         },
         {
          "actual": 0,
          "ppf": -2.672300479083117
         },
         {
          "actual": 2.12078863264096,
          "ppf": -0.6093335356497058
         },
         {
          "actual": 3.102917793916619,
          "ppf": 0.08924594531115178
         },
         {
          "actual": 2.627462076363298,
          "ppf": -0.2407049854129966
         },
         {
          "actual": 1.8414326573424278,
          "ppf": -0.7974267432461833
         },
         {
          "actual": 0.39957116086090794,
          "ppf": -1.7712138988051862
         },
         {
          "actual": 2.471504047870768,
          "ppf": -0.3484035588461971
         },
         {
          "actual": 2.838990642287764,
          "ppf": -0.09638774427199008
         },
         {
          "actual": 2.173107807666011,
          "ppf": -0.5607563535559671
         },
         {
          "actual": 0,
          "ppf": -2.342266093271297
         },
         {
          "actual": 0,
          "ppf": -2.028297841856399
         },
         {
          "actual": 4.579543200191303,
          "ppf": 1.1567860967982038
         },
         {
          "actual": 3.4401732721962,
          "ppf": 0.3065365854556883
         },
         {
          "actual": 4.345817421058076,
          "ppf": 0.9343789149027332
         },
         {
          "actual": 2.782080375014185,
          "ppf": -0.14653908191472878
         },
         {
          "actual": 1.0219595756784323,
          "ppf": -1.3311615442095066
         },
         {
          "actual": 3.100877644527596,
          "ppf": 0.08564678652424265
         },
         {
          "actual": 2.416121928723649,
          "ppf": -0.38039820905661703
         },
         {
          "actual": 1.8136894851634682,
          "ppf": -0.8249962256507442
         },
         {
          "actual": 4.822254653491092,
          "ppf": 1.363143937885916
         },
         {
          "actual": 0,
          "ppf": -2.015835329427791
         },
         {
          "actual": 0,
          "ppf": -2.311810339014002
         },
         {
          "actual": 0,
          "ppf": -2.0779468097501397
         },
         {
          "actual": 3.8171475940930146,
          "ppf": 0.5918707960485151
         },
         {
          "actual": 1.1506435925227891,
          "ppf": -1.263384594911789
         },
         {
          "actual": 3.1089502497259525,
          "ppf": 0.09458684156391797
         },
         {
          "actual": 5.395729187674594,
          "ppf": 1.817537441651969
         },
         {
          "actual": 4.238005336172804,
          "ppf": 0.8680930242710154
         },
         {
          "actual": 2.203968427576285,
          "ppf": -0.5340998365005128
         },
         {
          "actual": 0.962882958733763,
          "ppf": -1.4011950833904727
         },
         {
          "actual": 0.8667224430883744,
          "ppf": -1.4826239025754206
         },
         {
          "actual": 3.9092339997398864,
          "ppf": 0.6605079275283349
         },
         {
          "actual": 3.6378848202065335,
          "ppf": 0.4617101070826832
         },
         {
          "actual": 2.1546305583191705,
          "ppf": -0.579739566816272
         },
         {
          "actual": 2.863505390676539,
          "ppf": -0.08678639789315103
         },
         {
          "actual": 3.6261338695998613,
          "ppf": 0.4586542590560997
         },
         {
          "actual": 5.390908703056411,
          "ppf": 1.7994474192870915
         },
         {
          "actual": 1.431622764461341,
          "ppf": -1.09528313329189
         },
         {
          "actual": 2.6632682864582593,
          "ppf": -0.21354016201438566
         },
         {
          "actual": 3.305109259690013,
          "ppf": 0.22290332708366017
         },
         {
          "actual": 3.090097981853163,
          "ppf": 0.07341766045040904
         },
         {
          "actual": 1.1058025749688325,
          "ppf": -1.2974293047779009
         },
         {
          "actual": 0,
          "ppf": -2.061161108122999
         },
         {
          "actual": 2.4876891296682557,
          "ppf": -0.3296688706030943
         },
         {
          "actual": 4.362337830108187,
          "ppf": 0.9441320900006168
         },
         {
          "actual": 3.7316065596784385,
          "ppf": 0.5274266416335022
         },
         {
          "actual": 3.9829564910215036,
          "ppf": 0.7015009526422671
         },
         {
          "actual": 2.2336141757511334,
          "ppf": -0.5017087474396462
         },
         {
          "actual": 4.343887413068349,
          "ppf": 0.9331775577491771
         },
         {
          "actual": 3.582760325578497,
          "ppf": 0.43278259641425953
         },
         {
          "actual": 2.1533130210266465,
          "ppf": -0.5829944849182596
         },
         {
          "actual": 1.6899754770104811,
          "ppf": -0.9144079254132839
         },
         {
          "actual": 5.390908703056411,
          "ppf": 1.8055135953385983
         },
         {
          "actual": 1.7764968515019715,
          "ppf": -0.8632255918545132
         },
         {
          "actual": 5.891354103160232,
          "ppf": 2.238712554623007
         },
         {
          "actual": 0.45081653564633617,
          "ppf": -1.7262811171032748
         },
         {
          "actual": 0.8650740986563173,
          "ppf": -1.4851395775282858
         },
         {
          "actual": 1.4263155704499877,
          "ppf": -1.09975756329535
         },
         {
          "actual": 2.6221795776402503,
          "ppf": -0.24544424326925493
         },
         {
          "actual": 5.132899527275687,
          "ppf": 1.636440431228534
         },
         {
          "actual": 2.605818403777149,
          "ppf": -0.25358159245792816
         },
         {
          "actual": 3.1205563833853276,
          "ppf": 0.10485627358857649
         },
         {
          "actual": 0.24263309304478445,
          "ppf": -1.8440387996889425
         },
         {
          "actual": 4.702533783333242,
          "ppf": 1.2632518707007967
         },
         {
          "actual": 3.5515479463962194,
          "ppf": 0.4051856863306302
         },
         {
          "actual": 1.5958491770612016,
          "ppf": -0.9764459087177424
         },
         {
          "actual": 2.8912526126953813,
          "ppf": -0.06227718320772922
         },
         {
          "actual": 1.9101199817567573,
          "ppf": -0.7416612432220928
         },
         {
          "actual": 4.415146748797938,
          "ppf": 0.9948028308571245
         },
         {
          "actual": 4.130937957188932,
          "ppf": 0.8025288248782488
         },
         {
          "actual": 1.9570634535035152,
          "ppf": -0.6998968835303366
         },
         {
          "actual": 1.4239933651782566,
          "ppf": -1.1056845278302352
         },
         {
          "actual": 3.158476865962689,
          "ppf": 0.127959482100927
         },
         {
          "actual": 3.900307914154761,
          "ppf": 0.6522803628742685
         },
         {
          "actual": 2.01603271386908,
          "ppf": -0.6767232794130082
         },
         {
          "actual": 1.6560886286187582,
          "ppf": -0.9438521823411562
         },
         {
          "actual": 2.316706368612508,
          "ppf": -0.4444935130584748
         },
         {
          "actual": 0,
          "ppf": -2.1218273131991183
         },
         {
          "actual": 4.596698136947914,
          "ppf": 1.179484376302923
         },
         {
          "actual": 3.11108875987202,
          "ppf": 0.09596750589284407
         },
         {
          "actual": 4.116080259473601,
          "ppf": 0.7995637915284447
         },
         {
          "actual": 3.302705693436586,
          "ppf": 0.21941284863851734
         },
         {
          "actual": 3.764003167734204,
          "ppf": 0.5557283865305369
         },
         {
          "actual": 1.110654841149979,
          "ppf": -1.2932809948947357
         },
         {
          "actual": 5.457481091890467,
          "ppf": 1.9328256264856338
         },
         {
          "actual": 2.6630950503583057,
          "ppf": -0.21445727883295013
         },
         {
          "actual": 4.143840372398645,
          "ppf": 0.8108023235306296
         },
         {
          "actual": 2.6623396207327485,
          "ppf": -0.22075973176706362
         },
         {
          "actual": 5.927412132379378,
          "ppf": 2.2635596644207427
         },
         {
          "actual": 2.9281141439377736,
          "ppf": -0.03332071085169388
         },
         {
          "actual": 1.8267764976798786,
          "ppf": -0.8074862928663066
         },
         {
          "actual": 2.988060761712298,
          "ppf": -0.00492997521503402
         },
         {
          "actual": 1.946553395873349,
          "ppf": -0.7058639871095382
         },
         {
          "actual": 1.536874811187231,
          "ppf": -1.0241449816084764
         },
         {
          "actual": 1.946553395873349,
          "ppf": -0.7047911223136759
         },
         {
          "actual": 4.560414197028577,
          "ppf": 1.128660280303734
         },
         {
          "actual": 2.9505454261991337,
          "ppf": -0.0191533001602173
         },
         {
          "actual": 3.7662924135504032,
          "ppf": 0.5597775863845733
         },
         {
          "actual": 1.7824186562547168,
          "ppf": -0.8609726526942733
         },
         {
          "actual": 4.994938219805024,
          "ppf": 1.5225327229015555
         },
         {
          "actual": 4.2035996764120585,
          "ppf": 0.8439567226559884
         },
         {
          "actual": 2.1611961439326763,
          "ppf": -0.5670613285733035
         },
         {
          "actual": 3.7571313435959794,
          "ppf": 0.5512708503478375
         },
         {
          "actual": 1.4228764760794779,
          "ppf": -1.1118723162240474
         },
         {
          "actual": 2.108834074853822,
          "ppf": -0.6207409717512037
         },
         {
          "actual": 3.789589750036424,
          "ppf": 0.5723327385111099
         },
         {
          "actual": 1.8330370199147117,
          "ppf": -0.8043442674159775
         },
         {
          "actual": 1.5887943839964629,
          "ppf": -0.9833999452506696
         },
         {
          "actual": 2.5036724552721394,
          "ppf": -0.3196532897438257
         },
         {
          "actual": 2.3548331477612194,
          "ppf": -0.4168901384664174
         },
         {
          "actual": 2.9144126521362694,
          "ppf": -0.040436650119649205
         },
         {
          "actual": 2.195334425559381,
          "ppf": -0.548212641147802
         },
         {
          "actual": 2.9295384692556814,
          "ppf": -0.03182599212564631
         },
         {
          "actual": 2.45440918203741,
          "ppf": -0.3585811425875607
         },
         {
          "actual": 2.401456414107966,
          "ppf": -0.3958620041679822
         },
         {
          "actual": 3.370018918252927,
          "ppf": 0.25666828258338914
         },
         {
          "actual": 1.3144855366872292,
          "ppf": -1.1651098276587255
         },
         {
          "actual": 1.8330370199147117,
          "ppf": -0.8035187379733945
         },
         {
          "actual": 3.64127204216555,
          "ppf": 0.46496999973122005
         },
         {
          "actual": 4.42228928281052,
          "ppf": 1.0042565631877065
         },
         {
          "actual": 0.7480891726316874,
          "ppf": -1.5567418420886312
         },
         {
          "actual": 1.7661258658151247,
          "ppf": -0.8692259071688145
         },
         {
          "actual": 3.407166506563578,
          "ppf": 0.2816392576564648
         },
         {
          "actual": 3.511629548699993,
          "ppf": 0.3579439652370636
         },
         {
          "actual": 5.817263614475707,
          "ppf": 2.167707576938533
         },
         {
          "actual": 2.7840364716965658,
          "ppf": -0.14502919607976206
         },
         {
          "actual": 2.119362452339387,
          "ppf": -0.6123581021666139
         },
         {
          "actual": 5.008681282214612,
          "ppf": 1.544217789569268
         },
         {
          "actual": 1.926865570357049,
          "ppf": -0.7254725081568179
         },
         {
          "actual": 5.726629609419581,
          "ppf": 2.0753657005978123
         },
         {
          "actual": 5.101442810238295,
          "ppf": 1.6120802514563088
         },
         {
          "actual": 1.3962970354038955,
          "ppf": -1.1273055383889377
         },
         {
          "actual": 2.5061754444521465,
          "ppf": -0.3166988839186453
         },
         {
          "actual": 4.440289396922148,
          "ppf": 1.026166271586974
         },
         {
          "actual": 2.0194250721894336,
          "ppf": -0.671623003569016
         },
         {
          "actual": 3.737646818756355,
          "ppf": 0.5338930937440879
         },
         {
          "actual": 2.0575998501273434,
          "ppf": -0.6547958043005523
         },
         {
          "actual": 3.010359231093489,
          "ppf": 0.008156925494724784
         },
         {
          "actual": 4.004523305923497,
          "ppf": 0.7219008339008582
         },
         {
          "actual": 2.448768372221088,
          "ppf": -0.3618968194863588
         },
         {
          "actual": 5.329170800837406,
          "ppf": 1.751206402181134
         },
         {
          "actual": 2.605307870788762,
          "ppf": -0.25666828258338903
         },
         {
          "actual": 3.142487084286668,
          "ppf": 0.11116748025931612
         },
         {
          "actual": 1.2540393547517739,
          "ppf": -1.1977719936260038
         },
         {
          "actual": 6.095546442255506,
          "ppf": 2.500649047496614
         },
         {
          "actual": 4.628264288953575,
          "ppf": 1.2014532864205083
         },
         {
          "actual": 3.615002530074234,
          "ppf": 0.4501734129144855
         },
         {
          "actual": 3.9829564910215036,
          "ppf": 0.7047145201620716
         },
         {
          "actual": 4.8351139620628825,
          "ppf": 1.3742742122485168
         },
         {
          "actual": 1.5772952977270138,
          "ppf": -0.9947048223302996
         },
         {
          "actual": 3.770454820967108,
          "ppf": 0.5648870816653887
         },
         {
          "actual": 1.9498355499290445,
          "ppf": -0.7044847385134586
         },
         {
          "actual": 6.343574968287808,
          "ppf": 2.6852646022759266
         },
         {
          "actual": 0.5272084215955456,
          "ppf": -1.6900435669686327
         },
         {
          "actual": 4.019408076677382,
          "ppf": 0.730067164397882
         },
         {
          "actual": 2.5614077876251717,
          "ppf": -0.28282077268800715
         },
         {
          "actual": 4.347621001178375,
          "ppf": 0.9411502107289896
         },
         {
          "actual": 5.4370193069325214,
          "ppf": 1.8746660710029928
         },
         {
          "actual": 4.702533783333242,
          "ppf": 1.262323423657791
         },
         {
          "actual": 2.662388424928325,
          "ppf": -0.21751564263928172
         },
         {
          "actual": 4.150523400783322,
          "ppf": 0.8142937786014476
         },
         {
          "actual": 1.8267764976796335,
          "ppf": -0.8108853384841758
         },
         {
          "actual": 2.3548331477612194,
          "ppf": -0.41760724931006965
         },
         {
          "actual": 5.32725530635824,
          "ppf": 1.7410518289359551
         },
         {
          "actual": 3.75543494910584,
          "ppf": 0.5490461886426645
         },
         {
          "actual": 2.8346573223104765,
          "ppf": -0.10137188919334567
         },
         {
          "actual": 0,
          "ppf": -3.0088533312088233
         },
         {
          "actual": 4.271224654245525,
          "ppf": 0.8840563540452834
         },
         {
          "actual": 0,
          "ppf": -2.511698711831618
         },
         {
          "actual": 4.381442079943254,
          "ppf": 0.9630575750673471
         },
         {
          "actual": 3.305109259690013,
          "ppf": 0.22437381261172348
         },
         {
          "actual": 0,
          "ppf": -2.2520929415731894
         },
         {
          "actual": 1.8495597448247376,
          "ppf": -0.7934909586297288
         },
         {
          "actual": 4.210926982861497,
          "ppf": 0.8472889214116223
         },
         {
          "actual": 6.014894401969654,
          "ppf": 2.4019869245479213
         },
         {
          "actual": 5.55133586726747,
          "ppf": 2.0103954803406316
         },
         {
          "actual": 1.6757166033759474,
          "ppf": -0.9318852928885363
         },
         {
          "actual": 2.6945738980165728,
          "ppf": -0.2050499783358188
         },
         {
          "actual": 3.181624787447702,
          "ppf": 0.13730368252987832
         },
         {
          "actual": 3.755434949105811,
          "ppf": 0.5472406501995696
         },
         {
          "actual": 3.112544133731036,
          "ppf": 0.09764856184864996
         },
         {
          "actual": 4.7821242517592815,
          "ppf": 1.325674093655652
         },
         {
          "actual": 2.7301210712002772,
          "ppf": -0.18774828882644198
         },
         {
          "actual": 3.531041238937277,
          "ppf": 0.3833549516450856
         },
         {
          "actual": 3.7961433215324782,
          "ppf": 0.5779731645255904
         },
         {
          "actual": 1.9572068070686461,
          "ppf": -0.6974560440073436
         },
         {
          "actual": 4.240887185963215,
          "ppf": 0.8690515449001001
         },
         {
          "actual": 3.5341845101388705,
          "ppf": 0.388118505159548
         },
         {
          "actual": 3.485940568307048,
          "ppf": 0.3359848961914991
         },
         {
          "actual": 2.627462076363298,
          "ppf": -0.24101256420432474
         },
         {
          "actual": 3.2968617848490194,
          "ppf": 0.21305110652389211
         },
         {
          "actual": 3.2585220978866793,
          "ppf": 0.18458660451259118
         },
         {
          "actual": 4.505955783948526,
          "ppf": 1.060353699836833
         },
         {
          "actual": 2.8842051024435458,
          "ppf": -0.0713206798333496
         },
         {
          "actual": 6.154450501604175,
          "ppf": 2.6301556073082883
         },
         {
          "actual": 4.385809781911914,
          "ppf": 0.9667697669217631
         },
         {
          "actual": 2.78514224456526,
          "ppf": -0.13959631840409234
         },
         {
          "actual": 3.8845380848889786,
          "ppf": 0.6400577195033299
         },
         {
          "actual": 4.2035996764120585,
          "ppf": 0.8437007878701789
         },
         {
          "actual": 2.3496293226809373,
          "ppf": -0.4208695588984336
         },
         {
          "actual": 2.4539607103725576,
          "ppf": -0.3595371817439523
         },
         {
          "actual": 2.8578333795370576,
          "ppf": -0.09116596651365615
         },
         {
          "actual": 2.491010814253977,
          "ppf": -0.3271461521936539
         },
         {
          "actual": 2.7840364716965658,
          "ppf": -0.1444857182872256
         },
         {
          "actual": 2.01754075923651,
          "ppf": -0.6749962218993076
         },
         {
          "actual": 4.672300308415361,
          "ppf": 1.2417791215166067
         },
         {
          "actual": 4.910449868742565,
          "ppf": 1.4271832894414072
         },
         {
          "actual": 2.979823612783884,
          "ppf": -0.00564706965760034
         },
         {
          "actual": 1.5778958275522266,
          "ppf": -0.9932358393253119
         },
         {
          "actual": 1.8903363942364204,
          "ppf": -0.7597203758997518
         },
         {
          "actual": 3.942728547260644,
          "ppf": 0.6819166167477644
         },
         {
          "actual": 5.36456676722776,
          "ppf": 1.776111189960909
         },
         {
          "actual": 4.678835769303432,
          "ppf": 1.2500902026550402
         },
         {
          "actual": 1.3910336509801593,
          "ppf": -1.1288862720844368
         },
         {
          "actual": 0.8667224430883744,
          "ppf": -1.482982710383832
         },
         {
          "actual": 2.7840364716965658,
          "ppf": -0.14406304284844504
         },
         {
          "actual": 3.4036440748965044,
          "ppf": 0.27691710878534975
         },
         {
          "actual": 2.281623748968575,
          "ppf": -0.48121051048674013
         },
         {
          "actual": 1.8005484149260347,
          "ppf": -0.8444687581482362
         },
         {
          "actual": 0,
          "ppf": -1.9726325642786833
         },
         {
          "actual": 0.8667224430883744,
          "ppf": -1.4820860484900908
         },
         {
          "actual": 1.936786957678179,
          "ppf": -0.7206606702700947
         },
         {
          "actual": 2.82588852078862,
          "ppf": -0.1090632650868144
         },
         {
          "actual": 2.015624936971306,
          "ppf": -0.6791295058982961
         },
         {
          "actual": 4.580609684038563,
          "ppf": 1.1628744518242624
         },
         {
          "actual": 3.97391241462592,
          "ppf": 0.7002022815681077
         },
         {
          "actual": 2.965006840255633,
          "ppf": -0.010308270796632057
         },
         {
          "actual": 4.362341503740189,
          "ppf": 0.9481522604847452
         },
         {
          "actual": 4.218391596989024,
          "ppf": 0.8514889145281939
         },
         {
          "actual": 2.5812961456926637,
          "ppf": -0.27337955075196685
         },
         {
          "actual": 3.021565399570763,
          "ppf": 0.019392372690564905
         },
         {
          "actual": 1.7880608186441593,
          "ppf": -0.8570836259053461
         },
         {
          "actual": 2.0128259446992067,
          "ppf": -0.6800328547950761
         },
         {
          "actual": 4.574772101919214,
          "ppf": 1.1488885245720857
         },
         {
          "actual": 2.3510741554823262,
          "ppf": -0.4194988452704164
         },
         {
          "actual": 2.6222159713964617,
          "ppf": -0.24236618221881814
         },
         {
          "actual": 1.9135954574516472,
          "ppf": -0.7358518393480589
         },
         {
          "actual": 4.932002981344229,
          "ppf": 1.4527980652460155
         },
         {
          "actual": 1.2540393547517739,
          "ppf": -1.1978944419509836
         },
         {
          "actual": 4.569218378820624,
          "ppf": 1.144276179883346
         },
         {
          "actual": 1.5471198961372394,
          "ppf": -1.0154006305724501
         },
         {
          "actual": 3.7300224265641226,
          "ppf": 0.5206399857392691
         },
         {
          "actual": 2.8008615745992334,
          "ppf": -0.12500787048387477
         },
         {
          "actual": 1.6719732306330108,
          "ppf": -0.9343789149027332
         },
         {
          "actual": 4.948151298876615,
          "ppf": 1.4593528392010153
         },
         {
          "actual": 1.8005484149260347,
          "ppf": -0.8442127127351144
         },
         {
          "actual": 3.7654914251763767,
          "ppf": 0.5591486620354071
         },
         {
          "actual": 0,
          "ppf": -2.757930063496698
         },
         {
          "actual": 3.6724330479010305,
          "ppf": 0.4927827978622254
         },
         {
          "actual": 3.7560207902975207,
          "ppf": 0.5500191431520305
         },
         {
          "actual": 1.4239933651782566,
          "ppf": -1.1068966422693887
         },
         {
          "actual": 3.305109259690013,
          "ppf": 0.22339343521684765
         },
         {
          "actual": 0,
          "ppf": -2.12868788852234
         },
         {
          "actual": 3.8471236954767893,
          "ppf": 0.6138003415173313
         },
         {
          "actual": 3.8664493222305776,
          "ppf": 0.6223357410718001
         },
         {
          "actual": 2.044666849170354,
          "ppf": -0.6620695190372308
         },
         {
          "actual": 2.30489332691127,
          "ppf": -0.4573269658982795
         },
         {
          "actual": 4.610246822043704,
          "ppf": 1.1871869564754145
         },
         {
          "actual": 3.0750277790897442,
          "ppf": 0.060600825147500814
         },
         {
          "actual": 2.8890420708285225,
          "ppf": -0.0664089654317573
         },
         {
          "actual": 1.524099043055995,
          "ppf": -1.035416575250118
         },
         {
          "actual": 2.307951042922311,
          "ppf": -0.4505040850330308
         },
         {
          "actual": 3.5044896143962023,
          "ppf": 0.3528517496726033
         },
         {
          "actual": 3.6193174033119724,
          "ppf": 0.45487359376178993
         },
         {
          "actual": 5.132899527275687,
          "ppf": 1.6366684532279792
         },
         {
          "actual": 4.929169481612832,
          "ppf": 1.4486901571974258
         },
         {
          "actual": 3.732252271108892,
          "ppf": 0.5296254983871829
         },
         {
          "actual": 2.101329975515347,
          "ppf": -0.6273478280308787
         },
         {
          "actual": 3.537224774879341,
          "ppf": 0.3917292138854097
         },
         {
          "actual": 3.4515332285336418,
          "ppf": 0.31801859443163233
         },
         {
          "actual": 2.7244589498340868,
          "ppf": -0.19018162976884295
         },
         {
          "actual": 4.6470020346769605,
          "ppf": 1.2145928430309818
         },
         {
          "actual": 0.7480891726316874,
          "ppf": -1.5533382918283434
         },
         {
          "actual": 5.5384075878215215,
          "ppf": 1.9983688399825685
         },
         {
          "actual": 1.8233983162936378,
          "ppf": -0.8166269396034013
         },
         {
          "actual": 1.7745163997341091,
          "ppf": -0.8682672414102676
         },
         {
          "actual": 4.812303970359312,
          "ppf": 1.353075038947293
         },
         {
          "actual": 3.947263770894006,
          "ppf": 0.6847090348152741
         },
         {
          "actual": 3.5011703423273075,
          "ppf": 0.3482765693371886
         },
         {
          "actual": 4.925088593697094,
          "ppf": 1.4375176597473256
         },
         {
          "actual": 3.5086276758987616,
          "ppf": 0.3539966960030028
         },
         {
          "actual": 2.647563414383126,
          "ppf": -0.22743888698026132
         },
         {
          "actual": 1.4843725224208384,
          "ppf": -1.062978421394273
         },
         {
          "actual": 3.615002530074234,
          "ppf": 0.45043794666956616
         },
         {
          "actual": 3.64127204216555,
          "ppf": 0.4639715501274962
         },
         {
          "actual": 2.8127659207328892,
          "ppf": -0.11603913958663103
         },
         {
          "actual": 1.5517948044134213,
          "ppf": -1.0141006615844703
         },
         {
          "actual": 1.8330370199147117,
          "ppf": -0.8007160234950101
         },
         {
          "actual": 4.321768408608919,
          "ppf": 0.9127752366867941
         },
         {
          "actual": 2.430001959741113,
          "ppf": -0.36956366140006597
         },
         {
          "actual": 1.8233983162936378,
          "ppf": -0.8156264698137449
         },
         {
          "actual": 0,
          "ppf": -2.722226251086252
         },
         {
          "actual": 3.676587521781002,
          "ppf": 0.49399764757616765
         },
         {
          "actual": 4.381261328690335,
          "ppf": 0.962202798668053
         },
         {
          "actual": 1.4587772359068962,
          "ppf": -1.0736576776208506
         },
         {
          "actual": 3.984755635979025,
          "ppf": 0.7057106709864922
         },
         {
          "actual": 2.416121928723649,
          "ppf": -0.3792421289057709
         },
         {
          "actual": 2.8816378668709186,
          "ppf": -0.07443630982081267
         },
         {
          "actual": 2.7303222093522144,
          "ppf": -0.18592401317358567
         },
         {
          "actual": 3.112544133731036,
          "ppf": 0.09710819256788855
         },
         {
          "actual": 4.99316163800844,
          "ppf": 1.51533549907684
         },
         {
          "actual": 0.7414232059298687,
          "ppf": -1.576723211342442
         },
         {
          "actual": 4.963672378006884,
          "ppf": 1.4680742382193697
         },
         {
          "actual": 3.0053737564755747,
          "ppf": 0.0028384628919038263
         },
         {
          "actual": 3.563947607832435,
          "ppf": 0.4117462455765535
         },
         {
          "actual": 0.962882958733763,
          "ppf": -1.400876181183846
         },
         {
          "actual": 4.893357029023491,
          "ppf": 1.4139074227801336
         },
         {
          "actual": 2.125833335734654,
          "ppf": -0.608470397838033
         },
         {
          "actual": 1.5778958275522266,
          "ppf": -0.9933337048378145
         },
         {
          "actual": 1.9195068111039775,
          "ppf": -0.7293652900694907
         },
         {
          "actual": 3.9027647861770336,
          "ppf": 0.6570929111659523
         },
         {
          "actual": 2.30723759014615,
          "ppf": -0.4526215554111924
         },
         {
          "actual": 3.952025458716992,
          "ppf": 0.6871284113963433
         },
         {
          "actual": 3.524339661129339,
          "ppf": 0.3645139094494666
         },
         {
          "actual": 1.3591106164673987,
          "ppf": -1.143816283070778
         },
         {
          "actual": 3.940476956967108,
          "ppf": 0.6795811110260781
         },
         {
          "actual": 2.101329975515347,
          "ppf": -0.6271295841007888
         },
         {
          "actual": 1.2243412739551962,
          "ppf": -1.2050274131608885
         },
         {
          "actual": 3.0856738226731477,
          "ppf": 0.06940371505394624
         },
         {
          "actual": 1.184689335505295,
          "ppf": -1.2370131547034888
         },
         {
          "actual": 0,
          "ppf": -1.880937277745856
         },
         {
          "actual": 3.318228793538564,
          "ppf": 0.23099705412720417
         },
         {
          "actual": 4.327489082664557,
          "ppf": 0.9251721039587578
         },
         {
          "actual": 1.8495597448249808,
          "ppf": -0.7926725503483787
         },
         {
          "actual": 3.224002359909561,
          "ppf": 0.16220182397280802
         },
         {
          "actual": 3.7389022165750316,
          "ppf": 0.5365135259594864
         },
         {
          "actual": 3.304688453827589,
          "ppf": 0.22259703669532174
         },
         {
          "actual": 4.406665250487863,
          "ppf": 0.9838846310690231
         },
         {
          "actual": 0.8712735334396325,
          "ppf": -1.4756649776117623
         },
         {
          "actual": 1.0495812140682663,
          "ppf": -1.3207978843398163
         },
         {
          "actual": 1.005951851208737,
          "ppf": -1.3526273931074886
         },
         {
          "actual": 3.9003079141547916,
          "ppf": 0.6536115520082505
         },
         {
          "actual": 2.130536194531685,
          "ppf": -0.6005792723911885
         },
         {
          "actual": 3.0601103896727926,
          "ppf": 0.04779393750118545
         },
         {
          "actual": 4.740323394705887,
          "ppf": 1.2750179009526628
         },
         {
          "actual": 3.7991211884399325,
          "ppf": 0.5822155741480798
         },
         {
          "actual": 2.157236174867775,
          "ppf": -0.5719104419043548
         },
         {
          "actual": 3.6627368099346858,
          "ppf": 0.48968147787332794
         },
         {
          "actual": 3.64127204216555,
          "ppf": 0.46343923280013416
         },
         {
          "actual": 5.434423783758564,
          "ppf": 1.8708696638769302
         },
         {
          "actual": 1.0751430700725992,
          "ppf": -1.3035541872048204
         },
         {
          "actual": 4.02974558724805,
          "ppf": 0.7336601570813065
         },
         {
          "actual": 3.546022165373708,
          "ppf": 0.39909545410391056
         },
         {
          "actual": 2.093501686912018,
          "ppf": -0.6382252611157792
         },
         {
          "actual": 1.9524181683472104,
          "ppf": -0.7017302526932653
         },
         {
          "actual": 3.377982296461478,
          "ppf": 0.2684203103365175
         },
         {
          "actual": 6.154225894644487,
          "ppf": 2.597416141919807
         },
         {
          "actual": 3.4920900150355583,
          "ppf": 0.3462454992646797
         },
         {
          "actual": 2.9505454261991337,
          "ppf": -0.018256787809583314
         },
         {
          "actual": 3.5337259981699005,
          "ppf": 0.38721661988358114
         },
         {
          "actual": 3.528244918876405,
          "ppf": 0.37321300753432124
         },
         {
          "actual": 4.000851871007754,
          "ppf": 0.7192668096707353
         },
         {
          "actual": 3.3728809100135453,
          "ppf": 0.25975742010085634
         },
         {
          "actual": 1.936786957678179,
          "ppf": -0.7212806134187443
         },
         {
          "actual": 4.970039184653743,
          "ppf": 1.4956631432746625
         },
         {
          "actual": 3.11108875987202,
          "ppf": 0.0966879249605197
         },
         {
          "actual": 4.396754015296639,
          "ppf": 0.9761571817370899
         },
         {
          "actual": 2.9414615240161925,
          "ppf": -0.021603847923732204
         },
         {
          "actual": 4.297800586112763,
          "ppf": 0.8963121701831874
         },
         {
          "actual": 2.82588852078862,
          "ppf": -0.10888292638611062
         },
         {
          "actual": 4.742300356663007,
          "ppf": 1.2858696169421449
         },
         {
          "actual": 1.9140928115474514,
          "ppf": -0.7347555570424571
         },
         {
          "actual": 5.734297012929586,
          "ppf": 2.094266993790457
         },
         {
          "actual": 0,
          "ppf": -1.8987565626387775
         },
         {
          "actual": 2.514157656613254,
          "ppf": -0.3093562273830943
         },
         {
          "actual": 0.7730561326238392,
          "ppf": -1.5422519813997182
         },
         {
          "actual": 4.381261328690335,
          "ppf": 0.9621078669061475
         },
         {
          "actual": 3.5668644811701635,
          "ppf": 0.41474008987634414
         },
         {
          "actual": 1.6899754770104811,
          "ppf": -0.9133191957411713
         },
         {
          "actual": 4.82979805937514,
          "ppf": 1.3719732761700323
         },
         {
          "actual": 2.5832025119877717,
          "ppf": -0.27263523891293323
         },
         {
          "actual": 2.7474008584709986,
          "ppf": -0.1717760338629219
         },
         {
          "actual": 4.476308482299479,
          "ppf": 1.0513799297015485
         },
         {
          "actual": 3.75543494910584,
          "ppf": 0.5479348766341577
         },
         {
          "actual": 2.8868885328590093,
          "ppf": -0.06964332155979669
         },
         {
          "actual": 2.911633574999652,
          "ppf": -0.04797341423964065
         },
         {
          "actual": 1.461312861919496,
          "ppf": -1.0719577621572176
         },
         {
          "actual": 4.189479630419976,
          "ppf": 0.8356245511701273
         },
         {
          "actual": 2.8346573223104765,
          "ppf": -0.10125176019884509
         },
         {
          "actual": 1.9855241969124224,
          "ppf": -0.6859182212379222
         },
         {
          "actual": 2.797625467392173,
          "ppf": -0.12832098003602005
         },
         {
          "actual": 3.1790342374026803,
          "ppf": 0.13694175366377825
         },
         {
          "actual": 5.181225875072108,
          "ppf": 1.6514422962043027
         },
         {
          "actual": 2.5071333778288167,
          "ppf": -0.3129940674281376
         },
         {
          "actual": 2.9583420191668717,
          "ppf": -0.013654906431564029
         },
         {
          "actual": 2.4730946077160403,
          "ppf": -0.34459630630250826
         },
         {
          "actual": 3.9885905417509466,
          "ppf": 0.7100867081593608
         },
         {
          "actual": 1.2666002397609872,
          "ppf": -1.1921586670208315
         },
         {
          "actual": 1.9135954574516472,
          "ppf": -0.7350686904034743
         },
         {
          "actual": 5.517180841551812,
          "ppf": 1.972632564278684
         },
         {
          "actual": 3.5297202602521156,
          "ppf": 0.37770147647299795
         },
         {
          "actual": 5.070754347814792,
          "ppf": 1.567062214375139
         },
         {
          "actual": 2.184761094892331,
          "ppf": -0.5564956363589914
         },
         {
          "actual": 5.67453384343889,
          "ppf": 2.0507742527569772
         },
         {
          "actual": 3.269348111931,
          "ppf": 0.19194650555282688
         },
         {
          "actual": 3.4474810437879064,
          "ppf": 0.31525411919754065
         },
         {
          "actual": 5.2104916739440545,
          "ppf": 1.6711557422529473
         },
         {
          "actual": 4.343887413068349,
          "ppf": 0.9322543525571829
         },
         {
          "actual": 2.812765920732778,
          "ppf": -0.11646027484004191
         },
         {
          "actual": 2.51772043914392,
          "ppf": -0.304345215428778
         },
         {
          "actual": 4.519907578345008,
          "ppf": 1.085429612139092
         },
         {
          "actual": 1.2700208467523193,
          "ppf": -1.1876707096803307
         },
         {
          "actual": 4.584173737654104,
          "ppf": 1.1660527824246953
         },
         {
          "actual": 2.4995585651112107,
          "ppf": -0.32324004277342544
         },
         {
          "actual": 2.5534652194137726,
          "ppf": -0.28549618907664864
         },
         {
          "actual": 3.527270879241999,
          "ppf": 0.37001156072698205
         },
         {
          "actual": 4.4354736003846735,
          "ppf": 1.0218256586735885
         },
         {
          "actual": 4.226442879907642,
          "ppf": 0.8557039818519199
         },
         {
          "actual": 3.3346925713528215,
          "ppf": 0.2411356021037691
         },
         {
          "actual": 4.004523305923497,
          "ppf": 0.7239961319798037
         },
         {
          "actual": 1.957135132640716,
          "ppf": -0.6989047903453977
         },
         {
          "actual": 1.184689335505295,
          "ppf": -1.2416499405344688
         },
         {
          "actual": 5.307222395799818,
          "ppf": 1.7340221474984312
         },
         {
          "actual": 2.8912526126953813,
          "ppf": -0.06209756512748759
         },
         {
          "actual": 4.702533783333242,
          "ppf": 1.2620583528489262
         },
         {
          "actual": 5.32725530635824,
          "ppf": 1.7394219543336358
         },
         {
          "actual": 4.322941633744415,
          "ppf": 0.9133191957411713
         },
         {
          "actual": 4.929169481612832,
          "ppf": 1.4476669913122824
         },
         {
          "actual": 4.240887185963215,
          "ppf": 0.869923620680775
         },
         {
          "actual": 2.42620232343684,
          "ppf": -0.3741741864632363
         },
         {
          "actual": 3.5297202602521156,
          "ppf": 0.37673902399798015
         },
         {
          "actual": 3.0482275529129854,
          "ppf": 0.04133375513575183
         },
         {
          "actual": 4.559586339382318,
          "ppf": 1.1243773394664323
         },
         {
          "actual": 3.9359701764341235,
          "ppf": 0.6719974277371294
         },
         {
          "actual": 3.6607880322091897,
          "ppf": 0.483627238892447
         },
         {
          "actual": 3.3635284437727124,
          "ppf": 0.2553098393789781
         },
         {
          "actual": 0.9502291949472875,
          "ppf": -1.4084083790891198
         },
         {
          "actual": 0,
          "ppf": -1.922862328702854
         },
         {
          "actual": 0,
          "ppf": -1.9793681417345539
         },
         {
          "actual": 0.9932417494438628,
          "ppf": -1.365113683769087
         },
         {
          "actual": 0.9502291949472875,
          "ppf": -1.406477672490062
         },
         {
          "actual": 0.9326933669444654,
          "ppf": -1.4224013650728513
         },
         {
          "actual": 2.102408735156577,
          "ppf": -0.6258207470645033
         },
         {
          "actual": 3.515770589902857,
          "ppf": 0.3616416265826289
         },
         {
          "actual": 2.84963335256951,
          "ppf": -0.09584744090057386
         },
         {
          "actual": 3.7036052242826356,
          "ppf": 0.5017765201580787
         },
         {
          "actual": 0,
          "ppf": -2.5887964278767153
         },
         {
          "actual": 1.4866072689693097,
          "ppf": -1.0562736585763417
         },
         {
          "actual": 0.6352952298258675,
          "ppf": -1.6238047818036052
         },
         {
          "actual": 3.302705693436586,
          "ppf": 0.21922921364750317
         },
         {
          "actual": 2.01603271386908,
          "ppf": -0.6755967089658679
         },
         {
          "actual": 2.5137743513634954,
          "ppf": -0.3103593585777079
         },
         {
          "actual": 3.737646818756355,
          "ppf": 0.5341687558255958
         },
         {
          "actual": 5.457481091890467,
          "ppf": 1.928970903771645
         },
         {
          "actual": 1.6111207304334623,
          "ppf": -0.9672466528163476
         },
         {
          "actual": 2.0594264593100737,
          "ppf": -0.6472618123028923
         },
         {
          "actual": 3.7269252123245127,
          "ppf": 0.5154462661760577
         },
         {
          "actual": 0,
          "ppf": -2.5377446345705734
         },
         {
          "actual": 2.30723759014615,
          "ppf": -0.4554701074515521
         },
         {
          "actual": 0.800660014612294,
          "ppf": -1.5219616496919537
         },
         {
          "actual": 2.416121928723649,
          "ppf": -0.38110495274730194
         },
         {
          "actual": 4.579558077398324,
          "ppf": 1.1579536020097736
         },
         {
          "actual": 4.321768408608919,
          "ppf": 0.9113259977931106
         },
         {
          "actual": 3.330857497179851,
          "ppf": 0.23412820404798781
         },
         {
          "actual": 5.217675197491759,
          "ppf": 1.6821211245992822
         },
         {
          "actual": 2.8928417975612537,
          "ppf": -0.05748803692262079
         },
         {
          "actual": 2.8644022547600114,
          "ppf": -0.08600665171204167
         },
         {
          "actual": 3.1467391893829477,
          "ppf": 0.1154977102030565
         },
         {
          "actual": 3.173968781893404,
          "ppf": 0.13483085786975085
         },
         {
          "actual": 3.5297202602521156,
          "ppf": 0.378600081202449
         },
         {
          "actual": 4.240887185963215,
          "ppf": 0.8705344675734726
         },
         {
          "actual": 2.7384748545808777,
          "ppf": -0.18063708844071383
         },
         {
          "actual": 0,
          "ppf": -2.2468415737936227
         },
         {
          "actual": 1.9077248171335082,
          "ppf": -0.7460742368089436
         },
         {
          "actual": 3.181624787447702,
          "ppf": 0.13754497843015623
         },
         {
          "actual": 2.8181857196267095,
          "ppf": -0.11321204634645243
         },
         {
          "actual": 4.538000120394092,
          "ppf": 1.1004142065227276
         },
         {
          "actual": 2.887405670872788,
          "ppf": -0.06670841315071792
         },
         {
          "actual": 2.5426796206249715,
          "ppf": -0.2945955547226933
         },
         {
          "actual": 5.217675197491759,
          "ppf": 1.6813837877777904
         },
         {
          "actual": 3.5298006968193123,
          "ppf": 0.3801412584705698
         },
         {
          "actual": 1.0520725198376393,
          "ppf": -1.3180865679684302
         },
         {
          "actual": 4.702533783333242,
          "ppf": 1.262588583190388
         },
         {
          "actual": 1.6826928999113193,
          "ppf": -0.9254471664039017
         },
         {
          "actual": 4.775626231051861,
          "ppf": 1.3238059431213078
         },
         {
          "actual": 2.504240444700872,
          "ppf": -0.31770432748732397
         },
         {
          "actual": 3.0634827656973447,
          "ppf": 0.04928962458136356
         },
         {
          "actual": 2.534831331439471,
          "ppf": -0.2983420604111099
         },
         {
          "actual": 0.5718189973096292,
          "ppf": -1.6484121519184676
         },
         {
          "actual": 1.428991231917899,
          "ppf": -1.0974630372527119
         },
         {
          "actual": 3.7488766490532037,
          "ppf": 0.5418346908022499
         },
         {
          "actual": 0,
          "ppf": -1.8962254041782476
         },
         {
          "actual": 1.56396652835733,
          "ppf": -1.00129265877823
         },
         {
          "actual": 2.965006840255633,
          "ppf": -0.00911307370956289
         },
         {
          "actual": 2.7438531166738747,
          "ppf": -0.17414167924115184
         },
         {
          "actual": 1.813689485163655,
          "ppf": -0.8232338954477976
         },
         {
          "actual": 2.838990642287764,
          "ppf": -0.09656785164113271
         },
         {
          "actual": 4.76414579445778,
          "ppf": 1.3102921347662404
         },
         {
          "actual": 1.7309154373983622,
          "ppf": -0.8878608868550655
         },
         {
          "actual": 5.070754347814792,
          "ppf": 1.5666543411117173
         },
         {
          "actual": 3.810875391786745,
          "ppf": 0.5885989253542474
         },
         {
          "actual": 2.2944516020075487,
          "ppf": -0.4718386212807716
         },
         {
          "actual": 2.8552030727660247,
          "ppf": -0.09428672109277493
         },
         {
          "actual": 0,
          "ppf": -2.909193910324009
         },
         {
          "actual": 3.7210416125913253,
          "ppf": 0.514491047196871
         },
         {
          "actual": 1.8243259622089927,
          "ppf": -0.8144602858847145
         },
         {
          "actual": 3.806111144019032,
          "ppf": 0.5857589344803962
         },
         {
          "actual": 5.267873762857799,
          "ppf": 1.7160311561551913
         },
         {
          "actual": 1.7539083554095714,
          "ppf": -0.8741188303189497
         },
         {
          "actual": 1.355739223772794,
          "ppf": -1.1488885245720857
         },
         {
          "actual": 2.8995090341819973,
          "ppf": -0.05264036884473664
         },
         {
          "actual": 4.297321904593532,
          "ppf": 0.8940819587931438
         },
         {
          "actual": 3.544627256965824,
          "ppf": 0.3979309331492575
         },
         {
          "actual": 3.9092339997398864,
          "ppf": 0.6627392668704863
         },
         {
          "actual": 1.3508169164651054,
          "ppf": -1.1542231199144226
         },
         {
          "actual": 6.343574968287808,
          "ppf": 2.6744301586257655
         },
         {
          "actual": 1.3619792021928252,
          "ppf": -1.1380878615011207
         },
         {
          "actual": 2.803372142222068,
          "ppf": -0.12127473510877028
         },
         {
          "actual": 2.9566524801316008,
          "ppf": -0.014312298079793995
         },
         {
          "actual": 4.752228253169145,
          "ppf": 1.301739477951991
         },
         {
          "actual": 1.7880608186441593,
          "ppf": -0.8565660683292792
         },
         {
          "actual": 2.605818403777149,
          "ppf": -0.25407529978522364
         },
         {
          "actual": 3.524339661129339,
          "ppf": 0.3647055016780773
         },
         {
          "actual": 3.2585220978866793,
          "ppf": 0.1825203485570482
         },
         {
          "actual": 3.571429648206034,
          "ppf": 0.4223063932855958
         },
         {
          "actual": 4.607896344872914,
          "ppf": 1.1842902530967496
         },
         {
          "actual": 2.416121928723649,
          "ppf": -0.38078368203824403
         },
         {
          "actual": 0,
          "ppf": -2.4730148063849335
         },
         {
          "actual": 5.652181322531651,
          "ppf": 2.0372603990622995
         },
         {
          "actual": 5.758368759871428,
          "ppf": 2.112275934463757
         },
         {
          "actual": 3.9324537820667715,
          "ppf": 0.6671372275270789
         },
         {
          "actual": 4.798761935212211,
          "ppf": 1.3366893742977657
         },
         {
          "actual": 1.5979080232770713,
          "ppf": -0.9735622914179705
         },
         {
          "actual": 3.4024703360852064,
          "ppf": 0.27375176344802604
         },
         {
          "actual": 3.8267097692461527,
          "ppf": 0.5990770418612954
         },
         {
          "actual": 3.1063791427976155,
          "ppf": 0.09284626056026025
         },
         {
          "actual": 4.519907578345008,
          "ppf": 1.0851065635977564
         },
         {
          "actual": 0.8490011204813265,
          "ppf": -1.4891118754010924
         },
         {
          "actual": 0,
          "ppf": -2.0019021765335125
         },
         {
          "actual": 3.8443965505447872,
          "ppf": 0.6121418761551445
         },
         {
          "actual": 3.615002530074234,
          "ppf": 0.45057022536718655
         },
         {
          "actual": 2.730322209352097,
          "ppf": -0.18750501610137219
         },
         {
          "actual": 5.499459844364033,
          "ppf": 1.9577965381151707
         },
         {
          "actual": 3.527270879241999,
          "ppf": 0.37077956093366904
         },
         {
          "actual": 1.8746408165910016,
          "ppf": -0.7710134198006346
         },
         {
          "actual": 3.1205563833853276,
          "ppf": 0.106118172800321
         },
         {
          "actual": 5.395729187674594,
          "ppf": 1.8113386589188525
         },
         {
          "actual": 4.158161747628164,
          "ppf": 0.8183797316094309
         },
         {
          "actual": 4.269258480130337,
          "ppf": 0.8817621348403978
         },
         {
          "actual": 3.5706256778692946,
          "ppf": 0.4204778458501838
         },
         {
          "actual": 4.36334048375946,
          "ppf": 0.9495582551175016
         },
         {
          "actual": 3.4024703360852064,
          "ppf": 0.27586168692661406
         },
         {
          "actual": 3.8938728910427236,
          "ppf": 0.6450529252576342
         },
         {
          "actual": 3.078187975464346,
          "ppf": 0.06563042916286649
         },
         {
          "actual": 3.830672776375864,
          "ppf": 0.6006508409688978
         },
         {
          "actual": 1.637188375042384,
          "ppf": -0.9574667834605508
         },
         {
          "actual": 3.582760325578497,
          "ppf": 0.43402978403269293
         },
         {
          "actual": 2.034598051001792,
          "ppf": -0.6652721141304038
         },
         {
          "actual": 2.740038609798409,
          "ppf": -0.17626552399910467
         },
         {
          "actual": 3.2111039581335463,
          "ppf": 0.15143342565233212
         },
         {
          "actual": 2.416121928723649,
          "ppf": -0.38142626279687525
         },
         {
          "actual": 3.377668900112316,
          "ppf": 0.26482899157335293
         },
         {
          "actual": 3.304688453827589,
          "ppf": 0.2227195503431385
         },
         {
          "actual": 2.5812961456926637,
          "ppf": -0.2730073759266848
         },
         {
          "actual": 5.830923041467689,
          "ppf": 2.184935122478307
         },
         {
          "actual": 2.058870609422847,
          "ppf": -0.6519107932567484
         },
         {
          "actual": 3.0601103896727926,
          "ppf": 0.04749481302204823
         },
         {
          "actual": 3.274789773553668,
          "ppf": 0.1973666081873718
         },
         {
          "actual": 3.659779962081219,
          "ppf": 0.478930622798261
         },
         {
          "actual": 3.37288826903426,
          "ppf": 0.260684643587796
         },
         {
          "actual": 1.2243412739551962,
          "ppf": -1.2025608544750646
         },
         {
          "actual": 2.7384748545808777,
          "ppf": -0.1784508799320304
         },
         {
          "actual": 3.956993765835563,
          "ppf": 0.692434881410859
         },
         {
          "actual": 4.112221419876395,
          "ppf": 0.7870399283220276
         },
         {
          "actual": 4.203599676412047,
          "ppf": 0.8425923750861088
         },
         {
          "actual": 4.08887502307014,
          "ppf": 0.7702092640905855
         },
         {
          "actual": 3.537224774879413,
          "ppf": 0.39224544547401957
         },
         {
          "actual": 4.395893626640973,
          "ppf": 0.9743304638368725
         },
         {
          "actual": 3.3913640155045774,
          "ppf": 0.270651144325082
         },
         {
          "actual": 5.4370193069325214,
          "ppf": 1.8774441612980366
         },
         {
          "actual": 1.6423213523493296,
          "ppf": -0.9560501613930438
         },
         {
          "actual": 3.736856749879319,
          "ppf": 0.5323088229680629
         },
         {
          "actual": 3.462274944349426,
          "ppf": 0.32412163436156705
         },
         {
          "actual": 4.577625362345817,
          "ppf": 1.152479973662653
         },
         {
          "actual": 3.147629588136583,
          "ppf": 0.11652043870350008
         },
         {
          "actual": 1.3152452014187712,
          "ppf": -1.1611137773958429
         },
         {
          "actual": 1.2700208467523193,
          "ppf": -1.1839288633868108
         },
         {
          "actual": 5.381525301069438,
          "ppf": 1.7985431825943097
         },
         {
          "actual": 0.47106111793909206,
          "ppf": -1.713950736187479
         },
         {
          "actual": 3.1510533842988973,
          "ppf": 0.12025143084610174
         },
         {
          "actual": 3.880293895271336,
          "ppf": 0.6340552423929793
         },
         {
          "actual": 2.7344699605874148,
          "ppf": -0.1827633968805876
         },
         {
          "actual": 4.886225498522399,
          "ppf": 1.4048727459249686
         },
         {
          "actual": 4.505955783948526,
          "ppf": 1.0610878850578909
         },
         {
          "actual": 3.412199584636813,
          "ppf": 0.2881113606301469
         },
         {
          "actual": 1.110654841149979,
          "ppf": -1.2928673865037208
         },
         {
          "actual": 4.555654204727136,
          "ppf": 1.119220164478465
         },
         {
          "actual": 3.303133595426553,
          "ppf": 0.22131084471990978
         },
         {
          "actual": 4.309209409837035,
          "ppf": 0.9015035135267216
         },
         {
          "actual": 3.0154021259550787,
          "ppf": 0.011443721642488809
         },
         {
          "actual": 3.147629588136583,
          "ppf": 0.1172424380271116
         },
         {
          "actual": 2.9538156142672345,
          "ppf": -0.016344276259579286
         },
         {
          "actual": 3.430886416750674,
          "ppf": 0.2990293727047992
         },
         {
          "actual": 2.695831103667723,
          "ppf": -0.20108485206044957
         },
         {
          "actual": 2.7914259024415524,
          "ppf": -0.13145466983865245
         },
         {
          "actual": 3.1486312857992713,
          "ppf": 0.11772380484212863
         },
         {
          "actual": 2.3301745822290063,
          "ppf": -0.43757811956819254
         },
         {
          "actual": 3.3404391052279037,
          "ppf": 0.24212003689195777
         },
         {
          "actual": 1.5744047127295158,
          "ppf": -0.9979441650002253
         },
         {
          "actual": 2.125833335734654,
          "ppf": -0.6070328411042405
         },
         {
          "actual": 6.05368770395953,
          "ppf": 2.4342279362370594
         },
         {
          "actual": 3.480730914356997,
          "ppf": 0.33238313537076336
         },
         {
          "actual": 1.0520725198376393,
          "ppf": -1.316379137873767
         },
         {
          "actual": 3.6589482024386966,
          "ppf": 0.4751140284130571
         },
         {
          "actual": 3.0969604442133845,
          "ppf": 0.07875145866451716
         },
         {
          "actual": 4.37833734981017,
          "ppf": 0.9586960786561651
         },
         {
          "actual": 2.81579151621023,
          "ppf": -0.1148360091389739
         },
         {
          "actual": 1.1914646645205151,
          "ppf": -1.2271838488952893
         },
         {
          "actual": 2.5445169643633925,
          "ppf": -0.2916636800690966
         },
         {
          "actual": 4.8758256451412025,
          "ppf": 1.3934226325396402
         },
         {
          "actual": 2.953083573014556,
          "ppf": -0.017778653934883353
         },
         {
          "actual": 3.7143005173537156,
          "ppf": 0.5123094493341771
         },
         {
          "actual": 4.5966981369479445,
          "ppf": 1.1823646250146
         },
         {
          "actual": 1.6788902946940731,
          "ppf": -0.9259975014603803
         },
         {
          "actual": 1.8233983162936378,
          "ppf": -0.815709811107802
         },
         {
          "actual": 4.526465768405659,
          "ppf": 1.0880180893679507
         },
         {
          "actual": 2.2004533288366708,
          "ppf": -0.5396214428795907
         },
         {
          "actual": 3.7654914251763767,
          "ppf": 0.5569840568417502
         },
         {
          "actual": 1.38908168796827,
          "ppf": -1.132169654316483
         },
         {
          "actual": 0,
          "ppf": -2.7246640774528132
         },
         {
          "actual": 1.560586344546636,
          "ppf": -1.0042565631877065
         },
         {
          "actual": 3.7269252123245127,
          "ppf": 0.515924052037374
         },
         {
          "actual": 3.249627160539062,
          "ppf": 0.17414167924115198
         },
         {
          "actual": 1.8646898377910466,
          "ppf": -0.7856560131594342
         },
         {
          "actual": 1.7880608186441593,
          "ppf": -0.854928647406585
         },
         {
          "actual": 1.3591106164673987,
          "ppf": -1.144506219072983
         },
         {
          "actual": 2.102408735156577,
          "ppf": -0.6247308679722673
         },
         {
          "actual": 4.329911552063301,
          "ppf": 0.9272827085929523
         },
         {
          "actual": 4.430548760741651,
          "ppf": 1.0121040489201616
         },
         {
          "actual": 4.112780103422729,
          "ppf": 0.7902205040628749
         },
         {
          "actual": 4.584173737654104,
          "ppf": 1.1659348563799221
         },
         {
          "actual": 4.238005336172804,
          "ppf": 0.8681801295468082
         },
         {
          "actual": 3.001187515219807,
          "ppf": -0.0012847765687856243
         },
         {
          "actual": 3.7662924135504032,
          "ppf": 0.5608262860459489
         },
         {
          "actual": 2.81579151621023,
          "ppf": -0.11447510249593014
         },
         {
          "actual": 4.750613803306846,
          "ppf": 1.2977066534348662
         },
         {
          "actual": 2.4609337588863416,
          "ppf": -0.3534877737648926
         },
         {
          "actual": 0,
          "ppf": -2.1184341365258166
         },
         {
          "actual": 2.230215706846918,
          "ppf": -0.505915032130475
         },
         {
          "actual": 1.7872261324363676,
          "ppf": -0.8581194304563816
         },
         {
          "actual": 4.812303970359312,
          "ppf": 1.35681601158895
         },
         {
          "actual": 3.2422646631503014,
          "ppf": 0.1720792677372497
         },
         {
          "actual": 4.325808883809349,
          "ppf": 0.9154068806336293
         },
         {
          "actual": 2.2181069593310436,
          "ppf": -0.5279761163818947
         },
         {
          "actual": 1.8941997474630254,
          "ppf": -0.7566138590247916
         },
         {
          "actual": 3.0455786299556427,
          "ppf": 0.034097993799570826
         },
         {
          "actual": 2.5775612633326594,
          "ppf": -0.2740619696665782
         },
         {
          "actual": 1.1506435925227891,
          "ppf": -1.2640485500503513
         },
         {
          "actual": 0.7236261628672447,
          "ppf": -1.5850628350932614
         },
         {
          "actual": 3.412199584636813,
          "ppf": 0.2873016930238546
         },
         {
          "actual": 2.1287860714998046,
          "ppf": -0.6025843576314445
         },
         {
          "actual": 3.370018918252927,
          "ppf": 0.25580376408379596
         },
         {
          "actual": 1.9179178353217308,
          "ppf": -0.7317843735156078
         },
         {
          "actual": 3.142487084286668,
          "ppf": 0.11170864335584219
         },
         {
          "actual": 3.732252271108892,
          "ppf": 0.5289380810337233
         },
         {
          "actual": 3.969376231409723,
          "ppf": 0.6953998134024316
         },
         {
          "actual": 3.8267097692461527,
          "ppf": 0.5977904909761581
         },
         {
          "actual": 3.321820329663523,
          "ppf": 0.23185635869024734
         },
         {
          "actual": 4.508302097006854,
          "ppf": 1.0728073323759122
         },
         {
          "actual": 4.347621001178375,
          "ppf": 0.9424537517712768
         },
         {
          "actual": 5.652181322531651,
          "ppf": 2.0297021772599555
         },
         {
          "actual": 3.379504410488977,
          "ppf": 0.2693496615268302
         },
         {
          "actual": 3.5366411879010085,
          "ppf": 0.3909550621453485
         },
         {
          "actual": 3.3330906902618755,
          "ppf": 0.23676997668169183
         },
         {
          "actual": 5.499459844364033,
          "ppf": 1.958609523842068
         },
         {
          "actual": 4.395893626640973,
          "ppf": 0.9742344108458094
         },
         {
          "actual": 3.0080698627184708,
          "ppf": 0.00684223369704188
         },
         {
          "actual": 4.228431744331461,
          "ppf": 0.8590697273959347
         },
         {
          "actual": 1.111670559093947,
          "ppf": -1.289566451674156
         },
         {
          "actual": 1.207959192727045,
          "ppf": -1.212222228046128
         },
         {
          "actual": 3.940476956967108,
          "ppf": 0.6792047637992509
         },
         {
          "actual": 2.550342907449497,
          "ppf": -0.2871771455052429
         },
         {
          "actual": 2.890822807369191,
          "ppf": -0.06341481128296508
         },
         {
          "actual": 0.3833048062090181,
          "ppf": -1.7723623824099575
         },
         {
          "actual": 4.55552991746641,
          "ppf": 1.111983199553753
         },
         {
          "actual": 3.486612502611351,
          "ppf": 0.33794557696893684
         },
         {
          "actual": 3.370018918252927,
          "ppf": 0.25673004123826065
         },
         {
          "actual": 1.428991231917899,
          "ppf": -1.097899644226937
         },
         {
          "actual": 3.269348111931,
          "ppf": 0.1918856378449977
         },
         {
          "actual": 4.218391596989024,
          "ppf": 0.8499443179180897
         },
         {
          "actual": 3.6607880322091897,
          "ppf": 0.48456784030126826
         },
         {
          "actual": 2.7753734437569673,
          "ppf": -0.15052679547248085
         },
         {
          "actual": 4.130937957188932,
          "ppf": 0.8017869058569198
         },
         {
          "actual": 3.258625847918886,
          "ppf": 0.18555923247568512
         },
         {
          "actual": 2.2997624455724837,
          "ppf": -0.46084606194242084
         },
         {
          "actual": 2.1552148199230365,
          "ppf": -0.5781144102905136
         },
         {
          "actual": 2.22076672232092,
          "ppf": -0.5201610313384754
         },
         {
          "actual": 1.936786957678179,
          "ppf": -0.7201958946163183
         },
         {
          "actual": 5.996357999307744,
          "ppf": 2.345995682803581
         },
         {
          "actual": 1.9524181683472104,
          "ppf": -0.7029538101147419
         },
         {
          "actual": 2.6993894801028406,
          "ppf": -0.19852445474743247
         },
         {
          "actual": 4.135282311754663,
          "ppf": 0.805914285609933
         },
         {
          "actual": 3.5700561280546577,
          "ppf": 0.418128919367698
         },
         {
          "actual": 2.0584835333025,
          "ppf": -0.6546477225676934
         },
         {
          "actual": 5.399590773919708,
          "ppf": 1.8234916830938337
         },
         {
          "actual": 3.7488766490532037,
          "ppf": 0.5420423187690303
         },
         {
          "actual": 4.000851871007754,
          "ppf": 0.7185704032247633
         },
         {
          "actual": 2.474592223183557,
          "ppf": -0.33800884633056627
         },
         {
          "actual": 1.907940507744712,
          "ppf": -0.7452062540338767
         },
         {
          "actual": 2.359837558634838,
          "ppf": -0.4080415915568073
         },
         {
          "actual": 0.4850545878922319,
          "ppf": -1.6995913960953848
         },
         {
          "actual": 1.936786957678179,
          "ppf": -0.7205057277593142
         },
         {
          "actual": 1.2681750623611852,
          "ppf": -1.1903363349035407
         },
         {
          "actual": 1.8730561185312646,
          "ppf": -0.7756066680334595
         },
         {
          "actual": 4.187556527886602,
          "ppf": 0.8313957251216161
         },
         {
          "actual": 1.2746846390117141,
          "ppf": -1.1832065474616127
         },
         {
          "actual": 3.274789773553707,
          "ppf": 0.19968256751237617
         },
         {
          "actual": 4.4604470896494615,
          "ppf": 1.0409478966682453
         },
         {
          "actual": 3.831806250489231,
          "ppf": 0.6050941267392872
         },
         {
          "actual": 1.48940240914534,
          "ppf": -1.0512760812974262
         },
         {
          "actual": 4.150523400783346,
          "ppf": 0.8165435359077379
         },
         {
          "actual": 2.3548331477612194,
          "ppf": -0.4169553214975968
         },
         {
          "actual": 4.55552991746641,
          "ppf": 1.1097681246697593
         },
         {
          "actual": 1.3066352574770972,
          "ppf": -1.1684147172378427
         },
         {
          "actual": 3.173827247332835,
          "ppf": 0.13326315320129767
         },
         {
          "actual": 2.4454258927408845,
          "ppf": -0.3660470226523902
         },
         {
          "actual": 2.8644022547600114,
          "ppf": -0.0855268339286826
         },
         {
          "actual": 1.6860575582670392,
          "ppf": -0.9194118716524593
         },
         {
          "actual": 1.1914646645205151,
          "ppf": -1.22490312114907
         },
         {
          "actual": 3.377668900112316,
          "ppf": 0.2660050796604816
         },
         {
          "actual": 4.40592350457474,
          "ppf": 0.9786621924583523
         },
         {
          "actual": 3.690588852547937,
          "ppf": 0.49818773052737725
         },
         {
          "actual": 4.579543200191303,
          "ppf": 1.1571361827573723
         },
         {
          "actual": 4.812303970359312,
          "ppf": 1.3553173460824883
         },
         {
          "actual": 1.510503602791671,
          "ppf": -1.0425929340827766
         },
         {
          "actual": 4.000851871007754,
          "ppf": 0.7184930462445108
         },
         {
          "actual": 4.775626231051861,
          "ppf": 1.3219424012605139
         },
         {
          "actual": 3.3081218507902683,
          "ppf": 0.22596738639182562
         },
         {
          "actual": 4.8954084854917115,
          "ppf": 1.4224013650728518
         },
         {
          "actual": 1.9622361400609059,
          "ppf": -0.6959326276159401
         },
         {
          "actual": 3.404522030499726,
          "ppf": 0.2782212913406488
         },
         {
          "actual": 4.271224654245525,
          "ppf": 0.8826439770256084
         },
         {
          "actual": 3.755434949105811,
          "ppf": 0.545020894657308
         },
         {
          "actual": 2.183463372155907,
          "ppf": -0.5580311199492854
         },
         {
          "actual": 2.605307870788762,
          "ppf": -0.25716237925538826
         },
         {
          "actual": 1.355739223772794,
          "ppf": -1.1463487172156899
         },
         {
          "actual": 4.658500829125912,
          "ppf": 1.2247766007898437
         },
         {
          "actual": 4.004523305923497,
          "ppf": 0.7218232911572836
         },
         {
          "actual": 5.455861127619123,
          "ppf": 1.9142050260985295
         },
         {
          "actual": 1.9349474337953714,
          "ppf": -0.722366181555474
         },
         {
          "actual": 5.181225875072108,
          "ppf": 1.652611784268729
         },
         {
          "actual": 4.752862317020555,
          "ppf": 1.3021578764647601
         },
         {
          "actual": 4.5851741296364334,
          "ppf": 1.1704274990726955
         },
         {
          "actual": 3.0214078815961893,
          "ppf": 0.018197020849236502
         },
         {
          "actual": 3.031647896955006,
          "ppf": 0.027461808122303
         },
         {
          "actual": 4.6470020346769605,
          "ppf": 1.2133443009621394
         },
         {
          "actual": 3.996124729994867,
          "ppf": 0.7148621015606424
         },
         {
          "actual": 2.999935099881793,
          "ppf": -0.0041531257514902074
         },
         {
          "actual": 3.486966045205313,
          "ppf": 0.3410473726555888
         },
         {
          "actual": 5.891354103160232,
          "ppf": 2.2300100499056885
         },
         {
          "actual": 2.6630950503583057,
          "ppf": -0.21586387532092552
         },
         {
          "actual": 4.250424699132332,
          "ppf": 0.8745567160904404
         },
         {
          "actual": 3.6378848202065335,
          "ppf": 0.461577154639047
         },
         {
          "actual": 2.155914046620168,
          "ppf": -0.5761380170882294
         },
         {
          "actual": 0.3490752797976886,
          "ppf": -1.7898771114907652
         },
         {
          "actual": 2.047346274471702,
          "ppf": -0.6571670690810746
         },
         {
          "actual": 2.471504047870768,
          "ppf": -0.34770518601010875
         },
         {
          "actual": 2.2260426482698334,
          "ppf": -0.5138090352771815
         },
         {
          "actual": 3.699920688343005,
          "ppf": 0.5004215030811855
         },
         {
          "actual": 1.3910336509801593,
          "ppf": -1.1289992895982954
         },
         {
          "actual": 4.271224654245525,
          "ppf": 0.8832616751675391
         },
         {
          "actual": 3.334051145992702,
          "ppf": 0.24008989610830406
         },
         {
          "actual": 1.4239933651782566,
          "ppf": -1.1072275013010924
         },
         {
          "actual": 1.4228764760794779,
          "ppf": -1.1134259288682782
         },
         {
          "actual": 4.326856057113862,
          "ppf": 0.9172255072245339
         },
         {
          "actual": 2.165870941762221,
          "ppf": -0.5630655769997785
         },
         {
          "actual": 3.3620052696846066,
          "ppf": 0.25210084074521233
         },
         {
          "actual": 5.094379227840735,
          "ppf": 1.6027281590942186
         },
         {
          "actual": 3.450976582221779,
          "ppf": 0.31745293652332685
         },
         {
          "actual": 1.9195068111039775,
          "ppf": -0.7297551758702584
         },
         {
          "actual": 2.594269497181978,
          "ppf": -0.26749119092135165
         },
         {
          "actual": 0,
          "ppf": -3.6744138403758506
         },
         {
          "actual": 2.9120573381262687,
          "ppf": -0.04444398136157575
         },
         {
          "actual": 1.6423213523493296,
          "ppf": -0.9550125234033349
         },
         {
          "actual": 3.537224774879413,
          "ppf": 0.39411766274946014
         },
         {
          "actual": 4.2758787850367455,
          "ppf": 0.8872406693445993
         },
         {
          "actual": 3.54984333799135,
          "ppf": 0.40181477898420365
         },
         {
          "actual": 3.662342968769984,
          "ppf": 0.48772871758573316
         },
         {
          "actual": 4.755350035533697,
          "ppf": 1.305793585399929
         },
         {
          "actual": 3.777553815915021,
          "ppf": 0.5698707768459365
         },
         {
          "actual": 2.788620522127883,
          "ppf": -0.13308228534803923
         },
         {
          "actual": 1.4540258236649475,
          "ppf": -1.0880180893679507
         },
         {
          "actual": 1.5744047127295158,
          "ppf": -0.9971579089735758
         },
         {
          "actual": 2.309284072616099,
          "ppf": -0.44713353215806684
         },
         {
          "actual": 1.510503602791671,
          "ppf": -1.0448594781803866
         },
         {
          "actual": 4.061329289973509,
          "ppf": 0.7467058502057775
         },
         {
          "actual": 4.001191491400729,
          "ppf": 0.7198861305942407
         },
         {
          "actual": 4.02974558724805,
          "ppf": 0.7332691561225064
         },
         {
          "actual": 1.41582107756945,
          "ppf": -1.1162069417447247
         },
         {
          "actual": 3.1467391893829477,
          "ppf": 0.11477585699432358
         },
         {
          "actual": 2.9414615240161925,
          "ppf": -0.022082018251663053
         },
         {
          "actual": 1.2908651287569861,
          "ppf": -1.174348259446381
         },
         {
          "actual": 4.929169481612832,
          "ppf": 1.4468155092846287
         },
         {
          "actual": 4.742300356663007,
          "ppf": 1.2857330343613018
         },
         {
          "actual": 2.5165404779090896,
          "ppf": -0.3073508973932121
         },
         {
          "actual": 2.640203259734464,
          "ppf": -0.23394395550396402
         },
         {
          "actual": 3.544521881086687,
          "ppf": 0.39663765350276436
         },
         {
          "actual": 2.35972423588957,
          "ppf": -0.41161616230659726
         },
         {
          "actual": 0,
          "ppf": -2.0325229169136447
         },
         {
          "actual": 1.1914646645205151,
          "ppf": -1.22731074324625
         },
         {
          "actual": 3.662342968769984,
          "ppf": 0.4875941130782451
         },
         {
          "actual": 4.675905157773869,
          "ppf": 1.2485253007549817
         },
         {
          "actual": 0.6352952298258675,
          "ppf": -1.623581490638608
         },
         {
          "actual": 4.719038002595096,
          "ppf": 1.2672433197611062
         },
         {
          "actual": 2.8995090341819973,
          "ppf": -0.053059252665111536
         },
         {
          "actual": 5.447876032157902,
          "ppf": 1.9002084184596706
         },
         {
          "actual": 2.1676930105193195,
          "ppf": -0.5618056291595303
         },
         {
          "actual": 3.0933138627203145,
          "ppf": 0.07491570089333052
         },
         {
          "actual": 3.5988886586338764,
          "ppf": 0.4437680513715021
         },
         {
          "actual": 3.274789773553668,
          "ppf": 0.1974884742864823
         },
         {
          "actual": 3.0080698627184708,
          "ppf": 0.007081267623131634
         },
         {
          "actual": 1.3066352574770972,
          "ppf": -1.168651269402618
         },
         {
          "actual": 4.07856762193165,
          "ppf": 0.7558184921770381
         },
         {
          "actual": 2.9144126521362694,
          "ppf": -0.03959938147938064
         },
         {
          "actual": 3.0053737564755747,
          "ppf": 0.0037348232622201596
         },
         {
          "actual": 2.7153221790296413,
          "ppf": -0.1939555403143109
         },
         {
          "actual": 5.866715366579832,
          "ppf": 2.226433304305889
         },
         {
          "actual": 3.485940568307048,
          "ppf": 0.3352262700261326
         },
         {
          "actual": 4.3067611448214835,
          "ppf": 0.8988153116054612
         },
         {
          "actual": 2.3510741554823262,
          "ppf": -0.4194335928689143
         },
         {
          "actual": 2.734105603223304,
          "ppf": -0.1837964728922627
         },
         {
          "actual": 1.5930285076274573,
          "ppf": -0.9809799731583106
         },
         {
          "actual": 4.4070665673986475,
          "ppf": 0.9845635797809883
         },
         {
          "actual": 2.9566524801316008,
          "ppf": -0.014491587772655632
         },
         {
          "actual": 1.7880608186441593,
          "ppf": -0.8567385620218462
         },
         {
          "actual": 2.8598501915761427,
          "ppf": -0.09068592998096843
         },
         {
          "actual": 2.60614813031889,
          "ppf": -0.25105230947980317
         },
         {
          "actual": 6.605108907722031,
          "ppf": 2.9133320750597784
         },
         {
          "actual": 2.1552148199230365,
          "ppf": -0.5792447920485182
         },
         {
          "actual": 3.6627368099346858,
          "ppf": 0.48914259916312064
         },
         {
          "actual": 3.1467391893829477,
          "ppf": 0.11555786734859444
         },
         {
          "actual": 4.132915747758526,
          "ppf": 0.8050050858453055
         },
         {
          "actual": 1.1914646645205151,
          "ppf": -1.22553601726574
         },
         {
          "actual": 4.927737306591554,
          "ppf": 1.4405468941405064
         },
         {
          "actual": 0.9244714143053222,
          "ppf": -1.4326647919908981
         },
         {
          "actual": 1.8124304929478596,
          "ppf": -0.8278549682649485
         },
         {
          "actual": 1.704974373161326,
          "ppf": -0.9047379806021647
         },
         {
          "actual": 4.476308482299479,
          "ppf": 1.0504457018673938
         },
         {
          "actual": 2.40261794727506,
          "ppf": -0.39450519036827214
         },
         {
          "actual": 1.8672132004324435,
          "ppf": -0.7832986825286291
         },
         {
          "actual": 4.572738788716909,
          "ppf": 1.1447363188435842
         },
         {
          "actual": 0.7480891726316874,
          "ppf": -1.5565411336594088
         },
         {
          "actual": 4.312112996191235,
          "ppf": 0.9025806199635601
         },
         {
          "actual": 0.5235543863874436,
          "ppf": -1.6912910742719536
         },
         {
          "actual": 3.93853495393319,
          "ppf": 0.6750712694689647
         },
         {
          "actual": 2.108834074853822,
          "ppf": -0.6224807985555917
         },
         {
          "actual": 4.284026050734948,
          "ppf": 0.8886588115760032
         },
         {
          "actual": 3.607779000158123,
          "ppf": 0.4473316590478253
         },
         {
          "actual": 1.2836797056645544,
          "ppf": -1.1791250327240073
         },
         {
          "actual": 5.837102776377172,
          "ppf": 2.1908245559989297
         },
         {
          "actual": 3.9027647861770336,
          "ppf": 0.657315395754675
         },
         {
          "actual": 3.006829774357507,
          "ppf": 0.005467795789125741
         },
         {
          "actual": 3.8676249661970203,
          "ppf": 0.6238594987417904
         },
         {
          "actual": 5.019349751427631,
          "ppf": 1.5497540377968695
         },
         {
          "actual": 1.8310249833783343,
          "ppf": -0.8059142856099332
         },
         {
          "actual": 2.5009256020104553,
          "ppf": -0.32185519167430743
         },
         {
          "actual": 1.6637755559747442,
          "ppf": -0.9376200618180828
         },
         {
          "actual": 3.0455786299556427,
          "ppf": 0.036011394418060616
         },
         {
          "actual": 2.35972423588957,
          "ppf": -0.41148608600149583
         },
         {
          "actual": 2.605818403777149,
          "ppf": -0.2519774697613944
         },
         {
          "actual": 4.470825915589864,
          "ppf": 1.0435195087288003
         },
         {
          "actual": 4.089537574151406,
          "ppf": 0.7719790652982714
         },
         {
          "actual": 1.9807907491514183,
          "ppf": -0.6895518167074888
         },
         {
          "actual": 4.246099768918515,
          "ppf": 0.8733310579958656
         },
         {
          "actual": 4.9694812217220266,
          "ppf": 1.4873033758711303
         },
         {
          "actual": 2.8008615745994554,
          "ppf": -0.12296045481313805
         },
         {
          "actual": 2.034598051001994,
          "ppf": -0.6646757665914529
         },
         {
          "actual": 3.7900167683572152,
          "ppf": 0.5745867143364646
         },
         {
          "actual": 1.9779197836034235,
          "ppf": -0.6909926311122132
         },
         {
          "actual": 4.826651131878638,
          "ppf": 1.3676975242658598
         },
         {
          "actual": 3.021565399570763,
          "ppf": 0.01981075229396132
         },
         {
          "actual": 2.1178879207608583,
          "ppf": -0.615099449361588
         },
         {
          "actual": 2.2707126615395237,
          "ppf": -0.48772871758573316
         },
         {
          "actual": 3.582760325578497,
          "ppf": 0.4329138475911647
         },
         {
          "actual": 1.355739223772794,
          "ppf": -1.1457725186844259
         },
         {
          "actual": 4.050718364320451,
          "ppf": 0.7388319322447445
         },
         {
          "actual": 3.303133595426553,
          "ppf": 0.22143332338796431
         },
         {
          "actual": 3.11108875987202,
          "ppf": 0.0956673460022729
         },
         {
          "actual": 4.36334048375946,
          "ppf": 0.950121178825973
         },
         {
          "actual": 4.970039184653743,
          "ppf": 1.497677778024822
         },
         {
          "actual": 0.993415400820771,
          "ppf": -1.362085492561217
         },
         {
          "actual": 1.704974373161326,
          "ppf": -0.9053680043459209
         },
         {
          "actual": 2.7090164942726727,
          "ppf": -0.19553896733964002
         },
         {
          "actual": 2.448768372221088,
          "ppf": -0.36221584376398225
         },
         {
          "actual": 5.246199780460217,
          "ppf": 1.7069835356521592
         },
         {
          "actual": 4.994938219805024,
          "ppf": 1.5278868462643937
         },
         {
          "actual": 3.258625847918886,
          "ppf": 0.18647123062725152
         },
         {
          "actual": 2.1420093120039825,
          "ppf": -0.5948636990560022
         },
         {
          "actual": 1.3962970354038955,
          "ppf": -1.1258402322592114
         },
         {
          "actual": 0.34907527979221364,
          "ppf": -1.8036867663360794
         },
         {
          "actual": 2.829776078930752,
          "ppf": -0.10317400065150989
         },
         {
          "actual": 2.3480246078458396,
          "ppf": -0.42322119640027234
         },
         {
          "actual": 3.305109259690013,
          "ppf": 0.22284206733397646
         },
         {
          "actual": 1.5958491770612016,
          "ppf": -0.9759647422835958
         },
         {
          "actual": 2.474592223183557,
          "ppf": -0.33908463275392314
         },
         {
          "actual": 1.5741557798295605,
          "ppf": -0.99951853074851
         },
         {
          "actual": 4.36334048375946,
          "ppf": 0.9510600546732065
         },
         {
          "actual": 3.527270879241999,
          "ppf": 0.37071555256910693
         },
         {
          "actual": 1.2832510457705255,
          "ppf": -1.1800836209519456
         },
         {
          "actual": 2.7840364716965658,
          "ppf": -0.14321776910010678
         },
         {
          "actual": 1.555358965606467,
          "ppf": -1.0107088173093013
         },
         {
          "actual": 3.0634827656973447,
          "ppf": 0.04893064975197419
         },
         {
          "actual": 3.158476865962689,
          "ppf": 0.12711605186111952
         },
         {
          "actual": 2.526910258765316,
          "ppf": -0.29940432984706317
         },
         {
          "actual": 2.8903570426477767,
          "ppf": -0.06449263988346711
         },
         {
          "actual": 4.801684504936242,
          "ppf": 1.3437308131402494
         },
         {
          "actual": 3.2585220978866793,
          "ppf": 0.18227731101496186
         },
         {
          "actual": 2.2392197039928843,
          "ppf": -0.49602401955196435
         },
         {
          "actual": 3.304688453827589,
          "ppf": 0.2215558053778359
         },
         {
          "actual": 4.4102706721743745,
          "ppf": 0.9906946665668318
         },
         {
          "actual": 0.9383243141062194,
          "ppf": -1.4184683654629946
         },
         {
          "actual": 5.390908703056411,
          "ppf": 1.810414821237175
         },
         {
          "actual": 2.9041680960904186,
          "ppf": -0.05018708954529522
         },
         {
          "actual": 1.0751268738497024,
          "ppf": -1.3067753843909704
         },
         {
          "actual": 3.7895897500363667,
          "ppf": 0.5707144881748075
         },
         {
          "actual": 2.4635219210689523,
          "ppf": -0.35247020373662846
         },
         {
          "actual": 2.5146028271476912,
          "ppf": -0.3084160745437602
         },
         {
          "actual": 2.7753734437569673,
          "ppf": -0.1504663578677869
         },
         {
          "actual": 3.6597799620811853,
          "ppf": 0.4778585959826822
         },
         {
          "actual": 2.788620522127883,
          "ppf": -0.13278084859722802
         },
         {
          "actual": 2.8928417975612537,
          "ppf": -0.057009196617878476
         },
         {
          "actual": 4.8417273687469615,
          "ppf": 1.3801360518550274
         },
         {
          "actual": 2.1969738064527533,
          "ppf": -0.5457836322064671
         },
         {
          "actual": 0.24739356931808645,
          "ppf": -1.827920748676863
         },
         {
          "actual": 3.2541992444698713,
          "ppf": 0.17699388193148408
         },
         {
          "actual": 4.40592350457474,
          "ppf": 0.9784692813456475
         },
         {
          "actual": 3.64127204216555,
          "ppf": 0.4645039989591312
         },
         {
          "actual": 0.8712735334390269,
          "ppf": -1.4777985684655772
         },
         {
          "actual": 2.7140451597850013,
          "ppf": -0.19413821854103291
         },
         {
          "actual": 2.165870941762221,
          "ppf": -0.5642563490060295
         },
         {
          "actual": 3.2981893943386837,
          "ppf": 0.21531341728891878
         },
         {
          "actual": 3.4546110113738218,
          "ppf": 0.32065968054255
         },
         {
          "actual": 3.544521881086687,
          "ppf": 0.39624979903580776
         },
         {
          "actual": 2.6733824094705665,
          "ppf": -0.21060659079101987
         },
         {
          "actual": 2.30723759014615,
          "ppf": -0.4518934465224229
         },
         {
          "actual": 1.5409391087503965,
          "ppf": -1.0222286241916925
         },
         {
          "actual": 2.065717963033015,
          "ppf": -0.6461569746904932
         },
         {
          "actual": 1.0219595756782716,
          "ppf": -1.3353764615816586
         },
         {
          "actual": 4.397313163012543,
          "ppf": 0.9763496573473499
         },
         {
          "actual": 4.794853591680055,
          "ppf": 1.3323219167779075
         },
         {
          "actual": 0.8270903669621001,
          "ppf": -1.5112043068001653
         },
         {
          "actual": 4.73368061017524,
          "ppf": 1.2704510762874703
         },
         {
          "actual": 3.8471236954767893,
          "ppf": 0.614016787507486
         },
         {
          "actual": 1.2059321367864924,
          "ppf": -1.215718151969864
         },
         {
          "actual": 3.304688453827589,
          "ppf": 0.22247452638850504
         },
         {
          "actual": 2.401456414107966,
          "ppf": -0.39566812905979876
         },
         {
          "actual": 3.7961778899170113,
          "ppf": 0.5809417541091084
         },
         {
          "actual": 2.640203259734464,
          "ppf": -0.23351407310610248
         },
         {
          "actual": 3.8486860664189266,
          "ppf": 0.6155327159908351
         },
         {
          "actual": 2.30723759014615,
          "ppf": -0.4552712515572058
         },
         {
          "actual": 1.3619792021928252,
          "ppf": -1.1401457838179456
         },
         {
          "actual": 6.828910582476097,
          "ppf": 3.2295943803978195
         },
         {
          "actual": 1.3962970354038955,
          "ppf": -1.1250522215796273
         },
         {
          "actual": 2.695831103667723,
          "ppf": -0.20059705620410836
         },
         {
          "actual": 4.968127170289907,
          "ppf": 1.4774425027552196
         },
         {
          "actual": 3.528244918876405,
          "ppf": 0.372444312611526
         },
         {
          "actual": 3.738187504314396,
          "ppf": 0.5355476758505819
         },
         {
          "actual": 4.867002460365307,
          "ppf": 1.3858895640437634
         },
         {
          "actual": 3.443415024890155,
          "ppf": 0.30954429074114354
         },
         {
          "actual": 1.8127898731713743,
          "ppf": -0.8268452287692796
         },
         {
          "actual": 2.2301074375084875,
          "ppf": -0.5072058453033795
         },
         {
          "actual": 0.992153096484144,
          "ppf": -1.371207909394885
         },
         {
          "actual": 2.9041680960904186,
          "ppf": -0.0508452561699319
         },
         {
          "actual": 0.8270903669612278,
          "ppf": -1.516466687836153
         },
         {
          "actual": 0.6984369963045891,
          "ppf": -1.5990691865984292
         },
         {
          "actual": 3.77677030049528,
          "ppf": 0.5679739073386034
         },
         {
          "actual": 1.5952216724212478,
          "ppf": -0.9785657323498717
         },
         {
          "actual": 3.4784467602383766,
          "ppf": 0.331183508298467
         },
         {
          "actual": 2.7153221790296413,
          "ppf": -0.1923725994332992
         },
         {
          "actual": 2.953083573014556,
          "ppf": -0.01742005620208867
         },
         {
          "actual": 4.671517513892042,
          "ppf": 1.2379126683777997
         },
         {
          "actual": 1.536874811187231,
          "ppf": -1.023741225503144
         },
         {
          "actual": 4.450777896670668,
          "ppf": 1.0319500846762282
         },
         {
          "actual": 3.733756035815403,
          "ppf": 0.5314139564674141
         },
         {
          "actual": 0,
          "ppf": -2.176559715676243
         },
         {
          "actual": 3.0051117098719904,
          "ppf": 0.0008664770908563752
         },
         {
          "actual": 2.6222159713964617,
          "ppf": -0.2437202444623855
         },
         {
          "actual": 4.656319644413752,
          "ppf": 1.2223764292243298
         },
         {
          "actual": 4.2273425721519144,
          "ppf": 0.8574287918712025
         },
         {
          "actual": 2.602207205865219,
          "ppf": -0.2624160612598036
         },
         {
          "actual": 2.236960958605782,
          "ppf": -0.49839069790322116
         },
         {
          "actual": 4.135282311754663,
          "ppf": 0.8076518833860759
         },
         {
          "actual": 3.425761834092787,
          "ppf": 0.294970018402737
         },
         {
          "actual": 2.5071333778288167,
          "ppf": -0.31268029801498587
         },
         {
          "actual": 2.8903570426477767,
          "ppf": -0.06395371629622054
         },
         {
          "actual": 3.5404671162817754,
          "ppf": 0.39579737747899074
         },
         {
          "actual": 3.900307914154761,
          "ppf": 0.652576082723751
         },
         {
          "actual": 1.7938601800168539,
          "ppf": -0.8489157124668902
         },
         {
          "actual": 2.574710188774269,
          "ppf": -0.2762341536114912
         },
         {
          "actual": 3.274789773553707,
          "ppf": 0.1994996898358848
         },
         {
          "actual": 2.829776078930752,
          "ppf": -0.10335423013088085
         },
         {
          "actual": 4.505955783948526,
          "ppf": 1.0611928153575434
         },
         {
          "actual": 2.487265415148762,
          "ppf": -0.33099413710230374
         },
         {
          "actual": 2.454857498302297,
          "ppf": -0.357434327981293
         },
         {
          "actual": 2.0513233432871747,
          "ppf": -0.6557586858561434
         },
         {
          "actual": 1.4263155704499877,
          "ppf": -1.1003047330374007
         },
         {
          "actual": 3.8902318811007324,
          "ppf": 0.6444644203189116
         },
         {
          "actual": 4.670029201604414,
          "ppf": 1.229725500727013
         },
         {
          "actual": 2.476600545459298,
          "ppf": -0.3366172323861231
         },
         {
          "actual": 5.5384075878215215,
          "ppf": 1.9935508738319139
         },
         {
          "actual": 3.158476865962689,
          "ppf": 0.12753775564013312
         },
         {
          "actual": 1.2540393547522357,
          "ppf": -1.1952047157965027
         },
         {
          "actual": 2.316706368612508,
          "ppf": -0.44422968176114647
         },
         {
          "actual": 3.4839585779420275,
          "ppf": 0.3330778748885377
         },
         {
          "actual": 0.39957116086090794,
          "ppf": -1.7700677467161672
         },
         {
          "actual": 3.7961433215324782,
          "ppf": 0.5793154654743128
         },
         {
          "actual": 1.6519143735586215,
          "ppf": -0.9475903871792755
         },
         {
          "actual": 0,
          "ppf": -1.9149521564016356
         },
         {
          "actual": 5.1726213166263495,
          "ppf": 1.647018713993192
         },
         {
          "actual": 1.9465533958732406,
          "ppf": -0.7060939924095766
         },
         {
          "actual": 3.842292950701729,
          "ppf": 0.6102691141958363
         },
         {
          "actual": 1.8730561185312646,
          "ppf": -0.7732677135700173
         },
         {
          "actual": 5.329170800837406,
          "ppf": 1.747618020158468
         },
         {
          "actual": 3.3620052696846066,
          "ppf": 0.25314964924813826
         },
         {
          "actual": 3.5297202602521156,
          "ppf": 0.3768673308137543
         },
         {
          "actual": 4.579558077398324,
          "ppf": 1.1590057078665514
         },
         {
          "actual": 2.4059552946241167,
          "ppf": -0.39360105130018097
         },
         {
          "actual": 2.912057338126168,
          "ppf": -0.045939433626786555
         },
         {
          "actual": 0.8712735334396325,
          "ppf": -1.473538083224235
         },
         {
          "actual": 1.4566673005700987,
          "ppf": -1.0822042073143767
         },
         {
          "actual": 1.2023921056472973,
          "ppf": -1.2238915066908702
         },
         {
          "actual": 3.0229862595660797,
          "ppf": 0.021842932463407808
         },
         {
          "actual": 6.014894401969654,
          "ppf": 2.396672865787533
         },
         {
          "actual": 5.2104916739440545,
          "ppf": 1.6760043773124833
         },
         {
          "actual": 5.126111436885221,
          "ppf": 1.630315742941027
         },
         {
          "actual": 3.305109259690013,
          "ppf": 0.22320963838483576
         },
         {
          "actual": 3.430886416750674,
          "ppf": 0.3005919721627163
         },
         {
          "actual": 5.107735808886398,
          "ppf": 1.6222434405460524
         },
         {
          "actual": 0,
          "ppf": -2.6659831736226685
         },
         {
          "actual": 4.56572532735102,
          "ppf": 1.1404892405689941
         },
         {
          "actual": 0,
          "ppf": -2.106746249542467
         },
         {
          "actual": 2.1488600886352995,
          "ppf": -0.5917284092252442
         },
         {
          "actual": 2.3597464776085872,
          "ppf": -0.40940580993871867
         },
         {
          "actual": 4.645197380835424,
          "ppf": 1.2122222280461274
         },
         {
          "actual": 3.2800039463357518,
          "ppf": 0.20315851981396862
         },
         {
          "actual": 3.318228793538564,
          "ppf": 0.23032200592721894
         },
         {
          "actual": 2.7384748545808777,
          "ppf": -0.17924024518540105
         },
         {
          "actual": 2.419945471674816,
          "ppf": -0.3751998251757038
         },
         {
          "actual": 2.829776078930752,
          "ppf": -0.10287362563028185
         },
         {
          "actual": 0.6534966425812999,
          "ppf": -1.6046739810886228
         },
         {
          "actual": 2.6048498062257237,
          "ppf": -0.2582125433340638
         },
         {
          "actual": 4.327175087064787,
          "ppf": 0.9205067035348673
         },
         {
          "actual": 0.5659482894792129,
          "ppf": -1.6599135629285393
         },
         {
          "actual": 4.4070665673986475,
          "ppf": 0.9848546967750477
         },
         {
          "actual": 3.738187504314396,
          "ppf": 0.5358925649226871
         },
         {
          "actual": 2.6955666097985014,
          "ppf": -0.20248753213389567
         },
         {
          "actual": 2.7195064411967613,
          "ppf": -0.19072928619220447
         },
         {
          "actual": 3.755434949105811,
          "ppf": 0.5446743005887866
         },
         {
          "actual": 0.9502291949472875,
          "ppf": -1.40471245218327
         },
         {
          "actual": 6.077613092909417,
          "ppf": 2.4692172868682456
         },
         {
          "actual": 2.647563414383126,
          "ppf": -0.22529311230111335
         },
         {
          "actual": 3.1158026324035872,
          "ppf": 0.09776864777775768
         },
         {
          "actual": 3.022986259565985,
          "ppf": 0.02112568253540252
         },
         {
          "actual": 2.130536194531685,
          "ppf": -0.5993630766947111
         },
         {
          "actual": 3.006829774357507,
          "ppf": 0.0058263437075669715
         },
         {
          "actual": 2.7090164942726727,
          "ppf": -0.19700102746877388
         },
         {
          "actual": 3.7389022165750316,
          "ppf": 0.5365825343976967
         },
         {
          "actual": 2.419945471674816,
          "ppf": -0.37628999896430265
         },
         {
          "actual": 3.430886416750674,
          "ppf": 0.30121721729901124
         },
         {
          "actual": 3.26278161629733,
          "ppf": 0.18926899572024303
         },
         {
          "actual": 2.278350457465894,
          "ppf": -0.4841646729637922
         },
         {
          "actual": 2.1006601633959288,
          "ppf": -0.6298233523451114
         },
         {
          "actual": 5.381525301069438,
          "ppf": 1.7961390476144925
         },
         {
          "actual": 2.913600218753495,
          "ppf": -0.041752415483736295
         },
         {
          "actual": 3.078187975464346,
          "ppf": 0.06497169879269034
         },
         {
          "actual": 5.052511128201595,
          "ppf": 1.5621848382249346
         },
         {
          "actual": 4.000851871007754,
          "ppf": 0.7188024999707128
         },
         {
          "actual": 2.7344699605874148,
          "ppf": -0.18270263378810409
         },
         {
          "actual": 5.652181322531651,
          "ppf": 2.0287655092035353
         },
         {
          "actual": 1.9855241969124224,
          "ppf": -0.6857670181137444
         },
         {
          "actual": 4.9873809000295415,
          "ppf": 1.5085887360492967
         },
         {
          "actual": 3.0053737564755747,
          "ppf": 0.0027787056229371097
         },
         {
          "actual": 4.43302212365047,
          "ppf": 1.0178050924520976
         },
         {
          "actual": 5.891354103160232,
          "ppf": 2.2431281817420246
         },
         {
          "actual": 4.517962270629839,
          "ppf": 1.080810022642015
         },
         {
          "actual": 1.3066352574770972,
          "ppf": -1.1682964656696018
         },
         {
          "actual": 4.519907578345008,
          "ppf": 1.0859682782429556
         },
         {
          "actual": 3.54984333799135,
          "ppf": 0.40200912998273863
         },
         {
          "actual": 2.78514224456526,
          "ppf": -0.14098432220177468
         },
         {
          "actual": 1.3619792021928252,
          "ppf": -1.1393449073098887
         },
         {
          "actual": 3.5341845101388705,
          "ppf": 0.3879896450931096
         },
         {
          "actual": 2.0236257746270847,
          "ppf": -0.6672118803126494
         },
         {
          "actual": 2.22076672232092,
          "ppf": -0.5203662828929649
         },
         {
          "actual": 0.6437678261187865,
          "ppf": -1.616699258548571
         },
         {
          "actual": 2.22076672232092,
          "ppf": -0.5196821962315147
         },
         {
          "actual": 4.476308482299479,
          "ppf": 1.0506532288079964
         },
         {
          "actual": 1.8330370199147117,
          "ppf": -0.8017869058569196
         },
         {
          "actual": 2.5649492353683594,
          "ppf": -0.27989879344498336
         },
         {
          "actual": 2.519751734628905,
          "ppf": -0.30265572855341555
         },
         {
          "actual": 3.644409866692449,
          "ppf": 0.4674348278407761
         },
         {
          "actual": 2.40261794727506,
          "ppf": -0.3952158116227303
         },
         {
          "actual": 1.48940240914534,
          "ppf": -1.0490978779596172
         },
         {
          "actual": 2.155914046620168,
          "ppf": -0.5766319041458711
         },
         {
          "actual": 5.428888800921548,
          "ppf": 1.8552790199060132
         },
         {
          "actual": 2.304902181563452,
          "ppf": -0.4560004779282591
         },
         {
          "actual": 2.7753734437569673,
          "ppf": -0.15028504835040626
         },
         {
          "actual": 1.0751268738497024,
          "ppf": -1.3073369783960889
         },
         {
          "actual": 1.6423213523493296,
          "ppf": -0.9541643110690132
         },
         {
          "actual": 0,
          "ppf": -2.160252949082471
         },
         {
          "actual": 2.102408735156577,
          "ppf": -0.6248761422878324
         },
         {
          "actual": 3.4784467602383766,
          "ppf": 0.3305523171215629
         },
         {
          "actual": 4.740323394705887,
          "ppf": 1.276906109218769
         },
         {
          "actual": 2.047346274471702,
          "ppf": -0.6593192238876636
         },
         {
          "actual": 7.149142457060044,
          "ppf": 3.4679364219317175
         },
         {
          "actual": 4.37833734981017,
          "ppf": 0.9573722822186239
         },
         {
          "actual": 4.670029201604414,
          "ppf": 1.2285807752109668
         },
         {
          "actual": 2.2207358838848257,
          "ppf": -0.5217351875249227
         },
         {
          "actual": 4.085971027597944,
          "ppf": 0.7649943343644836
         },
         {
          "actual": 2.6429557960529717,
          "ppf": -0.2294016547048938
         },
         {
          "actual": 0.45081653564633617,
          "ppf": -1.7265463316380307
         },
         {
          "actual": 3.70696469447091,
          "ppf": 0.5074097351300264
         },
         {
          "actual": 4.43302212365047,
          "ppf": 1.017504213003905
         },
         {
          "actual": 3.294176826137194,
          "ppf": 0.20822439916903285
         },
         {
          "actual": 3.305109259690013,
          "ppf": 0.22314837445005714
         },
         {
          "actual": 3.54984333799135,
          "ppf": 0.40064899135540694
         },
         {
          "actual": 0.9326933669444654,
          "ppf": -1.4228945394273937
         },
         {
          "actual": 3.334051145992702,
          "ppf": 0.23898296405441222
         },
         {
          "actual": 0,
          "ppf": -2.385214648805475
         },
         {
          "actual": 1.6860575582670392,
          "ppf": -0.9219681980792124
         },
         {
          "actual": 4.286803077273319,
          "ppf": 0.8901675485848914
         },
         {
          "actual": 1.7519302705528699,
          "ppf": -0.8770997684204076
         },
         {
          "actual": 3.2585220978866793,
          "ppf": 0.18282416064786922
         },
         {
          "actual": 1.0751430700725992,
          "ppf": -1.3036939581191824
         },
         {
          "actual": 2.7528414289331566,
          "ppf": -0.1675930064434266
         },
         {
          "actual": 3.087486497943529,
          "ppf": 0.0697631263112457
         },
         {
          "actual": 3.6206047888783006,
          "ppf": 0.45679627427321934
         },
         {
          "actual": 4.250424699132332,
          "ppf": 0.8755206555855808
         },
         {
          "actual": 2.415876751287028,
          "ppf": -0.38567126282202335
         },
         {
          "actual": 2.3676290990870936,
          "ppf": -0.4064185113756036
         },
         {
          "actual": 3.2800039463357518,
          "ppf": 0.20254852724236086
         },
         {
          "actual": 4.994991481955618,
          "ppf": 1.5300022853206459
         },
         {
          "actual": 3.690588852547937,
          "ppf": 0.49812007929630153
         },
         {
          "actual": 2.471504047870768,
          "ppf": -0.34745127430927686
         },
         {
          "actual": 0.3490752797976886,
          "ppf": -1.792552194742934
         },
         {
          "actual": 4.430548760741651,
          "ppf": 1.0120043241858292
         },
         {
          "actual": 1.9779197836034235,
          "ppf": -0.6919792784683763
         },
         {
          "actual": 3.331187494751894,
          "ppf": 0.2354796033537389
         },
         {
          "actual": 2.5534652194137726,
          "ppf": -0.28456267315537176
         },
         {
          "actual": 4.812303970359312,
          "ppf": 1.351434994060724
         },
         {
          "actual": 1.6111207304334623,
          "ppf": -0.9664837408904908
         },
         {
          "actual": 4.7821242517592815,
          "ppf": 1.3265378795105955
         },
         {
          "actual": 4.362337830108205,
          "ppf": 0.9467481376850664
         },
         {
          "actual": 3.956993765835563,
          "ppf": 0.6914479231730808
         },
         {
          "actual": 2.1994201989635385,
          "ppf": -0.5424576448260116
         },
         {
          "actual": 2.887405670872788,
          "ppf": -0.06706775831182028
         },
         {
          "actual": 3.7900167683572152,
          "ppf": 0.5746571980797801
         },
         {
          "actual": 1.3910336509801593,
          "ppf": -1.1293384286953843
         },
         {
          "actual": 4.058889146530598,
          "ppf": 0.7457585417045235
         },
         {
          "actual": 1.3967986403472599,
          "ppf": -1.1221314221608343
         },
         {
          "actual": 3.4763097237303584,
          "ppf": 0.3289749145456561
         },
         {
          "actual": 1.9395130782535082,
          "ppf": -0.7156338524648105
         },
         {
          "actual": 0.5564988179274424,
          "ppf": -1.671397242246876
         },
         {
          "actual": 5.390908703056411,
          "ppf": 1.8101072184291147
         },
         {
          "actual": 2.8127659207328892,
          "ppf": -0.11627978577805576
         },
         {
          "actual": 1.9179178353217308,
          "ppf": -0.7309254995369202
         },
         {
          "actual": 1.8414326573424278,
          "ppf": -0.798083908308717
         },
         {
          "actual": 3.524339661129339,
          "ppf": 0.36502485181547756
         },
         {
          "actual": 3.4221652519395036,
          "ppf": 0.2932228741441589
         },
         {
          "actual": 5.619266510423933,
          "ppf": 2.019036332179441
         },
         {
          "actual": 3.173827247332835,
          "ppf": 0.13404696435464972
         },
         {
          "actual": 4.228431744331461,
          "ppf": 0.8583785254691333
         },
         {
          "actual": 2.734105603223304,
          "ppf": -0.18440425623575332
         },
         {
          "actual": 3.659779962081219,
          "ppf": 0.4791316890792133
         },
         {
          "actual": 3.5920364450048563,
          "ppf": 0.43652618841467555
         },
         {
          "actual": 2.22076672232092,
          "ppf": -0.5186565219198015
         },
         {
          "actual": 3.235040391212128,
          "ppf": 0.169775085027374
         },
         {
          "actual": 0.9094999306915975,
          "ppf": -1.4385259382135969
         },
         {
          "actual": 2.203968427576285,
          "ppf": -0.534927035978299
         },
         {
          "actual": 3.302557547244749,
          "ppf": 0.21812755870663092
         },
         {
          "actual": 1.5159524383384042,
          "ppf": -1.037154494920891
         },
         {
          "actual": 4.73368061017524,
          "ppf": 1.2697817158896405
         },
         {
          "actual": 2.647563414383126,
          "ppf": -0.2249866579538772
         },
         {
          "actual": 3.9464410384504722,
          "ppf": 0.6835763310907356
         },
         {
          "actual": 3.7560207902975207,
          "ppf": 0.5498801177903406
         },
         {
          "actual": 3.9027647861770336,
          "ppf": 0.6579088471387087
         },
         {
          "actual": 3.5159211944193802,
          "ppf": 0.36298165253518805
         },
         {
          "actual": 3.528313924252298,
          "ppf": 0.3744305592009354
         },
         {
          "actual": 0.889898040059108,
          "ppf": -1.4521117110357802
         },
         {
          "actual": 0,
          "ppf": -2.2021609090181355
         },
         {
          "actual": 3.0441101893667972,
          "ppf": 0.031706417743487064
         },
         {
          "actual": 4.73368061017524,
          "ppf": 1.2705850166906067
         },
         {
          "actual": 1.801071207469528,
          "ppf": -0.841314722181427
         },
         {
          "actual": 2.416055066813084,
          "ppf": -0.38470588239558234
         },
         {
          "actual": 2.9583420191668717,
          "ppf": -0.012638949026156893
         },
         {
          "actual": 0.42723807060776664,
          "ppf": -1.7595744506543332
         },
         {
          "actual": 3.5033988220150043,
          "ppf": 0.3513894353014476
         },
         {
          "actual": 0,
          "ppf": -2.2833589927319142
         },
         {
          "actual": 5.67453384343889,
          "ppf": 2.0473606137303326
         },
         {
          "actual": 3.537224774879413,
          "ppf": 0.3917937371224123
         },
         {
          "actual": 3.789589750036424,
          "ppf": 0.5730367931202215
         },
         {
          "actual": 0.5659482894784739,
          "ppf": -1.663002111760545
         },
         {
          "actual": 3.4432416982938943,
          "ppf": 0.30797742987669824
         },
         {
          "actual": 1.751025223392272,
          "ppf": -0.8790327705315069
         },
         {
          "actual": 4.150370088675214,
          "ppf": 0.8135447750123617
         },
         {
          "actual": 1.184689335505295,
          "ppf": -1.2376555622797167
         },
         {
          "actual": 4.001191491400729,
          "ppf": 0.7200410039689504
         },
         {
          "actual": 4.75054667792022,
          "ppf": 1.2957673046558937
         },
         {
          "actual": 4.42228928281052,
          "ppf": 1.005543665076343
         },
         {
          "actual": 3.9829564910215036,
          "ppf": 0.7046379221454311
         },
         {
          "actual": 3.93853495393319,
          "ppf": 0.6728964304031266
         },
         {
          "actual": 2.8008615745994554,
          "ppf": -0.12374322888806377
         },
         {
          "actual": 1.0062879985720736,
          "ppf": -1.3459449798654521
         },
         {
          "actual": 0.42723807060776664,
          "ppf": -1.758171207394524
         },
         {
          "actual": 1.2836797056645544,
          "ppf": -1.178406801971065
         },
         {
          "actual": 3.208997528259093,
          "ppf": 0.1494994307819638
         },
         {
          "actual": 3.525561133234381,
          "ppf": 0.36841226037929137
         },
         {
          "actual": 5.447876032157902,
          "ppf": 1.8901283829223277
         },
         {
          "actual": 3.9027647861770336,
          "ppf": 0.6562774124194607
         },
         {
          "actual": 3.4839585779420275,
          "ppf": 0.33345689146611335
         },
         {
          "actual": 6.014894401969654,
          "ppf": 2.4084546615346962
         },
         {
          "actual": 1.5353861642008235,
          "ppf": -1.0262674461544992
         },
         {
          "actual": 3.2585220978866403,
          "ppf": 0.18130526835499866
         },
         {
          "actual": 0,
          "ppf": -1.903489818110287
         },
         {
          "actual": 5.381525301069438,
          "ppf": 1.787214775736244
         },
         {
          "actual": 4.210926982861497,
          "ppf": 0.8481448474384846
         },
         {
          "actual": 2.2260426482698334,
          "ppf": -0.5149685979515057
         },
         {
          "actual": 1.38908168796827,
          "ppf": -1.1308095347722982
         },
         {
          "actual": 2.476600545459298,
          "ppf": -0.33611135267533104
         },
         {
          "actual": 4.752228253169145,
          "ppf": 1.3016000624091464
         },
         {
          "actual": 1.71191242059977,
          "ppf": -0.8998898119854511
         },
         {
          "actual": 3.1845159174244753,
          "ppf": 0.13893258572270764
         },
         {
          "actual": 4.218391596989024,
          "ppf": 0.8508879968548947
         },
         {
          "actual": 3.15683531513783,
          "ppf": 0.12464652400088498
         },
         {
          "actual": 1.9101199817567573,
          "ppf": -0.7403244412275817
         },
         {
          "actual": 3.3620052696846066,
          "ppf": 0.25271775326456647
         },
         {
          "actual": 1.431622764461341,
          "ppf": -1.095718697570614
         },
         {
          "actual": 3.07251626243113,
          "ppf": 0.05802674802719105
         },
         {
          "actual": 6.444541575917085,
          "ppf": 2.7320763057188993
         },
         {
          "actual": 3.610759175594427,
          "ppf": 0.4478600833050175
         },
         {
          "actual": 0,
          "ppf": -1.9312802925524999
         },
         {
          "actual": 6.095546442255506,
          "ppf": 2.502013646291367
         },
         {
          "actual": 4.553499589835793,
          "ppf": 1.1071172014911372
         },
         {
          "actual": 4.327330844988682,
          "ppf": 0.9226082215303691
         },
         {
          "actual": 5.092174250239069,
          "ppf": 1.598640124281721
         },
         {
          "actual": 3.15683531513783,
          "ppf": 0.12506809648336764
         },
         {
          "actual": 4.915051445670126,
          "ppf": 1.4280110646483188
         },
         {
          "actual": 4.0786800726842225,
          "ppf": 0.7574097048011473
         },
         {
          "actual": 0.7376876885318291,
          "ppf": -1.5812963910654614
         },
         {
          "actual": 4.690582003018363,
          "ppf": 1.2588843953164566
         },
         {
          "actual": 2.0447524024455284,
          "ppf": -0.6605079275283349
         },
         {
          "actual": 4.225727026458801,
          "ppf": 0.8531215290349021
         },
         {
          "actual": 4.297321904593532,
          "ppf": 0.8950627033195901
         },
         {
          "actual": 5.070754347814792,
          "ppf": 1.5713607105525864
         },
         {
          "actual": 1.9395130782535082,
          "ppf": -0.7162515601994761
         },
         {
          "actual": 3.730585057156037,
          "ppf": 0.5255047319901223
         },
         {
          "actual": 6.077613092909417,
          "ppf": 2.460492392532463
         },
         {
          "actual": 2.829214093993524,
          "ppf": -0.10635855365353294
         },
         {
          "actual": 5.981868699047676,
          "ppf": 2.327664764049603
         },
         {
          "actual": 1.5536456078991159,
          "ppf": -1.0122037837209086
         },
         {
          "actual": 0,
          "ppf": -2.222178467341943
         },
         {
          "actual": 3.7571313435960074,
          "ppf": 0.5537768608375349
         },
         {
          "actual": 3.102917793916619,
          "ppf": 0.09170603273056102
         },
         {
          "actual": 4.755350035533697,
          "ppf": 1.3056534311172499
         },
         {
          "actual": 1.5612243961387096,
          "ppf": -1.0031687749989429
         },
         {
          "actual": 3.2111039581335463,
          "ppf": 0.15119164546399194
         },
         {
          "actual": 3.2041743126448132,
          "ppf": 0.14605588226420313
         },
         {
          "actual": 1.190843714105826,
          "ppf": -1.2324028129232554
         },
         {
          "actual": 4.175367276922587,
          "ppf": 0.8218928820069347
         },
         {
          "actual": 1.6074482698219654,
          "ppf": -0.9705910336317477
         },
         {
          "actual": 0.3490752797976886,
          "ppf": -1.79225432937044
         },
         {
          "actual": 3.8683782494232135,
          "ppf": 0.6277844055644313
         },
         {
          "actual": 0.5718189973096292,
          "ppf": -1.6502750624689464
         },
         {
          "actual": 3.0154021259550787,
          "ppf": 0.010726593168593238
         },
         {
          "actual": 1.019187780240563,
          "ppf": -1.3431414800247023
         },
         {
          "actual": 3.9092339997398864,
          "ppf": 0.6615488093127206
         },
         {
          "actual": 3.4874530275005498,
          "ppf": 0.34237771704891595
         },
         {
          "actual": 3.5147130874097336,
          "ppf": 0.3605573192089525
         },
         {
          "actual": 3.2968617848490194,
          "ppf": 0.21335676022650232
         },
         {
          "actual": 2.988060761712298,
          "ppf": -0.005408037872303238
         },
         {
          "actual": 3.8998693433027736,
          "ppf": 0.6495476516714959
         },
         {
          "actual": 3.1351054171310686,
          "ppf": 0.10954418564603903
         },
         {
          "actual": 4.43302212365047,
          "ppf": 1.0155006992696336
         },
         {
          "actual": 0.6534966425812999,
          "ppf": -1.6066258977778258
         },
         {
          "actual": 3.537224774879413,
          "ppf": 0.39250360046431887
         },
         {
          "actual": 3.290714870817635,
          "ppf": 0.20620962163451464
         },
         {
          "actual": 3.2585220978866403,
          "ppf": 0.18112302945395214
         },
         {
          "actual": 2.044666849170354,
          "ppf": -0.6625159845748596
         },
         {
          "actual": 3.971436159183594,
          "ppf": 0.6993625939718596
         },
         {
          "actual": 4.429016201974994,
          "ppf": 1.0105096590877019
         },
         {
          "actual": 2.8890420708285225,
          "ppf": -0.0661095236674997
         },
         {
          "actual": 5.730464222644987,
          "ppf": 2.0774294798001836
         },
         {
          "actual": 3.0274173993888276,
          "ppf": 0.02441317292863968
         },
         {
          "actual": 2.3263654928608792,
          "ppf": -0.44310874336551226
         },
         {
          "actual": 4.572738788716909,
          "ppf": 1.1455421457529882
         },
         {
          "actual": 0.4620096778323629,
          "ppf": -1.7238996323776712
         },
         {
          "actual": 3.2624238994689154,
          "ppf": 0.18701850392485977
         },
         {
          "actual": 1.3967986403472599,
          "ppf": -1.1224679488550726
         },
         {
          "actual": 0.45081653564633617,
          "ppf": -1.7302721519673558
         },
         {
          "actual": 3.2460709022951275,
          "ppf": 0.17292840686148492
         },
         {
          "actual": 2.594269497181978,
          "ppf": -0.26767699630642267
         },
         {
          "actual": 2.594269497181978,
          "ppf": -0.26730539477059173
         },
         {
          "actual": 3.8443965505447872,
          "ppf": 0.6110611749860089
         },
         {
          "actual": 0,
          "ppf": -2.052244585991248
         },
         {
          "actual": 3.896359363320664,
          "ppf": 0.6464515208852701
         },
         {
          "actual": 0.4468581540284611,
          "ppf": -1.7313410964190628
         },
         {
          "actual": 2.6733824094705665,
          "ppf": -0.21017893031145843
         },
         {
          "actual": 3.748876649053233,
          "ppf": 0.544258474052469
         },
         {
          "actual": 1.8746408165910016,
          "ppf": -0.7692449341821913
         },
         {
          "actual": 1.8045094508157014,
          "ppf": -0.834946935967074
         },
         {
          "actual": 3.72702186783861,
          "ppf": 0.5185881630405891
         },
         {
          "actual": 1.6788902946940731,
          "ppf": -0.9279258868504001
         },
         {
          "actual": 4.450777896670668,
          "ppf": 1.0309328859771687
         },
         {
          "actual": 1.6826928999113193,
          "ppf": -0.9235231968990665
         },
         {
          "actual": 1.9349474337953714,
          "ppf": -0.7220559324117918
         },
         {
          "actual": 3.6193174033119724,
          "ppf": 0.45606678325465755
         },
         {
          "actual": 0.4172727028361455,
          "ppf": -1.766643170467984
         },
         {
          "actual": 0,
          "ppf": -2.001459141167008
         },
         {
          "actual": 1.536874811187231,
          "ppf": -1.0242459467243636
         },
         {
          "actual": 1.5134072174173336,
          "ppf": -1.0408451753477816
         },
         {
          "actual": 3.414342888510374,
          "ppf": 0.28960662838589907
         },
         {
          "actual": 4.560414197028577,
          "ppf": 1.1276440298537587
         },
         {
          "actual": 4.560414197028577,
          "ppf": 1.1261781652219616
         },
         {
          "actual": 2.8214502094509792,
          "ppf": -0.11158838206829837
         },
         {
          "actual": 2.30723759014615,
          "ppf": -0.45500613836510145
         },
         {
          "actual": 4.408395140813608,
          "ppf": 0.987965154210698
         },
         {
          "actual": 1.2540393547522357,
          "ppf": -1.1954488790690663
         },
         {
          "actual": 0.3833048062090181,
          "ppf": -1.772075042327541
         },
         {
          "actual": 5.242998645989155,
          "ppf": 1.7036583024309084
         },
         {
          "actual": 5.181225875072108,
          "ppf": 1.6516760131413324
         },
         {
          "actual": 3.8735960624957424,
          "ppf": 0.6306979883635057
         },
         {
          "actual": 4.55552991746641,
          "ppf": 1.1101000387085174
         },
         {
          "actual": 4.271224654245525,
          "ppf": 0.8854704967942312
         },
         {
          "actual": 3.485940568307048,
          "ppf": 0.33687020454152855
         },
         {
          "actual": 4.056276299853509,
          "ppf": 0.7420546725392555
         },
         {
          "actual": 2.904116977759645,
          "ppf": -0.05120426541241276
         },
         {
          "actual": 2.11466847256718,
          "ppf": -0.6171946433633987
         },
         {
          "actual": 4.7669860229180525,
          "ppf": 1.3166634430506585
         },
         {
          "actual": 1.676006976120986,
          "ppf": -0.9307788746362573
         },
         {
          "actual": 2.140855140222398,
          "ppf": -0.5964335375977527
         },
         {
          "actual": 2.4000106995462422,
          "ppf": -0.39702556764553715
         },
         {
          "actual": 1.6981558259917524,
          "ppf": -0.9096978885098372
         },
         {
          "actual": 2.1287860714998046,
          "ppf": -0.6037312087504433
         },
         {
          "actual": 3.01076909867046,
          "ppf": 0.008933795311021495
         },
         {
          "actual": 4.327330844988682,
          "ppf": 0.922151023376855
         },
         {
          "actual": 1.207959192727045,
          "ppf": -1.2140931990843002
         },
         {
          "actual": 1.826475985348099,
          "ppf": -0.8127130837224531
         },
         {
          "actual": 0.9871070865514906,
          "ppf": -1.3765824472522086
         },
         {
          "actual": 2.1533130210266465,
          "ppf": -0.5835611876951158
         },
         {
          "actual": 3.537224774879341,
          "ppf": 0.39153565395794593
         },
         {
          "actual": 2.101329975515347,
          "ppf": -0.6260388120746221
         },
         {
          "actual": 0.6509655025016476,
          "ppf": -1.6151557587071186
         },
         {
          "actual": 5.520998023308777,
          "ppf": 1.9789445302289443
         },
         {
          "actual": 2.5445169643633925,
          "ppf": -0.29222490805799967
         },
         {
          "actual": 1.110654841149979,
          "ppf": -1.2927295661785632
         },
         {
          "actual": 2.946731452659591,
          "ppf": -0.01963144632930181
         },
         {
          "actual": 2.829776078930752,
          "ppf": -0.10485627358857649
         },
         {
          "actual": 3.223811059770667,
          "ppf": 0.16117258838400902
         },
         {
          "actual": 2.730322209352097,
          "ppf": -0.18768746960404942
         },
         {
          "actual": 5.47690979435395,
          "ppf": 1.9359302145148263
         },
         {
          "actual": 3.2800039463357518,
          "ppf": 0.20303651525928526
         },
         {
          "actual": 4.610246822043704,
          "ppf": 1.1891236396006892
         },
         {
          "actual": 2.258027515736348,
          "ppf": -0.4925803936471037
         },
         {
          "actual": 4.327175087064787,
          "ppf": 0.9208718927618624
         },
         {
          "actual": 3.303133595426553,
          "ppf": 0.2210046625694834
         },
         {
          "actual": 1.5979080232770713,
          "ppf": -0.9718360003851823
         },
         {
          "actual": 4.559586339382318,
          "ppf": 1.122131422160835
         },
         {
          "actual": 2.047346274471702,
          "ppf": -0.6589479450544552
         },
         {
          "actual": 3.221040396403972,
          "ppf": 0.1571178405334565
         },
         {
          "actual": 7.149142457060044,
          "ppf": 3.365927547645291
         },
         {
          "actual": 3.707966110755295,
          "ppf": 0.5076816210500439
         },
         {
          "actual": 1.8646898377910466,
          "ppf": -0.7844361599633083
         },
         {
          "actual": 2.5930801180360876,
          "ppf": -0.27046519019209175
         },
         {
          "actual": 4.925088593697094,
          "ppf": 1.4370140680805465
         },
         {
          "actual": 3.4071665065634305,
          "ppf": 0.27933953879002055
         },
         {
          "actual": 5.534298021617046,
          "ppf": 1.9861947350243008
         },
         {
          "actual": 1.810844299755223,
          "ppf": -0.83232478939615
         },
         {
          "actual": 1.2700208467523193,
          "ppf": -1.1880337070602605
         },
         {
          "actual": 1.7872261324363676,
          "ppf": -0.8577740600209801
         },
         {
          "actual": 1.4677539669554396,
          "ppf": -1.0705788583256342
         },
         {
          "actual": 2.416055066813084,
          "ppf": -0.38341926579920227
         },
         {
          "actual": 3.216783896871297,
          "ppf": 0.15506119909583266
         },
         {
          "actual": 0.9931960440732351,
          "ppf": -1.3673930690073974
         },
         {
          "actual": 4.814147895011674,
          "ppf": 1.3592202345223787
         },
         {
          "actual": 1.1527390269350632,
          "ppf": -1.2591484074926167
         },
         {
          "actual": 2.278350457465894,
          "ppf": -0.48450064027686385
         },
         {
          "actual": 4.878599986104076,
          "ppf": 1.3989657528464514
         },
         {
          "actual": 1.9077248171335082,
          "ppf": -0.7456007220217173
         },
         {
          "actual": 1.9225898670006012,
          "ppf": -0.7272618189673309
         },
         {
          "actual": 1.908443616875358,
          "ppf": -0.7430781267861747
         },
         {
          "actual": 4.47499019448454,
          "ppf": 1.0476485034205918
         },
         {
          "actual": 3.93853495393319,
          "ppf": 0.6758970438640176
         },
         {
          "actual": 4.1128864017367786,
          "ppf": 0.7966878439466505
         },
         {
          "actual": 2.913600218753495,
          "ppf": -0.04133375513575197
         },
         {
          "actual": 2.730322209352097,
          "ppf": -0.18744419965451048
         },
         {
          "actual": 2.8181857196267095,
          "ppf": -0.11297148476017631
         },
         {
          "actual": 4.395893626640973,
          "ppf": 0.9723152350158034
         },
         {
          "actual": 1.2023921056472973,
          "ppf": -1.2223764292243298
         },
         {
          "actual": 5.4370193069325214,
          "ppf": 1.8798869327985321
         },
         {
          "actual": 3.490933426259658,
          "ppf": 0.3444694841749116
         },
         {
          "actual": 0.3490752797976886,
          "ppf": -1.7967391082582578
         },
         {
          "actual": 4.538000120394092,
          "ppf": 1.0991013939196803
         },
         {
          "actual": 3.732252271108892,
          "ppf": 0.5303131661024442
         },
         {
          "actual": 2.598058956134091,
          "ppf": -0.263343929811672
         },
         {
          "actual": 4.553499589835793,
          "ppf": 1.105134103394095
         },
         {
          "actual": 1.1763336655265293,
          "ppf": -1.2528361714148226
         },
         {
          "actual": 4.826651131878638,
          "ppf": 1.3704433450126439
         },
         {
          "actual": 1.7745163997341091,
          "ppf": -0.867831747953068
         },
         {
          "actual": 3.806111144019032,
          "ppf": 0.584624260943253
         },
         {
          "actual": 3.730585057156037,
          "ppf": 0.5234476946253653
         },
         {
          "actual": 0.43263836373734477,
          "ppf": -1.751206402181134
         },
         {
          "actual": 3.9829564910215036,
          "ppf": 0.7027243129768108
         },
         {
          "actual": 1.5306353641187458,
          "ppf": -1.031034557841676
         },
         {
          "actual": 3.4755091208110067,
          "ppf": 0.32777663600906964
         },
         {
          "actual": 3.8486860664189266,
          "ppf": 0.6148828593442742
         },
         {
          "actual": 3.227345827136894,
          "ppf": 0.16329179017025952
         },
         {
          "actual": 1.2666002397609872,
          "ppf": -1.1920370550328063
         },
         {
          "actual": 2.8995090341819973,
          "ppf": -0.05383720451659814
         },
         {
          "actual": 4.081919214381382,
          "ppf": 0.7601989522282188
         },
         {
          "actual": 2.7840364716965658,
          "ppf": -0.14297628113490063
         },
         {
          "actual": 1.0246327773219548,
          "ppf": -1.3287016857363452
         },
         {
          "actual": 0,
          "ppf": -3.802855762705091
         },
         {
          "actual": 1.0495812140682663,
          "ppf": -1.322945275971971
         },
         {
          "actual": 3.4755091208110067,
          "ppf": 0.32689399508928224
         },
         {
          "actual": 4.963672378006884,
          "ppf": 1.4668465146826724
         },
         {
          "actual": 2.4072718766665044,
          "ppf": -0.391148578097385
         },
         {
          "actual": 1.4542054976681449,
          "ppf": -1.0843532237044367
         },
         {
          "actual": 4.234478369225109,
          "ppf": 0.866004469652125
         },
         {
          "actual": 1.7764968515019715,
          "ppf": -0.8620985753013317
         },
         {
          "actual": 5.019349751427631,
          "ppf": 1.5503500313310836
         },
         {
          "actual": 3.5404671162817754,
          "ppf": 0.3953450369215646
         },
         {
          "actual": 0.6509655025016476,
          "ppf": -1.6138358147330332
         },
         {
          "actual": 1.355739223772794,
          "ppf": -1.147040658229558
         },
         {
          "actual": 2.140855140222398,
          "ppf": -0.5962193822214988
         },
         {
          "actual": 3.7060873429171104,
          "ppf": 0.5034037579209174
         },
         {
          "actual": 3.79010595867689,
          "ppf": 0.575362192633294
         },
         {
          "actual": 1.2164277292784753,
          "ppf": -1.210106911050866
         },
         {
          "actual": 4.226442879907642,
          "ppf": 0.8557901618768203
         },
         {
          "actual": 3.736856749879319,
          "ppf": 0.5330663507541847
         },
         {
          "actual": 3.094552038655323,
          "ppf": 0.07557489175362067
         },
         {
          "actual": 3.660508317345615,
          "ppf": 0.48194865648406504
         },
         {
          "actual": 0.5235543863874436,
          "ppf": -1.6907917555614567
         },
         {
          "actual": 2.877683119205053,
          "ppf": -0.07743278908789424
         },
         {
          "actual": 2.1994201989635385,
          "ppf": -0.5411427661787048
         },
         {
          "actual": 1.751025223392272,
          "ppf": -0.8792966162318575
         },
         {
          "actual": 4.99316163800844,
          "ppf": 1.517221893055844
         },
         {
          "actual": 4.939078019318847,
          "ppf": 1.4558951614516729
         },
         {
          "actual": 1.5536456078991159,
          "ppf": -1.0125030485518836
         },
         {
          "actual": 2.4790245918938285,
          "ppf": -0.33453103215912494
         },
         {
          "actual": 2.2885704922301695,
          "ppf": -0.4757831044241336
         },
         {
          "actual": 3.0596508753302882,
          "ppf": 0.047255516499712075
         },
         {
          "actual": 2.3433010962707073,
          "ppf": -0.4289795426510723
         },
         {
          "actual": 3.4345889062707124,
          "ppf": 0.30303109526142175
         },
         {
          "actual": 3.486612502611351,
          "ppf": 0.3381986625351939
         },
         {
          "actual": 1.9386263985299184,
          "ppf": -0.7181063258138951
         },
         {
          "actual": 5.00419917907908,
          "ppf": 1.5350298185844549
         },
         {
          "actual": 4.233523804885637,
          "ppf": 0.8630521333463969
         },
         {
          "actual": 3.334051145992702,
          "ppf": 0.23935190880352844
         },
         {
          "actual": 4.026482643713817,
          "ppf": 0.7312377549333912
         },
         {
          "actual": 3.1205563833853276,
          "ppf": 0.10635855365353294
         },
         {
          "actual": 1.6637755559744556,
          "ppf": -0.9396624050119181
         },
         {
          "actual": 1.9032762816303772,
          "ppf": -0.7519280817772149
         },
         {
          "actual": 2.965006840255633,
          "ppf": -0.009889950228544662
         },
         {
          "actual": 0,
          "ppf": -1.9473436290831079
         },
         {
          "actual": 2.860194103043045,
          "ppf": -0.08900596593738236
         },
         {
          "actual": 3.3346925713528215,
          "ppf": 0.24107408269786468
         },
         {
          "actual": 2.015624936971306,
          "ppf": -0.6788285127485285
         },
         {
          "actual": 1.957135132640716,
          "ppf": -0.6995915507565729
         },
         {
          "actual": 3.412199584636813,
          "ppf": 0.28879661152243336
         },
         {
          "actual": 2.7914259024415524,
          "ppf": -0.1321177301726782
         },
         {
          "actual": 3.1467391893829477,
          "ppf": 0.11537739716566624
         },
         {
          "actual": 3.644409866692449,
          "ppf": 0.46630198749707263
         },
         {
          "actual": 1.6999740168345643,
          "ppf": -0.907079883239869
         },
         {
          "actual": 2.0236257746270847,
          "ppf": -0.6684068311443986
         },
         {
          "actual": 3.4024703360852064,
          "ppf": 0.274186059536978
         },
         {
          "actual": 3.222372115771981,
          "ppf": 0.15887255967931385
         },
         {
          "actual": 2.8995090341819973,
          "ppf": -0.05413642541755108
         },
         {
          "actual": 1.2908651287569861,
          "ppf": -1.1757784750324594
         },
         {
          "actual": 6.472675765582876,
          "ppf": 2.8005426892477523
         },
         {
          "actual": 3.37288826903426,
          "ppf": 0.2608701151573307
         },
         {
          "actual": 1.8730561185312646,
          "ppf": -0.7741544045936187
         },
         {
          "actual": 2.2392197039928843,
          "ppf": -0.49703796931861666
         },
         {
          "actual": 4.3700670581816015,
          "ppf": 0.9516237827992164
         },
         {
          "actual": 4.165793877049573,
          "ppf": 0.8191316982341925
         },
         {
          "actual": 3.63119088761629,
          "ppf": 0.45971667554771384
         },
         {
          "actual": 2.471504047870768,
          "ppf": -0.34783215026635406
         },
         {
          "actual": 2.473862036082046,
          "ppf": -0.3412373848491664
         },
         {
          "actual": 5.929283089815278,
          "ppf": 2.282549646344239
         },
         {
          "actual": 3.970234622434651,
          "ppf": 0.6973036295664973
         },
         {
          "actual": 2.0742195341182033,
          "ppf": -0.6445379712268405
         },
         {
          "actual": 3.2296067072132923,
          "ppf": 0.1655934687643116
         },
         {
          "actual": 1.5413307380312489,
          "ppf": -1.0181060640688275
         },
         {
          "actual": 2.3315879372135466,
          "ppf": -0.43225766622623973
         },
         {
          "actual": 3.571429648206034,
          "ppf": 0.421718492186096
         },
         {
          "actual": 1.9077248171334509,
          "ppf": -0.7505810052779626
         },
         {
          "actual": 4.889752381169043,
          "ppf": 1.4096984392386627
         },
         {
          "actual": 2.0128259446992067,
          "ppf": -0.6814642933944094
         },
         {
          "actual": 4.2035996764120585,
          "ppf": 0.8440420465366538
         },
         {
          "actual": 2.4000106995462422,
          "ppf": -0.3979309331492575
         },
         {
          "actual": 5.332058855009668,
          "ppf": 1.7567714176181615
         },
         {
          "actual": 3.2800039463357518,
          "ppf": 0.2026095231043974
         },
         {
          "actual": 2.208067914949105,
          "ppf": -0.5324465325615182
         },
         {
          "actual": 3.480730914356997,
          "ppf": 0.33175169318488756
         },
         {
          "actual": 0,
          "ppf": -2.23289212796282
         },
         {
          "actual": 3.486612502611351,
          "ppf": 0.33737621355165964
         },
         {
          "actual": 4.8417273687469615,
          "ppf": 1.378588867062251
         },
         {
          "actual": 1.092490731433998,
          "ppf": -1.3007640999148862
         },
         {
          "actual": 1.8730561185312646,
          "ppf": -0.7738319011033477
         },
         {
          "actual": 3.900307914154761,
          "ppf": 0.6522064418248711
         },
         {
          "actual": 2.220735883884762,
          "ppf": -0.5226940026665243
         },
         {
          "actual": 5.056104848188094,
          "ppf": 1.5634006981881958
         },
         {
          "actual": 3.900307914154761,
          "ppf": 0.6511719209813476
         },
         {
          "actual": 4.814147895011674,
          "ppf": 1.3608777062621478
         },
         {
          "actual": 2.662388424928325,
          "ppf": -0.2167202734610742
         },
         {
          "actual": 3.4345889062707124,
          "ppf": 0.30234295553782886
         },
         {
          "actual": 2.4000106995462422,
          "ppf": -0.3967023017136671
         },
         {
          "actual": 0.7480891726316874,
          "ppf": -1.553737776053575
         },
         {
          "actual": 1.184689335505295,
          "ppf": -1.2397147069247914
         },
         {
          "actual": 3.070717625483047,
          "ppf": 0.05353798843578203
         },
         {
          "actual": 1.5344471102121473,
          "ppf": -1.0303230784472461
         },
         {
          "actual": 2.01603271386908,
          "ppf": -0.6772493062704374
         },
         {
          "actual": 3.524339661129339,
          "ppf": 0.36476936872903953
         },
         {
          "actual": 3.0482275529129854,
          "ppf": 0.040436650119649205
         },
         {
          "actual": 4.233510743347458,
          "ppf": 0.8616653988777344
         },
         {
          "actual": 2.0972815221810976,
          "ppf": -0.6305521822024287
         },
         {
          "actual": 2.2181069593310436,
          "ppf": -0.5285944660842442
         },
         {
          "actual": 1.184689335505295,
          "ppf": -1.2403592686978264
         },
         {
          "actual": 0.7969538952177249,
          "ppf": -1.5290398738121622
         },
         {
          "actual": 1.8310249833783343,
          "ppf": -0.806245068910959
         },
         {
          "actual": 1.559530816990154,
          "ppf": -1.0074278161616375
         },
         {
          "actual": 2.299095393719998,
          "ppf": -0.461577154639047
         },
         {
          "actual": 3.4474810437879064,
          "ppf": 0.31462616599211335
         },
         {
          "actual": 1.5134072174173336,
          "ppf": -1.0404343998464298
         },
         {
          "actual": 4.450777896670668,
          "ppf": 1.0336817773008513
         },
         {
          "actual": 3.940476956967108,
          "ppf": 0.6795058338817057
         },
         {
          "actual": 2.4262023234369137,
          "ppf": -0.3714197281875188
         },
         {
          "actual": 2.788620522127883,
          "ppf": -0.13428815356387408
         },
         {
          "actual": 5.126111436885221,
          "ppf": 1.6318977529625736
         },
         {
          "actual": 0.5712576204411784,
          "ppf": -1.6556630778353312
         },
         {
          "actual": 2.1290014557445143,
          "ppf": -0.6020828594710116
         },
         {
          "actual": 2.195971558311298,
          "ppf": -0.547101836566883
         },
         {
          "actual": 4.264808655250868,
          "ppf": 0.8811452530885135
         },
         {
          "actual": 2.165870941762221,
          "ppf": -0.5653778069116306
         },
         {
          "actual": 3.031100163120993,
          "ppf": 0.026684681920981248
         },
         {
          "actual": 2.058870609422847,
          "ppf": -0.6511719209813477
         },
         {
          "actual": 2.4738620360821133,
          "ppf": -0.34022412865375246
         },
         {
          "actual": 3.6627368099346858,
          "ppf": 0.48995097055255704
         },
         {
          "actual": 2.3925654351041876,
          "ppf": -0.3981249824614115
         },
         {
          "actual": 4.9779705328422175,
          "ppf": 1.5037584467362641
         },
         {
          "actual": 3.3734558660580816,
          "ppf": 0.2630346151416689
         },
         {
          "actual": 3.2056857654214976,
          "ppf": 0.1491972947725099
         },
         {
          "actual": 2.3306776778402027,
          "ppf": -0.43606612045411464
         },
         {
          "actual": 0,
          "ppf": -2.1269633415485854
         },
         {
          "actual": 2.3462294196681364,
          "ppf": -0.4265566975497548
         },
         {
          "actual": 5.126111436885221,
          "ppf": 1.6305414946206558
         },
         {
          "actual": 4.775626231051861,
          "ppf": 1.3242366446630724
         },
         {
          "actual": 3.6604843397165356,
          "ppf": 0.4810763303002255
         },
         {
          "actual": 4.42228928281052,
          "ppf": 1.0073285611609533
         },
         {
          "actual": 1.6860575582670392,
          "ppf": -0.9202328921570848
         },
         {
          "actual": 3.5298006968193123,
          "ppf": 0.37917791710435644
         },
         {
          "actual": 2.2012517008667523,
          "ppf": -0.5372727594116887
         },
         {
          "actual": 2.8181857196267095,
          "ppf": -0.11369318918852167
         },
         {
          "actual": 1.922346261243514,
          "ppf": -0.7289755151087101
         },
         {
          "actual": 0,
          "ppf": -2.1139475057476256
         },
         {
          "actual": 2.3597464776085872,
          "ppf": -0.40862616344396313
         },
         {
          "actual": 3.417851991728701,
          "ppf": 0.2907908412475201
         },
         {
          "actual": 3.8830286944467103,
          "ppf": 0.635809691910308
         },
         {
          "actual": 2.7714003493290837,
          "ppf": -0.15300521332364125
         },
         {
          "actual": 2.803372142222068,
          "ppf": -0.12133493342167563
         },
         {
          "actual": 1.5306353641187458,
          "ppf": -1.0318483167614203
         },
         {
          "actual": 3.301513556487804,
          "ppf": 0.21745445551566422
         },
         {
          "actual": 2.2885704922301695,
          "ppf": -0.4766532218256673
         },
         {
          "actual": 0.9502291949472875,
          "ppf": -1.406799092863737
         },
         {
          "actual": 4.072044797883134,
          "ppf": 0.7533558869051494
         },
         {
          "actual": 2.2392197039928843,
          "ppf": -0.49642953820718316
         },
         {
          "actual": 1.8127898731713743,
          "ppf": -0.8265929256039819
         },
         {
          "actual": 3.028339581065598,
          "ppf": 0.02525002938543425
         },
         {
          "actual": 1.5744047127295158,
          "ppf": -0.9986326454446881
         },
         {
          "actual": 4.150523400783322,
          "ppf": 0.8147100891574295
         },
         {
          "actual": 3.64127204216555,
          "ppf": 0.46377191573067095
         },
         {
          "actual": 3.72702186783861,
          "ppf": 0.5187248832227485
         },
         {
          "actual": 5.47690979435395,
          "ppf": 1.9406223754737009
         },
         {
          "actual": 4.099982937408212,
          "ppf": 0.7778690020782402
         },
         {
          "actual": 3.614852136209269,
          "ppf": 0.44951221627599386
         },
         {
          "actual": 3.5298006968193123,
          "ppf": 0.38097643974521356
         },
         {
          "actual": 4.4070665673986475,
          "ppf": 0.9849517543227044
         },
         {
          "actual": 4.670029201604414,
          "ppf": 1.2307443890421657
         },
         {
          "actual": 4.966250411567705,
          "ppf": 1.4687767892060937
         },
         {
          "actual": 2.941256596646396,
          "ppf": -0.023516559967469052
         },
         {
          "actual": 2.180835443412134,
          "ppf": -0.5585898037894681
         },
         {
          "actual": 3.8370092474001436,
          "ppf": 0.607320252015454
         },
         {
          "actual": 3.6661446441586354,
          "ppf": 0.4904900627040838
         },
         {
          "actual": 3.0874940410611247,
          "ppf": 0.07156031871526153
         },
         {
          "actual": 3.6724330479010305,
          "ppf": 0.4935251194820765
         },
         {
          "actual": 3.7300224265641226,
          "ppf": 0.5197505939495041
         },
         {
          "actual": 3.853145041642764,
          "ppf": 0.6168332099229479
         },
         {
          "actual": 0.7969538952177249,
          "ppf": -1.5288475613725145
         },
         {
          "actual": 2.540208064319154,
          "ppf": -0.29721767133272864
         },
         {
          "actual": 1.887300582121963,
          "ppf": -0.7614760079397236
         },
         {
          "actual": 3.9004292026240743,
          "ppf": 0.6544996551886891
         },
         {
          "actual": 3.9027647861770336,
          "ppf": 0.6566480395308335
         },
         {
          "actual": 2.729663394483618,
          "ppf": -0.18896481943650575
         },
         {
          "actual": 1.8124304929477364,
          "ppf": -0.8311424684869988
         },
         {
          "actual": 2.634842916310486,
          "ppf": -0.2391674323595296
         },
         {
          "actual": 4.927737306591554,
          "ppf": 1.4408842926598018
         },
         {
          "actual": 3.100877644527596,
          "ppf": 0.08288818506827181
         },
         {
          "actual": 2.4738620360821133,
          "ppf": -0.33984424767317883
         },
         {
          "actual": 3.9404769569670943,
          "ppf": 0.6775499771959611
         },
         {
          "actual": 2.6868529073158682,
          "ppf": -0.20743059847651762
         },
         {
          "actual": 3.3620052696846066,
          "ppf": 0.2535815924579283
         },
         {
          "actual": 1.7294636607200748,
          "ppf": -0.8886588115760032
         },
         {
          "actual": 4.2758787850367455,
          "ppf": 0.8865322669789107
         },
         {
          "actual": 1.8414326573426674,
          "ppf": -0.7954573106930488
         },
         {
          "actual": 1.12854092091368,
          "ppf": -1.2804249111472412
         },
         {
          "actual": 2.125833335734654,
          "ppf": -0.6079671100862954
         },
         {
          "actual": 1.7428391607578688,
          "ppf": -0.8811452530885137
         },
         {
          "actual": 4.1091165267652165,
          "ppf": 0.7842736010684809
         },
         {
          "actual": 1.9779197836034235,
          "ppf": -0.6912202592321917
         },
         {
          "actual": 4.499739177683189,
          "ppf": 1.055126052642646
         },
         {
          "actual": 2.2273173205939223,
          "ppf": -0.5124457276825388
         },
         {
          "actual": 2.627462076363298,
          "ppf": -0.2417508464000476
         },
         {
          "actual": 2.750190922556848,
          "ppf": -0.1703813610130944
         },
         {
          "actual": 4.670029201604414,
          "ppf": 1.2311268017456634
         },
         {
          "actual": 2.734105603223304,
          "ppf": -0.18513368619627363
         },
         {
          "actual": 3.6451625395795055,
          "ppf": 0.46930199188119337
         },
         {
          "actual": 1.3639341902200477,
          "ppf": -1.1369466511076673
         },
         {
          "actual": 1.9444886952077538,
          "ppf": -0.7097791747747164
         },
         {
          "actual": 1.7761351221353656,
          "ppf": -0.8665262539114336
         },
         {
          "actual": 2.514157656613254,
          "ppf": -0.30941891395309484
         },
         {
          "actual": 4.132915747758526,
          "ppf": 0.8043442674159775
         },
         {
          "actual": 2.775953865303401,
          "ppf": -0.14810971769743117
         },
         {
          "actual": 1.12854092091368,
          "ppf": -1.2819184184480963
         },
         {
          "actual": 3.00537375647562,
          "ppf": 0.004690944315745727
         },
         {
          "actual": 2.149666393535521,
          "ppf": -0.5891674929243902
         },
         {
          "actual": 1.5517948044134213,
          "ppf": -1.0136011296010408
         },
         {
          "actual": 1.6499212038482054,
          "ppf": -0.9506844037729374
         },
         {
          "actual": 3.730585057156037,
          "ppf": 0.5255733381643755
         },
         {
          "actual": 1.0686342949042642,
          "ppf": -1.312268613687428
         },
         {
          "actual": 4.150523400783346,
          "ppf": 0.8159598689920858
         },
         {
          "actual": 2.2191501946085035,
          "ppf": -0.5263281694663801
         },
         {
          "actual": 6.077613092909417,
          "ppf": 2.443584583050245
         },
         {
          "actual": 2.617147873756505,
          "ppf": -0.24772350488090528
         },
         {
          "actual": 2.22139280834717,
          "ppf": -0.5175630703667535
         },
         {
          "actual": 2.6429557960529717,
          "ppf": -0.23050609956025897
         },
         {
          "actual": 2.746203424402978,
          "ppf": -0.17238251743522684
         },
         {
          "actual": 2.7438531166738747,
          "ppf": -0.17347434782445847
         },
         {
          "actual": 3.0581600242692293,
          "ppf": 0.042829004446046766
         },
         {
          "actual": 0.8898926542746042,
          "ppf": -1.456757948834435
         },
         {
          "actual": 5.780149261570917,
          "ppf": 2.1201276735663996
         },
         {
          "actual": 3.5298006968193123,
          "ppf": 0.38039820905661703
         },
         {
          "actual": 3.5086276758987616,
          "ppf": 0.35469661384677326
         },
         {
          "actual": 2.0594264593100737,
          "ppf": -0.6471144549930299
         },
         {
          "actual": 3.0455786299556427,
          "ppf": 0.034994884368913966
         },
         {
          "actual": 6.127088510913418,
          "ppf": 2.542257543972633
         },
         {
          "actual": 3.414342888510374,
          "ppf": 0.28898352165387775
         },
         {
          "actual": 0,
          "ppf": -1.9635148316537525
         },
         {
          "actual": 3.331187494751894,
          "ppf": 0.23554104079559943
         },
         {
          "actual": 2.513413491580445,
          "ppf": -0.3120528514940042
         },
         {
          "actual": 2.1969738064527533,
          "ppf": -0.5452982170576635
         },
         {
          "actual": 3.575343184165699,
          "ppf": 0.4282589749172455
         },
         {
          "actual": 4.688701867740345,
          "ppf": 1.2553287852145254
         },
         {
          "actual": 3.5298006968193123,
          "ppf": 0.38213328359559584
         },
         {
          "actual": 3.1063791427976155,
          "ppf": 0.09224612569683066
         },
         {
          "actual": 1.3509465300902908,
          "ppf": -1.150161211782693
         },
         {
          "actual": 1.6499212038482054,
          "ppf": -0.9509661293675072
         },
         {
          "actual": 2.1994201989635385,
          "ppf": -0.5406585730667889
         },
         {
          "actual": 2.416055066813084,
          "ppf": -0.382390429417009
         },
         {
          "actual": 2.1013299755151573,
          "ppf": -0.6288763733613505
         },
         {
          "actual": 2.8868885328590093,
          "ppf": -0.06904431276174938
         },
         {
          "actual": 3.2129082442311105,
          "ppf": 0.15282383398870647
         },
         {
          "actual": 4.004523305923497,
          "ppf": 0.7240737966306992
         },
         {
          "actual": 4.050718364320451,
          "ppf": 0.7390674820833851
         },
         {
          "actual": 3.959108029119444,
          "ppf": 0.6951715248827451
         },
         {
          "actual": 5.830923041467689,
          "ppf": 2.1765597156762415
         },
         {
          "actual": 4.1128864017367786,
          "ppf": 0.796769922384753
         },
         {
          "actual": 2.6401929978427225,
          "ppf": -0.2345581482398833
         },
         {
          "actual": 4.572738788716909,
          "ppf": 1.1451967003041497
         },
         {
          "actual": 4.031175939186586,
          "ppf": 0.7342859920335871
         },
         {
          "actual": 2.8598501915761427,
          "ppf": -0.09008591368737111
         },
         {
          "actual": 5.008681282214612,
          "ppf": 1.5448086972186392
         },
         {
          "actual": 3.880293895271336,
          "ppf": 0.6329597020491095
         },
         {
          "actual": 3.52558993099964,
          "ppf": 0.36898789974264534
         },
         {
          "actual": 2.988060761712298,
          "ppf": -0.004810459731033639
         },
         {
          "actual": 4.001191491400729,
          "ppf": 0.7199635651229864
         },
         {
          "actual": 1.6560886286187582,
          "ppf": -0.943758896219832
         },
         {
          "actual": 1.71191242059977,
          "ppf": -0.8994419772946581
         },
         {
          "actual": 1.7280172038477326,
          "ppf": -0.8939037339920318
         },
         {
          "actual": 4.511890874206298,
          "ppf": 1.0750411468677412
         },
         {
          "actual": 3.5159211944193802,
          "ppf": 0.36336463673576164
         },
         {
          "actual": 3.81727857741568,
          "ppf": 0.594079329426432
         },
         {
          "actual": 2.2707126615395237,
          "ppf": -0.4873249305611687
         },
         {
          "actual": 2.513413491580445,
          "ppf": -0.31155098272737963
         },
         {
          "actual": 0,
          "ppf": -2.0547050455058105
         },
         {
          "actual": 1.2540393547522357,
          "ppf": -1.1972823798178194
         },
         {
          "actual": 2.1994201989635385,
          "ppf": -0.5428730644757129
         },
         {
          "actual": 1.9807907491514183,
          "ppf": -0.6900066559606268
         },
         {
          "actual": 3.544521881086687,
          "ppf": 0.39773689882009017
         },
         {
          "actual": 1.8267764976796335,
          "ppf": -0.808977405786885
         },
         {
          "actual": 3.6451625395795055,
          "ppf": 0.46923527930913056
         },
         {
          "actual": 2.4738620360821133,
          "ppf": -0.34054073364465365
         },
         {
          "actual": 0.850079202791973,
          "ppf": -1.4864009473896578
         },
         {
          "actual": 1.8233983162936378,
          "ppf": -0.8175447554990782
         },
         {
          "actual": 5.447876032157902,
          "ppf": 1.903489818110288
         },
         {
          "actual": 0.6984369963045891,
          "ppf": -1.6001431322453363
         },
         {
          "actual": 2.6954877447386383,
          "ppf": -0.20413466528467544
         },
         {
          "actual": 2.941256596646396,
          "ppf": -0.02333723966691494
         },
         {
          "actual": 1.1414638999504796,
          "ppf": -1.2717915074600386
         },
         {
          "actual": 1.4569260350086837,
          "ppf": -1.0797390007715173
         },
         {
          "actual": 3.4784467602383766,
          "ppf": 0.32973196538550487
         },
         {
          "actual": 1.7761351221353656,
          "ppf": -0.8638329012831846
         },
         {
          "actual": 1.2243412739551962,
          "ppf": -1.2046569620320269
         },
         {
          "actual": 2.661464217122723,
          "ppf": -0.2229645876698574
         },
         {
          "actual": 1.7218096439383646,
          "ppf": -0.8972055038882429
         },
         {
          "actual": 3.414342888510374,
          "ppf": 0.28935737221328706
         },
         {
          "actual": 3.582760325578497,
          "ppf": 0.433438926911633
         },
         {
          "actual": 2.8928417975612537,
          "ppf": -0.05886477660967923
         },
         {
          "actual": 4.132915747758526,
          "ppf": 0.8042616898094512
         },
         {
          "actual": 2.0832825368373236,
          "ppf": -0.6407179306921212
         },
         {
          "actual": 2.208067914949105,
          "ppf": -0.5309322815252449
         },
         {
          "actual": 3.1845159174244753,
          "ppf": 0.13875157835293403
         },
         {
          "actual": 3.64127204216555,
          "ppf": 0.46483684635438743
         },
         {
          "actual": 3.52727087924207,
          "ppf": 0.3721881298906457
         },
         {
          "actual": 1.41582107756945,
          "ppf": -1.1144261006500635
         },
         {
          "actual": 1.559530816990154,
          "ppf": -1.0058409252260747
         },
         {
          "actual": 4.741465565056366,
          "ppf": 1.2790696512898254
         },
         {
          "actual": 3.010359231093489,
          "ppf": 0.008037407510130183
         },
         {
          "actual": 4.250424699132332,
          "ppf": 0.8748195280622312
         },
         {
          "actual": 4.641803899695579,
          "ppf": 1.2081209588114477
         },
         {
          "actual": 1.7880608186441593,
          "ppf": -0.8563073755662824
         },
         {
          "actual": 2.5009256020104553,
          "ppf": -0.32072259074161913
         },
         {
          "actual": 2.904116977759645,
          "ppf": -0.052101817494143714
         },
         {
          "actual": 3.64127204216555,
          "ppf": 0.4641712030171067
         },
         {
          "actual": 0,
          "ppf": -2.011297996211247
         },
         {
          "actual": 1.9077248171335082,
          "ppf": -0.7473377616306642
         },
         {
          "actual": 5.242998645989155,
          "ppf": 1.702638933742214
         },
         {
          "actual": 0,
          "ppf": -2.582036553075829
         },
         {
          "actual": 3.64127204216555,
          "ppf": 0.46350576528179016
         },
         {
          "actual": 1.4865206810076335,
          "ppf": -1.0569002121848157
         },
         {
          "actual": 1.184689335505295,
          "ppf": -1.2406172377507445
         },
         {
          "actual": 3.1845159174244753,
          "ppf": 0.13911359764453657
         },
         {
          "actual": 3.1510533842988773,
          "ppf": 0.11904770458981727
         },
         {
          "actual": 6.7577542843683736,
          "ppf": 3.0627347335498047
         },
         {
          "actual": 2.1275237327827603,
          "ppf": -0.606529992622702
         },
         {
          "actual": 2.6623396207327485,
          "ppf": -0.22143332338796445
         },
         {
          "actual": 4.101609080966352,
          "ppf": 0.7789207256067833
         },
         {
          "actual": 3.8938728910427236,
          "ppf": 0.6449057780852436
         },
         {
          "actual": 3.7654914251763767,
          "ppf": 0.5585898037894681
         },
         {
          "actual": 2.540208064319154,
          "ppf": -0.2979672222114952
         },
         {
          "actual": 2.017795200052386,
          "ppf": -0.6728964304031266
         },
         {
          "actual": 4.0786800726842225,
          "ppf": 0.7577281774539136
         },
         {
          "actual": 5.307222395799818,
          "ppf": 1.7318763113487348
         },
         {
          "actual": 2.295342054266205,
          "ppf": -0.4677014656572433
         },
         {
          "actual": 1.3837025781264733,
          "ppf": -1.1338727546373488
         },
         {
          "actual": 3.75543494910584,
          "ppf": 0.5489072375816048
         },
         {
          "actual": 0,
          "ppf": -1.921346339363499
         },
         {
          "actual": 4.82979805937514,
          "ppf": 1.371820138521203
         },
         {
          "actual": 3.810875391786745,
          "ppf": 0.5895229443861487
         },
         {
          "actual": 4.9768065483611315,
          "ppf": 1.4996985098869213
         },
         {
          "actual": 2.1869204063877468,
          "ppf": -0.5548917596374949
         },
         {
          "actual": 3.321820329663523,
          "ppf": 0.23197913044717522
         },
         {
          "actual": 4.031175939186586,
          "ppf": 0.7356168472948987
         },
         {
          "actual": 4.610246822043704,
          "ppf": 1.1874287983430327
         },
         {
          "actual": 4.4102706721743745,
          "ppf": 0.9905970569026054
         },
         {
          "actual": 3.4362615167289308,
          "ppf": 0.30628606884969195
         },
         {
          "actual": 0.7414232059298687,
          "ppf": -1.5734178583949359
         },
         {
          "actual": 5.447876032157902,
          "ppf": 1.8904850906160968
         },
         {
          "actual": 0.5718189973096292,
          "ppf": -1.654018160210625
         },
         {
          "actual": 5.39986808492487,
          "ppf": 1.8272858274582198
         },
         {
          "actual": 3.5044896143962023,
          "ppf": 0.35310614216681574
         },
         {
          "actual": 0.9417005909674168,
          "ppf": -1.4101828171749413
         },
         {
          "actual": 1.608476149863558,
          "ppf": -0.9673420563940417
         },
         {
          "actual": 0.919781031607994,
          "ppf": -1.434836037331086
         },
         {
          "actual": 2.208067914949105,
          "ppf": -0.5316892546508422
         },
         {
          "actual": 4.891864386669334,
          "ppf": 1.4116379397695407
         },
         {
          "actual": 1.9349474337953714,
          "ppf": -0.7233749718951923
         },
         {
          "actual": 1.6637755559747442,
          "ppf": -0.9374345881689385
         },
         {
          "actual": 3.102917793916619,
          "ppf": 0.09092594562824632
         },
         {
          "actual": 3.566955378278824,
          "ppf": 0.4160429201087159
         },
         {
          "actual": 5.3375101979872195,
          "ppf": 1.763239188447914
         },
         {
          "actual": 2.066633244640824,
          "ppf": -0.6449057780852436
         },
         {
          "actual": 3.9404769569670943,
          "ppf": 0.6773996340783287
         },
         {
          "actual": 3.9829564910215036,
          "ppf": 0.7033363876449549
         },
         {
          "actual": 4.165793877049573,
          "ppf": 0.8194660543307951
         },
         {
          "actual": 1.9524181683472104,
          "ppf": -0.7016538152439065
         },
         {
          "actual": 0.45081653564633617,
          "ppf": -1.7252214713577905
         },
         {
          "actual": 4.085971027597944,
          "ppf": 0.7650744063212154
         },
         {
          "actual": 4.175367276922587,
          "ppf": 0.8231500387466812
         },
         {
          "actual": 3.8311055818420936,
          "ppf": 0.6027276706547819
         },
         {
          "actual": 3.55267175993037,
          "ppf": 0.4060291315562552
         },
         {
          "actual": 3.430886416750674,
          "ppf": 0.29940432984706333
         },
         {
          "actual": 3.0634827656973447,
          "ppf": 0.04922979500329561
         },
         {
          "actual": 3.01076909867046,
          "ppf": 0.009232592804291102
         },
         {
          "actual": 1.5887943839964629,
          "ppf": -0.9827217729600685
         },
         {
          "actual": 3.2697087735669252,
          "ppf": 0.19444269665298788
         },
         {
          "actual": 3.222372115771981,
          "ppf": 0.1592961856709233
         },
         {
          "actual": 1.9779197836034235,
          "ppf": -0.6916756229579604
         },
         {
          "actual": 3.6627368099346858,
          "ppf": 0.4896141102607554
         },
         {
          "actual": 3.5527029402395502,
          "ppf": 0.40719745598159357
         },
         {
          "actual": 1.0205312531475939,
          "ppf": -1.3366893742977657
         },
         {
          "actual": 1.9465533958732406,
          "ppf": -0.7072445797988239
         },
         {
          "actual": 3.2981893943386837,
          "ppf": 0.2155580572388409
         },
         {
          "actual": 0.9871070865514906,
          "ppf": -1.3801360518550274
         },
         {
          "actual": 3.755434949105811,
          "ppf": 0.5459223458680026
         },
         {
          "actual": 3.0154021259550787,
          "ppf": 0.012280378992904243
         },
         {
          "actual": 3.407166506563578,
          "ppf": 0.2822610585590482
         },
         {
          "actual": 2.0594264593100737,
          "ppf": -0.6474828746247078
         },
         {
          "actual": 2.78514224456526,
          "ppf": -0.14050150760092764
         },
         {
          "actual": 3.5298006968193123,
          "ppf": 0.3827118972571256
         },
         {
          "actual": 4.112886401736728,
          "ppf": 0.7953753179739215
         },
         {
          "actual": 4.517962270629839,
          "ppf": 1.0819895804684994
         },
         {
          "actual": 1.4571946398090088,
          "ppf": -1.077173587996432
         },
         {
          "actual": 3.6181514381567292,
          "ppf": 0.45354858667835984
         },
         {
          "actual": 4.743604232480011,
          "ppf": 1.2895664516741552
         },
         {
          "actual": 0.9643181889315787,
          "ppf": -1.3953183030849456
         },
         {
          "actual": 1.2836797056645544,
          "ppf": -1.1768527171072598
         },
         {
          "actual": 2.5649492353683594,
          "ppf": -0.2794016738786419
         },
         {
          "actual": 0.8650740986563173,
          "ppf": -1.4853196285709045
         },
         {
          "actual": 1.536874811187231,
          "ppf": -1.0227325646336987
         },
         {
          "actual": 4.939078019318847,
          "ppf": 1.4548612450811405
         },
         {
          "actual": 4.814147895011674,
          "ppf": 1.361028570993655
         },
         {
          "actual": 3.537224774879413,
          "ppf": 0.39289088200804206
         },
         {
          "actual": 5.39986808492487,
          "ppf": 1.8304678306987132
         },
         {
          "actual": 2.506668668927563,
          "ppf": -0.3161962822309136
         },
         {
          "actual": 2.774603320850188,
          "ppf": -0.15209836686182335
         },
         {
          "actual": 4.312112996191242,
          "ppf": 0.9045580397698468
         },
         {
          "actual": 3.5341845101388705,
          "ppf": 0.3877963670717329
         },
         {
          "actual": 3.1205563833853276,
          "ppf": 0.10732013866714019
         },
         {
          "actual": 3.2004829315036574,
          "ppf": 0.14442533450303444
         },
         {
          "actual": 2.4635219210689523,
          "ppf": -0.35189798100743824
         },
         {
          "actual": 1.9415433304596303,
          "ppf": -0.7132428086773516
         },
         {
          "actual": 2.605307870788762,
          "ppf": -0.2546925210603692
         },
         {
          "actual": 3.036465965236363,
          "ppf": 0.028657419443684055
         },
         {
          "actual": 4.408395140813608,
          "ppf": 0.988354633715558
         },
         {
          "actual": 3.01959524750117,
          "ppf": 0.015208751260063566
         },
         {
          "actual": 5.477383934696208,
          "ppf": 1.949337313438671
         },
         {
          "actual": 1.7353541506439913,
          "ppf": -0.8843213710936006
         },
         {
          "actual": 3.956993765835563,
          "ppf": 0.692662736786841
         },
         {
          "actual": 4.505955783948526,
          "ppf": 1.0639251157584835
         },
         {
          "actual": 1.8903363942364204,
          "ppf": -0.7587637448256823
         },
         {
          "actual": 3.7036052242826356,
          "ppf": 0.5025221722812505
         },
         {
          "actual": 0,
          "ppf": -1.8998450789432542
         },
         {
          "actual": 1.019187780240563,
          "ppf": -1.3441731194371451
         },
         {
          "actual": 3.0229862595660797,
          "ppf": 0.022619965911213992
         },
         {
          "actual": 1.645074051229452,
          "ppf": -0.9522818480736644
         },
         {
          "actual": 3.2793594961340338,
          "ppf": 0.20181663560628973
         },
         {
          "actual": 1.9179178353217308,
          "ppf": -0.7310035567037517
         },
         {
          "actual": 4.40592350457474,
          "ppf": 0.9783728394430651
         },
         {
          "actual": 0.6530534113676312,
          "ppf": -1.6107668321599715
         },
         {
          "actual": 2.6222159713964617,
          "ppf": -0.24187390623367663
         },
         {
          "actual": 3.0441101893667972,
          "ppf": 0.0336794542976833
         },
         {
          "actual": 2.309284072616099,
          "ppf": -0.44660527955750035
         },
         {
          "actual": 3.0601103896727926,
          "ppf": 0.04797341423964065
         },
         {
          "actual": 1.190843714105953,
          "ppf": -1.230489547197482
         },
         {
          "actual": 2.1290014557445143,
          "ppf": -0.6017247391925952
         },
         {
          "actual": 1.190843714105826,
          "ppf": -1.232658256061485
         },
         {
          "actual": 0.7236261628672447,
          "ppf": -1.5856927662539186
         },
         {
          "actual": 0,
          "ppf": -2.7126334399205945
         },
         {
          "actual": 3.577278002290301,
          "ppf": 0.4310114339247416
         },
         {
          "actual": 1.3591106164673987,
          "ppf": -1.14197911027071
         },
         {
          "actual": 2.81579151621023,
          "ppf": -0.11531724127336675
         },
         {
          "actual": 2.774603320850188,
          "ppf": -0.1517961125384018
         },
         {
          "actual": 1.9064266296282697,
          "ppf": -0.7512939936032031
         },
         {
          "actual": 1.555358965606467,
          "ppf": -1.0115058514045998
         },
         {
          "actual": 4.628264288953575,
          "ppf": 1.2019453568629772
         },
         {
          "actual": 3.8443965505447872,
          "ppf": 0.6125743568118747
         },
         {
          "actual": 2.860194103043045,
          "ppf": -0.0897259194921117
         },
         {
          "actual": 2.264533038582538,
          "ppf": -0.4898835940475038
         },
         {
          "actual": 2.912057338126114,
          "ppf": -0.04701622268332961
         },
         {
          "actual": 5.307222395799818,
          "ppf": 1.731073674830737
         },
         {
          "actual": 5.00419917907908,
          "ppf": 1.5330915645213516
         },
         {
          "actual": 4.559586339382318,
          "ppf": 1.1232536725818627
         },
         {
          "actual": 3.952025458716992,
          "ppf": 0.6865988294751586
         },
         {
          "actual": 3.9404769569670943,
          "ppf": 0.678226710858179
         },
         {
          "actual": 3.485940568307048,
          "ppf": 0.3342150684128443
         },
         {
          "actual": 3.0053737564755747,
          "ppf": 0.0031970067260279865
         },
         {
          "actual": 2.9566524801316008,
          "ppf": -0.014611114493002245
         },
         {
          "actual": 2.895783683691194,
          "ppf": -0.055692452845736755
         },
         {
          "actual": 2.9729230232526724,
          "ppf": -0.008037407510130322
         },
         {
          "actual": 2.829776078930752,
          "ppf": -0.10545715702767439
         },
         {
          "actual": 3.4345889062707124,
          "ppf": 0.30203021209673836
         },
         {
          "actual": 2.890822807369191,
          "ppf": -0.06287592468592303
         },
         {
          "actual": 2.797625467392173,
          "ppf": -0.12856198797299265
         },
         {
          "actual": 1.6899754770104811,
          "ppf": -0.9154977400431786
         },
         {
          "actual": 0.5545935718654201,
          "ppf": -1.6747885241141274
         },
         {
          "actual": 2.788208314740097,
          "ppf": -0.13712271585157226
         },
         {
          "actual": 2.299095393719998,
          "ppf": -0.4621090133981142
         },
         {
          "actual": 5.226689970511145,
          "ppf": 1.6935432431990105
         },
         {
          "actual": 3.071017544663841,
          "ppf": 0.054375805626919696
         },
         {
          "actual": 5.390908703056411,
          "ppf": 1.8073464698400499
         },
         {
          "actual": 1.1058025749688325,
          "ppf": -1.2975679666298978
         },
         {
          "actual": 2.550342907449497,
          "ppf": -0.28779992768889273
         },
         {
          "actual": 1.2700208467523193,
          "ppf": -1.1852547159731666
         },
         {
          "actual": 3.733756035815403,
          "ppf": 0.5312075092584801
         },
         {
          "actual": 3.3620052696846066,
          "ppf": 0.2518541026126554
         },
         {
          "actual": 4.932002981344229,
          "ppf": 1.4502277555973175
         },
         {
          "actual": 3.8803367314331525,
          "ppf": 0.6355902787737256
         },
         {
          "actual": 5.267873762857799,
          "ppf": 1.7162917314712751
         },
         {
          "actual": 2.28200946116289,
          "ppf": -0.47926574402802397
         },
         {
          "actual": 3.582760325578497,
          "ppf": 0.43337328546386766
         },
         {
          "actual": 4.1128197054402795,
          "ppf": 0.7929180170654597
         },
         {
          "actual": 0,
          "ppf": -2.229292416313883
         },
         {
          "actual": 3.969376231409723,
          "ppf": 0.6964656394717513
         },
         {
          "actual": 2.4726273400378345,
          "ppf": -0.3456110830718636
         },
         {
          "actual": 3.098605154967844,
          "ppf": 0.08042996377823702
         },
         {
          "actual": 3.0933138627203145,
          "ppf": 0.07413669909421557
         },
         {
          "actual": 3.707966110755295,
          "ppf": 0.5080215312358225
         },
         {
          "actual": 2.0128259446992067,
          "ppf": -0.6799575545315225
         },
         {
          "actual": 4.2549689066453205,
          "ppf": 0.8793845784021185
         },
         {
          "actual": 3.525561133234381,
          "ppf": 0.3669417359410223
         },
         {
          "actual": 3.016737919773344,
          "ppf": 0.013475618836344402
         },
         {
          "actual": 2.7559276727224367,
          "ppf": -0.1664416761559371
         },
         {
          "actual": 3.5550483451571737,
          "ppf": 0.40810653709967265
         },
         {
          "actual": 1.2054177560835395,
          "ppf": -1.2202348605074422
         },
         {
          "actual": 3.9092339997398864,
          "ppf": 0.662069519037231
         },
         {
          "actual": 1.3144855366872292,
          "ppf": -1.1634621450272604
         },
         {
          "actual": 1.9413691114438612,
          "ppf": -0.715325100979269
         },
         {
          "actual": 3.07251626243113,
          "ppf": 0.05910422091509826
         },
         {
          "actual": 3.2541992444698713,
          "ppf": 0.1779044614536558
         },
         {
          "actual": 3.690588852547937,
          "ppf": 0.4979171392792052
         },
         {
          "actual": 2.7195064411967613,
          "ppf": -0.19182477084807303
         },
         {
          "actual": 1.6826928999113193,
          "ppf": -0.9243473362785293
         },
         {
          "actual": 2.357057671877967,
          "ppf": -0.4163687379505075
         },
         {
          "actual": 2.197275042120385,
          "ppf": -0.5445356812821281
         },
         {
          "actual": 0.3833048062090181,
          "ppf": -1.7778498604030812
         },
         {
          "actual": 0.6534966425812999,
          "ppf": -1.6064087157541092
         },
         {
          "actual": 2.102408735156577,
          "ppf": -0.6246582357586441
         },
         {
          "actual": 2.5534652194137726,
          "ppf": -0.2846871276001624
         },
         {
          "actual": 3.830672776375864,
          "ppf": 0.6020112292391552
         },
         {
          "actual": 3.6492857521821236,
          "ppf": 0.47077019767235795
         },
         {
          "actual": 2.0742195341182033,
          "ppf": -0.644096718057963
         },
         {
          "actual": 3.425761834092787,
          "ppf": 0.29440833837572106
         },
         {
          "actual": 1.9077248171335082,
          "ppf": -0.7476538292704393
         },
         {
          "actual": 3.4432416982938943,
          "ppf": 0.3086667552797648
         },
         {
          "actual": 2.935113659446365,
          "ppf": -0.025668464208539705
         },
         {
          "actual": 3.227345827136894,
          "ppf": 0.16383684594477724
         },
         {
          "actual": 2.044666849170354,
          "ppf": -0.6616231854319062
         },
         {
          "actual": 4.716496674713621,
          "ppf": 1.2660437666375266
         },
         {
          "actual": 2.1511339542634142,
          "ppf": -0.5844115934696462
         },
         {
          "actual": 1.6757166033759474,
          "ppf": -0.9329928530966427
         },
         {
          "actual": 1.3739753883952797,
          "ppf": -1.1351237881684209
         },
         {
          "actual": 4.4171156138515855,
          "ppf": 1.000405201162638
         },
         {
          "actual": 2.474592223183557,
          "ppf": -0.33826193731102017
         },
         {
          "actual": 2.278373077506496,
          "ppf": -0.4819486564840649
         },
         {
          "actual": 1.5966127140789157,
          "ppf": -0.9748108636963966
         },
         {
          "actual": 1.8746408165910016,
          "ppf": -0.769084282079562
         },
         {
          "actual": 3.5515479463962194,
          "ppf": 0.40362931312831335
         },
         {
          "actual": 0,
          "ppf": -2.036309241091395
         },
         {
          "actual": 0.8448895707758223,
          "ppf": -1.4960289890244882
         },
         {
          "actual": 3.7742244369603584,
          "ppf": 0.5677632702796759
         },
         {
          "actual": 3.414342888510374,
          "ppf": 0.2892950609796033
         },
         {
          "actual": 2.6733824094705665,
          "ppf": -0.21109539279962225
         },
         {
          "actual": 3.379504410488977,
          "ppf": 0.2692257346103215
         },
         {
          "actual": 1.8414326573426674,
          "ppf": -0.7956213121767152
         },
         {
          "actual": 3.4600374956167035,
          "ppf": 0.321603466946701
         },
         {
          "actual": 0.5272084215955456,
          "ppf": -1.6892963232443243
         },
         {
          "actual": 3.755434949105811,
          "ppf": 0.5452982170576635
         },
         {
          "actual": 2.526906537533193,
          "ppf": -0.29990433820124623
         },
         {
          "actual": 3.6075758075988675,
          "ppf": 0.4452192087555018
         },
         {
          "actual": 4.499739177683189,
          "ppf": 1.0522111254709996
         },
         {
          "actual": 4.07856762193165,
          "ppf": 0.7564547473755141
         },
         {
          "actual": 1.3231877844518212,
          "ppf": -1.1581872925250627
         },
         {
          "actual": 1.676006976120986,
          "ppf": -0.9315163601037295
         },
         {
          "actual": 0.8490011204813265,
          "ppf": -1.4909252584840658
         },
         {
          "actual": 3.4546110113738218,
          "ppf": 0.32053386395125266
         },
         {
          "actual": 3.0229862595660797,
          "ppf": 0.02226133342046407
         },
         {
          "actual": 1.0751430700725992,
          "ppf": -1.3060739709415066
         },
         {
          "actual": 3.956993765835563,
          "ppf": 0.6920552023154815
         },
         {
          "actual": 5.36456676722776,
          "ppf": 1.7801764804720548
         },
         {
          "actual": 3.0441101893667972,
          "ppf": 0.032842392919607874
         },
         {
          "actual": 3.738187504314396,
          "ppf": 0.5359615503856872
         },
         {
          "actual": 2.357057671877967,
          "ppf": -0.41617324194362615
         },
         {
          "actual": 4.517962270629839,
          "ppf": 1.0811315710544356
         },
         {
          "actual": 0,
          "ppf": -2.0958763048069287
         },
         {
          "actual": 1.5778958275522266,
          "ppf": -0.9929422998483591
         },
         {
          "actual": 3.4362615167289308,
          "ppf": 0.30553463428065814
         },
         {
          "actual": 0.8448895707758223,
          "ppf": -1.4958460411234895
         },
         {
          "actual": 4.796417570870996,
          "ppf": 1.3345024636367497
         },
         {
          "actual": 2.829776078930752,
          "ppf": -0.10239304489033012
         },
         {
          "actual": 4.500230324788326,
          "ppf": 1.0595153302633822
         },
         {
          "actual": 2.5756468698768917,
          "ppf": -0.2753030586308686
         },
         {
          "actual": 0.8853080942609701,
          "ppf": -1.4642230977977198
         },
         {
          "actual": 4.362337830108187,
          "ppf": 0.9431993518680755
         },
         {
          "actual": 2.114450408238903,
          "ppf": -0.6175561574485287
         },
         {
          "actual": 4.584173737654104,
          "ppf": 1.1649920311387025
         },
         {
          "actual": 4.271224654245525,
          "ppf": 0.8843213710936006
         },
         {
          "actual": 3.912651705175525,
          "ppf": 0.6646012397710785
         },
         {
          "actual": 4.7623121141135165,
          "ppf": 1.308602074749159
         },
         {
          "actual": 3.610759175594427,
          "ppf": 0.4476619095610955
         },
         {
          "actual": 4.329911552063301,
          "ppf": 0.9266399137036189
         },
         {
          "actual": 2.490477233293557,
          "ppf": -0.3285333886386083
         },
         {
          "actual": 0,
          "ppf": -1.905321711039466
         },
         {
          "actual": 3.2511126054411053,
          "ppf": 0.17444503732392083
         },
         {
          "actual": 4.061329289973509,
          "ppf": 0.7476538292704393
         },
         {
          "actual": 3.511629548699993,
          "ppf": 0.35896351887243877
         },
         {
          "actual": 1.801071207469528,
          "ppf": -0.842677600847945
         },
         {
          "actual": 3.7300224265641226,
          "ppf": 0.5207768517885912
         },
         {
          "actual": 2.159066665385826,
          "ppf": -0.5679036921860686
         },
         {
          "actual": 4.901496426216469,
          "ppf": 1.426356491003654
         },
         {
          "actual": 3.100877644527596,
          "ppf": 0.0826483367895256
         },
         {
          "actual": 2.602207205865219,
          "ppf": -0.26266347075110097
         },
         {
          "actual": 0,
          "ppf": -2.172112370592457
         },
         {
          "actual": 1.9415433304596303,
          "ppf": -0.7130886878683611
         },
         {
          "actual": 3.9092339997398864,
          "ppf": 0.6622927353040716
         },
         {
          "actual": 0.7414232059298687,
          "ppf": -1.5678787438964372
         },
         {
          "actual": 2.2963165723551096,
          "ppf": -0.4639715501274962
         },
         {
          "actual": 1.2700208467523193,
          "ppf": -1.1858580655629765
         },
         {
          "actual": 3.7900167683572152,
          "ppf": 0.5747276846780838
         },
         {
          "actual": 0.4468581540284611,
          "ppf": -1.7324120228434239
         },
         {
          "actual": 5.2104916739440545,
          "ppf": 1.668746085516896
         },
         {
          "actual": 4.555654204727136,
          "ppf": 1.1195555946477387
         },
         {
          "actual": 2.8724717625850995,
          "ppf": -0.08060981696912368
         },
         {
          "actual": 0.8898980400593245,
          "ppf": -1.445455315892301
         },
         {
          "actual": 1.580085774418476,
          "ppf": -0.9906946665668318
         },
         {
          "actual": 0.6984369963045891,
          "ppf": -1.600573227719157
         },
         {
          "actual": 2.9144126521362694,
          "ppf": -0.04067587491214258
         },
         {
          "actual": 1.5409391087503965,
          "ppf": -1.0208189700614265
         },
         {
          "actual": 4.56572532735102,
          "ppf": 1.142782398773451
         },
         {
          "actual": 4.000851871007754,
          "ppf": 0.7184156935635555
         },
         {
          "actual": 3.93853495393319,
          "ppf": 0.6762725482445077
         },
         {
          "actual": 3.0154021259550787,
          "ppf": 0.012579187242344265
         },
         {
          "actual": 3.2981893943386837,
          "ppf": 0.21543573565218607
         },
         {
          "actual": 4.1091165267652165,
          "ppf": 0.7833798972978191
         },
         {
          "actual": 1.5471198961372394,
          "ppf": -1.016301615225066
         },
         {
          "actual": 4.511890874206298,
          "ppf": 1.074083141512649
         },
         {
          "actual": 3.4275694325330575,
          "ppf": 0.2966556177600995
         },
         {
          "actual": 1.184689335505295,
          "ppf": -1.2399724698160994
         },
         {
          "actual": 4.37833734981017,
          "ppf": 0.9585068620419583
         },
         {
          "actual": 4.9694812217220266,
          "ppf": 1.4898366407985382
         },
         {
          "actual": 1.6637755559744556,
          "ppf": -0.9409641211117062
         },
         {
          "actual": 0.4620096778323629,
          "ppf": -1.72258079864996
         },
         {
          "actual": 3.4362615167289308,
          "ppf": 0.306160817755586
         },
         {
          "actual": 2.5832025119877717,
          "ppf": -0.2726972591252709
         },
         {
          "actual": 2.526910258765316,
          "ppf": -0.29921684601746223
         },
         {
          "actual": 3.462274944349426,
          "ppf": 0.3239327006940035
         },
         {
          "actual": 1.5247769284731836,
          "ppf": -1.03347788789653
         },
         {
          "actual": 2.2316975468303566,
          "ppf": -0.5017765201580787
         },
         {
          "actual": 1.0205312531475939,
          "ppf": -1.3368353957774284
         },
         {
          "actual": 0.7480891726316874,
          "ppf": -1.5559393842864842
         },
         {
          "actual": 4.130937957188932,
          "ppf": 0.8020341631428128
         },
         {
          "actual": 4.553499589835793,
          "ppf": 1.1057946529218627
         },
         {
          "actual": 0.7730561326238392,
          "ppf": -1.541859534183454
         },
         {
          "actual": 3.5298006968193123,
          "ppf": 0.3820690010888645
         },
         {
          "actual": 3.8981420424034052,
          "ppf": 0.6479988098113807
         },
         {
          "actual": 4.316481166614224,
          "ppf": 0.907891701672054
         },
         {
          "actual": 4.671517513892042,
          "ppf": 1.2376555622797167
         },
         {
          "actual": 6.077613092909417,
          "ppf": 2.4704791715920407
         },
         {
          "actual": 0,
          "ppf": -2.147489192387002
         },
         {
          "actual": 5.4467093557544795,
          "ppf": 1.8830442146741944
         },
         {
          "actual": 0.5659482894784739,
          "ppf": -1.6625259173751759
         },
         {
          "actual": 3.1552618520915843,
          "ppf": 0.12296045481313805
         },
         {
          "actual": 2.803372142222068,
          "ppf": -0.12175633393622466
         },
         {
          "actual": 1.884639503067615,
          "ppf": -0.7636338605766644
         },
         {
          "actual": 2.197275042120385,
          "ppf": -0.5446743005887867
         },
         {
          "actual": 5.126111436885221,
          "ppf": 1.6348466545201763
         },
         {
          "actual": 1.1489804491374012,
          "ppf": -1.26737671603961
         },
         {
          "actual": 0.8667224430883744,
          "ppf": -1.480475053329831
         },
         {
          "actual": 2.114450408238903,
          "ppf": -0.6180624128093248
         },
         {
          "actual": 2.796656263499515,
          "ppf": -0.13012872223579502
         },
         {
          "actual": 3.0874940410611247,
          "ppf": 0.07299823879398001
         },
         {
          "actual": 2.9729230232526724,
          "ppf": -0.0077983718836659496
         },
         {
          "actual": 3.7571313435959794,
          "ppf": 0.5514099822199999
         },
         {
          "actual": 3.2004829315036574,
          "ppf": 0.14484803206380226
         },
         {
          "actual": 5.785083621521061,
          "ppf": 2.13858189729332
         },
         {
          "actual": 2.281623748968575,
          "ppf": -0.4811434193106501
         },
         {
          "actual": 4.346256895531529,
          "ppf": 0.9389192816344137
         },
         {
          "actual": 0.39957116086090794,
          "ppf": -1.7697815717086984
         },
         {
          "actual": 3.1172683929931138,
          "ppf": 0.10233297396286177
         },
         {
          "actual": 2.8819694694323217,
          "ppf": -0.0725788299786091
         },
         {
          "actual": 2.058870609422847,
          "ppf": -0.6491787385803894
         },
         {
          "actual": 1.302196899677224,
          "ppf": -1.1714950117129983
         },
         {
          "actual": 0.7922669923905813,
          "ppf": -1.5367791914214561
         },
         {
          "actual": 3.0596508753302882,
          "ppf": 0.04599925383213495
         },
         {
          "actual": 4.228431744331461,
          "ppf": 0.8595883983005167
         },
         {
          "actual": 1.686523416227421,
          "ppf": -0.917589596669623
         },
         {
          "actual": 3.7300224265641226,
          "ppf": 0.5205715563718915
         },
         {
          "actual": 3.235040391212128,
          "ppf": 0.16741120271988444
         },
         {
          "actual": 3.806111144019032,
          "ppf": 0.5837737495531021
         },
         {
          "actual": 0,
          "ppf": -2.7055992222200445
         },
         {
          "actual": 4.824833935683102,
          "ppf": 1.3661765135893007
         },
         {
          "actual": 2.204091112177019,
          "ppf": -0.5338241845631744
         },
         {
          "actual": 2.01603271386908,
          "ppf": -0.676873553688084
         },
         {
          "actual": 2.877683119205053,
          "ppf": -0.07821198650706089
         },
         {
          "actual": 3.7143005173537156,
          "ppf": 0.5114919788996265
         },
         {
          "actual": 1.8903363942364204,
          "ppf": -0.758126376377859
         },
         {
          "actual": 4.8351139620628825,
          "ppf": 1.3751966271004907
         },
         {
          "actual": 5.267873762857799,
          "ppf": 1.7165524233748466
         },
         {
          "actual": 2.6221795776402503,
          "ppf": -0.2459369481527157
         },
         {
          "actual": 4.101609080966352,
          "ppf": 0.7794064271409418
         },
         {
          "actual": 3.8830286944467103,
          "ppf": 0.638005510177108
         },
         {
          "actual": 4.325808883809349,
          "ppf": 0.9150435185398802
         },
         {
          "actual": 0,
          "ppf": -1.9505372533019982
         },
         {
          "actual": 2.490477233293557,
          "ppf": -0.32821805220295824
         },
         {
          "actual": 3.308299016950137,
          "ppf": 0.2279294964786068
         },
         {
          "actual": 2.945514104772958,
          "ppf": -0.021544076982300802
         },
         {
          "actual": 2.1287860714998046,
          "ppf": -0.6030143338473378
         },
         {
          "actual": 2.8966573936430557,
          "ppf": -0.054854575407249605
         },
         {
          "actual": 4.7669860229180525,
          "ppf": 1.3156688400427798
         },
         {
          "actual": 4.018073218853064,
          "ppf": 0.7272618189673309
         },
         {
          "actual": 2.5832025119877717,
          "ppf": -0.27189107808323076
         },
         {
          "actual": 3.5706256778692946,
          "ppf": 0.41897687604109857
         },
         {
          "actual": 2.3570576718780045,
          "ppf": -0.41487034118920135
         },
         {
          "actual": 2.367862732744349,
          "ppf": -0.40473164291990776
         },
         {
          "actual": 2.27774861075064,
          "ppf": -0.4853071850959281
         },
         {
          "actual": 3.755434949105811,
          "ppf": 0.5468242409215182
         },
         {
          "actual": 4.085971027597944,
          "ppf": 0.7643539351781846
         },
         {
          "actual": 4.326856057113862,
          "ppf": 0.9166796009187173
         },
         {
          "actual": 3.6193174033119724,
          "ppf": 0.4552049702599654
         },
         {
          "actual": 3.6261338695998613,
          "ppf": 0.45858787522380506
         },
         {
          "actual": 5.079036407995264,
          "ppf": 1.5819225745520573
         },
         {
          "actual": 4.873696816915266,
          "ppf": 1.3902742634981458
         },
         {
          "actual": 0,
          "ppf": -2.0852485005737433
         },
         {
          "actual": 3.0154021259550787,
          "ppf": 0.012638949026156754
         },
         {
          "actual": 2.945514104772958,
          "ppf": -0.021424535330126695
         },
         {
          "actual": 1.7761351221353656,
          "ppf": -0.8641800783278981
         },
         {
          "actual": 0.5718189973096292,
          "ppf": -1.6463231926044557
         },
         {
          "actual": 3.4784467602383766,
          "ppf": 0.33143602170417397
         },
         {
          "actual": 5.395729187674594,
          "ppf": 1.8187856154230841
         },
         {
          "actual": 4.824833935683102,
          "ppf": 1.365113683769087
         },
         {
          "actual": 0.2612325696118641,
          "ppf": -1.8225472365638926
         },
         {
          "actual": 2.208125452504616,
          "ppf": -0.5305883034035793
         },
         {
          "actual": 1.5247769284731836,
          "ppf": -1.0341916889079361
         },
         {
          "actual": 4.327330844988682,
          "ppf": 0.9242557342369302
         },
         {
          "actual": 5.372083286755936,
          "ppf": 1.7804679864506479
         },
         {
          "actual": 4.40592350457474,
          "ppf": 0.9792411444452376
         },
         {
          "actual": 2.2273173205939223,
          "ppf": -0.512036921175111
         },
         {
          "actual": 2.292769365320146,
          "ppf": -0.47210581131540885
         },
         {
          "actual": 1.4569260350086837,
          "ppf": -1.0811315710544356
         },
         {
          "actual": 1.110654841149979,
          "ppf": -1.2917655106753154
         },
         {
          "actual": 1.6719732306330108,
          "ppf": -0.9336394587253133
         },
         {
          "actual": 2.2281734246862714,
          "ppf": -0.5113557670671623
         },
         {
          "actual": 1.1854822542394412,
          "ppf": -1.2345766488518697
         },
         {
          "actual": 2.504240444700736,
          "ppf": -0.3192130956138346
         },
         {
          "actual": 2.0954512283639137,
          "ppf": -0.6330327144276261
         },
         {
          "actual": 3.305109259690013,
          "ppf": 0.22449637493135982
         },
         {
          "actual": 4.9768065483611315,
          "ppf": 1.503018432349206
         },
         {
          "actual": 5.652181322531651,
          "ppf": 2.032051669765101
         },
         {
          "actual": 4.210926982861497,
          "ppf": 0.8475456340206227
         },
         {
          "actual": 3.269348111931,
          "ppf": 0.19036417556406873
         },
         {
          "actual": 1.9225898670006012,
          "ppf": -0.7264057714669732
         },
         {
          "actual": 1.5306353641187458,
          "ppf": -1.0319500846762282
         },
         {
          "actual": 3.610759175594427,
          "ppf": 0.44918169165453503
         },
         {
          "actual": 3.4362615167289308,
          "ppf": 0.3044703971101386
         },
         {
          "actual": 3.0455786299556427,
          "ppf": 0.03708773975793566
         },
         {
          "actual": 4.306967589086806,
          "ppf": 0.8992628939199182
         },
         {
          "actual": 2.1178879207608583,
          "ppf": -0.6146662981680346
         },
         {
          "actual": 2.8890420708285225,
          "ppf": -0.06622929966037201
         },
         {
          "actual": 3.52558993099964,
          "ppf": 0.368796006378618
         },
         {
          "actual": 4.7669860229180525,
          "ppf": 1.3152429797658085
         },
         {
          "actual": 1.5744047127295158,
          "ppf": -0.996568621255827
         },
         {
          "actual": 4.9694812217220266,
          "ppf": 1.484599713071908
         },
         {
          "actual": 2.861982593933774,
          "ppf": -0.08744622432089684
         },
         {
          "actual": 2.330677677840283,
          "ppf": -0.43337328546386766
         },
         {
          "actual": 5.47690979435395,
          "ppf": 1.9445654092779099
         },
         {
          "actual": 5.452834588466294,
          "ppf": 1.9108560939833021
         },
         {
          "actual": 4.517962270629839,
          "ppf": 1.080595719101567
         },
         {
          "actual": 4.585421405921898,
          "ppf": 1.175182259728929
         },
         {
          "actual": 1.1336602138097727,
          "ppf": -1.274075499205519
         },
         {
          "actual": 5.682399672015269,
          "ppf": 2.05916547404727
         },
         {
          "actual": 3.2957667352069007,
          "ppf": 0.21048439815547737
         },
         {
          "actual": 4.670029201604414,
          "ppf": 1.2299801031064592
         },
         {
          "actual": 1.3619792021928252,
          "ppf": -1.137060705513378
         },
         {
          "actual": 2.7344699605874148,
          "ppf": -0.18331029510757438
         },
         {
          "actual": 2.6955666097985014,
          "ppf": -0.20199959836528902
         },
         {
          "actual": 3.707966110755295,
          "ppf": 0.5089055726135815
         },
         {
          "actual": 6.014894401969654,
          "ppf": 2.406287548944527
         },
         {
          "actual": 0.889898040059108,
          "ppf": -1.451768790304463
         },
         {
          "actual": 0.7028391122566172,
          "ppf": -1.5903316049610496
         },
         {
          "actual": 2.3371843898179034,
          "ppf": -0.430618026005583
         },
         {
          "actual": 1.7661258658151247,
          "ppf": -0.8696619285026796
         },
         {
          "actual": 1.887300582121963,
          "ppf": -0.7613163080872797
         },
         {
          "actual": 1.8267764976798786,
          "ppf": -0.8070724133999141
         },
         {
          "actual": 2.7474008584709986,
          "ppf": -0.17123025267047226
         },
         {
          "actual": 2.330677677840283,
          "ppf": -0.4336358624624137
         },
         {
          "actual": 3.1168576753970587,
          "ppf": 0.10071119777970912
         },
         {
          "actual": 2.8912526126953813,
          "ppf": -0.06191794905065606
         },
         {
          "actual": 4.234478369225109,
          "ppf": 0.865309123844224
         },
         {
          "actual": 2.9255329037569204,
          "ppf": -0.03547323747061256
         },
         {
          "actual": 4.415146748797938,
          "ppf": 0.9971579089735758
         },
         {
          "actual": 0,
          "ppf": -2.471745002497742
         },
         {
          "actual": 5.267873762857799,
          "ppf": 1.7168132319880114
         },
         {
          "actual": 0.800660014612294,
          "ppf": -1.5231042930787235
         },
         {
          "actual": 2.574710188774269,
          "ppf": -0.27710339169260617
         },
         {
          "actual": 0.8450638885544887,
          "ppf": -1.492925659107599
         },
         {
          "actual": 2.295342054266205,
          "ppf": -0.4686349600826711
         },
         {
          "actual": 1.3509465300902908,
          "ppf": -1.151551725898352
         },
         {
          "actual": 1.8446333475171952,
          "ppf": -0.7943098987305373
         },
         {
          "actual": 3.662342968769984,
          "ppf": 0.4883345472846309
         },
         {
          "actual": 1.48940240914534,
          "ppf": -1.052523011368293
         },
         {
          "actual": 2.8816378668709186,
          "ppf": -0.07455615598090058
         },
         {
          "actual": 0.6136086702912802,
          "ppf": -1.6339377862520112
         },
         {
          "actual": 3.2585220978866793,
          "ppf": 0.1850121077059273
         },
         {
          "actual": 3.8370092474001436,
          "ppf": 0.6061709090171312
         },
         {
          "actual": 4.966361069607754,
          "ppf": 1.475842520367592
         },
         {
          "actual": 2.5165404779090896,
          "ppf": -0.306160817755586
         },
         {
          "actual": 1.654132195257249,
          "ppf": -0.9449722571676046
         },
         {
          "actual": 3.0214078815961893,
          "ppf": 0.01855562359381384
         },
         {
          "actual": 5.830923041467689,
          "ppf": 2.179762950959673
         },
         {
          "actual": 4.250424699132332,
          "ppf": 0.8751700380469158
         },
         {
          "actual": 2.015624936971306,
          "ppf": -0.6789037552695008
         },
         {
          "actual": 1.9807907491514183,
          "ppf": -0.6908408989213449
         },
         {
          "actual": 1.48940240914534,
          "ppf": -1.05450067107161
         },
         {
          "actual": 2.258027515736348,
          "ppf": -0.49251293005995117
         },
         {
          "actual": 5.079036407995264,
          "ppf": 1.5812963910654614
         },
         {
          "actual": 2.6993894801028406,
          "ppf": -0.19821973254329733
         },
         {
          "actual": 0.9716167529226515,
          "ppf": -1.3866705920525657
         },
         {
          "actual": 4.327489082664557,
          "ppf": 0.9252637836621181
         },
         {
          "actual": 1.2540393547517739,
          "ppf": -1.1981393924981782
         },
         {
          "actual": 0.24263309304478445,
          "ppf": -1.846991494945102
         },
         {
          "actual": 3.810875391786745,
          "ppf": 0.58916749292439
         },
         {
          "actual": 1.4587772359068962,
          "ppf": -1.0744023670705958
         },
         {
          "actual": 2.119362452339387,
          "ppf": -0.6122860236487988
         },
         {
          "actual": 0.4406806248568797,
          "ppf": -1.742686341795344
         },
         {
          "actual": 4.826651131878638,
          "ppf": 1.370290528236048
         },
         {
          "actual": 1.5536456078991159,
          "ppf": -1.012702608826757
         },
         {
          "actual": 2.829214093993524,
          "ppf": -0.10611817280032086
         },
         {
          "actual": 1.7312159243952228,
          "ppf": -0.8859127796615718
         },
         {
          "actual": 1.2836797056645544,
          "ppf": -1.1780479144470066
         },
         {
          "actual": 1.8042644901891107,
          "ppf": -0.8374051195517122
         },
         {
          "actual": 2.7840364716965658,
          "ppf": -0.14388190411476182
         },
         {
          "actual": 4.596698136947914,
          "ppf": 1.1797240233273665
         },
         {
          "actual": 1.2832510457705255,
          "ppf": -1.1802035207429806
         },
         {
          "actual": 4.312112996191242,
          "ppf": 0.9054580370753581
         },
         {
          "actual": 4.2273425721519144,
          "ppf": 0.8560487400963512
         },
         {
          "actual": 2.1138323358453515,
          "ppf": -0.6189306479208165
         },
         {
          "actual": 2.40261794727506,
          "ppf": -0.39482817531155523
         },
         {
          "actual": 0.9411358303022799,
          "ppf": -1.415207546626677
         },
         {
          "actual": 5.246199780460217,
          "ppf": 1.7090392518072266
         },
         {
          "actual": 0.6534966425812999,
          "ppf": -1.6055407444763525
         },
         {
          "actual": 3.8676249661970203,
          "ppf": 0.624658235758644
         },
         {
          "actual": 2.01603271386908,
          "ppf": -0.6759721371144984
         },
         {
          "actual": 1.5346933637659097,
          "ppf": -1.0277863272241428
         },
         {
          "actual": 0,
          "ppf": -2.2158706814932176
         },
         {
          "actual": 2.999935099881793,
          "ppf": -0.0031970067260279865
         },
         {
          "actual": 5.291101637896347,
          "ppf": 1.7231079725323812
         },
         {
          "actual": 1.4542054976681449,
          "ppf": -1.083600498702163
         },
         {
          "actual": 2.8816378668709186,
          "ppf": -0.07629404652124328
         },
         {
          "actual": 3.764003167734204,
          "ppf": 0.5562165985402694
         },
         {
          "actual": 3.273480800519117,
          "ppf": 0.1953562392738548
         },
         {
          "actual": 4.130937957188932,
          "ppf": 0.802611287592542
         },
         {
          "actual": 2.7400386097983525,
          "ppf": -0.17669038807075793
         },
         {
          "actual": 4.652520739188955,
          "ppf": 1.2160935972477853
         },
         {
          "actual": 1.5072757244447652,
          "ppf": -1.048476447744749
         },
         {
          "actual": 3.3330906902618755,
          "ppf": 0.23885998970248054
         },
         {
          "actual": 4.112677273333733,
          "ppf": 0.7876917042983529
         },
         {
          "actual": 1.3591106164673987,
          "ppf": -1.1415204189332337
         },
         {
          "actual": 4.101609080966352,
          "ppf": 0.7802973578603154
         },
         {
          "actual": 3.3924209616658407,
          "ppf": 0.2715190541489815
         },
         {
          "actual": 1.6111207304334623,
          "ppf": -0.9662931007888086
         },
         {
          "actual": 1.9444886952078622,
          "ppf": -0.7087033360683745
         },
         {
          "actual": 1.8730561185312646,
          "ppf": -0.7739125194294413
         },
         {
          "actual": 4.042509506312898,
          "ppf": 0.7362435830982328
         },
         {
          "actual": 4.327175087064787,
          "ppf": 0.9195942670826597
         },
         {
          "actual": 4.750613803306846,
          "ppf": 1.298122863684145
         },
         {
          "actual": 3.7060873429171104,
          "ppf": 0.5032002803775616
         },
         {
          "actual": 1.8446333475171952,
          "ppf": -0.7941460681052788
         },
         {
          "actual": 3.7961433215324782,
          "ppf": 0.5782556675899725
         },
         {
          "actual": 0,
          "ppf": -2.0301711798666555
         },
         {
          "actual": 1.5958491770612016,
          "ppf": -0.9755799717641004
         },
         {
          "actual": 5.730464222644987,
          "ppf": 2.0847232529003685
         },
         {
          "actual": 2.125833335734654,
          "ppf": -0.6069609962116758
         },
         {
          "actual": 0.8853080942609701,
          "ppf": -1.464397678890853
         },
         {
          "actual": 4.7821242517592815,
          "ppf": 1.3263938464677123
         },
         {
          "actual": 3.220294424156688,
          "ppf": 0.15560554000006108
         },
         {
          "actual": 3.5527029402395502,
          "ppf": 0.4070026966846205
         },
         {
          "actual": 2.9160784329721063,
          "ppf": -0.0388219426101697
         },
         {
          "actual": 2.464857963178304,
          "ppf": -0.3508809804551181
         },
         {
          "actual": 4.994938219805024,
          "ppf": 1.5263526289255016
         },
         {
          "actual": 3.7654914251763767,
          "ppf": 0.5569142743542967
         },
         {
          "actual": 5.307222395799818,
          "ppf": 1.7332165235002353
         },
         {
          "actual": 0.5235543863874436,
          "ppf": -1.692290978615207
         },
         {
          "actual": 3.216783896871297,
          "ppf": 0.15427500996384935
         },
         {
          "actual": 2.7153221790296413,
          "ppf": -0.19310312739557875
         },
         {
          "actual": 0.9716167529226515,
          "ppf": -1.3871396151703832
         },
         {
          "actual": 4.132915747758526,
          "ppf": 0.80393143420989
         },
         {
          "actual": 0.5564988179274424,
          "ppf": -1.6697087850030117
         },
         {
          "actual": 3.7991211884399325,
          "ppf": 0.5813662559568633
         },
         {
          "actual": 3.1701798333482154,
          "ppf": 0.13163549873138805
         },
         {
          "actual": 4.228431744331461,
          "ppf": 0.8595019370931778
         },
         {
          "actual": 4.77061875760811,
          "ppf": 1.3192269929348595
         },
         {
          "actual": 2.9566524801316008,
          "ppf": -0.015029459669285738
         },
         {
          "actual": 3.252244043556152,
          "ppf": 0.17602275881919544
         },
         {
          "actual": 1.41582107756945,
          "ppf": -1.1158727644549296
         },
         {
          "actual": 3.5147130874097336,
          "ppf": 0.3603660148825028
         },
         {
          "actual": 4.112677273333733,
          "ppf": 0.789241015171001
         },
         {
          "actual": 1.6111207304334623,
          "ppf": -0.9670558720672103
         },
         {
          "actual": 1.6762894176686924,
          "ppf": -0.9293054202759808
         },
         {
          "actual": 3.7012124913349735,
          "ppf": 0.5014376796046462
         },
         {
          "actual": 3.404522030499726,
          "ppf": 0.27791072884210816
         },
         {
          "actual": 2.0742195341182033,
          "ppf": -0.6442437885095157
         },
         {
          "actual": 2.796656263499515,
          "ppf": -0.13043005379109743
         },
         {
          "actual": 0.9643181889315787,
          "ppf": -1.3964264304689715
         },
         {
          "actual": 0.8712735334396325,
          "ppf": -1.4723004668060597
         },
         {
          "actual": 2.165870941762221,
          "ppf": -0.5636958861467638
         },
         {
          "actual": 2.734105603223304,
          "ppf": -0.18495131948637314
         },
         {
          "actual": 2.236960958605782,
          "ppf": -0.49764658448342797
         },
         {
          "actual": 1.8730561185312646,
          "ppf": -0.7739931427857496
         },
         {
          "actual": 2.953083573014556,
          "ppf": -0.017300524124562747
         },
         {
          "actual": 4.9768065483611315,
          "ppf": 1.5035733659388182
         },
         {
          "actual": 4.2273425721519144,
          "ppf": 0.8575150993249339
         },
         {
          "actual": 2.546646940527285,
          "ppf": -0.28935737221328706
         },
         {
          "actual": 2.775995758217981,
          "ppf": -0.1471431296088399
         },
         {
          "actual": 1.461312861919496,
          "ppf": -1.07344501853995
         },
         {
          "actual": 2.513413491580445,
          "ppf": -0.311990113602302
         },
         {
          "actual": 4.089537574151406,
          "ppf": 0.7710134198006345
         },
         {
          "actual": 3.9359701764341235,
          "ppf": 0.6710989678555616
         },
         {
          "actual": 5.946580688217783,
          "ppf": 2.2990284186533794
         },
         {
          "actual": 2.058870609422847,
          "ppf": -0.6500642785697548
         },
         {
          "actual": 4.526465768405659,
          "ppf": 1.0906138771571705
         },
         {
          "actual": 3.7300224265641226,
          "ppf": 0.5207084175446709
         },
         {
          "actual": 1.8243259622089927,
          "ppf": -0.8137111808017379
         },
         {
          "actual": 2.476600545459298,
          "ppf": -0.3363010474801035
         },
         {
          "actual": 3.485940568307048,
          "ppf": 0.3346574270076983
         },
         {
          "actual": 4.499739177683189,
          "ppf": 1.052523011368293
         },
         {
          "actual": 0.8898926542744081,
          "ppf": -1.4602199900582011
         },
         {
          "actual": 3.563947607832435,
          "ppf": 0.4118763358143116
         },
         {
          "actual": 3.414342888510374,
          "ppf": 0.2891704418816215
         },
         {
          "actual": 3.486966045205313,
          "ppf": 0.3397809389456708
         },
         {
          "actual": 5.349591794592737,
          "ppf": 1.7649386231463162
         },
         {
          "actual": 4.233523804885637,
          "ppf": 0.8638329012831846
         },
         {
          "actual": 1.5887943839964629,
          "ppf": -0.9821408419524302
         },
         {
          "actual": 1.190843714105826,
          "ppf": -1.233041571648191
         },
         {
          "actual": 1.813689485163655,
          "ppf": -0.823737157279197
         },
         {
          "actual": 3.7316065596784385,
          "ppf": 0.5268086728174985
         },
         {
          "actual": 2.9505454261991337,
          "ppf": -0.01855562359381384
         },
         {
          "actual": 3.6604044119261743,
          "ppf": 0.47926574402802385
         },
         {
          "actual": 6.077613092909417,
          "ppf": 2.450745144288553
         },
         {
          "actual": 2.483393860753399,
          "ppf": -0.33213054260698455
         },
         {
          "actual": 2.3162458334501395,
          "ppf": -0.4464732358835634
         },
         {
          "actual": 4.415146748797938,
          "ppf": 0.9975509599013311
         },
         {
          "actual": 3.0431709905990183,
          "ppf": 0.029374805791009418
         },
         {
          "actual": 1.8675054674773346,
          "ppf": -0.7807835812077253
         },
         {
          "actual": 3.8735960624957424,
          "ppf": 0.6298233523451114
         },
         {
          "actual": 0.4406806248568797,
          "ppf": -1.7405080235551948
         },
         {
          "actual": 3.4784467602383766,
          "ppf": 0.3299843576449483
         },
         {
          "actual": 2.788620522127883,
          "ppf": -0.1339263726750309
         },
         {
          "actual": 4.939078019318847,
          "ppf": 1.455550349761941
         },
         {
          "actual": 1.48940240914534,
          "ppf": -1.0547090857624117
         },
         {
          "actual": 2.9295384692556814,
          "ppf": -0.03248365940749129
         },
         {
          "actual": 1.8014761018887486,
          "ppf": -0.8391033707515387
         },
         {
          "actual": 4.422984692604889,
          "ppf": 1.0088184297223879
         },
         {
          "actual": 0.8898926542744081,
          "ppf": -1.4607408080670106
         },
         {
          "actual": 2.8928417975612537,
          "ppf": -0.05838589810966044
         },
         {
          "actual": 5.116680951397559,
          "ppf": 1.624028153959162
         },
         {
          "actual": 3.0969604442133845,
          "ppf": 0.07851169044101869
         },
         {
          "actual": 2.30723759014615,
          "ppf": -0.45460852852418665
         },
         {
          "actual": 4.031175939186586,
          "ppf": 0.7353035877310642
         },
         {
          "actual": 1.2836797056645544,
          "ppf": -1.177091622068032
         },
         {
          "actual": 4.889752381169043,
          "ppf": 1.4103443500337498
         },
         {
          "actual": 4.009392316094797,
          "ppf": 0.7245398762916396
         },
         {
          "actual": 2.6465457559327437,
          "ppf": -0.22835882479430486
         },
         {
          "actual": 3.994499806136329,
          "ppf": 0.7140136670253208
         },
         {
          "actual": 2.278350457465894,
          "ppf": -0.4828213495624902
         },
         {
          "actual": 3.294176826137194,
          "ppf": 0.20950697004049143
         },
         {
          "actual": 5.2012791606257185,
          "ppf": 1.6575484858636087
         },
         {
          "actual": 4.440289396922148,
          "ppf": 1.0259639539578531
         },
         {
          "actual": 3.8830286944467103,
          "ppf": 0.6381520073788928
         },
         {
          "actual": 2.941256596646396,
          "ppf": -0.023397013016767453
         },
         {
          "actual": 2.3570576718780045,
          "ppf": -0.41474008987634414
         },
         {
          "actual": 1.8136894851634682,
          "ppf": -0.8246603462702727
         },
         {
          "actual": 4.246099768918515,
          "ppf": 0.8740312732765849
         },
         {
          "actual": 3.996273186604174,
          "ppf": 0.7157110509955319
         },
         {
          "actual": 3.07267620861106,
          "ppf": 0.06030149354928097
         },
         {
          "actual": 2.7528414289331566,
          "ppf": -0.16832027679660205
         },
         {
          "actual": 0,
          "ppf": -2.1517049226897984
         },
         {
          "actual": 4.058889146530598,
          "ppf": 0.7462321122471762
         },
         {
          "actual": 4.812303970359312,
          "ppf": 1.3515839388676107
         },
         {
          "actual": 0.5272084215955456,
          "ppf": -1.686069117544772
         },
         {
          "actual": 0.7376876885318291,
          "ppf": -1.5827584519614306
         },
         {
          "actual": 1.7764968515019715,
          "ppf": -0.8627052942076782
         },
         {
          "actual": 2.173107807666011,
          "ppf": -0.560476651013482
         },
         {
          "actual": 2.2707126615395237,
          "ppf": -0.4868539460953913
         },
         {
          "actual": 5.2104916739440545,
          "ppf": 1.6692272418820115
         },
         {
          "actual": 2.519751734628905,
          "ppf": -0.3027808460486167
         },
         {
          "actual": 1.207959192727045,
          "ppf": -1.2120976474639948
         },
         {
          "actual": 4.381442079943254,
          "ppf": 0.9627725714411742
         },
         {
          "actual": 2.4454258927408845,
          "ppf": -0.36521647976626337
         },
         {
          "actual": 0,
          "ppf": -1.9027588461291787
         },
         {
          "actual": 1.0768658164981972,
          "ppf": -1.3032747217485228
         },
         {
          "actual": 1.645074051229452,
          "ppf": -0.9519997696178225
         },
         {
          "actual": 2.3496293226809373,
          "ppf": -0.42093485068371406
         },
         {
          "actual": 4.893357029023491,
          "ppf": 1.4158585065728058
         },
         {
          "actual": 1.1414638999504796,
          "ppf": -1.2716573615063664
         },
         {
          "actual": 5.00419917907908,
          "ppf": 1.533866174728773
         },
         {
          "actual": 3.747436281089974,
          "ppf": 0.5407277357487602
         },
         {
          "actual": 2.6993894801028406,
          "ppf": -0.19925586331122427
         },
         {
          "actual": 2.0871971932854736,
          "ppf": -0.6402044089825565
         },
         {
          "actual": 2.8903570426477767,
          "ppf": -0.0641333554204
         },
         {
          "actual": 2.5974395901204397,
          "ppf": -0.26451955564711216
         },
         {
          "actual": 5.267873762857799,
          "ppf": 1.718380541431212
         },
         {
          "actual": 0,
          "ppf": -2.0213354934962298
         },
         {
          "actual": 3.192829849314994,
          "ppf": 0.14056185763261467
         },
         {
          "actual": 2.40261794727506,
          "ppf": -0.3949573808205566
         },
         {
          "actual": 5.291101637896347,
          "ppf": 1.7202144204492842
         },
         {
          "actual": 2.9298482879775016,
          "ppf": -0.028657419443684055
         },
         {
          "actual": 0.42723807060776664,
          "ppf": -1.7564918723454943
         },
         {
          "actual": 2.662388424928325,
          "ppf": -0.21947406194614158
         },
         {
          "actual": 2.047346274471702,
          "ppf": -0.6590964456848939
         },
         {
          "actual": 0.24263309304478445,
          "ppf": -1.847320567937286
         },
         {
          "actual": 2.959540041453882,
          "ppf": -0.012579187242344265
         },
         {
          "actual": 1.9101199817567573,
          "ppf": -0.7414252407275398
         },
         {
          "actual": 3.0874940410611247,
          "ppf": 0.07120086192913047
         },
         {
          "actual": 2.4072718766665044,
          "ppf": -0.3916001723035274
         },
         {
          "actual": 4.9694812217220266,
          "ppf": 1.482982710383832
         },
         {
          "actual": 5.056104848188094,
          "ppf": 1.5646188737540951
         },
         {
          "actual": 4.476308482299479,
          "ppf": 1.0501344962540489
         },
         {
          "actual": 3.732252271108892,
          "ppf": 0.5290755444998136
         },
         {
          "actual": 3.036465965236363,
          "ppf": 0.0290758929969414
         },
         {
          "actual": 1.019187780240563,
          "ppf": -1.3447632705387969
         },
         {
          "actual": 2.471504047870768,
          "ppf": -0.3473877998846452
         },
         {
          "actual": 2.1113619416927167,
          "ppf": -0.6197993498531239
         },
         {
          "actual": 2.329712509190006,
          "ppf": -0.4381042667051854
         },
         {
          "actual": 4.560414197028577,
          "ppf": 1.1277568890576455
         },
         {
          "actual": 3.0080698627184708,
          "ppf": 0.0070215091042110725
         },
         {
          "actual": 2.861982593933774,
          "ppf": -0.08780614567410414
         },
         {
          "actual": 1.895168143092114,
          "ppf": -0.7556594761839446
         },
         {
          "actual": 2.904116977759645,
          "ppf": -0.05150344482062419
         },
         {
          "actual": 2.6429557960529717,
          "ppf": -0.23167220760668292
         },
         {
          "actual": 3.3432930555688536,
          "ppf": 0.24470529760791113
         },
         {
          "actual": 2.878745411600989,
          "ppf": -0.0763539778612112
         },
         {
          "actual": 4.0786800726842225,
          "ppf": 0.7570117219793565
         },
         {
          "actual": 3.430886416750674,
          "ppf": 0.3003419070212162
         },
         {
          "actual": 4.611393400634728,
          "ppf": 1.1927669916086852
         },
         {
          "actual": 3.5515479463962194,
          "ppf": 0.40324037269417673
         },
         {
          "actual": 2.3676290990870936,
          "ppf": -0.40609402391631544
         },
         {
          "actual": 1.400123600718765,
          "ppf": -1.1213466869959796
         },
         {
          "actual": 4.2549689066453205,
          "ppf": 0.8800005042206296
         },
         {
          "actual": 5.126111436885221,
          "ppf": 1.6359846423145887
         },
         {
          "actual": 4.309209409837035,
          "ppf": 0.9014138018665514
         },
         {
          "actual": 2.7501909225568784,
          "ppf": -0.1692294899971524
         },
         {
          "actual": 4.742300356663007,
          "ppf": 1.2809676741392226
         },
         {
          "actual": 1.7884989307062698,
          "ppf": -0.8532935154711101
         },
         {
          "actual": 1.4542054976681449,
          "ppf": -1.0849989059123217
         },
         {
          "actual": 1.9101199817567573,
          "ppf": -0.7415039036367984
         },
         {
          "actual": 0.9244714143053222,
          "ppf": -1.4333321479294332
         },
         {
          "actual": 2.0742195341182033,
          "ppf": -0.6437291028614638
         },
         {
          "actual": 3.7895897500363667,
          "ppf": 0.5714882472642975
         },
         {
          "actual": 2.546646940527285,
          "ppf": -0.28966894523993403
         },
         {
          "actual": 3.0080698627184708,
          "ppf": 0.006423925258880604
         },
         {
          "actual": 2.647563414383126,
          "ppf": -0.22523181973990472
         },
         {
          "actual": 4.408395140813608,
          "ppf": 0.9890365838567707
         },
         {
          "actual": 5.126111436885221,
          "ppf": 1.6296389859512486
         },
         {
          "actual": 1.5344471102121473,
          "ppf": -1.0290031414189489
         },
         {
          "actual": 2.935113659446365,
          "ppf": -0.025309805516355224
         },
         {
          "actual": 2.9505454261991337,
          "ppf": -0.018436089082767722
         },
         {
          "actual": 4.963672378006884,
          "ppf": 1.4652712545824143
         },
         {
          "actual": 2.401456414107966,
          "ppf": -0.3956035073288897
         },
         {
          "actual": 3.525221282941489,
          "ppf": 0.3660470226523902
         },
         {
          "actual": 2.101329975515347,
          "ppf": -0.6264023199310279
         },
         {
          "actual": 1.6111207304334623,
          "ppf": -0.9649596021065164
         },
         {
          "actual": 4.553499589835793,
          "ppf": 1.105574416146204
         },
         {
          "actual": 0.4850545878922319,
          "ppf": -1.6968116197766283
         },
         {
          "actual": 2.0194250721894336,
          "ppf": -0.6715481300346051
         },
         {
          "actual": 3.486612502611351,
          "ppf": 0.33813538911338353
         },
         {
          "actual": 4.580609684038563,
          "ppf": 1.1645210066302931
         },
         {
          "actual": 2.7140451597850013,
          "ppf": -0.19426000762448795
         },
         {
          "actual": 2.8002896828265476,
          "ppf": -0.12651365708355528
         },
         {
          "actual": 2.101329975515347,
          "ppf": -0.6269841047409602
         },
         {
          "actual": 0.31522608810320946,
          "ppf": -1.8131909858557447
         },
         {
          "actual": 3.318228793538564,
          "ppf": 0.22995384207040656
         },
         {
          "actual": 3.29596949635735,
          "ppf": 0.2125621019846492
         },
         {
          "actual": 2.6738915145162285,
          "ppf": -0.20962913759025825
         },
         {
          "actual": 1.9929204395037445,
          "ppf": -0.6843313693600456
         },
         {
          "actual": 5.291101637896347,
          "ppf": 1.72522147135779
         },
         {
          "actual": 1.1506435925227891,
          "ppf": -1.2631191687391605
         },
         {
          "actual": 4.7623121141135165,
          "ppf": 1.3084614050543637
         },
         {
          "actual": 2.607958441403425,
          "ppf": -0.25012736402944247
         },
         {
          "actual": 2.1138323358453515,
          "ppf": -0.6187135454236748
         },
         {
          "actual": 0.24739356931808645,
          "ppf": -1.828238485814321
         },
         {
          "actual": 1.207959192727045,
          "ppf": -1.2135938580450711
         },
         {
          "actual": 0.47106111793909206,
          "ppf": -1.7142103831761646
         },
         {
          "actual": 5.434423783758564,
          "ppf": 1.8636959659075245
         },
         {
          "actual": 3.511629548699993,
          "ppf": 0.3585174183051845
         },
         {
          "actual": 2.047346274471702,
          "ppf": -0.6582798719377876
         },
         {
          "actual": 1.41582107756945,
          "ppf": -1.1154273884852255
         },
         {
          "actual": 3.1790342374026803,
          "ppf": 0.13621794969476664
         },
         {
          "actual": 4.476308482299479,
          "ppf": 1.052003258388798
         },
         {
          "actual": 3.940476956967108,
          "ppf": 0.6798822581232191
         },
         {
          "actual": 0,
          "ppf": -2.042524994728928
         },
         {
          "actual": 2.307951042922311,
          "ppf": -0.4486529542927827
         },
         {
          "actual": 3.806111144019032,
          "ppf": 0.5858298766078558
         },
         {
          "actual": 2.941256596646396,
          "ppf": -0.023576333568745597
         },
         {
          "actual": 3.4071665065634305,
          "ppf": 0.27996093825210966
         },
         {
          "actual": 0.8448895707758223,
          "ppf": -1.4969444804867782
         },
         {
          "actual": 2.1420093120039825,
          "ppf": -0.5952916913117402
         },
         {
          "actual": 2.1069645853790506,
          "ppf": -0.6234965680239924
         },
         {
          "actual": 4.812303970359312,
          "ppf": 1.3578668934046418
         },
         {
          "actual": 2.946731452659591,
          "ppf": -0.01951190937052995
         },
         {
          "actual": 3.9464410384504722,
          "ppf": 0.6838782996125559
         },
         {
          "actual": 2.4365092409337885,
          "ppf": -0.3670695760906518
         },
         {
          "actual": 3.6181514381567292,
          "ppf": 0.45434349522333994
         },
         {
          "actual": 3.571429648206034,
          "ppf": 0.42178380732932574
         },
         {
          "actual": 0.45081653564633617,
          "ppf": -1.7278742293976341
         },
         {
          "actual": 3.912726621541984,
          "ppf": 0.6660178814391494
         },
         {
          "actual": 1.019187780240563,
          "ppf": -1.3435834361108479
         },
         {
          "actual": 2.6222159713964617,
          "ppf": -0.2437818033461615
         },
         {
          "actual": 1.190843714105826,
          "ppf": -1.2317645566388817
         },
         {
          "actual": 1.190843714105826,
          "ppf": -1.2312543126632756
         },
         {
          "actual": 3.303133595426553,
          "ppf": 0.2205760423567855
         },
         {
          "actual": 1.6788902946940731,
          "ppf": -0.9270071781680624
         },
         {
          "actual": 0,
          "ppf": -1.8865744640280788
         },
         {
          "actual": 3.5044896143962023,
          "ppf": 0.353169743860426
         },
         {
          "actual": 3.274789773553707,
          "ppf": 0.19956064831973663
         },
         {
          "actual": 1.3152452014187712,
          "ppf": -1.161582938519985
         },
         {
          "actual": 2.295342054266205,
          "ppf": -0.46816816187404475
         },
         {
          "actual": 2.861982593933774,
          "ppf": -0.08756619684432579
         },
         {
          "actual": 2.4468114018613196,
          "ppf": -0.3632369694163422
         },
         {
          "actual": 2.3548331477612194,
          "ppf": -0.41708569287518665
         },
         {
          "actual": 3.407166506563578,
          "ppf": 0.28182578648291123
         },
         {
          "actual": 4.072044797883134,
          "ppf": 0.7531178127833758
         },
         {
          "actual": 3.7300224265641226,
          "ppf": 0.5210506131593462
         },
         {
          "actual": 1.555358965606467,
          "ppf": -1.009912424763595
         },
         {
          "actual": 3.8172785774157,
          "ppf": 0.5942932121507577
         },
         {
          "actual": 0.31522608810320946,
          "ppf": -1.8141194871367148
         },
         {
          "actual": 2.0742195341182033,
          "ppf": -0.6435085754966908
         },
         {
          "actual": 3.0874940410611247,
          "ppf": 0.07293832246447894
         },
         {
          "actual": 2.8181857196267095,
          "ppf": -0.11393377047287762
         },
         {
          "actual": 2.935113659446365,
          "ppf": -0.025130477394046762
         },
         {
          "actual": 4.948151298876615,
          "ppf": 1.4602199900582016
         },
         {
          "actual": 4.343887413068349,
          "ppf": 0.9324389300159406
         },
         {
          "actual": 2.7849896157058542,
          "ppf": -0.14146716966970746
         },
         {
          "actual": 3.036465965236363,
          "ppf": 0.02853785649628744
         },
         {
          "actual": 3.8443965505447872,
          "ppf": 0.612502268747496
         },
         {
          "actual": 2.809641495659161,
          "ppf": -0.11928843598606174
         },
         {
          "actual": 3.2957667352069007,
          "ppf": 0.2102400223104164
         },
         {
          "actual": 3.5629898722161344,
          "ppf": 0.4106407595832718
         },
         {
          "actual": 1.5306353641187458,
          "ppf": -1.0317465595320425
         },
         {
          "actual": 4.688701867740345,
          "ppf": 1.2533602852141508
         },
         {
          "actual": 3.8735960624957424,
          "ppf": 0.629167691408947
         },
         {
          "actual": 1.9622361400609059,
          "ppf": -0.6966179649167789
         },
         {
          "actual": 4.794853591680055,
          "ppf": 1.3321767720957776
         },
         {
          "actual": 4.143840372398645,
          "ppf": 0.8112174541973942
         },
         {
          "actual": 3.634138580448783,
          "ppf": 0.4611783462457359
         },
         {
          "actual": 3.071037876046957,
          "ppf": 0.057009196617878614
         },
         {
          "actual": 2.8361726367311624,
          "ppf": -0.09806886877270955
         },
         {
          "actual": 4.089537574151406,
          "ppf": 0.7706112796545551
         },
         {
          "actual": 2.979823612783884,
          "ppf": -0.006125134209810264
         },
         {
          "actual": 3.1510533842988773,
          "ppf": 0.1189875228192553
         },
         {
          "actual": 1.3967986403472599,
          "ppf": -1.124040090375246
         },
         {
          "actual": 1.4040335063730105,
          "ppf": -1.1185496816478357
         },
         {
          "actual": 3.4432416982938943,
          "ppf": 0.3081027508741548
         },
         {
          "actual": 4.210926982861497,
          "ppf": 0.8473744860764374
         },
         {
          "actual": 2.367862732744349,
          "ppf": -0.4049262227308546
         },
         {
          "actual": 5.452834588466294,
          "ppf": 1.9130863301702974
         },
         {
          "actual": 1.8746408165910016,
          "ppf": -0.7701288759151361
         },
         {
          "actual": 1.8941997474630254,
          "ppf": -0.7567729898312029
         },
         {
          "actual": 3.6022761863693846,
          "ppf": 0.44429563668592953
         },
         {
          "actual": 2.734105603223304,
          "ppf": -0.18367492437766667
         },
         {
          "actual": 0.962882958733763,
          "ppf": -1.399442881198
         },
         {
          "actual": 2.416055066813084,
          "ppf": -0.3845771921097267
         },
         {
          "actual": 2.764664552880216,
          "ppf": -0.1578438722327483
         },
         {
          "actual": 2.30489332691127,
          "ppf": -0.4573933114054165
         },
         {
          "actual": 4.534669524374084,
          "ppf": 1.0950654290552908
         },
         {
          "actual": 1.190843714105826,
          "ppf": -1.232530524439359
         },
         {
          "actual": 1.1763336655265293,
          "ppf": -1.2534913674716783
         },
         {
          "actual": 3.2585220978866793,
          "ppf": 0.18215579628217873
         },
         {
          "actual": 2.935113659446365,
          "ppf": -0.02590757183487796
         },
         {
          "actual": 3.021565399570763,
          "ppf": 0.019870521090102965
         },
         {
          "actual": 0,
          "ppf": -2.7916062480330233
         },
         {
          "actual": 4.750613803306846,
          "ppf": 1.2979841019503269
         },
         {
          "actual": 4.585421405921898,
          "ppf": 1.1741101236289617
         },
         {
          "actual": 3.5920364450048563,
          "ppf": 0.4391569251071352
         },
         {
          "actual": 2.416055066813084,
          "ppf": -0.38296910000669654
         },
         {
          "actual": 3.193795557096354,
          "ppf": 0.1419500501217886
         },
         {
          "actual": 0.24263309304478445,
          "ppf": -1.8496296992261843
         },
         {
          "actual": 1.3591106164673987,
          "ppf": -1.14312689110925
         },
         {
          "actual": 5.457481091890467,
          "ppf": 1.9240022276589115
         },
         {
          "actual": 4.505955783948526,
          "ppf": 1.060248862885467
         },
         {
          "actual": 5.682399672015269,
          "ppf": 2.0596636139636035
         },
         {
          "actual": 3.159917515251133,
          "ppf": 0.1295260945428586
         },
         {
          "actual": 0.45081653564633617,
          "ppf": -1.7297384203104624
         },
         {
          "actual": 2.330677677840283,
          "ppf": -0.43448944434169334
         },
         {
          "actual": 2.1994201989635385,
          "ppf": -0.5413503163489356
         },
         {
          "actual": 2.7629227398045773,
          "ppf": -0.15984088967973384
         },
         {
          "actual": 2.6048498062257237,
          "ppf": -0.258459682111941
         },
         {
          "actual": 3.72702186783861,
          "ppf": 0.5187932469499218
         },
         {
          "actual": 1.092490731433998,
          "ppf": -1.3003464593387757
         },
         {
          "actual": 2.5137743513634954,
          "ppf": -0.31104919241954226
         },
         {
          "actual": 1.5471198961372394,
          "ppf": -1.0153005720421953
         },
         {
          "actual": 1.48940240914534,
          "ppf": -1.051691542967321
         },
         {
          "actual": 0.8898980400593245,
          "ppf": -1.4474966109386256
         },
         {
          "actual": 1.302196899677224,
          "ppf": -1.1707831883800448
         },
         {
          "actual": 4.671517513892042,
          "ppf": 1.2382984810274187
         },
         {
          "actual": 2.523015846842575,
          "ppf": -0.30240550777382863
         },
         {
          "actual": 3.3404391052279037,
          "ppf": 0.24328935812110675
         },
         {
          "actual": 1.957135132640716,
          "ppf": -0.6987522216865004
         },
         {
          "actual": 4.327330844988682,
          "ppf": 0.9213285520712324
         },
         {
          "actual": 3.4515332285336418,
          "ppf": 0.31833289278777815
         },
         {
          "actual": 5.682399672015269,
          "ppf": 2.0636672508310374
         },
         {
          "actual": 4.966250411567705,
          "ppf": 1.472830597619473
         },
         {
          "actual": 5.996357999307744,
          "ppf": 2.3469331993593268
         },
         {
          "actual": 5.63216837642496,
          "ppf": 2.0204145470465527
         },
         {
          "actual": 3.173827247332835,
          "ppf": 0.13380578294298498
         },
         {
          "actual": 4.089537574151406,
          "ppf": 0.77262322905548
         },
         {
          "actual": 7.149142457060044,
          "ppf": 3.8028557627051804
         },
         {
          "actual": 5.457481091890467,
          "ppf": 1.9316661937312485
         },
         {
          "actual": 1.8621571450735308,
          "ppf": -0.7888331182259251
         },
         {
          "actual": 0,
          "ppf": -2.193466661283239
         },
         {
          "actual": 2.4000106995462422,
          "ppf": -0.3970902258098699
         },
         {
          "actual": 2.3371843898179034,
          "ppf": -0.4305524644997494
         },
         {
          "actual": 1.7761351221353656,
          "ppf": -0.8657436659212251
         },
         {
          "actual": 3.5988886586338764,
          "ppf": 0.44389993611471446
         },
         {
          "actual": 1.8233983162936378,
          "ppf": -0.8147933682131251
         },
         {
          "actual": 2.491010814253977,
          "ppf": -0.326957032416185
         },
         {
          "actual": 4.4102706721743745,
          "ppf": 0.9899140533389595
         },
         {
          "actual": 3.2056857654214976,
          "ppf": 0.1488951723820915
         },
         {
          "actual": 5.40971630619104,
          "ppf": 1.8430581311121943
         },
         {
          "actual": 2.307951042922311,
          "ppf": -0.4515625671392487
         },
         {
          "actual": 5.457481091890467,
          "ppf": 1.930509351884678
         },
         {
          "actual": 0.8853080942609701,
          "ppf": -1.4636996221019225
         },
         {
          "actual": 2.662388424928325,
          "ppf": -0.21965770680439334
         },
         {
          "actual": 5.32725530635824,
          "ppf": 1.7399647323983027
         },
         {
          "actual": 0.962882958733763,
          "ppf": -1.401354587945033
         },
         {
          "actual": 1.8014761018887486,
          "ppf": -0.8393583171675358
         },
         {
          "actual": 2.8008615745994554,
          "ppf": -0.12416475399775143
         },
         {
          "actual": 4.056276299853509,
          "ppf": 0.7422120764291832
         },
         {
          "actual": 4.1838908512170665,
          "ppf": 0.8292026020953983
         },
         {
          "actual": 4.920146521368385,
          "ppf": 1.436846285150562
         },
         {
          "actual": 2.0513233432871747,
          "ppf": -0.65672217577672
         },
         {
          "actual": 4.560855939374677,
          "ppf": 1.131942822297551
         },
         {
          "actual": 3.56661519234154,
          "ppf": 0.4138285275240275
         },
         {
          "actual": 2.22076672232092,
          "ppf": -0.5183147517512645
         },
         {
          "actual": 1.1854822542394412,
          "ppf": -1.2348327780351438
         },
         {
          "actual": 2.7559276727224367,
          "ppf": -0.16710820880686103
         },
         {
          "actual": 4.385809781911914,
          "ppf": 0.9660072064653593
         },
         {
          "actual": 4.189479630419976,
          "ppf": 0.8350316168981561
         },
         {
          "actual": 1.8646898377910466,
          "ppf": -0.7845987395898143
         },
         {
          "actual": 2.3285033652446727,
          "ppf": -0.44073682606068115
         },
         {
          "actual": 3.3913640155045774,
          "ppf": 0.2704032075596656
         },
         {
          "actual": 3.954655495880637,
          "ppf": 0.689930839507252
         },
         {
          "actual": 0.6534966425812999,
          "ppf": -1.6077129462791755
         },
         {
          "actual": 4.8351139620628825,
          "ppf": 1.3765824472522086
         },
         {
          "actual": 2.2893845157161508,
          "ppf": -0.4750471325133986
         },
         {
          "actual": 4.415146748797938,
          "ppf": 0.9981408254206602
         },
         {
          "actual": 2.838990642287764,
          "ppf": -0.09662788812668333
         },
         {
          "actual": 0,
          "ppf": -3.056292795732075
         },
         {
          "actual": 2.6630950503583057,
          "ppf": -0.21580271009031424
         },
         {
          "actual": 1.1058025749688325,
          "ppf": -1.2963209068734636
         },
         {
          "actual": 1.826475985348099,
          "ppf": -0.8122974488292669
         },
         {
          "actual": 5.332058855009668,
          "ppf": 1.7539821199424261
         },
         {
          "actual": 4.010787547072765,
          "ppf": 0.7267948179402576
         },
         {
          "actual": 3.274789773553707,
          "ppf": 0.1993168188312662
         },
         {
          "actual": 3.1063791427976155,
          "ppf": 0.09236615000474664
         },
         {
          "actual": 4.40592350457474,
          "ppf": 0.9789516274355079
         },
         {
          "actual": 0.7414232059298687,
          "ppf": -1.577552246797172
         },
         {
          "actual": 1.8730561185312646,
          "ppf": -0.77262322905548
         },
         {
          "actual": 5.00419917907908,
          "ppf": 1.5354181621468315
         },
         {
          "actual": 2.4609337588863416,
          "ppf": -0.3531697438604261
         },
         {
          "actual": 3.5297202602521156,
          "ppf": 0.3782149274969275
         },
         {
          "actual": 1.8941997474630254,
          "ppf": -0.7570117219793565
         },
         {
          "actual": 3.2422646631503014,
          "ppf": 0.17256447486165372
         },
         {
          "actual": 2.2997624455724837,
          "ppf": -0.46104542641599977
         },
         {
          "actual": 4.0786800726842225,
          "ppf": 0.7574893157614776
         },
         {
          "actual": 4.397313163012543,
          "ppf": 0.9767347171210758
         },
         {
          "actual": 2.0832825368373236,
          "ppf": -0.6403511122388696
         },
         {
          "actual": 3.5159211944193802,
          "ppf": 0.3631093080170274
         },
         {
          "actual": 1.7824186562547168,
          "ppf": -0.860453364088507
         },
         {
          "actual": 4.667496156959897,
          "ppf": 1.2262961411832238
         },
         {
          "actual": 3.430886416750674,
          "ppf": 0.3008420561024198
         },
         {
          "actual": 4.742300356663007,
          "ppf": 1.2840959107694259
         },
         {
          "actual": 0.5272084215959517,
          "ppf": -1.6831056651644105
         },
         {
          "actual": 4.627999365497622,
          "ppf": 1.1994879074346594
         },
         {
          "actual": 1.8330370199147117,
          "ppf": -0.8036012662708625
         },
         {
          "actual": 0.45081653564633617,
          "ppf": -1.7281401748801983
         },
         {
          "actual": 2.7301210712002772,
          "ppf": -0.18811321875340503
         },
         {
          "actual": 3.9829564910215036,
          "ppf": 0.7015773818938692
         },
         {
          "actual": 2.863505390676539,
          "ppf": -0.08714629851502166
         },
         {
          "actual": 2.5974395901204397,
          "ppf": -0.26557174132790035
         },
         {
          "actual": 1.4488593785483677,
          "ppf": -1.0945213953989303
         },
         {
          "actual": 4.538000120394092,
          "ppf": 1.0995387875676765
         },
         {
          "actual": 3.4755091208109694,
          "ppf": 0.32588557430987775
         },
         {
          "actual": 4.519907578345008,
          "ppf": 1.0831706456529249
         },
         {
          "actual": 5.2104916739440545,
          "ppf": 1.6745456503503735
         },
         {
          "actual": 0.4620096778323629,
          "ppf": -1.7183805414312128
         },
         {
          "actual": 4.345817421058076,
          "ppf": 0.9365077032105983
         },
         {
          "actual": 3.8443965505447872,
          "ppf": 0.6109171354308398
         },
         {
          "actual": 2.912057338126114,
          "ppf": -0.04665728700231271
         },
         {
          "actual": 2.8346573223104765,
          "ppf": -0.10185241981817249
         },
         {
          "actual": 2.493999814131774,
          "ppf": -0.32531848328676627
         },
         {
          "actual": 3.8676249661970203,
          "ppf": 0.6245856068402174
         },
         {
          "actual": 4.538000120394092,
          "ppf": 1.0989920783581486
         },
         {
          "actual": 1.5778958275522266,
          "ppf": -0.9942149229482672
         },
         {
          "actual": 2.7090164942726727,
          "ppf": -0.19797596803284173
         },
         {
          "actual": 4.194051932815799,
          "ppf": 0.8386785812120832
         },
         {
          "actual": 0.24739356931808645,
          "ppf": -1.8234916830938332
         },
         {
          "actual": 2.2963165723551096,
          "ppf": -0.46683501420386947
         },
         {
          "actual": 1.2836797056645544,
          "ppf": -1.179484376302923
         },
         {
          "actual": 4.07856762193165,
          "ppf": 0.7549441405197949
         },
         {
          "actual": 0,
          "ppf": -2.372064791936076
         },
         {
          "actual": 3.2541992444698713,
          "ppf": 0.1776009185932141
         },
         {
          "actual": 4.061329289973509,
          "ppf": 0.7471007598873026
         },
         {
          "actual": 3.0596508753302882,
          "ppf": 0.04695639965042656
         },
         {
          "actual": 3.6604843397165356,
          "ppf": 0.48094215877460483
         },
         {
          "actual": 3.582760325578497,
          "ppf": 0.4331763723226088
         },
         {
          "actual": 1.1447619119876618,
          "ppf": -1.2687119210705666
         },
         {
          "actual": 4.271224654245525,
          "ppf": 0.8839680288262665
         },
         {
          "actual": 2.3315879372135466,
          "ppf": -0.4323232759833539
         },
         {
          "actual": 2.11466847256718,
          "ppf": -0.6172669397261873
         },
         {
          "actual": 5.008681282214612,
          "ppf": 1.543037589201506
         },
         {
          "actual": 4.675905157773869,
          "ppf": 1.2477439951286085
         },
         {
          "actual": 2.8096414956592155,
          "ppf": -0.11742294739316758
         },
         {
          "actual": 4.42228928281052,
          "ppf": 1.0050484288474182
         },
         {
          "actual": 3.9359701764341235,
          "ppf": 0.6713235320154228
         },
         {
          "actual": 4.51286390096851,
          "ppf": 1.0753607013226296
         },
         {
          "actual": 2.7714003493290837,
          "ppf": -0.15258200269498298
         },
         {
          "actual": 2.84963335256951,
          "ppf": -0.095127079900607
         },
         {
          "actual": 3.274789773553668,
          "ppf": 0.19761034331863309
         },
         {
          "actual": 3.7961433215324782,
          "ppf": 0.578185037498132
         },
         {
          "actual": 0.47106111793909206,
          "ppf": -1.7168132319880114
         },
         {
          "actual": 3.7210416125913253,
          "ppf": 0.5140136137455357
         },
         {
          "actual": 4.653760662790445,
          "ppf": 1.2177225112347398
         },
         {
          "actual": 2.5649492353683594,
          "ppf": -0.28052029020453806
         },
         {
          "actual": 0,
          "ppf": -2.133899864123675
         },
         {
          "actual": 3.764003167734204,
          "ppf": 0.5566351715173969
         },
         {
          "actual": 3.5515479463962194,
          "ppf": 0.40421283830730453
         },
         {
          "actual": 4.891864386669334,
          "ppf": 1.4106675261972952
         },
         {
          "actual": 2.8259154914885873,
          "ppf": -0.108221714733323
         },
         {
          "actual": 0,
          "ppf": -2.1816956809291086
         },
         {
          "actual": 4.3067611448214835,
          "ppf": 0.8989943229196501
         },
         {
          "actual": 1.8825112640842412,
          "ppf": -0.767238207124039
         },
         {
          "actual": 3.112544133731036,
          "ppf": 0.09686803755394649
         },
         {
          "actual": 2.546646940527285,
          "ppf": -0.28998054638952964
         },
         {
          "actual": 2.636083765945923,
          "ppf": -0.23689288990939542
         },
         {
          "actual": 3.5366411879010085,
          "ppf": 0.3900521811169925
         },
         {
          "actual": 4.553499589835793,
          "ppf": 1.1048040093846518
         },
         {
          "actual": 2.149666393535521,
          "ppf": -0.5893807548657898
         },
         {
          "actual": 1.922346261243514,
          "ppf": -0.7288196361322187
         },
         {
          "actual": 2.941256596646396,
          "ppf": -0.023815428818345915
         },
         {
          "actual": 2.602207205865219,
          "ppf": -0.26253976399664714
         },
         {
          "actual": 6.7577542843683736,
          "ppf": 3.104320121411663
         },
         {
          "actual": 2.3570576718780045,
          "ppf": -0.41454472609835574
         },
         {
          "actual": 1.867635337914399,
          "ppf": -0.779406427140942
         },
         {
          "actual": 3.3081218507902683,
          "ppf": 0.2262126024278804
         },
         {
          "actual": 3.4221652519395036,
          "ppf": 0.29272385465928763
         },
         {
          "actual": 3.93853495393319,
          "ppf": 0.6728214927492076
         },
         {
          "actual": 2.483393860753399,
          "ppf": -0.33168855624501187
         },
         {
          "actual": 1.7547492223271555,
          "ppf": -0.8716697601942595
         },
         {
          "actual": 3.4071665065634305,
          "ppf": 0.28045813565642025
         },
         {
          "actual": 4.798761935212211,
          "ppf": 1.3368353957774284
         },
         {
          "actual": 4.716496674713621,
          "ppf": 1.265378134679533
         },
         {
          "actual": 4.36334048375946,
          "ppf": 0.9492769060713265
         },
         {
          "actual": 3.0596508753302882,
          "ppf": 0.04677693155913778
         },
         {
          "actual": 2.1888224213191445,
          "ppf": -0.553010767094672
         },
         {
          "actual": 4.189479630419976,
          "ppf": 0.835455111407438
         },
         {
          "actual": 1.1527390269348001,
          "ppf": -1.2603375498574465
         },
         {
          "actual": 1.704974373161326,
          "ppf": -0.9019521807062755
         },
         {
          "actual": 2.4177984115057845,
          "ppf": -0.3772522884991143
         },
         {
          "actual": 1.3591106164673987,
          "ppf": -1.1422085460660742
         },
         {
          "actual": 2.7569108919710303,
          "ppf": -0.16486652869175977
         },
         {
          "actual": 0.6352952298258675,
          "ppf": -1.622912102389085
         },
         {
          "actual": 5.457481091890467,
          "ppf": 1.92667175713041
         },
         {
          "actual": 4.117500905714883,
          "ppf": 0.799728331081957
         },
         {
          "actual": 3.450976582221779,
          "ppf": 0.3161334626383089
         },
         {
          "actual": 2.8966573936430557,
          "ppf": -0.05449549689921589
         },
         {
          "actual": 2.863505390676539,
          "ppf": -0.08660645180053196
         },
         {
          "actual": 1.8005484149260347,
          "ppf": -0.8438714049190245
         },
         {
          "actual": 4.2758787850367455,
          "ppf": 0.886443747963768
         },
         {
          "actual": 1.1914646645205151,
          "ppf": -1.2251562207072937
         },
         {
          "actual": 3.6604044119261743,
          "ppf": 0.4793327747322003
         },
         {
          "actual": 2.504240444700872,
          "ppf": -0.3182071696735105
         },
         {
          "actual": 3.2541992444698713,
          "ppf": 0.17754021198563225
         },
         {
          "actual": 2.266713632215092,
          "ppf": -0.488065267526091
         },
         {
          "actual": 4.719038002595096,
          "ppf": 1.2669765948328107
         },
         {
          "actual": 2.946731452659591,
          "ppf": -0.01945214099580343
         },
         {
          "actual": 0.5564988179274424,
          "ppf": -1.6677849301285608
         },
         {
          "actual": 3.7316065596784385,
          "ppf": 0.5272892978308357
         },
         {
          "actual": 4.184885907397119,
          "ppf": 0.8304673779212784
         },
         {
          "actual": 2.662388424928325,
          "ppf": -0.21984135907099564
         },
         {
          "actual": 3.732252271108892,
          "ppf": 0.5300380689404435
         },
         {
          "actual": 3.222372115771981,
          "ppf": 0.15850947438052035
         },
         {
          "actual": 1.5841348642586723,
          "ppf": -0.9889391342502468
         },
         {
          "actual": 0.7414232059298687,
          "ppf": -1.5761021451747872
         },
         {
          "actual": 3.2422646631503014,
          "ppf": 0.17183667937331326
         },
         {
          "actual": 5.094379227840735,
          "ppf": 1.604241051100674
         },
         {
          "actual": 5.47690979435395,
          "ppf": 1.9437743821243672
         },
         {
          "actual": 2.5445169643633925,
          "ppf": -0.2905414994414432
         },
         {
          "actual": 2.29445160200771,
          "ppf": -0.4698357676877541
         },
         {
          "actual": 3.4275694325330575,
          "ppf": 0.2964682874015636
         },
         {
          "actual": 2.5614077876251717,
          "ppf": -0.28238543182883
         },
         {
          "actual": 5.32725530635824,
          "ppf": 1.7435053472048074
         },
         {
          "actual": 1.6719732306330108,
          "ppf": -0.9345638587892041
         },
         {
          "actual": 1.2700208467523193,
          "ppf": -1.1850134969090766
         },
         {
          "actual": 3.3242824949095997,
          "ppf": 0.23277723219086668
         },
         {
          "actual": 2.2191501946085035,
          "ppf": -0.5275639953859073
         },
         {
          "actual": 4.452561684872424,
          "ppf": 1.0361318102302288
         },
         {
          "actual": 3.173968781893404,
          "ppf": 0.13452935058519355
         },
         {
          "actual": 5.056104848188094,
          "ppf": 1.5648221288899307
         },
         {
          "actual": 1.883642273126398,
          "ppf": -0.7649142673122263
         },
         {
          "actual": 4.920146521368385,
          "ppf": 1.4358404359447094
         },
         {
          "actual": 1.1489804491374012,
          "ppf": -1.2677770402525526
         },
         {
          "actual": 1.8267764976796335,
          "ppf": -0.8084801684287369
         },
         {
          "actual": 5.2104916739440545,
          "ppf": 1.6694679650521944
         },
         {
          "actual": 3.229188671454565,
          "ppf": 0.16504825552733327
         },
         {
          "actual": 5.126111436885221,
          "ppf": 1.6350740827227304
         },
         {
          "actual": 6.472675765582876,
          "ppf": 2.8128170019868843
         },
         {
          "actual": 0.8712735334396325,
          "ppf": -1.4738921027813336
         },
         {
          "actual": 0,
          "ppf": -2.046874893688191
         },
         {
          "actual": 4.271224654245525,
          "ppf": 0.8822029701778392
         },
         {
          "actual": 4.607896344872914,
          "ppf": 1.1856166739342315
         },
         {
          "actual": 1.8310249833783343,
          "ppf": -0.8051703453826015
         },
         {
          "actual": 2.8259154914885873,
          "ppf": -0.10719993513172384
         },
         {
          "actual": 3.100877644527596,
          "ppf": 0.08270829841293773
         },
         {
          "actual": 3.5706256778692946,
          "ppf": 0.42060840969479163
         },
         {
          "actual": 3.3330906902618755,
          "ppf": 0.23861405183284495
         },
         {
          "actual": 3.379504410488977,
          "ppf": 0.2694116265362401
         },
         {
          "actual": 4.7669860229180525,
          "ppf": 1.317374672002233
         },
         {
          "actual": 4.553499589835793,
          "ppf": 1.10546431786517
         },
         {
          "actual": 3.7269252123245127,
          "ppf": 0.5155145140929577
         },
         {
          "actual": 3.269348111931,
          "ppf": 0.19127699982651528
         },
         {
          "actual": 4.734373938089259,
          "ppf": 1.2736719589216716
         },
         {
          "actual": 4.640715693945705,
          "ppf": 1.2057688119513332
         },
         {
          "actual": 4.560855939374677,
          "ppf": 1.1310360760730125
         },
         {
          "actual": 3.939259920879992,
          "ppf": 0.6767984146400831
         },
         {
          "actual": 3.15683531513783,
          "ppf": 0.12494764493780341
         },
         {
          "actual": 3.814435502562004,
          "ppf": 0.5900918217152552
         },
         {
          "actual": 3.755434949105811,
          "ppf": 0.5469630334756241
         },
         {
          "actual": 5.682399672015269,
          "ppf": 2.0611611081229975
         },
         {
          "actual": 2.144230732715247,
          "ppf": -0.5937229185958588
         },
         {
          "actual": 2.8259154914885873,
          "ppf": -0.10756055039178058
         },
         {
          "actual": 1.184689335505295,
          "ppf": -1.235986363131545
         },
         {
          "actual": 2.309284072616099,
          "ppf": -0.44752980349881566
         },
         {
          "actual": 3.485940568307048,
          "ppf": 0.3338359559520176
         },
         {
          "actual": 5.79017903794886,
          "ppf": 2.1645868533025796
         },
         {
          "actual": 5.730464222644987,
          "ppf": 2.0789831411488717
         },
         {
          "actual": 4.226442879907642,
          "ppf": 0.854928647406585
         },
         {
          "actual": 5.00419917907908,
          "ppf": 1.5356124207929596
         },
         {
          "actual": 3.806111144019032,
          "ppf": 0.5853333435999827
         },
         {
          "actual": 1.400123600718765,
          "ppf": -1.121010583226873
         },
         {
          "actual": 2.155914046620168,
          "ppf": -0.5762085637758211
         },
         {
          "actual": 5.32725530635824,
          "ppf": 1.741323924814969
         },
         {
          "actual": 3.5011703423273075,
          "ppf": 0.3469435180831234
         },
         {
          "actual": 2.534831331439471,
          "ppf": -0.2984045375185354
         },
         {
          "actual": 4.783392376827101,
          "ppf": 1.327546882267484
         },
         {
          "actual": 1.9807907491514183,
          "ppf": -0.6894002353230355
         },
         {
          "actual": 2.165870941762221,
          "ppf": -0.5654479216310337
         },
         {
          "actual": 4.519907578345008,
          "ppf": 1.085214233861237
         },
         {
          "actual": 3.777553815915021,
          "ppf": 0.5696599124065959
         },
         {
          "actual": 3.412199584636813,
          "ppf": 0.2882982338069967
         },
         {
          "actual": 2.9414615240161925,
          "ppf": -0.022918828540626702
         },
         {
          "actual": 4.476308482299479,
          "ppf": 1.0510684184943069
         },
         {
          "actual": 0.24739356931808645,
          "ppf": -1.8295112836421046
         },
         {
          "actual": 4.610246822043704,
          "ppf": 1.1877916914170092
         },
         {
          "actual": 6.154450501604175,
          "ppf": 2.617088524808992
         },
         {
          "actual": 2.627462076363298,
          "ppf": -0.24144321282785516
         },
         {
          "actual": 4.072044797883134,
          "ppf": 0.752483157031077
         },
         {
          "actual": 5.933023735598304,
          "ppf": 2.2973522381609044
         },
         {
          "actual": 5.008681282214612,
          "ppf": 1.5424482941136486
         },
         {
          "actual": 3.3734558660580816,
          "ppf": 0.26359139968835166
         },
         {
          "actual": 4.406467557868276,
          "ppf": 0.9815602422095355
         },
         {
          "actual": 3.527270879241999,
          "ppf": 0.3708435708173774
         },
         {
          "actual": 4.740323394705887,
          "ppf": 1.2770411555243522
         },
         {
          "actual": 4.412287857694498,
          "ppf": 0.9921599458641617
         },
         {
          "actual": 3.830672776375864,
          "ppf": 0.6015815126889648
         },
         {
          "actual": 3.087486497943529,
          "ppf": 0.070182450838194
         },
         {
          "actual": 3.101744849913636,
          "ppf": 0.08702633038914846
         },
         {
          "actual": 4.343887413068349,
          "ppf": 0.9325312306589602
         },
         {
          "actual": 1.184689335505295,
          "ppf": -1.2386844780876134
         },
         {
          "actual": 2.165870941762221,
          "ppf": -0.5631356002989619
         },
         {
          "actual": 5.434423783758564,
          "ppf": 1.8681254820721738
         },
         {
          "actual": 3.235040391212128,
          "ppf": 0.1685021082813953
         },
         {
          "actual": 3.730585057156037,
          "ppf": 0.5239274716163909
         },
         {
          "actual": 2.504240444700872,
          "ppf": -0.3178300304980154
         },
         {
          "actual": 2.829776078930752,
          "ppf": -0.10359454132685003
         },
         {
          "actual": 4.345817421058076,
          "ppf": 0.9360445623198504
         },
         {
          "actual": 0.4406806248568797,
          "ppf": -1.741323924814969
         },
         {
          "actual": 1.1489804491374012,
          "ppf": -1.2672433197611062
         },
         {
          "actual": 3.5515479463962194,
          "ppf": 0.4027866859340788
         },
         {
          "actual": 2.2309968403440448,
          "ppf": -0.504217876667547
         },
         {
          "actual": 1.5979080232770713,
          "ppf": -0.972890611504036
         },
         {
          "actual": 5.007124244287206,
          "ppf": 1.5397053074004452
         },
         {
          "actual": 3.4755091208110067,
          "ppf": 0.32733528367265124
         },
         {
          "actual": 1.184689335505295,
          "ppf": -1.2407462532429756
         },
         {
          "actual": 3.5033988220150043,
          "ppf": 0.35170726570966626
         },
         {
          "actual": 2.264533038582538,
          "ppf": -0.4900183492818617
         },
         {
          "actual": 5.927412132379378,
          "ppf": 2.26124243504201
         },
         {
          "actual": 3.1202370057129203,
          "ppf": 0.10329415326502098
         },
         {
          "actual": 2.7090164942726727,
          "ppf": -0.1959044430653513
         },
         {
          "actual": 5.678542046640845,
          "ppf": 2.0512638712292675
         },
         {
          "actual": 0,
          "ppf": -2.1596371208294465
         },
         {
          "actual": 4.395893626640973,
          "ppf": 0.9726987835614389
         },
         {
          "actual": 2.860194103043045,
          "ppf": -0.08864600648312838
         },
         {
          "actual": 3.252244043556152,
          "ppf": 0.17608344914106866
         },
         {
          "actual": 3.4546110113738218,
          "ppf": 0.32009354582203325
         },
         {
          "actual": 3.9027647861770336,
          "ppf": 0.6576120924965894
         },
         {
          "actual": 3.6661446441586354,
          "ppf": 0.4906922590084009
         },
         {
          "actual": 4.246099768918515,
          "ppf": 0.8730685876388049
         },
         {
          "actual": 4.894313468844853,
          "ppf": 1.4194495578873627
         },
         {
          "actual": 4.572738788716909,
          "ppf": 1.1465793032258274
         },
         {
          "actual": 4.458771751233518,
          "ppf": 1.039510796249148
         },
         {
          "actual": 2.416121928723649,
          "ppf": -0.3811692116086057
         },
         {
          "actual": 2.6733824094705665,
          "ppf": -0.21078988564118561
         },
         {
          "actual": 3.302705693436586,
          "ppf": 0.2200862402956396
         },
         {
          "actual": 3.379504410488977,
          "ppf": 0.26873006826848855
         },
         {
          "actual": 3.5366411879010085,
          "ppf": 0.3901811446380682
         },
         {
          "actual": 0.7730561326238392,
          "ppf": -1.5467822953555237
         },
         {
          "actual": 4.4354736003846735,
          "ppf": 1.0223293915100546
         },
         {
          "actual": 5.126111436885221,
          "ppf": 1.630767329429512
         },
         {
          "actual": 5.434423783758564,
          "ppf": 1.8715579155329265
         },
         {
          "actual": 1.922346261243514,
          "ppf": -0.7283521054137224
         },
         {
          "actual": 2.1006601633959288,
          "ppf": -0.6303334980914848
         },
         {
          "actual": 0.47106111793909206,
          "ppf": -1.711877708109157
         },
         {
          "actual": 2.796656263499515,
          "ppf": -0.1300081929235468
         },
         {
          "actual": 2.7301210712002772,
          "ppf": -0.18799157266326694
         },
         {
          "actual": 2.144230732715247,
          "ppf": -0.5920843987860894
         },
         {
          "actual": 2.7195064411967613,
          "ppf": -0.1914595837819642
         },
         {
          "actual": 4.611393400634728,
          "ppf": 1.193497564253565
         },
         {
          "actual": 1.092490731433998,
          "ppf": -1.3006248611822566
         },
         {
          "actual": 0,
          "ppf": -2.8097085401386814
         },
         {
          "actual": 2.999935099881793,
          "ppf": -0.0018823476596445139
         },
         {
          "actual": 3.112544133731036,
          "ppf": 0.09704815328988022
         },
         {
          "actual": 2.0584835333025,
          "ppf": -0.6533896067673108
         },
         {
          "actual": 3.8172785774157,
          "ppf": 0.5945071220649698
         },
         {
          "actual": 4.010787547072765,
          "ppf": 0.7265613768596327
         },
         {
          "actual": 0.47106111793909206,
          "ppf": -1.717335199832533
         },
         {
          "actual": 4.645197380835424,
          "ppf": 1.210106911050866
         },
         {
          "actual": 3.6607880322091897,
          "ppf": 0.48497108641768544
         },
         {
          "actual": 3.8664493222305776,
          "ppf": 0.6219006471615917
         },
         {
          "actual": 4.3700670581816015,
          "ppf": 0.9529403259923238
         },
         {
          "actual": 4.675905157773869,
          "ppf": 1.248395030225063
         },
         {
          "actual": 4.563754280853919,
          "ppf": 1.1369466511076673
         },
         {
          "actual": 1.184167220522356,
          "ppf": -1.2454046360115527
         },
         {
          "actual": 1.4040335063730105,
          "ppf": -1.117098691174942
         },
         {
          "actual": 4.2758787850367455,
          "ppf": 0.8871520947028851
         },
         {
          "actual": 1.7880608186441593,
          "ppf": -0.8538956668729318
         },
         {
          "actual": 0.8760325692677081,
          "ppf": -1.4710651014020748
         },
         {
          "actual": 3.0874940410611247,
          "ppf": 0.07323790673478209
         },
         {
          "actual": 4.004523305923497,
          "ppf": 0.720815630083839
         },
         {
          "actual": 2.7753734437569673,
          "ppf": -0.15022461294274417
         },
         {
          "actual": 1.4865206810072835,
          "ppf": -1.0618226426809931
         },
         {
          "actual": 2.4995585651112107,
          "ppf": -0.32298820562866426
         },
         {
          "actual": 1.7824186562547168,
          "ppf": -0.8606264345036375
         },
         {
          "actual": 3.0455786299556427,
          "ppf": 0.037147537969600755
         },
         {
          "actual": 3.5988886586338764,
          "ppf": 0.4437021118944455
         },
         {
          "actual": 4.742300356663007,
          "ppf": 1.286416187293919
         },
         {
          "actual": 1.4865206810076335,
          "ppf": -1.0596200857315374
         },
         {
          "actual": 2.2893845157161508,
          "ppf": -0.47564927219119146
         },
         {
          "actual": 3.515770589902857,
          "ppf": 0.3619606213943055
         },
         {
          "actual": 2.8181857196267095,
          "ppf": -0.11411421076306562
         },
         {
          "actual": 1.936786957678179,
          "ppf": -0.7205831968523079
         },
         {
          "actual": 5.3375101979872195,
          "ppf": 1.7581712073945246
         },
         {
          "actual": 2.6401929978427225,
          "ppf": -0.23492670634293614
         },
         {
          "actual": 4.112221419876395,
          "ppf": 0.7866327380731345
         },
         {
          "actual": 5.40971630619104,
          "ppf": 1.8433848236875776
         },
         {
          "actual": 1.9349474337953714,
          "ppf": -0.7219783809853768
         },
         {
          "actual": 4.026482643713817,
          "ppf": 0.7314719932774221
         },
         {
          "actual": 2.6401929978427225,
          "ppf": -0.2346809973983267
         },
         {
          "actual": 1.813689485163655,
          "ppf": -0.823821054534858
         },
         {
          "actual": 2.740038609798409,
          "ppf": -0.17523384354742733
         },
         {
          "actual": 0.35927654040888063,
          "ppf": -1.7828054991262081
         },
         {
          "actual": 2.095451228363819,
          "ppf": -0.6335438956090069
         },
         {
          "actual": 3.5298006968193123,
          "ppf": 0.3816833391904764
         },
         {
          "actual": 3.5404671162817754,
          "ppf": 0.39469897639350415
         },
         {
          "actual": 2.598058956134091,
          "ppf": -0.2636532696793073
         },
         {
          "actual": 4.415146748797938,
          "ppf": 0.9960778123863053
         },
         {
          "actual": 4.511890874206298,
          "ppf": 1.074721702153037
         },
         {
          "actual": 0,
          "ppf": -2.227146376956036
         },
         {
          "actual": 1.7860079477610333,
          "ppf": -0.8593290339511912
         },
         {
          "actual": 1.5072757244447652,
          "ppf": -1.0473382093850545
         },
         {
          "actual": 4.343887413068349,
          "ppf": 0.9323466373160658
         },
         {
          "actual": 4.672300308415361,
          "ppf": 1.2413916407123682
         },
         {
          "actual": 4.672300308415361,
          "ppf": 1.24113342368788
         },
         {
          "actual": 3.5086276758987616,
          "ppf": 0.3543784478522164
         },
         {
          "actual": 3.071037876046957,
          "ppf": 0.057428181165921306
         },
         {
          "actual": 3.4755091208110067,
          "ppf": 0.327146152193654
         },
         {
          "actual": 2.487265415148762,
          "ppf": -0.3310572595151509
         },
         {
          "actual": 4.553499589835793,
          "ppf": 1.106455685288989
         },
         {
          "actual": 2.249769883913362,
          "ppf": -0.4947404146899447
         },
         {
          "actual": 1.38908168796827,
          "ppf": -1.1317160485052578
         },
         {
          "actual": 3.4546110113738218,
          "ppf": 0.32128883968990135
         },
         {
          "actual": 3.0969604442133845,
          "ppf": 0.07689337228816495
         },
         {
          "actual": 0.31522608810320946,
          "ppf": -1.8138098129413298
         },
         {
          "actual": 2.929679430855955,
          "ppf": -0.030570483481122762
         },
         {
          "actual": 2.2135502908057956,
          "ppf": -0.5296942538840562
         },
         {
          "actual": 2.775995758217981,
          "ppf": -0.14744517357655465
         },
         {
          "actual": 2.8928417975612537,
          "ppf": -0.06030149354928097
         },
         {
          "actual": 3.6604843397165356,
          "ppf": 0.481411797013421
         },
         {
          "actual": 1.8629955321795033,
          "ppf": -0.7881807559543674
         },
         {
          "actual": 3.3525204112417732,
          "ppf": 0.24716897188797401
         },
         {
          "actual": 3.7900167683572152,
          "ppf": 0.5738115814230498
         },
         {
          "actual": 2.999935099881793,
          "ppf": -0.0030177347604732918
         },
         {
          "actual": 2.4072718766665044,
          "ppf": -0.3913421086984284
         },
         {
          "actual": 5.866715366579832,
          "ppf": 2.2193641007400164
         },
         {
          "actual": 1.207959192727045,
          "ppf": -1.2134690700569402
         },
         {
          "actual": 2.460546263024324,
          "ppf": -0.354823890297096
         },
         {
          "actual": 1.9855241969124224,
          "ppf": -0.685993828680849
         },
         {
          "actual": 1.8045094508157014,
          "ppf": -0.8338466281390743
         },
         {
          "actual": 2.5534652194137726,
          "ppf": -0.28499828300925534
         },
         {
          "actual": 3.544521881086687,
          "ppf": 0.39702556764553715
         },
         {
          "actual": 6.077613092909417,
          "ppf": 2.4807185987241755
         },
         {
          "actual": 3.9338173067820743,
          "ppf": 0.6678839228134398
         },
         {
          "actual": 4.752862317020555,
          "ppf": 1.3032747217485232
         },
         {
          "actual": 3.1701798333482154,
          "ppf": 0.1311532978996187
         },
         {
          "actual": 3.8221240203354467,
          "ppf": 0.5972190081634124
         },
         {
          "actual": 1.5413307380312489,
          "ppf": -1.019712806112024
         },
         {
          "actual": 3.3598270107883015,
          "ppf": 0.24883279961977786
         },
         {
          "actual": 3.071017544663841,
          "ppf": 0.055572753688732816
         },
         {
          "actual": 1.5842428872786547,
          "ppf": -0.9837876754164723
         },
         {
          "actual": 3.97391241462592,
          "ppf": 0.7008132736613402
         },
         {
          "actual": 1.510503602791671,
          "ppf": -1.0437255359002808
         },
         {
          "actual": 2.8181857196267095,
          "ppf": -0.11327218776617393
         },
         {
          "actual": 3.301513556487804,
          "ppf": 0.2172097151597787
         },
         {
          "actual": 4.435165258708312,
          "ppf": 1.0205171651451173
         },
         {
          "actual": 1.96872982732176,
          "ppf": -0.6931945392440824
         },
         {
          "actual": 1.3837025781264733,
          "ppf": -1.132850500149186
         },
         {
          "actual": 3.0581600242692293,
          "ppf": 0.04324769126915878
         },
         {
          "actual": 1.207959192727045,
          "ppf": -1.2148427787485083
         },
         {
          "actual": 3.087486497943529,
          "ppf": 0.07066169398446746
         },
         {
          "actual": 2.7153221790296413,
          "ppf": -0.1924943469539506
         },
         {
          "actual": 3.1202370057129203,
          "ppf": 0.10335423013088085
         },
         {
          "actual": 4.37833734981017,
          "ppf": 0.9570888297774333
         },
         {
          "actual": 5.246199780460217,
          "ppf": 1.7051906828026162
         },
         {
          "actual": 1.8330370199147117,
          "ppf": -0.8040139898883802
         },
         {
          "actual": 1.3910336509801593,
          "ppf": -1.1292253678986417
         },
         {
          "actual": 0.993415400820771,
          "ppf": -1.3610285709936554
         },
         {
          "actual": 3.8370092474001436,
          "ppf": 0.6060272974595228
         },
         {
          "actual": 3.284118356140367,
          "ppf": 0.20480587808939532
         },
         {
          "actual": 5.096757941283815,
          "ppf": 1.6105481989012147
         },
         {
          "actual": 2.979823612783884,
          "ppf": -0.006184892375024508
         },
         {
          "actual": 2.6630950503583057,
          "ppf": -0.2150687902245472
         },
         {
          "actual": 0.6352952298258675,
          "ppf": -1.6246987570689257
         },
         {
          "actual": 1.7280172038482728,
          "ppf": -0.890611680508046
         },
         {
          "actual": 1.8730561185312646,
          "ppf": -0.7745576472227232
         },
         {
          "actual": 1.608476149863558,
          "ppf": -0.9688697128711603
         },
         {
          "actual": 2.389155448623168,
          "ppf": -0.3992248787069798
         },
         {
          "actual": 3.08408834317634,
          "ppf": 0.06592986145593503
         },
         {
          "actual": 5.00419917907908,
          "ppf": 1.5317382059237636
         },
         {
          "actual": 2.3480246078458396,
          "ppf": -0.42335191145901113
         },
         {
          "actual": 1.0219595756784323,
          "ppf": -1.3307268662574272
         },
         {
          "actual": 2.474592223183557,
          "ppf": -0.33883147127555907
         },
         {
          "actual": 3.5298006968193123,
          "ppf": 0.38065518476038057
         },
         {
          "actual": 2.829776078930752,
          "ppf": -0.10497644724073174
         },
         {
          "actual": 3.4071665065634305,
          "ppf": 0.2791531399937281
         },
         {
          "actual": 3.55267175993037,
          "ppf": 0.4064185113756034
         },
         {
          "actual": 1.7860079477610333,
          "ppf": -0.858810478591568
         },
         {
          "actual": 0.7414232059298687,
          "ppf": -1.5742425850450195
         },
         {
          "actual": 4.312751948329676,
          "ppf": 0.9059983876624719
         },
         {
          "actual": 1.7309154373983622,
          "ppf": -0.8873292509476783
         },
         {
          "actual": 0.8760325692677081,
          "ppf": -1.4701840701431386
         },
         {
          "actual": 2.30723759014615,
          "ppf": -0.4553375348546093
         },
         {
          "actual": 5.007124244287206,
          "ppf": 1.5395098226017323
         },
         {
          "actual": 3.37288826903426,
          "ppf": 0.2614884185774855
         },
         {
          "actual": 1.4677539669554396,
          "ppf": -1.0692019870675566
         },
         {
          "actual": 2.474592223183557,
          "ppf": -0.3376925130470217
         },
         {
          "actual": 5.2012791606257185,
          "ppf": 1.662050099687815
         },
         {
          "actual": 0,
          "ppf": -2.5837154805975615
         },
         {
          "actual": 3.764003167734204,
          "ppf": 0.5564956363589915
         },
         {
          "actual": 3.9092339997398864,
          "ppf": 0.663409312115549
         },
         {
          "actual": 2.9729230232526724,
          "ppf": -0.007678854238381106
         },
         {
          "actual": 3.732252271108892,
          "ppf": 0.5282509135352339
         },
         {
          "actual": 3.5706256778692946,
          "ppf": 0.41858547402485574
         },
         {
          "actual": 3.806111144019032,
          "ppf": 0.5854751954433043
         },
         {
          "actual": 5.499459844364033,
          "ppf": 1.9590165026383013
         },
         {
          "actual": 2.3462294196681364,
          "ppf": -0.42583687549418364
         },
         {
          "actual": 1.510503602791671,
          "ppf": -1.0436225167771842
         },
         {
          "actual": 4.9694812217220266,
          "ppf": 1.4820860484900904
         },
         {
          "actual": 3.8098464315756595,
          "ppf": 0.5871783379276961
         },
         {
          "actual": 2.4000106995462422,
          "ppf": -0.3965083620535876
         },
         {
          "actual": 4.572738788716909,
          "ppf": 1.1456573246184614
         },
         {
          "actual": 0.8490011204813265,
          "ppf": -1.4882070172068125
         },
         {
          "actual": 3.208997528259093,
          "ppf": 0.1499224441300378
         },
         {
          "actual": 2.2707126615395237,
          "ppf": -0.4867193989435463
         },
         {
          "actual": 2.729663394483618,
          "ppf": -0.188660660635396
         },
         {
          "actual": 4.072044797883134,
          "ppf": 0.7518488042252651
         },
         {
          "actual": 1.8621571450735308,
          "ppf": -0.7898939235673857
         },
         {
          "actual": 2.0221878745229884,
          "ppf": -0.6689299223038403
         },
         {
          "actual": 3.8221240203354467,
          "ppf": 0.5953630339549428
         },
         {
          "actual": 1.5612243961387096,
          "ppf": -1.0030699440187556
         },
         {
          "actual": 1.8148205814413891,
          "ppf": -0.8223955887277538
         },
         {
          "actual": 3.789589750036424,
          "ppf": 0.5724735267274941
         },
         {
          "actual": 3.430886416750674,
          "ppf": 0.29915435374507615
         },
         {
          "actual": 2.102408735156577,
          "ppf": -0.6251667304913505
         },
         {
          "actual": 5.329170800837406,
          "ppf": 1.7514833672357273
         },
         {
          "actual": 5.2012791606257185,
          "ppf": 1.6558984320900094
         },
         {
          "actual": 4.612830630508942,
          "ppf": 1.1960595992599377
         },
         {
          "actual": 1.0576347026571349,
          "ppf": -1.3155268601075405
         },
         {
          "actual": 2.788620522127883,
          "ppf": -0.13434845208625226
         },
         {
          "actual": 1.0686342949042642,
          "ppf": -1.3108563205777422
         },
         {
          "actual": 4.42228928281052,
          "ppf": 1.0084209125726904
         },
         {
          "actual": 3.806111144019032,
          "ppf": 0.5844824796902531
         },
         {
          "actual": 2.904116977759645,
          "ppf": -0.05240101081330123
         },
         {
          "actual": 2.979823612783884,
          "ppf": -0.006423925258880743
         },
         {
          "actual": 3.2129082442311105,
          "ppf": 0.15161476660240747
         },
         {
          "actual": 5.409306983195006,
          "ppf": 1.8336684763750832
         },
         {
          "actual": 0.41758914090574745,
          "ppf": -1.764655029948865
         },
         {
          "actual": 3.486612502611351,
          "ppf": 0.3392745181245744
         },
         {
          "actual": 0.992153096484144,
          "ppf": -1.3730461417424618
         },
         {
          "actual": 1.8678593267919104,
          "ppf": -0.7768989434788588
         },
         {
          "actual": 0.9417005909674168,
          "ppf": -1.4098598617983509
         },
         {
          "actual": 1.8390431899235158,
          "ppf": -0.7993992736188875
         },
         {
          "actual": 1.005951851208737,
          "ppf": -1.3536723221658895
         },
         {
          "actual": 3.984755635979025,
          "ppf": 0.7057873269742502
         },
         {
          "actual": 2.307951042922311,
          "ppf": -0.4493800005364564
         },
         {
          "actual": 0,
          "ppf": -2.048333505400251
         },
         {
          "actual": 2.30489332691127,
          "ppf": -0.4571942809224926
         },
         {
          "actual": 3.377668900112316,
          "ppf": 0.26470521416159537
         },
         {
          "actual": 2.78514224456526,
          "ppf": -0.13917393596444547
         },
         {
          "actual": 4.994938219805024,
          "ppf": 1.519303181653427
         },
         {
          "actual": 2.935113659446365,
          "ppf": -0.026923795937000398
         },
         {
          "actual": 3.896359363320664,
          "ppf": 0.6468197825180823
         },
         {
          "actual": 0.9244714143053222,
          "ppf": -1.4305002797403281
         },
         {
          "actual": 4.187833950870695,
          "ppf": 0.8326628091107551
         },
         {
          "actual": 2.412150754809519,
          "ppf": -0.38766752310561037
         },
         {
          "actual": 2.2885704922301695,
          "ppf": -0.4763185186139971
         },
         {
          "actual": 1.3967986403472599,
          "ppf": -1.1226923706250433
         },
         {
          "actual": 4.57567872218324,
          "ppf": 1.1507403222719659
         },
         {
          "actual": 3.7662924135504032,
          "ppf": 0.560196992312182
         },
         {
          "actual": 1.5612243961387096,
          "ppf": -1.0039597758664534
         },
         {
          "actual": 4.534485429857293,
          "ppf": 1.0941951306427613
         },
         {
          "actual": 4.004523305923497,
          "ppf": 0.7210481022641103
         },
         {
          "actual": 2.8552030727660247,
          "ppf": -0.09494699737797421
         },
         {
          "actual": 4.284026050734948,
          "ppf": 0.8892798110694324
         },
         {
          "actual": 2.208067914949105,
          "ppf": -0.5323776765027938
         },
         {
          "actual": 3.1029177939165757,
          "ppf": 0.0890059659373825
         },
         {
          "actual": 2.7140451597850013,
          "ppf": -0.19511261199797614
         },
         {
          "actual": 4.286803077273319,
          "ppf": 0.8915004718177757
         },
         {
          "actual": 2.7753734437569673,
          "ppf": -0.15094987411363886
         },
         {
          "actual": 1.111670559093947,
          "ppf": -1.288058208612806
         },
         {
          "actual": 2.389155448623168,
          "ppf": -0.40013103834295194
         },
         {
          "actual": 3.5298006968193123,
          "ppf": 0.3808479330348686
         },
         {
          "actual": 4.607896344872914,
          "ppf": 1.1852547159731666
         },
         {
          "actual": 3.527270879241999,
          "ppf": 0.37020354030176006
         },
         {
          "actual": 2.2260426482698334,
          "ppf": -0.5140818113487718
         },
         {
          "actual": 1.110654841149979,
          "ppf": -1.2910776339569
         },
         {
          "actual": 3.4529455804665217,
          "ppf": 0.3192130956138346
         },
         {
          "actual": 4.824833935683102,
          "ppf": 1.3640523937577755
         },
         {
          "actual": 1.8330370199147117,
          "ppf": -0.8012101627186305
         },
         {
          "actual": 2.9041680960904186,
          "ppf": -0.0510247599691148
         },
         {
          "actual": 3.1305145822074696,
          "ppf": 0.10942395313531818
         },
         {
          "actual": 2.8890420708285225,
          "ppf": -0.06545077261321686
         },
         {
          "actual": 2.7597465957762117,
          "ppf": -0.16274678290309946
         },
         {
          "actual": 0,
          "ppf": -1.9780983710011482
         },
         {
          "actual": 4.087644265616956,
          "ppf": 0.7655549411180013
         },
         {
          "actual": 3.9092339997398864,
          "ppf": 0.6629625822118591
         },
         {
          "actual": 3.221040396403972,
          "ppf": 0.15742034365463223
         },
         {
          "actual": 2.476600545459298,
          "ppf": -0.33649075438714493
         },
         {
          "actual": 0.9822170298845748,
          "ppf": -1.3826184414792562
         },
         {
          "actual": 3.417851991728701,
          "ppf": 0.2908531795233572
         },
         {
          "actual": 3.72702186783861,
          "ppf": 0.51934024409845
         },
         {
          "actual": 1.7547492223271555,
          "ppf": -0.8709709857279274
         },
         {
          "actual": 2.6222159713964617,
          "ppf": -0.2426738845304695
         },
         {
          "actual": 1.6519143735586215,
          "ppf": -0.9464675370633214
         },
         {
          "actual": 4.7669860229180525,
          "ppf": 1.3149592053773862
         },
         {
          "actual": 1.1414638999504796,
          "ppf": -1.2720598680475148
         },
         {
          "actual": 3.4546110113738218,
          "ppf": 0.3201564446104815
         },
         {
          "actual": 4.089537574151406,
          "ppf": 0.7720595682465539
         },
         {
          "actual": 4.175367276922587,
          "ppf": 0.8234855002927213
         },
         {
          "actual": 1.6111207304334623,
          "ppf": -0.9652452073272659
         },
         {
          "actual": 1.3066352574770972,
          "ppf": -1.1679418089474591
         },
         {
          "actual": 2.788208314740097,
          "ppf": -0.13730368252987818
         },
         {
          "actual": 4.112886401736728,
          "ppf": 0.7940641607854524
         },
         {
          "actual": 2.2944516020075487,
          "ppf": -0.47123756680539886
         },
         {
          "actual": 2.307951042922311,
          "ppf": -0.44832255713306374
         },
         {
          "actual": 0,
          "ppf": -1.9049548207784974
         },
         {
          "actual": 1.1506435925227891,
          "ppf": -1.2656443201724894
         },
         {
          "actual": 1.9349474337953714,
          "ppf": -0.7221334881810559
         },
         {
          "actual": 1.9395130782535082,
          "ppf": -0.7164060298357214
         },
         {
          "actual": 3.430886416750674,
          "ppf": 0.2990918626409511
         },
         {
          "actual": 2.1546305583189884,
          "ppf": -0.5808002767575047
         },
         {
          "actual": 2.9160784329721063,
          "ppf": -0.03906115204895256
         },
         {
          "actual": 2.8670829824078456,
          "ppf": -0.08438734539966215
         },
         {
          "actual": 2.4726273400378345,
          "ppf": -0.34510365026492845
         },
         {
          "actual": 2.662388424928325,
          "ppf": -0.2178215904777819
         },
         {
          "actual": 2.4726273400378345,
          "ppf": -0.34478654988721397
         },
         {
          "actual": 5.1726213166263495,
          "ppf": 1.6495758000352048
         },
         {
          "actual": 0.919781031607994,
          "ppf": -1.4345015592494872
         },
         {
          "actual": 3.6181514381566955,
          "ppf": 0.45288638176353374
         },
         {
          "actual": 1.1058025749688325,
          "ppf": -1.2941088760721717
         },
         {
          "actual": 2.0128259446992067,
          "ppf": -0.6805600646560142
         },
         {
          "actual": 0,
          "ppf": -2.096952202088976
         },
         {
          "actual": 4.132915747758526,
          "ppf": 0.8050877128655134
         },
         {
          "actual": 1.6423213523493296,
          "ppf": -0.9554840495020979
         },
         {
          "actual": 4.327175087064787,
          "ppf": 0.9189560168373077
         },
         {
          "actual": 1.694282145018473,
          "ppf": -0.9111449775015047
         },
         {
          "actual": 1.8267764976796335,
          "ppf": -0.8110513851583281
         },
         {
          "actual": 1.5930285076274573,
          "ppf": -0.9804000342271046
         },
         {
          "actual": 1.4239933651782566,
          "ppf": -1.105024058679105
         },
         {
          "actual": 3.714717416801468,
          "ppf": 0.513536297431113
         },
         {
          "actual": 3.7300224265641226,
          "ppf": 0.5200242091424765
         },
         {
          "actual": 4.553024205069641,
          "ppf": 1.104474035713042
         },
         {
          "actual": 1.184167220522356,
          "ppf": -1.2450154049412683
         },
         {
          "actual": 4.627999365497622,
          "ppf": 1.1985069531687527
         },
         {
          "actual": 3.4448704630920415,
          "ppf": 0.3127430494339749
         },
         {
          "actual": 1.191154253370292,
          "ppf": -1.2280725247138085
         },
         {
          "actual": 2.01603271386908,
          "ppf": -0.6767984146400831
         },
         {
          "actual": 1.1252134488179804,
          "ppf": -1.2861428540903797
         },
         {
          "actual": 4.610693149636173,
          "ppf": 1.1897297685455925
         },
         {
          "actual": 3.8683782494232135,
          "ppf": 0.6266204643787646
         },
         {
          "actual": 3.1701798333482154,
          "ppf": 0.13000819292354665
         },
         {
          "actual": 4.444863440115781,
          "ppf": 1.028394543986692
         },
         {
          "actual": 3.7301701449287448,
          "ppf": 0.5223515135680579
         },
         {
          "actual": 0.6437678261187865,
          "ppf": -1.619797865073951
         },
         {
          "actual": 3.6528579846950935,
          "ppf": 0.4731749088112838
         },
         {
          "actual": 5.619266510423933,
          "ppf": 2.0162913521173067
         },
         {
          "actual": 2.2181069593310436,
          "ppf": -0.5283883270708277
         },
         {
          "actual": 4.801684504936242,
          "ppf": 1.3443206133216141
         },
         {
          "actual": 2.165870941762221,
          "ppf": -0.565097375821658
         },
         {
          "actual": 2.695831103667723,
          "ppf": -0.2008409481586466
         },
         {
          "actual": 3.31593216761581,
          "ppf": 0.22952435695774764
         },
         {
          "actual": 4.932002981344229,
          "ppf": 1.4540008345833475
         },
         {
          "actual": 2.965006840255633,
          "ppf": -0.01108515669294106
         },
         {
          "actual": 2.5832025119877717,
          "ppf": -0.2724491845668775
         },
         {
          "actual": 0.47675270625662014,
          "ppf": -1.703403294287174
         },
         {
          "actual": 1.3458821376301149,
          "ppf": -1.1577199747146791
         },
         {
          "actual": 4.2758787850367455,
          "ppf": 0.8867978657139063
         },
         {
          "actual": 1.4540258236649475,
          "ppf": -1.088234124985099
         },
         {
          "actual": 5.75152208095317,
          "ppf": 2.101280242840764
         },
         {
          "actual": 2.412150754809519,
          "ppf": -0.3888918010006366
         },
         {
          "actual": 1.7824186562547168,
          "ppf": -0.8613189741179246
         },
         {
          "actual": 4.371098807739112,
          "ppf": 0.9537875480871943
         },
         {
          "actual": 4.048476560924762,
          "ppf": 0.7372626460901657
         },
         {
          "actual": 3.101744849913636,
          "ppf": 0.08756619684432579
         },
         {
          "actual": 3.8311055818420936,
          "ppf": 0.602870996058385
         },
         {
          "actual": 3.100877644527596,
          "ppf": 0.0845672573187578
         },
         {
          "actual": 1.9929204395037445,
          "ppf": -0.6835008486997101
         },
         {
          "actual": 3.5337259981699005,
          "ppf": 0.38657260893648554
         },
         {
          "actual": 2.4707429949944966,
          "ppf": -0.34865755472292337
         },
         {
          "actual": 3.7270218678385443,
          "ppf": 0.517699717947305
         },
         {
          "actual": 3.634138580448783,
          "ppf": 0.46077961118849514
         },
         {
          "actual": 3.610759175594427,
          "ppf": 0.44832255713306385
         },
         {
          "actual": 2.367862732744349,
          "ppf": -0.4046667863883995
         },
         {
          "actual": 2.2135502908057956,
          "ppf": -0.5292817584469288
         },
         {
          "actual": 1.8243259622089927,
          "ppf": -0.814543547994568
         },
         {
          "actual": 0.7922669923905813,
          "ppf": -1.53561242079296
         },
         {
          "actual": 2.51772043914392,
          "ppf": -0.3044703971101386
         },
         {
          "actual": 2.612097462732571,
          "ppf": -0.24938756174904708
         },
         {
          "actual": 3.1168576753970587,
          "ppf": 0.10023072256073841
         },
         {
          "actual": 3.4448704630920415,
          "ppf": 0.31293131108127487
         },
         {
          "actual": 3.1168576753970587,
          "ppf": 0.10125176019884495
         },
         {
          "actual": 1.4677539669554396,
          "ppf": -1.0694136814617936
         },
         {
          "actual": 4.67300320734512,
          "ppf": 1.2426839692075267
         },
         {
          "actual": 0,
          "ppf": -2.534764494227209
         },
         {
          "actual": 2.65433759860313,
          "ppf": -0.22400614586677128
         },
         {
          "actual": 4.471678015344908,
          "ppf": 1.0454785587975177
         },
         {
          "actual": 3.294176826137194,
          "ppf": 0.2081022674577137
         },
         {
          "actual": 5.4370193069325214,
          "ppf": 1.8805869322038562
         },
         {
          "actual": 5.434423783758564,
          "ppf": 1.8674416299260383
         },
         {
          "actual": 1.8148205814413891,
          "ppf": -0.8211392111164537
         },
         {
          "actual": 1.184167220522356,
          "ppf": -1.247093488455159
         },
         {
          "actual": 4.406467557868276,
          "ppf": 0.9801101883782558
         },
         {
          "actual": 2.0947172368838194,
          "ppf": -0.6351515442646746
         },
         {
          "actual": 4.203599676412047,
          "ppf": 0.8409742466440059
         },
         {
          "actual": 4.440289396922148,
          "ppf": 1.0241449816084764
         },
         {
          "actual": 3.4874530275005498,
          "ppf": 0.34130072498461883
         },
         {
          "actual": 2.4072718766665044,
          "ppf": -0.391471137242136
         },
         {
          "actual": 3.5515479463962194,
          "ppf": 0.4038886406731854
         },
         {
          "actual": 2.208067914949105,
          "ppf": -0.5311386985534754
         },
         {
          "actual": 3.8171475940930146,
          "ppf": 0.5916572203123013
         },
         {
          "actual": 3.216783896871297,
          "ppf": 0.15512167914669994
         },
         {
          "actual": 3.736856749879319,
          "ppf": 0.5319645931364149
         },
         {
          "actual": 4.112886401736728,
          "ppf": 0.7939003621251925
         },
         {
          "actual": 0.840039992588377,
          "ppf": -1.5043139984214489
         },
         {
          "actual": 4.000851871007754,
          "ppf": 0.7191120225459152
         },
         {
          "actual": 2.4262023234369137,
          "ppf": -0.37193197159399044
         },
         {
          "actual": 4.0786800726842225,
          "ppf": 0.7573300986409185
         },
         {
          "actual": 2.602207205865219,
          "ppf": -0.2629108963214571
         },
         {
          "actual": 3.4071665065634305,
          "ppf": 0.28089324026112483
         },
         {
          "actual": 5.092174250239069,
          "ppf": 1.59181480003276
         },
         {
          "actual": 3.071017544663841,
          "ppf": 0.05647051689367397
         },
         {
          "actual": 4.207187655834974,
          "ppf": 0.8458352698975129
         },
         {
          "actual": 3.5706256778692946,
          "ppf": 0.4198903972032603
         },
         {
          "actual": 3.098605154967844,
          "ppf": 0.07983047189850061
         },
         {
          "actual": 3.5298006968193123,
          "ppf": 0.3816190677278769
         },
         {
          "actual": 2.605307870788762,
          "ppf": -0.2579654203261766
         },
         {
          "actual": 2.299095393719998,
          "ppf": -0.4617101070826832
         },
         {
          "actual": 3.79010595867689,
          "ppf": 0.5755032258550739
         },
         {
          "actual": 2.3496293226809373,
          "ppf": -0.4223063932855958
         },
         {
          "actual": 0.5272084215959517,
          "ppf": -1.6808927372715143
         },
         {
          "actual": 4.873696816915266,
          "ppf": 1.3901172064685285
         },
         {
          "actual": 3.8486860664189266,
          "ppf": 0.615243858738095
         },
         {
          "actual": 4.505955783948526,
          "ppf": 1.0606682806384107
         },
         {
          "actual": 3.8735960624957424,
          "ppf": 0.6286579198459518
         },
         {
          "actual": 2.0194250721894336,
          "ppf": -0.6713983942586066
         },
         {
          "actual": 1.922346261243514,
          "ppf": -0.7281183997498685
         },
         {
          "actual": 4.101609080966352,
          "ppf": 0.7804594118076902
         },
         {
          "actual": 1.3591106164673987,
          "ppf": -1.1442761798833456
         },
         {
          "actual": 2.416121928723649,
          "ppf": -0.3800127925898544
         },
         {
          "actual": 6.444541575917085,
          "ppf": 2.7222262510862567
         },
         {
          "actual": 3.5337259981699005,
          "ppf": 0.38567126282202346
         },
         {
          "actual": 2.2254189827672053,
          "ppf": -0.5159923167731597
         },
         {
          "actual": 4.8351139620628825,
          "ppf": 1.3771992167841873
         },
         {
          "actual": 4.050718364320451,
          "ppf": 0.7393030729353848
         },
         {
          "actual": 0,
          "ppf": -2.3526020647711476
         },
         {
          "actual": 3.8981420424034052,
          "ppf": 0.6474828746247077
         },
         {
          "actual": 3.9464410384504722,
          "ppf": 0.6842558479821511
         },
         {
          "actual": 4.187833950870695,
          "ppf": 0.832831854649024
         },
         {
          "actual": 2.895783683691194,
          "ppf": -0.056231108951932514
         },
         {
          "actual": 1.6519143735586215,
          "ppf": -0.946280511375938
         },
         {
          "actual": 3.79010595867689,
          "ppf": 0.5757147971540164
         },
         {
          "actual": 2.058870609422847,
          "ppf": -0.652354287488107
         },
         {
          "actual": 4.511890874206298,
          "ppf": 1.0735513420116303
         },
         {
          "actual": 1.7745163997341091,
          "ppf": -0.8673964190219384
         },
         {
          "actual": 1.6762894176686924,
          "ppf": -0.929673594635743
         },
         {
          "actual": 6.127088510913418,
          "ppf": 2.5545516698453548
         },
         {
          "actual": 5.094379227840735,
          "ppf": 1.6066258977778258
         },
         {
          "actual": 4.994938219805024,
          "ppf": 1.5229137144028007
         },
         {
          "actual": 0,
          "ppf": -1.9639257463174904
         },
         {
          "actual": 2.788208314740097,
          "ppf": -0.1353132950325015
         },
         {
          "actual": 3.4529455804665217,
          "ppf": 0.31915021578912917
         },
         {
          "actual": 2.35972423588957,
          "ppf": -0.410185705369744
         },
         {
          "actual": 1.8414326573426674,
          "ppf": -0.7955393087602305
         },
         {
          "actual": 2.912057338126168,
          "ppf": -0.045759973996232516
         },
         {
          "actual": 3.5706256778692946,
          "ppf": 0.4198251340787845
         },
         {
          "actual": 3.0969604442133845,
          "ppf": 0.076833438472135
         },
         {
          "actual": 1.45282705150097,
          "ppf": -1.090505572608669
         },
         {
          "actual": 5.785083621521061,
          "ppf": 2.139170459424792
         },
         {
          "actual": 2.9298482879775016,
          "ppf": -0.028119389381816434
         },
         {
          "actual": 5.217675197491759,
          "ppf": 1.681629465144662
         },
         {
          "actual": 4.688701867740345,
          "ppf": 1.253098185286968
         },
         {
          "actual": 2.7384748545808777,
          "ppf": -0.17857231349079594
         },
         {
          "actual": 3.0969604442133845,
          "ppf": 0.0792909537420026
         },
         {
          "actual": 3.8171475940930146,
          "ppf": 0.5913013207099806
         },
         {
          "actual": 3.0455786299556427,
          "ppf": 0.03666915597760518
         },
         {
          "actual": 4.812271346758187,
          "ppf": 1.346240701042423
         },
         {
          "actual": 4.508302097006854,
          "ppf": 1.0725948672417058
         },
         {
          "actual": 2.3510741554823262,
          "ppf": -0.4190421159495537
         },
         {
          "actual": 3.5527029402395502,
          "ppf": 0.407587020925501
         },
         {
          "actual": 4.07856762193165,
          "ppf": 0.7551030706064625
         },
         {
          "actual": 2.764664552880216,
          "ppf": -0.15778336641842655
         },
         {
          "actual": 2.775953865303401,
          "ppf": -0.1491972947725099
         },
         {
          "actual": 0.8898926542746042,
          "ppf": -1.456240146327157
         },
         {
          "actual": 1.8310249833783343,
          "ppf": -0.806162364816368
         },
         {
          "actual": 4.396754015296639,
          "ppf": 0.9749069706671462
         },
         {
          "actual": 3.5920364450048563,
          "ppf": 0.43942016571481596
         },
         {
          "actual": 2.8928417975612537,
          "ppf": -0.05826618058099791
         },
         {
          "actual": 3.8683782494232135,
          "ppf": 0.6258207470645035
         },
         {
          "actual": 0.4406806248568797,
          "ppf": -1.7418685036617316
         },
         {
          "actual": 1.2836797056645544,
          "ppf": -1.1786461446670489
         },
         {
          "actual": 2.1178879207608583,
          "ppf": -0.6144497658150353
         },
         {
          "actual": 3.5550483451571737,
          "ppf": 0.4088860179883623
         },
         {
          "actual": 0.6534966425812999,
          "ppf": -1.6072778989488707
         },
         {
          "actual": 2.4609337588863416,
          "ppf": -0.35278815511750056
         },
         {
          "actual": 2.8928417975612537,
          "ppf": -0.05778731879989227
         },
         {
          "actual": 1.4571946398090088,
          "ppf": -1.0768534096344082
         },
         {
          "actual": 0.8898926542746042,
          "ppf": -1.4565853046035504
         },
         {
          "actual": 3.377668900112316,
          "ppf": 0.26489088180067316
         },
         {
          "actual": 3.1205563833853276,
          "ppf": 0.10449576171072351
         },
         {
          "actual": 4.412632522020969,
          "ppf": 0.9941169717026721
         },
         {
          "actual": 2.307951042922311,
          "ppf": -0.45070251194919897
         },
         {
          "actual": 0,
          "ppf": -2.0108465335378733
         },
         {
          "actual": 4.347621001178375,
          "ppf": 0.9391050138588921
         },
         {
          "actual": 2.979823612783884,
          "ppf": -0.005766585670389869
         },
         {
          "actual": 4.55552991746641,
          "ppf": 1.110321382693971
         },
         {
          "actual": 4.187833950870695,
          "ppf": 0.8324092854081603
         },
         {
          "actual": 5.008681282214612,
          "ppf": 1.540096453610265
         },
         {
          "actual": 3.256357608278316,
          "ppf": 0.18045487156344486
         },
         {
          "actual": 1.9572068070686461,
          "ppf": -0.6980658638780234
         },
         {
          "actual": 5.75152208095317,
          "ppf": 2.1007370819622126
         },
         {
          "actual": 0.800660014612294,
          "ppf": -1.5236763612762205
         },
         {
          "actual": 4.312112996191242,
          "ppf": 0.9046480065245895
         },
         {
          "actual": 2.184761094892331,
          "ppf": -0.5563561120347482
         },
         {
          "actual": 3.4295671183432885,
          "ppf": 0.29771735333825494
         },
         {
          "actual": 0.4406806248568797,
          "ppf": -1.7407798618967143
         },
         {
          "actual": 0.8270903669612278,
          "ppf": -1.5157123465212115
         },
         {
          "actual": 1.3591106164673987,
          "ppf": -1.1407182864983085
         },
         {
          "actual": 2.8578333795370576,
          "ppf": -0.09104595541530631
         },
         {
          "actual": 5.861659760912625,
          "ppf": 2.207595106878521
         },
         {
          "actual": 0.8712735334390269,
          "ppf": -1.476375427952279
         },
         {
          "actual": 3.6805219662150273,
          "ppf": 0.49629435625458473
         },
         {
          "actual": 2.249769883913362,
          "ppf": -0.4952807804221938
         },
         {
          "actual": 3.7662924135504032,
          "ppf": 0.5620855404348309
         },
         {
          "actual": 5.619266510423933,
          "ppf": 2.0185777782841736
         },
         {
          "actual": 1.190843714105953,
          "ppf": -1.2307443890421657
         },
         {
          "actual": 4.55552991746641,
          "ppf": 1.1120940965571022
         },
         {
          "actual": 2.7643767459296327,
          "ppf": -0.15965931641526218
         },
         {
          "actual": 3.5189121850544383,
          "ppf": 0.36413076512181614
         },
         {
          "actual": 4.175367276922587,
          "ppf": 0.8223117898436871
         },
         {
          "actual": 2.5967828578491505,
          "ppf": -0.26650038464610254
         },
         {
          "actual": 2.034598051001792,
          "ppf": -0.6655703766317093
         },
         {
          "actual": 4.5068477298837495,
          "ppf": 1.0670876727658574
         },
         {
          "actual": 2.0194250721894336,
          "ppf": -0.6719974277371294
         },
         {
          "actual": 3.08408834317634,
          "ppf": 0.06706775831182014
         },
         {
          "actual": 1.7872261324363676,
          "ppf": -0.8576877333982337
         },
         {
          "actual": 3.0702625514459103,
          "ppf": 0.05180262883889349
         },
         {
          "actual": 5.126111436885221,
          "ppf": 1.6341648767866483
         },
         {
          "actual": 1.7880608186441593,
          "ppf": -0.8563936001192771
         },
         {
          "actual": 3.4874530275005498,
          "ppf": 0.342060913506566
         },
         {
          "actual": 4.775626231051861,
          "ppf": 1.3228019266908526
         },
         {
          "actual": 1.8675054674773346,
          "ppf": -0.7817565821308737
         },
         {
          "actual": 4.508302097006854,
          "ppf": 1.0683556882285128
         },
         {
          "actual": 3.6517052362674365,
          "ppf": 0.4713043422256133
         },
         {
          "actual": 3.2624238994689154,
          "ppf": 0.18726175447264684
         },
         {
          "actual": 4.233523804885637,
          "ppf": 0.8640064767879984
         },
         {
          "actual": 4.050718364320451,
          "ppf": 0.740010091845305
         },
         {
          "actual": 4.4604470896494615,
          "ppf": 1.042078556953887
         },
         {
          "actual": 1.7824186562547168,
          "ppf": -0.8610592233680645
         },
         {
          "actual": 4.187833950870695,
          "ppf": 0.832578295264023
         },
         {
          "actual": 3.615002530074234,
          "ppf": 0.4509671087794208
         },
         {
          "actual": 4.450777896670668,
          "ppf": 1.0338857096853025
         },
         {
          "actual": 2.8816378668709186,
          "ppf": -0.07581460564825507
         },
         {
          "actual": 3.8311055818420936,
          "ppf": 0.6037312087504433
         },
         {
          "actual": 0.8155370156797421,
          "ppf": -1.5189242759658
         },
         {
          "actual": 3.764003167734204,
          "ppf": 0.556356112034748
         },
         {
          "actual": 2.359837558634838,
          "ppf": -0.40830138405817673
         },
         {
          "actual": 4.579543200191303,
          "ppf": 1.155853226658849
         },
         {
          "actual": 1.71191242059977,
          "ppf": -0.8979206867039956
         },
         {
          "actual": 4.645149574046115,
          "ppf": 1.2096099756803802
         },
         {
          "actual": 5.780149261570917,
          "ppf": 2.130418789684689
         },
         {
          "actual": 4.505955783948526,
          "ppf": 1.0625579739966646
         },
         {
          "actual": 2.7559276727224367,
          "ppf": -0.1667446363582999
         },
         {
          "actual": 0.4620096778323629,
          "ppf": -1.7207394499725912
         },
         {
          "actual": 1.3509465300902908,
          "ppf": -1.1499296755586508
         },
         {
          "actual": 2.1420093120039825,
          "ppf": -0.594935023529883
         },
         {
          "actual": 0.6314824929890983,
          "ppf": -1.6316715014140737
         },
         {
          "actual": 4.326856057113862,
          "ppf": 0.9179538077920759
         },
         {
          "actual": 1.4865206810072835,
          "ppf": -1.062347820719568
         },
         {
          "actual": 2.7384748545808777,
          "ppf": -0.17911879711988446
         },
         {
          "actual": 5.409306983195006,
          "ppf": 1.832706310269519
         },
         {
          "actual": 1.7218096439383646,
          "ppf": -0.8967587475789716
         },
         {
          "actual": 5.070754347814792,
          "ppf": 1.5697197671619807
         },
         {
          "actual": 4.173501603790507,
          "ppf": 0.8208043959594911
         },
         {
          "actual": 5.019349751427631,
          "ppf": 1.5527395298869293
         },
         {
          "actual": 0,
          "ppf": -1.9418021180254057
         },
         {
          "actual": 3.730585057156037,
          "ppf": 0.5259164061535949
         },
         {
          "actual": 4.194051932815799,
          "ppf": 0.839188346829556
         },
         {
          "actual": 4.658500829125912,
          "ppf": 1.2250296611188505
         },
         {
          "actual": 4.658500829125912,
          "ppf": 1.2231336170008547
         },
         {
          "actual": 3.810875391786745,
          "ppf": 0.5888121158858525
         },
         {
          "actual": 2.474592223183557,
          "ppf": -0.33807211704527806
         },
         {
          "actual": 1.9135954574516472,
          "ppf": -0.7355385256373288
         },
         {
          "actual": 1.2836797056645544,
          "ppf": -1.1787658413384428
         },
         {
          "actual": 2.3433010962707073,
          "ppf": -0.42852097380120596
         },
         {
          "actual": 3.377982296461478,
          "ppf": 0.2682344679408461
         },
         {
          "actual": 2.2997624455724837,
          "ppf": -0.46091251473136824
         },
         {
          "actual": 3.939259920879992,
          "ppf": 0.676873553688084
         },
         {
          "actual": 2.9120573381262687,
          "ppf": -0.04450379752160825
         },
         {
          "actual": 3.4295671183432885,
          "ppf": 0.2980921636237693
         },
         {
          "actual": 0.5719191656508041,
          "ppf": -1.6440105211670895
         },
         {
          "actual": 1.0488244787498058,
          "ppf": -1.3236624304987286
         },
         {
          "actual": 5.861659760912625,
          "ppf": 2.204191111452382
         },
         {
          "actual": 3.511629548699993,
          "ppf": 0.35921846555348574
         },
         {
          "actual": 3.8098464315756595,
          "ppf": 0.5875333735972562
         },
         {
          "actual": 3.8643074790599043,
          "ppf": 0.6184964720847483
         },
         {
          "actual": 2.0221878745229884,
          "ppf": -0.6687057179738254
         },
         {
          "actual": 3.6724330479010305,
          "ppf": 0.49386262829830146
         },
         {
          "actual": 4.929169481612832,
          "ppf": 1.4461350781469546
         },
         {
          "actual": 3.93853495393319,
          "ppf": 0.6737209941830163
         },
         {
          "actual": 1.826475985348099,
          "ppf": -0.8127962275492209
         },
         {
          "actual": 0.722013210816541,
          "ppf": -1.5871650576720344
         },
         {
          "actual": 2.4289894216406074,
          "ppf": -0.37065154572335646
         },
         {
          "actual": 2.6429557960529717,
          "ppf": -0.23130392900077565
         },
         {
          "actual": 1.4865206810072835,
          "ppf": -1.06129775734262
         },
         {
          "actual": 3.407166506563578,
          "ppf": 0.2820123251154386
         },
         {
          "actual": 2.999935099881793,
          "ppf": -0.004272640878699472
         },
         {
          "actual": 2.4059552946241167,
          "ppf": -0.39308454487671063
         },
         {
          "actual": 2.9298482879775016,
          "ppf": -0.02883676463344104
         },
         {
          "actual": 3.5527029402395502,
          "ppf": 0.40693778034986405
         },
         {
          "actual": 0.4620096778323629,
          "ppf": -1.7194277641514972
         },
         {
          "actual": 1.1414638999504796,
          "ppf": -1.2713891382280422
         },
         {
          "actual": 0,
          "ppf": -2.0439706670362616
         },
         {
          "actual": 3.5961985620949077,
          "ppf": 0.44218603556424235
         },
         {
          "actual": 3.7654914251763767,
          "ppf": 0.5578914762069536
         },
         {
          "actual": 1.676006976120986,
          "ppf": -0.9309631985332204
         },
         {
          "actual": 2.0742195341182033,
          "ppf": -0.6429941332984189
         },
         {
          "actual": 3.755434949105811,
          "ppf": 0.5464079264393974
         },
         {
          "actual": 3.102917793916619,
          "ppf": 0.09026591516021369
         },
         {
          "actual": 1.8045094508157014,
          "ppf": -0.8357092800485078
         },
         {
          "actual": 4.240887185963215,
          "ppf": 0.871844520321505
         },
         {
          "actual": 5.126111436885221,
          "ppf": 1.62941356606276
         },
         {
          "actual": 5.4467093557544795,
          "ppf": 1.8855129203067764
         },
         {
          "actual": 1.3967986403472599,
          "ppf": -1.1247147164893843
         },
         {
          "actual": 1.883642273126398,
          "ppf": -0.765715158669949
         },
         {
          "actual": 4.574772101919214,
          "ppf": 1.1472714273122748
         },
         {
          "actual": 3.956993765835563,
          "ppf": 0.6922070619790905
         },
         {
          "actual": 4.104447691823321,
          "ppf": 0.7811889083776316
         },
         {
          "actual": 3.480730914356997,
          "ppf": 0.331941111940627
         },
         {
          "actual": 4.297800586112763,
          "ppf": 0.8961335892686155
         },
         {
          "actual": 3.77677030049528,
          "ppf": 0.5690274709840265
         },
         {
          "actual": 2.6222159713964617,
          "ppf": -0.24347401816030245
         },
         {
          "actual": 6.4621359492613095,
          "ppf": 2.7499793645196426
         },
         {
          "actual": 3.7571313435960074,
          "ppf": 0.5531500327141387
         },
         {
          "actual": 3.634138580448783,
          "ppf": 0.46137774126973274
         },
         {
          "actual": 2.1969738064527533,
          "ppf": -0.5448822491754959
         },
         {
          "actual": 2.602207205865219,
          "ppf": -0.26210682198060714
         },
         {
          "actual": 3.8443965505447872,
          "ppf": 0.6119977413797579
         },
         {
          "actual": 1.2164277292784753,
          "ppf": -1.2109772677311739
         },
         {
          "actual": 2.734105603223304,
          "ppf": -0.1836141511380736
         },
         {
          "actual": 3.078187975464346,
          "ppf": 0.0641932355880871
         },
         {
          "actual": 3.2800039463357518,
          "ppf": 0.20334153231681867
         },
         {
          "actual": 0.14087963153544955,
          "ppf": -1.853611307819166
         },
         {
          "actual": 2.9041680960904186,
          "ppf": -0.05054608680909241
         },
         {
          "actual": 2.047346274471702,
          "ppf": -0.6588737001883632
         },
         {
          "actual": 3.6551603238920785,
          "ppf": 0.4747126848933824
         },
         {
          "actual": 4.9768065483611315,
          "ppf": 1.5013564026465491
         },
         {
          "actual": 2.4609337588863416,
          "ppf": -0.3535513840353202
         },
         {
          "actual": 3.059358967292334,
          "ppf": 0.04522160392369169
         },
         {
          "actual": 4.150523400783322,
          "ppf": 0.8150432392934053
         },
         {
          "actual": 3.524339661129339,
          "ppf": 0.36540812112920146
         },
         {
          "actual": 4.968127170289907,
          "ppf": 1.4790462762783851
         },
         {
          "actual": 1.8941997474630254,
          "ppf": -0.7574097048011473
         },
         {
          "actual": 1.813689485163655,
          "ppf": -0.8242406278270823
         },
         {
          "actual": 0.992153096484144,
          "ppf": -1.3709019874741242
         },
         {
          "actual": 1.5841348642586723,
          "ppf": -0.9884520270201848
         },
         {
          "actual": 2.2963165723551096,
          "ppf": -0.46630198749707247
         },
         {
          "actual": 1.6365836396787246,
          "ppf": -0.9587906998359492
         },
         {
          "actual": 4.499739177683189,
          "ppf": 1.0532511435799672
         },
         {
          "actual": 1.1763336655265293,
          "ppf": -1.2524433117969318
         },
         {
          "actual": 3.524339661129339,
          "ppf": 0.3654720045655335
         },
         {
          "actual": 4.250424699132332,
          "ppf": 0.8763099388574563
         },
         {
          "actual": 1.71191242059977,
          "ppf": -0.8995315298000334
         },
         {
          "actual": 4.9694812217220266,
          "ppf": 1.4849595746186135
         },
         {
          "actual": 2.504240444700872,
          "ppf": -0.31739009191754247
         },
         {
          "actual": 4.004523305923497,
          "ppf": 0.7239184716956608
         },
         {
          "actual": 3.2957667352069007,
          "ppf": 0.2109120861420942
         },
         {
          "actual": 2.526906537533193,
          "ppf": -0.30046693724334483
         },
         {
          "actual": 3.571429648206034,
          "ppf": 0.4213266390931336
         },
         {
          "actual": 4.667496156959897,
          "ppf": 1.226042687830979
         },
         {
          "actual": 2.416121928723649,
          "ppf": -0.37969165531871435
         },
         {
          "actual": 4.112677273333733,
          "ppf": 0.7890778406387707
         },
         {
          "actual": 2.7344699605874148,
          "ppf": -0.18221655331224795
         },
         {
          "actual": 1.0495812140682663,
          "ppf": -1.323375487010682
         },
         {
          "actual": 4.740323394705887,
          "ppf": 1.2758265761023828
         },
         {
          "actual": 2.965006840255633,
          "ppf": -0.008874035908934012
         },
         {
          "actual": 2.45440918203741,
          "ppf": -0.35826253573071304
         },
         {
          "actual": 4.004523305923497,
          "ppf": 0.721978380985377
         },
         {
          "actual": 0,
          "ppf": -2.3049464780946853
         },
         {
          "actual": 2.352807035510149,
          "ppf": -0.418194136123538
         },
         {
          "actual": 3.900307914154761,
          "ppf": 0.6510241891890829
         },
         {
          "actual": 2.8740075557363456,
          "ppf": -0.0789312878024924
         },
         {
          "actual": 0.9417005909674168,
          "ppf": -1.4100213211034622
         },
         {
          "actual": 4.233523804885637,
          "ppf": 0.8623585588191128
         },
         {
          "actual": 5.0171063977276,
          "ppf": 1.548167407160172
         },
         {
          "actual": 4.3700670581816015,
          "ppf": 0.9526580705906804
         },
         {
          "actual": 1.926865570357049,
          "ppf": -0.7253947647400172
         },
         {
          "actual": 2.4707429949944966,
          "ppf": -0.34916561398251317
         },
         {
          "actual": 2.8724717625850995,
          "ppf": -0.08031006309670069
         },
         {
          "actual": 2.1420093120039825,
          "ppf": -0.5941506206478061
         },
         {
          "actual": 2.3162458334501395,
          "ppf": -0.44594513899602306
         },
         {
          "actual": 3.8735960624957424,
          "ppf": 0.6284394963272081
         },
         {
          "actual": 5.5167776211029596,
          "ppf": 1.9631042482639325
         },
         {
          "actual": 3.26278161629733,
          "ppf": 0.1901207825790223
         },
         {
          "actual": 5.758368759871428,
          "ppf": 2.109503029139635
         },
         {
          "actual": 2.8361726367311624,
          "ppf": -0.09800882386744429
         },
         {
          "actual": 2.7882083147401273,
          "ppf": -0.13464995202993216
         },
         {
          "actual": 3.2046211341607704,
          "ppf": 0.14738476370776335
         },
         {
          "actual": 3.053951169321343,
          "ppf": 0.04199165324936292
         },
         {
          "actual": 4.084019185875997,
          "ppf": 0.7620351104377907
         },
         {
          "actual": 1.5612243961387096,
          "ppf": -1.0032676157786147
         },
         {
          "actual": 1.1527390269350632,
          "ppf": -1.2586204708584452
         },
         {
          "actual": 0,
          "ppf": -2.562436185185727
         },
         {
          "actual": 3.8370092474001436,
          "ppf": 0.6054529761556311
         },
         {
          "actual": 4.297321904593532,
          "ppf": 0.8947059693768755
         },
         {
          "actual": 2.8008615745994554,
          "ppf": -0.12464652400088512
         },
         {
          "actual": 2.4730946077160403,
          "ppf": -0.34351849463614736
         },
         {
          "actual": 4.321768408608919,
          "ppf": 0.9095171363175769
         },
         {
          "actual": 4.018073218853064,
          "ppf": 0.7275732411182083
         },
         {
          "actual": 2.690619022336656,
          "ppf": -0.20669797538031842
         },
         {
          "actual": 0.9932417494438628,
          "ppf": -1.3646586569747825
         },
         {
          "actual": 3.9829564910215036,
          "ppf": 0.7043315714105955
         },
         {
          "actual": 4.026482643713817,
          "ppf": 0.7320968251786768
         },
         {
          "actual": 3.707966110755295,
          "ppf": 0.5080895203158409
         },
         {
          "actual": 3.221040396403972,
          "ppf": 0.15808590127100638
         },
         {
          "actual": 4.560414197028577,
          "ppf": 1.1265162268417497
         },
         {
          "actual": 1.7745163997341091,
          "ppf": -0.8676575966490712
         },
         {
          "actual": 4.063887482601126,
          "ppf": 0.7494726700474614
         },
         {
          "actual": 2.2254189827672053,
          "ppf": -0.5166068076628839
         },
         {
          "actual": 1.5841348642586723,
          "ppf": -0.9870893728060249
         },
         {
          "actual": 3.1510533842988973,
          "ppf": 0.12049219695164777
         },
         {
          "actual": 5.55133586726747,
          "ppf": 2.0122021533343033
         },
         {
          "actual": 7.149142457060044,
          "ppf": 3.587585349273004
         },
         {
          "actual": 3.4290305700713426,
          "ppf": 0.2972801275226559
         },
         {
          "actual": 2.5534652194137726,
          "ppf": -0.284500447585895
         },
         {
          "actual": 2.937075724358083,
          "ppf": -0.024174074249747927
         },
         {
          "actual": 5.2012791606257185,
          "ppf": 1.6644329621656038
         },
         {
          "actual": 2.2035762333314275,
          "ppf": -0.5361685220811483
         },
         {
          "actual": 3.2004829315036574,
          "ppf": 0.14436495124544252
         },
         {
          "actual": 0.9931960440732351,
          "ppf": -1.3687641173272
         },
         {
          "actual": 2.165870941762221,
          "ppf": -0.5641862814584664
         },
         {
          "actual": 2.476600545459298,
          "ppf": -0.3358584450802551
         },
         {
          "actual": 3.6075758075988675,
          "ppf": 0.44620917188458853
         },
         {
          "actual": 4.395893626640973,
          "ppf": 0.974138366842365
         },
         {
          "actual": 0.889898040059108,
          "ppf": -1.4545169516617868
         },
         {
          "actual": 4.9768065483611315,
          "ppf": 1.5000665742744828
         },
         {
          "actual": 2.3597464776085872,
          "ppf": -0.4086911244926518
         },
         {
          "actual": 4.117500905714883,
          "ppf": 0.800386705938679
         },
         {
          "actual": 1.5842428872786547,
          "ppf": -0.9841755535361257
         },
         {
          "actual": 1.3066352574770972,
          "ppf": -1.1695981326785865
         },
         {
          "actual": 0.8490011204813265,
          "ppf": -1.4887497858432295
         },
         {
          "actual": 2.407942912285212,
          "ppf": -0.3909550621453485
         },
         {
          "actual": 1.580085774418476,
          "ppf": -0.9912805228866405
         },
         {
          "actual": 3.900307914154761,
          "ppf": 0.6513196669866004
         },
         {
          "actual": 2.0594264593100737,
          "ppf": -0.6471881318913163
         },
         {
          "actual": 1.801071207469528,
          "ppf": -0.8414849965277398
         },
         {
          "actual": 4.577625362345817,
          "ppf": 1.154339454400247
         },
         {
          "actual": 4.110355884271193,
          "ppf": 0.7855746532513883
         },
         {
          "actual": 3.4755091208109694,
          "ppf": 0.325255479633955
         },
         {
          "actual": 1.019187780240878,
          "ppf": -1.3397618314762183
         },
         {
          "actual": 1.8646898377910466,
          "ppf": -0.7850866029553046
         },
         {
          "actual": 3.6607880322091897,
          "ppf": 0.4849038732567668
         },
         {
          "actual": 0.8853080942609701,
          "ppf": -1.4668465146826724
         },
         {
          "actual": 3.574211672404831,
          "ppf": 0.4264258043829045
         },
         {
          "actual": 2.0757565245365885,
          "ppf": -0.6418189038072787
         },
         {
          "actual": 3.97391241462592,
          "ppf": 0.7010424631502019
         },
         {
          "actual": 0,
          "ppf": -2.3903840515700114
         },
         {
          "actual": 3.0702625514459103,
          "ppf": 0.05234117177506449
         },
         {
          "actual": 3.235040391212128,
          "ppf": 0.1681990588987712
         },
         {
          "actual": 3.3404391052279037,
          "ppf": 0.24304315763861123
         },
         {
          "actual": 3.511629548699993,
          "ppf": 0.35870859552110024
         },
         {
          "actual": 3.524339661129339,
          "ppf": 0.36528035872989667
         },
         {
          "actual": 2.695831103667723,
          "ppf": -0.20102387496408525
         },
         {
          "actual": 3.269348111931,
          "ppf": 0.1931640093723694
         },
         {
          "actual": 3.173968781893404,
          "ppf": 0.13489116079665586
         },
         {
          "actual": 3.001187515219807,
          "ppf": -0.0009859912087363393
         },
         {
          "actual": 5.096757941283815,
          "ppf": 1.6090199173002404
         },
         {
          "actual": 2.796656263499515,
          "ppf": -0.13036978653345366
         },
         {
          "actual": 3.0053737564755747,
          "ppf": 0.0020616191082662902
         },
         {
          "actual": 2.1546305583189884,
          "ppf": -0.5816493153969605
         },
         {
          "actual": 4.948151298876615,
          "ppf": 1.4586599077811773
         },
         {
          "actual": 1.8629955321795033,
          "ppf": -0.7880177177949766
         },
         {
          "actual": 4.932002981344229,
          "ppf": 1.4522832354553834
         },
         {
          "actual": 2.540208064319154,
          "ppf": -0.29784228545042235
         },
         {
          "actual": 3.3330906902618755,
          "ppf": 0.23781485334055152
         },
         {
          "actual": 2.6222159713964617,
          "ppf": -0.24248926038817267
         },
         {
          "actual": 2.774603320850188,
          "ppf": -0.15137297977587746
         },
         {
          "actual": 6.123433571187303,
          "ppf": 2.520191908645305
         },
         {
          "actual": 1.302196899677224,
          "ppf": -1.1701904551086666
         },
         {
          "actual": 2.416121928723649,
          "ppf": -0.3789210855290044
         },
         {
          "actual": 1.8672132004324435,
          "ppf": -0.782486818780123
         },
         {
          "actual": 2.292769365320146,
          "ppf": -0.47237303505817574
         },
         {
          "actual": 1.1489804491374012,
          "ppf": -1.2681775677419584
         },
         {
          "actual": 1.9386263985299184,
          "ppf": -0.7193442096957505
         },
         {
          "actual": 2.7559276727224367,
          "ppf": -0.16698701553867676
         },
         {
          "actual": 0.8898926542746042,
          "ppf": -1.4586599077811777
         },
         {
          "actual": 3.5366411879010085,
          "ppf": 0.39024562883205344
         },
         {
          "actual": 4.939078019318847,
          "ppf": 1.4552057110432122
         },
         {
          "actual": 4.450777896670668,
          "ppf": 1.0342937035010538
         },
         {
          "actual": 1.580085774418476,
          "ppf": -0.9909875522099475
         },
         {
          "actual": 1.4230523789431606,
          "ppf": -1.1107642339370734
         },
         {
          "actual": 5.395729187674594,
          "ppf": 1.81535992686052
         },
         {
          "actual": 1.3639341902200477,
          "ppf": -1.1352376066034142
         },
         {
          "actual": 2.367862732744349,
          "ppf": -0.4055100541963006
         },
         {
          "actual": 4.225727026458801,
          "ppf": 0.8535515424610014
         },
         {
          "actual": 5.67453384343889,
          "ppf": 2.041563579506165
         },
         {
          "actual": 4.130937957188932,
          "ppf": 0.8032711859098735
         },
         {
          "actual": 3.010359231093489,
          "ppf": 0.00761909545697849
         },
         {
          "actual": 3.571429648206034,
          "ppf": 0.42197976355697453
         },
         {
          "actual": 3.524339661129339,
          "ppf": 0.36553588949342586
         },
         {
          "actual": 1.9077248171335082,
          "ppf": -0.7464689602854422
         },
         {
          "actual": 3.26278161629733,
          "ppf": 0.18957318951676413
         },
         {
          "actual": 4.82979805937514,
          "ppf": 1.3730461417424618
         },
         {
          "actual": 2.788208314740097,
          "ppf": -0.13736400575493457
         },
         {
          "actual": 4.050718364320451,
          "ppf": 0.7389889609148158
         },
         {
          "actual": 3.755434949105811,
          "ppf": 0.5466854589002923
         },
         {
          "actual": 4.390389124971845,
          "ppf": 0.9674374687771439
         },
         {
          "actual": 2.8214614820074226,
          "ppf": -0.11092697378669908
         },
         {
          "actual": 2.102408735156577,
          "ppf": -0.6254573714944807
         },
         {
          "actual": 0.7969538952177249,
          "ppf": -1.5315450978560867
         },
         {
          "actual": 0.9502291949472875,
          "ppf": -1.4021526460306022
         },
         {
          "actual": 3.7654914251763767,
          "ppf": 0.5579612967180626
         },
         {
          "actual": 3.4784467602383766,
          "ppf": 0.33061543030925816
         },
         {
          "actual": 2.3162458334501395,
          "ppf": -0.4460111443029711
         },
         {
          "actual": 1.8267764976798786,
          "ppf": -0.8080659566100812
         },
         {
          "actual": 4.499739177683189,
          "ppf": 1.0536674699563937
         },
         {
          "actual": 2.8724717625850995,
          "ppf": -0.08066976861191427
         },
         {
          "actual": 2.6868529073158682,
          "ppf": -0.20749165542163886
         },
         {
          "actual": 3.8998693433027736,
          "ppf": 0.6498428458042019
         },
         {
          "actual": 2.2207358838848257,
          "ppf": -0.5225569996719354
         },
         {
          "actual": 1.2700208467523193,
          "ppf": -1.1848929132299642
         },
         {
          "actual": 2.8720494623894512,
          "ppf": -0.08270829841293759
         },
         {
          "actual": 1.5842428872786547,
          "ppf": -0.9856314171273116
         },
         {
          "actual": 4.056276299853509,
          "ppf": 0.7430781267861747
         },
         {
          "actual": 3.0702625514459103,
          "ppf": 0.052520689452890325
         },
         {
          "actual": 0,
          "ppf": -1.894784464821899
         },
         {
          "actual": 3.1855622768749994,
          "ppf": 0.13977734706950376
         },
         {
          "actual": 1.005951851208737,
          "ppf": -1.353821718448798
         },
         {
          "actual": 4.2273425721519144,
          "ppf": 0.8567385620218462
         },
         {
          "actual": 1.507463709841912,
          "ppf": -1.0453753508713088
         },
         {
          "actual": 4.112780103422729,
          "ppf": 0.790955618528512
         },
         {
          "actual": 4.371098807739112,
          "ppf": 0.9535992173588926
         },
         {
          "actual": 2.01603271386908,
          "ppf": -0.6763476605630862
         },
         {
          "actual": 2.945514104772958,
          "ppf": -0.02082683162746455
         },
         {
          "actual": 2.7569108919710303,
          "ppf": -0.16432138082670458
         },
         {
          "actual": 4.580609684038563,
          "ppf": 1.1638149539162201
         },
         {
          "actual": 3.755434949105811,
          "ppf": 0.5476571543889694
         },
         {
          "actual": 2.829776078930752,
          "ppf": -0.10569752105297645
         },
         {
          "actual": 3.430886416750674,
          "ppf": 0.300529454115731
         },
         {
          "actual": 4.893357029023491,
          "ppf": 1.4161842116551036
         },
         {
          "actual": 0.5719191656508041,
          "ppf": -1.644472352161864
         },
         {
          "actual": 3.900307914154761,
          "ppf": 0.6508026181370059
         },
         {
          "actual": 0,
          "ppf": -2.2907112804825944
         },
         {
          "actual": 2.278373077506496,
          "ppf": -0.4818144285994197
         },
         {
          "actual": 5.088197042934141,
          "ppf": 1.5892743179686897
         },
         {
          "actual": 4.716496674713621,
          "ppf": 1.2655112162175817
         },
         {
          "actual": 4.175367276922587,
          "ppf": 0.8236532658212149
         },
         {
          "actual": 0.9871070865514906,
          "ppf": -1.3798263506027912
         },
         {
          "actual": 5.116680951397559,
          "ppf": 1.6238047818036048
         },
         {
          "actual": 3.407166506563578,
          "ppf": 0.2825719999247471
         },
         {
          "actual": 0.9716167529226515,
          "ppf": -1.3932648858825154
         },
         {
          "actual": 2.2343039793159547,
          "ppf": -0.5006246970171035
         },
         {
          "actual": 4.750613803306846,
          "ppf": 1.2986781607325386
         },
         {
          "actual": 3.0431709905990183,
          "ppf": 0.02979328811807349
         },
         {
          "actual": 2.9255329037569204,
          "ppf": -0.03391861900020476
         },
         {
          "actual": 2.155914046620168,
          "ppf": -0.5760674732678652
         },
         {
          "actual": 1.6999740168345643,
          "ppf": -0.9059083108632522
         },
         {
          "actual": 2.593080118036186,
          "ppf": -0.26817252253457563
         },
         {
          "actual": 3.985025359319576,
          "ppf": 0.7089338038479781
         },
         {
          "actual": 3.1855622768749994,
          "ppf": 0.140139418148928
         },
         {
          "actual": 3.3620052696846066,
          "ppf": 0.2511756517520873
         },
         {
          "actual": 3.732252271108892,
          "ppf": 0.5288006275618284
         },
         {
          "actual": 0.3490752797976886,
          "ppf": -1.7961390476144925
         },
         {
          "actual": 2.220415591715083,
          "ppf": -0.5257105579349682
         },
         {
          "actual": 4.7669860229180525,
          "ppf": 1.3145337422343486
         },
         {
          "actual": 1.4260887865264165,
          "ppf": -1.1020578940548318
         },
         {
          "actual": 2.8868885328590093,
          "ppf": -0.07036216512318486
         },
         {
          "actual": 4.058889146530598,
          "ppf": 0.7451273743513013
         },
         {
          "actual": 1.8446333475171952,
          "ppf": -0.793654704064659
         },
         {
          "actual": 3.9464410384504722,
          "ppf": 0.6831989580683678
         },
         {
          "actual": 3.0441101893667972,
          "ppf": 0.033081550939568084
         },
         {
          "actual": 3.9004292026240743,
          "ppf": 0.6556845964665992
         },
         {
          "actual": 2.490477233293557,
          "ppf": -0.32878568130898106
         },
         {
          "actual": 1.608476149863558,
          "ppf": -0.9682965768803112
         },
         {
          "actual": 1.019187780240878,
          "ppf": -1.3396152370777255
         },
         {
          "actual": 3.707966110755295,
          "ppf": 0.5083615001280071
         },
         {
          "actual": 3.2627816162973065,
          "ppf": 0.189025653293678
         },
         {
          "actual": 4.894313468844853,
          "ppf": 1.4179782809403998
         },
         {
          "actual": 4.645149574046115,
          "ppf": 1.2083689422602322
         },
         {
          "actual": 2.120758938451217,
          "ppf": -0.6097652748091725
         },
         {
          "actual": 1.6074482698219654,
          "ppf": -0.9697300140943227
         },
         {
          "actual": 3.736856749879319,
          "ppf": 0.5326531158867684
         },
         {
          "actual": 2.8927845595463504,
          "ppf": -0.06155872288386595
         },
         {
          "actual": 3.709818712891412,
          "ppf": 0.5102664136114603
         },
         {
          "actual": 5.780149261570917,
          "ppf": 2.1338998641236753
         },
         {
          "actual": 5.101442810238295,
          "ppf": 1.6144954351128475
         },
         {
          "actual": 1.0751430700725992,
          "ppf": -1.3056534311172499
         },
         {
          "actual": 1.0576347026571349,
          "ppf": -1.3153849066861367
         },
         {
          "actual": 0,
          "ppf": -2.256644074732729
         },
         {
          "actual": 5.726629609419581,
          "ppf": 2.075880816956916
         },
         {
          "actual": 5.217675197491759,
          "ppf": 1.6762478454937901
         },
         {
          "actual": 0.8853080942609701,
          "ppf": -1.4661459499065315
         },
         {
          "actual": 1.184167220522356,
          "ppf": -1.2465734628201814
         },
         {
          "actual": 4.284026050734948,
          "ppf": 0.8875950375430008
         },
         {
          "actual": 2.7646645528802716,
          "ppf": -0.1571178405334565
         },
         {
          "actual": 3.8735960624957424,
          "ppf": 0.629459062861408
         },
         {
          "actual": 3.0154021259550787,
          "ppf": 0.012818234649286555
         },
         {
          "actual": 3.755434949105811,
          "ppf": 0.5446049896273629
         },
         {
          "actual": 0.4620096778323629,
          "ppf": -1.7202144204492842
         },
         {
          "actual": 1.963397814880894,
          "ppf": -0.6944108246337976
         },
         {
          "actual": 3.5366411879010085,
          "ppf": 0.38927853611677077
         },
         {
          "actual": 5.363055181509576,
          "ppf": 1.7683528662501786
         },
         {
          "actual": 1.9779197836034235,
          "ppf": -0.6909167630284365
         },
         {
          "actual": 2.9295384692556814,
          "ppf": -0.031706417743487064
         },
         {
          "actual": 1.3837025781264733,
          "ppf": -1.1339864116264513
         },
         {
          "actual": 3.5044896143962023,
          "ppf": 0.3535513840353202
         },
         {
          "actual": 1.8941997474630254,
          "ppf": -0.7565343008060513
         },
         {
          "actual": 0.9716167529226515,
          "ppf": -1.3865143187813502
         },
         {
          "actual": 3.5086276758987616,
          "ppf": 0.354632977776364
         },
         {
          "actual": 4.396754015296639,
          "ppf": 0.9758685361091648
         },
         {
          "actual": 1.9444886952077538,
          "ppf": -0.7105481342028211
         },
         {
          "actual": 2.204091112177019,
          "ppf": -0.5337552779170184
         },
         {
          "actual": 4.362337830108205,
          "ppf": 0.9471223878459545
         },
         {
          "actual": 3.528313924252298,
          "ppf": 0.374879270728849
         },
         {
          "actual": 1.8330370199147117,
          "ppf": -0.8012925382759942
         },
         {
          "actual": 1.1252134488179804,
          "ppf": -1.2873736112133614
         },
         {
          "actual": 3.6528579846950935,
          "ppf": 0.473041242069288
         },
         {
          "actual": 2.208067914949105,
          "ppf": -0.5320334340588476
         },
         {
          "actual": 3.022986259565985,
          "ppf": 0.021603847923732204
         },
         {
          "actual": 2.605307870788762,
          "ppf": -0.2580271996006472
         },
         {
          "actual": 0,
          "ppf": -1.9668114756247566
         },
         {
          "actual": 1.0219595756782716,
          "ppf": -1.3330480615685643
         },
         {
          "actual": 4.176932742439277,
          "ppf": 0.8247443073923736
         },
         {
          "actual": 3.524339661129339,
          "ppf": 0.36496097881081996
         },
         {
          "actual": 3.274789773553707,
          "ppf": 0.19840256365526054
         },
         {
          "actual": 4.538000120394092,
          "ppf": 1.0985549473800222
         },
         {
          "actual": 3.4432416982938943,
          "ppf": 0.3089174554141461
         },
         {
          "actual": 4.362337830108205,
          "ppf": 0.9451590515816204
         },
         {
          "actual": 4.994938219805024,
          "ppf": 1.5187349048707324
         },
         {
          "actual": 4.132915747758526,
          "ppf": 0.8040139898883804
         },
         {
          "actual": 4.192648156736059,
          "ppf": 0.8378294557962479
         },
         {
          "actual": 1.3591106164673987,
          "ppf": -1.144851391460528
         },
         {
          "actual": 1.884639503067615,
          "ppf": -0.7644339679302921
         },
         {
          "actual": 4.569218378820624,
          "ppf": 1.1434715191590468
         },
         {
          "actual": 6.7577542843683736,
          "ppf": 3.0499752458731284
         },
         {
          "actual": 3.6528579846950935,
          "ppf": 0.4733754247778373
         },
         {
          "actual": 4.970039184653743,
          "ppf": 1.4965781333759802
         },
         {
          "actual": 0,
          "ppf": -2.1967909742758764
         },
         {
          "actual": 1.48940240914534,
          "ppf": -1.052107186247372
         },
         {
          "actual": 4.327330844988682,
          "ppf": 0.9219681980792123
         },
         {
          "actual": 2.5967828578491505,
          "ppf": -0.26631463762124796
         },
         {
          "actual": 1.2059321367864924,
          "ppf": -1.2162187837740386
         },
         {
          "actual": 5.019349751427631,
          "ppf": 1.5541375083901812
         },
         {
          "actual": 2.636083765945923,
          "ppf": -0.23640125845194135
         },
         {
          "actual": 2.119362452339387,
          "ppf": -0.6133675357753432
         },
         {
          "actual": 1.9444886952077538,
          "ppf": -0.7101636019989245
         },
         {
          "actual": 1.0751268738497024,
          "ppf": -1.3069157442518367
         },
         {
          "actual": 5.678542046640845,
          "ppf": 2.052244585991248
         },
         {
          "actual": 1.1527390269348001,
          "ppf": -1.2596766953064518
         },
         {
          "actual": 3.5960465328099387,
          "ppf": 0.4398150837343957
         },
         {
          "actual": 2.4635219210689523,
          "ppf": -0.35107164038528066
         },
         {
          "actual": 2.6945738980165728,
          "ppf": -0.20529409080074268
         },
         {
          "actual": 3.3620052696846066,
          "ppf": 0.2517307392968786
         },
         {
          "actual": 3.377668900112316,
          "ppf": 0.26396263477828663
         },
         {
          "actual": 2.8868885328590093,
          "ppf": -0.06934381405060287
         },
         {
          "actual": 4.67300320734512,
          "ppf": 1.2450154049412676
         },
         {
          "actual": 2.1290014557445143,
          "ppf": -0.601151907195895
         },
         {
          "actual": 4.508302097006854,
          "ppf": 1.0719577621572176
         },
         {
          "actual": 2.1290014557445143,
          "ppf": -0.6020112292391552
         },
         {
          "actual": 1.751025223392272,
          "ppf": -0.8778901455245766
         },
         {
          "actual": 0.7428932112806176,
          "ppf": -1.5664505021787118
         },
         {
          "actual": 4.397313163012543,
          "ppf": 0.9777943790157058
         },
         {
          "actual": 1.111670559093947,
          "ppf": -1.2899783001770748
         },
         {
          "actual": 2.6429557960529717,
          "ppf": -0.23179497412240524
         },
         {
          "actual": 3.5147130874097336,
          "ppf": 0.3598559344603959
         },
         {
          "actual": 2.7646645528802716,
          "ppf": -0.15760185244032401
         },
         {
          "actual": 3.6378848202065335,
          "ppf": 0.46297356284371083
         },
         {
          "actual": 2.208125452504616,
          "ppf": -0.5307946827403169
         },
         {
          "actual": 2.307951042922311,
          "ppf": -0.44997503327050936
         },
         {
          "actual": 2.783697010734388,
          "ppf": -0.14563311054584935
         },
         {
          "actual": 2.27774861075064,
          "ppf": -0.4848366622863829
         },
         {
          "actual": 3.996273186604174,
          "ppf": 0.7166377663473534
         },
         {
          "actual": 2.1888224213191445,
          "ppf": -0.5536375469027032
         },
         {
          "actual": 3.5961985620949077,
          "ppf": 0.44251553080806305
         },
         {
          "actual": 2.7344699605874148,
          "ppf": -0.18306722246976237
         },
         {
          "actual": 2.144230732715247,
          "ppf": -0.5921556057017812
         },
         {
          "actual": 3.0154021259550787,
          "ppf": 0.010965635362079907
         },
         {
          "actual": 3.016737919773344,
          "ppf": 0.01317680713737567
         },
         {
          "actual": 2.3510741554823262,
          "ppf": -0.42067369430583373
         },
         {
          "actual": 1.1763336655265293,
          "ppf": -1.253753596621254
         },
         {
          "actual": 2.266713632215092,
          "ppf": -0.48826722402600653
         },
         {
          "actual": 2.908856324191438,
          "ppf": -0.04845202644623418
         },
         {
          "actual": 3.3330906902618755,
          "ppf": 0.23744604375403539
         },
         {
          "actual": 1.510503602791671,
          "ppf": -1.041153372267345
         },
         {
          "actual": 1.1322193976457378,
          "ppf": -1.2759614364327052
         },
         {
          "actual": 0.7939863235715189,
          "ppf": -1.5350298185844549
         },
         {
          "actual": 3.0441101893667972,
          "ppf": 0.03242387089646919
         },
         {
          "actual": 0.906844956736631,
          "ppf": -1.4412218552859268
         },
         {
          "actual": 2.2316975468303566,
          "ppf": -0.5026577754057909
         },
         {
          "actual": 2.988060761712298,
          "ppf": -0.00522876423685482
         },
         {
          "actual": 1.7294636607200748,
          "ppf": -0.8894573024932575
         },
         {
          "actual": 4.870770474042966,
          "ppf": 1.388548518602768
         },
         {
          "actual": 0.9931960440732351,
          "ppf": -1.3704433450126439
         },
         {
          "actual": 3.70696469447091,
          "ppf": 0.507069930465799
         },
         {
          "actual": 4.470825915589864,
          "ppf": 1.0426958426148718
         },
         {
          "actual": 5.929283089815278,
          "ppf": 2.2697990650048725
         },
         {
          "actual": 2.454857498302297,
          "ppf": -0.35667004608242
         },
         {
          "actual": 3.2957667352069007,
          "ppf": 0.21121760117831584
         },
         {
          "actual": 1.9159372248403623,
          "ppf": -0.7324874902950221
         },
         {
          "actual": 3.430886416750674,
          "ppf": 0.30040442154526936
         },
         {
          "actual": 2.7244589498340868,
          "ppf": -0.189634030380257
         },
         {
          "actual": 3.269348111931,
          "ppf": 0.19109442224742623
         },
         {
          "actual": 5.47690979435395,
          "ppf": 1.944169743636949
         },
         {
          "actual": 3.528313924252298,
          "ppf": 0.37391783831651826
         },
         {
          "actual": 1.1506435925227891,
          "ppf": -1.262323423657791
         },
         {
          "actual": 4.4604470896494615,
          "ppf": 1.0418728832859263
         },
         {
          "actual": 2.5974395901204397,
          "ppf": -0.26563364374892706
         },
         {
          "actual": 2.1276546487095414,
          "ppf": -0.6055247553942821
         },
         {
          "actual": 2.5146028271476912,
          "ppf": -0.30822807671066055
         },
         {
          "actual": 3.4755091208110067,
          "ppf": 0.32695703241618485
         },
         {
          "actual": 2.9414615240161925,
          "ppf": -0.022799283244706363
         },
         {
          "actual": 2.0128259446992067,
          "ppf": -0.6813135499259217
         },
         {
          "actual": 4.061329289973509,
          "ppf": 0.7469427820362953
         },
         {
          "actual": 5.455861127619123,
          "ppf": 1.9187039349965642
         },
         {
          "actual": 0,
          "ppf": -2.094266993790458
         },
         {
          "actual": 3.4036440748965044,
          "ppf": 0.277786511349165
         },
         {
          "actual": 3.302705693436586,
          "ppf": 0.21990257814067024
         },
         {
          "actual": 3.07267620861106,
          "ppf": 0.060121897185460633
         },
         {
          "actual": 0.840039992588377,
          "ppf": -1.5054264967711226
         },
         {
          "actual": 2.9566524801316008,
          "ppf": -0.01532827925850046
         },
         {
          "actual": 1.48940240914534,
          "ppf": -1.0536674699563937
         },
         {
          "actual": 2.144230732715247,
          "ppf": -0.5936516454806796
         },
         {
          "actual": 2.0832825368373236,
          "ppf": -0.6412316214175398
         },
         {
          "actual": 2.7882083147401273,
          "ppf": -0.13513237741182765
         },
         {
          "actual": 4.929084158400154,
          "ppf": 1.443081392015495
         },
         {
          "actual": 3.6805219662150273,
          "ppf": 0.49642953820718316
         },
         {
          "actual": 4.345817421058076,
          "ppf": 0.9362297945775543
         },
         {
          "actual": 2.602207205865219,
          "ppf": -0.26260161687153816
         },
         {
          "actual": 2.890822807369191,
          "ppf": -0.06359444423334687
         },
         {
          "actual": 3.269348111931,
          "ppf": 0.19152044651854516
         },
         {
          "actual": 4.139741645044298,
          "ppf": 0.8091431960247097
         },
         {
          "actual": 1.7761351221353656,
          "ppf": -0.8653960191864968
         },
         {
          "actual": 3.0596508753302882,
          "ppf": 0.047315340376075286
         },
         {
          "actual": 0,
          "ppf": -1.9130863301702974
         },
         {
          "actual": 2.1546305583191705,
          "ppf": -0.5798102605099739
         },
         {
          "actual": 4.743604232480011,
          "ppf": 1.2910776339569
         },
         {
          "actual": 3.1552618520915843,
          "ppf": 0.12320130032787222
         },
         {
          "actual": 3.031647896955006,
          "ppf": 0.027581367459724386
         },
         {
          "actual": 4.09223746049992,
          "ppf": 0.7758488709738458
         },
         {
          "actual": 4.306967589086806,
          "ppf": 0.9005170839309998
         },
         {
          "actual": 1.982189859952828,
          "ppf": -0.6883396087336547
         },
         {
          "actual": 1.6719732306330108,
          "ppf": -0.9339166949482093
         },
         {
          "actual": 4.8417273687469615,
          "ppf": 1.3779709161822078
         },
         {
          "actual": 5.5167776211029596,
          "ppf": 1.9639257463174904
         },
         {
          "actual": 5.39986808492487,
          "ppf": 1.8269686428855876
         },
         {
          "actual": 0.9411358303022799,
          "ppf": -1.4126096845088172
         },
         {
          "actual": 2.1006601633959288,
          "ppf": -0.6298962202712018
         },
         {
          "actual": 5.457481091890467,
          "ppf": 1.9293550878509835
         },
         {
          "actual": 3.896359363320664,
          "ppf": 0.6458624845439886
         },
         {
          "actual": 1.3152452014187712,
          "ppf": -1.1614656242709454
         },
         {
          "actual": 2.490477233293557,
          "ppf": -0.32872260618001325
         },
         {
          "actual": 2.5775612633326594,
          "ppf": -0.27399992631399456
         },
         {
          "actual": 3.3620052696845284,
          "ppf": 0.25000405415321586
         },
         {
          "actual": 4.444863440115781,
          "ppf": 1.0299167528602846
         },
         {
          "actual": 1.8746408165910016,
          "ppf": -0.7673184168596909
         },
         {
          "actual": 3.7961778899170113,
          "ppf": 0.5805880825240879
         },
         {
          "actual": 0,
          "ppf": -2.078464696420133
         },
         {
          "actual": 1.2059321367864924,
          "ppf": -1.2197317746234355
         },
         {
          "actual": 2.6720578570043196,
          "ppf": -0.21207314826913273
         },
         {
          "actual": 4.796417570870996,
          "ppf": 1.3346480591702852
         },
         {
          "actual": 5.045295911404573,
          "ppf": 1.558148560220523
         },
         {
          "actual": 4.4171156138515855,
          "ppf": 1.0007009327975072
         },
         {
          "actual": 2.5428083173877183,
          "ppf": -0.2940963340568152
         },
         {
          "actual": 5.929283089815278,
          "ppf": 2.2777246992197826
         },
         {
          "actual": 4.499739177683189,
          "ppf": 1.0526269960882364
         },
         {
          "actual": 3.8676249661970203,
          "ppf": 0.624295124104838
         },
         {
          "actual": 3.4401732721962,
          "ppf": 0.30722560538089405
         },
         {
          "actual": 1.4230523789431606,
          "ppf": -1.1096575138219187
         },
         {
          "actual": 4.966250411567705,
          "ppf": 1.4684254231149425
         },
         {
          "actual": 3.525561133234381,
          "ppf": 0.3673892027176317
         },
         {
          "actual": 2.266713632215092,
          "ppf": -0.4888732130742796
         },
         {
          "actual": 5.007124244287206,
          "ppf": 1.53931439661662
         },
         {
          "actual": 1.9413691114438612,
          "ppf": -0.7137052727959541
         },
         {
          "actual": 6.000221185402019,
          "ppf": 2.367114520619674
         },
         {
          "actual": 4.312751948329676,
          "ppf": 0.9058182414138187
         },
         {
          "actual": 2.2293893181908566,
          "ppf": -0.5095858751504996
         },
         {
          "actual": 3.6805219662150273,
          "ppf": 0.4965647292322234
         },
         {
          "actual": 0,
          "ppf": -2.0292336206890016
         },
         {
          "actual": 1.4865206810072835,
          "ppf": -1.0607731642339189
         },
         {
          "actual": 2.367862732744349,
          "ppf": -0.4051208178740439
         },
         {
          "actual": 0.8712735334390269,
          "ppf": -1.4772645401210909
         },
         {
          "actual": 4.458771751233518,
          "ppf": 1.0403317333990743
         },
         {
          "actual": 3.2792759993142604,
          "ppf": 0.20096289861516015
         },
         {
          "actual": 1.7353541506439913,
          "ppf": -0.8838797105028503
         },
         {
          "actual": 3.1457986393566024,
          "ppf": 0.11435480359733739
         },
         {
          "actual": 3.989460954974613,
          "ppf": 0.7113175140068031
         },
         {
          "actual": 2.765546379586962,
          "ppf": -0.15614992701521238
         },
         {
          "actual": 2.258027515736348,
          "ppf": -0.4921081955929404
         },
         {
          "actual": 1.5247769284731836,
          "ppf": -1.0329683522493864
         },
         {
          "actual": 3.0239248973847586,
          "ppf": 0.023098147099171164
         },
         {
          "actual": 0.9244714143053222,
          "ppf": -1.4329983901844385
         },
         {
          "actual": 1.2054177560835395,
          "ppf": -1.2206123776907414
         },
         {
          "actual": 1.8903363942364204,
          "ppf": -0.7584450220880703
         },
         {
          "actual": 3.531041238937277,
          "ppf": 0.38284049546614296
         },
         {
          "actual": 4.47499019448454,
          "ppf": 1.0478554221622227
         },
         {
          "actual": 0.9383243141062194,
          "ppf": -1.4201044461346335
         },
         {
          "actual": 2.1178879207608583,
          "ppf": -0.6138003415173313
         },
         {
          "actual": 0.13729770037949993,
          "ppf": -1.859976268469641
         },
         {
          "actual": 3.053951169321343,
          "ppf": 0.04157298872848439
         },
         {
          "actual": 3.528244918876405,
          "ppf": 0.37302081314582847
         },
         {
          "actual": 4.081919214381382,
          "ppf": 0.7600394074442063
         },
         {
          "actual": 3.985025359319576,
          "ppf": 0.7090106348091793
         },
         {
          "actual": 4.559586339382318,
          "ppf": 1.1226923706250433
         },
         {
          "actual": 0.9716167529226515,
          "ppf": -1.3888619828184399
         },
         {
          "actual": 3.563947607832435,
          "ppf": 0.41135601665830257
         },
         {
          "actual": 3.412199584636813,
          "ppf": 0.28736396845432255
         },
         {
          "actual": 0.906844956736631,
          "ppf": -1.4415595822171021
         },
         {
          "actual": 3.37288826903426,
          "ppf": 0.261364749903417
         },
         {
          "actual": 2.5146028271476912,
          "ppf": -0.3086667552797648
         },
         {
          "actual": 3.3728809100135453,
          "ppf": 0.25969561315025574
         },
         {
          "actual": 4.233510743347458,
          "ppf": 0.8602803194430161
         },
         {
          "actual": 4.560855939374677,
          "ppf": 1.1304698315946287
         },
         {
          "actual": 3.1510533842988773,
          "ppf": 0.11934861991474294
         },
         {
          "actual": 1.4677539669554396,
          "ppf": -1.069731312943108
         },
         {
          "actual": 4.519907578345008,
          "ppf": 1.084783628258853
         },
         {
          "actual": 2.299095393719998,
          "ppf": -0.46177658636498614
         },
         {
          "actual": 3.79010595867689,
          "ppf": 0.5760674732678652
         },
         {
          "actual": 4.8851034547153676,
          "ppf": 1.4026319098541178
         },
         {
          "actual": 4.628371971944391,
          "ppf": 1.202807181124486
         },
         {
          "actual": 0.5912504837557058,
          "ppf": -1.6380383755735488
         },
         {
          "actual": 1.3639341902200477,
          "ppf": -1.1358069195113312
         },
         {
          "actual": 1.2023921056472973,
          "ppf": -1.2219980980120448
         },
         {
          "actual": 1.3152452014187712,
          "ppf": -1.161348326004553
         },
         {
          "actual": 4.458552747267952,
          "ppf": 1.0377686267488828
         },
         {
          "actual": 2.4876891296682557,
          "ppf": -0.32922724385541985
         },
         {
          "actual": 2.299095393719998,
          "ppf": -0.46190955105265696
         },
         {
          "actual": 2.662388424928325,
          "ppf": -0.2201474626634498
         },
         {
          "actual": 3.9003079141547916,
          "ppf": 0.6538335294505642
         },
         {
          "actual": 1.8941997474630254,
          "ppf": -0.7566934220328152
         },
         {
          "actual": 1.0751268738497024,
          "ppf": -1.3094466372356894
         },
         {
          "actual": 0,
          "ppf": -2.819116701865139
         },
         {
          "actual": 5.981868699047676,
          "ppf": 2.3223148811671717
         },
         {
          "actual": 4.628371971944391,
          "ppf": 1.2025608544750641
         },
         {
          "actual": 5.146315028436489,
          "ppf": 1.6426271279559987
         },
         {
          "actual": 3.480730914356997,
          "ppf": 0.3324462868748232
         },
         {
          "actual": 1.936786957678179,
          "ppf": -0.7208931164816935
         },
         {
          "actual": 0,
          "ppf": -1.8983942233108644
         },
         {
          "actual": 2.6429557960529717,
          "ppf": -0.22989248445915822
         },
         {
          "actual": 3.0482275529129854,
          "ppf": 0.04079548818047159
         },
         {
          "actual": 1.791378772391306,
          "ppf": -0.8511454953655045
         },
         {
          "actual": 2.036109123063246,
          "ppf": -0.6639306643971643
         },
         {
          "actual": 3.2627816162973065,
          "ppf": 0.18859983097043642
         },
         {
          "actual": 2.504240444700872,
          "ppf": -0.31726440646614457
         },
         {
          "actual": 4.8851034547153676,
          "ppf": 1.3994428811980006
         },
         {
          "actual": 0,
          "ppf": -1.997489392054617
         },
         {
          "actual": 0.6316664331944317,
          "ppf": -1.627837940278623
         },
         {
          "actual": 3.952025458716992,
          "ppf": 0.6858426177158337
         },
         {
          "actual": 2.359837558634838,
          "ppf": -0.40739223072527353
         },
         {
          "actual": 5.5384075878215215,
          "ppf": 1.9913761007741644
         },
         {
          "actual": 5.079036407995264,
          "ppf": 1.5821314402848954
         },
         {
          "actual": 2.15602177568387,
          "ppf": -0.5725439250909337
         },
         {
          "actual": 3.2232439389037912,
          "ppf": 0.15971984025159408
         },
         {
          "actual": 0.8667224430883744,
          "ppf": -1.4815486228115642
         },
         {
          "actual": 0,
          "ppf": -2.114506011123197
         },
         {
          "actual": 1.355739223772794,
          "ppf": -1.145311833601367
         },
         {
          "actual": 5.107735808886398,
          "ppf": 1.6200197900095985
         },
         {
          "actual": 2.1552148199230365,
          "ppf": -0.5790327891271042
         },
         {
          "actual": 3.221040396403972,
          "ppf": 0.15796488559521785
         },
         {
          "actual": 5.47690979435395,
          "ppf": 1.9394453276982389
         },
         {
          "actual": 3.0969604442133845,
          "ppf": 0.07893128780249253
         },
         {
          "actual": 3.021069162523424,
          "ppf": 0.01712122647121711
         },
         {
          "actual": 1.8746408165910016,
          "ppf": -0.770048492716151
         },
         {
          "actual": 2.1420093120039825,
          "ppf": -0.5945071220649698
         },
         {
          "actual": 2.7643767459296327,
          "ppf": -0.15971984025159408
         },
         {
          "actual": 1.8267764976798786,
          "ppf": -0.8067414093402794
         },
         {
          "actual": 1.0686342949042642,
          "ppf": -1.3104331421162927
         },
         {
          "actual": 4.418574043908383,
          "ppf": 1.0029711228351463
         },
         {
          "actual": 2.8890420708285225,
          "ppf": -0.06634907660339635
         },
         {
          "actual": 5.363055181509576,
          "ppf": 1.7692096561185142
         },
         {
          "actual": 3.331187494751894,
          "ppf": 0.23566391834680755
         },
         {
          "actual": 0,
          "ppf": -2.1061968104062463
         },
         {
          "actual": 3.7270218678385154,
          "ppf": 0.5170165766408297
         }
        ]
       },
       "encoding": {
        "x": {
         "field": "ppf",
         "type": "quantitative"
        },
        "y": {
         "field": "actual",
         "type": "quantitative"
        }
       },
       "mark": "point"
      },
      "image/png": "[encoded data removed]",
      "text/plain": [
       "<VegaLite 3 object>\n",
       "\n",
       "If you see this message, it means the renderer has not been properly enabled\n",
       "for the frontend that you are using. For more information, see\n",
       "https://altair-viz.github.io/user_guide/troubleshooting.html\n"
      ]
     },
     "execution_count": 65,
     "metadata": {},
     "output_type": "execute_result"
    }
   ],
   "source": [
    "import altair as alt\n",
    "\n",
    "alt.Chart(df.sample(n=5000)).mark_point().encode(x='ppf', y='actual')"
   ]
  },
  {
   "cell_type": "code",
   "execution_count": null,
   "metadata": {},
   "outputs": [],
   "source": []
  }
 ],
 "metadata": {
  "kernelspec": {
   "display_name": "Python 3",
   "language": "python",
   "name": "python3"
  },
  "language_info": {
   "codemirror_mode": {
    "name": "ipython",
    "version": 3
   },
   "file_extension": ".py",
   "mimetype": "text/x-python",
   "name": "python",
   "nbconvert_exporter": "python",
   "pygments_lexer": "ipython3",
   "version": "3.7.3"
  }
 },
 "nbformat": 4,
 "nbformat_minor": 4
}

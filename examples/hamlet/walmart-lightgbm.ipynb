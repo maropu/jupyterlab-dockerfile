{
 "cells": [
  {
   "cell_type": "code",
   "execution_count": 1,
   "metadata": {},
   "outputs": [
    {
     "data": {
      "text/html": [
       "<div>\n",
       "<style scoped>\n",
       "    .dataframe tbody tr th:only-of-type {\n",
       "        vertical-align: middle;\n",
       "    }\n",
       "\n",
       "    .dataframe tbody tr th {\n",
       "        vertical-align: top;\n",
       "    }\n",
       "\n",
       "    .dataframe thead th {\n",
       "        text-align: right;\n",
       "    }\n",
       "</style>\n",
       "<table border=\"1\" class=\"dataframe\">\n",
       "  <thead>\n",
       "    <tr style=\"text-align: right;\">\n",
       "      <th></th>\n",
       "      <th>weekly_sales</th>\n",
       "      <th>sid</th>\n",
       "      <th>dept</th>\n",
       "      <th>store</th>\n",
       "      <th>type</th>\n",
       "      <th>size</th>\n",
       "      <th>temperature_stdev</th>\n",
       "      <th>fuel_price_avg</th>\n",
       "      <th>fuel_price_stdev</th>\n",
       "      <th>cpi_avg</th>\n",
       "      <th>cpi_stdev</th>\n",
       "      <th>unemployment_avg</th>\n",
       "      <th>unemployment_stdev</th>\n",
       "      <th>holidayfreq</th>\n",
       "    </tr>\n",
       "  </thead>\n",
       "  <tbody>\n",
       "    <tr>\n",
       "      <th>0</th>\n",
       "      <td>6</td>\n",
       "      <td>253385</td>\n",
       "      <td>5</td>\n",
       "      <td>24</td>\n",
       "      <td>1</td>\n",
       "      <td>203819</td>\n",
       "      <td>34.785</td>\n",
       "      <td>9.963135</td>\n",
       "      <td>3.499</td>\n",
       "      <td>0.268701</td>\n",
       "      <td>134.613271</td>\n",
       "      <td>2.638256</td>\n",
       "      <td>8.3645</td>\n",
       "      <td>0.126572</td>\n",
       "    </tr>\n",
       "  </tbody>\n",
       "</table>\n",
       "</div>"
      ],
      "text/plain": [
       "   weekly_sales     sid  dept  store  type    size  temperature_stdev  \\\n",
       "0             6  253385     5     24     1  203819             34.785   \n",
       "\n",
       "   fuel_price_avg  fuel_price_stdev   cpi_avg   cpi_stdev  unemployment_avg  \\\n",
       "0        9.963135             3.499  0.268701  134.613271          2.638256   \n",
       "\n",
       "   unemployment_stdev  holidayfreq  \n",
       "0              8.3645     0.126572  "
      ]
     },
     "execution_count": 1,
     "metadata": {},
     "output_type": "execute_result"
    }
   ],
   "source": [
    "df = pd.read_parquet('walmart.parquet')\n",
    "df.head(1)"
   ]
  },
  {
   "cell_type": "code",
   "execution_count": 5,
   "metadata": {},
   "outputs": [],
   "source": [
    "from sklearn.model_selection import train_test_split\n",
    "\n",
    "X = df[df.columns[df.columns != 'weekly_sales']]\n",
    "y = df['weekly_sales']\n",
    "X_train, X_test, y_train, y_test = train_test_split(X, y, train_size=0.75)"
   ]
  },
  {
   "cell_type": "code",
   "execution_count": 7,
   "metadata": {},
   "outputs": [
    {
     "data": {
      "text/plain": [
       "LGBMClassifier(boosting_type='gbdt', class_weight=None, colsample_bytree=1.0,\n",
       "               importance_type='split', learning_rate=0.1, max_depth=6,\n",
       "               min_child_samples=20, min_child_weight=0.001, min_data_in_leaf=4,\n",
       "               min_split_gain=0.0, n_estimators=100, n_jobs=-1, num_leaves=6,\n",
       "               objective=None, random_state=None, reg_alpha=0.0, reg_lambda=0.0,\n",
       "               silent=True, subsample=1.0, subsample_for_bin=200000,\n",
       "               subsample_freq=0)"
      ]
     },
     "execution_count": 7,
     "metadata": {},
     "output_type": "execute_result"
    }
   ],
   "source": [
    "import lightgbm as lgb\n",
    "\n",
    "clf = lgb.LGBMClassifier(num_leaves=6, min_data_in_leaf=4, max_depth=6)\n",
    "clf.fit(X_train, y_train)"
   ]
  },
  {
   "cell_type": "code",
   "execution_count": 14,
   "metadata": {},
   "outputs": [
    {
     "data": {
      "text/plain": [
       "[('dept', 2260),\n",
       " ('size', 516),\n",
       " ('store', 244),\n",
       " ('unemployment_stdev', 119),\n",
       " ('type', 81),\n",
       " ('unemployment_avg', 54),\n",
       " ('holidayfreq', 48),\n",
       " ('cpi_stdev', 46),\n",
       " ('cpi_avg', 41),\n",
       " ('temperature_stdev', 35),\n",
       " ('sid', 26),\n",
       " ('fuel_price_avg', 16),\n",
       " ('fuel_price_stdev', 14)]"
      ]
     },
     "execution_count": 14,
     "metadata": {},
     "output_type": "execute_result"
    }
   ],
   "source": [
    "fts = zip(X_train.columns, clf.feature_importances_)\n",
    "sorted(fts, key=lambda x:x[1], reverse=True)"
   ]
  },
  {
   "cell_type": "code",
   "execution_count": 23,
   "metadata": {},
   "outputs": [
    {
     "data": {
      "text/plain": [
       "<matplotlib.axes._subplots.AxesSubplot at 0x7f3d8ef314a8>"
      ]
     },
     "execution_count": 23,
     "metadata": {},
     "output_type": "execute_result"
    },
    {
     "data": {
      "image/png": "[encoded data removed]",
      "text/plain": [
       "<Figure size 432x288 with 1 Axes>"
      ]
     },
     "metadata": {
      "needs_background": "light"
     },
     "output_type": "display_data"
    }
   ],
   "source": [
    "lgb.plot_importance(clf, max_num_features=10)"
   ]
  },
  {
   "cell_type": "code",
   "execution_count": 20,
   "metadata": {},
   "outputs": [
    {
     "name": "stdout",
     "output_type": "stream",
     "text": [
      "RMSE: 0.934733\n"
     ]
    }
   ],
   "source": [
    "from sklearn.metrics import mean_squared_error  \n",
    "\n",
    "pred = clf.predict(X_test)\n",
    "print('RMSE: %f' % np.sqrt(mean_squared_error(y_test, pred)))"
   ]
  },
  {
   "cell_type": "code",
   "execution_count": 25,
   "metadata": {},
   "outputs": [
    {
     "data": {
      "image/svg+xml": [
       "<?xml version=\"1.0\" encoding=\"UTF-8\" standalone=\"no\"?>\n",
       "<!DOCTYPE svg PUBLIC \"-//W3C//DTD SVG 1.1//EN\"\n",
       " \"http://www.w3.org/Graphics/SVG/1.1/DTD/svg11.dtd\">\n",
       "<!-- Generated by graphviz version 2.40.1 (20161225.0304)\n",
       " -->\n",
       "<!-- Title: %3 Pages: 1 -->\n",
       "<svg width=\"1480pt\" height=\"481pt\"\n",
       " viewBox=\"0.00 0.00 1479.90 480.70\" xmlns=\"http://www.w3.org/2000/svg\" xmlns:xlink=\"http://www.w3.org/1999/xlink\">\n",
       "<g id=\"graph0\" class=\"graph\" transform=\"scale(1 1) rotate(0) translate(4 476.7006)\">\n",
       "<title>%3</title>\n",
       "<polygon fill=\"#ffffff\" stroke=\"transparent\" points=\"-4,4 -4,-476.7006 1475.8965,-476.7006 1475.8965,4 -4,4\"/>\n",
       "<!-- split0 -->\n",
       "<g id=\"node1\" class=\"node\">\n",
       "<title>split0</title>\n",
       "<ellipse fill=\"none\" stroke=\"#000000\" cx=\"651.9483\" cy=\"-445.8305\" rx=\"171.2398\" ry=\"26.7407\"/>\n",
       "<text text-anchor=\"middle\" x=\"651.9483\" y=\"-449.6305\" font-family=\"Times,serif\" font-size=\"14.00\" fill=\"#000000\">split_feature_name: dept</text>\n",
       "<text text-anchor=\"middle\" x=\"651.9483\" y=\"-434.6305\" font-family=\"Times,serif\" font-size=\"14.00\" fill=\"#000000\">threshold: 46.50000000000001</text>\n",
       "</g>\n",
       "<!-- leaf0 -->\n",
       "<g id=\"node2\" class=\"node\">\n",
       "<title>leaf0</title>\n",
       "<ellipse fill=\"none\" stroke=\"#000000\" cx=\"627.9483\" cy=\"-341.0904\" rx=\"177.4676\" ry=\"26.7407\"/>\n",
       "<text text-anchor=\"middle\" x=\"627.9483\" y=\"-344.8904\" font-family=\"Times,serif\" font-size=\"14.00\" fill=\"#000000\">leaf_index: 0</text>\n",
       "<text text-anchor=\"middle\" x=\"627.9483\" y=\"-329.8904\" font-family=\"Times,serif\" font-size=\"14.00\" fill=\"#000000\">leaf_value: &#45;5.877384709039663</text>\n",
       "</g>\n",
       "<!-- split0&#45;&gt;leaf0 -->\n",
       "<g id=\"edge1\" class=\"edge\">\n",
       "<title>split0&#45;&gt;leaf0</title>\n",
       "<path fill=\"none\" stroke=\"#000000\" d=\"M645.7677,-418.8573C642.9122,-406.3957 639.4768,-391.4027 636.3875,-377.9206\"/>\n",
       "<polygon fill=\"#000000\" stroke=\"#000000\" points=\"639.7531,-376.9378 634.1079,-367.9722 632.9299,-378.5013 639.7531,-376.9378\"/>\n",
       "<text text-anchor=\"middle\" x=\"654.4483\" y=\"-389.7605\" font-family=\"Times,serif\" font-size=\"14.00\" fill=\"#000000\">&lt;=</text>\n",
       "</g>\n",
       "<!-- split1 -->\n",
       "<g id=\"node3\" class=\"node\">\n",
       "<title>split1</title>\n",
       "<ellipse fill=\"none\" stroke=\"#000000\" cx=\"994.9483\" cy=\"-341.0904\" rx=\"171.2398\" ry=\"26.7407\"/>\n",
       "<text text-anchor=\"middle\" x=\"994.9483\" y=\"-344.8904\" font-family=\"Times,serif\" font-size=\"14.00\" fill=\"#000000\">split_feature_name: dept</text>\n",
       "<text text-anchor=\"middle\" x=\"994.9483\" y=\"-329.8904\" font-family=\"Times,serif\" font-size=\"14.00\" fill=\"#000000\">threshold: 47.50000000000001</text>\n",
       "</g>\n",
       "<!-- split0&#45;&gt;split1 -->\n",
       "<g id=\"edge10\" class=\"edge\">\n",
       "<title>split0&#45;&gt;split1</title>\n",
       "<path fill=\"none\" stroke=\"#000000\" d=\"M730.2095,-421.9323C782.8086,-405.8704 852.2194,-384.6748 906.7716,-368.0165\"/>\n",
       "<polygon fill=\"#000000\" stroke=\"#000000\" points=\"907.8884,-371.335 916.4302,-365.0671 905.844,-364.6402 907.8884,-371.335\"/>\n",
       "<text text-anchor=\"middle\" x=\"851.4483\" y=\"-389.7605\" font-family=\"Times,serif\" font-size=\"14.00\" fill=\"#000000\">&gt;</text>\n",
       "</g>\n",
       "<!-- split2 -->\n",
       "<g id=\"node4\" class=\"node\">\n",
       "<title>split2</title>\n",
       "<ellipse fill=\"none\" stroke=\"#000000\" cx=\"731.9483\" cy=\"-236.3503\" rx=\"171.2398\" ry=\"26.7407\"/>\n",
       "<text text-anchor=\"middle\" x=\"731.9483\" y=\"-240.1503\" font-family=\"Times,serif\" font-size=\"14.00\" fill=\"#000000\">split_feature_name: sid</text>\n",
       "<text text-anchor=\"middle\" x=\"731.9483\" y=\"-225.1503\" font-family=\"Times,serif\" font-size=\"14.00\" fill=\"#000000\">threshold: 57911.50000000001</text>\n",
       "</g>\n",
       "<!-- split1&#45;&gt;split2 -->\n",
       "<g id=\"edge8\" class=\"edge\">\n",
       "<title>split1&#45;&gt;split2</title>\n",
       "<path fill=\"none\" stroke=\"#000000\" d=\"M931.9532,-316.0025C893.5458,-300.7067 844.3212,-281.103 804.3176,-265.1715\"/>\n",
       "<polygon fill=\"#000000\" stroke=\"#000000\" points=\"805.4699,-261.8631 794.8845,-261.4147 802.8799,-268.3663 805.4699,-261.8631\"/>\n",
       "<text text-anchor=\"middle\" x=\"892.4483\" y=\"-285.0203\" font-family=\"Times,serif\" font-size=\"14.00\" fill=\"#000000\">&lt;=</text>\n",
       "</g>\n",
       "<!-- leaf2 -->\n",
       "<g id=\"node11\" class=\"node\">\n",
       "<title>leaf2</title>\n",
       "<ellipse fill=\"none\" stroke=\"#000000\" cx=\"1098.9483\" cy=\"-236.3503\" rx=\"177.4676\" ry=\"26.7407\"/>\n",
       "<text text-anchor=\"middle\" x=\"1098.9483\" y=\"-240.1503\" font-family=\"Times,serif\" font-size=\"14.00\" fill=\"#000000\">leaf_index: 2</text>\n",
       "<text text-anchor=\"middle\" x=\"1098.9483\" y=\"-225.1503\" font-family=\"Times,serif\" font-size=\"14.00\" fill=\"#000000\">leaf_value: &#45;5.841065593399469</text>\n",
       "</g>\n",
       "<!-- split1&#45;&gt;leaf2 -->\n",
       "<g id=\"edge9\" class=\"edge\">\n",
       "<title>split1&#45;&gt;leaf2</title>\n",
       "<path fill=\"none\" stroke=\"#000000\" d=\"M1021.461,-314.389C1034.7854,-300.9698 1051.076,-284.5632 1065.2758,-270.2624\"/>\n",
       "<polygon fill=\"#000000\" stroke=\"#000000\" points=\"1067.9217,-272.5651 1072.484,-263.0029 1062.9544,-267.6329 1067.9217,-272.5651\"/>\n",
       "<text text-anchor=\"middle\" x=\"1060.4483\" y=\"-285.0203\" font-family=\"Times,serif\" font-size=\"14.00\" fill=\"#000000\">&gt;</text>\n",
       "</g>\n",
       "<!-- split3 -->\n",
       "<g id=\"node5\" class=\"node\">\n",
       "<title>split3</title>\n",
       "<ellipse fill=\"none\" stroke=\"#000000\" cx=\"542.9483\" cy=\"-131.6102\" rx=\"177.4676\" ry=\"26.7407\"/>\n",
       "<text text-anchor=\"middle\" x=\"542.9483\" y=\"-135.4102\" font-family=\"Times,serif\" font-size=\"14.00\" fill=\"#000000\">split_feature_name: size</text>\n",
       "<text text-anchor=\"middle\" x=\"542.9483\" y=\"-120.4102\" font-family=\"Times,serif\" font-size=\"14.00\" fill=\"#000000\">threshold: 205023.50000000003</text>\n",
       "</g>\n",
       "<!-- split2&#45;&gt;split3 -->\n",
       "<g id=\"edge4\" class=\"edge\">\n",
       "<title>split2&#45;&gt;split3</title>\n",
       "<path fill=\"none\" stroke=\"#000000\" d=\"M685.2292,-210.4595C659.105,-195.982 626.3698,-177.8407 598.8868,-162.6102\"/>\n",
       "<polygon fill=\"#000000\" stroke=\"#000000\" points=\"600.2282,-159.3521 589.785,-157.5662 596.8351,-165.4748 600.2282,-159.3521\"/>\n",
       "<text text-anchor=\"middle\" x=\"661.4483\" y=\"-180.2802\" font-family=\"Times,serif\" font-size=\"14.00\" fill=\"#000000\">&lt;=</text>\n",
       "</g>\n",
       "<!-- split4 -->\n",
       "<g id=\"node8\" class=\"node\">\n",
       "<title>split4</title>\n",
       "<ellipse fill=\"none\" stroke=\"#000000\" cx=\"921.9483\" cy=\"-131.6102\" rx=\"177.4676\" ry=\"26.7407\"/>\n",
       "<text text-anchor=\"middle\" x=\"921.9483\" y=\"-135.4102\" font-family=\"Times,serif\" font-size=\"14.00\" fill=\"#000000\">split_feature_name: cpi_stdev</text>\n",
       "<text text-anchor=\"middle\" x=\"921.9483\" y=\"-120.4102\" font-family=\"Times,serif\" font-size=\"14.00\" fill=\"#000000\">threshold: 214.83777205000004</text>\n",
       "</g>\n",
       "<!-- split2&#45;&gt;split4 -->\n",
       "<g id=\"edge7\" class=\"edge\">\n",
       "<title>split2&#45;&gt;split4</title>\n",
       "<path fill=\"none\" stroke=\"#000000\" d=\"M778.9146,-210.4595C805.2911,-195.919 838.3717,-177.6829 866.0739,-162.4117\"/>\n",
       "<polygon fill=\"#000000\" stroke=\"#000000\" points=\"867.796,-165.459 874.8638,-157.5662 864.4166,-159.3288 867.796,-165.459\"/>\n",
       "<text text-anchor=\"middle\" x=\"845.4483\" y=\"-180.2802\" font-family=\"Times,serif\" font-size=\"14.00\" fill=\"#000000\">&gt;</text>\n",
       "</g>\n",
       "<!-- leaf1 -->\n",
       "<g id=\"node6\" class=\"node\">\n",
       "<title>leaf1</title>\n",
       "<ellipse fill=\"none\" stroke=\"#000000\" cx=\"173.9483\" cy=\"-26.8701\" rx=\"173.8966\" ry=\"26.7407\"/>\n",
       "<text text-anchor=\"middle\" x=\"173.9483\" y=\"-30.6701\" font-family=\"Times,serif\" font-size=\"14.00\" fill=\"#000000\">leaf_index: 1</text>\n",
       "<text text-anchor=\"middle\" x=\"173.9483\" y=\"-15.6701\" font-family=\"Times,serif\" font-size=\"14.00\" fill=\"#000000\">leaf_value: 7.205758106885867</text>\n",
       "</g>\n",
       "<!-- split3&#45;&gt;leaf1 -->\n",
       "<g id=\"edge2\" class=\"edge\">\n",
       "<title>split3&#45;&gt;leaf1</title>\n",
       "<path fill=\"none\" stroke=\"#000000\" d=\"M459.2165,-107.843C402.0119,-91.6056 326.1643,-70.0764 267.0583,-53.2992\"/>\n",
       "<polygon fill=\"#000000\" stroke=\"#000000\" points=\"267.9244,-49.9069 257.3487,-50.5432 266.0129,-56.6408 267.9244,-49.9069\"/>\n",
       "<text text-anchor=\"middle\" x=\"393.4483\" y=\"-75.5401\" font-family=\"Times,serif\" font-size=\"14.00\" fill=\"#000000\">&lt;=</text>\n",
       "</g>\n",
       "<!-- leaf4 -->\n",
       "<g id=\"node7\" class=\"node\">\n",
       "<title>leaf4</title>\n",
       "<ellipse fill=\"none\" stroke=\"#000000\" cx=\"542.9483\" cy=\"-26.8701\" rx=\"177.4676\" ry=\"26.7407\"/>\n",
       "<text text-anchor=\"middle\" x=\"542.9483\" y=\"-30.6701\" font-family=\"Times,serif\" font-size=\"14.00\" fill=\"#000000\">leaf_index: 4</text>\n",
       "<text text-anchor=\"middle\" x=\"542.9483\" y=\"-15.6701\" font-family=\"Times,serif\" font-size=\"14.00\" fill=\"#000000\">leaf_value: &#45;5.904045774443423</text>\n",
       "</g>\n",
       "<!-- split3&#45;&gt;leaf4 -->\n",
       "<g id=\"edge3\" class=\"edge\">\n",
       "<title>split3&#45;&gt;leaf4</title>\n",
       "<path fill=\"none\" stroke=\"#000000\" d=\"M542.9483,-104.637C542.9483,-92.2976 542.9483,-77.4761 542.9483,-64.0972\"/>\n",
       "<polygon fill=\"#000000\" stroke=\"#000000\" points=\"546.4484,-63.7518 542.9483,-53.7518 539.4484,-63.7519 546.4484,-63.7518\"/>\n",
       "<text text-anchor=\"middle\" x=\"549.4483\" y=\"-75.5401\" font-family=\"Times,serif\" font-size=\"14.00\" fill=\"#000000\">&gt;</text>\n",
       "</g>\n",
       "<!-- leaf3 -->\n",
       "<g id=\"node9\" class=\"node\">\n",
       "<title>leaf3</title>\n",
       "<ellipse fill=\"none\" stroke=\"#000000\" cx=\"921.9483\" cy=\"-26.8701\" rx=\"183.6957\" ry=\"26.7407\"/>\n",
       "<text text-anchor=\"middle\" x=\"921.9483\" y=\"-30.6701\" font-family=\"Times,serif\" font-size=\"14.00\" fill=\"#000000\">leaf_index: 3</text>\n",
       "<text text-anchor=\"middle\" x=\"921.9483\" y=\"-15.6701\" font-family=\"Times,serif\" font-size=\"14.00\" fill=\"#000000\">leaf_value: &#45;1.5855221429467266</text>\n",
       "</g>\n",
       "<!-- split4&#45;&gt;leaf3 -->\n",
       "<g id=\"edge5\" class=\"edge\">\n",
       "<title>split4&#45;&gt;leaf3</title>\n",
       "<path fill=\"none\" stroke=\"#000000\" d=\"M921.9483,-104.637C921.9483,-92.2976 921.9483,-77.4761 921.9483,-64.0972\"/>\n",
       "<polygon fill=\"#000000\" stroke=\"#000000\" points=\"925.4484,-63.7518 921.9483,-53.7518 918.4484,-63.7519 925.4484,-63.7518\"/>\n",
       "<text text-anchor=\"middle\" x=\"934.4483\" y=\"-75.5401\" font-family=\"Times,serif\" font-size=\"14.00\" fill=\"#000000\">&lt;=</text>\n",
       "</g>\n",
       "<!-- leaf5 -->\n",
       "<g id=\"node10\" class=\"node\">\n",
       "<title>leaf5</title>\n",
       "<ellipse fill=\"none\" stroke=\"#000000\" cx=\"1297.9483\" cy=\"-26.8701\" rx=\"173.8966\" ry=\"26.7407\"/>\n",
       "<text text-anchor=\"middle\" x=\"1297.9483\" y=\"-30.6701\" font-family=\"Times,serif\" font-size=\"14.00\" fill=\"#000000\">leaf_index: 5</text>\n",
       "<text text-anchor=\"middle\" x=\"1297.9483\" y=\"-15.6701\" font-family=\"Times,serif\" font-size=\"14.00\" fill=\"#000000\">leaf_value: 3.215817795176882</text>\n",
       "</g>\n",
       "<!-- split4&#45;&gt;leaf5 -->\n",
       "<g id=\"edge6\" class=\"edge\">\n",
       "<title>split4&#45;&gt;leaf5</title>\n",
       "<path fill=\"none\" stroke=\"#000000\" d=\"M1006.7988,-107.9738C1065.2735,-91.6849 1143.0309,-70.0245 1203.4783,-53.186\"/>\n",
       "<polygon fill=\"#000000\" stroke=\"#000000\" points=\"1204.7124,-56.4756 1213.4064,-50.4204 1202.8339,-49.7323 1204.7124,-56.4756\"/>\n",
       "<text text-anchor=\"middle\" x=\"1139.4483\" y=\"-75.5401\" font-family=\"Times,serif\" font-size=\"14.00\" fill=\"#000000\">&gt;</text>\n",
       "</g>\n",
       "</g>\n",
       "</svg>\n"
      ],
      "text/plain": [
       "<graphviz.dot.Digraph at 0x7f3d8c6c6d68>"
      ]
     },
     "execution_count": 25,
     "metadata": {},
     "output_type": "execute_result"
    }
   ],
   "source": [
    "lgb.create_tree_digraph(clf)"
   ]
  },
  {
   "cell_type": "code",
   "execution_count": 21,
   "metadata": {},
   "outputs": [
    {
     "ename": "AttributeError",
     "evalue": "'LGBMClassifier' object has no attribute 'tree_'",
     "output_type": "error",
     "traceback": [
      "\u001b[0;31m---------------------------------------------------------------------------\u001b[0m",
      "\u001b[0;31mAttributeError\u001b[0m                            Traceback (most recent call last)",
      "\u001b[0;32m<ipython-input-21-d43ae23724f0>\u001b[0m in \u001b[0;36m<module>\u001b[0;34m\u001b[0m\n\u001b[1;32m      7\u001b[0m     \u001b[0mtarget_name\u001b[0m\u001b[0;34m=\u001b[0m\u001b[0;34m'weekly_sales'\u001b[0m\u001b[0;34m,\u001b[0m\u001b[0;34m\u001b[0m\u001b[0;34m\u001b[0m\u001b[0m\n\u001b[1;32m      8\u001b[0m     \u001b[0mfeature_names\u001b[0m\u001b[0;34m=\u001b[0m\u001b[0mX\u001b[0m\u001b[0;34m.\u001b[0m\u001b[0mcolumns\u001b[0m\u001b[0;34m,\u001b[0m\u001b[0;34m\u001b[0m\u001b[0;34m\u001b[0m\u001b[0m\n\u001b[0;32m----> 9\u001b[0;31m     class_names=['1', '2', '3', '4', '5', '6', '7'])\n\u001b[0m\u001b[1;32m     10\u001b[0m \u001b[0;34m\u001b[0m\u001b[0m\n\u001b[1;32m     11\u001b[0m \u001b[0mviz\u001b[0m\u001b[0;34m.\u001b[0m\u001b[0mview\u001b[0m\u001b[0;34m(\u001b[0m\u001b[0;34m)\u001b[0m\u001b[0;34m\u001b[0m\u001b[0;34m\u001b[0m\u001b[0m\n",
      "\u001b[0;32m/opt/conda/lib/python3.7/site-packages/dtreeviz/trees.py\u001b[0m in \u001b[0;36mdtreeviz\u001b[0;34m(tree_model, X_train, y_train, feature_names, target_name, class_names, precision, orientation, show_root_edge_labels, show_node_labels, fancy, histtype, highlight_path, X, max_X_features_LR, max_X_features_TD, label_fontsize, ticks_fontsize, fontname, colors)\u001b[0m\n\u001b[1;32m    690\u001b[0m \u001b[0;34m\u001b[0m\u001b[0m\n\u001b[1;32m    691\u001b[0m     shadow_tree = ShadowDecTree(tree_model, X_train, y_train,\n\u001b[0;32m--> 692\u001b[0;31m                                 feature_names=feature_names, class_names=class_names)\n\u001b[0m\u001b[1;32m    693\u001b[0m \u001b[0;34m\u001b[0m\u001b[0m\n\u001b[1;32m    694\u001b[0m     \u001b[0;32mif\u001b[0m \u001b[0mX\u001b[0m \u001b[0;32mis\u001b[0m \u001b[0;32mnot\u001b[0m \u001b[0;32mNone\u001b[0m\u001b[0;34m:\u001b[0m\u001b[0;34m\u001b[0m\u001b[0;34m\u001b[0m\u001b[0m\n",
      "\u001b[0;32m/opt/conda/lib/python3.7/site-packages/dtreeviz/shadow.py\u001b[0m in \u001b[0;36m__init__\u001b[0;34m(self, tree_model, X_train, y_train, feature_names, class_names)\u001b[0m\n\u001b[1;32m     41\u001b[0m         \u001b[0mself\u001b[0m\u001b[0;34m.\u001b[0m\u001b[0mclass_weight\u001b[0m \u001b[0;34m=\u001b[0m \u001b[0mtree_model\u001b[0m\u001b[0;34m.\u001b[0m\u001b[0mclass_weight\u001b[0m\u001b[0;34m\u001b[0m\u001b[0;34m\u001b[0m\u001b[0m\n\u001b[1;32m     42\u001b[0m \u001b[0;34m\u001b[0m\u001b[0m\n\u001b[0;32m---> 43\u001b[0;31m         \u001b[0;32mif\u001b[0m \u001b[0mgetattr\u001b[0m\u001b[0;34m(\u001b[0m\u001b[0mtree_model\u001b[0m\u001b[0;34m,\u001b[0m \u001b[0;34m'tree_'\u001b[0m\u001b[0;34m)\u001b[0m \u001b[0;32mis\u001b[0m \u001b[0;32mNone\u001b[0m\u001b[0;34m:\u001b[0m \u001b[0;31m# make sure model is fit\u001b[0m\u001b[0;34m\u001b[0m\u001b[0;34m\u001b[0m\u001b[0m\n\u001b[0m\u001b[1;32m     44\u001b[0m             \u001b[0mtree_model\u001b[0m\u001b[0;34m.\u001b[0m\u001b[0mfit\u001b[0m\u001b[0;34m(\u001b[0m\u001b[0mX_train\u001b[0m\u001b[0;34m,\u001b[0m \u001b[0my_train\u001b[0m\u001b[0;34m)\u001b[0m\u001b[0;34m\u001b[0m\u001b[0;34m\u001b[0m\u001b[0m\n\u001b[1;32m     45\u001b[0m \u001b[0;34m\u001b[0m\u001b[0m\n",
      "\u001b[0;31mAttributeError\u001b[0m: 'LGBMClassifier' object has no attribute 'tree_'"
     ]
    }
   ],
   "source": [
    "from dtreeviz.trees import dtreeviz\n",
    "\n",
    "viz = dtreeviz(\n",
    "    clf,\n",
    "    X_train,\n",
    "    y_train,\n",
    "    target_name='weekly_sales',\n",
    "    feature_names=X.columns,\n",
    "    class_names=['1', '2', '3', '4', '5', '6', '7'])\n",
    "                                                                                                                                            \n",
    "viz.view()"
   ]
  },
  {
   "cell_type": "code",
   "execution_count": null,
   "metadata": {},
   "outputs": [],
   "source": []
  }
 ],
 "metadata": {
  "kernelspec": {
   "display_name": "Python 3",
   "language": "python",
   "name": "python3"
  },
  "language_info": {
   "codemirror_mode": {
    "name": "ipython",
    "version": 3
   },
   "file_extension": ".py",
   "mimetype": "text/x-python",
   "name": "python",
   "nbconvert_exporter": "python",
   "pygments_lexer": "ipython3",
   "version": "3.7.3"
  }
 },
 "nbformat": 4,
 "nbformat_minor": 4
}

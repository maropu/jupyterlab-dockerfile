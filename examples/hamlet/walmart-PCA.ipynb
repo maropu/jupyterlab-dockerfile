{
 "cells": [
  {
   "cell_type": "code",
   "execution_count": 1,
   "metadata": {},
   "outputs": [
    {
     "data": {
      "text/html": [
       "<div>\n",
       "<style scoped>\n",
       "    .dataframe tbody tr th:only-of-type {\n",
       "        vertical-align: middle;\n",
       "    }\n",
       "\n",
       "    .dataframe tbody tr th {\n",
       "        vertical-align: top;\n",
       "    }\n",
       "\n",
       "    .dataframe thead th {\n",
       "        text-align: right;\n",
       "    }\n",
       "</style>\n",
       "<table border=\"1\" class=\"dataframe\">\n",
       "  <thead>\n",
       "    <tr style=\"text-align: right;\">\n",
       "      <th></th>\n",
       "      <th>weekly_sales</th>\n",
       "      <th>sid</th>\n",
       "      <th>dept</th>\n",
       "      <th>store</th>\n",
       "      <th>type</th>\n",
       "      <th>size</th>\n",
       "      <th>temperature_stdev</th>\n",
       "      <th>fuel_price_avg</th>\n",
       "      <th>fuel_price_stdev</th>\n",
       "      <th>cpi_avg</th>\n",
       "      <th>cpi_stdev</th>\n",
       "      <th>unemployment_avg</th>\n",
       "      <th>unemployment_stdev</th>\n",
       "      <th>holidayfreq</th>\n",
       "    </tr>\n",
       "  </thead>\n",
       "  <tbody>\n",
       "    <tr>\n",
       "      <th>2445</th>\n",
       "      <td>3</td>\n",
       "      <td>178004</td>\n",
       "      <td>32</td>\n",
       "      <td>41</td>\n",
       "      <td>1</td>\n",
       "      <td>196321</td>\n",
       "      <td>70.723333</td>\n",
       "      <td>3.264618</td>\n",
       "      <td>3.292</td>\n",
       "      <td>0.524034</td>\n",
       "      <td>193.706356</td>\n",
       "      <td>3.892596</td>\n",
       "      <td>6.889333</td>\n",
       "      <td>0.451613</td>\n",
       "    </tr>\n",
       "  </tbody>\n",
       "</table>\n",
       "</div>"
      ],
      "text/plain": [
       "      weekly_sales     sid  dept  store  type    size  temperature_stdev  \\\n",
       "2445             3  178004    32     41     1  196321          70.723333   \n",
       "\n",
       "      fuel_price_avg  fuel_price_stdev   cpi_avg   cpi_stdev  \\\n",
       "2445        3.264618             3.292  0.524034  193.706356   \n",
       "\n",
       "      unemployment_avg  unemployment_stdev  holidayfreq  \n",
       "2445          3.892596            6.889333     0.451613  "
      ]
     },
     "execution_count": 1,
     "metadata": {},
     "output_type": "execute_result"
    }
   ],
   "source": [
    "df = pd.read_parquet('walmart.parquet').sample(n=100)\n",
    "df.head(1)"
   ]
  },
  {
   "cell_type": "code",
   "execution_count": 3,
   "metadata": {},
   "outputs": [],
   "source": [
    "df = df[['weekly_sales', 'dept', 'size', 'store', 'unemployment_stdev']]"
   ]
  },
  {
   "cell_type": "code",
   "execution_count": 4,
   "metadata": {},
   "outputs": [],
   "source": [
    "X = df[df.columns[df.columns != 'weekly_sales']]\n",
    "y = df['weekly_sales']"
   ]
  },
  {
   "cell_type": "code",
   "execution_count": 5,
   "metadata": {},
   "outputs": [
    {
     "data": {
      "text/plain": [
       "array([0, 1, 2, 3, 4, 5, 6], dtype=int32)"
      ]
     },
     "execution_count": 5,
     "metadata": {},
     "output_type": "execute_result"
    }
   ],
   "source": [
    "np.unique(y)"
   ]
  },
  {
   "cell_type": "code",
   "execution_count": 6,
   "metadata": {},
   "outputs": [
    {
     "data": {
      "text/plain": [
       "PCA(copy=True, iterated_power='auto', n_components=2, random_state=None,\n",
       "    svd_solver='auto', tol=0.0, whiten=False)"
      ]
     },
     "execution_count": 6,
     "metadata": {},
     "output_type": "execute_result"
    }
   ],
   "source": [
    "from sklearn.decomposition import PCA\n",
    "\n",
    "pca = PCA(n_components=2)\n",
    "pca.fit(X)"
   ]
  },
  {
   "cell_type": "code",
   "execution_count": 7,
   "metadata": {},
   "outputs": [],
   "source": [
    "tf = pca.fit_transform(X)"
   ]
  },
  {
   "cell_type": "code",
   "execution_count": 8,
   "metadata": {},
   "outputs": [
    {
     "name": "stdout",
     "output_type": "stream",
     "text": [
      "components: [[-4.07549779e-05 -9.99999999e-01  2.11013836e-05  7.90095062e-07]\n",
      " [ 9.99254606e-01 -3.99094975e-05  3.85568791e-02  1.89659315e-03]]\n",
      "mean: [4.8620000e+01 1.3618663e+05 2.1540000e+01 7.8022450e+00]\n",
      "covariance: <bound method _BasePCA.get_covariance of PCA(copy=True, iterated_power='auto', n_components=2, random_state=None,\n",
      "    svd_solver='auto', tol=0.0, whiten=False)>\n",
      "contribution ratio: [9.99999703e-01 2.62480521e-07]\n",
      "accumulated contribution ratio: 0.9999999652010995\n"
     ]
    }
   ],
   "source": [
    "print('components: {0}'.format(pca.components_))\n",
    "print('mean: {0}'.format(pca.mean_))\n",
    "print('covariance: {0}'.format(pca.get_covariance))\n",
    "print('contribution ratio: {0}'.format(pca.explained_variance_ratio_))\n",
    "print('accumulated contribution ratio: {0}'.format(sum(pca.explained_variance_ratio_)))"
   ]
  },
  {
   "cell_type": "code",
   "execution_count": 9,
   "metadata": {},
   "outputs": [
    {
     "data": {
      "text/plain": [
       "<matplotlib.collections.PathCollection at 0x7f135c1d64a8>"
      ]
     },
     "execution_count": 9,
     "metadata": {},
     "output_type": "execute_result"
    },
    {
     "data": {
      "text/plain": [
       "Text(0.5, 1.0, 'principal component')"
      ]
     },
     "execution_count": 9,
     "metadata": {},
     "output_type": "execute_result"
    },
    {
     "data": {
      "text/plain": [
       "Text(0.5, 0, 'pc1')"
      ]
     },
     "execution_count": 9,
     "metadata": {},
     "output_type": "execute_result"
    },
    {
     "data": {
      "text/plain": [
       "Text(0, 0.5, 'pc2')"
      ]
     },
     "execution_count": 9,
     "metadata": {},
     "output_type": "execute_result"
    },
    {
     "data": {
      "text/plain": [
       "<matplotlib.collections.PathCollection at 0x7f135c1d6898>"
      ]
     },
     "execution_count": 9,
     "metadata": {},
     "output_type": "execute_result"
    },
    {
     "data": {
      "text/plain": [
       "Text(0.5, 1.0, 'principal component')"
      ]
     },
     "execution_count": 9,
     "metadata": {},
     "output_type": "execute_result"
    },
    {
     "data": {
      "text/plain": [
       "Text(0.5, 0, 'pc1')"
      ]
     },
     "execution_count": 9,
     "metadata": {},
     "output_type": "execute_result"
    },
    {
     "data": {
      "text/plain": [
       "Text(0, 0.5, 'pc2')"
      ]
     },
     "execution_count": 9,
     "metadata": {},
     "output_type": "execute_result"
    },
    {
     "data": {
      "text/plain": [
       "<matplotlib.collections.PathCollection at 0x7f135c1d67f0>"
      ]
     },
     "execution_count": 9,
     "metadata": {},
     "output_type": "execute_result"
    },
    {
     "data": {
      "text/plain": [
       "Text(0.5, 1.0, 'principal component')"
      ]
     },
     "execution_count": 9,
     "metadata": {},
     "output_type": "execute_result"
    },
    {
     "data": {
      "text/plain": [
       "Text(0.5, 0, 'pc1')"
      ]
     },
     "execution_count": 9,
     "metadata": {},
     "output_type": "execute_result"
    },
    {
     "data": {
      "text/plain": [
       "Text(0, 0.5, 'pc2')"
      ]
     },
     "execution_count": 9,
     "metadata": {},
     "output_type": "execute_result"
    },
    {
     "data": {
      "text/plain": [
       "<matplotlib.collections.PathCollection at 0x7f135c1d6828>"
      ]
     },
     "execution_count": 9,
     "metadata": {},
     "output_type": "execute_result"
    },
    {
     "data": {
      "text/plain": [
       "Text(0.5, 1.0, 'principal component')"
      ]
     },
     "execution_count": 9,
     "metadata": {},
     "output_type": "execute_result"
    },
    {
     "data": {
      "text/plain": [
       "Text(0.5, 0, 'pc1')"
      ]
     },
     "execution_count": 9,
     "metadata": {},
     "output_type": "execute_result"
    },
    {
     "data": {
      "text/plain": [
       "Text(0, 0.5, 'pc2')"
      ]
     },
     "execution_count": 9,
     "metadata": {},
     "output_type": "execute_result"
    },
    {
     "data": {
      "text/plain": [
       "<matplotlib.collections.PathCollection at 0x7f135c1d6860>"
      ]
     },
     "execution_count": 9,
     "metadata": {},
     "output_type": "execute_result"
    },
    {
     "data": {
      "text/plain": [
       "Text(0.5, 1.0, 'principal component')"
      ]
     },
     "execution_count": 9,
     "metadata": {},
     "output_type": "execute_result"
    },
    {
     "data": {
      "text/plain": [
       "Text(0.5, 0, 'pc1')"
      ]
     },
     "execution_count": 9,
     "metadata": {},
     "output_type": "execute_result"
    },
    {
     "data": {
      "text/plain": [
       "Text(0, 0.5, 'pc2')"
      ]
     },
     "execution_count": 9,
     "metadata": {},
     "output_type": "execute_result"
    },
    {
     "data": {
      "text/plain": [
       "<matplotlib.collections.PathCollection at 0x7f135c1d6c50>"
      ]
     },
     "execution_count": 9,
     "metadata": {},
     "output_type": "execute_result"
    },
    {
     "data": {
      "text/plain": [
       "Text(0.5, 1.0, 'principal component')"
      ]
     },
     "execution_count": 9,
     "metadata": {},
     "output_type": "execute_result"
    },
    {
     "data": {
      "text/plain": [
       "Text(0.5, 0, 'pc1')"
      ]
     },
     "execution_count": 9,
     "metadata": {},
     "output_type": "execute_result"
    },
    {
     "data": {
      "text/plain": [
       "Text(0, 0.5, 'pc2')"
      ]
     },
     "execution_count": 9,
     "metadata": {},
     "output_type": "execute_result"
    },
    {
     "data": {
      "text/plain": [
       "<matplotlib.collections.PathCollection at 0x7f135c1d6e80>"
      ]
     },
     "execution_count": 9,
     "metadata": {},
     "output_type": "execute_result"
    },
    {
     "data": {
      "text/plain": [
       "Text(0.5, 1.0, 'principal component')"
      ]
     },
     "execution_count": 9,
     "metadata": {},
     "output_type": "execute_result"
    },
    {
     "data": {
      "text/plain": [
       "Text(0.5, 0, 'pc1')"
      ]
     },
     "execution_count": 9,
     "metadata": {},
     "output_type": "execute_result"
    },
    {
     "data": {
      "text/plain": [
       "Text(0, 0.5, 'pc2')"
      ]
     },
     "execution_count": 9,
     "metadata": {},
     "output_type": "execute_result"
    },
    {
     "data": {
      "image/png": "[encoded data removed]",
      "text/plain": [
       "<Figure size 432x288 with 1 Axes>"
      ]
     },
     "metadata": {
      "needs_background": "light"
     },
     "output_type": "display_data"
    }
   ],
   "source": [
    "from matplotlib import pyplot as plt\n",
    "\n",
    "for label in np.unique(y):\n",
    "    plt.scatter(tf[y == label, 0], tf[y == label, 1])\n",
    "    plt.title('principal component')\n",
    "    plt.xlabel('pc1')\n",
    "    plt.ylabel('pc2')\n",
    "    \n",
    "plt.show()"
   ]
  },
  {
   "cell_type": "code",
   "execution_count": 94,
   "metadata": {},
   "outputs": [
    {
     "data": {
      "application/vnd.vegalite.v3+json": {
       "$schema": "https://vega.github.io/schema/vega-lite/v3.4.0.json",
       "config": {
        "mark": {
         "tooltip": null
        },
        "view": {
         "height": 300,
         "width": 400
        }
       },
       "datasets": {
        "data-0b4aff83167a06dd980a108de10f5f09": [
         {
          "pc1": 154552.42115973934,
          "pc2": -10005.013700366278
         },
         {
          "pc1": 197930.13554021265,
          "pc2": 104077.03677739447
         },
         {
          "pc1": -81191.73328520074,
          "pc2": 31142.23119273191
         },
         {
          "pc1": -123408.56350537078,
          "pc2": -72914.50389842442
         },
         {
          "pc1": 208595.57427517755,
          "pc2": 24736.28956900082
         },
         {
          "pc1": -125256.22921134613,
          "pc2": 93726.16034152017
         },
         {
          "pc1": 107461.3167999931,
          "pc2": 101338.03503720289
         },
         {
          "pc1": -107837.19414456924,
          "pc2": -21158.794065762933
         },
         {
          "pc1": -106732.13461599304,
          "pc2": 94332.059299337
         },
         {
          "pc1": 165019.53516372584,
          "pc2": 103220.68615781589
         },
         {
          "pc1": -120102.79359712565,
          "pc2": 12888.42706570672
         },
         {
          "pc1": -79151.69300745534,
          "pc2": -61480.5787321261
         },
         {
          "pc1": 179990.4075998408,
          "pc2": 100410.60761343563
         },
         {
          "pc1": 99352.49453946108,
          "pc2": 103372.04472690567
         }
        ],
        "data-1053f001888432808fcb3233f4829814": [
         {
          "pc1": 121029.43884594989,
          "pc2": -62800.13541387828
         },
         {
          "pc1": 117451.9896010145,
          "pc2": 26781.794545875862
         },
         {
          "pc1": -169522.3661555969,
          "pc2": 11271.979742111756
         },
         {
          "pc1": 104250.36810711173,
          "pc2": -78795.21325808956
         },
         {
          "pc1": 19789.838547843858,
          "pc2": 80954.06659466244
         },
         {
          "pc1": -132491.72619695557,
          "pc2": 75973.142654507
         },
         {
          "pc1": -15414.458709934368,
          "pc2": 102136.51880357866
         },
         {
          "pc1": -4313.469564026433,
          "pc2": -66534.73751216626
         },
         {
          "pc1": -51287.31599819068,
          "pc2": -4385.1419924922875
         },
         {
          "pc1": 21272.413174307498,
          "pc2": 10054.637971256736
         },
         {
          "pc1": 110985.87099680015,
          "pc2": -62763.45310399545
         },
         {
          "pc1": -122196.42661324487,
          "pc2": -70390.52771136591
         },
         {
          "pc1": -140315.32750395004,
          "pc2": 39706.98917034582
         },
         {
          "pc1": 198863.62076257722,
          "pc2": -59820.047359182485
         },
         {
          "pc1": -153651.02780003246,
          "pc2": 17914.383916119463
         },
         {
          "pc1": -108543.67851861185,
          "pc2": -24214.525404461278
         },
         {
          "pc1": -160725.25633480464,
          "pc2": 4101.742175318839
         },
         {
          "pc1": 205656.61280867047,
          "pc2": -63348.862766210914
         },
         {
          "pc1": -47405.21031480476,
          "pc2": -70428.53884711282
         },
         {
          "pc1": -123757.38547539039,
          "pc2": 15202.194986524388
         },
         {
          "pc1": 65013.35180453324,
          "pc2": -80078.60165477618
         },
         {
          "pc1": -11890.343398752617,
          "pc2": 102251.78745202803
         },
         {
          "pc1": -45223.463366606156,
          "pc2": 42367.074552384795
         },
         {
          "pc1": 151582.34642543196,
          "pc2": 16592.115336047456
         },
         {
          "pc1": 20702.366839425107,
          "pc2": -68200.83368449048
         }
        ],
        "data-124837d36843ecde73b11ea09bdc7605": [
         {
          "pc1": 165891.79471635068,
          "pc2": 72209.63477314128
         },
         {
          "pc1": -14050.635639803493,
          "pc2": 13271.599237985061
         },
         {
          "pc1": -47435.12222574513,
          "pc2": 65231.999875703
         },
         {
          "pc1": 213600.027301378,
          "pc2": 4278.9635314329635
         },
         {
          "pc1": 167040.52028664746,
          "pc2": 19194.84501179265
         },
         {
          "pc1": -48169.077582815786,
          "pc2": -68334.39034418039
         },
         {
          "pc1": 197991.65864010062,
          "pc2": -40197.06406484689
         },
         {
          "pc1": -34406.61295083925,
          "pc2": 96477.6190074052
         },
         {
          "pc1": -116750.77522562466,
          "pc2": 94004.36339944944
         },
         {
          "pc1": -108167.99092987637,
          "pc2": -70296.87227124427
         },
         {
          "pc1": -17284.984456454607,
          "pc2": -65446.20280324737
         },
         {
          "pc1": -74905.43223904197,
          "pc2": 64333.48397439539
         },
         {
          "pc1": -56711.69601234064,
          "pc2": -19481.538411479636
         },
         {
          "pc1": -187134.78737034393,
          "pc2": -23752.510162194492
         },
         {
          "pc1": -98980.791447752,
          "pc2": -23901.73475583217
         },
         {
          "pc1": 218926.19763863258,
          "pc2": -13503.43051846724
         },
         {
          "pc1": 192808.42908468918,
          "pc2": -40366.60130563057
         },
         {
          "pc1": -123828.35631051981,
          "pc2": 76256.51050677004
         },
         {
          "pc1": -152141.83668742498,
          "pc2": 17963.746205355077
         },
         {
          "pc1": 62291.98720251542,
          "pc2": 104678.19280009497
         },
         {
          "pc1": 199197.73093452363,
          "pc2": 3807.8843601449535
         },
         {
          "pc1": -138016.93275101826,
          "pc2": -7221.9484212836705
         },
         {
          "pc1": -188265.189659632,
          "pc2": 11755.514217764265
         },
         {
          "pc1": 65733.26012074968,
          "pc2": 13784.110288993588
         },
         {
          "pc1": 98515.75338177098,
          "pc2": -65655.66270757407
         },
         {
          "pc1": -100639.47012597164,
          "pc2": -69608.381629089
         },
         {
          "pc1": -120021.83677509443,
          "pc2": -21552.32632934368
         },
         {
          "pc1": -172344.09989003776,
          "pc2": 19599.18358666776
         },
         {
          "pc1": -51490.92237610213,
          "pc2": -48357.29955488867
         },
         {
          "pc1": -196483.19099302965,
          "pc2": 18809.62640792348
         },
         {
          "pc1": -60743.25767914039,
          "pc2": -4694.431683051633
         },
         {
          "pc1": 95650.74036958377,
          "pc2": -10732.95937272768
         },
         {
          "pc1": 53351.74462450613,
          "pc2": -18919.145444119888
         },
         {
          "pc1": -49142.366846939185,
          "pc2": 42238.89222660706
         },
         {
          "pc1": -12153.607178185941,
          "pc2": -14259.0925709431
         }
        ],
        "data-328fbefae831ed662ebd9f8780380ca1": [
         {
          "pc1": -138912.04526794696,
          "pc2": -70124.83450499542
         },
         {
          "pc1": -137416.71248889712,
          "pc2": 18445.383990194936
         },
         {
          "pc1": 114944.60810474471,
          "pc2": -64679.06317547563
         },
         {
          "pc1": 205094.02886625796,
          "pc2": -59608.254107217006
         },
         {
          "pc1": 1197.9917123549574,
          "pc2": 44335.696793844974
         },
         {
          "pc1": -141570.62427565738,
          "pc2": 89892.78608024486
         },
         {
          "pc1": 46270.69354536742,
          "pc2": -67364.52836802888
         },
         {
          "pc1": -185732.5100932722,
          "pc2": -72833.90275360053
         },
         {
          "pc1": -103190.65325100305,
          "pc2": -70134.07163631453
         },
         {
          "pc1": -30426.59140673123,
          "pc2": -18626.797540576194
         },
         {
          "pc1": 3036.352425208481,
          "pc2": -58792.31943754441
         },
         {
          "pc1": -12145.423033875215,
          "pc2": -68836.00354242288
         },
         {
          "pc1": -170916.47885087365,
          "pc2": -87795.54792668135
         },
         {
          "pc1": -174124.90552162778,
          "pc2": -23321.96587702767
         }
        ],
        "data-589e2fcb896db6c2c72501f32b504f69": [
         {
          "pc1": -139059.0179401314,
          "pc2": 6406.25886116946
         },
         {
          "pc1": 84402.47785466943,
          "pc2": 13715.380384560007
         }
        ],
        "data-8affe8a2107ff5b9c596ef2527aae724": [
         {
          "pc1": 121483.47069117059,
          "pc2": -64904.42025818474
         },
         {
          "pc1": 134878.4110693927,
          "pc2": -42261.41151123902
         },
         {
          "pc1": 198970.81660920332,
          "pc2": -59885.585084190025
         },
         {
          "pc1": -120842.39850231358,
          "pc2": -62844.225450763195
         },
         {
          "pc1": 137826.9074927398,
          "pc2": 15462.821378133238
         },
         {
          "pc1": 150081.7149024446,
          "pc2": 21725.79336493211
         },
         {
          "pc1": 189443.11955186003,
          "pc2": 25446.557510530725
         },
         {
          "pc1": -51812.30725111511,
          "pc2": 95908.2955994584
         },
         {
          "pc1": 59397.12762645111,
          "pc2": -11918.765121337394
         },
         {
          "pc1": 178308.77081001143,
          "pc2": 23745.648694137315
         }
        ]
       },
       "hconcat": [
        {
         "data": {
          "name": "data-0b4aff83167a06dd980a108de10f5f09"
         },
         "encoding": {
          "x": {
           "field": "pc1",
           "type": "quantitative"
          },
          "y": {
           "field": "pc2",
           "type": "quantitative"
          }
         },
         "height": 200,
         "mark": "point",
         "selection": {
          "selector026": {
           "bind": "scales",
           "encodings": [
            "x",
            "y"
           ],
           "type": "interval"
          }
         },
         "width": 200
        },
        {
         "data": {
          "name": "data-124837d36843ecde73b11ea09bdc7605"
         },
         "encoding": {
          "x": {
           "field": "pc1",
           "type": "quantitative"
          },
          "y": {
           "field": "pc2",
           "type": "quantitative"
          }
         },
         "height": 200,
         "mark": "point",
         "selection": {
          "selector027": {
           "bind": "scales",
           "encodings": [
            "x",
            "y"
           ],
           "type": "interval"
          }
         },
         "width": 200
        },
        {
         "data": {
          "name": "data-8affe8a2107ff5b9c596ef2527aae724"
         },
         "encoding": {
          "x": {
           "field": "pc1",
           "type": "quantitative"
          },
          "y": {
           "field": "pc2",
           "type": "quantitative"
          }
         },
         "height": 200,
         "mark": "point",
         "selection": {
          "selector028": {
           "bind": "scales",
           "encodings": [
            "x",
            "y"
           ],
           "type": "interval"
          }
         },
         "width": 200
        },
        {
         "data": {
          "name": "data-1053f001888432808fcb3233f4829814"
         },
         "encoding": {
          "x": {
           "field": "pc1",
           "type": "quantitative"
          },
          "y": {
           "field": "pc2",
           "type": "quantitative"
          }
         },
         "height": 200,
         "mark": "point",
         "selection": {
          "selector029": {
           "bind": "scales",
           "encodings": [
            "x",
            "y"
           ],
           "type": "interval"
          }
         },
         "width": 200
        },
        {
         "data": {
          "name": "data-328fbefae831ed662ebd9f8780380ca1"
         },
         "encoding": {
          "x": {
           "field": "pc1",
           "type": "quantitative"
          },
          "y": {
           "field": "pc2",
           "type": "quantitative"
          }
         },
         "height": 200,
         "mark": "point",
         "selection": {
          "selector030": {
           "bind": "scales",
           "encodings": [
            "x",
            "y"
           ],
           "type": "interval"
          }
         },
         "width": 200
        },
        {
         "data": {
          "name": "data-589e2fcb896db6c2c72501f32b504f69"
         },
         "encoding": {
          "x": {
           "field": "pc1",
           "type": "quantitative"
          },
          "y": {
           "field": "pc2",
           "type": "quantitative"
          }
         },
         "height": 200,
         "mark": "point",
         "selection": {
          "selector031": {
           "bind": "scales",
           "encodings": [
            "x",
            "y"
           ],
           "type": "interval"
          }
         },
         "width": 200
        }
       ]
      },
      "image/png": "[encoded data removed]",
      "text/plain": [
       "<VegaLite 3 object>\n",
       "\n",
       "If you see this message, it means the renderer has not been properly enabled\n",
       "for the frontend that you are using. For more information, see\n",
       "https://altair-viz.github.io/user_guide/troubleshooting.html\n"
      ]
     },
     "execution_count": 94,
     "metadata": {},
     "output_type": "execute_result"
    }
   ],
   "source": [
    "import altair as alt\n",
    "\n",
    "plots = []\n",
    "\n",
    "for label in np.unique(y):\n",
    "    pcs = pd.DataFrame({'pc1': tf[y == label, 0], 'pc2': tf[y == label, 1]})\n",
    "    plot = alt.Chart(pcs).mark_point().encode(x='pc1', y='pc2').properties(width=200, height=200).interactive() \n",
    "    plots.append(plot)\n",
    "\n",
    "alt.hconcat(*plots)"
   ]
  },
  {
   "cell_type": "code",
   "execution_count": null,
   "metadata": {},
   "outputs": [],
   "source": []
  }
 ],
 "metadata": {
  "kernelspec": {
   "display_name": "Python 3",
   "language": "python",
   "name": "python3"
  },
  "language_info": {
   "codemirror_mode": {
    "name": "ipython",
    "version": 3
   },
   "file_extension": ".py",
   "mimetype": "text/x-python",
   "name": "python",
   "nbconvert_exporter": "python",
   "pygments_lexer": "ipython3",
   "version": "3.7.3"
  }
 },
 "nbformat": 4,
 "nbformat_minor": 4
}

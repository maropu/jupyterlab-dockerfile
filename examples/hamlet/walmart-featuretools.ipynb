{
 "cells": [
  {
   "cell_type": "code",
   "execution_count": 1,
   "metadata": {},
   "outputs": [],
   "source": [
    "# Loads S_sales in Walmart data\n",
    "spark.read.option('header', True).option('inferSchema', True) \\\n",
    "  .csv('./dataset/RealWorldDatasets/WalMart/S_sales.csv').createOrReplaceTempView('S_sales')\n",
    "\n",
    "S_sales = spark.sql(\n",
    "    \"SELECT \" \\\n",
    "        \"(CAST(TRIM(BOTH '\\\\'' FROM weekly_sales) AS INT) - 1) weekly_sales, \" \\\n",
    "        \"CAST(TRIM(BOTH '\\\\'' FROM sid) AS INT) sid, \" \\\n",
    "        \"CAST(TRIM(BOTH '\\\\'' FROM dept) AS INT) dept, \" \\\n",
    "        \"CAST(TRIM(BOTH '\\\\'' FROM store) AS INT) store, \" \\\n",
    "        \"HASH(purchaseid) purchaseid \" \\\n",
    "    \"FROM \" \\\n",
    "        \"S_sales s\").toPandas()"
   ]
  },
  {
   "cell_type": "code",
   "execution_count": 2,
   "metadata": {},
   "outputs": [
    {
     "data": {
      "text/html": [
       "<div>\n",
       "<style scoped>\n",
       "    .dataframe tbody tr th:only-of-type {\n",
       "        vertical-align: middle;\n",
       "    }\n",
       "\n",
       "    .dataframe tbody tr th {\n",
       "        vertical-align: top;\n",
       "    }\n",
       "\n",
       "    .dataframe thead th {\n",
       "        text-align: right;\n",
       "    }\n",
       "</style>\n",
       "<table border=\"1\" class=\"dataframe\">\n",
       "  <thead>\n",
       "    <tr style=\"text-align: right;\">\n",
       "      <th></th>\n",
       "      <th>weekly_sales</th>\n",
       "      <th>sid</th>\n",
       "      <th>dept</th>\n",
       "      <th>store</th>\n",
       "      <th>purchaseid</th>\n",
       "    </tr>\n",
       "  </thead>\n",
       "  <tbody>\n",
       "    <tr>\n",
       "      <th>0</th>\n",
       "      <td>3</td>\n",
       "      <td>159739</td>\n",
       "      <td>1</td>\n",
       "      <td>42</td>\n",
       "      <td>-518970915</td>\n",
       "    </tr>\n",
       "  </tbody>\n",
       "</table>\n",
       "</div>"
      ],
      "text/plain": [
       "   weekly_sales     sid  dept  store  purchaseid\n",
       "0             3  159739     1     42  -518970915"
      ]
     },
     "execution_count": 2,
     "metadata": {},
     "output_type": "execute_result"
    }
   ],
   "source": [
    "S_sales.head(1)"
   ]
  },
  {
   "cell_type": "code",
   "execution_count": 3,
   "metadata": {},
   "outputs": [],
   "source": [
    "import pandas_profiling\n",
    "\n",
    "profile = S_sales.sample(n=100).profile_report(title='Pandas Profiling Report', style={'full_width':True})\n",
    "profile.to_file(output_file='walmart-sales-pandas-profile.html')"
   ]
  },
  {
   "cell_type": "code",
   "execution_count": 11,
   "metadata": {},
   "outputs": [],
   "source": [
    "# Loads R1_indicators in Walmart data\n",
    "spark.read.option('header', True).option('inferSchema', True) \\\n",
    "  .csv('./dataset/RealWorldDatasets/WalMart/R1_indicators.csv').createOrReplaceTempView('R1_indicators')\n",
    "\n",
    "R1_indicators = spark.sql(\n",
    "    \"SELECT \" \\\n",
    "        \"HASH(purchaseid) purchaseid, \" \\\n",
    "        # \"temperature_avg, \" \\\n",
    "        \"temperature_stdev, \" \\\n",
    "        \"fuel_price_avg, \" \\\n",
    "        \"fuel_price_stdev, \" \\\n",
    "        \"cpi_avg, \" \\\n",
    "        \"cpi_stdev, \" \\\n",
    "        \"unemployment_avg, \" \\\n",
    "        \"unemployment_stdev, \" \\\n",
    "        \"holidayfreq \" \\\n",
    "    \"FROM \" \\\n",
    "        \"R1_indicators\").toPandas()"
   ]
  },
  {
   "cell_type": "code",
   "execution_count": 18,
   "metadata": {},
   "outputs": [
    {
     "data": {
      "text/html": [
       "<div>\n",
       "<style scoped>\n",
       "    .dataframe tbody tr th:only-of-type {\n",
       "        vertical-align: middle;\n",
       "    }\n",
       "\n",
       "    .dataframe tbody tr th {\n",
       "        vertical-align: top;\n",
       "    }\n",
       "\n",
       "    .dataframe thead th {\n",
       "        text-align: right;\n",
       "    }\n",
       "</style>\n",
       "<table border=\"1\" class=\"dataframe\">\n",
       "  <thead>\n",
       "    <tr style=\"text-align: right;\">\n",
       "      <th></th>\n",
       "      <th>purchaseid</th>\n",
       "      <th>temperature_stdev</th>\n",
       "      <th>fuel_price_avg</th>\n",
       "      <th>fuel_price_stdev</th>\n",
       "      <th>cpi_avg</th>\n",
       "      <th>cpi_stdev</th>\n",
       "      <th>unemployment_avg</th>\n",
       "      <th>unemployment_stdev</th>\n",
       "      <th>holidayfreq</th>\n",
       "    </tr>\n",
       "  </thead>\n",
       "  <tbody>\n",
       "    <tr>\n",
       "      <th>0</th>\n",
       "      <td>74344712</td>\n",
       "      <td>41.76</td>\n",
       "      <td>0.0</td>\n",
       "      <td>3.158</td>\n",
       "      <td>0.0</td>\n",
       "      <td>218.605037</td>\n",
       "      <td>0.0</td>\n",
       "      <td>7.441</td>\n",
       "      <td>0.0</td>\n",
       "    </tr>\n",
       "  </tbody>\n",
       "</table>\n",
       "</div>"
      ],
      "text/plain": [
       "   purchaseid  temperature_stdev  fuel_price_avg  fuel_price_stdev  cpi_avg  \\\n",
       "0    74344712              41.76             0.0             3.158      0.0   \n",
       "\n",
       "    cpi_stdev  unemployment_avg  unemployment_stdev  holidayfreq  \n",
       "0  218.605037               0.0               7.441          0.0  "
      ]
     },
     "execution_count": 18,
     "metadata": {},
     "output_type": "execute_result"
    }
   ],
   "source": [
    "R1_indicators.head(1)"
   ]
  },
  {
   "cell_type": "code",
   "execution_count": 14,
   "metadata": {},
   "outputs": [],
   "source": [
    "profile = R1_indicators.sample(n=100).profile_report(title='Pandas Profiling Report', style={'full_width':True})\n",
    "profile.to_file(output_file='walmart-indicators-pandas-profile.html')"
   ]
  },
  {
   "cell_type": "code",
   "execution_count": 19,
   "metadata": {},
   "outputs": [],
   "source": [
    "# Loads R2_stores in Walmart data\n",
    "spark.read.option('header', True).option('inferSchema', True) \\\n",
    "  .csv('./dataset/RealWorldDatasets/WalMart/R2_stores.csv').createOrReplaceTempView('R2_stores')\n",
    "\n",
    "R2_stores = spark.sql(\n",
    "    \"SELECT \" \\\n",
    "        \"CAST(TRIM(BOTH '\\\\'' FROM store) AS INT) store, \" \\\n",
    "        \"CAST(TRIM(BOTH '\\\\'' FROM type) AS INT) type, \" \\\n",
    "        \"size \" \\\n",
    "    \"FROM \" \\\n",
    "        \"R2_stores\").toPandas()"
   ]
  },
  {
   "cell_type": "code",
   "execution_count": 20,
   "metadata": {},
   "outputs": [
    {
     "data": {
      "text/html": [
       "<div>\n",
       "<style scoped>\n",
       "    .dataframe tbody tr th:only-of-type {\n",
       "        vertical-align: middle;\n",
       "    }\n",
       "\n",
       "    .dataframe tbody tr th {\n",
       "        vertical-align: top;\n",
       "    }\n",
       "\n",
       "    .dataframe thead th {\n",
       "        text-align: right;\n",
       "    }\n",
       "</style>\n",
       "<table border=\"1\" class=\"dataframe\">\n",
       "  <thead>\n",
       "    <tr style=\"text-align: right;\">\n",
       "      <th></th>\n",
       "      <th>store</th>\n",
       "      <th>type</th>\n",
       "      <th>size</th>\n",
       "    </tr>\n",
       "  </thead>\n",
       "  <tbody>\n",
       "    <tr>\n",
       "      <th>0</th>\n",
       "      <td>1</td>\n",
       "      <td>1</td>\n",
       "      <td>151315</td>\n",
       "    </tr>\n",
       "  </tbody>\n",
       "</table>\n",
       "</div>"
      ],
      "text/plain": [
       "   store  type    size\n",
       "0      1     1  151315"
      ]
     },
     "execution_count": 20,
     "metadata": {},
     "output_type": "execute_result"
    }
   ],
   "source": [
    "R2_stores.head(1)"
   ]
  },
  {
   "cell_type": "code",
   "execution_count": 22,
   "metadata": {},
   "outputs": [],
   "source": [
    "profile = R2_stores.profile_report(title='Pandas Profiling Report', style={'full_width':True})\n",
    "profile.to_file(output_file='walmart-stores-pandas-profile.html')"
   ]
  },
  {
   "cell_type": "code",
   "execution_count": 25,
   "metadata": {},
   "outputs": [],
   "source": [
    "import featuretools as ft\n",
    "\n",
    "# Generates EntitySet\n",
    "es = ft.EntitySet(id='walmart')"
   ]
  },
  {
   "cell_type": "code",
   "execution_count": 26,
   "metadata": {},
   "outputs": [
    {
     "data": {
      "text/plain": [
       "Entityset: walmart\n",
       "  Entities:\n",
       "    S_sales [Rows: 421570, Columns: 5]\n",
       "  Relationships:\n",
       "    No relationships"
      ]
     },
     "execution_count": 26,
     "metadata": {},
     "output_type": "execute_result"
    },
    {
     "data": {
      "text/plain": [
       "Entityset: walmart\n",
       "  Entities:\n",
       "    S_sales [Rows: 421570, Columns: 5]\n",
       "    R1_indicators [Rows: 2340, Columns: 9]\n",
       "  Relationships:\n",
       "    No relationships"
      ]
     },
     "execution_count": 26,
     "metadata": {},
     "output_type": "execute_result"
    },
    {
     "data": {
      "text/plain": [
       "Entityset: walmart\n",
       "  Entities:\n",
       "    S_sales [Rows: 421570, Columns: 5]\n",
       "    R1_indicators [Rows: 2340, Columns: 9]\n",
       "    R2_stores [Rows: 45, Columns: 3]\n",
       "  Relationships:\n",
       "    No relationships"
      ]
     },
     "execution_count": 26,
     "metadata": {},
     "output_type": "execute_result"
    }
   ],
   "source": [
    "# Adds Entities\n",
    "es.entity_from_dataframe(entity_id='S_sales', dataframe=S_sales, index='sid')\n",
    "es.entity_from_dataframe(entity_id='R1_indicators', dataframe=R1_indicators, index='purchaseid')\n",
    "es.entity_from_dataframe(entity_id='R2_stores', dataframe=R2_stores, index='store')"
   ]
  },
  {
   "cell_type": "code",
   "execution_count": 28,
   "metadata": {},
   "outputs": [
    {
     "data": {
      "text/plain": [
       "Entityset: walmart\n",
       "  Entities:\n",
       "    S_sales [Rows: 421570, Columns: 5]\n",
       "    R1_indicators [Rows: 2340, Columns: 9]\n",
       "    R2_stores [Rows: 45, Columns: 3]\n",
       "  Relationships:\n",
       "    S_sales.purchaseid -> R1_indicators.purchaseid\n",
       "    S_sales.store -> R2_stores.store"
      ]
     },
     "execution_count": 28,
     "metadata": {},
     "output_type": "execute_result"
    }
   ],
   "source": [
    "# Generates relationship\n",
    "r_indicators = ft.Relationship(es['R1_indicators']['purchaseid'], es['S_sales']['purchaseid'])\n",
    "r_stores = ft.Relationship(es['R2_stores']['store'], es['S_sales']['store'])\n",
    "\n",
    "# Defines relationship\n",
    "es.add_relationships(relationships=[r_indicators, r_stores])"
   ]
  },
  {
   "cell_type": "code",
   "execution_count": 29,
   "metadata": {},
   "outputs": [
    {
     "data": {
      "text/plain": [
       "[<Variable: sid (dtype = index)>,\n",
       " <Variable: weekly_sales (dtype = numeric)>,\n",
       " <Variable: dept (dtype = numeric)>,\n",
       " <Variable: store (dtype = id)>,\n",
       " <Variable: purchaseid (dtype = id)>]"
      ]
     },
     "execution_count": 29,
     "metadata": {},
     "output_type": "execute_result"
    }
   ],
   "source": [
    "es['S_sales'].variables"
   ]
  },
  {
   "cell_type": "code",
   "execution_count": 30,
   "metadata": {},
   "outputs": [
    {
     "data": {
      "text/plain": [
       "[<Variable: purchaseid (dtype = index)>,\n",
       " <Variable: temperature_stdev (dtype = numeric)>,\n",
       " <Variable: fuel_price_avg (dtype = numeric)>,\n",
       " <Variable: fuel_price_stdev (dtype = numeric)>,\n",
       " <Variable: cpi_avg (dtype = numeric)>,\n",
       " <Variable: cpi_stdev (dtype = numeric)>,\n",
       " <Variable: unemployment_avg (dtype = numeric)>,\n",
       " <Variable: unemployment_stdev (dtype = numeric)>,\n",
       " <Variable: holidayfreq (dtype = numeric)>]"
      ]
     },
     "execution_count": 30,
     "metadata": {},
     "output_type": "execute_result"
    }
   ],
   "source": [
    "es['R1_indicators'].variables"
   ]
  },
  {
   "cell_type": "code",
   "execution_count": 31,
   "metadata": {},
   "outputs": [
    {
     "data": {
      "text/plain": [
       "[<Variable: store (dtype = index)>,\n",
       " <Variable: type (dtype = numeric)>,\n",
       " <Variable: size (dtype = numeric)>]"
      ]
     },
     "execution_count": 31,
     "metadata": {},
     "output_type": "execute_result"
    }
   ],
   "source": [
    "es['R2_stores'].variables"
   ]
  },
  {
   "cell_type": "code",
   "execution_count": 35,
   "metadata": {},
   "outputs": [
    {
     "name": "stdout",
     "output_type": "stream",
     "text": [
      "Built 14 features\n",
      "Elapsed: 00:04 | Progress: 100%|██████████| Remaining: 00:00\n"
     ]
    },
    {
     "data": {
      "text/html": [
       "<div>\n",
       "<style scoped>\n",
       "    .dataframe tbody tr th:only-of-type {\n",
       "        vertical-align: middle;\n",
       "    }\n",
       "\n",
       "    .dataframe tbody tr th {\n",
       "        vertical-align: top;\n",
       "    }\n",
       "\n",
       "    .dataframe thead th {\n",
       "        text-align: right;\n",
       "    }\n",
       "</style>\n",
       "<table border=\"1\" class=\"dataframe\">\n",
       "  <thead>\n",
       "    <tr style=\"text-align: right;\">\n",
       "      <th></th>\n",
       "      <th>weekly_sales</th>\n",
       "      <th>dept</th>\n",
       "      <th>store</th>\n",
       "      <th>purchaseid</th>\n",
       "      <th>R1_indicators.temperature_stdev</th>\n",
       "      <th>R1_indicators.fuel_price_avg</th>\n",
       "      <th>R1_indicators.fuel_price_stdev</th>\n",
       "      <th>R1_indicators.cpi_avg</th>\n",
       "      <th>R1_indicators.cpi_stdev</th>\n",
       "      <th>R1_indicators.unemployment_avg</th>\n",
       "      <th>R1_indicators.unemployment_stdev</th>\n",
       "      <th>R1_indicators.holidayfreq</th>\n",
       "      <th>R2_stores.type</th>\n",
       "      <th>R2_stores.size</th>\n",
       "    </tr>\n",
       "    <tr>\n",
       "      <th>sid</th>\n",
       "      <th></th>\n",
       "      <th></th>\n",
       "      <th></th>\n",
       "      <th></th>\n",
       "      <th></th>\n",
       "      <th></th>\n",
       "      <th></th>\n",
       "      <th></th>\n",
       "      <th></th>\n",
       "      <th></th>\n",
       "      <th></th>\n",
       "      <th></th>\n",
       "      <th></th>\n",
       "      <th></th>\n",
       "    </tr>\n",
       "  </thead>\n",
       "  <tbody>\n",
       "    <tr>\n",
       "      <th>1</th>\n",
       "      <td>4</td>\n",
       "      <td>5</td>\n",
       "      <td>34</td>\n",
       "      <td>897768995</td>\n",
       "      <td>51.213333</td>\n",
       "      <td>8.895405</td>\n",
       "      <td>3.209333</td>\n",
       "      <td>0.403288</td>\n",
       "      <td>129.218680</td>\n",
       "      <td>2.316080</td>\n",
       "      <td>9.732333</td>\n",
       "      <td>0.774270</td>\n",
       "      <td>1</td>\n",
       "      <td>158114</td>\n",
       "    </tr>\n",
       "    <tr>\n",
       "      <th>2</th>\n",
       "      <td>5</td>\n",
       "      <td>23</td>\n",
       "      <td>10</td>\n",
       "      <td>-1649444077</td>\n",
       "      <td>53.190000</td>\n",
       "      <td>2.237588</td>\n",
       "      <td>3.379000</td>\n",
       "      <td>0.344004</td>\n",
       "      <td>128.282773</td>\n",
       "      <td>1.925584</td>\n",
       "      <td>8.684667</td>\n",
       "      <td>1.111189</td>\n",
       "      <td>2</td>\n",
       "      <td>126512</td>\n",
       "    </tr>\n",
       "    <tr>\n",
       "      <th>3</th>\n",
       "      <td>5</td>\n",
       "      <td>90</td>\n",
       "      <td>39</td>\n",
       "      <td>-2076543225</td>\n",
       "      <td>70.566667</td>\n",
       "      <td>2.608799</td>\n",
       "      <td>3.204333</td>\n",
       "      <td>0.411940</td>\n",
       "      <td>216.344688</td>\n",
       "      <td>5.799426</td>\n",
       "      <td>7.473333</td>\n",
       "      <td>1.143478</td>\n",
       "      <td>1</td>\n",
       "      <td>184109</td>\n",
       "    </tr>\n",
       "    <tr>\n",
       "      <th>4</th>\n",
       "      <td>6</td>\n",
       "      <td>92</td>\n",
       "      <td>13</td>\n",
       "      <td>1125084295</td>\n",
       "      <td>79.256667</td>\n",
       "      <td>1.970135</td>\n",
       "      <td>3.331667</td>\n",
       "      <td>0.459926</td>\n",
       "      <td>128.639195</td>\n",
       "      <td>2.353067</td>\n",
       "      <td>6.864333</td>\n",
       "      <td>1.093055</td>\n",
       "      <td>1</td>\n",
       "      <td>219622</td>\n",
       "    </tr>\n",
       "    <tr>\n",
       "      <th>5</th>\n",
       "      <td>5</td>\n",
       "      <td>97</td>\n",
       "      <td>20</td>\n",
       "      <td>-1691746670</td>\n",
       "      <td>26.766667</td>\n",
       "      <td>9.585595</td>\n",
       "      <td>3.163667</td>\n",
       "      <td>0.371727</td>\n",
       "      <td>207.275667</td>\n",
       "      <td>4.733733</td>\n",
       "      <td>7.497000</td>\n",
       "      <td>0.627340</td>\n",
       "      <td>1</td>\n",
       "      <td>203742</td>\n",
       "    </tr>\n",
       "  </tbody>\n",
       "</table>\n",
       "</div>"
      ],
      "text/plain": [
       "     weekly_sales  dept  store  purchaseid  R1_indicators.temperature_stdev  \\\n",
       "sid                                                                           \n",
       "1               4     5     34   897768995                        51.213333   \n",
       "2               5    23     10 -1649444077                        53.190000   \n",
       "3               5    90     39 -2076543225                        70.566667   \n",
       "4               6    92     13  1125084295                        79.256667   \n",
       "5               5    97     20 -1691746670                        26.766667   \n",
       "\n",
       "     R1_indicators.fuel_price_avg  R1_indicators.fuel_price_stdev  \\\n",
       "sid                                                                 \n",
       "1                        8.895405                        3.209333   \n",
       "2                        2.237588                        3.379000   \n",
       "3                        2.608799                        3.204333   \n",
       "4                        1.970135                        3.331667   \n",
       "5                        9.585595                        3.163667   \n",
       "\n",
       "     R1_indicators.cpi_avg  R1_indicators.cpi_stdev  \\\n",
       "sid                                                   \n",
       "1                 0.403288               129.218680   \n",
       "2                 0.344004               128.282773   \n",
       "3                 0.411940               216.344688   \n",
       "4                 0.459926               128.639195   \n",
       "5                 0.371727               207.275667   \n",
       "\n",
       "     R1_indicators.unemployment_avg  R1_indicators.unemployment_stdev  \\\n",
       "sid                                                                     \n",
       "1                          2.316080                          9.732333   \n",
       "2                          1.925584                          8.684667   \n",
       "3                          5.799426                          7.473333   \n",
       "4                          2.353067                          6.864333   \n",
       "5                          4.733733                          7.497000   \n",
       "\n",
       "     R1_indicators.holidayfreq  R2_stores.type  R2_stores.size  \n",
       "sid                                                             \n",
       "1                     0.774270               1          158114  \n",
       "2                     1.111189               2          126512  \n",
       "3                     1.143478               1          184109  \n",
       "4                     1.093055               1          219622  \n",
       "5                     0.627340               1          203742  "
      ]
     },
     "execution_count": 35,
     "metadata": {},
     "output_type": "execute_result"
    }
   ],
   "source": [
    "# Runs Deep Feature Synthesis\n",
    "df_feature, features_defs = ft.dfs(\n",
    "    entityset=es,\n",
    "    target_entity='S_sales',\n",
    "    agg_primitives=['sum', 'min', 'max', 'count'],\n",
    "    max_depth=1,\n",
    "    chunk_size=0.025,\n",
    "    verbose=True)\n",
    "\n",
    "df_feature.head()"
   ]
  },
  {
   "cell_type": "code",
   "execution_count": null,
   "metadata": {},
   "outputs": [],
   "source": []
  }
 ],
 "metadata": {
  "kernelspec": {
   "display_name": "Python 3",
   "language": "python",
   "name": "python3"
  },
  "language_info": {
   "codemirror_mode": {
    "name": "ipython",
    "version": 3
   },
   "file_extension": ".py",
   "mimetype": "text/x-python",
   "name": "python",
   "nbconvert_exporter": "python",
   "pygments_lexer": "ipython3",
   "version": "3.7.3"
  }
 },
 "nbformat": 4,
 "nbformat_minor": 4
}

{
 "cells": [
  {
   "cell_type": "code",
   "execution_count": 16,
   "metadata": {},
   "outputs": [],
   "source": [
    "df = pd.read_parquet('walmart.parquet')"
   ]
  },
  {
   "cell_type": "code",
   "execution_count": 9,
   "metadata": {},
   "outputs": [
    {
     "data": {
      "text/plain": [
       "0.2     9.0\n",
       "0.4    18.0\n",
       "0.6    26.0\n",
       "0.8    35.0\n",
       "Name: store, dtype: float64"
      ]
     },
     "execution_count": 9,
     "metadata": {},
     "output_type": "execute_result"
    }
   ],
   "source": [
    "df['store'].quantile([.20, .40, .60, .80])"
   ]
  },
  {
   "cell_type": "code",
   "execution_count": 27,
   "metadata": {},
   "outputs": [
    {
     "data": {
      "text/plain": [
       "0         (22.0, 33.0]\n",
       "1        (0.999, 11.0]\n",
       "2         (33.0, 45.0]\n",
       "3         (11.0, 22.0]\n",
       "4        (0.999, 11.0]\n",
       "             ...      \n",
       "41942    (0.999, 11.0]\n",
       "41943     (11.0, 22.0]\n",
       "41944     (11.0, 22.0]\n",
       "41945     (11.0, 22.0]\n",
       "41946     (11.0, 22.0]\n",
       "Name: store, Length: 41947, dtype: category\n",
       "Categories (4, interval[float64]): [(0.999, 11.0] < (11.0, 22.0] < (22.0, 33.0] < (33.0, 45.0]]"
      ]
     },
     "execution_count": 27,
     "metadata": {},
     "output_type": "execute_result"
    }
   ],
   "source": [
    "pd.qcut(df['store'], q=4)"
   ]
  },
  {
   "cell_type": "code",
   "execution_count": 26,
   "metadata": {},
   "outputs": [
    {
     "data": {
      "text/plain": [
       "0        2\n",
       "1        0\n",
       "2        3\n",
       "3        1\n",
       "4        0\n",
       "        ..\n",
       "41942    0\n",
       "41943    1\n",
       "41944    1\n",
       "41945    1\n",
       "41946    1\n",
       "Name: store, Length: 41947, dtype: int64"
      ]
     },
     "execution_count": 26,
     "metadata": {},
     "output_type": "execute_result"
    }
   ],
   "source": [
    "pd.qcut(df['store'], q=4, labels=False)"
   ]
  },
  {
   "cell_type": "code",
   "execution_count": 17,
   "metadata": {},
   "outputs": [
    {
     "data": {
      "text/plain": [
       "<matplotlib.axes._subplots.AxesSubplot at 0x7f6cf0e04668>"
      ]
     },
     "execution_count": 17,
     "metadata": {},
     "output_type": "execute_result"
    },
    {
     "data": {
      "image/png": "[encoded data removed]",
      "text/plain": [
       "<Figure size 432x288 with 1 Axes>"
      ]
     },
     "metadata": {
      "needs_background": "light"
     },
     "output_type": "display_data"
    }
   ],
   "source": [
    "pd.qcut(df['store'], q=4, labels=False).hist()"
   ]
  },
  {
   "cell_type": "code",
   "execution_count": 28,
   "metadata": {},
   "outputs": [
    {
     "data": {
      "text/plain": [
       "0         (23.0, 34.0]\n",
       "1        (0.956, 12.0]\n",
       "2         (34.0, 45.0]\n",
       "3         (12.0, 23.0]\n",
       "4        (0.956, 12.0]\n",
       "             ...      \n",
       "41942    (0.956, 12.0]\n",
       "41943     (12.0, 23.0]\n",
       "41944     (12.0, 23.0]\n",
       "41945     (12.0, 23.0]\n",
       "41946     (12.0, 23.0]\n",
       "Name: store, Length: 41947, dtype: category\n",
       "Categories (4, interval[float64]): [(0.956, 12.0] < (12.0, 23.0] < (23.0, 34.0] < (34.0, 45.0]]"
      ]
     },
     "execution_count": 28,
     "metadata": {},
     "output_type": "execute_result"
    }
   ],
   "source": [
    "pd.cut(df['store'], bins=4)"
   ]
  },
  {
   "cell_type": "code",
   "execution_count": 29,
   "metadata": {},
   "outputs": [
    {
     "data": {
      "text/plain": [
       "0        2\n",
       "1        0\n",
       "2        3\n",
       "3        1\n",
       "4        0\n",
       "        ..\n",
       "41942    0\n",
       "41943    1\n",
       "41944    1\n",
       "41945    1\n",
       "41946    1\n",
       "Name: store, Length: 41947, dtype: int64"
      ]
     },
     "execution_count": 29,
     "metadata": {},
     "output_type": "execute_result"
    }
   ],
   "source": [
    "pd.cut(df['store'], bins=4, labels=False)"
   ]
  },
  {
   "cell_type": "code",
   "execution_count": 30,
   "metadata": {},
   "outputs": [
    {
     "data": {
      "text/plain": [
       "<matplotlib.axes._subplots.AxesSubplot at 0x7f6ceaa62d30>"
      ]
     },
     "execution_count": 30,
     "metadata": {},
     "output_type": "execute_result"
    },
    {
     "data": {
      "image/png": "[encoded data removed]",
      "text/plain": [
       "<Figure size 432x288 with 1 Axes>"
      ]
     },
     "metadata": {
      "needs_background": "light"
     },
     "output_type": "display_data"
    }
   ],
   "source": [
    "pd.cut(df['store'], bins=4, labels=False).hist()"
   ]
  },
  {
   "cell_type": "code",
   "execution_count": null,
   "metadata": {},
   "outputs": [],
   "source": []
  }
 ],
 "metadata": {
  "kernelspec": {
   "display_name": "Python 3",
   "language": "python",
   "name": "python3"
  },
  "language_info": {
   "codemirror_mode": {
    "name": "ipython",
    "version": 3
   },
   "file_extension": ".py",
   "mimetype": "text/x-python",
   "name": "python",
   "nbconvert_exporter": "python",
   "pygments_lexer": "ipython3",
   "version": "3.7.3"
  }
 },
 "nbformat": 4,
 "nbformat_minor": 4
}

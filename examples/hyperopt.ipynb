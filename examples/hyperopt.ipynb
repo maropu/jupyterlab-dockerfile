{
 "cells": [
  {
   "cell_type": "code",
   "execution_count": 7,
   "metadata": {},
   "outputs": [
    {
     "name": "stdout",
     "output_type": "stream",
     "text": [
      "100%|██████████| 100/100 [00:01<00:00, 70.10it/s, best loss: -0.9800000000000001]\n",
      "best parameters: {'C': 1.0036304715938487, 'gamma': 0.045453508636035055}\n"
     ]
    }
   ],
   "source": [
    "# https://blog.amedama.jp/entry/hyperopt\n",
    "from functools import partial\n",
    "\n",
    "from hyperopt import hp\n",
    "from hyperopt import fmin\n",
    "from hyperopt import tpe\n",
    "from hyperopt import Trials\n",
    "from hyperopt import STATUS_OK\n",
    "from hyperopt import space_eval\n",
    "\n",
    "from sklearn import datasets\n",
    "from sklearn.model_selection import StratifiedKFold\n",
    "from sklearn.model_selection import cross_validate\n",
    "from sklearn.svm import SVC\n",
    "\n",
    "def objective(X, y, args):\n",
    "    clf = SVC(kernel='linear', **args)\n",
    "    # Stratified 5 Fold Cross Validation\n",
    "    kf = StratifiedKFold(n_splits=5, shuffle=True, random_state=42)\n",
    "    scores = cross_validate(clf, X=X, y=y, cv=kf)\n",
    "    return {\n",
    "        'loss': -1 * scores['test_score'].mean(),\n",
    "        'status': STATUS_OK,\n",
    "        'vals': args,\n",
    "    }\n",
    "\n",
    "iris = datasets.load_iris()\n",
    "X, y = iris.data, iris.target\n",
    "\n",
    "f = partial(objective, X, y)\n",
    "\n",
    "space = {\n",
    "    'C': hp.loguniform('C', 2.303 * 0, 2.303 * +2),\n",
    "    'gamma': hp.loguniform('gamma', 2.303 * -2, 2.303 * +1),\n",
    "}\n",
    "\n",
    "trials = Trials()\n",
    "\n",
    "best = fmin(fn=f, space=space, algo=tpe.suggest, max_evals=100, trials=trials)\n",
    "print('best parameters:', space_eval(space, best))"
   ]
  },
  {
   "cell_type": "code",
   "execution_count": 5,
   "metadata": {},
   "outputs": [
    {
     "data": {
      "text/plain": [
       "<matplotlib.colorbar.Colorbar at 0x7fe8c1d7f9b0>"
      ]
     },
     "execution_count": 5,
     "metadata": {},
     "output_type": "execute_result"
    },
    {
     "data": {
      "text/plain": [
       "Text(0.5, 0, 'C')"
      ]
     },
     "execution_count": 5,
     "metadata": {},
     "output_type": "execute_result"
    },
    {
     "data": {
      "text/plain": [
       "Text(0, 0.5, 'gamma')"
      ]
     },
     "execution_count": 5,
     "metadata": {},
     "output_type": "execute_result"
    },
    {
     "data": {
      "image/png": "[encoded data removed]",
      "text/plain": [
       "<Figure size 432x288 with 2 Axes>"
      ]
     },
     "metadata": {
      "needs_background": "light"
     },
     "output_type": "display_data"
    },
    {
     "name": "stdout",
     "output_type": "stream",
     "text": [
      "-- accuracy summary --\n",
      "count    100.000000\n",
      "mean       0.972533\n",
      "std        0.007234\n",
      "min        0.960000\n",
      "25%        0.966667\n",
      "50%        0.973333\n",
      "75%        0.980000\n",
      "max        0.980000\n",
      "dtype: float64\n"
     ]
    }
   ],
   "source": [
    "# Visualize param searches\n",
    "xs = [result['vals']['C'] for result in trials.results]\n",
    "ys = [result['vals']['gamma'] for result in trials.results]\n",
    "zs = np.array([-1 * result['loss'] for result in trials.results])\n",
    "s_zs = (zs - zs.min()) / (zs.max() - zs.min()) # 0 ~ 1 の範囲に正規化する\n",
    "\n",
    "sc = plt.scatter(xs, ys, c=s_zs, s=20, zorder=10, cmap=cm.cool)\n",
    "plt.colorbar(sc)\n",
    "\n",
    "plt.xlabel('C')\n",
    "plt.xscale('log')\n",
    "plt.ylabel('gamma')\n",
    "plt.yscale('log')\n",
    "plt.grid()\n",
    "plt.show()\n",
    "\n",
    "print('-- accuracy summary --')\n",
    "print(pd.Series(np.array(zs).ravel()).describe())"
   ]
  },
  {
   "cell_type": "code",
   "execution_count": null,
   "metadata": {},
   "outputs": [],
   "source": []
  }
 ],
 "metadata": {
  "kernelspec": {
   "display_name": "Python 3",
   "language": "python",
   "name": "python3"
  },
  "language_info": {
   "codemirror_mode": {
    "name": "ipython",
    "version": 3
   },
   "file_extension": ".py",
   "mimetype": "text/x-python",
   "name": "python",
   "nbconvert_exporter": "python",
   "pygments_lexer": "ipython3",
   "version": "3.7.3"
  }
 },
 "nbformat": 4,
 "nbformat_minor": 4
}

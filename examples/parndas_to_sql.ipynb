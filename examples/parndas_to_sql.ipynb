{
 "cells": [
  {
   "cell_type": "code",
   "execution_count": 1,
   "metadata": {},
   "outputs": [
    {
     "data": {
      "text/html": [
       "<div>\n",
       "<style scoped>\n",
       "    .dataframe tbody tr th:only-of-type {\n",
       "        vertical-align: middle;\n",
       "    }\n",
       "\n",
       "    .dataframe tbody tr th {\n",
       "        vertical-align: top;\n",
       "    }\n",
       "\n",
       "    .dataframe thead th {\n",
       "        text-align: right;\n",
       "    }\n",
       "</style>\n",
       "<table border=\"1\" class=\"dataframe\">\n",
       "  <thead>\n",
       "    <tr style=\"text-align: right;\">\n",
       "      <th></th>\n",
       "      <th>weekly_sales</th>\n",
       "      <th>sid</th>\n",
       "      <th>dept</th>\n",
       "      <th>store</th>\n",
       "      <th>type</th>\n",
       "      <th>size</th>\n",
       "      <th>temperature_stdev</th>\n",
       "      <th>fuel_price_avg</th>\n",
       "      <th>fuel_price_stdev</th>\n",
       "      <th>cpi_avg</th>\n",
       "      <th>cpi_stdev</th>\n",
       "      <th>unemployment_avg</th>\n",
       "      <th>unemployment_stdev</th>\n",
       "      <th>holidayfreq</th>\n",
       "    </tr>\n",
       "  </thead>\n",
       "  <tbody>\n",
       "    <tr>\n",
       "      <th>24587</th>\n",
       "      <td>4</td>\n",
       "      <td>137317</td>\n",
       "      <td>87</td>\n",
       "      <td>26</td>\n",
       "      <td>1</td>\n",
       "      <td>152513</td>\n",
       "      <td>37.546667</td>\n",
       "      <td>13.615926</td>\n",
       "      <td>3.469333</td>\n",
       "      <td>0.514733</td>\n",
       "      <td>134.545566</td>\n",
       "      <td>2.861797</td>\n",
       "      <td>7.962</td>\n",
       "      <td>0.524667</td>\n",
       "    </tr>\n",
       "  </tbody>\n",
       "</table>\n",
       "</div>"
      ],
      "text/plain": [
       "       weekly_sales     sid  dept  store  type    size  temperature_stdev  \\\n",
       "24587             4  137317    87     26     1  152513          37.546667   \n",
       "\n",
       "       fuel_price_avg  fuel_price_stdev   cpi_avg   cpi_stdev  \\\n",
       "24587       13.615926          3.469333  0.514733  134.545566   \n",
       "\n",
       "       unemployment_avg  unemployment_stdev  holidayfreq  \n",
       "24587          2.861797               7.962     0.524667  "
      ]
     },
     "execution_count": 1,
     "metadata": {},
     "output_type": "execute_result"
    }
   ],
   "source": [
    "df = pd.read_parquet('walmart.parquet').sample(n=100)\n",
    "df.head(1)"
   ]
  },
  {
   "cell_type": "code",
   "execution_count": 2,
   "metadata": {},
   "outputs": [],
   "source": [
    "df.to_csv('walmart_n100.csv')"
   ]
  },
  {
   "cell_type": "code",
   "execution_count": 4,
   "metadata": {},
   "outputs": [],
   "source": [
    "import sqlite3\n",
    "\n",
    "conn = sqlite3.connect('walmart_n100.db')\n",
    "df.to_sql('walmart', conn, if_exists='replace')\n",
    "conn.close()"
   ]
  }
 ],
 "metadata": {
  "kernelspec": {
   "display_name": "Python 3",
   "language": "python",
   "name": "python3"
  },
  "language_info": {
   "codemirror_mode": {
    "name": "ipython",
    "version": 3
   },
   "file_extension": ".py",
   "mimetype": "text/x-python",
   "name": "python",
   "nbconvert_exporter": "python",
   "pygments_lexer": "ipython3",
   "version": "3.7.3"
  }
 },
 "nbformat": 4,
 "nbformat_minor": 4
}

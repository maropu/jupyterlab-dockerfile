{
 "cells": [
  {
   "cell_type": "code",
   "execution_count": 48,
   "metadata": {},
   "outputs": [
    {
     "data": {
      "text/html": [
       "<div>\n",
       "<style scoped>\n",
       "    .dataframe tbody tr th:only-of-type {\n",
       "        vertical-align: middle;\n",
       "    }\n",
       "\n",
       "    .dataframe tbody tr th {\n",
       "        vertical-align: top;\n",
       "    }\n",
       "\n",
       "    .dataframe thead th {\n",
       "        text-align: right;\n",
       "    }\n",
       "</style>\n",
       "<table border=\"1\" class=\"dataframe\">\n",
       "  <thead>\n",
       "    <tr style=\"text-align: right;\">\n",
       "      <th></th>\n",
       "      <th>weekly_sales</th>\n",
       "      <th>sid</th>\n",
       "      <th>dept</th>\n",
       "      <th>store</th>\n",
       "      <th>type</th>\n",
       "      <th>size</th>\n",
       "      <th>temperature_stdev</th>\n",
       "      <th>fuel_price_avg</th>\n",
       "      <th>fuel_price_stdev</th>\n",
       "      <th>cpi_avg</th>\n",
       "      <th>cpi_stdev</th>\n",
       "      <th>unemployment_avg</th>\n",
       "      <th>unemployment_stdev</th>\n",
       "      <th>holidayfreq</th>\n",
       "    </tr>\n",
       "  </thead>\n",
       "  <tbody>\n",
       "    <tr>\n",
       "      <th>6655</th>\n",
       "      <td>5</td>\n",
       "      <td>379585</td>\n",
       "      <td>1</td>\n",
       "      <td>32</td>\n",
       "      <td>1</td>\n",
       "      <td>203007</td>\n",
       "      <td>58.15</td>\n",
       "      <td>5.612406</td>\n",
       "      <td>3.369333</td>\n",
       "      <td>0.533952</td>\n",
       "      <td>194.691838</td>\n",
       "      <td>3.727157</td>\n",
       "      <td>8.543667</td>\n",
       "      <td>0.636128</td>\n",
       "    </tr>\n",
       "  </tbody>\n",
       "</table>\n",
       "</div>"
      ],
      "text/plain": [
       "      weekly_sales     sid  dept  store  type    size  temperature_stdev  \\\n",
       "6655             5  379585     1     32     1  203007              58.15   \n",
       "\n",
       "      fuel_price_avg  fuel_price_stdev   cpi_avg   cpi_stdev  \\\n",
       "6655        5.612406          3.369333  0.533952  194.691838   \n",
       "\n",
       "      unemployment_avg  unemployment_stdev  holidayfreq  \n",
       "6655          3.727157            8.543667     0.636128  "
      ]
     },
     "execution_count": 48,
     "metadata": {},
     "output_type": "execute_result"
    }
   ],
   "source": [
    "df = pd.read_parquet('walmart.parquet').sample(n=100)\n",
    "df.head(1)"
   ]
  },
  {
   "cell_type": "code",
   "execution_count": 49,
   "metadata": {},
   "outputs": [],
   "source": [
    "X = df[df.columns[df.columns != 'weekly_sales']]\n",
    "y = df['weekly_sales']"
   ]
  },
  {
   "cell_type": "code",
   "execution_count": 50,
   "metadata": {},
   "outputs": [
    {
     "data": {
      "text/plain": [
       "array([1, 2, 3, 4, 5, 6], dtype=int32)"
      ]
     },
     "execution_count": 50,
     "metadata": {},
     "output_type": "execute_result"
    }
   ],
   "source": [
    "np.unique(y)"
   ]
  },
  {
   "cell_type": "code",
   "execution_count": 51,
   "metadata": {},
   "outputs": [
    {
     "data": {
      "text/plain": [
       "TSNE(angle=0.5, early_exaggeration=12.0, init='random', learning_rate=200.0,\n",
       "     method='barnes_hut', metric='euclidean', min_grad_norm=1e-07,\n",
       "     n_components=2, n_iter=1000, n_iter_without_progress=300, perplexity=30.0,\n",
       "     random_state=0, verbose=0)"
      ]
     },
     "execution_count": 51,
     "metadata": {},
     "output_type": "execute_result"
    }
   ],
   "source": [
    "# One of non-linear embedding in sklearn\n",
    "from sklearn.manifold import TSNE\n",
    "\n",
    "tsne = TSNE(n_components=2, random_state=0)\n",
    "tsne.fit(X)"
   ]
  },
  {
   "cell_type": "code",
   "execution_count": 52,
   "metadata": {},
   "outputs": [],
   "source": [
    "tf = tsne.fit_transform(X)"
   ]
  },
  {
   "cell_type": "code",
   "execution_count": 53,
   "metadata": {},
   "outputs": [
    {
     "data": {
      "text/plain": [
       "0.12749622762203217"
      ]
     },
     "execution_count": 53,
     "metadata": {},
     "output_type": "execute_result"
    }
   ],
   "source": [
    "tsne.kl_divergence_"
   ]
  },
  {
   "cell_type": "code",
   "execution_count": 54,
   "metadata": {},
   "outputs": [
    {
     "data": {
      "text/plain": [
       "<matplotlib.collections.PathCollection at 0x7fe9c462ffd0>"
      ]
     },
     "execution_count": 54,
     "metadata": {},
     "output_type": "execute_result"
    },
    {
     "data": {
      "text/plain": [
       "Text(0.5, 1.0, 'tSNE')"
      ]
     },
     "execution_count": 54,
     "metadata": {},
     "output_type": "execute_result"
    },
    {
     "data": {
      "text/plain": [
       "Text(0.5, 0, 'tSNE-X')"
      ]
     },
     "execution_count": 54,
     "metadata": {},
     "output_type": "execute_result"
    },
    {
     "data": {
      "text/plain": [
       "Text(0, 0.5, 'tSNE-Y')"
      ]
     },
     "execution_count": 54,
     "metadata": {},
     "output_type": "execute_result"
    },
    {
     "data": {
      "text/plain": [
       "<matplotlib.collections.PathCollection at 0x7fe9c4678208>"
      ]
     },
     "execution_count": 54,
     "metadata": {},
     "output_type": "execute_result"
    },
    {
     "data": {
      "text/plain": [
       "Text(0.5, 1.0, 'tSNE')"
      ]
     },
     "execution_count": 54,
     "metadata": {},
     "output_type": "execute_result"
    },
    {
     "data": {
      "text/plain": [
       "Text(0.5, 0, 'tSNE-X')"
      ]
     },
     "execution_count": 54,
     "metadata": {},
     "output_type": "execute_result"
    },
    {
     "data": {
      "text/plain": [
       "Text(0, 0.5, 'tSNE-Y')"
      ]
     },
     "execution_count": 54,
     "metadata": {},
     "output_type": "execute_result"
    },
    {
     "data": {
      "text/plain": [
       "<matplotlib.collections.PathCollection at 0x7fe9c4614940>"
      ]
     },
     "execution_count": 54,
     "metadata": {},
     "output_type": "execute_result"
    },
    {
     "data": {
      "text/plain": [
       "Text(0.5, 1.0, 'tSNE')"
      ]
     },
     "execution_count": 54,
     "metadata": {},
     "output_type": "execute_result"
    },
    {
     "data": {
      "text/plain": [
       "Text(0.5, 0, 'tSNE-X')"
      ]
     },
     "execution_count": 54,
     "metadata": {},
     "output_type": "execute_result"
    },
    {
     "data": {
      "text/plain": [
       "Text(0, 0.5, 'tSNE-Y')"
      ]
     },
     "execution_count": 54,
     "metadata": {},
     "output_type": "execute_result"
    },
    {
     "data": {
      "text/plain": [
       "<matplotlib.collections.PathCollection at 0x7fe9c45ce9b0>"
      ]
     },
     "execution_count": 54,
     "metadata": {},
     "output_type": "execute_result"
    },
    {
     "data": {
      "text/plain": [
       "Text(0.5, 1.0, 'tSNE')"
      ]
     },
     "execution_count": 54,
     "metadata": {},
     "output_type": "execute_result"
    },
    {
     "data": {
      "text/plain": [
       "Text(0.5, 0, 'tSNE-X')"
      ]
     },
     "execution_count": 54,
     "metadata": {},
     "output_type": "execute_result"
    },
    {
     "data": {
      "text/plain": [
       "Text(0, 0.5, 'tSNE-Y')"
      ]
     },
     "execution_count": 54,
     "metadata": {},
     "output_type": "execute_result"
    },
    {
     "data": {
      "text/plain": [
       "<matplotlib.collections.PathCollection at 0x7fe9c45f4be0>"
      ]
     },
     "execution_count": 54,
     "metadata": {},
     "output_type": "execute_result"
    },
    {
     "data": {
      "text/plain": [
       "Text(0.5, 1.0, 'tSNE')"
      ]
     },
     "execution_count": 54,
     "metadata": {},
     "output_type": "execute_result"
    },
    {
     "data": {
      "text/plain": [
       "Text(0.5, 0, 'tSNE-X')"
      ]
     },
     "execution_count": 54,
     "metadata": {},
     "output_type": "execute_result"
    },
    {
     "data": {
      "text/plain": [
       "Text(0, 0.5, 'tSNE-Y')"
      ]
     },
     "execution_count": 54,
     "metadata": {},
     "output_type": "execute_result"
    },
    {
     "data": {
      "text/plain": [
       "<matplotlib.collections.PathCollection at 0x7fe9c45cea90>"
      ]
     },
     "execution_count": 54,
     "metadata": {},
     "output_type": "execute_result"
    },
    {
     "data": {
      "text/plain": [
       "Text(0.5, 1.0, 'tSNE')"
      ]
     },
     "execution_count": 54,
     "metadata": {},
     "output_type": "execute_result"
    },
    {
     "data": {
      "text/plain": [
       "Text(0.5, 0, 'tSNE-X')"
      ]
     },
     "execution_count": 54,
     "metadata": {},
     "output_type": "execute_result"
    },
    {
     "data": {
      "text/plain": [
       "Text(0, 0.5, 'tSNE-Y')"
      ]
     },
     "execution_count": 54,
     "metadata": {},
     "output_type": "execute_result"
    },
    {
     "data": {
      "image/png": "[encoded data removed]",
      "text/plain": [
       "<Figure size 432x288 with 1 Axes>"
      ]
     },
     "metadata": {
      "needs_background": "light"
     },
     "output_type": "display_data"
    }
   ],
   "source": [
    "from matplotlib import pyplot as plt\n",
    "\n",
    "for label in np.unique(y):\n",
    "    plt.scatter(tf[y == label, 0], tf[y == label, 1])\n",
    "    plt.title('tSNE')\n",
    "    plt.xlabel('tSNE-X')\n",
    "    plt.ylabel('tSNE-Y')\n",
    "    \n",
    "plt.show()"
   ]
  },
  {
   "cell_type": "code",
   "execution_count": 8,
   "metadata": {},
   "outputs": [
    {
     "data": {
      "application/vnd.vegalite.v3+json": {
       "$schema": "https://vega.github.io/schema/vega-lite/v3.4.0.json",
       "config": {
        "mark": {
         "tooltip": null
        },
        "view": {
         "height": 300,
         "width": 400
        }
       },
       "datasets": {
        "data-0baa634ea900966d037d8fd34aea801e": [
         {
          "pc1": 17.170299530029297,
          "pc2": -15.051935195922852
         },
         {
          "pc1": 17.35599708557129,
          "pc2": -15.140853881835938
         },
         {
          "pc1": -41.91880416870117,
          "pc2": 20.97102928161621
         },
         {
          "pc1": -60.73684310913086,
          "pc2": -15.1111478805542
         },
         {
          "pc1": 4.065830230712891,
          "pc2": -14.6290864944458
         },
         {
          "pc1": 44.47705841064453,
          "pc2": -49.13132095336914
         },
         {
          "pc1": -34.37544250488281,
          "pc2": 15.932358741760254
         },
         {
          "pc1": -37.30539321899414,
          "pc2": 75.59007263183594
         },
         {
          "pc1": 3.3557143211364746,
          "pc2": -50.185428619384766
         },
         {
          "pc1": 39.59590148925781,
          "pc2": 54.358924865722656
         },
         {
          "pc1": -4.559285640716553,
          "pc2": -51.78672790527344
         },
         {
          "pc1": 56.27217483520508,
          "pc2": 24.0744686126709
         },
         {
          "pc1": -24.08077621459961,
          "pc2": -76.08336639404297
         },
         {
          "pc1": 14.884001731872559,
          "pc2": 5.7200927734375
         },
         {
          "pc1": -4.69745397567749,
          "pc2": -11.358510971069336
         },
         {
          "pc1": -11.956920623779297,
          "pc2": -1.9939903020858765
         },
         {
          "pc1": 16.388418197631836,
          "pc2": -15.035699844360352
         },
         {
          "pc1": 34.49176025390625,
          "pc2": 51.37540054321289
         },
         {
          "pc1": -22.12103843688965,
          "pc2": 57.66024398803711
         },
         {
          "pc1": -1.324363112449646,
          "pc2": 77.35624694824219
         },
         {
          "pc1": -11.213607788085938,
          "pc2": 34.94462203979492
         },
         {
          "pc1": 25.177995681762695,
          "pc2": 39.880126953125
         },
         {
          "pc1": 25.096555709838867,
          "pc2": 39.70720672607422
         },
         {
          "pc1": 42.0162353515625,
          "pc2": 54.381988525390625
         },
         {
          "pc1": -5.863319396972656,
          "pc2": 27.042835235595703
         },
         {
          "pc1": 57.08076477050781,
          "pc2": 55.00350570678711
         },
         {
          "pc1": 13.78660774230957,
          "pc2": 30.079469680786133
         },
         {
          "pc1": 12.760724067687988,
          "pc2": 5.074111461639404
         },
         {
          "pc1": 24.048860549926758,
          "pc2": -16.571876525878906
         },
         {
          "pc1": 33.59177017211914,
          "pc2": 50.76392364501953
         },
         {
          "pc1": 37.24767303466797,
          "pc2": -23.231443405151367
         },
         {
          "pc1": -38.50397872924805,
          "pc2": 62.43767166137695
         },
         {
          "pc1": 33.85090637207031,
          "pc2": 50.71074295043945
         },
         {
          "pc1": -11.270695686340332,
          "pc2": -5.966263771057129
         },
         {
          "pc1": 42.23286819458008,
          "pc2": -26.95405387878418
         },
         {
          "pc1": -28.471729278564453,
          "pc2": 13.996127128601074
         },
         {
          "pc1": -11.303166389465332,
          "pc2": -26.83707618713379
         },
         {
          "pc1": 55.47208023071289,
          "pc2": -3.5013985633850098
         },
         {
          "pc1": -10.892938613891602,
          "pc2": 39.51436996459961
         },
         {
          "pc1": 31.75482749938965,
          "pc2": 49.170936584472656
         },
         {
          "pc1": 36.78829574584961,
          "pc2": 52.3448486328125
         },
         {
          "pc1": -57.87790298461914,
          "pc2": -15.297249794006348
         },
         {
          "pc1": 55.4359245300293,
          "pc2": -3.0285561084747314
         },
         {
          "pc1": -21.74087142944336,
          "pc2": 17.4063663482666
         },
         {
          "pc1": -7.970030307769775,
          "pc2": 40.157806396484375
         },
         {
          "pc1": 46.656097412109375,
          "pc2": 17.273414611816406
         },
         {
          "pc1": 0.5079001784324646,
          "pc2": 4.350170135498047
         },
         {
          "pc1": 6.746605396270752,
          "pc2": -78.9886474609375
         },
         {
          "pc1": -11.468463897705078,
          "pc2": 0.6061015129089355
         },
         {
          "pc1": 26.457420349121094,
          "pc2": -17.276500701904297
         },
         {
          "pc1": 5.422308921813965,
          "pc2": 26.84714698791504
         },
         {
          "pc1": 23.33112335205078,
          "pc2": -16.289400100708008
         },
         {
          "pc1": 42.77437210083008,
          "pc2": -26.885881423950195
         },
         {
          "pc1": -40.93126678466797,
          "pc2": 49.69328308105469
         },
         {
          "pc1": -36.28020095825195,
          "pc2": 58.95095443725586
         },
         {
          "pc1": -17.76805305480957,
          "pc2": -23.525394439697266
         },
         {
          "pc1": 2.226203203201294,
          "pc2": -32.0092887878418
         },
         {
          "pc1": 30.490692138671875,
          "pc2": 47.67001724243164
         },
         {
          "pc1": -8.902626991271973,
          "pc2": -8.021302223205566
         },
         {
          "pc1": -33.06169509887695,
          "pc2": 21.474279403686523
         },
         {
          "pc1": -7.065136909484863,
          "pc2": -81.38286590576172
         },
         {
          "pc1": 36.71952819824219,
          "pc2": -23.108810424804688
         },
         {
          "pc1": -15.371674537658691,
          "pc2": 19.909603118896484
         },
         {
          "pc1": -16.058788299560547,
          "pc2": -80.5083236694336
         },
         {
          "pc1": -30.08891487121582,
          "pc2": 40.68467712402344
         },
         {
          "pc1": -6.357097625732422,
          "pc2": -10.103412628173828
         },
         {
          "pc1": -41.53925704956055,
          "pc2": 25.476839065551758
         },
         {
          "pc1": 6.123985767364502,
          "pc2": 4.343569755554199
         },
         {
          "pc1": 27.527385711669922,
          "pc2": 44.79011535644531
         },
         {
          "pc1": -38.1406135559082,
          "pc2": 50.194427490234375
         },
         {
          "pc1": 38.31662368774414,
          "pc2": 53.14973449707031
         },
         {
          "pc1": 35.88063430786133,
          "pc2": -62.709468841552734
         },
         {
          "pc1": 14.708738327026367,
          "pc2": 5.331099510192871
         },
         {
          "pc1": 3.4803555011749268,
          "pc2": 28.424495697021484
         },
         {
          "pc1": -17.804174423217773,
          "pc2": 59.129852294921875
         },
         {
          "pc1": 9.31959342956543,
          "pc2": -36.1176643371582
         },
         {
          "pc1": 45.255008697509766,
          "pc2": 54.33045196533203
         },
         {
          "pc1": 56.23039627075195,
          "pc2": 54.583282470703125
         },
         {
          "pc1": 43.84528732299805,
          "pc2": 16.467729568481445
         },
         {
          "pc1": -12.487056732177734,
          "pc2": 70.64408874511719
         },
         {
          "pc1": 14.192249298095703,
          "pc2": 5.165996551513672
         },
         {
          "pc1": -11.331042289733887,
          "pc2": 39.12171173095703
         },
         {
          "pc1": -14.555696487426758,
          "pc2": 65.98583984375
         },
         {
          "pc1": 57.4005012512207,
          "pc2": 54.993499755859375
         },
         {
          "pc1": 35.97984313964844,
          "pc2": 40.30731964111328
         },
         {
          "pc1": 50.80852127075195,
          "pc2": 46.44211959838867
         },
         {
          "pc1": 44.198158264160156,
          "pc2": -22.675458908081055
         },
         {
          "pc1": 40.59380340576172,
          "pc2": -49.98340606689453
         },
         {
          "pc1": -15.150932312011719,
          "pc2": 65.00186920166016
         },
         {
          "pc1": 1.9340949058532715,
          "pc2": -14.564236640930176
         },
         {
          "pc1": 52.758724212646484,
          "pc2": 16.727832794189453
         },
         {
          "pc1": 9.220917701721191,
          "pc2": 45.699344635009766
         },
         {
          "pc1": 0.004808386322110891,
          "pc2": 70.07791900634766
         },
         {
          "pc1": 9.185973167419434,
          "pc2": -46.59990310668945
         },
         {
          "pc1": 2.774693012237549,
          "pc2": 72.34092712402344
         },
         {
          "pc1": 30.590917587280273,
          "pc2": -19.161191940307617
         },
         {
          "pc1": -29.935142517089844,
          "pc2": 40.571754455566406
         },
         {
          "pc1": 2.2935197353363037,
          "pc2": 27.906553268432617
         },
         {
          "pc1": -12.261971473693848,
          "pc2": -1.7123448848724365
         },
         {
          "pc1": 5.790346145629883,
          "pc2": -14.904067039489746
         },
         {
          "pc1": -19.724262237548828,
          "pc2": 60.04913330078125
         },
         {
          "pc1": -8.715265274047852,
          "pc2": 26.770530700683594
         },
         {
          "pc1": 1.6366822719573975,
          "pc2": 28.150495529174805
         },
         {
          "pc1": 45.16781234741211,
          "pc2": -20.18702507019043
         },
         {
          "pc1": 26.866268157958984,
          "pc2": 43.89773941040039
         },
         {
          "pc1": -26.042980194091797,
          "pc2": 16.922595977783203
         },
         {
          "pc1": -17.253707885742188,
          "pc2": 3.5918352603912354
         },
         {
          "pc1": -22.643552780151367,
          "pc2": -77.12090301513672
         },
         {
          "pc1": -38.636146545410156,
          "pc2": -47.596893310546875
         },
         {
          "pc1": -3.396672010421753,
          "pc2": -12.273277282714844
         },
         {
          "pc1": 61.759559631347656,
          "pc2": 18.051149368286133
         },
         {
          "pc1": 17.931682586669922,
          "pc2": -14.970575332641602
         },
         {
          "pc1": 0.03887803852558136,
          "pc2": 43.29297637939453
         },
         {
          "pc1": 57.19020462036133,
          "pc2": 54.59197235107422
         },
         {
          "pc1": 49.484806060791016,
          "pc2": 44.63651657104492
         },
         {
          "pc1": -12.080814361572266,
          "pc2": -1.1526551246643066
         },
         {
          "pc1": 33.10891342163086,
          "pc2": -20.733400344848633
         },
         {
          "pc1": -15.60425853729248,
          "pc2": 66.80448913574219
         },
         {
          "pc1": 2.924631357192993,
          "pc2": -81.6570053100586
         },
         {
          "pc1": 42.674034118652344,
          "pc2": -1.1622488498687744
         },
         {
          "pc1": 16.712749481201172,
          "pc2": -14.746434211730957
         },
         {
          "pc1": 38.990177154541016,
          "pc2": 53.411529541015625
         },
         {
          "pc1": -60.8950080871582,
          "pc2": -15.480725288391113
         },
         {
          "pc1": 19.014644622802734,
          "pc2": -15.116190910339355
         },
         {
          "pc1": -6.022628307342529,
          "pc2": -73.4221420288086
         },
         {
          "pc1": -18.985492706298828,
          "pc2": 35.78095626831055
         },
         {
          "pc1": -15.184012413024902,
          "pc2": -25.56759262084961
         },
         {
          "pc1": 51.56836700439453,
          "pc2": 25.592382431030273
         },
         {
          "pc1": 6.000009536743164,
          "pc2": -80.77947235107422
         },
         {
          "pc1": 16.150068283081055,
          "pc2": -15.038228988647461
         },
         {
          "pc1": -43.479942321777344,
          "pc2": 21.35000991821289
         },
         {
          "pc1": 22.561189651489258,
          "pc2": -12.743602752685547
         },
         {
          "pc1": -10.269771575927734,
          "pc2": 2.311513900756836
         },
         {
          "pc1": 10.560802459716797,
          "pc2": -78.44641876220703
         },
         {
          "pc1": 43.68351745605469,
          "pc2": -48.308109283447266
         },
         {
          "pc1": 33.152164459228516,
          "pc2": -20.744802474975586
         },
         {
          "pc1": 59.547119140625,
          "pc2": 14.997063636779785
         },
         {
          "pc1": 47.75514221191406,
          "pc2": 15.956872940063477
         },
         {
          "pc1": -6.907052993774414,
          "pc2": 73.55989074707031
         },
         {
          "pc1": -20.559114456176758,
          "pc2": 57.22865295410156
         },
         {
          "pc1": 39.89164352416992,
          "pc2": -25.585145950317383
         },
         {
          "pc1": -39.840911865234375,
          "pc2": 57.339107513427734
         },
         {
          "pc1": 44.692413330078125,
          "pc2": -48.31001663208008
         },
         {
          "pc1": -8.1610689163208,
          "pc2": 74.09248352050781
         },
         {
          "pc1": -28.37948989868164,
          "pc2": -48.4454231262207
         },
         {
          "pc1": 1.4111993312835693,
          "pc2": 4.867725849151611
         },
         {
          "pc1": 13.654570579528809,
          "pc2": -77.80763244628906
         },
         {
          "pc1": -42.19907760620117,
          "pc2": -9.862853050231934
         },
         {
          "pc1": 32.87022399902344,
          "pc2": -20.59553337097168
         },
         {
          "pc1": -5.323853492736816,
          "pc2": 25.06139373779297
         },
         {
          "pc1": 17.156448364257812,
          "pc2": 7.149738788604736
         },
         {
          "pc1": 27.075992584228516,
          "pc2": 44.23257064819336
         },
         {
          "pc1": -8.354459762573242,
          "pc2": 3.7612569332122803
         },
         {
          "pc1": -41.32221221923828,
          "pc2": -50.09592819213867
         },
         {
          "pc1": 58.35154342651367,
          "pc2": 16.740907669067383
         },
         {
          "pc1": -6.306272029876709,
          "pc2": 4.701175689697266
         },
         {
          "pc1": -35.978904724121094,
          "pc2": 62.309120178222656
         },
         {
          "pc1": 12.199769020080566,
          "pc2": -45.74677276611328
         },
         {
          "pc1": 23.21242332458496,
          "pc2": -16.27423095703125
         },
         {
          "pc1": 3.5072405338287354,
          "pc2": 4.621762275695801
         },
         {
          "pc1": 28.42243194580078,
          "pc2": -18.325416564941406
         },
         {
          "pc1": -0.12708593904972076,
          "pc2": 19.949951171875
         },
         {
          "pc1": -1.9052213430404663,
          "pc2": 19.199840545654297
         },
         {
          "pc1": -11.412930488586426,
          "pc2": -5.4515180587768555
         },
         {
          "pc1": 18.453035354614258,
          "pc2": 8.402257919311523
         },
         {
          "pc1": 2.7492566108703613,
          "pc2": 28.26766014099121
         },
         {
          "pc1": 29.124528884887695,
          "pc2": 46.418128967285156
         },
         {
          "pc1": 18.178659439086914,
          "pc2": -14.332439422607422
         },
         {
          "pc1": 3.1428139209747314,
          "pc2": -14.78659439086914
         },
         {
          "pc1": -8.635769844055176,
          "pc2": -83.17119598388672
         },
         {
          "pc1": -3.7681169509887695,
          "pc2": 17.9239559173584
         },
         {
          "pc1": -12.474678993225098,
          "pc2": -51.94717025756836
         },
         {
          "pc1": 29.064306259155273,
          "pc2": -18.088449478149414
         },
         {
          "pc1": 7.645286560058594,
          "pc2": -9.266270637512207
         },
         {
          "pc1": -14.847354888916016,
          "pc2": 19.920005798339844
         },
         {
          "pc1": 51.83528518676758,
          "pc2": 44.92878341674805
         },
         {
          "pc1": -6.631683349609375,
          "pc2": -9.762324333190918
         },
         {
          "pc1": 54.11701965332031,
          "pc2": 53.831764221191406
         },
         {
          "pc1": 15.591819763183594,
          "pc2": -14.95846939086914
         },
         {
          "pc1": -1.4220389127731323,
          "pc2": -13.493080139160156
         },
         {
          "pc1": 6.883761882781982,
          "pc2": -14.928621292114258
         },
         {
          "pc1": 13.795479774475098,
          "pc2": 4.9731245040893555
         },
         {
          "pc1": 1.9494569301605225,
          "pc2": 43.917327880859375
         },
         {
          "pc1": -4.399974822998047,
          "pc2": 5.18973445892334
         },
         {
          "pc1": -11.5628080368042,
          "pc2": 0.3438495397567749
         },
         {
          "pc1": 49.23215103149414,
          "pc2": 26.135251998901367
         },
         {
          "pc1": 32.802127838134766,
          "pc2": 49.7556266784668
         },
         {
          "pc1": -15.172654151916504,
          "pc2": -81.25516510009766
         },
         {
          "pc1": -4.989979267120361,
          "pc2": -11.224568367004395
         },
         {
          "pc1": -19.2745418548584,
          "pc2": 19.023927688598633
         },
         {
          "pc1": -14.924399375915527,
          "pc2": -51.15540313720703
         },
         {
          "pc1": 55.926849365234375,
          "pc2": 54.51484680175781
         },
         {
          "pc1": 0.956409752368927,
          "pc2": -14.068155288696289
         },
         {
          "pc1": -37.99104309082031,
          "pc2": -48.441593170166016
         },
         {
          "pc1": 44.28398132324219,
          "pc2": 54.727012634277344
         },
         {
          "pc1": -5.857948303222656,
          "pc2": 75.09210205078125
         },
         {
          "pc1": 18.23227310180664,
          "pc2": -15.074562072753906
         },
         {
          "pc1": -40.8577766418457,
          "pc2": 51.819461822509766
         },
         {
          "pc1": 2.4634687900543213,
          "pc2": 4.778128147125244
         },
         {
          "pc1": -22.629724502563477,
          "pc2": -76.39805603027344
         },
         {
          "pc1": 42.08823013305664,
          "pc2": -26.72905158996582
         },
         {
          "pc1": 39.75934982299805,
          "pc2": 53.70848083496094
         },
         {
          "pc1": 45.746307373046875,
          "pc2": 26.738765716552734
         },
         {
          "pc1": 0.13302817940711975,
          "pc2": -14.054892539978027
         },
         {
          "pc1": 41.693023681640625,
          "pc2": 55.189292907714844
         },
         {
          "pc1": 41.229862213134766,
          "pc2": -26.3984317779541
         },
         {
          "pc1": 0.7876536846160889,
          "pc2": 5.064813137054443
         },
         {
          "pc1": -10.845107078552246,
          "pc2": 1.915266513824463
         },
         {
          "pc1": 42.72429275512695,
          "pc2": 54.49857711791992
         },
         {
          "pc1": 35.72235107421875,
          "pc2": 52.081932067871094
         },
         {
          "pc1": 30.649703979492188,
          "pc2": -19.014678955078125
         },
         {
          "pc1": 38.650936126708984,
          "pc2": 18.27730941772461
         },
         {
          "pc1": 14.569050788879395,
          "pc2": -14.840824127197266
         },
         {
          "pc1": 58.63475799560547,
          "pc2": 54.238182067871094
         },
         {
          "pc1": 43.958396911621094,
          "pc2": -24.634265899658203
         },
         {
          "pc1": -37.95133972167969,
          "pc2": 67.58757781982422
         },
         {
          "pc1": -1.1785467863082886,
          "pc2": 42.885257720947266
         },
         {
          "pc1": 29.985214233398438,
          "pc2": 47.917720794677734
         },
         {
          "pc1": 46.82139205932617,
          "pc2": -48.61906051635742
         },
         {
          "pc1": 10.62723445892334,
          "pc2": 42.76601791381836
         },
         {
          "pc1": -5.615721225738525,
          "pc2": -9.852909088134766
         },
         {
          "pc1": 50.3857421875,
          "pc2": 54.558441162109375
         },
         {
          "pc1": -39.356414794921875,
          "pc2": -48.25972366333008
         },
         {
          "pc1": 36.36710739135742,
          "pc2": 40.635501861572266
         },
         {
          "pc1": 24.060087203979492,
          "pc2": -70.60379028320312
         },
         {
          "pc1": -6.400855541229248,
          "pc2": -10.219523429870605
         },
         {
          "pc1": 51.835227966308594,
          "pc2": 46.499603271484375
         },
         {
          "pc1": 8.051063537597656,
          "pc2": -47.15259552001953
         },
         {
          "pc1": 29.864782333374023,
          "pc2": -66.31190490722656
         },
         {
          "pc1": -12.098716735839844,
          "pc2": -1.2002493143081665
         },
         {
          "pc1": -31.584209442138672,
          "pc2": 12.988744735717773
         },
         {
          "pc1": 52.14922332763672,
          "pc2": 14.36667251586914
         },
         {
          "pc1": -0.4797579050064087,
          "pc2": 5.208792686462402
         },
         {
          "pc1": 43.2939338684082,
          "pc2": 54.54745864868164
         },
         {
          "pc1": 0.1993483304977417,
          "pc2": 5.235299587249756
         },
         {
          "pc1": -31.79665184020996,
          "pc2": 41.04926681518555
         },
         {
          "pc1": -11.527387619018555,
          "pc2": -5.240548133850098
         },
         {
          "pc1": -20.06151008605957,
          "pc2": 38.28679275512695
         },
         {
          "pc1": -26.96303939819336,
          "pc2": 39.1695442199707
         },
         {
          "pc1": 26.14352035522461,
          "pc2": 25.311201095581055
         },
         {
          "pc1": 45.791873931884766,
          "pc2": 54.87525177001953
         },
         {
          "pc1": 23.777725219726562,
          "pc2": -72.00132751464844
         },
         {
          "pc1": -38.569278717041016,
          "pc2": 14.561016082763672
         },
         {
          "pc1": -0.6360580921173096,
          "pc2": -13.62814998626709
         },
         {
          "pc1": 60.26605224609375,
          "pc2": 14.867612838745117
         },
         {
          "pc1": 56.57517623901367,
          "pc2": 54.62388229370117
         },
         {
          "pc1": 18.100299835205078,
          "pc2": 23.391088485717773
         },
         {
          "pc1": 13.995536804199219,
          "pc2": 30.83241081237793
         },
         {
          "pc1": -3.739924192428589,
          "pc2": 17.89302635192871
         },
         {
          "pc1": -11.585874557495117,
          "pc2": -2.8657619953155518
         },
         {
          "pc1": 38.31452560424805,
          "pc2": 41.950565338134766
         },
         {
          "pc1": 25.496273040771484,
          "pc2": 41.04204177856445
         },
         {
          "pc1": -9.062653541564941,
          "pc2": -7.872106075286865
         },
         {
          "pc1": -43.14290237426758,
          "pc2": -12.700472831726074
         },
         {
          "pc1": 12.233285903930664,
          "pc2": -77.54630279541016
         },
         {
          "pc1": 43.96204376220703,
          "pc2": -21.172544479370117
         },
         {
          "pc1": -2.286917209625244,
          "pc2": 4.768041610717773
         },
         {
          "pc1": 18.20765495300293,
          "pc2": -15.190134048461914
         },
         {
          "pc1": 43.889644622802734,
          "pc2": 26.248363494873047
         },
         {
          "pc1": -0.1268761307001114,
          "pc2": -14.177115440368652
         },
         {
          "pc1": 41.078269958496094,
          "pc2": -56.87046813964844
         },
         {
          "pc1": 4.628251552581787,
          "pc2": 12.083677291870117
         },
         {
          "pc1": 18.410919189453125,
          "pc2": -14.369768142700195
         },
         {
          "pc1": 39.35993194580078,
          "pc2": 53.56639862060547
         },
         {
          "pc1": 20.309951782226562,
          "pc2": 28.406124114990234
         },
         {
          "pc1": 32.30910873413086,
          "pc2": -66.05599975585938
         },
         {
          "pc1": 14.550761222839355,
          "pc2": 30.520469665527344
         },
         {
          "pc1": -3.420581579208374,
          "pc2": 4.561748027801514
         },
         {
          "pc1": -8.844355583190918,
          "pc2": 3.4571871757507324
         },
         {
          "pc1": -20.251285552978516,
          "pc2": 17.839805603027344
         },
         {
          "pc1": 7.281116962432861,
          "pc2": -33.87628173828125
         },
         {
          "pc1": 41.20718002319336,
          "pc2": -56.352867126464844
         },
         {
          "pc1": 53.8232307434082,
          "pc2": 53.80365753173828
         },
         {
          "pc1": -12.357942581176758,
          "pc2": -2.6415367126464844
         },
         {
          "pc1": 3.1665172576904297,
          "pc2": 73.46834564208984
         },
         {
          "pc1": 29.70363998413086,
          "pc2": 47.6353874206543
         },
         {
          "pc1": 17.102989196777344,
          "pc2": -14.339611053466797
         },
         {
          "pc1": 20.816740036010742,
          "pc2": 11.508655548095703
         },
         {
          "pc1": 10.870771408081055,
          "pc2": 12.492627143859863
         },
         {
          "pc1": 34.85124206542969,
          "pc2": -63.91415023803711
         },
         {
          "pc1": 26.735319137573242,
          "pc2": 43.41354751586914
         },
         {
          "pc1": 1.8675823211669922,
          "pc2": -51.66776657104492
         },
         {
          "pc1": 60.48807907104492,
          "pc2": -2.9194560050964355
         },
         {
          "pc1": -0.7320692539215088,
          "pc2": -51.70349884033203
         },
         {
          "pc1": -5.439311504364014,
          "pc2": -10.461559295654297
         },
         {
          "pc1": -23.38497543334961,
          "pc2": -48.86202621459961
         },
         {
          "pc1": -63.35663604736328,
          "pc2": -18.299192428588867
         },
         {
          "pc1": 42.07447814941406,
          "pc2": 54.36045837402344
         },
         {
          "pc1": 8.751410484313965,
          "pc2": 4.057100296020508
         },
         {
          "pc1": 2.593998670578003,
          "pc2": 76.086181640625
         },
         {
          "pc1": 49.93533706665039,
          "pc2": -2.4150824546813965
         },
         {
          "pc1": 58.14276123046875,
          "pc2": -3.5405404567718506
         },
         {
          "pc1": 45.709754943847656,
          "pc2": -48.13822555541992
         },
         {
          "pc1": 41.51915740966797,
          "pc2": -27.328296661376953
         },
         {
          "pc1": -10.982970237731934,
          "pc2": -4.64926815032959
         },
         {
          "pc1": -5.4002299308776855,
          "pc2": 75.37394714355469
         },
         {
          "pc1": -39.56685256958008,
          "pc2": -11.64254093170166
         },
         {
          "pc1": -8.567718505859375,
          "pc2": 26.823726654052734
         },
         {
          "pc1": -3.6680233478546143,
          "pc2": 25.672693252563477
         },
         {
          "pc1": 41.49483108520508,
          "pc2": -25.788768768310547
         },
         {
          "pc1": -1.379433512687683,
          "pc2": 75.1974868774414
         },
         {
          "pc1": 1.7967469692230225,
          "pc2": -51.454952239990234
         },
         {
          "pc1": 10.967269897460938,
          "pc2": 30.05226707458496
         },
         {
          "pc1": 43.89335250854492,
          "pc2": 54.365909576416016
         },
         {
          "pc1": 25.59596061706543,
          "pc2": 41.22337341308594
         },
         {
          "pc1": 24.912071228027344,
          "pc2": 39.39072036743164
         },
         {
          "pc1": -32.5588264465332,
          "pc2": 21.20553970336914
         },
         {
          "pc1": -0.9911524057388306,
          "pc2": -7.669962406158447
         },
         {
          "pc1": -16.97643280029297,
          "pc2": 64.5357894897461
         },
         {
          "pc1": 5.90177583694458,
          "pc2": 4.328299522399902
         },
         {
          "pc1": -0.640309751033783,
          "pc2": -13.688639640808105
         },
         {
          "pc1": 34.352298736572266,
          "pc2": 38.63288497924805
         },
         {
          "pc1": -22.987285614013672,
          "pc2": 19.232891082763672
         },
         {
          "pc1": 55.51667404174805,
          "pc2": 17.494869232177734
         },
         {
          "pc1": -18.87409019470215,
          "pc2": 62.10708236694336
         },
         {
          "pc1": 18.381746292114258,
          "pc2": 9.052244186401367
         },
         {
          "pc1": 44.67493438720703,
          "pc2": 17.98628044128418
         },
         {
          "pc1": 6.987540245056152,
          "pc2": -14.866854667663574
         },
         {
          "pc1": -7.402435779571533,
          "pc2": 71.0408935546875
         },
         {
          "pc1": 27.997520446777344,
          "pc2": -18.101289749145508
         },
         {
          "pc1": 3.3756790161132812,
          "pc2": 4.639368534088135
         },
         {
          "pc1": -11.181156158447266,
          "pc2": -5.739542484283447
         },
         {
          "pc1": 1.1131614446640015,
          "pc2": 5.141420364379883
         },
         {
          "pc1": 17.409656524658203,
          "pc2": -76.69752502441406
         },
         {
          "pc1": -19.928680419921875,
          "pc2": -49.482948303222656
         },
         {
          "pc1": -36.2794075012207,
          "pc2": -13.517592430114746
         },
         {
          "pc1": -0.27178263664245605,
          "pc2": -14.46254825592041
         },
         {
          "pc1": -10.215191841125488,
          "pc2": 72.68633270263672
         },
         {
          "pc1": -40.31912612915039,
          "pc2": 54.15190887451172
         },
         {
          "pc1": 50.54436111450195,
          "pc2": 55.04359436035156
         },
         {
          "pc1": -11.163472175598145,
          "pc2": 2.0715506076812744
         },
         {
          "pc1": -18.965980529785156,
          "pc2": 61.88937759399414
         },
         {
          "pc1": 41.07373809814453,
          "pc2": 54.180511474609375
         },
         {
          "pc1": -37.91814041137695,
          "pc2": 23.810440063476562
         },
         {
          "pc1": -22.35741424560547,
          "pc2": 38.48822784423828
         },
         {
          "pc1": 1.1672093868255615,
          "pc2": -14.236841201782227
         },
         {
          "pc1": 14.855579376220703,
          "pc2": -79.43193054199219
         },
         {
          "pc1": 6.598824501037598,
          "pc2": -14.516464233398438
         },
         {
          "pc1": -30.591304779052734,
          "pc2": 40.9261474609375
         },
         {
          "pc1": 13.967320442199707,
          "pc2": 30.82840347290039
         },
         {
          "pc1": 27.860870361328125,
          "pc2": 45.78019714355469
         },
         {
          "pc1": 51.899723052978516,
          "pc2": 54.516441345214844
         },
         {
          "pc1": -3.9332966804504395,
          "pc2": 5.298182487487793
         },
         {
          "pc1": 32.130714416503906,
          "pc2": 49.69292068481445
         },
         {
          "pc1": -52.8342170715332,
          "pc2": -10.281132698059082
         },
         {
          "pc1": -41.347843170166016,
          "pc2": -47.035343170166016
         },
         {
          "pc1": -17.74481773376465,
          "pc2": 20.566984176635742
         },
         {
          "pc1": -39.18375015258789,
          "pc2": 59.06216812133789
         },
         {
          "pc1": 1.2292109727859497,
          "pc2": -30.78063201904297
         },
         {
          "pc1": 16.7455997467041,
          "pc2": 7.00639009475708
         },
         {
          "pc1": 19.678741455078125,
          "pc2": 9.552864074707031
         },
         {
          "pc1": 53.802791595458984,
          "pc2": -3.504892349243164
         },
         {
          "pc1": -5.750112056732178,
          "pc2": -10.698969841003418
         },
         {
          "pc1": -17.912734985351562,
          "pc2": -25.415672302246094
         },
         {
          "pc1": 51.181583404541016,
          "pc2": 54.13436508178711
         },
         {
          "pc1": -37.2853889465332,
          "pc2": -12.964929580688477
         },
         {
          "pc1": -7.827607154846191,
          "pc2": 60.651023864746094
         },
         {
          "pc1": -5.296535491943359,
          "pc2": 74.092529296875
         },
         {
          "pc1": -5.1719818115234375,
          "pc2": 5.109025001525879
         },
         {
          "pc1": 39.1786994934082,
          "pc2": 53.50503921508789
         },
         {
          "pc1": -39.46668243408203,
          "pc2": 47.1106071472168
         },
         {
          "pc1": -24.159475326538086,
          "pc2": -20.10408592224121
         },
         {
          "pc1": 45.75859451293945,
          "pc2": 55.37171173095703
         },
         {
          "pc1": 14.586108207702637,
          "pc2": 30.643325805664062
         },
         {
          "pc1": -4.418869495391846,
          "pc2": -11.533184051513672
         },
         {
          "pc1": -58.41917037963867,
          "pc2": -12.709433555603027
         },
         {
          "pc1": 20.636987686157227,
          "pc2": 11.311192512512207
         },
         {
          "pc1": 39.28961944580078,
          "pc2": -0.5436373353004456
         },
         {
          "pc1": -6.506285667419434,
          "pc2": 4.6107282638549805
         },
         {
          "pc1": 11.16152286529541,
          "pc2": 4.308728218078613
         },
         {
          "pc1": -18.262540817260742,
          "pc2": 21.326820373535156
         },
         {
          "pc1": 42.105934143066406,
          "pc2": 19.75613784790039
         },
         {
          "pc1": -5.7818922996521,
          "pc2": 25.555749893188477
         },
         {
          "pc1": -42.65460205078125,
          "pc2": 19.602092742919922
         },
         {
          "pc1": -38.050479888916016,
          "pc2": 24.00255012512207
         },
         {
          "pc1": -28.92698860168457,
          "pc2": -49.070091247558594
         },
         {
          "pc1": -49.15666961669922,
          "pc2": -10.012531280517578
         },
         {
          "pc1": 29.513851165771484,
          "pc2": -18.84873390197754
         },
         {
          "pc1": -63.15364074707031,
          "pc2": -25.08637046813965
         },
         {
          "pc1": 45.84926986694336,
          "pc2": -1.6637994050979614
         },
         {
          "pc1": 19.894847869873047,
          "pc2": 11.104907989501953
         },
         {
          "pc1": 23.302183151245117,
          "pc2": -72.15531158447266
         },
         {
          "pc1": 9.058801651000977,
          "pc2": 4.286015510559082
         },
         {
          "pc1": 21.53153419494629,
          "pc2": 28.60527229309082
         },
         {
          "pc1": 16.2127742767334,
          "pc2": -14.440498352050781
         },
         {
          "pc1": 34.45859146118164,
          "pc2": -21.650476455688477
         },
         {
          "pc1": -6.388382911682129,
          "pc2": 4.663105487823486
         },
         {
          "pc1": 9.465343475341797,
          "pc2": 26.953157424926758
         },
         {
          "pc1": -10.365310668945312,
          "pc2": 2.1492409706115723
         },
         {
          "pc1": 32.77931213378906,
          "pc2": 50.27006912231445
         },
         {
          "pc1": 25.44420623779297,
          "pc2": 23.857624053955078
         },
         {
          "pc1": -29.255430221557617,
          "pc2": 13.382840156555176
         },
         {
          "pc1": -15.662275314331055,
          "pc2": -54.60831069946289
         },
         {
          "pc1": 38.8189582824707,
          "pc2": 53.706783294677734
         },
         {
          "pc1": -12.24720287322998,
          "pc2": -3.955645799636841
         },
         {
          "pc1": 26.983627319335938,
          "pc2": 25.016225814819336
         },
         {
          "pc1": -20.637840270996094,
          "pc2": 57.52684020996094
         },
         {
          "pc1": -35.541046142578125,
          "pc2": 78.51020812988281
         },
         {
          "pc1": 20.780797958374023,
          "pc2": 11.96816349029541
         },
         {
          "pc1": 50.50627899169922,
          "pc2": 44.80108642578125
         },
         {
          "pc1": 26.531240463256836,
          "pc2": 24.768917083740234
         },
         {
          "pc1": 0.9741391539573669,
          "pc2": 72.7865982055664
         },
         {
          "pc1": 56.84016418457031,
          "pc2": -3.5009865760803223
         },
         {
          "pc1": -34.95826721191406,
          "pc2": 14.78834056854248
         },
         {
          "pc1": 29.64112663269043,
          "pc2": -18.326581954956055
         },
         {
          "pc1": -22.51742935180664,
          "pc2": -21.40707015991211
         },
         {
          "pc1": 3.3585965633392334,
          "pc2": -52.756752014160156
         },
         {
          "pc1": 13.204967498779297,
          "pc2": 4.834270000457764
         },
         {
          "pc1": -21.947858810424805,
          "pc2": -76.8755111694336
         },
         {
          "pc1": -11.784865379333496,
          "pc2": -4.750837802886963
         },
         {
          "pc1": -6.55751371383667,
          "pc2": -9.815178871154785
         },
         {
          "pc1": -4.274522304534912,
          "pc2": 5.284870147705078
         },
         {
          "pc1": 44.026241302490234,
          "pc2": 55.6827278137207
         },
         {
          "pc1": 14.060125350952148,
          "pc2": 5.772427082061768
         },
         {
          "pc1": 52.02802658081055,
          "pc2": 46.49314498901367
         },
         {
          "pc1": 56.707176208496094,
          "pc2": 54.54281997680664
         },
         {
          "pc1": -21.60262680053711,
          "pc2": -21.450950622558594
         },
         {
          "pc1": 5.259175777435303,
          "pc2": 4.815837860107422
         },
         {
          "pc1": 19.832874298095703,
          "pc2": -76.70016479492188
         },
         {
          "pc1": -49.556785583496094,
          "pc2": -8.483757019042969
         },
         {
          "pc1": -44.18363952636719,
          "pc2": -12.352751731872559
         },
         {
          "pc1": -15.3941011428833,
          "pc2": 3.918759822845459
         },
         {
          "pc1": 1.1115121841430664,
          "pc2": 75.26564025878906
         },
         {
          "pc1": 56.36003494262695,
          "pc2": -3.5920355319976807
         },
         {
          "pc1": -18.825355529785156,
          "pc2": 18.864891052246094
         },
         {
          "pc1": -11.359652519226074,
          "pc2": 0.8714056015014648
         },
         {
          "pc1": 51.13536834716797,
          "pc2": -3.094602584838867
         },
         {
          "pc1": -44.55223846435547,
          "pc2": -12.240901947021484
         },
         {
          "pc1": 34.42042922973633,
          "pc2": 38.704185485839844
         },
         {
          "pc1": -0.8952741622924805,
          "pc2": -82.54782104492188
         },
         {
          "pc1": 52.477664947509766,
          "pc2": 53.96170425415039
         },
         {
          "pc1": 6.64264440536499,
          "pc2": -32.87798309326172
         },
         {
          "pc1": -7.653907299041748,
          "pc2": -9.515048027038574
         },
         {
          "pc1": 11.321233749389648,
          "pc2": -44.493202209472656
         },
         {
          "pc1": -25.80180549621582,
          "pc2": 39.0518684387207
         },
         {
          "pc1": -38.56984329223633,
          "pc2": 17.715696334838867
         },
         {
          "pc1": 51.94435501098633,
          "pc2": 54.51310348510742
         },
         {
          "pc1": -59.163455963134766,
          "pc2": -13.91750431060791
         },
         {
          "pc1": -23.06566619873047,
          "pc2": 55.93791198730469
         },
         {
          "pc1": 44.09968566894531,
          "pc2": 55.6966438293457
         },
         {
          "pc1": -4.044253826141357,
          "pc2": 19.18682861328125
         },
         {
          "pc1": 0.7699747681617737,
          "pc2": -14.566386222839355
         },
         {
          "pc1": 44.659629821777344,
          "pc2": 54.832950592041016
         },
         {
          "pc1": 12.958545684814453,
          "pc2": 4.679540634155273
         },
         {
          "pc1": -38.728511810302734,
          "pc2": 15.032258987426758
         },
         {
          "pc1": 34.944393157958984,
          "pc2": -22.217304229736328
         },
         {
          "pc1": -8.362824440002441,
          "pc2": -82.86923217773438
         },
         {
          "pc1": -4.130876541137695,
          "pc2": 4.357045650482178
         },
         {
          "pc1": 26.743772506713867,
          "pc2": 43.42533874511719
         },
         {
          "pc1": -36.173828125,
          "pc2": 61.760589599609375
         },
         {
          "pc1": -18.314016342163086,
          "pc2": 21.023115158081055
         },
         {
          "pc1": -31.79102325439453,
          "pc2": 12.879290580749512
         },
         {
          "pc1": -64.46102905273438,
          "pc2": -22.876420974731445
         },
         {
          "pc1": 10.426602363586426,
          "pc2": 11.076583862304688
         },
         {
          "pc1": -5.667144298553467,
          "pc2": 25.576332092285156
         },
         {
          "pc1": 20.482784271240234,
          "pc2": 10.942609786987305
         },
         {
          "pc1": -4.000524997711182,
          "pc2": -11.586923599243164
         },
         {
          "pc1": 18.124130249023438,
          "pc2": 8.403877258300781
         },
         {
          "pc1": 20.07086753845215,
          "pc2": 10.281882286071777
         },
         {
          "pc1": -4.148253440856934,
          "pc2": -11.729108810424805
         },
         {
          "pc1": 16.46831512451172,
          "pc2": 23.526554107666016
         },
         {
          "pc1": -11.136799812316895,
          "pc2": 71.78252410888672
         },
         {
          "pc1": -7.153993129730225,
          "pc2": 3.806384325027466
         },
         {
          "pc1": -24.899784088134766,
          "pc2": 38.807621002197266
         },
         {
          "pc1": -55.47416305541992,
          "pc2": -10.3962984085083
         },
         {
          "pc1": 55.43709182739258,
          "pc2": 54.51945495605469
         },
         {
          "pc1": -40.73537063598633,
          "pc2": 43.915828704833984
         },
         {
          "pc1": 29.424175262451172,
          "pc2": 46.95238494873047
         },
         {
          "pc1": 21.74003028869629,
          "pc2": 27.67226219177246
         },
         {
          "pc1": -63.83857727050781,
          "pc2": -24.144424438476562
         },
         {
          "pc1": -36.43220520019531,
          "pc2": 42.60279846191406
         },
         {
          "pc1": 29.5179386138916,
          "pc2": -66.5103759765625
         },
         {
          "pc1": 4.988509654998779,
          "pc2": 4.912546634674072
         },
         {
          "pc1": -6.124208450317383,
          "pc2": -10.385652542114258
         },
         {
          "pc1": -39.30421447753906,
          "pc2": 58.48127746582031
         },
         {
          "pc1": -7.688030242919922,
          "pc2": 61.15404510498047
         },
         {
          "pc1": 6.656131744384766,
          "pc2": 27.091751098632812
         },
         {
          "pc1": 6.88919734954834,
          "pc2": -28.683109283447266
         },
         {
          "pc1": 51.185997009277344,
          "pc2": 54.51333236694336
         },
         {
          "pc1": -38.23492431640625,
          "pc2": 63.96583938598633
         },
         {
          "pc1": 6.905764102935791,
          "pc2": -14.20254135131836
         },
         {
          "pc1": 56.34300231933594,
          "pc2": 24.062952041625977
         },
         {
          "pc1": 39.386070251464844,
          "pc2": -25.286041259765625
         },
         {
          "pc1": 11.390542984008789,
          "pc2": -43.215797424316406
         },
         {
          "pc1": -0.6890562772750854,
          "pc2": 39.624900817871094
         },
         {
          "pc1": -30.91561508178711,
          "pc2": -15.307367324829102
         },
         {
          "pc1": 58.02833557128906,
          "pc2": 17.84601593017578
         },
         {
          "pc1": 19.964567184448242,
          "pc2": 10.267752647399902
         },
         {
          "pc1": 30.784420013427734,
          "pc2": 48.548484802246094
         },
         {
          "pc1": 57.9261589050293,
          "pc2": 23.945697784423828
         },
         {
          "pc1": 14.96007251739502,
          "pc2": 24.56037712097168
         },
         {
          "pc1": -0.07840631157159805,
          "pc2": 4.7792887687683105
         },
         {
          "pc1": -7.474904537200928,
          "pc2": 4.286384105682373
         },
         {
          "pc1": -18.815750122070312,
          "pc2": 20.916887283325195
         },
         {
          "pc1": 4.73013162612915,
          "pc2": -80.94410705566406
         },
         {
          "pc1": -1.5320253372192383,
          "pc2": -13.393967628479004
         },
         {
          "pc1": 20.827680587768555,
          "pc2": 11.578835487365723
         },
         {
          "pc1": 27.241891860961914,
          "pc2": -17.877798080444336
         },
         {
          "pc1": -10.114237785339355,
          "pc2": -6.9152069091796875
         },
         {
          "pc1": -34.26338195800781,
          "pc2": -48.76358413696289
         },
         {
          "pc1": -38.660919189453125,
          "pc2": 61.8563346862793
         },
         {
          "pc1": -18.402374267578125,
          "pc2": -49.961666107177734
         },
         {
          "pc1": -18.451562881469727,
          "pc2": -73.44168090820312
         },
         {
          "pc1": 53.4129753112793,
          "pc2": 54.14280700683594
         },
         {
          "pc1": 1.7204656600952148,
          "pc2": 5.337005615234375
         },
         {
          "pc1": -24.348026275634766,
          "pc2": -20.24481773376465
         },
         {
          "pc1": -9.71372127532959,
          "pc2": 2.8149120807647705
         },
         {
          "pc1": 36.2935791015625,
          "pc2": -22.766143798828125
         },
         {
          "pc1": 55.545257568359375,
          "pc2": 54.51557540893555
         },
         {
          "pc1": 44.85682678222656,
          "pc2": 27.66878890991211
         },
         {
          "pc1": 53.09382247924805,
          "pc2": -3.1554834842681885
         },
         {
          "pc1": 50.435264587402344,
          "pc2": 44.79281997680664
         },
         {
          "pc1": 41.67024230957031,
          "pc2": 17.27368927001953
         },
         {
          "pc1": 8.006877899169922,
          "pc2": 4.330204486846924
         },
         {
          "pc1": 29.503726959228516,
          "pc2": 46.908634185791016
         },
         {
          "pc1": -7.962843894958496,
          "pc2": 40.58613586425781
         },
         {
          "pc1": 31.795799255371094,
          "pc2": 49.40141677856445
         },
         {
          "pc1": -7.638123035430908,
          "pc2": -9.0119047164917
         },
         {
          "pc1": 36.90338134765625,
          "pc2": -24.120136260986328
         },
         {
          "pc1": -27.539264678955078,
          "pc2": 20.47956657409668
         },
         {
          "pc1": -13.742704391479492,
          "pc2": -81.63057708740234
         },
         {
          "pc1": 0.2076084315776825,
          "pc2": 70.22944641113281
         },
         {
          "pc1": 30.000337600708008,
          "pc2": -18.913467407226562
         },
         {
          "pc1": -43.35774612426758,
          "pc2": -47.38718795776367
         },
         {
          "pc1": 6.647824287414551,
          "pc2": -14.168594360351562
         },
         {
          "pc1": -15.825515747070312,
          "pc2": -50.14738082885742
         },
         {
          "pc1": 39.944461822509766,
          "pc2": -0.6786695122718811
         },
         {
          "pc1": 24.993526458740234,
          "pc2": -17.709165573120117
         },
         {
          "pc1": -6.451900482177734,
          "pc2": -50.76382064819336
         },
         {
          "pc1": -33.29545211791992,
          "pc2": 15.73901653289795
         },
         {
          "pc1": 6.77407169342041,
          "pc2": -15.480768203735352
         },
         {
          "pc1": 3.023383855819702,
          "pc2": 76.17207336425781
         },
         {
          "pc1": 4.060744285583496,
          "pc2": -8.218605041503906
         },
         {
          "pc1": 38.680606842041016,
          "pc2": 18.72959327697754
         },
         {
          "pc1": 12.730050086975098,
          "pc2": -73.01384735107422
         },
         {
          "pc1": -39.814517974853516,
          "pc2": -10.918530464172363
         },
         {
          "pc1": -40.055999755859375,
          "pc2": 54.010292053222656
         },
         {
          "pc1": 3.2372262477874756,
          "pc2": 4.702123165130615
         },
         {
          "pc1": 36.1316032409668,
          "pc2": 52.873741149902344
         },
         {
          "pc1": 31.095703125,
          "pc2": -20.367074966430664
         },
         {
          "pc1": -6.34531831741333,
          "pc2": 75.70330047607422
         },
         {
          "pc1": 2.573450803756714,
          "pc2": 4.955699920654297
         },
         {
          "pc1": 10.469191551208496,
          "pc2": 42.82510757446289
         },
         {
          "pc1": 15.359633445739746,
          "pc2": 27.9954833984375
         },
         {
          "pc1": -2.7720108032226562,
          "pc2": 74.20642852783203
         },
         {
          "pc1": 51.77599334716797,
          "pc2": -3.3269731998443604
         },
         {
          "pc1": 1.4098600149154663,
          "pc2": 39.863189697265625
         },
         {
          "pc1": -39.578067779541016,
          "pc2": 56.29356384277344
         },
         {
          "pc1": 51.771183013916016,
          "pc2": 25.58778190612793
         },
         {
          "pc1": -15.616805076599121,
          "pc2": 66.78463745117188
         },
         {
          "pc1": 57.260162353515625,
          "pc2": 54.13166427612305
         },
         {
          "pc1": -0.5689023733139038,
          "pc2": 74.9893798828125
         },
         {
          "pc1": -26.616657257080078,
          "pc2": 16.7742919921875
         },
         {
          "pc1": -4.369399070739746,
          "pc2": 17.417022705078125
         },
         {
          "pc1": -8.668476104736328,
          "pc2": -8.222097396850586
         },
         {
          "pc1": 60.02687072753906,
          "pc2": -0.3643965423107147
         },
         {
          "pc1": 42.16267013549805,
          "pc2": 54.37167739868164
         },
         {
          "pc1": -1.650564432144165,
          "pc2": 19.292423248291016
         },
         {
          "pc1": 32.205810546875,
          "pc2": -20.161638259887695
         },
         {
          "pc1": 19.45035743713379,
          "pc2": 9.969264030456543
         },
         {
          "pc1": -11.4705171585083,
          "pc2": 69.28971099853516
         },
         {
          "pc1": -16.975400924682617,
          "pc2": 64.33428192138672
         },
         {
          "pc1": 42.48902130126953,
          "pc2": -27.079051971435547
         },
         {
          "pc1": -35.87300109863281,
          "pc2": 78.82208251953125
         },
         {
          "pc1": 39.76831817626953,
          "pc2": -25.50092887878418
         },
         {
          "pc1": -0.6569913029670715,
          "pc2": -7.878543853759766
         },
         {
          "pc1": -8.049832344055176,
          "pc2": -8.71426010131836
         },
         {
          "pc1": -3.7486867904663086,
          "pc2": 5.513676643371582
         },
         {
          "pc1": 0.37716636061668396,
          "pc2": -13.698596954345703
         },
         {
          "pc1": 60.323997497558594,
          "pc2": 14.897851943969727
         },
         {
          "pc1": 19.258691787719727,
          "pc2": 23.88019371032715
         },
         {
          "pc1": -34.06145095825195,
          "pc2": 13.506682395935059
         },
         {
          "pc1": 39.36433029174805,
          "pc2": 42.50529861450195
         },
         {
          "pc1": 53.919837951660156,
          "pc2": 24.866397857666016
         },
         {
          "pc1": 26.128616333007812,
          "pc2": 42.251522064208984
         },
         {
          "pc1": 31.702531814575195,
          "pc2": 49.340309143066406
         },
         {
          "pc1": -12.330971717834473,
          "pc2": -5.534302234649658
         },
         {
          "pc1": -4.9752583503723145,
          "pc2": 27.299846649169922
         },
         {
          "pc1": -64.2082748413086,
          "pc2": -23.462467193603516
         },
         {
          "pc1": 52.334163665771484,
          "pc2": 54.47169876098633
         },
         {
          "pc1": 13.615046501159668,
          "pc2": 4.885331153869629
         },
         {
          "pc1": -1.0632972717285156,
          "pc2": 42.89726257324219
         },
         {
          "pc1": -1.3844130039215088,
          "pc2": 39.27985382080078
         },
         {
          "pc1": -6.166842460632324,
          "pc2": -83.18074798583984
         },
         {
          "pc1": 51.75444793701172,
          "pc2": 54.467777252197266
         },
         {
          "pc1": -54.91558074951172,
          "pc2": -17.436246871948242
         },
         {
          "pc1": -8.192399978637695,
          "pc2": -27.177038192749023
         },
         {
          "pc1": 48.991363525390625,
          "pc2": 15.796989440917969
         },
         {
          "pc1": -31.414751052856445,
          "pc2": 13.007147789001465
         },
         {
          "pc1": -0.4391426146030426,
          "pc2": 5.178226470947266
         },
         {
          "pc1": -26.526216506958008,
          "pc2": 15.820381164550781
         },
         {
          "pc1": -13.661971092224121,
          "pc2": 66.92817687988281
         },
         {
          "pc1": 25.788867950439453,
          "pc2": 40.62651062011719
         },
         {
          "pc1": -21.097553253173828,
          "pc2": 54.32793426513672
         },
         {
          "pc1": 51.23256301879883,
          "pc2": 16.403722763061523
         },
         {
          "pc1": 33.31983184814453,
          "pc2": -63.67781448364258
         },
         {
          "pc1": 31.244325637817383,
          "pc2": -19.39366912841797
         },
         {
          "pc1": -20.044565200805664,
          "pc2": 38.285057067871094
         },
         {
          "pc1": 32.16059112548828,
          "pc2": -21.03461265563965
         },
         {
          "pc1": -33.00385284423828,
          "pc2": 21.43314552307129
         },
         {
          "pc1": 18.33165740966797,
          "pc2": -15.084798812866211
         },
         {
          "pc1": 37.280418395996094,
          "pc2": -23.496095657348633
         },
         {
          "pc1": -7.211215496063232,
          "pc2": 71.19679260253906
         },
         {
          "pc1": -24.269575119018555,
          "pc2": 38.60075378417969
         },
         {
          "pc1": -13.424701690673828,
          "pc2": 66.75690460205078
         },
         {
          "pc1": 18.914871215820312,
          "pc2": 9.24393081665039
         },
         {
          "pc1": 50.89762878417969,
          "pc2": 46.45376205444336
         },
         {
          "pc1": 7.415412425994873,
          "pc2": -15.409513473510742
         },
         {
          "pc1": 3.0213000774383545,
          "pc2": -36.95729446411133
         },
         {
          "pc1": 27.5711669921875,
          "pc2": -70.39425659179688
         },
         {
          "pc1": -43.319393157958984,
          "pc2": 21.032474517822266
         },
         {
          "pc1": -31.1641788482666,
          "pc2": 14.946878433227539
         },
         {
          "pc1": 42.77861022949219,
          "pc2": -1.5794621706008911
         },
         {
          "pc1": -4.971850395202637,
          "pc2": 27.596513748168945
         },
         {
          "pc1": -12.589766502380371,
          "pc2": 65.8919677734375
         },
         {
          "pc1": 44.89484405517578,
          "pc2": 54.250972747802734
         },
         {
          "pc1": 4.43686580657959,
          "pc2": -14.91998291015625
         },
         {
          "pc1": 35.45017623901367,
          "pc2": 51.89805603027344
         },
         {
          "pc1": 7.967596054077148,
          "pc2": 45.48582458496094
         },
         {
          "pc1": 29.678396224975586,
          "pc2": 47.175357818603516
         },
         {
          "pc1": -3.408905506134033,
          "pc2": -28.86021614074707
         },
         {
          "pc1": -39.730201721191406,
          "pc2": 56.32048034667969
         },
         {
          "pc1": -7.303064346313477,
          "pc2": -75.5513687133789
         },
         {
          "pc1": -38.883602142333984,
          "pc2": 60.056453704833984
         },
         {
          "pc1": 8.156310081481934,
          "pc2": 29.58859634399414
         },
         {
          "pc1": -2.6244451999664307,
          "pc2": 18.717350006103516
         },
         {
          "pc1": 0.5097734332084656,
          "pc2": -7.376076698303223
         },
         {
          "pc1": 39.4960823059082,
          "pc2": -51.54661178588867
         },
         {
          "pc1": -40.2623291015625,
          "pc2": 47.92168045043945
         },
         {
          "pc1": 18.56199836730957,
          "pc2": -14.392705917358398
         },
         {
          "pc1": -0.4743172824382782,
          "pc2": -51.69221878051758
         },
         {
          "pc1": 17.93072509765625,
          "pc2": 29.93671417236328
         },
         {
          "pc1": -35.3632926940918,
          "pc2": -13.333752632141113
         },
         {
          "pc1": 11.587082862854004,
          "pc2": -73.55887603759766
         },
         {
          "pc1": -15.17241382598877,
          "pc2": 19.77960205078125
         },
         {
          "pc1": -27.60858154296875,
          "pc2": 20.714839935302734
         },
         {
          "pc1": -33.66991424560547,
          "pc2": -50.58840560913086
         },
         {
          "pc1": 57.919158935546875,
          "pc2": 54.2745246887207
         },
         {
          "pc1": 6.490631580352783,
          "pc2": -14.911704063415527
         },
         {
          "pc1": -0.055922459810972214,
          "pc2": -81.68841552734375
         },
         {
          "pc1": 34.46969985961914,
          "pc2": 50.82550048828125
         },
         {
          "pc1": -4.5155134201049805,
          "pc2": 5.246294021606445
         },
         {
          "pc1": 41.910335540771484,
          "pc2": -27.55146598815918
         },
         {
          "pc1": 2.5231423377990723,
          "pc2": 28.490741729736328
         },
         {
          "pc1": -37.11495590209961,
          "pc2": 68.73441314697266
         },
         {
          "pc1": -37.488525390625,
          "pc2": -12.107993125915527
         },
         {
          "pc1": -36.385833740234375,
          "pc2": 75.91698455810547
         },
         {
          "pc1": -32.64435958862305,
          "pc2": 19.749958038330078
         },
         {
          "pc1": 1.7983607053756714,
          "pc2": -14.435712814331055
         },
         {
          "pc1": 56.53013610839844,
          "pc2": 54.26820755004883
         },
         {
          "pc1": 25.355958938598633,
          "pc2": 40.86664962768555
         },
         {
          "pc1": 45.05419158935547,
          "pc2": 26.844100952148438
         },
         {
          "pc1": 30.491374969482422,
          "pc2": -61.29126739501953
         },
         {
          "pc1": -15.676681518554688,
          "pc2": -50.103431701660156
         },
         {
          "pc1": -22.826725006103516,
          "pc2": 56.31023025512695
         },
         {
          "pc1": 3.325878143310547,
          "pc2": 75.78691864013672
         },
         {
          "pc1": 19.24182891845703,
          "pc2": 9.138579368591309
         },
         {
          "pc1": 5.375241756439209,
          "pc2": -77.90158081054688
         },
         {
          "pc1": -2.438889980316162,
          "pc2": 24.156719207763672
         }
        ],
        "data-1d6921f567b6b14ec12e6db146edf209": [
         {
          "pc1": 56.190494537353516,
          "pc2": 14.310855865478516
         },
         {
          "pc1": 3.2117676734924316,
          "pc2": 77.22151947021484
         },
         {
          "pc1": -25.09389305114746,
          "pc2": -79.66696166992188
         },
         {
          "pc1": -22.782251358032227,
          "pc2": 19.619234085083008
         },
         {
          "pc1": -0.6340368986129761,
          "pc2": -81.37399291992188
         },
         {
          "pc1": 44.46622848510742,
          "pc2": -51.891563415527344
         },
         {
          "pc1": 53.930320739746094,
          "pc2": 14.005036354064941
         },
         {
          "pc1": 50.947269439697266,
          "pc2": 14.82009506225586
         },
         {
          "pc1": 6.689811706542969,
          "pc2": -15.999221801757812
         },
         {
          "pc1": -7.482204437255859,
          "pc2": -51.999420166015625
         },
         {
          "pc1": -20.898969650268555,
          "pc2": -22.11048698425293
         },
         {
          "pc1": -30.842266082763672,
          "pc2": 40.42555236816406
         },
         {
          "pc1": -44.53534698486328,
          "pc2": 23.424413681030273
         },
         {
          "pc1": 44.6680793762207,
          "pc2": 16.101078033447266
         },
         {
          "pc1": -3.0213701725006104,
          "pc2": -82.90946197509766
         },
         {
          "pc1": 11.330991744995117,
          "pc2": -39.07588195800781
         },
         {
          "pc1": 0.24744631350040436,
          "pc2": -8.29200267791748
         },
         {
          "pc1": 13.098538398742676,
          "pc2": 3.7016851902008057
         },
         {
          "pc1": 4.993994235992432,
          "pc2": -50.01079177856445
         },
         {
          "pc1": 12.333809852600098,
          "pc2": 4.5264129638671875
         },
         {
          "pc1": -0.24160251021385193,
          "pc2": 28.187726974487305
         },
         {
          "pc1": 4.735533237457275,
          "pc2": 5.004619598388672
         },
         {
          "pc1": -6.952520370483398,
          "pc2": -51.696372985839844
         },
         {
          "pc1": -42.49164581298828,
          "pc2": 25.556665420532227
         },
         {
          "pc1": -0.3849638104438782,
          "pc2": 69.7496337890625
         },
         {
          "pc1": 49.21281433105469,
          "pc2": 15.97126293182373
         },
         {
          "pc1": -41.90707778930664,
          "pc2": 24.354570388793945
         },
         {
          "pc1": -25.362808227539062,
          "pc2": -79.36320495605469
         },
         {
          "pc1": -7.064609527587891,
          "pc2": 4.80225944519043
         },
         {
          "pc1": -61.01545715332031,
          "pc2": -14.716202735900879
         },
         {
          "pc1": -9.227835655212402,
          "pc2": 60.485504150390625
         },
         {
          "pc1": -8.336827278137207,
          "pc2": -83.22749328613281
         },
         {
          "pc1": -1.8295084238052368,
          "pc2": -29.891733169555664
         },
         {
          "pc1": -24.706979751586914,
          "pc2": -80.15308380126953
         },
         {
          "pc1": 39.387664794921875,
          "pc2": 17.984525680541992
         },
         {
          "pc1": -16.212108612060547,
          "pc2": -24.261573791503906
         },
         {
          "pc1": -33.05402755737305,
          "pc2": 14.407356262207031
         },
         {
          "pc1": -22.112850189208984,
          "pc2": 56.52935028076172
         },
         {
          "pc1": -3.7874040603637695,
          "pc2": -51.855628967285156
         },
         {
          "pc1": -6.915027618408203,
          "pc2": -10.354094505310059
         },
         {
          "pc1": 46.505615234375,
          "pc2": -1.728200078010559
         },
         {
          "pc1": 6.993282794952393,
          "pc2": -28.748371124267578
         },
         {
          "pc1": -36.06571960449219,
          "pc2": 15.483659744262695
         },
         {
          "pc1": -36.60875701904297,
          "pc2": 74.44812774658203
         },
         {
          "pc1": 10.9554443359375,
          "pc2": -47.98586654663086
         },
         {
          "pc1": -39.78215026855469,
          "pc2": 47.68068313598633
         },
         {
          "pc1": 10.01381778717041,
          "pc2": -78.56318664550781
         },
         {
          "pc1": -11.646129608154297,
          "pc2": -3.930576801300049
         },
         {
          "pc1": -34.49580001831055,
          "pc2": 68.12010192871094
         },
         {
          "pc1": 5.896690845489502,
          "pc2": -41.18275833129883
         },
         {
          "pc1": -19.5166015625,
          "pc2": -21.60080337524414
         },
         {
          "pc1": 39.78252029418945,
          "pc2": 17.4303035736084
         },
         {
          "pc1": 5.9093217849731445,
          "pc2": -9.562789916992188
         },
         {
          "pc1": -3.674330234527588,
          "pc2": 41.75409698486328
         },
         {
          "pc1": -5.615730285644531,
          "pc2": -10.796293258666992
         },
         {
          "pc1": 2.436223268508911,
          "pc2": -50.4168815612793
         },
         {
          "pc1": -6.114936828613281,
          "pc2": 27.00937271118164
         },
         {
          "pc1": 57.41077423095703,
          "pc2": 54.10343933105469
         },
         {
          "pc1": 6.554750442504883,
          "pc2": 45.66649627685547
         },
         {
          "pc1": 51.86982727050781,
          "pc2": 46.497154235839844
         },
         {
          "pc1": 17.790376663208008,
          "pc2": 24.23361587524414
         },
         {
          "pc1": -8.933777809143066,
          "pc2": 56.51266860961914
         },
         {
          "pc1": -35.686458587646484,
          "pc2": -12.952580451965332
         },
         {
          "pc1": -36.25518035888672,
          "pc2": 78.73503875732422
         },
         {
          "pc1": -12.966941833496094,
          "pc2": 64.84017944335938
         },
         {
          "pc1": 15.721769332885742,
          "pc2": 23.570484161376953
         },
         {
          "pc1": 46.9427375793457,
          "pc2": 15.113028526306152
         },
         {
          "pc1": -12.573087692260742,
          "pc2": -50.362831115722656
         },
         {
          "pc1": -16.373241424560547,
          "pc2": -20.970643997192383
         },
         {
          "pc1": 35.02260971069336,
          "pc2": -21.483728408813477
         },
         {
          "pc1": -22.56293296813965,
          "pc2": 54.35991287231445
         },
         {
          "pc1": -26.150564193725586,
          "pc2": 38.697025299072266
         },
         {
          "pc1": 3.1675400733947754,
          "pc2": 27.42048454284668
         },
         {
          "pc1": -35.75278854370117,
          "pc2": -19.60319709777832
         },
         {
          "pc1": -5.855184555053711,
          "pc2": 62.938899993896484
         },
         {
          "pc1": 42.681888580322266,
          "pc2": -26.454259872436523
         },
         {
          "pc1": 33.31891632080078,
          "pc2": 38.49052429199219
         },
         {
          "pc1": -0.5339356064796448,
          "pc2": 4.835960865020752
         },
         {
          "pc1": -63.2840461730957,
          "pc2": -19.742782592773438
         },
         {
          "pc1": -57.82098388671875,
          "pc2": -12.0732421875
         },
         {
          "pc1": -39.772857666015625,
          "pc2": 57.493003845214844
         },
         {
          "pc1": 51.09868621826172,
          "pc2": 24.549623489379883
         },
         {
          "pc1": -35.45008087158203,
          "pc2": 42.20576858520508
         },
         {
          "pc1": 23.789257049560547,
          "pc2": 24.401933670043945
         },
         {
          "pc1": -19.64855194091797,
          "pc2": 61.2043571472168
         },
         {
          "pc1": 57.904720306396484,
          "pc2": 15.108994483947754
         },
         {
          "pc1": -28.33895492553711,
          "pc2": -48.06232833862305
         },
         {
          "pc1": -40.0362434387207,
          "pc2": 49.07713317871094
         },
         {
          "pc1": 17.236881256103516,
          "pc2": -14.331307411193848
         },
         {
          "pc1": 6.168207168579102,
          "pc2": -51.43294143676758
         },
         {
          "pc1": -7.625442028045654,
          "pc2": 72.52542877197266
         },
         {
          "pc1": -2.430142402648926,
          "pc2": -29.185697555541992
         },
         {
          "pc1": 38.09010314941406,
          "pc2": -0.030092980712652206
         },
         {
          "pc1": -1.0835521221160889,
          "pc2": 77.349365234375
         },
         {
          "pc1": -19.952255249023438,
          "pc2": 20.734926223754883
         },
         {
          "pc1": 33.3091926574707,
          "pc2": 51.3619384765625
         },
         {
          "pc1": 51.813804626464844,
          "pc2": -2.193784713745117
         },
         {
          "pc1": -8.077104568481445,
          "pc2": -50.84299087524414
         },
         {
          "pc1": -22.55528450012207,
          "pc2": -74.1913833618164
         },
         {
          "pc1": -25.028059005737305,
          "pc2": -75.38935852050781
         },
         {
          "pc1": -40.035362243652344,
          "pc2": -11.210153579711914
         },
         {
          "pc1": -34.80895233154297,
          "pc2": -49.32844161987305
         },
         {
          "pc1": -39.237083435058594,
          "pc2": 58.879058837890625
         },
         {
          "pc1": -54.50081253051758,
          "pc2": -17.112873077392578
         },
         {
          "pc1": -50.57735824584961,
          "pc2": -9.589065551757812
         },
         {
          "pc1": 45.85784149169922,
          "pc2": -51.26258850097656
         },
         {
          "pc1": 16.818134307861328,
          "pc2": -15.937614440917969
         },
         {
          "pc1": -6.090301990509033,
          "pc2": 4.769899368286133
         },
         {
          "pc1": 19.05881118774414,
          "pc2": 28.536909103393555
         },
         {
          "pc1": 9.491859436035156,
          "pc2": 12.310606956481934
         },
         {
          "pc1": -8.417258262634277,
          "pc2": 59.038597106933594
         },
         {
          "pc1": -16.28382682800293,
          "pc2": 20.12555694580078
         },
         {
          "pc1": -40.534061431884766,
          "pc2": 52.206626892089844
         },
         {
          "pc1": -11.01335334777832,
          "pc2": -81.07559204101562
         },
         {
          "pc1": 46.539894104003906,
          "pc2": -1.4971859455108643
         },
         {
          "pc1": 38.527347564697266,
          "pc2": -0.31339123845100403
         },
         {
          "pc1": 16.071937561035156,
          "pc2": 29.524627685546875
         },
         {
          "pc1": -40.782405853271484,
          "pc2": 43.99635314941406
         },
         {
          "pc1": 19.548168182373047,
          "pc2": -15.967560768127441
         },
         {
          "pc1": -2.6951165199279785,
          "pc2": -51.7701416015625
         },
         {
          "pc1": 61.31735610961914,
          "pc2": 17.783082962036133
         },
         {
          "pc1": 50.98727035522461,
          "pc2": 55.082794189453125
         },
         {
          "pc1": -16.073463439941406,
          "pc2": -50.090206146240234
         },
         {
          "pc1": 4.626156806945801,
          "pc2": 27.867998123168945
         },
         {
          "pc1": -20.402307510375977,
          "pc2": 20.023540496826172
         },
         {
          "pc1": -37.27456283569336,
          "pc2": 70.6062240600586
         },
         {
          "pc1": -54.93536376953125,
          "pc2": -17.471372604370117
         },
         {
          "pc1": -58.097293853759766,
          "pc2": -15.522379875183105
         },
         {
          "pc1": -17.6292781829834,
          "pc2": 59.36771011352539
         },
         {
          "pc1": 17.61440086364746,
          "pc2": -15.084192276000977
         },
         {
          "pc1": -26.046354293823242,
          "pc2": -18.860477447509766
         },
         {
          "pc1": -36.1710205078125,
          "pc2": 77.07466125488281
         },
         {
          "pc1": -17.521854400634766,
          "pc2": 59.51082992553711
         },
         {
          "pc1": -16.048503875732422,
          "pc2": 4.870659351348877
         },
         {
          "pc1": 58.06563949584961,
          "pc2": 14.11646556854248
         },
         {
          "pc1": 38.4578971862793,
          "pc2": -24.13104248046875
         },
         {
          "pc1": 38.1981315612793,
          "pc2": 53.11244201660156
         },
         {
          "pc1": -38.00071334838867,
          "pc2": 64.85154724121094
         },
         {
          "pc1": -40.56261444091797,
          "pc2": 49.33555221557617
         },
         {
          "pc1": -10.31924819946289,
          "pc2": 34.83341598510742
         },
         {
          "pc1": 54.5411262512207,
          "pc2": -3.3722476959228516
         },
         {
          "pc1": -5.747020244598389,
          "pc2": 75.64800262451172
         },
         {
          "pc1": -21.716394424438477,
          "pc2": -77.30430603027344
         },
         {
          "pc1": 51.475650787353516,
          "pc2": 46.509063720703125
         },
         {
          "pc1": -9.607014656066895,
          "pc2": 26.468029022216797
         },
         {
          "pc1": -8.068952560424805,
          "pc2": 40.54461669921875
         },
         {
          "pc1": 53.11283493041992,
          "pc2": 55.238643646240234
         },
         {
          "pc1": -37.322696685791016,
          "pc2": 76.91729736328125
         },
         {
          "pc1": -35.82711410522461,
          "pc2": -48.513370513916016
         },
         {
          "pc1": -24.101839065551758,
          "pc2": 54.91326141357422
         },
         {
          "pc1": 24.897783279418945,
          "pc2": -72.28519439697266
         },
         {
          "pc1": -27.700489044189453,
          "pc2": -48.35163879394531
         },
         {
          "pc1": 58.90192413330078,
          "pc2": 14.76961612701416
         },
         {
          "pc1": 45.59377670288086,
          "pc2": -48.872802734375
         },
         {
          "pc1": 9.875557899475098,
          "pc2": 12.33211612701416
         },
         {
          "pc1": -4.62695837020874,
          "pc2": -28.87236213684082
         },
         {
          "pc1": 25.25532341003418,
          "pc2": 26.912635803222656
         },
         {
          "pc1": 7.801295757293701,
          "pc2": 11.089988708496094
         },
         {
          "pc1": 0.27906525135040283,
          "pc2": 4.772657871246338
         },
         {
          "pc1": 7.721235752105713,
          "pc2": 27.8399658203125
         },
         {
          "pc1": -34.672115325927734,
          "pc2": -14.480612754821777
         },
         {
          "pc1": 20.071523666381836,
          "pc2": 29.276165008544922
         },
         {
          "pc1": -39.63793182373047,
          "pc2": 58.53975296020508
         },
         {
          "pc1": 8.141677856445312,
          "pc2": -46.086063385009766
         },
         {
          "pc1": -21.43733787536621,
          "pc2": -22.022167205810547
         },
         {
          "pc1": 24.06393814086914,
          "pc2": -69.67031860351562
         },
         {
          "pc1": -59.65461349487305,
          "pc2": -13.124167442321777
         },
         {
          "pc1": -50.008148193359375,
          "pc2": -9.487715721130371
         },
         {
          "pc1": 43.698394775390625,
          "pc2": 3.1198694705963135
         },
         {
          "pc1": 25.74637222290039,
          "pc2": 25.060623168945312
         },
         {
          "pc1": -24.884937286376953,
          "pc2": 38.81038284301758
         },
         {
          "pc1": 44.53315734863281,
          "pc2": -51.70692443847656
         },
         {
          "pc1": 5.283676624298096,
          "pc2": 27.794530868530273
         },
         {
          "pc1": -4.975041389465332,
          "pc2": -52.306007385253906
         },
         {
          "pc1": -64.99971008300781,
          "pc2": -22.611064910888672
         },
         {
          "pc1": -7.096060752868652,
          "pc2": 75.28033447265625
         },
         {
          "pc1": -3.5074350833892822,
          "pc2": -52.01266860961914
         },
         {
          "pc1": -31.52109718322754,
          "pc2": 12.892097473144531
         },
         {
          "pc1": 24.251089096069336,
          "pc2": -71.68742370605469
         },
         {
          "pc1": -21.212173461914062,
          "pc2": -77.6950912475586
         },
         {
          "pc1": 10.479781150817871,
          "pc2": -46.686561584472656
         },
         {
          "pc1": 6.581362724304199,
          "pc2": -16.000972747802734
         },
         {
          "pc1": -9.597358703613281,
          "pc2": 2.899627447128296
         },
         {
          "pc1": -45.39988708496094,
          "pc2": -11.949441909790039
         },
         {
          "pc1": -22.176420211791992,
          "pc2": 53.95199966430664
         },
         {
          "pc1": -0.7998555898666382,
          "pc2": 19.80027198791504
         },
         {
          "pc1": 50.31496047973633,
          "pc2": 46.36286163330078
         },
         {
          "pc1": 57.407779693603516,
          "pc2": 14.999518394470215
         },
         {
          "pc1": 60.63719940185547,
          "pc2": -3.6119089126586914
         },
         {
          "pc1": 36.67802429199219,
          "pc2": 51.99333190917969
         },
         {
          "pc1": -40.1007194519043,
          "pc2": -47.98347091674805
         },
         {
          "pc1": -37.51770782470703,
          "pc2": 45.11254119873047
         },
         {
          "pc1": -38.69392395019531,
          "pc2": 61.23121643066406
         },
         {
          "pc1": 18.472681045532227,
          "pc2": 23.338754653930664
         },
         {
          "pc1": -27.82155990600586,
          "pc2": -22.601177215576172
         },
         {
          "pc1": 47.40029525756836,
          "pc2": 15.452985763549805
         },
         {
          "pc1": -7.735015392303467,
          "pc2": -56.3742561340332
         },
         {
          "pc1": 9.475481033325195,
          "pc2": -46.10056686401367
         },
         {
          "pc1": 43.83838653564453,
          "pc2": -1.4164036512374878
         },
         {
          "pc1": -24.351491928100586,
          "pc2": -48.66053009033203
         },
         {
          "pc1": 38.31835174560547,
          "pc2": -24.352516174316406
         },
         {
          "pc1": -32.972652435302734,
          "pc2": -15.129840850830078
         },
         {
          "pc1": 24.737293243408203,
          "pc2": 40.014984130859375
         },
         {
          "pc1": 59.933082580566406,
          "pc2": -3.7512948513031006
         },
         {
          "pc1": -2.103600263595581,
          "pc2": 75.93463134765625
         },
         {
          "pc1": 29.307544708251953,
          "pc2": -62.218780517578125
         },
         {
          "pc1": -8.653745651245117,
          "pc2": 71.12116241455078
         },
         {
          "pc1": 8.119518280029297,
          "pc2": 44.831783294677734
         },
         {
          "pc1": -33.64916229248047,
          "pc2": 14.46911334991455
         },
         {
          "pc1": 26.744281768798828,
          "pc2": 43.429195404052734
         },
         {
          "pc1": 25.912328720092773,
          "pc2": 24.1501522064209
         },
         {
          "pc1": 24.400400161743164,
          "pc2": -17.13416290283203
         },
         {
          "pc1": 14.600796699523926,
          "pc2": -77.20110321044922
         },
         {
          "pc1": -8.363369941711426,
          "pc2": 70.27125549316406
         },
         {
          "pc1": -18.068254470825195,
          "pc2": -79.19597625732422
         },
         {
          "pc1": 16.116369247436523,
          "pc2": -75.61957550048828
         },
         {
          "pc1": 43.84086990356445,
          "pc2": -52.61897659301758
         },
         {
          "pc1": -16.504243850708008,
          "pc2": -50.43510437011719
         },
         {
          "pc1": -27.39876937866211,
          "pc2": -73.05319213867188
         },
         {
          "pc1": 38.053592681884766,
          "pc2": -24.659690856933594
         },
         {
          "pc1": 39.923221588134766,
          "pc2": 0.080229252576828
         },
         {
          "pc1": 52.45304489135742,
          "pc2": 25.329713821411133
         },
         {
          "pc1": 7.596200466156006,
          "pc2": -15.397076606750488
         },
         {
          "pc1": 35.399356842041016,
          "pc2": 51.39194869995117
         },
         {
          "pc1": 34.08244705200195,
          "pc2": -62.07881546020508
         },
         {
          "pc1": 2.6534698009490967,
          "pc2": 3.8968560695648193
         },
         {
          "pc1": -36.83268737792969,
          "pc2": 24.727041244506836
         },
         {
          "pc1": 12.017416000366211,
          "pc2": 30.001327514648438
         },
         {
          "pc1": -0.2951200604438782,
          "pc2": -13.760361671447754
         },
         {
          "pc1": -8.381702423095703,
          "pc2": 69.6707763671875
         },
         {
          "pc1": 6.396993160247803,
          "pc2": -28.32032585144043
         },
         {
          "pc1": -15.3553466796875,
          "pc2": 3.957517385482788
         },
         {
          "pc1": -61.9914665222168,
          "pc2": -16.690059661865234
         },
         {
          "pc1": 3.688164472579956,
          "pc2": -50.7807502746582
         },
         {
          "pc1": -0.6286131739616394,
          "pc2": 19.807523727416992
         },
         {
          "pc1": -2.002303123474121,
          "pc2": 42.35380172729492
         },
         {
          "pc1": -37.17170715332031,
          "pc2": 69.30785369873047
         },
         {
          "pc1": 10.305096626281738,
          "pc2": -36.08700942993164
         },
         {
          "pc1": -37.38214874267578,
          "pc2": 44.588008880615234
         },
         {
          "pc1": 13.468504905700684,
          "pc2": 24.34851837158203
         },
         {
          "pc1": 24.004520416259766,
          "pc2": 27.885211944580078
         },
         {
          "pc1": 7.837769031524658,
          "pc2": 29.74140167236328
         },
         {
          "pc1": -21.76750946044922,
          "pc2": 38.299217224121094
         },
         {
          "pc1": 30.154375076293945,
          "pc2": -61.59271240234375
         },
         {
          "pc1": -8.523001670837402,
          "pc2": -8.844719886779785
         },
         {
          "pc1": 33.88222122192383,
          "pc2": -22.08188819885254
         },
         {
          "pc1": 5.289308547973633,
          "pc2": 25.27042007446289
         },
         {
          "pc1": -0.9504476189613342,
          "pc2": 70.4742202758789
         },
         {
          "pc1": 22.495018005371094,
          "pc2": -11.996954917907715
         },
         {
          "pc1": 38.065940856933594,
          "pc2": -0.012608260847628117
         },
         {
          "pc1": -18.32435417175293,
          "pc2": 61.96543502807617
         },
         {
          "pc1": -44.822044372558594,
          "pc2": -15.457509994506836
         },
         {
          "pc1": -25.356592178344727,
          "pc2": 38.84407043457031
         },
         {
          "pc1": -28.15730094909668,
          "pc2": 14.667582511901855
         },
         {
          "pc1": -19.32917022705078,
          "pc2": 35.826995849609375
         },
         {
          "pc1": -33.39724349975586,
          "pc2": 13.39604377746582
         },
         {
          "pc1": 15.407671928405762,
          "pc2": 29.02627944946289
         },
         {
          "pc1": 28.69590950012207,
          "pc2": 46.34325408935547
         },
         {
          "pc1": 14.165033340454102,
          "pc2": 29.42031478881836
         },
         {
          "pc1": 26.636274337768555,
          "pc2": 44.063941955566406
         },
         {
          "pc1": 3.8144843578338623,
          "pc2": -29.60067367553711
         },
         {
          "pc1": 47.48259353637695,
          "pc2": 26.360227584838867
         },
         {
          "pc1": 10.556386947631836,
          "pc2": 4.435521125793457
         },
         {
          "pc1": -9.206525802612305,
          "pc2": 60.55929183959961
         },
         {
          "pc1": 60.8382453918457,
          "pc2": 15.328568458557129
         },
         {
          "pc1": -20.00946807861328,
          "pc2": -49.90267562866211
         },
         {
          "pc1": -14.820859909057617,
          "pc2": 67.62659454345703
         },
         {
          "pc1": -18.31353759765625,
          "pc2": 62.76682662963867
         },
         {
          "pc1": 18.42761993408203,
          "pc2": -75.53105926513672
         },
         {
          "pc1": -34.52726364135742,
          "pc2": 67.65135192871094
         },
         {
          "pc1": -59.20097351074219,
          "pc2": -11.997678756713867
         },
         {
          "pc1": -34.43647384643555,
          "pc2": 68.73983001708984
         },
         {
          "pc1": -8.961348533630371,
          "pc2": 56.41807556152344
         },
         {
          "pc1": -12.335179328918457,
          "pc2": 39.07413101196289
         },
         {
          "pc1": 0.8308532238006592,
          "pc2": 43.47433090209961
         },
         {
          "pc1": 11.410780906677246,
          "pc2": -41.21441650390625
         },
         {
          "pc1": -12.70644474029541,
          "pc2": -2.041048049926758
         },
         {
          "pc1": 43.785789489746094,
          "pc2": 26.26569366455078
         },
         {
          "pc1": -47.59160232543945,
          "pc2": -9.918965339660645
         },
         {
          "pc1": 49.21321105957031,
          "pc2": 26.14330291748047
         },
         {
          "pc1": 43.827205657958984,
          "pc2": 16.403614044189453
         },
         {
          "pc1": 24.645687103271484,
          "pc2": -16.196481704711914
         },
         {
          "pc1": 38.318817138671875,
          "pc2": 18.045942306518555
         },
         {
          "pc1": -35.59239196777344,
          "pc2": 15.025762557983398
         },
         {
          "pc1": -40.8178596496582,
          "pc2": 23.25206756591797
         },
         {
          "pc1": -40.1179313659668,
          "pc2": 54.94746017456055
         },
         {
          "pc1": -37.082401275634766,
          "pc2": 25.089731216430664
         },
         {
          "pc1": -15.43019962310791,
          "pc2": 3.888484001159668
         },
         {
          "pc1": -20.154617309570312,
          "pc2": -22.67027473449707
         },
         {
          "pc1": -4.126177787780762,
          "pc2": -51.23049545288086
         },
         {
          "pc1": 50.33358383178711,
          "pc2": 44.78046798706055
         },
         {
          "pc1": 27.32269859313965,
          "pc2": 43.97933578491211
         },
         {
          "pc1": -30.63909149169922,
          "pc2": 40.16278839111328
         },
         {
          "pc1": -6.177814960479736,
          "pc2": 64.45708465576172
         },
         {
          "pc1": 3.9098379611968994,
          "pc2": 44.65046691894531
         },
         {
          "pc1": -39.294490814208984,
          "pc2": 60.56695556640625
         },
         {
          "pc1": 45.167842864990234,
          "pc2": -20.05301284790039
         },
         {
          "pc1": -35.998294830322266,
          "pc2": -13.419039726257324
         },
         {
          "pc1": -9.382903099060059,
          "pc2": -51.17341232299805
         },
         {
          "pc1": -0.4603240489959717,
          "pc2": -51.96928024291992
         },
         {
          "pc1": 10.864675521850586,
          "pc2": 30.250720977783203
         },
         {
          "pc1": 34.25720977783203,
          "pc2": 40.26496887207031
         },
         {
          "pc1": 34.19290542602539,
          "pc2": 51.24833297729492
         },
         {
          "pc1": 40.186500549316406,
          "pc2": -57.69466781616211
         },
         {
          "pc1": -19.939279556274414,
          "pc2": -21.421091079711914
         },
         {
          "pc1": 36.89028549194336,
          "pc2": -23.311214447021484
         },
         {
          "pc1": 38.8278694152832,
          "pc2": -24.81444549560547
         },
         {
          "pc1": 10.772043228149414,
          "pc2": -37.770992279052734
         },
         {
          "pc1": -39.26106262207031,
          "pc2": 17.499658584594727
         },
         {
          "pc1": -16.546266555786133,
          "pc2": -50.7667236328125
         },
         {
          "pc1": 28.174087524414062,
          "pc2": -70.13978576660156
         },
         {
          "pc1": -7.528890609741211,
          "pc2": 27.101240158081055
         },
         {
          "pc1": 34.653564453125,
          "pc2": 40.744808197021484
         },
         {
          "pc1": 21.329811096191406,
          "pc2": 26.400632858276367
         },
         {
          "pc1": -7.116985321044922,
          "pc2": -50.876808166503906
         },
         {
          "pc1": 45.20646667480469,
          "pc2": -52.7816162109375
         },
         {
          "pc1": -37.150665283203125,
          "pc2": 77.3208236694336
         },
         {
          "pc1": -5.798970699310303,
          "pc2": -9.680228233337402
         },
         {
          "pc1": -18.44800567626953,
          "pc2": -79.39688873291016
         },
         {
          "pc1": -4.866581439971924,
          "pc2": -82.69415283203125
         },
         {
          "pc1": -20.467681884765625,
          "pc2": 38.30731964111328
         },
         {
          "pc1": 3.951540470123291,
          "pc2": 77.0474624633789
         },
         {
          "pc1": -42.74737548828125,
          "pc2": 23.28152084350586
         },
         {
          "pc1": -21.219676971435547,
          "pc2": 53.522274017333984
         },
         {
          "pc1": 0.7297013998031616,
          "pc2": -81.03795623779297
         },
         {
          "pc1": 24.699182510375977,
          "pc2": -16.559621810913086
         },
         {
          "pc1": -10.806699752807617,
          "pc2": 1.4661524295806885
         },
         {
          "pc1": 48.55810546875,
          "pc2": 26.27775764465332
         },
         {
          "pc1": 43.33711624145508,
          "pc2": 55.528785705566406
         },
         {
          "pc1": 5.025897026062012,
          "pc2": -14.919594764709473
         },
         {
          "pc1": 48.24224853515625,
          "pc2": -2.1450839042663574
         },
         {
          "pc1": 35.776241302490234,
          "pc2": 41.80300521850586
         },
         {
          "pc1": 18.465909957885742,
          "pc2": 29.9670467376709
         },
         {
          "pc1": -62.764503479003906,
          "pc2": -18.188980102539062
         },
         {
          "pc1": -36.10064697265625,
          "pc2": 23.811771392822266
         },
         {
          "pc1": 54.61435317993164,
          "pc2": 15.450418472290039
         },
         {
          "pc1": -42.61279296875,
          "pc2": 19.537635803222656
         },
         {
          "pc1": 44.529632568359375,
          "pc2": 16.156902313232422
         },
         {
          "pc1": 35.307586669921875,
          "pc2": 39.68087387084961
         },
         {
          "pc1": 2.995661735534668,
          "pc2": -80.71920776367188
         },
         {
          "pc1": 58.047061920166016,
          "pc2": 55.2304573059082
         },
         {
          "pc1": -18.15457534790039,
          "pc2": 60.33052062988281
         },
         {
          "pc1": 13.000813484191895,
          "pc2": 3.6736860275268555
         },
         {
          "pc1": 40.88555145263672,
          "pc2": -57.0732421875
         },
         {
          "pc1": 38.127681732177734,
          "pc2": -59.952354431152344
         },
         {
          "pc1": 3.9527416229248047,
          "pc2": -37.851402282714844
         },
         {
          "pc1": 2.2348670959472656,
          "pc2": 71.82752990722656
         },
         {
          "pc1": -24.325511932373047,
          "pc2": -75.12178802490234
         },
         {
          "pc1": 9.013874053955078,
          "pc2": 28.207170486450195
         },
         {
          "pc1": 19.185543060302734,
          "pc2": -75.13726806640625
         },
         {
          "pc1": -42.101680755615234,
          "pc2": 22.85666275024414
         },
         {
          "pc1": -51.564308166503906,
          "pc2": -8.789633750915527
         },
         {
          "pc1": 3.4474823474884033,
          "pc2": 44.15035629272461
         },
         {
          "pc1": 42.07810974121094,
          "pc2": -51.4232292175293
         },
         {
          "pc1": 5.4106245040893555,
          "pc2": -15.827507972717285
         },
         {
          "pc1": 7.0541672706604,
          "pc2": -8.231963157653809
         },
         {
          "pc1": -37.236263275146484,
          "pc2": 76.00914001464844
         },
         {
          "pc1": -1.3006484508514404,
          "pc2": 21.07261085510254
         },
         {
          "pc1": -12.932504653930664,
          "pc2": -25.267351150512695
         },
         {
          "pc1": -0.20622681081295013,
          "pc2": -7.021014213562012
         },
         {
          "pc1": 54.243656158447266,
          "pc2": 15.431818008422852
         },
         {
          "pc1": 25.65778350830078,
          "pc2": -71.60018920898438
         },
         {
          "pc1": -23.07927131652832,
          "pc2": -54.5508918762207
         },
         {
          "pc1": 7.404301643371582,
          "pc2": -47.27778625488281
         },
         {
          "pc1": 6.213397979736328,
          "pc2": 45.06398391723633
         },
         {
          "pc1": -11.923368453979492,
          "pc2": -0.7524043321609497
         },
         {
          "pc1": 43.56906509399414,
          "pc2": -0.879207193851471
         },
         {
          "pc1": -54.335670471191406,
          "pc2": -10.583544731140137
         },
         {
          "pc1": 57.99335861206055,
          "pc2": 54.84102249145508
         },
         {
          "pc1": 6.470573425292969,
          "pc2": -15.459593772888184
         },
         {
          "pc1": -42.869510650634766,
          "pc2": -9.78952693939209
         },
         {
          "pc1": 37.938602447509766,
          "pc2": 53.53959274291992
         },
         {
          "pc1": 51.222225189208984,
          "pc2": -3.1423041820526123
         },
         {
          "pc1": -36.23411178588867,
          "pc2": 78.31060791015625
         },
         {
          "pc1": 39.82705307006836,
          "pc2": -57.71095657348633
         },
         {
          "pc1": 32.20566177368164,
          "pc2": -20.597919464111328
         },
         {
          "pc1": 25.284923553466797,
          "pc2": -17.777280807495117
         },
         {
          "pc1": 40.92652893066406,
          "pc2": 3.0906848907470703
         },
         {
          "pc1": -34.81385803222656,
          "pc2": 16.514726638793945
         },
         {
          "pc1": -37.85675048828125,
          "pc2": 44.52336883544922
         },
         {
          "pc1": -17.103429794311523,
          "pc2": 2.5099356174468994
         },
         {
          "pc1": 38.515045166015625,
          "pc2": 53.0899658203125
         },
         {
          "pc1": 45.23881530761719,
          "pc2": -47.21971130371094
         },
         {
          "pc1": -17.571056365966797,
          "pc2": 63.09651565551758
         },
         {
          "pc1": -40.059696197509766,
          "pc2": 42.991336822509766
         },
         {
          "pc1": 11.068779945373535,
          "pc2": 30.315195083618164
         },
         {
          "pc1": 8.171590805053711,
          "pc2": -78.69000244140625
         },
         {
          "pc1": 47.737361907958984,
          "pc2": 26.362211227416992
         },
         {
          "pc1": 55.892433166503906,
          "pc2": -3.858196496963501
         },
         {
          "pc1": -4.4085612297058105,
          "pc2": -12.319897651672363
         },
         {
          "pc1": 7.812615394592285,
          "pc2": 4.305794715881348
         },
         {
          "pc1": 57.62849426269531,
          "pc2": -3.461326837539673
         },
         {
          "pc1": 14.83705997467041,
          "pc2": 28.314891815185547
         },
         {
          "pc1": -17.31206703186035,
          "pc2": -78.43799591064453
         },
         {
          "pc1": 3.423093318939209,
          "pc2": 44.14265441894531
         },
         {
          "pc1": 60.09894943237305,
          "pc2": 15.230855941772461
         },
         {
          "pc1": -34.10991668701172,
          "pc2": 13.518736839294434
         },
         {
          "pc1": -12.869022369384766,
          "pc2": 38.35844039916992
         },
         {
          "pc1": 39.25768280029297,
          "pc2": 54.22045135498047
         },
         {
          "pc1": 58.695980072021484,
          "pc2": 54.73789596557617
         },
         {
          "pc1": -11.148228645324707,
          "pc2": -53.522735595703125
         },
         {
          "pc1": -36.34390640258789,
          "pc2": 76.27152252197266
         },
         {
          "pc1": -58.95366668701172,
          "pc2": -12.32097339630127
         },
         {
          "pc1": 2.624215841293335,
          "pc2": 78.03157043457031
         },
         {
          "pc1": 43.86079406738281,
          "pc2": 3.111363172531128
         },
         {
          "pc1": -23.20777130126953,
          "pc2": -76.998046875
         },
         {
          "pc1": -44.40096664428711,
          "pc2": -47.74874496459961
         },
         {
          "pc1": -36.1270751953125,
          "pc2": 56.59952163696289
         },
         {
          "pc1": -2.010744333267212,
          "pc2": 19.121950149536133
         },
         {
          "pc1": -5.855132102966309,
          "pc2": 62.936981201171875
         },
         {
          "pc1": -46.266422271728516,
          "pc2": -46.174861907958984
         },
         {
          "pc1": -18.227642059326172,
          "pc2": -50.03980255126953
         },
         {
          "pc1": 33.98100280761719,
          "pc2": 38.155479431152344
         },
         {
          "pc1": 33.50027084350586,
          "pc2": -65.3465576171875
         },
         {
          "pc1": -4.827014923095703,
          "pc2": -82.31268310546875
         },
         {
          "pc1": 4.962850093841553,
          "pc2": 44.77535629272461
         },
         {
          "pc1": -28.62354278564453,
          "pc2": 18.64065170288086
         },
         {
          "pc1": 5.898864269256592,
          "pc2": -41.29236602783203
         },
         {
          "pc1": 10.351489067077637,
          "pc2": 11.066587448120117
         },
         {
          "pc1": -37.25593566894531,
          "pc2": 68.52375030517578
         },
         {
          "pc1": -2.0547409057617188,
          "pc2": 42.348793029785156
         },
         {
          "pc1": 2.660515546798706,
          "pc2": -36.68904113769531
         },
         {
          "pc1": -36.23219299316406,
          "pc2": 23.940128326416016
         },
         {
          "pc1": 20.14751625061035,
          "pc2": 10.586018562316895
         },
         {
          "pc1": 16.86006736755371,
          "pc2": -76.09693908691406
         },
         {
          "pc1": 6.001923084259033,
          "pc2": 44.45851135253906
         },
         {
          "pc1": 13.593730926513672,
          "pc2": 12.114655494689941
         },
         {
          "pc1": 49.90148162841797,
          "pc2": 15.844466209411621
         },
         {
          "pc1": -34.42433166503906,
          "pc2": 22.473506927490234
         },
         {
          "pc1": 40.60053634643555,
          "pc2": -26.004980087280273
         },
         {
          "pc1": 14.731380462646484,
          "pc2": -15.405957221984863
         },
         {
          "pc1": -37.25922775268555,
          "pc2": 44.420005798339844
         },
         {
          "pc1": 53.58095932006836,
          "pc2": -2.8010311126708984
         },
         {
          "pc1": 2.2118985652923584,
          "pc2": 77.12419128417969
         },
         {
          "pc1": -23.480417251586914,
          "pc2": 18.510042190551758
         },
         {
          "pc1": 22.449922561645508,
          "pc2": -12.741800308227539
         },
         {
          "pc1": -8.869034767150879,
          "pc2": -27.874610900878906
         },
         {
          "pc1": -33.863487243652344,
          "pc2": -13.721022605895996
         },
         {
          "pc1": 14.960271835327148,
          "pc2": -14.841999053955078
         },
         {
          "pc1": -36.69037628173828,
          "pc2": 75.20269775390625
         },
         {
          "pc1": -38.03296661376953,
          "pc2": 65.61243438720703
         },
         {
          "pc1": -23.283727645874023,
          "pc2": 18.008731842041016
         },
         {
          "pc1": 26.74835777282715,
          "pc2": 25.097166061401367
         },
         {
          "pc1": -30.618404388427734,
          "pc2": -17.524229049682617
         },
         {
          "pc1": 27.87731170654297,
          "pc2": -69.54768371582031
         },
         {
          "pc1": 44.166419982910156,
          "pc2": -23.81203842163086
         },
         {
          "pc1": 39.603790283203125,
          "pc2": 43.6627197265625
         },
         {
          "pc1": -5.008186340332031,
          "pc2": 25.721654891967773
         },
         {
          "pc1": -3.980358839035034,
          "pc2": -83.65666198730469
         },
         {
          "pc1": 3.128538131713867,
          "pc2": 73.43385314941406
         },
         {
          "pc1": -26.13338279724121,
          "pc2": -19.29456901550293
         },
         {
          "pc1": 52.692718505859375,
          "pc2": 25.282527923583984
         },
         {
          "pc1": 45.32007598876953,
          "pc2": -22.55133628845215
         },
         {
          "pc1": 44.20753479003906,
          "pc2": -52.55649948120117
         },
         {
          "pc1": 7.260920524597168,
          "pc2": 45.775943756103516
         },
         {
          "pc1": 3.604806661605835,
          "pc2": 78.41877746582031
         },
         {
          "pc1": -16.926366806030273,
          "pc2": 62.987918853759766
         },
         {
          "pc1": 53.674190521240234,
          "pc2": 55.300960540771484
         },
         {
          "pc1": 5.1205949783325195,
          "pc2": 26.34317970275879
         },
         {
          "pc1": -11.155220031738281,
          "pc2": -5.770253658294678
         },
         {
          "pc1": -36.71645736694336,
          "pc2": 77.26512908935547
         },
         {
          "pc1": -59.647300720214844,
          "pc2": -13.899063110351562
         },
         {
          "pc1": 24.835102081298828,
          "pc2": -16.583595275878906
         },
         {
          "pc1": 54.36152648925781,
          "pc2": 14.730955123901367
         },
         {
          "pc1": 4.746995449066162,
          "pc2": 45.27516555786133
         },
         {
          "pc1": 34.462642669677734,
          "pc2": -21.602985382080078
         },
         {
          "pc1": -12.729543685913086,
          "pc2": -51.88572311401367
         },
         {
          "pc1": -21.229766845703125,
          "pc2": 54.1252555847168
         },
         {
          "pc1": -20.99452781677246,
          "pc2": 58.083778381347656
         },
         {
          "pc1": 0.1608983427286148,
          "pc2": 4.777013301849365
         },
         {
          "pc1": -19.419496536254883,
          "pc2": 59.51133346557617
         },
         {
          "pc1": 4.14680290222168,
          "pc2": -81.40211486816406
         },
         {
          "pc1": 58.67757034301758,
          "pc2": 17.286386489868164
         },
         {
          "pc1": 7.632643222808838,
          "pc2": -8.16605281829834
         },
         {
          "pc1": -36.652008056640625,
          "pc2": 74.23477935791016
         },
         {
          "pc1": -28.909481048583984,
          "pc2": -48.136016845703125
         },
         {
          "pc1": -2.1442909240722656,
          "pc2": -13.012229919433594
         },
         {
          "pc1": 35.51386260986328,
          "pc2": 51.90728759765625
         },
         {
          "pc1": 39.7664680480957,
          "pc2": -59.421321868896484
         },
         {
          "pc1": -11.17982292175293,
          "pc2": 39.02574920654297
         },
         {
          "pc1": -36.64159393310547,
          "pc2": -47.847450256347656
         },
         {
          "pc1": -18.353683471679688,
          "pc2": 21.300386428833008
         },
         {
          "pc1": 18.924243927001953,
          "pc2": 7.663266658782959
         },
         {
          "pc1": 23.563732147216797,
          "pc2": 24.468908309936523
         },
         {
          "pc1": -37.94417190551758,
          "pc2": -47.69306945800781
         },
         {
          "pc1": -20.328468322753906,
          "pc2": -24.355920791625977
         },
         {
          "pc1": -13.18985366821289,
          "pc2": -51.3900146484375
         },
         {
          "pc1": -8.572216987609863,
          "pc2": 58.092857360839844
         },
         {
          "pc1": 3.5569286346435547,
          "pc2": 10.852712631225586
         },
         {
          "pc1": -41.5133056640625,
          "pc2": 21.649736404418945
         },
         {
          "pc1": -31.411653518676758,
          "pc2": -16.202653884887695
         },
         {
          "pc1": -32.83843231201172,
          "pc2": 14.810394287109375
         },
         {
          "pc1": 19.447040557861328,
          "pc2": -74.70074462890625
         },
         {
          "pc1": 9.542745590209961,
          "pc2": -47.159461975097656
         },
         {
          "pc1": -41.32461929321289,
          "pc2": 18.516027450561523
         },
         {
          "pc1": 13.694981575012207,
          "pc2": 12.145702362060547
         },
         {
          "pc1": -0.9154663681983948,
          "pc2": 42.919097900390625
         },
         {
          "pc1": 57.891883850097656,
          "pc2": 16.965059280395508
         },
         {
          "pc1": 7.0812578201293945,
          "pc2": 44.84156036376953
         },
         {
          "pc1": -0.689749538898468,
          "pc2": -82.66051483154297
         },
         {
          "pc1": 38.14824295043945,
          "pc2": -25.18651008605957
         },
         {
          "pc1": -1.7035107612609863,
          "pc2": 21.01198387145996
         },
         {
          "pc1": -26.05492401123047,
          "pc2": -48.096553802490234
         },
         {
          "pc1": -14.61816120147705,
          "pc2": -25.101837158203125
         },
         {
          "pc1": 60.22119140625,
          "pc2": -4.091047286987305
         },
         {
          "pc1": -8.9677734375,
          "pc2": 56.38155746459961
         },
         {
          "pc1": 46.427879333496094,
          "pc2": 25.052568435668945
         },
         {
          "pc1": -10.746747970581055,
          "pc2": 2.0645692348480225
         },
         {
          "pc1": 57.42521667480469,
          "pc2": 22.74102020263672
         },
         {
          "pc1": -4.538726806640625,
          "pc2": -79.3552474975586
         },
         {
          "pc1": 11.08671760559082,
          "pc2": -37.86370849609375
         },
         {
          "pc1": -17.671167373657227,
          "pc2": 62.16171646118164
         },
         {
          "pc1": -42.59088897705078,
          "pc2": 23.803728103637695
         },
         {
          "pc1": 0.5118623971939087,
          "pc2": 20.093358993530273
         },
         {
          "pc1": 11.901322364807129,
          "pc2": -73.4199447631836
         },
         {
          "pc1": -42.65079116821289,
          "pc2": -46.24664306640625
         },
         {
          "pc1": 27.969453811645508,
          "pc2": 46.10685348510742
         },
         {
          "pc1": -28.723817825317383,
          "pc2": 13.623467445373535
         },
         {
          "pc1": -61.77973556518555,
          "pc2": -17.56755256652832
         },
         {
          "pc1": 59.58647155761719,
          "pc2": 14.498444557189941
         },
         {
          "pc1": 61.53305435180664,
          "pc2": 18.25293731689453
         },
         {
          "pc1": -30.67501449584961,
          "pc2": -16.52433204650879
         },
         {
          "pc1": 3.0912537574768066,
          "pc2": 78.77191162109375
         },
         {
          "pc1": 25.95412254333496,
          "pc2": -17.593215942382812
         },
         {
          "pc1": 44.2343635559082,
          "pc2": -54.2685661315918
         },
         {
          "pc1": -20.015033721923828,
          "pc2": 17.676841735839844
         },
         {
          "pc1": -12.28473949432373,
          "pc2": -50.36759948730469
         },
         {
          "pc1": -21.566425323486328,
          "pc2": 38.313472747802734
         },
         {
          "pc1": -37.48031234741211,
          "pc2": 71.12830352783203
         },
         {
          "pc1": -36.67401885986328,
          "pc2": 24.397384643554688
         },
         {
          "pc1": 33.23591995239258,
          "pc2": -66.19763946533203
         },
         {
          "pc1": 2.4843528270721436,
          "pc2": 78.50691223144531
         },
         {
          "pc1": 17.050382614135742,
          "pc2": -75.36830139160156
         },
         {
          "pc1": -40.59246063232422,
          "pc2": 50.69134521484375
         },
         {
          "pc1": 8.898551940917969,
          "pc2": -79.2774887084961
         },
         {
          "pc1": -40.3530158996582,
          "pc2": -11.89376163482666
         },
         {
          "pc1": 45.940616607666016,
          "pc2": 16.503341674804688
         },
         {
          "pc1": -6.48162841796875,
          "pc2": 66.58246612548828
         },
         {
          "pc1": 3.834882974624634,
          "pc2": 78.0335464477539
         },
         {
          "pc1": -13.936084747314453,
          "pc2": -25.712276458740234
         },
         {
          "pc1": -6.649877071380615,
          "pc2": 74.63914489746094
         },
         {
          "pc1": 22.703983306884766,
          "pc2": -72.51876068115234
         },
         {
          "pc1": 14.909153938293457,
          "pc2": -79.40277099609375
         },
         {
          "pc1": -18.604598999023438,
          "pc2": 62.45176696777344
         },
         {
          "pc1": 3.53483510017395,
          "pc2": 12.01083755493164
         },
         {
          "pc1": 54.26526641845703,
          "pc2": 54.921932220458984
         },
         {
          "pc1": 17.323856353759766,
          "pc2": 29.80632209777832
         },
         {
          "pc1": 6.56611442565918,
          "pc2": 28.219980239868164
         },
         {
          "pc1": 22.10190200805664,
          "pc2": 28.462615966796875
         },
         {
          "pc1": 58.60182571411133,
          "pc2": 54.986427307128906
         },
         {
          "pc1": -10.320771217346191,
          "pc2": 39.671817779541016
         },
         {
          "pc1": 39.57213592529297,
          "pc2": 43.644874572753906
         },
         {
          "pc1": 25.801969528198242,
          "pc2": 25.036714553833008
         },
         {
          "pc1": 55.71455764770508,
          "pc2": 14.804007530212402
         },
         {
          "pc1": 43.925540924072266,
          "pc2": -20.980810165405273
         },
         {
          "pc1": -38.08861541748047,
          "pc2": -43.94276428222656
         },
         {
          "pc1": -12.210553169250488,
          "pc2": 35.160377502441406
         },
         {
          "pc1": 56.90748977661133,
          "pc2": 0.1480555683374405
         },
         {
          "pc1": -2.439162492752075,
          "pc2": 18.83687400817871
         },
         {
          "pc1": -26.098522186279297,
          "pc2": 16.909482955932617
         },
         {
          "pc1": -13.705916404724121,
          "pc2": 38.50995635986328
         },
         {
          "pc1": -7.831554412841797,
          "pc2": 64.1756591796875
         },
         {
          "pc1": -60.484554290771484,
          "pc2": -14.839018821716309
         },
         {
          "pc1": 15.40095329284668,
          "pc2": 23.572826385498047
         },
         {
          "pc1": -43.87606430053711,
          "pc2": 23.131166458129883
         },
         {
          "pc1": 39.645103454589844,
          "pc2": 19.45116424560547
         },
         {
          "pc1": -56.85538864135742,
          "pc2": -11.400886535644531
         },
         {
          "pc1": -19.069623947143555,
          "pc2": -79.59791564941406
         },
         {
          "pc1": 22.695737838745117,
          "pc2": -72.54669189453125
         },
         {
          "pc1": -2.987088680267334,
          "pc2": 42.031009674072266
         },
         {
          "pc1": 28.1970157623291,
          "pc2": -70.128173828125
         },
         {
          "pc1": -7.0968732833862305,
          "pc2": 40.913326263427734
         },
         {
          "pc1": -37.521121978759766,
          "pc2": 69.4871826171875
         },
         {
          "pc1": 44.0749626159668,
          "pc2": -24.23162078857422
         },
         {
          "pc1": -9.222429275512695,
          "pc2": 70.65128326416016
         },
         {
          "pc1": 13.62712574005127,
          "pc2": 12.123770713806152
         },
         {
          "pc1": -40.015411376953125,
          "pc2": 55.927154541015625
         },
         {
          "pc1": -18.496532440185547,
          "pc2": 20.347320556640625
         },
         {
          "pc1": -37.90974426269531,
          "pc2": 68.04448699951172
         },
         {
          "pc1": 17.32209014892578,
          "pc2": 7.365849018096924
         },
         {
          "pc1": 4.234548568725586,
          "pc2": 44.74049758911133
         },
         {
          "pc1": -16.97307014465332,
          "pc2": 3.8436431884765625
         },
         {
          "pc1": 38.387657165527344,
          "pc2": 41.991127014160156
         },
         {
          "pc1": -32.56916427612305,
          "pc2": -48.50569152832031
         },
         {
          "pc1": 25.864168167114258,
          "pc2": 43.14360809326172
         },
         {
          "pc1": 41.82795333862305,
          "pc2": -26.634498596191406
         },
         {
          "pc1": -9.425353050231934,
          "pc2": -76.6551284790039
         },
         {
          "pc1": -11.322551727294922,
          "pc2": 1.3034892082214355
         },
         {
          "pc1": -35.26072311401367,
          "pc2": -14.436985969543457
         },
         {
          "pc1": -28.716550827026367,
          "pc2": 20.269062042236328
         },
         {
          "pc1": -40.09695053100586,
          "pc2": 52.25908279418945
         },
         {
          "pc1": 1.974392294883728,
          "pc2": 71.65802764892578
         },
         {
          "pc1": 12.185707092285156,
          "pc2": 4.569616794586182
         },
         {
          "pc1": -31.129728317260742,
          "pc2": 20.66816520690918
         },
         {
          "pc1": 33.22797393798828,
          "pc2": -21.36557960510254
         },
         {
          "pc1": 10.42242431640625,
          "pc2": -38.10447692871094
         },
         {
          "pc1": -5.943093776702881,
          "pc2": 64.88941955566406
         },
         {
          "pc1": 21.92736053466797,
          "pc2": 27.342222213745117
         },
         {
          "pc1": -32.67958068847656,
          "pc2": -48.51169967651367
         },
         {
          "pc1": 3.6913859844207764,
          "pc2": 12.016706466674805
         },
         {
          "pc1": 42.31096649169922,
          "pc2": -27.431882858276367
         },
         {
          "pc1": 17.535310745239258,
          "pc2": -15.702689170837402
         },
         {
          "pc1": 0.6670154929161072,
          "pc2": -81.28111267089844
         },
         {
          "pc1": 22.097230911254883,
          "pc2": 28.464012145996094
         },
         {
          "pc1": 53.928993225097656,
          "pc2": 54.91522216796875
         },
         {
          "pc1": -4.433097839355469,
          "pc2": -83.7737045288086
         },
         {
          "pc1": 58.915714263916016,
          "pc2": 18.256439208984375
         },
         {
          "pc1": 33.682106018066406,
          "pc2": 37.49630355834961
         },
         {
          "pc1": 39.89433670043945,
          "pc2": 20.46129608154297
         },
         {
          "pc1": -7.093762397766113,
          "pc2": 40.4588508605957
         },
         {
          "pc1": 30.108768463134766,
          "pc2": -19.907766342163086
         },
         {
          "pc1": -26.086772918701172,
          "pc2": -73.30754089355469
         },
         {
          "pc1": -38.32965087890625,
          "pc2": 15.219346046447754
         },
         {
          "pc1": 36.21665954589844,
          "pc2": -22.71343994140625
         },
         {
          "pc1": 15.470281600952148,
          "pc2": 6.122292518615723
         },
         {
          "pc1": -20.055776596069336,
          "pc2": 20.719907760620117
         },
         {
          "pc1": 4.589949607849121,
          "pc2": 4.403421401977539
         },
         {
          "pc1": -12.155022621154785,
          "pc2": 66.52906036376953
         },
         {
          "pc1": -37.33648681640625,
          "pc2": 66.53544616699219
         },
         {
          "pc1": -18.55104637145996,
          "pc2": 19.486557006835938
         },
         {
          "pc1": 12.033000946044922,
          "pc2": -78.10809326171875
         },
         {
          "pc1": 0.2794191837310791,
          "pc2": 77.78553009033203
         },
         {
          "pc1": 6.2357258796691895,
          "pc2": -9.533956527709961
         },
         {
          "pc1": -42.1140022277832,
          "pc2": 19.061220169067383
         },
         {
          "pc1": 24.415164947509766,
          "pc2": 24.226659774780273
         },
         {
          "pc1": 45.21451187133789,
          "pc2": -20.939815521240234
         },
         {
          "pc1": 41.849525451660156,
          "pc2": -27.523839950561523
         },
         {
          "pc1": 40.03865051269531,
          "pc2": 17.750762939453125
         },
         {
          "pc1": 14.995498657226562,
          "pc2": 24.56410026550293
         },
         {
          "pc1": -47.063385009765625,
          "pc2": -45.61454772949219
         },
         {
          "pc1": -21.642074584960938,
          "pc2": -50.244667053222656
         },
         {
          "pc1": -27.83875846862793,
          "pc2": -48.10969161987305
         },
         {
          "pc1": 9.612286567687988,
          "pc2": 27.997760772705078
         },
         {
          "pc1": 11.230709075927734,
          "pc2": 4.856492519378662
         },
         {
          "pc1": 44.24082946777344,
          "pc2": -54.25072479248047
         },
         {
          "pc1": -1.8442002534866333,
          "pc2": 76.23176574707031
         },
         {
          "pc1": -9.087108612060547,
          "pc2": 26.292163848876953
         },
         {
          "pc1": -0.1934913992881775,
          "pc2": 69.88286590576172
         },
         {
          "pc1": 58.341407775878906,
          "pc2": -0.023318476974964142
         },
         {
          "pc1": -21.403066635131836,
          "pc2": 57.52980422973633
         },
         {
          "pc1": 2.059727191925049,
          "pc2": 71.71055603027344
         },
         {
          "pc1": -8.648648262023926,
          "pc2": 57.71291732788086
         },
         {
          "pc1": -1.6516910791397095,
          "pc2": 5.352860450744629
         },
         {
          "pc1": 25.06795883178711,
          "pc2": -17.721559524536133
         },
         {
          "pc1": -5.26444673538208,
          "pc2": -82.8879623413086
         },
         {
          "pc1": 7.0541462898254395,
          "pc2": -78.79796600341797
         },
         {
          "pc1": 32.18387985229492,
          "pc2": -65.703369140625
         },
         {
          "pc1": -28.573551177978516,
          "pc2": -17.502538681030273
         },
         {
          "pc1": 17.34825325012207,
          "pc2": 23.453947067260742
         },
         {
          "pc1": -19.181041717529297,
          "pc2": 59.46401596069336
         },
         {
          "pc1": 38.566776275634766,
          "pc2": -59.52696990966797
         },
         {
          "pc1": 1.4134334325790405,
          "pc2": -51.57830810546875
         },
         {
          "pc1": -41.58023452758789,
          "pc2": 18.322227478027344
         },
         {
          "pc1": 52.62459182739258,
          "pc2": 25.304861068725586
         },
         {
          "pc1": 7.857452869415283,
          "pc2": 44.98421096801758
         },
         {
          "pc1": -50.350074768066406,
          "pc2": -13.19785213470459
         },
         {
          "pc1": -34.419036865234375,
          "pc2": 68.87618255615234
         },
         {
          "pc1": 48.00461959838867,
          "pc2": 26.314088821411133
         },
         {
          "pc1": 24.35120391845703,
          "pc2": -17.598291397094727
         },
         {
          "pc1": 45.693538665771484,
          "pc2": -48.4544563293457
         },
         {
          "pc1": 41.64276123046875,
          "pc2": -0.9640752077102661
         },
         {
          "pc1": 9.144795417785645,
          "pc2": 45.682682037353516
         },
         {
          "pc1": -22.82868003845215,
          "pc2": 18.316003799438477
         },
         {
          "pc1": -4.877902984619141,
          "pc2": 4.637861728668213
         },
         {
          "pc1": 25.143932342529297,
          "pc2": 41.60258102416992
         },
         {
          "pc1": -6.463038444519043,
          "pc2": 75.63842010498047
         },
         {
          "pc1": -54.25386428833008,
          "pc2": -9.958971977233887
         },
         {
          "pc1": 22.32857322692871,
          "pc2": -11.930912017822266
         },
         {
          "pc1": -19.819259643554688,
          "pc2": 20.58062744140625
         },
         {
          "pc1": -55.0618896484375,
          "pc2": -17.862579345703125
         },
         {
          "pc1": 1.0079600811004639,
          "pc2": 70.89019775390625
         },
         {
          "pc1": 54.976280212402344,
          "pc2": 24.45521354675293
         },
         {
          "pc1": 37.45383071899414,
          "pc2": 52.98237991333008
         },
         {
          "pc1": 26.416677474975586,
          "pc2": -71.51039123535156
         },
         {
          "pc1": -14.008418083190918,
          "pc2": -82.70282745361328
         },
         {
          "pc1": -44.52080154418945,
          "pc2": -46.91490173339844
         },
         {
          "pc1": 1.2026242017745972,
          "pc2": 71.06700897216797
         },
         {
          "pc1": 54.09129333496094,
          "pc2": 54.39314270019531
         },
         {
          "pc1": 6.9139628410339355,
          "pc2": 11.016063690185547
         },
         {
          "pc1": 55.921409606933594,
          "pc2": 13.94167423248291
         },
         {
          "pc1": 2.8337903022766113,
          "pc2": 76.86930847167969
         },
         {
          "pc1": 38.833580017089844,
          "pc2": 0.21599321067333221
         },
         {
          "pc1": 20.944019317626953,
          "pc2": 23.855791091918945
         },
         {
          "pc1": 28.08307647705078,
          "pc2": 24.815698623657227
         },
         {
          "pc1": -14.770515441894531,
          "pc2": 65.68499755859375
         },
         {
          "pc1": -19.207313537597656,
          "pc2": 18.72412872314453
         },
         {
          "pc1": -57.894229888916016,
          "pc2": -12.710694313049316
         },
         {
          "pc1": -38.1649169921875,
          "pc2": -47.37150573730469
         },
         {
          "pc1": 20.253684997558594,
          "pc2": 10.568169593811035
         },
         {
          "pc1": 18.288732528686523,
          "pc2": -75.61917877197266
         },
         {
          "pc1": 4.599835395812988,
          "pc2": 4.398740291595459
         },
         {
          "pc1": -3.365354299545288,
          "pc2": -52.490623474121094
         },
         {
          "pc1": -38.15666198730469,
          "pc2": 24.18368911743164
         },
         {
          "pc1": -11.281660079956055,
          "pc2": 71.81497192382812
         },
         {
          "pc1": 46.68802261352539,
          "pc2": -1.53900146484375
         },
         {
          "pc1": 46.579742431640625,
          "pc2": -1.7493014335632324
         },
         {
          "pc1": 44.3537712097168,
          "pc2": -49.57460403442383
         },
         {
          "pc1": 7.769893169403076,
          "pc2": -79.0583724975586
         },
         {
          "pc1": -40.5340461730957,
          "pc2": 49.86503219604492
         },
         {
          "pc1": 18.504032135009766,
          "pc2": 7.308088302612305
         },
         {
          "pc1": 4.217660427093506,
          "pc2": 44.286293029785156
         },
         {
          "pc1": 6.0855865478515625,
          "pc2": -30.626331329345703
         },
         {
          "pc1": 57.86494064331055,
          "pc2": 23.935619354248047
         },
         {
          "pc1": -46.55828094482422,
          "pc2": -45.92705535888672
         },
         {
          "pc1": -37.45170593261719,
          "pc2": -49.21070098876953
         },
         {
          "pc1": 12.973360061645508,
          "pc2": 4.68135404586792
         },
         {
          "pc1": 40.55781936645508,
          "pc2": -26.228321075439453
         },
         {
          "pc1": 60.13457107543945,
          "pc2": -2.9993412494659424
         },
         {
          "pc1": -8.365753173828125,
          "pc2": 3.7538774013519287
         },
         {
          "pc1": -36.262821197509766,
          "pc2": 58.30274200439453
         },
         {
          "pc1": 41.42448806762695,
          "pc2": -1.3846449851989746
         },
         {
          "pc1": -28.214595794677734,
          "pc2": 39.1232795715332
         },
         {
          "pc1": -4.634221076965332,
          "pc2": -52.24369812011719
         },
         {
          "pc1": 36.09236526489258,
          "pc2": 42.05657196044922
         },
         {
          "pc1": 10.070099830627441,
          "pc2": 11.041116714477539
         },
         {
          "pc1": 51.74089431762695,
          "pc2": 25.596492767333984
         },
         {
          "pc1": 1.5377039909362793,
          "pc2": 4.805263042449951
         },
         {
          "pc1": -8.730635643005371,
          "pc2": 57.33429718017578
         },
         {
          "pc1": 46.94075393676758,
          "pc2": 16.360435485839844
         },
         {
          "pc1": -40.42396926879883,
          "pc2": -49.028770446777344
         },
         {
          "pc1": -5.531764507293701,
          "pc2": 65.60877990722656
         },
         {
          "pc1": -34.14499282836914,
          "pc2": 76.03453063964844
         },
         {
          "pc1": 4.56071138381958,
          "pc2": 4.418374061584473
         },
         {
          "pc1": -29.413118362426758,
          "pc2": -17.025365829467773
         },
         {
          "pc1": -6.397072792053223,
          "pc2": -28.39924430847168
         },
         {
          "pc1": -40.36471939086914,
          "pc2": -50.254154205322266
         },
         {
          "pc1": 2.0987608432769775,
          "pc2": 71.73522186279297
         },
         {
          "pc1": -35.14580535888672,
          "pc2": -48.51163864135742
         },
         {
          "pc1": 44.63549041748047,
          "pc2": -56.645267486572266
         },
         {
          "pc1": 6.2974162101745605,
          "pc2": -15.970075607299805
         },
         {
          "pc1": -4.721921443939209,
          "pc2": 4.225911617279053
         },
         {
          "pc1": -38.145835876464844,
          "pc2": 17.40900993347168
         },
         {
          "pc1": -19.031261444091797,
          "pc2": 20.218751907348633
         },
         {
          "pc1": 13.802399635314941,
          "pc2": 23.479644775390625
         },
         {
          "pc1": -40.456695556640625,
          "pc2": 48.53274917602539
         },
         {
          "pc1": 40.42727279663086,
          "pc2": 19.099470138549805
         },
         {
          "pc1": -34.84310531616211,
          "pc2": -47.51183319091797
         },
         {
          "pc1": 27.93657112121582,
          "pc2": -69.52168273925781
         },
         {
          "pc1": 7.559330940246582,
          "pc2": 45.855953216552734
         },
         {
          "pc1": 44.14332962036133,
          "pc2": -22.21161460876465
         },
         {
          "pc1": 1.8605595827102661,
          "pc2": -31.072664260864258
         },
         {
          "pc1": 5.6457743644714355,
          "pc2": -49.94329833984375
         },
         {
          "pc1": 51.5395622253418,
          "pc2": 14.43700885772705
         },
         {
          "pc1": 23.796306610107422,
          "pc2": 28.122180938720703
         },
         {
          "pc1": 2.9134042263031006,
          "pc2": 40.23615646362305
         },
         {
          "pc1": -10.593587875366211,
          "pc2": 72.77091979980469
         },
         {
          "pc1": -33.374515533447266,
          "pc2": 14.433541297912598
         },
         {
          "pc1": 2.437222719192505,
          "pc2": -31.08435821533203
         },
         {
          "pc1": -3.4515182971954346,
          "pc2": -28.44205093383789
         },
         {
          "pc1": -31.431232452392578,
          "pc2": 40.4588737487793
         },
         {
          "pc1": -13.431408882141113,
          "pc2": -82.16963195800781
         },
         {
          "pc1": 43.979740142822266,
          "pc2": -21.269535064697266
         },
         {
          "pc1": 33.91707992553711,
          "pc2": -20.867462158203125
         },
         {
          "pc1": -27.557018280029297,
          "pc2": 16.232141494750977
         },
         {
          "pc1": 57.68610382080078,
          "pc2": 0.06759565323591232
         },
         {
          "pc1": -9.719315528869629,
          "pc2": 3.205848217010498
         },
         {
          "pc1": -8.497374534606934,
          "pc2": 58.42919921875
         },
         {
          "pc1": 47.49595642089844,
          "pc2": 14.775228500366211
         },
         {
          "pc1": -49.06696319580078,
          "pc2": -9.094170570373535
         },
         {
          "pc1": -16.413164138793945,
          "pc2": -20.955429077148438
         },
         {
          "pc1": -12.022160530090332,
          "pc2": -4.3860907554626465
         },
         {
          "pc1": 5.472085475921631,
          "pc2": 44.387115478515625
         },
         {
          "pc1": 19.524259567260742,
          "pc2": -15.967081069946289
         },
         {
          "pc1": -45.55595779418945,
          "pc2": -41.701759338378906
         },
         {
          "pc1": -25.489885330200195,
          "pc2": -79.23661041259766
         },
         {
          "pc1": 52.11881637573242,
          "pc2": 14.446796417236328
         },
         {
          "pc1": -29.382116317749023,
          "pc2": 39.51422119140625
         },
         {
          "pc1": 31.42833137512207,
          "pc2": -66.95738220214844
         },
         {
          "pc1": 51.791316986083984,
          "pc2": -2.8253490924835205
         },
         {
          "pc1": -8.096567153930664,
          "pc2": 72.50270080566406
         },
         {
          "pc1": 49.296470642089844,
          "pc2": 46.13515853881836
         },
         {
          "pc1": 13.958534240722656,
          "pc2": 28.809595108032227
         },
         {
          "pc1": -8.538843154907227,
          "pc2": 58.18778991699219
         },
         {
          "pc1": -39.658103942871094,
          "pc2": 58.23698425292969
         },
         {
          "pc1": 5.138396739959717,
          "pc2": -8.322786331176758
         },
         {
          "pc1": 11.563919067382812,
          "pc2": -40.63936233520508
         },
         {
          "pc1": -37.31289291381836,
          "pc2": 74.48760223388672
         },
         {
          "pc1": 6.150525093078613,
          "pc2": -8.296332359313965
         },
         {
          "pc1": 55.69157409667969,
          "pc2": -3.478013753890991
         },
         {
          "pc1": -62.25838851928711,
          "pc2": -17.005773544311523
         },
         {
          "pc1": 6.695078372955322,
          "pc2": -28.545787811279297
         },
         {
          "pc1": 36.682952880859375,
          "pc2": -61.34206008911133
         },
         {
          "pc1": 0.8000326752662659,
          "pc2": 43.56648635864258
         },
         {
          "pc1": 7.076488494873047,
          "pc2": -79.36804962158203
         },
         {
          "pc1": 30.455533981323242,
          "pc2": 47.60320281982422
         },
         {
          "pc1": 14.868298530578613,
          "pc2": 30.872024536132812
         },
         {
          "pc1": 42.181766510009766,
          "pc2": -26.762794494628906
         },
         {
          "pc1": -23.675745010375977,
          "pc2": 38.520389556884766
         },
         {
          "pc1": 5.041586875915527,
          "pc2": -81.0748062133789
         },
         {
          "pc1": 42.35805892944336,
          "pc2": 54.86140060424805
         },
         {
          "pc1": -43.250396728515625,
          "pc2": -8.980667114257812
         },
         {
          "pc1": -25.34761619567871,
          "pc2": -48.86500930786133
         },
         {
          "pc1": -36.71489715576172,
          "pc2": 24.557836532592773
         },
         {
          "pc1": -14.70948314666748,
          "pc2": -25.013349533081055
         },
         {
          "pc1": 19.84419822692871,
          "pc2": -16.023466110229492
         },
         {
          "pc1": -1.995375394821167,
          "pc2": -13.755155563354492
         },
         {
          "pc1": -39.41628646850586,
          "pc2": 57.16423416137695
         },
         {
          "pc1": -5.877084732055664,
          "pc2": 41.30939865112305
         },
         {
          "pc1": -50.95927810668945,
          "pc2": -8.429320335388184
         },
         {
          "pc1": 41.20830535888672,
          "pc2": -0.8220141530036926
         },
         {
          "pc1": -24.54387092590332,
          "pc2": -49.2437629699707
         },
         {
          "pc1": -7.808007717132568,
          "pc2": -8.981697082519531
         },
         {
          "pc1": -36.64650344848633,
          "pc2": 22.52873992919922
         },
         {
          "pc1": -9.725520133972168,
          "pc2": 39.87188720703125
         },
         {
          "pc1": 45.16642379760742,
          "pc2": -20.310195922851562
         },
         {
          "pc1": -7.13702392578125,
          "pc2": -10.053428649902344
         },
         {
          "pc1": 8.196569442749023,
          "pc2": 44.85028076171875
         },
         {
          "pc1": 42.60139465332031,
          "pc2": -0.5702919363975525
         },
         {
          "pc1": -33.381900787353516,
          "pc2": -21.152219772338867
         },
         {
          "pc1": -11.973058700561523,
          "pc2": 39.19352722167969
         },
         {
          "pc1": 8.606718063354492,
          "pc2": -47.65012741088867
         },
         {
          "pc1": -39.503570556640625,
          "pc2": 56.85337448120117
         },
         {
          "pc1": -22.120969772338867,
          "pc2": 54.02037811279297
         },
         {
          "pc1": 21.75304412841797,
          "pc2": 25.452381134033203
         },
         {
          "pc1": 4.859809398651123,
          "pc2": -30.0075740814209
         },
         {
          "pc1": -5.716531276702881,
          "pc2": -51.248779296875
         },
         {
          "pc1": 33.31144714355469,
          "pc2": -63.67709732055664
         },
         {
          "pc1": -20.418779373168945,
          "pc2": -21.321779251098633
         },
         {
          "pc1": 0.8371865749359131,
          "pc2": -8.504777908325195
         },
         {
          "pc1": 10.172401428222656,
          "pc2": -45.0966911315918
         },
         {
          "pc1": -37.94853591918945,
          "pc2": 67.6409912109375
         },
         {
          "pc1": -7.885611534118652,
          "pc2": 26.59665298461914
         },
         {
          "pc1": -42.66650390625,
          "pc2": -12.906042098999023
         },
         {
          "pc1": -5.882345199584961,
          "pc2": -50.83132553100586
         },
         {
          "pc1": -37.550941467285156,
          "pc2": 65.91207885742188
         },
         {
          "pc1": -39.27641677856445,
          "pc2": 42.063880920410156
         },
         {
          "pc1": -11.69872760772705,
          "pc2": -3.7782633304595947
         },
         {
          "pc1": 20.6638240814209,
          "pc2": 10.34487533569336
         },
         {
          "pc1": 15.321887969970703,
          "pc2": 30.530460357666016
         },
         {
          "pc1": -58.69255828857422,
          "pc2": -12.958878517150879
         },
         {
          "pc1": 30.20290184020996,
          "pc2": -19.947975158691406
         },
         {
          "pc1": -25.179853439331055,
          "pc2": -48.607643127441406
         },
         {
          "pc1": -45.41665267944336,
          "pc2": -47.517982482910156
         },
         {
          "pc1": 58.33918380737305,
          "pc2": 15.23644733428955
         },
         {
          "pc1": -41.74967575073242,
          "pc2": 18.10169219970703
         },
         {
          "pc1": 11.703863143920898,
          "pc2": -77.85162353515625
         },
         {
          "pc1": -4.244607925415039,
          "pc2": 17.51327896118164
         },
         {
          "pc1": 42.834678649902344,
          "pc2": 54.471187591552734
         },
         {
          "pc1": 37.38357162475586,
          "pc2": 41.38376998901367
         },
         {
          "pc1": 4.068619728088379,
          "pc2": 3.15449595451355
         },
         {
          "pc1": 24.114606857299805,
          "pc2": -17.543184280395508
         },
         {
          "pc1": 53.3916015625,
          "pc2": 15.858183860778809
         },
         {
          "pc1": -7.379893779754639,
          "pc2": 61.874656677246094
         },
         {
          "pc1": 16.925512313842773,
          "pc2": -15.080528259277344
         },
         {
          "pc1": 3.577316999435425,
          "pc2": 10.852336883544922
         },
         {
          "pc1": 47.87903594970703,
          "pc2": 16.37099838256836
         },
         {
          "pc1": 43.980712890625,
          "pc2": -24.564464569091797
         },
         {
          "pc1": -1.977536916732788,
          "pc2": 42.126888275146484
         },
         {
          "pc1": -9.402310371398926,
          "pc2": 3.113225221633911
         },
         {
          "pc1": -30.908235549926758,
          "pc2": 16.162700653076172
         },
         {
          "pc1": 57.77031326293945,
          "pc2": 22.775684356689453
         },
         {
          "pc1": 43.6979866027832,
          "pc2": 54.676116943359375
         },
         {
          "pc1": -32.50617599487305,
          "pc2": 14.129271507263184
         },
         {
          "pc1": -32.69523239135742,
          "pc2": 19.772729873657227
         },
         {
          "pc1": -20.560474395751953,
          "pc2": -20.815595626831055
         },
         {
          "pc1": -12.746748924255371,
          "pc2": -83.51875305175781
         },
         {
          "pc1": 32.6668815612793,
          "pc2": 49.99786376953125
         },
         {
          "pc1": 45.36058807373047,
          "pc2": -21.86268424987793
         },
         {
          "pc1": -8.611825942993164,
          "pc2": 26.808305740356445
         },
         {
          "pc1": -42.267234802246094,
          "pc2": 19.512710571289062
         },
         {
          "pc1": -3.748819351196289,
          "pc2": -82.66715240478516
         },
         {
          "pc1": 54.58795928955078,
          "pc2": 24.609956741333008
         },
         {
          "pc1": -2.1851089000701904,
          "pc2": 42.6784782409668
         },
         {
          "pc1": -14.650318145751953,
          "pc2": 66.93083953857422
         },
         {
          "pc1": 14.878218650817871,
          "pc2": 5.487864017486572
         },
         {
          "pc1": -37.314292907714844,
          "pc2": 74.46537780761719
         },
         {
          "pc1": 25.667118072509766,
          "pc2": 42.678794860839844
         },
         {
          "pc1": -40.270999908447266,
          "pc2": 22.459091186523438
         },
         {
          "pc1": -21.676424026489258,
          "pc2": 37.93887710571289
         },
         {
          "pc1": -7.5845866203308105,
          "pc2": 74.00054931640625
         },
         {
          "pc1": -16.76202964782715,
          "pc2": 4.010434150695801
         },
         {
          "pc1": -39.84354782104492,
          "pc2": -10.902728080749512
         },
         {
          "pc1": -47.1407585144043,
          "pc2": -46.09998321533203
         },
         {
          "pc1": 10.555612564086914,
          "pc2": -44.86074447631836
         },
         {
          "pc1": -20.62496566772461,
          "pc2": 59.381351470947266
         },
         {
          "pc1": -37.168087005615234,
          "pc2": 25.13698959350586
         },
         {
          "pc1": -5.769205093383789,
          "pc2": 4.094752311706543
         },
         {
          "pc1": -16.220563888549805,
          "pc2": -24.454498291015625
         },
         {
          "pc1": 5.609376907348633,
          "pc2": 26.513731002807617
         },
         {
          "pc1": 13.015504837036133,
          "pc2": 3.6778671741485596
         },
         {
          "pc1": -45.05879592895508,
          "pc2": -46.758846282958984
         },
         {
          "pc1": 61.833858489990234,
          "pc2": 17.38199234008789
         },
         {
          "pc1": 42.21012496948242,
          "pc2": -51.234230041503906
         },
         {
          "pc1": 52.21024703979492,
          "pc2": 44.94361114501953
         },
         {
          "pc1": 38.706390380859375,
          "pc2": -59.738250732421875
         },
         {
          "pc1": 61.340301513671875,
          "pc2": -1.0163474082946777
         },
         {
          "pc1": 61.43076705932617,
          "pc2": 19.13030242919922
         },
         {
          "pc1": 51.17837905883789,
          "pc2": 14.54513168334961
         },
         {
          "pc1": 46.3989143371582,
          "pc2": 15.387956619262695
         },
         {
          "pc1": -33.74770736694336,
          "pc2": 14.150949478149414
         },
         {
          "pc1": -20.988611221313477,
          "pc2": 58.091190338134766
         },
         {
          "pc1": -43.46269226074219,
          "pc2": -48.00646209716797
         },
         {
          "pc1": -21.859437942504883,
          "pc2": -23.64736557006836
         },
         {
          "pc1": -27.464702606201172,
          "pc2": 16.244014739990234
         },
         {
          "pc1": -12.970582962036133,
          "pc2": -82.34235382080078
         },
         {
          "pc1": 18.764204025268555,
          "pc2": 7.5088090896606445
         },
         {
          "pc1": 28.769102096557617,
          "pc2": 46.57566833496094
         },
         {
          "pc1": -24.5830020904541,
          "pc2": -51.1634521484375
         },
         {
          "pc1": 55.6094856262207,
          "pc2": 13.94543743133545
         },
         {
          "pc1": 34.38074493408203,
          "pc2": -64.64985656738281
         },
         {
          "pc1": -4.4680657386779785,
          "pc2": 66.9464111328125
         },
         {
          "pc1": -1.7372936010360718,
          "pc2": 42.798988342285156
         },
         {
          "pc1": -24.78498077392578,
          "pc2": 38.835304260253906
         },
         {
          "pc1": -22.58058738708496,
          "pc2": -21.290082931518555
         },
         {
          "pc1": -4.174709320068359,
          "pc2": -29.619699478149414
         },
         {
          "pc1": -4.446061611175537,
          "pc2": 27.65038299560547
         },
         {
          "pc1": 23.799753189086914,
          "pc2": 28.121063232421875
         },
         {
          "pc1": 9.902233123779297,
          "pc2": 29.380460739135742
         },
         {
          "pc1": -21.93161392211914,
          "pc2": 55.19818115234375
         },
         {
          "pc1": -10.291336059570312,
          "pc2": 3.042844533920288
         },
         {
          "pc1": 49.873329162597656,
          "pc2": 25.992639541625977
         },
         {
          "pc1": -39.386314392089844,
          "pc2": 59.36254119873047
         },
         {
          "pc1": 54.91139221191406,
          "pc2": 54.8847770690918
         },
         {
          "pc1": -35.97818374633789,
          "pc2": 78.68273162841797
         },
         {
          "pc1": 62.28203201293945,
          "pc2": 17.771432876586914
         },
         {
          "pc1": -8.888649940490723,
          "pc2": 3.884784460067749
         },
         {
          "pc1": -11.981465339660645,
          "pc2": 70.10868835449219
         },
         {
          "pc1": -41.48103713989258,
          "pc2": 23.391454696655273
         },
         {
          "pc1": 43.198089599609375,
          "pc2": -0.8562650084495544
         },
         {
          "pc1": -38.484195709228516,
          "pc2": 61.3098030090332
         },
         {
          "pc1": 59.487064361572266,
          "pc2": -3.7758004665374756
         },
         {
          "pc1": -8.392897605895996,
          "pc2": 58.93074035644531
         },
         {
          "pc1": -44.317569732666016,
          "pc2": -8.524657249450684
         },
         {
          "pc1": -25.717958450317383,
          "pc2": 39.025413513183594
         },
         {
          "pc1": 9.828439712524414,
          "pc2": -46.220516204833984
         },
         {
          "pc1": 34.120662689208984,
          "pc2": 38.350318908691406
         },
         {
          "pc1": 7.1718645095825195,
          "pc2": -47.92536163330078
         },
         {
          "pc1": 34.56374740600586,
          "pc2": 40.647132873535156
         },
         {
          "pc1": 49.167381286621094,
          "pc2": 44.54047775268555
         },
         {
          "pc1": 47.8530387878418,
          "pc2": -1.7493679523468018
         },
         {
          "pc1": 8.493827819824219,
          "pc2": 45.533287048339844
         },
         {
          "pc1": 58.453346252441406,
          "pc2": -3.825763702392578
         },
         {
          "pc1": -28.345247268676758,
          "pc2": -48.900691986083984
         },
         {
          "pc1": -18.417421340942383,
          "pc2": -73.46931457519531
         }
        ],
        "data-4406e9ff27426907c78ddf0f1c5c91a5": [
         {
          "pc1": 33.31012725830078,
          "pc2": -20.79360008239746
         },
         {
          "pc1": 46.82714080810547,
          "pc2": 26.472251892089844
         },
         {
          "pc1": 35.37132263183594,
          "pc2": 41.442169189453125
         },
         {
          "pc1": 0.06963523477315903,
          "pc2": 5.214695453643799
         },
         {
          "pc1": -3.468175172805786,
          "pc2": 27.41099739074707
         },
         {
          "pc1": -27.97859764099121,
          "pc2": 13.704041481018066
         },
         {
          "pc1": 51.942813873291016,
          "pc2": 46.494537353515625
         },
         {
          "pc1": -12.31077766418457,
          "pc2": -3.5997610092163086
         },
         {
          "pc1": -1.3398821353912354,
          "pc2": -83.0524673461914
         },
         {
          "pc1": -3.6252453327178955,
          "pc2": 19.5750675201416
         },
         {
          "pc1": 27.905485153198242,
          "pc2": -18.938297271728516
         }
        ],
        "data-61a9712930140a16f5a361b8a5f0704d": [
         {
          "pc1": 9.794899940490723,
          "pc2": 3.708238363265991
         },
         {
          "pc1": 36.84652328491211,
          "pc2": -63.30193328857422
         },
         {
          "pc1": -17.846956253051758,
          "pc2": -73.85318756103516
         },
         {
          "pc1": -31.816818237304688,
          "pc2": 15.695859909057617
         },
         {
          "pc1": 30.70022201538086,
          "pc2": -67.0269775390625
         },
         {
          "pc1": -8.869765281677246,
          "pc2": -51.286766052246094
         },
         {
          "pc1": -29.39728546142578,
          "pc2": -51.75301742553711
         },
         {
          "pc1": -17.586177825927734,
          "pc2": -24.293546676635742
         },
         {
          "pc1": 9.476876258850098,
          "pc2": -36.469261169433594
         },
         {
          "pc1": 5.835029125213623,
          "pc2": -40.95683288574219
         },
         {
          "pc1": -20.334901809692383,
          "pc2": 37.90821075439453
         },
         {
          "pc1": -25.426462173461914,
          "pc2": -73.3883285522461
         },
         {
          "pc1": 28.356727600097656,
          "pc2": -62.676666259765625
         },
         {
          "pc1": 35.955997467041016,
          "pc2": -63.78800964355469
         },
         {
          "pc1": -2.2105231285095215,
          "pc2": 23.80023193359375
         },
         {
          "pc1": 55.252437591552734,
          "pc2": 15.794371604919434
         },
         {
          "pc1": -48.472755432128906,
          "pc2": -8.96573257446289
         },
         {
          "pc1": 10.26569652557373,
          "pc2": -37.991825103759766
         },
         {
          "pc1": -5.935547828674316,
          "pc2": 40.82288360595703
         },
         {
          "pc1": 26.606956481933594,
          "pc2": -65.53733825683594
         },
         {
          "pc1": 57.203060150146484,
          "pc2": 15.999454498291016
         },
         {
          "pc1": -12.815298080444336,
          "pc2": -82.40897369384766
         },
         {
          "pc1": -14.307689666748047,
          "pc2": -24.621652603149414
         },
         {
          "pc1": -16.581010818481445,
          "pc2": -24.822906494140625
         },
         {
          "pc1": -64.0685806274414,
          "pc2": -19.51669692993164
         },
         {
          "pc1": -24.594968795776367,
          "pc2": 38.44123458862305
         },
         {
          "pc1": 47.327552795410156,
          "pc2": -1.8739088773727417
         },
         {
          "pc1": -40.31770706176758,
          "pc2": 53.283790588378906
         },
         {
          "pc1": -46.301578521728516,
          "pc2": -9.062408447265625
         },
         {
          "pc1": -8.942115783691406,
          "pc2": 56.48241424560547
         },
         {
          "pc1": -37.90692901611328,
          "pc2": 44.28909683227539
         },
         {
          "pc1": 43.09881591796875,
          "pc2": 3.124484062194824
         },
         {
          "pc1": -28.72085189819336,
          "pc2": 39.355804443359375
         },
         {
          "pc1": 60.58991241455078,
          "pc2": -0.5901910662651062
         },
         {
          "pc1": -18.809412002563477,
          "pc2": -79.78396606445312
         },
         {
          "pc1": -48.656700134277344,
          "pc2": -8.315802574157715
         },
         {
          "pc1": -21.56512451171875,
          "pc2": -48.59447479248047
         },
         {
          "pc1": -1.8627722263336182,
          "pc2": -52.39423370361328
         },
         {
          "pc1": 1.417595386505127,
          "pc2": -14.322637557983398
         },
         {
          "pc1": -2.318100929260254,
          "pc2": -6.785177230834961
         },
         {
          "pc1": -22.744945526123047,
          "pc2": 38.64023208618164
         },
         {
          "pc1": -35.68769836425781,
          "pc2": -19.63088035583496
         },
         {
          "pc1": -14.964276313781738,
          "pc2": -81.33580017089844
         },
         {
          "pc1": 3.8308000564575195,
          "pc2": -33.10024642944336
         },
         {
          "pc1": 45.3411979675293,
          "pc2": -21.6237735748291
         },
         {
          "pc1": -23.44107437133789,
          "pc2": -20.61214256286621
         },
         {
          "pc1": -24.055383682250977,
          "pc2": -74.84859466552734
         },
         {
          "pc1": -36.534603118896484,
          "pc2": 22.39965057373047
         },
         {
          "pc1": -20.00627326965332,
          "pc2": -22.74500846862793
         },
         {
          "pc1": -33.95085525512695,
          "pc2": -47.81475830078125
         },
         {
          "pc1": -13.667901039123535,
          "pc2": 38.81736755371094
         },
         {
          "pc1": 0.38261663913726807,
          "pc2": 70.36351013183594
         },
         {
          "pc1": 45.37812805175781,
          "pc2": -47.72290802001953
         },
         {
          "pc1": 1.8636760711669922,
          "pc2": 4.818299770355225
         },
         {
          "pc1": 22.25354766845703,
          "pc2": -72.59598541259766
         },
         {
          "pc1": -64.60195922851562,
          "pc2": -23.463354110717773
         },
         {
          "pc1": 11.643774032592773,
          "pc2": -42.36822509765625
         },
         {
          "pc1": 15.579811096191406,
          "pc2": 29.024507522583008
         },
         {
          "pc1": 44.58196258544922,
          "pc2": -51.570159912109375
         },
         {
          "pc1": -9.179485321044922,
          "pc2": 60.65188217163086
         },
         {
          "pc1": 3.247039318084717,
          "pc2": -50.870845794677734
         },
         {
          "pc1": 38.200340270996094,
          "pc2": -24.1798152923584
         },
         {
          "pc1": -5.17232084274292,
          "pc2": -28.759355545043945
         },
         {
          "pc1": -6.785304546356201,
          "pc2": -82.5374984741211
         },
         {
          "pc1": 33.40717697143555,
          "pc2": 50.16300964355469
         },
         {
          "pc1": -39.379878997802734,
          "pc2": 25.99147605895996
         },
         {
          "pc1": -2.575112819671631,
          "pc2": -30.102737426757812
         },
         {
          "pc1": -37.1623420715332,
          "pc2": 44.27195358276367
         },
         {
          "pc1": -21.61699676513672,
          "pc2": 53.54357147216797
         },
         {
          "pc1": 19.757001876831055,
          "pc2": -74.45012664794922
         },
         {
          "pc1": -40.483253479003906,
          "pc2": 18.53458023071289
         },
         {
          "pc1": 3.7242825031280518,
          "pc2": -31.661935806274414
         },
         {
          "pc1": 45.77425003051758,
          "pc2": 55.167808532714844
         },
         {
          "pc1": -24.435922622680664,
          "pc2": -19.99658203125
         },
         {
          "pc1": -26.598146438598633,
          "pc2": -73.69746398925781
         },
         {
          "pc1": 9.118656158447266,
          "pc2": -35.9742317199707
         },
         {
          "pc1": 23.700525283813477,
          "pc2": -71.40648651123047
         },
         {
          "pc1": -5.07382869720459,
          "pc2": 27.282411575317383
         },
         {
          "pc1": -33.457489013671875,
          "pc2": -48.87864303588867
         },
         {
          "pc1": 20.977230072021484,
          "pc2": -73.80226135253906
         },
         {
          "pc1": -3.0629384517669678,
          "pc2": -12.493875503540039
         },
         {
          "pc1": 60.538475036621094,
          "pc2": 19.012788772583008
         },
         {
          "pc1": -13.99035358428955,
          "pc2": 20.321590423583984
         },
         {
          "pc1": -27.64632797241211,
          "pc2": -48.512596130371094
         },
         {
          "pc1": 45.78189468383789,
          "pc2": 54.32075119018555
         },
         {
          "pc1": -9.029726028442383,
          "pc2": -83.9350814819336
         },
         {
          "pc1": 44.69060516357422,
          "pc2": -1.290708065032959
         },
         {
          "pc1": -1.3329609632492065,
          "pc2": -13.18919849395752
         },
         {
          "pc1": -4.087895393371582,
          "pc2": -28.812929153442383
         },
         {
          "pc1": 26.200069427490234,
          "pc2": 42.35888671875
         },
         {
          "pc1": 41.012577056884766,
          "pc2": -58.62687301635742
         },
         {
          "pc1": -24.590740203857422,
          "pc2": -19.901227951049805
         },
         {
          "pc1": -9.635611534118652,
          "pc2": -83.70075225830078
         },
         {
          "pc1": -31.318140029907227,
          "pc2": 20.745075225830078
         },
         {
          "pc1": -17.15772247314453,
          "pc2": -80.36822509765625
         },
         {
          "pc1": -5.758218288421631,
          "pc2": 73.75150299072266
         },
         {
          "pc1": -14.238011360168457,
          "pc2": -25.267576217651367
         },
         {
          "pc1": 58.26606369018555,
          "pc2": -0.010917315259575844
         },
         {
          "pc1": -14.038542747497559,
          "pc2": -50.19746017456055
         },
         {
          "pc1": -3.2243754863739014,
          "pc2": -29.376096725463867
         },
         {
          "pc1": -0.6544142961502075,
          "pc2": 19.853151321411133
         },
         {
          "pc1": -37.289306640625,
          "pc2": 75.16136169433594
         },
         {
          "pc1": -22.695409774780273,
          "pc2": -54.67607116699219
         },
         {
          "pc1": 5.581611156463623,
          "pc2": -9.559623718261719
         },
         {
          "pc1": 5.077553749084473,
          "pc2": 26.721662521362305
         },
         {
          "pc1": -28.43048858642578,
          "pc2": -16.59589195251465
         },
         {
          "pc1": -43.91594696044922,
          "pc2": -41.09748077392578
         },
         {
          "pc1": -0.11434590816497803,
          "pc2": -30.3402099609375
         },
         {
          "pc1": -30.529705047607422,
          "pc2": 20.534391403198242
         },
         {
          "pc1": 28.74090576171875,
          "pc2": -19.275650024414062
         },
         {
          "pc1": -21.378009796142578,
          "pc2": 53.91183090209961
         },
         {
          "pc1": -38.26174545288086,
          "pc2": 17.88847541809082
         },
         {
          "pc1": -39.24821090698242,
          "pc2": 15.382698059082031
         },
         {
          "pc1": -42.1589241027832,
          "pc2": 22.962839126586914
         },
         {
          "pc1": 37.8110466003418,
          "pc2": -0.48432713747024536
         },
         {
          "pc1": -10.938220024108887,
          "pc2": -76.79425048828125
         },
         {
          "pc1": -10.133270263671875,
          "pc2": -82.66702270507812
         },
         {
          "pc1": -20.01085662841797,
          "pc2": 37.786521911621094
         },
         {
          "pc1": -11.39647388458252,
          "pc2": 0.7904963493347168
         },
         {
          "pc1": -40.653228759765625,
          "pc2": -47.163604736328125
         },
         {
          "pc1": -34.168235778808594,
          "pc2": -47.5255012512207
         },
         {
          "pc1": -38.60606002807617,
          "pc2": -47.603919982910156
         },
         {
          "pc1": -36.36935043334961,
          "pc2": 42.57169723510742
         },
         {
          "pc1": 41.589866638183594,
          "pc2": 55.33806610107422
         },
         {
          "pc1": 26.587278366088867,
          "pc2": 43.598026275634766
         },
         {
          "pc1": -23.126144409179688,
          "pc2": -51.48497009277344
         },
         {
          "pc1": 0.545248806476593,
          "pc2": 75.12311553955078
         },
         {
          "pc1": 46.53241729736328,
          "pc2": -47.707454681396484
         },
         {
          "pc1": 10.570639610290527,
          "pc2": 4.245096206665039
         },
         {
          "pc1": 39.57011032104492,
          "pc2": -51.46219253540039
         },
         {
          "pc1": 23.437572479248047,
          "pc2": -16.073486328125
         },
         {
          "pc1": -7.936487197875977,
          "pc2": 60.30830764770508
         },
         {
          "pc1": 10.855267524719238,
          "pc2": -43.61688995361328
         },
         {
          "pc1": 42.50966262817383,
          "pc2": -50.56668472290039
         },
         {
          "pc1": -63.073944091796875,
          "pc2": -25.374691009521484
         },
         {
          "pc1": 3.7677114009857178,
          "pc2": -50.746620178222656
         },
         {
          "pc1": 13.370795249938965,
          "pc2": 5.235675811767578
         },
         {
          "pc1": 0.17582550644874573,
          "pc2": 27.878211975097656
         },
         {
          "pc1": 12.785168647766113,
          "pc2": 30.53976058959961
         },
         {
          "pc1": 6.179797172546387,
          "pc2": -79.22679138183594
         },
         {
          "pc1": -5.313057899475098,
          "pc2": 41.771278381347656
         },
         {
          "pc1": 10.730225563049316,
          "pc2": -39.298606872558594
         },
         {
          "pc1": 6.860938549041748,
          "pc2": -33.725669860839844
         },
         {
          "pc1": 1.0896660089492798,
          "pc2": 28.532604217529297
         },
         {
          "pc1": -36.434059143066406,
          "pc2": 75.64926147460938
         },
         {
          "pc1": -35.67825698852539,
          "pc2": 78.52914428710938
         },
         {
          "pc1": -15.701664924621582,
          "pc2": -80.99836730957031
         },
         {
          "pc1": -26.652687072753906,
          "pc2": 16.764835357666016
         },
         {
          "pc1": 40.14173126220703,
          "pc2": 0.017353244125843048
         },
         {
          "pc1": -26.819704055786133,
          "pc2": -17.52761459350586
         },
         {
          "pc1": -20.861215591430664,
          "pc2": -48.86009216308594
         },
         {
          "pc1": -40.65711975097656,
          "pc2": 23.02860450744629
         },
         {
          "pc1": 51.932945251464844,
          "pc2": 24.35578155517578
         },
         {
          "pc1": -15.969573020935059,
          "pc2": -81.32828521728516
         },
         {
          "pc1": 19.505977630615234,
          "pc2": -76.84957122802734
         },
         {
          "pc1": -11.924924850463867,
          "pc2": -82.45555114746094
         },
         {
          "pc1": 9.860467910766602,
          "pc2": -37.24570846557617
         },
         {
          "pc1": 27.395854949951172,
          "pc2": -69.21620178222656
         },
         {
          "pc1": -21.22267723083496,
          "pc2": 54.141841888427734
         },
         {
          "pc1": 38.534881591796875,
          "pc2": -24.521902084350586
         },
         {
          "pc1": 26.077348709106445,
          "pc2": 25.65199089050293
         },
         {
          "pc1": -6.9408416748046875,
          "pc2": 40.903289794921875
         },
         {
          "pc1": -2.149930715560913,
          "pc2": -52.06181335449219
         },
         {
          "pc1": -28.472232818603516,
          "pc2": -48.8702507019043
         },
         {
          "pc1": 29.36829948425293,
          "pc2": -68.68486785888672
         },
         {
          "pc1": 7.43525505065918,
          "pc2": -79.3519515991211
         },
         {
          "pc1": -37.46614074707031,
          "pc2": 44.67891311645508
         },
         {
          "pc1": -21.2749080657959,
          "pc2": -49.6394157409668
         },
         {
          "pc1": 7.134744644165039,
          "pc2": 11.029833793640137
         },
         {
          "pc1": 39.821014404296875,
          "pc2": 0.10318509489297867
         },
         {
          "pc1": 53.23332977294922,
          "pc2": -2.8437299728393555
         },
         {
          "pc1": -37.85822296142578,
          "pc2": 68.6651611328125
         },
         {
          "pc1": -6.1658101081848145,
          "pc2": -9.797186851501465
         },
         {
          "pc1": 45.897911071777344,
          "pc2": -47.729915618896484
         },
         {
          "pc1": 6.35530424118042,
          "pc2": -28.287240982055664
         },
         {
          "pc1": -35.05060577392578,
          "pc2": -19.95151710510254
         },
         {
          "pc1": -13.321867942810059,
          "pc2": -82.39787292480469
         },
         {
          "pc1": -11.062814712524414,
          "pc2": -50.52883529663086
         },
         {
          "pc1": -15.72953987121582,
          "pc2": -24.54744529724121
         },
         {
          "pc1": -28.32509422302246,
          "pc2": 20.3396053314209
         },
         {
          "pc1": 42.09638595581055,
          "pc2": 3.1145858764648438
         },
         {
          "pc1": -19.50714874267578,
          "pc2": -21.74237632751465
         },
         {
          "pc1": 7.70964241027832,
          "pc2": -78.29203796386719
         },
         {
          "pc1": 28.673839569091797,
          "pc2": -68.7596206665039
         },
         {
          "pc1": 19.25318717956543,
          "pc2": 9.712577819824219
         },
         {
          "pc1": 57.54832458496094,
          "pc2": 16.806976318359375
         },
         {
          "pc1": -43.207908630371094,
          "pc2": -46.40119552612305
         },
         {
          "pc1": -6.883896350860596,
          "pc2": 40.52108383178711
         },
         {
          "pc1": 44.188297271728516,
          "pc2": -52.59392547607422
         },
         {
          "pc1": -36.929813385009766,
          "pc2": 73.92572021484375
         },
         {
          "pc1": -30.520395278930664,
          "pc2": -17.560449600219727
         },
         {
          "pc1": -4.314697265625,
          "pc2": -82.18795013427734
         },
         {
          "pc1": 41.921199798583984,
          "pc2": -0.5900436639785767
         },
         {
          "pc1": -41.67390823364258,
          "pc2": -11.257857322692871
         },
         {
          "pc1": 9.818890571594238,
          "pc2": -46.707923889160156
         },
         {
          "pc1": 4.6914777755737305,
          "pc2": 44.76749038696289
         },
         {
          "pc1": 52.49860763549805,
          "pc2": 53.8563346862793
         },
         {
          "pc1": -4.493813991546631,
          "pc2": -82.55271911621094
         },
         {
          "pc1": -18.98604965209961,
          "pc2": 18.8028564453125
         },
         {
          "pc1": -6.9142632484436035,
          "pc2": 65.78767395019531
         },
         {
          "pc1": 14.068387985229492,
          "pc2": 5.081911563873291
         },
         {
          "pc1": 40.02956008911133,
          "pc2": 53.874595642089844
         },
         {
          "pc1": -7.871083736419678,
          "pc2": -8.92535400390625
         },
         {
          "pc1": -9.451255798339844,
          "pc2": -83.60026550292969
         },
         {
          "pc1": -24.107398986816406,
          "pc2": 17.795427322387695
         },
         {
          "pc1": -23.232683181762695,
          "pc2": -75.50060272216797
         },
         {
          "pc1": -11.795257568359375,
          "pc2": -25.619352340698242
         },
         {
          "pc1": -4.819145679473877,
          "pc2": 5.434671401977539
         },
         {
          "pc1": -7.416065692901611,
          "pc2": 25.284778594970703
         },
         {
          "pc1": -25.179628372192383,
          "pc2": -79.56543731689453
         },
         {
          "pc1": 25.995864868164062,
          "pc2": 41.9462776184082
         },
         {
          "pc1": -10.78072452545166,
          "pc2": -27.000186920166016
         },
         {
          "pc1": -11.02447509765625,
          "pc2": 72.3930892944336
         },
         {
          "pc1": -17.532176971435547,
          "pc2": -80.57048034667969
         },
         {
          "pc1": 48.00602340698242,
          "pc2": 17.257217407226562
         },
         {
          "pc1": -55.46346664428711,
          "pc2": -9.210561752319336
         },
         {
          "pc1": 45.688411712646484,
          "pc2": -48.47810745239258
         },
         {
          "pc1": -5.276506423950195,
          "pc2": -50.82872772216797
         },
         {
          "pc1": -11.835634231567383,
          "pc2": 35.07972717285156
         },
         {
          "pc1": -10.370781898498535,
          "pc2": -6.679792881011963
         },
         {
          "pc1": -29.844524383544922,
          "pc2": 13.188881874084473
         },
         {
          "pc1": -32.90481185913086,
          "pc2": -48.409263610839844
         },
         {
          "pc1": 16.112146377563477,
          "pc2": -78.80828857421875
         },
         {
          "pc1": 8.52404499053955,
          "pc2": 4.324307918548584
         },
         {
          "pc1": 40.19880676269531,
          "pc2": 53.79034423828125
         },
         {
          "pc1": -63.241573333740234,
          "pc2": -19.740537643432617
         },
         {
          "pc1": -3.185628890991211,
          "pc2": 27.73797607421875
         },
         {
          "pc1": -5.131070613861084,
          "pc2": 40.76179885864258
         },
         {
          "pc1": -37.544898986816406,
          "pc2": 67.2911148071289
         },
         {
          "pc1": -18.586158752441406,
          "pc2": -23.277320861816406
         },
         {
          "pc1": 29.812814712524414,
          "pc2": -18.919174194335938
         },
         {
          "pc1": -46.88130569458008,
          "pc2": -9.028481483459473
         },
         {
          "pc1": -26.885143280029297,
          "pc2": 19.09368133544922
         },
         {
          "pc1": -34.22388458251953,
          "pc2": -14.17115592956543
         },
         {
          "pc1": -38.76948928833008,
          "pc2": -43.78273010253906
         },
         {
          "pc1": 37.486515045166016,
          "pc2": -62.41485595703125
         },
         {
          "pc1": 15.428006172180176,
          "pc2": 23.57291603088379
         },
         {
          "pc1": -9.313304901123047,
          "pc2": 60.23737335205078
         },
         {
          "pc1": 10.398067474365234,
          "pc2": -36.32088851928711
         },
         {
          "pc1": 43.68397903442383,
          "pc2": -51.40755081176758
         },
         {
          "pc1": -55.39284133911133,
          "pc2": -9.6927490234375
         },
         {
          "pc1": -20.2804012298584,
          "pc2": 60.24687194824219
         },
         {
          "pc1": -13.448206901550293,
          "pc2": 67.18904876708984
         },
         {
          "pc1": 39.422672271728516,
          "pc2": 19.247116088867188
         },
         {
          "pc1": 6.414793491363525,
          "pc2": -32.2594108581543
         },
         {
          "pc1": -40.64257049560547,
          "pc2": 52.96660614013672
         },
         {
          "pc1": -22.238828659057617,
          "pc2": -49.16077423095703
         },
         {
          "pc1": -14.983400344848633,
          "pc2": 65.44139099121094
         },
         {
          "pc1": -37.33763122558594,
          "pc2": 43.570396423339844
         },
         {
          "pc1": 36.986114501953125,
          "pc2": -23.045822143554688
         },
         {
          "pc1": -6.6353373527526855,
          "pc2": -51.96754455566406
         },
         {
          "pc1": 35.54899597167969,
          "pc2": 52.032196044921875
         },
         {
          "pc1": 13.116143226623535,
          "pc2": -47.761810302734375
         },
         {
          "pc1": -33.937255859375,
          "pc2": -48.49199676513672
         },
         {
          "pc1": 41.21021270751953,
          "pc2": 54.20813751220703
         },
         {
          "pc1": -15.775003433227539,
          "pc2": -29.475101470947266
         },
         {
          "pc1": 28.110204696655273,
          "pc2": -62.75251770019531
         },
         {
          "pc1": -6.070840835571289,
          "pc2": -78.94499969482422
         },
         {
          "pc1": 4.013566017150879,
          "pc2": 78.4859848022461
         },
         {
          "pc1": 27.731752395629883,
          "pc2": -69.58023834228516
         },
         {
          "pc1": -14.030421257019043,
          "pc2": -27.523616790771484
         },
         {
          "pc1": -3.99655818939209,
          "pc2": -51.729530334472656
         },
         {
          "pc1": -25.240772247314453,
          "pc2": -54.40155029296875
         },
         {
          "pc1": -36.07776641845703,
          "pc2": 62.07198715209961
         },
         {
          "pc1": 47.61945343017578,
          "pc2": -1.720476508140564
         },
         {
          "pc1": -18.50653076171875,
          "pc2": -80.0354995727539
         },
         {
          "pc1": -27.67393684387207,
          "pc2": 38.96559524536133
         },
         {
          "pc1": -22.643171310424805,
          "pc2": -21.091772079467773
         },
         {
          "pc1": -19.290279388427734,
          "pc2": -78.98997497558594
         },
         {
          "pc1": 47.02421951293945,
          "pc2": 15.09217357635498
         },
         {
          "pc1": -23.30610466003418,
          "pc2": 54.733131408691406
         },
         {
          "pc1": -30.411800384521484,
          "pc2": 38.1124153137207
         },
         {
          "pc1": -7.080510139465332,
          "pc2": 27.187833786010742
         },
         {
          "pc1": -46.223793029785156,
          "pc2": -9.482418060302734
         },
         {
          "pc1": -1.5709450244903564,
          "pc2": 21.04972267150879
         },
         {
          "pc1": -25.833593368530273,
          "pc2": -48.465694427490234
         },
         {
          "pc1": 15.216460227966309,
          "pc2": -76.46590423583984
         },
         {
          "pc1": -48.91094970703125,
          "pc2": -9.60628890991211
         },
         {
          "pc1": 35.64178466796875,
          "pc2": 51.91683578491211
         },
         {
          "pc1": -18.504478454589844,
          "pc2": -78.94957733154297
         },
         {
          "pc1": -40.05341339111328,
          "pc2": 47.658973693847656
         },
         {
          "pc1": -36.32078170776367,
          "pc2": -47.594505310058594
         },
         {
          "pc1": -25.974658966064453,
          "pc2": -74.33848571777344
         },
         {
          "pc1": -27.31476402282715,
          "pc2": 39.63684844970703
         },
         {
          "pc1": -25.770883560180664,
          "pc2": -73.58171081542969
         },
         {
          "pc1": 26.476457595825195,
          "pc2": 42.928749084472656
         },
         {
          "pc1": -4.968044757843018,
          "pc2": -83.02642059326172
         },
         {
          "pc1": 43.79144287109375,
          "pc2": 18.380788803100586
         },
         {
          "pc1": 39.02794647216797,
          "pc2": -24.658668518066406
         },
         {
          "pc1": -1.0775104761123657,
          "pc2": -7.612118721008301
         },
         {
          "pc1": -21.989154815673828,
          "pc2": 19.986326217651367
         },
         {
          "pc1": 32.657310485839844,
          "pc2": -66.09363555908203
         },
         {
          "pc1": 58.53621292114258,
          "pc2": -3.3536760807037354
         },
         {
          "pc1": 28.392547607421875,
          "pc2": -62.66489791870117
         },
         {
          "pc1": -21.930334091186523,
          "pc2": 17.16215705871582
         },
         {
          "pc1": -3.487987995147705,
          "pc2": 18.075010299682617
         },
         {
          "pc1": -11.729970932006836,
          "pc2": -81.8732681274414
         },
         {
          "pc1": -23.303842544555664,
          "pc2": 55.95839309692383
         },
         {
          "pc1": 16.687721252441406,
          "pc2": -76.67916870117188
         },
         {
          "pc1": -17.426034927368164,
          "pc2": -74.10670471191406
         },
         {
          "pc1": -38.12177276611328,
          "pc2": 13.36526107788086
         },
         {
          "pc1": 44.39532470703125,
          "pc2": -52.09444808959961
         },
         {
          "pc1": 9.96334171295166,
          "pc2": 42.909305572509766
         },
         {
          "pc1": -37.31450653076172,
          "pc2": 75.28205871582031
         },
         {
          "pc1": -36.30543518066406,
          "pc2": 59.99140167236328
         },
         {
          "pc1": -43.74830627441406,
          "pc2": -47.19277572631836
         },
         {
          "pc1": -46.87230682373047,
          "pc2": -45.88145065307617
         },
         {
          "pc1": -2.048207998275757,
          "pc2": -82.03723907470703
         },
         {
          "pc1": -39.19475173950195,
          "pc2": -47.12749099731445
         },
         {
          "pc1": -0.8249850869178772,
          "pc2": -30.13619613647461
         },
         {
          "pc1": 42.30047607421875,
          "pc2": -26.194948196411133
         },
         {
          "pc1": -11.470369338989258,
          "pc2": -51.19243621826172
         },
         {
          "pc1": -46.77566909790039,
          "pc2": -44.04377365112305
         },
         {
          "pc1": -16.67080307006836,
          "pc2": -50.48255920410156
         },
         {
          "pc1": 44.296600341796875,
          "pc2": -52.35990524291992
         },
         {
          "pc1": -46.198001861572266,
          "pc2": -46.25251770019531
         },
         {
          "pc1": 1.377133846282959,
          "pc2": -30.8514347076416
         },
         {
          "pc1": 10.793960571289062,
          "pc2": -41.35082244873047
         },
         {
          "pc1": 19.69918441772461,
          "pc2": 9.695191383361816
         },
         {
          "pc1": -27.298044204711914,
          "pc2": 15.514192581176758
         },
         {
          "pc1": 8.501557350158691,
          "pc2": -45.4656867980957
         },
         {
          "pc1": 11.99172306060791,
          "pc2": 4.435678482055664
         },
         {
          "pc1": 5.9724602699279785,
          "pc2": 26.966495513916016
         },
         {
          "pc1": 52.27462387084961,
          "pc2": -2.97094464302063
         },
         {
          "pc1": 61.17574691772461,
          "pc2": -2.9524343013763428
         },
         {
          "pc1": 5.953726291656494,
          "pc2": 45.53138732910156
         },
         {
          "pc1": -38.03628158569336,
          "pc2": -48.445213317871094
         },
         {
          "pc1": -0.4205158054828644,
          "pc2": 19.87171173095703
         },
         {
          "pc1": 8.336020469665527,
          "pc2": 29.50016212463379
         },
         {
          "pc1": 3.8804640769958496,
          "pc2": -46.755558013916016
         },
         {
          "pc1": 34.745338439941406,
          "pc2": -62.60725784301758
         },
         {
          "pc1": 34.75298309326172,
          "pc2": 51.51070785522461
         },
         {
          "pc1": 24.501646041870117,
          "pc2": 27.731992721557617
         },
         {
          "pc1": -37.66639709472656,
          "pc2": -44.050315856933594
         },
         {
          "pc1": -10.180927276611328,
          "pc2": 39.83750534057617
         },
         {
          "pc1": 17.704439163208008,
          "pc2": 27.701032638549805
         },
         {
          "pc1": 61.388267517089844,
          "pc2": -2.6147031784057617
         },
         {
          "pc1": -33.20519256591797,
          "pc2": 14.415635108947754
         },
         {
          "pc1": -6.885072708129883,
          "pc2": 41.302337646484375
         },
         {
          "pc1": -6.828704357147217,
          "pc2": -83.36307525634766
         },
         {
          "pc1": -26.804983139038086,
          "pc2": 39.514373779296875
         },
         {
          "pc1": -12.492637634277344,
          "pc2": -50.955116271972656
         },
         {
          "pc1": 27.73904800415039,
          "pc2": -69.10128021240234
         },
         {
          "pc1": -8.872638702392578,
          "pc2": -55.9366340637207
         },
         {
          "pc1": 41.57048416137695,
          "pc2": -57.38241958618164
         },
         {
          "pc1": 57.89597702026367,
          "pc2": 23.967063903808594
         },
         {
          "pc1": 25.22199058532715,
          "pc2": 40.625083923339844
         },
         {
          "pc1": -1.33791983127594,
          "pc2": -51.79319763183594
         },
         {
          "pc1": 9.148033142089844,
          "pc2": 27.93160629272461
         },
         {
          "pc1": 25.562231063842773,
          "pc2": -70.92805480957031
         },
         {
          "pc1": 26.476587295532227,
          "pc2": -65.74137115478516
         },
         {
          "pc1": -5.175835132598877,
          "pc2": -51.72841262817383
         },
         {
          "pc1": -5.431998252868652,
          "pc2": -51.91449737548828
         },
         {
          "pc1": 2.7788281440734863,
          "pc2": -51.87375259399414
         },
         {
          "pc1": -14.542370796203613,
          "pc2": -82.43154907226562
         },
         {
          "pc1": -31.78691864013672,
          "pc2": -48.53959655761719
         },
         {
          "pc1": 45.91313552856445,
          "pc2": 54.75736618041992
         },
         {
          "pc1": 21.808935165405273,
          "pc2": -73.1358871459961
         },
         {
          "pc1": -64.73735809326172,
          "pc2": -21.383243560791016
         },
         {
          "pc1": 0.2214735895395279,
          "pc2": 70.21487426757812
         },
         {
          "pc1": -32.80199432373047,
          "pc2": 19.824121475219727
         },
         {
          "pc1": -55.343162536621094,
          "pc2": -11.051137924194336
         },
         {
          "pc1": -64.00729370117188,
          "pc2": -21.244049072265625
         },
         {
          "pc1": 1.0144063234329224,
          "pc2": 72.8009033203125
         },
         {
          "pc1": -18.363140106201172,
          "pc2": -73.5118637084961
         },
         {
          "pc1": -19.563901901245117,
          "pc2": 60.84932327270508
         },
         {
          "pc1": -37.443729400634766,
          "pc2": 71.70391082763672
         },
         {
          "pc1": 15.162812232971191,
          "pc2": 29.547330856323242
         },
         {
          "pc1": 26.033401489257812,
          "pc2": 25.35419464111328
         },
         {
          "pc1": -40.31735610961914,
          "pc2": 53.29043197631836
         },
         {
          "pc1": -21.71592140197754,
          "pc2": 38.30809020996094
         },
         {
          "pc1": -0.7461058497428894,
          "pc2": 43.16676712036133
         },
         {
          "pc1": -46.56828689575195,
          "pc2": -15.563511848449707
         },
         {
          "pc1": -15.788918495178223,
          "pc2": -81.56172180175781
         },
         {
          "pc1": 31.137889862060547,
          "pc2": -67.06542205810547
         },
         {
          "pc1": -19.409814834594727,
          "pc2": -22.5519962310791
         },
         {
          "pc1": -38.429386138916016,
          "pc2": 73.54841613769531
         },
         {
          "pc1": 17.902565002441406,
          "pc2": -75.85395050048828
         },
         {
          "pc1": -11.18010139465332,
          "pc2": 1.0924144983291626
         },
         {
          "pc1": -29.353879928588867,
          "pc2": 20.31309700012207
         },
         {
          "pc1": 0.27197933197021484,
          "pc2": -30.64385986328125
         },
         {
          "pc1": -64.00455474853516,
          "pc2": -21.445707321166992
         },
         {
          "pc1": 7.466610431671143,
          "pc2": 11.059733390808105
         },
         {
          "pc1": -32.55055618286133,
          "pc2": 12.984071731567383
         },
         {
          "pc1": 3.6619815826416016,
          "pc2": -37.523963928222656
         },
         {
          "pc1": 42.40043640136719,
          "pc2": -0.7210907936096191
         },
         {
          "pc1": 9.588106155395508,
          "pc2": -46.584327697753906
         },
         {
          "pc1": 6.545210361480713,
          "pc2": -33.40249252319336
         },
         {
          "pc1": -61.071964263916016,
          "pc2": -18.149044036865234
         },
         {
          "pc1": -55.27088928222656,
          "pc2": -11.560744285583496
         },
         {
          "pc1": -39.58979034423828,
          "pc2": -48.75027847290039
         },
         {
          "pc1": -63.00495529174805,
          "pc2": -21.793601989746094
         },
         {
          "pc1": 47.38288497924805,
          "pc2": 16.05556297302246
         },
         {
          "pc1": 6.077382564544678,
          "pc2": 4.5354204177856445
         },
         {
          "pc1": -16.616321563720703,
          "pc2": -24.22861671447754
         },
         {
          "pc1": 0.27381280064582825,
          "pc2": 20.048297882080078
         },
         {
          "pc1": 44.771514892578125,
          "pc2": -1.3099511861801147
         },
         {
          "pc1": -11.168121337890625,
          "pc2": -50.40135955810547
         },
         {
          "pc1": -30.876495361328125,
          "pc2": 40.432777404785156
         },
         {
          "pc1": -20.92820930480957,
          "pc2": 57.07036590576172
         },
         {
          "pc1": -40.80539321899414,
          "pc2": -47.98978805541992
         },
         {
          "pc1": -1.8879799842834473,
          "pc2": -7.071751594543457
         },
         {
          "pc1": -15.672892570495605,
          "pc2": -51.06010055541992
         },
         {
          "pc1": -38.61600875854492,
          "pc2": 60.79679489135742
         },
         {
          "pc1": 22.001787185668945,
          "pc2": -72.74650573730469
         },
         {
          "pc1": -7.678309917449951,
          "pc2": 61.07521057128906
         },
         {
          "pc1": -13.082298278808594,
          "pc2": 39.017852783203125
         },
         {
          "pc1": -42.18911361694336,
          "pc2": -10.442811965942383
         },
         {
          "pc1": -63.15764236450195,
          "pc2": -20.826419830322266
         },
         {
          "pc1": 6.357005596160889,
          "pc2": -33.3064079284668
         },
         {
          "pc1": 10.107564926147461,
          "pc2": -35.87483215332031
         },
         {
          "pc1": -7.145330905914307,
          "pc2": 70.57209014892578
         },
         {
          "pc1": -19.652849197387695,
          "pc2": -50.07456970214844
         },
         {
          "pc1": -33.429664611816406,
          "pc2": 21.760997772216797
         },
         {
          "pc1": 39.08454132080078,
          "pc2": -25.090906143188477
         },
         {
          "pc1": 0.9975959062576294,
          "pc2": 27.211185455322266
         },
         {
          "pc1": -12.146622657775879,
          "pc2": -27.27230453491211
         },
         {
          "pc1": -42.41006088256836,
          "pc2": -8.903645515441895
         },
         {
          "pc1": 29.17953109741211,
          "pc2": -62.2946891784668
         },
         {
          "pc1": 39.08946990966797,
          "pc2": 19.39105796813965
         },
         {
          "pc1": 10.80643367767334,
          "pc2": -42.539161682128906
         },
         {
          "pc1": -8.674518585205078,
          "pc2": -28.00240707397461
         },
         {
          "pc1": 29.09853744506836,
          "pc2": 47.16866683959961
         },
         {
          "pc1": -39.82710647583008,
          "pc2": -43.560035705566406
         },
         {
          "pc1": -12.597078323364258,
          "pc2": -4.361687183380127
         },
         {
          "pc1": 60.68938064575195,
          "pc2": -0.6415783166885376
         },
         {
          "pc1": -15.151371002197266,
          "pc2": 67.1180648803711
         },
         {
          "pc1": -6.107897758483887,
          "pc2": 25.521114349365234
         },
         {
          "pc1": 10.734784126281738,
          "pc2": 11.137523651123047
         },
         {
          "pc1": -23.77666473388672,
          "pc2": 54.9693717956543
         },
         {
          "pc1": -9.426806449890137,
          "pc2": 59.84663009643555
         },
         {
          "pc1": 36.1554069519043,
          "pc2": 52.015419006347656
         },
         {
          "pc1": -63.72532653808594,
          "pc2": -18.6678524017334
         },
         {
          "pc1": 10.026884078979492,
          "pc2": -46.518707275390625
         },
         {
          "pc1": -32.812782287597656,
          "pc2": 15.697403907775879
         },
         {
          "pc1": -36.22568893432617,
          "pc2": 42.694820404052734
         },
         {
          "pc1": -43.898921966552734,
          "pc2": -46.200164794921875
         },
         {
          "pc1": 4.197649955749512,
          "pc2": -32.164710998535156
         },
         {
          "pc1": 3.175426483154297,
          "pc2": -81.82687377929688
         },
         {
          "pc1": -2.879194498062134,
          "pc2": 41.77366256713867
         },
         {
          "pc1": -15.966631889343262,
          "pc2": -81.4771499633789
         },
         {
          "pc1": 6.491001605987549,
          "pc2": 45.11056900024414
         },
         {
          "pc1": -35.390106201171875,
          "pc2": -49.273555755615234
         },
         {
          "pc1": -0.9968652129173279,
          "pc2": -30.00140953063965
         },
         {
          "pc1": -16.3167781829834,
          "pc2": -54.43609619140625
         },
         {
          "pc1": -56.15846252441406,
          "pc2": -10.994970321655273
         },
         {
          "pc1": 40.522911071777344,
          "pc2": -59.195674896240234
         },
         {
          "pc1": 28.16023826599121,
          "pc2": -62.74184799194336
         },
         {
          "pc1": -11.665699005126953,
          "pc2": -3.8710684776306152
         },
         {
          "pc1": 7.087669849395752,
          "pc2": 4.35148811340332
         },
         {
          "pc1": 60.37672424316406,
          "pc2": 15.927240371704102
         },
         {
          "pc1": -3.0317859649658203,
          "pc2": -29.44693374633789
         },
         {
          "pc1": -40.33882522583008,
          "pc2": 53.44614791870117
         },
         {
          "pc1": 12.997783660888672,
          "pc2": -78.19425964355469
         },
         {
          "pc1": -4.583403587341309,
          "pc2": -29.877182006835938
         },
         {
          "pc1": -58.41847229003906,
          "pc2": -19.01227378845215
         },
         {
          "pc1": 3.897103786468506,
          "pc2": -31.064462661743164
         },
         {
          "pc1": -39.319602966308594,
          "pc2": 18.479385375976562
         },
         {
          "pc1": -22.853506088256836,
          "pc2": -54.61701965332031
         },
         {
          "pc1": -39.779808044433594,
          "pc2": 48.06040954589844
         },
         {
          "pc1": 27.76787567138672,
          "pc2": -18.027729034423828
         },
         {
          "pc1": 50.011348724365234,
          "pc2": 15.59511947631836
         },
         {
          "pc1": -6.559680938720703,
          "pc2": 41.3365592956543
         },
         {
          "pc1": 2.5075464248657227,
          "pc2": -36.588748931884766
         },
         {
          "pc1": 50.233177185058594,
          "pc2": 25.930835723876953
         },
         {
          "pc1": 32.31536102294922,
          "pc2": 49.85419464111328
         },
         {
          "pc1": 56.07590103149414,
          "pc2": 22.79140853881836
         },
         {
          "pc1": -40.11377716064453,
          "pc2": 54.93130874633789
         },
         {
          "pc1": -36.901920318603516,
          "pc2": -47.81316375732422
         },
         {
          "pc1": -18.321046829223633,
          "pc2": 61.97132110595703
         },
         {
          "pc1": 9.004203796386719,
          "pc2": -35.65605545043945
         },
         {
          "pc1": -54.86381912231445,
          "pc2": -17.362621307373047
         },
         {
          "pc1": 34.299949645996094,
          "pc2": -65.35948181152344
         },
         {
          "pc1": -17.484601974487305,
          "pc2": -23.574350357055664
         },
         {
          "pc1": -34.457645416259766,
          "pc2": -48.45733642578125
         },
         {
          "pc1": 41.76881408691406,
          "pc2": -55.90813064575195
         },
         {
          "pc1": -1.3888353109359741,
          "pc2": -13.172475814819336
         },
         {
          "pc1": -4.201391220092773,
          "pc2": -28.61284828186035
         },
         {
          "pc1": 53.755062103271484,
          "pc2": 54.38472366333008
         },
         {
          "pc1": 30.4577693939209,
          "pc2": -61.326087951660156
         },
         {
          "pc1": -38.203025817871094,
          "pc2": 62.170223236083984
         },
         {
          "pc1": -25.033309936523438,
          "pc2": -54.37847900390625
         },
         {
          "pc1": -37.02394104003906,
          "pc2": 67.64643859863281
         },
         {
          "pc1": -11.540531158447266,
          "pc2": -82.74888610839844
         },
         {
          "pc1": -21.974763870239258,
          "pc2": -21.259504318237305
         },
         {
          "pc1": -23.10281753540039,
          "pc2": 17.002307891845703
         },
         {
          "pc1": -0.4471423327922821,
          "pc2": 27.900760650634766
         },
         {
          "pc1": 49.634429931640625,
          "pc2": -2.3431451320648193
         },
         {
          "pc1": 11.30099105834961,
          "pc2": -41.08418273925781
         },
         {
          "pc1": -19.95203399658203,
          "pc2": -22.772289276123047
         },
         {
          "pc1": -44.881553649902344,
          "pc2": -40.71673583984375
         },
         {
          "pc1": -25.097362518310547,
          "pc2": -74.30955505371094
         },
         {
          "pc1": -0.6502857804298401,
          "pc2": -52.29277038574219
         },
         {
          "pc1": 32.7159538269043,
          "pc2": -20.481433868408203
         },
         {
          "pc1": -33.412960052490234,
          "pc2": -50.67265701293945
         },
         {
          "pc1": 40.88075256347656,
          "pc2": -57.08047103881836
         },
         {
          "pc1": -11.52674388885498,
          "pc2": 39.36532974243164
         },
         {
          "pc1": -31.261642456054688,
          "pc2": 41.02562713623047
         },
         {
          "pc1": -64.04015350341797,
          "pc2": -21.439096450805664
         },
         {
          "pc1": -28.691768646240234,
          "pc2": -48.18827819824219
         },
         {
          "pc1": -61.05569076538086,
          "pc2": -15.344159126281738
         },
         {
          "pc1": -37.25435256958008,
          "pc2": 13.801950454711914
         },
         {
          "pc1": 2.1413159370422363,
          "pc2": -36.38867950439453
         },
         {
          "pc1": 11.761942863464355,
          "pc2": -41.2822380065918
         },
         {
          "pc1": 7.533147811889648,
          "pc2": -34.127174377441406
         },
         {
          "pc1": -0.8808093070983887,
          "pc2": -13.68043041229248
         },
         {
          "pc1": 25.401195526123047,
          "pc2": 25.94208335876465
         },
         {
          "pc1": -37.07160949707031,
          "pc2": 68.75215148925781
         },
         {
          "pc1": 55.192264556884766,
          "pc2": -3.496131181716919
         },
         {
          "pc1": -46.858924865722656,
          "pc2": -45.88490676879883
         },
         {
          "pc1": -22.720870971679688,
          "pc2": -76.3528823852539
         },
         {
          "pc1": -10.66057014465332,
          "pc2": -82.23949432373047
         },
         {
          "pc1": -8.564004898071289,
          "pc2": -76.2761001586914
         },
         {
          "pc1": 8.953773498535156,
          "pc2": -47.08065414428711
         },
         {
          "pc1": -21.802433013916016,
          "pc2": 58.12163543701172
         },
         {
          "pc1": -19.92930793762207,
          "pc2": -50.05539321899414
         },
         {
          "pc1": 0.7200486063957214,
          "pc2": -30.779287338256836
         },
         {
          "pc1": -20.951017379760742,
          "pc2": -77.9241943359375
         },
         {
          "pc1": 5.455567836761475,
          "pc2": -79.40458679199219
         },
         {
          "pc1": 3.809006452560425,
          "pc2": -79.63226318359375
         },
         {
          "pc1": 35.867088317871094,
          "pc2": -62.714088439941406
         },
         {
          "pc1": -7.185328960418701,
          "pc2": -81.3716812133789
         },
         {
          "pc1": 2.193955421447754,
          "pc2": -14.511658668518066
         },
         {
          "pc1": 2.5487914085388184,
          "pc2": -51.92338562011719
         },
         {
          "pc1": -36.8488883972168,
          "pc2": 76.9532699584961
         },
         {
          "pc1": -15.978243827819824,
          "pc2": 65.59059143066406
         },
         {
          "pc1": -17.70503807067871,
          "pc2": -79.91737365722656
         },
         {
          "pc1": -62.56386184692383,
          "pc2": -20.69076156616211
         },
         {
          "pc1": 23.70296859741211,
          "pc2": -71.4046859741211
         },
         {
          "pc1": 39.416996002197266,
          "pc2": -58.99390411376953
         },
         {
          "pc1": 51.57564926147461,
          "pc2": -2.1472318172454834
         },
         {
          "pc1": -13.319171905517578,
          "pc2": -51.710243225097656
         },
         {
          "pc1": 6.693559646606445,
          "pc2": -49.5878791809082
         },
         {
          "pc1": 27.12732696533203,
          "pc2": -17.806079864501953
         },
         {
          "pc1": -41.70746612548828,
          "pc2": -10.362122535705566
         },
         {
          "pc1": -37.65919494628906,
          "pc2": 45.20446014404297
         },
         {
          "pc1": -58.81159210205078,
          "pc2": -11.585342407226562
         },
         {
          "pc1": -57.01424026489258,
          "pc2": -12.02038860321045
         },
         {
          "pc1": -8.958273887634277,
          "pc2": 26.4080867767334
         },
         {
          "pc1": 48.65690612792969,
          "pc2": -2.227155923843384
         },
         {
          "pc1": 19.172649383544922,
          "pc2": -74.8516845703125
         },
         {
          "pc1": -8.8296480178833,
          "pc2": -51.300209045410156
         },
         {
          "pc1": -13.143840789794922,
          "pc2": -25.128219604492188
         },
         {
          "pc1": -40.27323532104492,
          "pc2": 56.26393127441406
         },
         {
          "pc1": -7.316058158874512,
          "pc2": 40.207923889160156
         },
         {
          "pc1": 49.72352600097656,
          "pc2": 16.8092098236084
         },
         {
          "pc1": -30.2757511138916,
          "pc2": -16.68220329284668
         },
         {
          "pc1": -53.24263381958008,
          "pc2": -10.41332721710205
         },
         {
          "pc1": 26.160919189453125,
          "pc2": -71.71802520751953
         },
         {
          "pc1": 45.31132888793945,
          "pc2": 17.745298385620117
         },
         {
          "pc1": -30.856470108032227,
          "pc2": 40.18840789794922
         },
         {
          "pc1": -7.185558795928955,
          "pc2": 65.31134796142578
         },
         {
          "pc1": 21.961181640625,
          "pc2": -73.0136947631836
         },
         {
          "pc1": 1.2395007610321045,
          "pc2": -80.91255187988281
         },
         {
          "pc1": 60.44919967651367,
          "pc2": -3.190011978149414
         },
         {
          "pc1": -9.250092506408691,
          "pc2": -51.712032318115234
         },
         {
          "pc1": -4.165152549743652,
          "pc2": -82.828125
         },
         {
          "pc1": -19.511062622070312,
          "pc2": -22.547536849975586
         },
         {
          "pc1": 24.622291564941406,
          "pc2": -71.41942596435547
         },
         {
          "pc1": 0.548867404460907,
          "pc2": 70.49463653564453
         },
         {
          "pc1": -40.95720672607422,
          "pc2": 22.570537567138672
         },
         {
          "pc1": -23.981935501098633,
          "pc2": -49.23373794555664
         },
         {
          "pc1": 31.57401466369629,
          "pc2": -66.61395263671875
         },
         {
          "pc1": -6.057584762573242,
          "pc2": -10.593182563781738
         },
         {
          "pc1": -7.779448986053467,
          "pc2": 4.098583698272705
         },
         {
          "pc1": -14.019466400146484,
          "pc2": -55.40193557739258
         },
         {
          "pc1": 49.325889587402344,
          "pc2": -2.2747392654418945
         },
         {
          "pc1": -17.146263122558594,
          "pc2": 62.931739807128906
         },
         {
          "pc1": 60.7319221496582,
          "pc2": -3.9116413593292236
         },
         {
          "pc1": 27.551876068115234,
          "pc2": 25.040250778198242
         },
         {
          "pc1": 11.310550689697266,
          "pc2": -42.09580612182617
         },
         {
          "pc1": 40.630374908447266,
          "pc2": -56.26555633544922
         },
         {
          "pc1": 39.42243957519531,
          "pc2": -0.5873718857765198
         },
         {
          "pc1": 41.48091125488281,
          "pc2": -56.50768280029297
         },
         {
          "pc1": 28.420032501220703,
          "pc2": -68.78360748291016
         },
         {
          "pc1": -34.557369232177734,
          "pc2": -14.113105773925781
         },
         {
          "pc1": -16.196922302246094,
          "pc2": -54.45542907714844
         },
         {
          "pc1": -4.182076454162598,
          "pc2": -29.1241397857666
         },
         {
          "pc1": -26.816804885864258,
          "pc2": -17.532289505004883
         },
         {
          "pc1": 31.303508758544922,
          "pc2": 48.95157241821289
         },
         {
          "pc1": -1.2190278768539429,
          "pc2": -51.78315734863281
         },
         {
          "pc1": -28.783708572387695,
          "pc2": -19.762062072753906
         },
         {
          "pc1": 58.47174072265625,
          "pc2": 14.467279434204102
         },
         {
          "pc1": -32.71445846557617,
          "pc2": -15.614980697631836
         },
         {
          "pc1": 43.674983978271484,
          "pc2": 3.120556116104126
         },
         {
          "pc1": -10.700496673583984,
          "pc2": 69.96047973632812
         },
         {
          "pc1": 40.6834602355957,
          "pc2": -49.82332992553711
         },
         {
          "pc1": 39.41725158691406,
          "pc2": 0.2313246876001358
         },
         {
          "pc1": -25.895368576049805,
          "pc2": -49.38344192504883
         },
         {
          "pc1": 5.841507911682129,
          "pc2": -50.045127868652344
         },
         {
          "pc1": -21.365629196166992,
          "pc2": -22.0594482421875
         },
         {
          "pc1": -19.4576358795166,
          "pc2": 18.644332885742188
         },
         {
          "pc1": 26.923826217651367,
          "pc2": 24.65986442565918
         },
         {
          "pc1": -21.328197479248047,
          "pc2": 53.98134994506836
         },
         {
          "pc1": 59.2819938659668,
          "pc2": -3.192662239074707
         },
         {
          "pc1": 24.64293670654297,
          "pc2": -71.41067504882812
         },
         {
          "pc1": -60.794490814208984,
          "pc2": -14.4909086227417
         },
         {
          "pc1": -10.333871841430664,
          "pc2": -27.209125518798828
         },
         {
          "pc1": 6.299173355102539,
          "pc2": -79.1805419921875
         },
         {
          "pc1": 1.0638279914855957,
          "pc2": 28.65772819519043
         },
         {
          "pc1": -18.956520080566406,
          "pc2": -49.8809814453125
         },
         {
          "pc1": 60.98340606689453,
          "pc2": 18.353960037231445
         },
         {
          "pc1": 12.78447437286377,
          "pc2": 24.230497360229492
         },
         {
          "pc1": 9.252339363098145,
          "pc2": -79.00164031982422
         },
         {
          "pc1": 35.68912124633789,
          "pc2": -62.29383850097656
         },
         {
          "pc1": -0.11564139276742935,
          "pc2": 76.6103515625
         },
         {
          "pc1": -21.193336486816406,
          "pc2": 58.93019104003906
         },
         {
          "pc1": 17.811424255371094,
          "pc2": 8.519129753112793
         },
         {
          "pc1": -39.32436752319336,
          "pc2": -10.379535675048828
         },
         {
          "pc1": -25.67476463317871,
          "pc2": 16.987133026123047
         },
         {
          "pc1": -10.673011779785156,
          "pc2": -53.67438507080078
         },
         {
          "pc1": 7.155205726623535,
          "pc2": -48.87086868286133
         },
         {
          "pc1": -22.646650314331055,
          "pc2": 38.00100326538086
         },
         {
          "pc1": 8.301795959472656,
          "pc2": 29.8701171875
         },
         {
          "pc1": 5.083079814910889,
          "pc2": 44.83537673950195
         },
         {
          "pc1": -19.97688102722168,
          "pc2": 56.08162307739258
         },
         {
          "pc1": -6.4048848152160645,
          "pc2": -31.904829025268555
         },
         {
          "pc1": 61.27756881713867,
          "pc2": -0.9778844714164734
         },
         {
          "pc1": 6.330193519592285,
          "pc2": -49.631587982177734
         },
         {
          "pc1": 11.290493965148926,
          "pc2": -42.34353256225586
         },
         {
          "pc1": -62.14388656616211,
          "pc2": -16.849449157714844
         },
         {
          "pc1": -27.997325897216797,
          "pc2": -16.87769317626953
         },
         {
          "pc1": -12.894341468811035,
          "pc2": -82.37733459472656
         },
         {
          "pc1": -64.80455780029297,
          "pc2": -22.017887115478516
         },
         {
          "pc1": -27.629703521728516,
          "pc2": 20.659317016601562
         },
         {
          "pc1": -46.53392028808594,
          "pc2": -9.050731658935547
         },
         {
          "pc1": -5.348280906677246,
          "pc2": 68.28768157958984
         },
         {
          "pc1": 25.662702560424805,
          "pc2": -71.59559631347656
         },
         {
          "pc1": -63.64274978637695,
          "pc2": -22.195491790771484
         },
         {
          "pc1": -9.980890274047852,
          "pc2": -83.15187072753906
         },
         {
          "pc1": 16.14253044128418,
          "pc2": 6.40995454788208
         },
         {
          "pc1": -25.098115921020508,
          "pc2": -19.41796112060547
         },
         {
          "pc1": -23.59893798828125,
          "pc2": 19.516799926757812
         },
         {
          "pc1": 0.6192776560783386,
          "pc2": -30.600065231323242
         },
         {
          "pc1": -11.729302406311035,
          "pc2": -50.5219841003418
         },
         {
          "pc1": -60.25457000732422,
          "pc2": -13.818206787109375
         },
         {
          "pc1": -13.213115692138672,
          "pc2": 38.35049057006836
         },
         {
          "pc1": -33.25374221801758,
          "pc2": -14.99574089050293
         },
         {
          "pc1": -2.5393857955932617,
          "pc2": -28.00270652770996
         },
         {
          "pc1": 59.46784591674805,
          "pc2": -3.3153934478759766
         },
         {
          "pc1": 2.012727975845337,
          "pc2": 4.814480304718018
         },
         {
          "pc1": -7.487903594970703,
          "pc2": 72.1519775390625
         },
         {
          "pc1": 50.62963104248047,
          "pc2": -2.0639569759368896
         },
         {
          "pc1": -40.0858154296875,
          "pc2": -48.58171081542969
         },
         {
          "pc1": 2.390881061553955,
          "pc2": 71.94463348388672
         },
         {
          "pc1": 21.67176055908203,
          "pc2": 28.235034942626953
         },
         {
          "pc1": -19.158740997314453,
          "pc2": -79.04609680175781
         },
         {
          "pc1": -29.880813598632812,
          "pc2": 13.073736190795898
         },
         {
          "pc1": 5.597631454467773,
          "pc2": -32.851043701171875
         },
         {
          "pc1": 11.042059898376465,
          "pc2": -38.749229431152344
         },
         {
          "pc1": 6.086043357849121,
          "pc2": -30.627185821533203
         },
         {
          "pc1": 44.61821746826172,
          "pc2": -1.067962408065796
         },
         {
          "pc1": -20.48824691772461,
          "pc2": 57.34687042236328
         },
         {
          "pc1": -41.918277740478516,
          "pc2": 24.44108772277832
         },
         {
          "pc1": 19.372774124145508,
          "pc2": 29.494455337524414
         },
         {
          "pc1": -40.1214714050293,
          "pc2": -43.50966262817383
         },
         {
          "pc1": 52.41085433959961,
          "pc2": 46.49497604370117
         },
         {
          "pc1": -4.565411567687988,
          "pc2": -52.23472213745117
         },
         {
          "pc1": -42.91617202758789,
          "pc2": -46.68318557739258
         },
         {
          "pc1": -8.347737312316895,
          "pc2": -56.11542892456055
         },
         {
          "pc1": -36.88289260864258,
          "pc2": -12.369197845458984
         },
         {
          "pc1": 5.199379920959473,
          "pc2": -32.67893600463867
         },
         {
          "pc1": 45.8634033203125,
          "pc2": 26.687145233154297
         },
         {
          "pc1": 14.661911010742188,
          "pc2": 5.994016170501709
         },
         {
          "pc1": -63.8808708190918,
          "pc2": -19.180171966552734
         },
         {
          "pc1": -21.75415802001953,
          "pc2": 20.274444580078125
         },
         {
          "pc1": 23.51742172241211,
          "pc2": -73.2663345336914
         },
         {
          "pc1": -26.98597526550293,
          "pc2": 16.69370460510254
         },
         {
          "pc1": 45.979026794433594,
          "pc2": 54.75789260864258
         },
         {
          "pc1": 51.10271072387695,
          "pc2": 46.478763580322266
         },
         {
          "pc1": -3.7025656700134277,
          "pc2": 24.307294845581055
         },
         {
          "pc1": -17.871469497680664,
          "pc2": 63.63907241821289
         },
         {
          "pc1": -45.47407531738281,
          "pc2": -11.922733306884766
         },
         {
          "pc1": 19.849002838134766,
          "pc2": -74.62915802001953
         },
         {
          "pc1": -39.00414276123047,
          "pc2": -43.729915618896484
         },
         {
          "pc1": 24.77524757385254,
          "pc2": -70.75070190429688
         },
         {
          "pc1": -54.91975021362305,
          "pc2": -17.44285011291504
         },
         {
          "pc1": 27.618770599365234,
          "pc2": 23.412893295288086
         },
         {
          "pc1": -24.7100830078125,
          "pc2": -80.14881896972656
         },
         {
          "pc1": -33.81890869140625,
          "pc2": -20.79562759399414
         },
         {
          "pc1": -46.82304763793945,
          "pc2": -15.612534523010254
         },
         {
          "pc1": 56.18288040161133,
          "pc2": 15.998769760131836
         },
         {
          "pc1": 3.7986981868743896,
          "pc2": 44.24021530151367
         },
         {
          "pc1": 32.226318359375,
          "pc2": -66.91272735595703
         },
         {
          "pc1": 45.639984130859375,
          "pc2": -1.3331550359725952
         },
         {
          "pc1": 19.419282913208008,
          "pc2": -73.67919158935547
         },
         {
          "pc1": -36.67140197753906,
          "pc2": 76.27899169921875
         },
         {
          "pc1": 36.811397552490234,
          "pc2": 52.06071472167969
         },
         {
          "pc1": 57.91791915893555,
          "pc2": 22.80634880065918
         },
         {
          "pc1": -35.18062210083008,
          "pc2": -19.87753677368164
         },
         {
          "pc1": 11.426896095275879,
          "pc2": 4.342419147491455
         },
         {
          "pc1": -46.54270935058594,
          "pc2": -8.904311180114746
         },
         {
          "pc1": -13.117939949035645,
          "pc2": 38.326881408691406
         },
         {
          "pc1": -34.16606903076172,
          "pc2": 76.67947387695312
         },
         {
          "pc1": 8.498377799987793,
          "pc2": -34.81482696533203
         },
         {
          "pc1": -36.63383102416992,
          "pc2": 77.5438232421875
         },
         {
          "pc1": -40.07912063598633,
          "pc2": 55.437896728515625
         },
         {
          "pc1": -42.29985809326172,
          "pc2": -13.098466873168945
         },
         {
          "pc1": -38.15313720703125,
          "pc2": 62.399681091308594
         },
         {
          "pc1": 10.157816886901855,
          "pc2": -45.75052261352539
         },
         {
          "pc1": 5.989223480224609,
          "pc2": -49.78240966796875
         },
         {
          "pc1": -42.75423812866211,
          "pc2": -47.506370544433594
         },
         {
          "pc1": 38.79878616333008,
          "pc2": -59.5455436706543
         },
         {
          "pc1": -19.002031326293945,
          "pc2": -50.13531494140625
         },
         {
          "pc1": 46.51411056518555,
          "pc2": -47.45698547363281
         },
         {
          "pc1": -42.80154800415039,
          "pc2": -8.557670593261719
         },
         {
          "pc1": 0.33758044242858887,
          "pc2": -30.50766372680664
         },
         {
          "pc1": 28.758699417114258,
          "pc2": -69.20709991455078
         },
         {
          "pc1": -40.29939270019531,
          "pc2": -47.345767974853516
         },
         {
          "pc1": 7.358287811279297,
          "pc2": 44.6944580078125
         },
         {
          "pc1": -58.941463470458984,
          "pc2": -19.497299194335938
         },
         {
          "pc1": -36.087276458740234,
          "pc2": -13.811549186706543
         },
         {
          "pc1": 57.872314453125,
          "pc2": 22.79481315612793
         },
         {
          "pc1": 38.36094284057617,
          "pc2": 18.029212951660156
         },
         {
          "pc1": 3.7475624084472656,
          "pc2": -46.85902786254883
         },
         {
          "pc1": -7.84146785736084,
          "pc2": -83.21610260009766
         },
         {
          "pc1": -40.158172607421875,
          "pc2": 50.33362579345703
         },
         {
          "pc1": -37.33594512939453,
          "pc2": 71.39199829101562
         },
         {
          "pc1": -54.83885192871094,
          "pc2": -10.260890007019043
         },
         {
          "pc1": -11.673807144165039,
          "pc2": -26.691301345825195
         },
         {
          "pc1": 13.775650978088379,
          "pc2": -72.44721221923828
         },
         {
          "pc1": 56.67275619506836,
          "pc2": 22.756237030029297
         },
         {
          "pc1": -42.279701232910156,
          "pc2": -46.397579193115234
         },
         {
          "pc1": 17.534568786621094,
          "pc2": -15.102445602416992
         },
         {
          "pc1": -0.050093069672584534,
          "pc2": 26.95370101928711
         },
         {
          "pc1": -41.729557037353516,
          "pc2": -13.431180953979492
         },
         {
          "pc1": -27.80313491821289,
          "pc2": -22.614910125732422
         },
         {
          "pc1": 31.416353225708008,
          "pc2": 49.07035446166992
         },
         {
          "pc1": -3.3691465854644775,
          "pc2": -29.285539627075195
         },
         {
          "pc1": -42.47609329223633,
          "pc2": -8.561851501464844
         },
         {
          "pc1": -29.83700942993164,
          "pc2": -17.792545318603516
         },
         {
          "pc1": 1.4221656322479248,
          "pc2": -30.873096466064453
         },
         {
          "pc1": 44.365081787109375,
          "pc2": 26.088693618774414
         },
         {
          "pc1": -14.716140747070312,
          "pc2": -82.47896575927734
         },
         {
          "pc1": -31.627092361450195,
          "pc2": 39.75187683105469
         },
         {
          "pc1": -31.07642936706543,
          "pc2": -15.678911209106445
         },
         {
          "pc1": 6.0597734451293945,
          "pc2": 45.052284240722656
         },
         {
          "pc1": -63.44684982299805,
          "pc2": -21.394123077392578
         },
         {
          "pc1": 3.274355411529541,
          "pc2": 76.21623992919922
         },
         {
          "pc1": 41.59307098388672,
          "pc2": 18.830854415893555
         },
         {
          "pc1": 23.75130844116211,
          "pc2": -70.82353973388672
         },
         {
          "pc1": -62.01108169555664,
          "pc2": -17.21413803100586
         },
         {
          "pc1": 46.67842102050781,
          "pc2": -1.5358167886734009
         },
         {
          "pc1": -22.8904972076416,
          "pc2": 19.253124237060547
         },
         {
          "pc1": 45.38993835449219,
          "pc2": 15.732186317443848
         },
         {
          "pc1": -64.8077392578125,
          "pc2": -22.06441307067871
         },
         {
          "pc1": -12.042147636413574,
          "pc2": 38.63443374633789
         },
         {
          "pc1": 26.409814834594727,
          "pc2": 26.9912109375
         },
         {
          "pc1": -15.9704008102417,
          "pc2": -54.50612258911133
         },
         {
          "pc1": -30.532981872558594,
          "pc2": -18.868593215942383
         },
         {
          "pc1": -2.5022363662719727,
          "pc2": 18.793903350830078
         },
         {
          "pc1": -64.02657318115234,
          "pc2": -19.12765884399414
         },
         {
          "pc1": 4.243976593017578,
          "pc2": -32.9726448059082
         }
        ],
        "data-6bb33057d368836b7e40a97a98df06aa": [
         {
          "pc1": -37.0767707824707,
          "pc2": 25.08238983154297
         },
         {
          "pc1": -23.424413681030273,
          "pc2": -51.43772888183594
         },
         {
          "pc1": 39.49681854248047,
          "pc2": -58.44264602661133
         },
         {
          "pc1": 2.4930505752563477,
          "pc2": 44.08403396606445
         },
         {
          "pc1": -38.1654052734375,
          "pc2": 45.43975830078125
         },
         {
          "pc1": -25.46092414855957,
          "pc2": -19.576129913330078
         },
         {
          "pc1": -5.478897571563721,
          "pc2": 68.16820526123047
         },
         {
          "pc1": 11.483678817749023,
          "pc2": 30.39493751525879
         },
         {
          "pc1": 17.926448822021484,
          "pc2": 7.937899112701416
         },
         {
          "pc1": 3.7363572120666504,
          "pc2": -80.05350494384766
         },
         {
          "pc1": -7.708749771118164,
          "pc2": -51.939395904541016
         },
         {
          "pc1": 58.79148483276367,
          "pc2": 16.919647216796875
         },
         {
          "pc1": 0.25441810488700867,
          "pc2": 75.0763931274414
         },
         {
          "pc1": -18.112781524658203,
          "pc2": 63.3610954284668
         },
         {
          "pc1": 26.788801193237305,
          "pc2": -70.22154235839844
         },
         {
          "pc1": -2.0218379497528076,
          "pc2": -82.70791625976562
         },
         {
          "pc1": -19.439987182617188,
          "pc2": 21.0981388092041
         },
         {
          "pc1": 39.82790756225586,
          "pc2": 20.494670867919922
         },
         {
          "pc1": -47.21904754638672,
          "pc2": -9.413248062133789
         },
         {
          "pc1": 5.874727725982666,
          "pc2": -8.315132141113281
         },
         {
          "pc1": -11.646281242370605,
          "pc2": 71.22261810302734
         },
         {
          "pc1": -47.13258361816406,
          "pc2": -8.424779891967773
         },
         {
          "pc1": 0.6791213750839233,
          "pc2": -30.178035736083984
         },
         {
          "pc1": -24.20058822631836,
          "pc2": -73.96198272705078
         },
         {
          "pc1": 60.16578674316406,
          "pc2": -3.240079879760742
         },
         {
          "pc1": 9.922791481018066,
          "pc2": 27.024978637695312
         },
         {
          "pc1": -21.73206901550293,
          "pc2": -77.09098815917969
         },
         {
          "pc1": -1.1336984634399414,
          "pc2": -81.99707794189453
         },
         {
          "pc1": -31.92069435119629,
          "pc2": -15.875089645385742
         },
         {
          "pc1": 4.037614345550537,
          "pc2": 77.3719711303711
         },
         {
          "pc1": 43.71988296508789,
          "pc2": -52.48999786376953
         },
         {
          "pc1": -35.88365173339844,
          "pc2": 78.80632019042969
         },
         {
          "pc1": 43.201175689697266,
          "pc2": 17.48369026184082
         },
         {
          "pc1": -5.9484124183654785,
          "pc2": 27.03349494934082
         },
         {
          "pc1": -23.953752517700195,
          "pc2": 17.845949172973633
         },
         {
          "pc1": -39.914390563964844,
          "pc2": 48.396549224853516
         },
         {
          "pc1": 5.542550563812256,
          "pc2": -80.51762390136719
         },
         {
          "pc1": -14.715462684631348,
          "pc2": -79.50331115722656
         },
         {
          "pc1": 5.884374618530273,
          "pc2": -14.839200019836426
         },
         {
          "pc1": -36.75604248046875,
          "pc2": -12.560798645019531
         },
         {
          "pc1": -37.88502502441406,
          "pc2": 65.24415588378906
         },
         {
          "pc1": -38.58998489379883,
          "pc2": 60.95939254760742
         },
         {
          "pc1": -30.70330047607422,
          "pc2": -15.42249584197998
         },
         {
          "pc1": -31.37965965270996,
          "pc2": 14.61098575592041
         },
         {
          "pc1": -5.063155174255371,
          "pc2": -51.7053337097168
         },
         {
          "pc1": -45.205204010009766,
          "pc2": -15.44209098815918
         },
         {
          "pc1": -12.793147087097168,
          "pc2": 39.02738571166992
         },
         {
          "pc1": 39.62819290161133,
          "pc2": -57.96071243286133
         },
         {
          "pc1": -55.13492202758789,
          "pc2": -10.420658111572266
         },
         {
          "pc1": -47.1983642578125,
          "pc2": -42.67104721069336
         },
         {
          "pc1": 60.05727005004883,
          "pc2": -0.3739602267742157
         },
         {
          "pc1": 34.043792724609375,
          "pc2": 38.24916076660156
         },
         {
          "pc1": -8.239076614379883,
          "pc2": -76.0954360961914
         },
         {
          "pc1": -2.4876809120178223,
          "pc2": -12.83492660522461
         },
         {
          "pc1": -6.92590856552124,
          "pc2": 3.864198923110962
         },
         {
          "pc1": 4.693853378295898,
          "pc2": -79.84243774414062
         },
         {
          "pc1": -7.262444019317627,
          "pc2": -28.253253936767578
         },
         {
          "pc1": -8.163731575012207,
          "pc2": 26.03196144104004
         },
         {
          "pc1": 38.19084167480469,
          "pc2": 18.417940139770508
         },
         {
          "pc1": 30.137975692749023,
          "pc2": -68.64154052734375
         },
         {
          "pc1": -42.880802154541016,
          "pc2": -8.557453155517578
         },
         {
          "pc1": -15.395928382873535,
          "pc2": 19.61155891418457
         },
         {
          "pc1": 55.08135986328125,
          "pc2": -3.781611680984497
         },
         {
          "pc1": -39.09144592285156,
          "pc2": 25.59429359436035
         },
         {
          "pc1": 60.45219039916992,
          "pc2": -0.5250073671340942
         },
         {
          "pc1": -0.16801153123378754,
          "pc2": -81.46369171142578
         },
         {
          "pc1": 11.302641868591309,
          "pc2": -41.057334899902344
         },
         {
          "pc1": -22.021974563598633,
          "pc2": 54.148284912109375
         },
         {
          "pc1": 44.84739303588867,
          "pc2": 15.95171070098877
         },
         {
          "pc1": 6.3051042556762695,
          "pc2": 45.07100296020508
         },
         {
          "pc1": -38.7465934753418,
          "pc2": 25.179931640625
         },
         {
          "pc1": 41.19089889526367,
          "pc2": 18.493621826171875
         },
         {
          "pc1": 14.838214874267578,
          "pc2": -14.831463813781738
         },
         {
          "pc1": 6.888062000274658,
          "pc2": -28.682321548461914
         },
         {
          "pc1": 40.485511779785156,
          "pc2": 3.112795352935791
         },
         {
          "pc1": -13.349210739135742,
          "pc2": 38.92460632324219
         },
         {
          "pc1": -0.7923298478126526,
          "pc2": -82.99346160888672
         },
         {
          "pc1": -11.886695861816406,
          "pc2": 35.091796875
         },
         {
          "pc1": -33.96030807495117,
          "pc2": -48.51751708984375
         },
         {
          "pc1": 3.114926815032959,
          "pc2": -14.681599617004395
         },
         {
          "pc1": 22.266141891479492,
          "pc2": 27.46696662902832
         },
         {
          "pc1": 0.6975585222244263,
          "pc2": -14.624351501464844
         },
         {
          "pc1": -36.74284744262695,
          "pc2": 77.18384552001953
         },
         {
          "pc1": -61.815818786621094,
          "pc2": -16.676498413085938
         },
         {
          "pc1": 12.839865684509277,
          "pc2": -78.10401916503906
         },
         {
          "pc1": 39.33751678466797,
          "pc2": -57.59577560424805
         },
         {
          "pc1": -33.4476318359375,
          "pc2": -50.65798568725586
         },
         {
          "pc1": 59.19071960449219,
          "pc2": 16.697484970092773
         },
         {
          "pc1": -4.876307010650635,
          "pc2": 41.60184860229492
         },
         {
          "pc1": 36.37071228027344,
          "pc2": -61.642250061035156
         },
         {
          "pc1": 5.095353603363037,
          "pc2": -33.45599365234375
         },
         {
          "pc1": -22.135351181030273,
          "pc2": 57.290042877197266
         },
         {
          "pc1": -20.213300704956055,
          "pc2": -48.90337371826172
         },
         {
          "pc1": 8.899613380432129,
          "pc2": -36.11112976074219
         },
         {
          "pc1": -17.086090087890625,
          "pc2": 19.860095977783203
         },
         {
          "pc1": -6.896327972412109,
          "pc2": 63.14019012451172
         },
         {
          "pc1": -35.252525329589844,
          "pc2": -19.83888816833496
         },
         {
          "pc1": -29.376811981201172,
          "pc2": -16.905017852783203
         },
         {
          "pc1": -2.740377902984619,
          "pc2": 42.08477783203125
         },
         {
          "pc1": 55.30554962158203,
          "pc2": 53.98923110961914
         },
         {
          "pc1": 45.622676849365234,
          "pc2": -48.523677825927734
         },
         {
          "pc1": -37.78776168823242,
          "pc2": 64.93531799316406
         },
         {
          "pc1": 6.98275899887085,
          "pc2": 29.358692169189453
         },
         {
          "pc1": -38.028648376464844,
          "pc2": 14.440896034240723
         },
         {
          "pc1": 9.594512939453125,
          "pc2": -47.09089660644531
         },
         {
          "pc1": 11.909844398498535,
          "pc2": 12.676088333129883
         },
         {
          "pc1": -9.736824035644531,
          "pc2": -51.601985931396484
         },
         {
          "pc1": -31.765186309814453,
          "pc2": -15.068612098693848
         },
         {
          "pc1": -5.015076160430908,
          "pc2": 25.41495132446289
         },
         {
          "pc1": -6.79672384262085,
          "pc2": 63.29768753051758
         },
         {
          "pc1": 1.7233943939208984,
          "pc2": -81.33397674560547
         },
         {
          "pc1": -34.48092269897461,
          "pc2": -48.972511291503906
         },
         {
          "pc1": 8.364624977111816,
          "pc2": 28.359275817871094
         },
         {
          "pc1": 3.313720226287842,
          "pc2": 28.105224609375
         },
         {
          "pc1": 40.537437438964844,
          "pc2": -0.6962795853614807
         },
         {
          "pc1": 24.40691566467285,
          "pc2": -71.7996597290039
         },
         {
          "pc1": -4.078829288482666,
          "pc2": 23.933650970458984
         },
         {
          "pc1": 42.37603759765625,
          "pc2": -50.89619064331055
         },
         {
          "pc1": 0.6242364048957825,
          "pc2": 77.0325698852539
         },
         {
          "pc1": -62.88240432739258,
          "pc2": -21.496068954467773
         },
         {
          "pc1": -40.028350830078125,
          "pc2": 22.013046264648438
         },
         {
          "pc1": 3.1653475761413574,
          "pc2": -51.78175735473633
         },
         {
          "pc1": 17.76338768005371,
          "pc2": -76.48487091064453
         },
         {
          "pc1": 39.487640380859375,
          "pc2": -59.671451568603516
         },
         {
          "pc1": -29.368825912475586,
          "pc2": 39.32769775390625
         },
         {
          "pc1": -63.29310607910156,
          "pc2": -20.866655349731445
         },
         {
          "pc1": 0.8493350148200989,
          "pc2": -51.5285530090332
         },
         {
          "pc1": -17.57646369934082,
          "pc2": 63.685970306396484
         },
         {
          "pc1": -24.443525314331055,
          "pc2": -48.69981002807617
         },
         {
          "pc1": -4.59301233291626,
          "pc2": -10.792085647583008
         },
         {
          "pc1": 56.58427810668945,
          "pc2": 16.117786407470703
         },
         {
          "pc1": -9.777259826660156,
          "pc2": -76.75960540771484
         },
         {
          "pc1": 41.042667388916016,
          "pc2": 18.571971893310547
         },
         {
          "pc1": -63.1583137512207,
          "pc2": -24.925256729125977
         },
         {
          "pc1": -50.30027770996094,
          "pc2": -9.145099639892578
         },
         {
          "pc1": 42.4290885925293,
          "pc2": 19.573196411132812
         },
         {
          "pc1": -10.231135368347168,
          "pc2": -76.83109283447266
         },
         {
          "pc1": -24.996196746826172,
          "pc2": -73.97679901123047
         },
         {
          "pc1": 28.963890075683594,
          "pc2": -18.14087677001953
         },
         {
          "pc1": -6.212276458740234,
          "pc2": 74.89083862304688
         },
         {
          "pc1": 9.673185348510742,
          "pc2": 28.007444381713867
         },
         {
          "pc1": 56.21891784667969,
          "pc2": 24.0828857421875
         },
         {
          "pc1": -3.0942044258117676,
          "pc2": 74.03209686279297
         },
         {
          "pc1": -12.206830978393555,
          "pc2": -5.482614994049072
         },
         {
          "pc1": -38.43370819091797,
          "pc2": 18.03476333618164
         },
         {
          "pc1": 2.6990551948547363,
          "pc2": -51.267173767089844
         },
         {
          "pc1": -7.920353412628174,
          "pc2": -83.215576171875
         },
         {
          "pc1": -37.2784423828125,
          "pc2": 70.53047943115234
         },
         {
          "pc1": -17.606765747070312,
          "pc2": 3.258798122406006
         },
         {
          "pc1": -1.35564386844635,
          "pc2": -81.91126251220703
         },
         {
          "pc1": -22.67608070373535,
          "pc2": 56.88248825073242
         },
         {
          "pc1": 13.450575828552246,
          "pc2": -78.23576354980469
         },
         {
          "pc1": 37.64851760864258,
          "pc2": -61.8193473815918
         },
         {
          "pc1": 54.8984489440918,
          "pc2": -3.037954568862915
         },
         {
          "pc1": 41.252960205078125,
          "pc2": -56.65345764160156
         },
         {
          "pc1": -37.95808410644531,
          "pc2": 67.41950225830078
         },
         {
          "pc1": 10.137312889099121,
          "pc2": -36.596431732177734
         },
         {
          "pc1": -26.864444732666016,
          "pc2": -18.192241668701172
         },
         {
          "pc1": 20.571462631225586,
          "pc2": 28.99763298034668
         },
         {
          "pc1": -2.89815616607666,
          "pc2": 42.75794219970703
         },
         {
          "pc1": -36.23019027709961,
          "pc2": 57.56631088256836
         },
         {
          "pc1": 6.906959533691406,
          "pc2": -78.92526245117188
         },
         {
          "pc1": -25.593156814575195,
          "pc2": -19.715774536132812
         },
         {
          "pc1": 55.61918258666992,
          "pc2": -3.485246419906616
         },
         {
          "pc1": 8.912615776062012,
          "pc2": -32.52348709106445
         },
         {
          "pc1": 6.105700492858887,
          "pc2": 27.93918800354004
         },
         {
          "pc1": -7.002843856811523,
          "pc2": 74.93799591064453
         },
         {
          "pc1": -20.547767639160156,
          "pc2": -48.565120697021484
         },
         {
          "pc1": -54.344505310058594,
          "pc2": -10.038165092468262
         },
         {
          "pc1": -39.84076690673828,
          "pc2": 47.951438903808594
         },
         {
          "pc1": -16.328571319580078,
          "pc2": 20.101709365844727
         },
         {
          "pc1": -18.518218994140625,
          "pc2": -23.31464195251465
         },
         {
          "pc1": -25.787630081176758,
          "pc2": -48.94451904296875
         },
         {
          "pc1": -4.57216215133667,
          "pc2": -82.62750244140625
         },
         {
          "pc1": -2.7371294498443604,
          "pc2": 23.83905601501465
         },
         {
          "pc1": -18.90141487121582,
          "pc2": -79.7488784790039
         },
         {
          "pc1": -11.812909126281738,
          "pc2": -50.1193962097168
         },
         {
          "pc1": -15.37908935546875,
          "pc2": -25.424392700195312
         },
         {
          "pc1": 34.40491485595703,
          "pc2": 38.68510818481445
         },
         {
          "pc1": 40.59957504272461,
          "pc2": -49.97320556640625
         },
         {
          "pc1": -31.951677322387695,
          "pc2": 40.626102447509766
         },
         {
          "pc1": -19.615163803100586,
          "pc2": 37.90283966064453
         },
         {
          "pc1": 2.991518020629883,
          "pc2": 77.1938705444336
         },
         {
          "pc1": -29.027908325195312,
          "pc2": 20.286325454711914
         },
         {
          "pc1": -6.909709930419922,
          "pc2": 74.47868347167969
         },
         {
          "pc1": -38.04045104980469,
          "pc2": 23.98717498779297
         },
         {
          "pc1": 0.3032473921775818,
          "pc2": -30.113956451416016
         },
         {
          "pc1": -39.51408767700195,
          "pc2": 17.358232498168945
         },
         {
          "pc1": 8.530315399169922,
          "pc2": -34.49174499511719
         },
         {
          "pc1": 3.6274611949920654,
          "pc2": 12.01269245147705
         },
         {
          "pc1": 0.3851720094680786,
          "pc2": 39.75617218017578
         },
         {
          "pc1": -37.44258117675781,
          "pc2": 16.157642364501953
         },
         {
          "pc1": -6.547060012817383,
          "pc2": 63.768699645996094
         },
         {
          "pc1": -37.303897857666016,
          "pc2": 71.80681610107422
         },
         {
          "pc1": -36.50082778930664,
          "pc2": 76.6044921875
         },
         {
          "pc1": 12.254117012023926,
          "pc2": -45.638671875
         },
         {
          "pc1": -36.91094207763672,
          "pc2": 73.99492645263672
         },
         {
          "pc1": -9.271178245544434,
          "pc2": -53.92354202270508
         },
         {
          "pc1": 45.80467224121094,
          "pc2": -51.37569808959961
         },
         {
          "pc1": -30.705678939819336,
          "pc2": 40.2161750793457
         },
         {
          "pc1": -33.31789779663086,
          "pc2": -48.51626205444336
         },
         {
          "pc1": -19.26348114013672,
          "pc2": 60.71437454223633
         },
         {
          "pc1": -10.345831871032715,
          "pc2": -53.75009536743164
         },
         {
          "pc1": -24.964778900146484,
          "pc2": -79.82360076904297
         },
         {
          "pc1": -3.6359870433807373,
          "pc2": -29.345596313476562
         },
         {
          "pc1": -15.423664093017578,
          "pc2": -50.58245849609375
         },
         {
          "pc1": -35.33627700805664,
          "pc2": -13.361471176147461
         },
         {
          "pc1": 57.36134338378906,
          "pc2": 23.952831268310547
         },
         {
          "pc1": -14.26247787475586,
          "pc2": -79.65090942382812
         },
         {
          "pc1": -31.140117645263672,
          "pc2": 40.304664611816406
         },
         {
          "pc1": -29.021907806396484,
          "pc2": 20.285951614379883
         },
         {
          "pc1": 60.59220504760742,
          "pc2": 19.02670669555664
         },
         {
          "pc1": 2.9262218475341797,
          "pc2": -32.378910064697266
         },
         {
          "pc1": -38.11554718017578,
          "pc2": 13.355542182922363
         },
         {
          "pc1": -26.99262046813965,
          "pc2": 39.179771423339844
         },
         {
          "pc1": 2.9888675212860107,
          "pc2": -52.874183654785156
         },
         {
          "pc1": -21.018604278564453,
          "pc2": 54.47929000854492
         },
         {
          "pc1": -3.330888509750366,
          "pc2": 4.589542388916016
         },
         {
          "pc1": 36.051605224609375,
          "pc2": -62.50994110107422
         },
         {
          "pc1": -42.5766716003418,
          "pc2": 19.48215675354004
         },
         {
          "pc1": 50.4222526550293,
          "pc2": -2.8353631496429443
         },
         {
          "pc1": -2.0158004760742188,
          "pc2": 19.0430965423584
         },
         {
          "pc1": -6.773209571838379,
          "pc2": 26.98981475830078
         },
         {
          "pc1": 15.008831024169922,
          "pc2": -77.11693572998047
         },
         {
          "pc1": 50.96001434326172,
          "pc2": 46.462127685546875
         },
         {
          "pc1": -5.885405540466309,
          "pc2": 4.886173248291016
         },
         {
          "pc1": -9.249503135681152,
          "pc2": 60.42830276489258
         },
         {
          "pc1": -31.89958381652832,
          "pc2": -15.893357276916504
         },
         {
          "pc1": 45.515777587890625,
          "pc2": -47.453365325927734
         },
         {
          "pc1": 37.99894714355469,
          "pc2": -61.278343200683594
         },
         {
          "pc1": 6.516803741455078,
          "pc2": 11.00951099395752
         },
         {
          "pc1": 2.5579638481140137,
          "pc2": 72.09814453125
         },
         {
          "pc1": -10.742805480957031,
          "pc2": 1.528093934059143
         },
         {
          "pc1": -0.30695661902427673,
          "pc2": 19.9051570892334
         },
         {
          "pc1": -43.967918395996094,
          "pc2": 23.300426483154297
         },
         {
          "pc1": 27.13254737854004,
          "pc2": 24.608383178710938
         },
         {
          "pc1": 22.804702758789062,
          "pc2": 24.746248245239258
         },
         {
          "pc1": 48.3514404296875,
          "pc2": 14.822345733642578
         },
         {
          "pc1": 27.454208374023438,
          "pc2": 23.720632553100586
         },
         {
          "pc1": 2.201115846633911,
          "pc2": 71.80443572998047
         },
         {
          "pc1": -14.73454475402832,
          "pc2": 19.955434799194336
         },
         {
          "pc1": -6.023118495941162,
          "pc2": -73.4188003540039
         },
         {
          "pc1": -32.452667236328125,
          "pc2": 14.450399398803711
         },
         {
          "pc1": -60.83124542236328,
          "pc2": -15.589781761169434
         },
         {
          "pc1": -8.625210762023926,
          "pc2": 57.78178024291992
         },
         {
          "pc1": -14.859415054321289,
          "pc2": 67.55362701416016
         },
         {
          "pc1": -8.575377464294434,
          "pc2": 40.30214309692383
         },
         {
          "pc1": 10.399375915527344,
          "pc2": -46.8441276550293
         },
         {
          "pc1": -10.5713529586792,
          "pc2": 34.853187561035156
         },
         {
          "pc1": -12.308577537536621,
          "pc2": -26.780609130859375
         },
         {
          "pc1": 4.905998229980469,
          "pc2": -14.706774711608887
         },
         {
          "pc1": -8.3452730178833,
          "pc2": 59.286964416503906
         },
         {
          "pc1": 44.96249771118164,
          "pc2": -53.20037078857422
         },
         {
          "pc1": -5.978039741516113,
          "pc2": 73.5789566040039
         },
         {
          "pc1": -12.325233459472656,
          "pc2": -82.70036315917969
         },
         {
          "pc1": 13.63426685333252,
          "pc2": -77.82079315185547
         },
         {
          "pc1": -15.959955215454102,
          "pc2": -29.308984756469727
         },
         {
          "pc1": -28.64177131652832,
          "pc2": 13.415975570678711
         },
         {
          "pc1": 52.05653381347656,
          "pc2": 44.94218063354492
         },
         {
          "pc1": 0.15425492823123932,
          "pc2": -51.767730712890625
         },
         {
          "pc1": 61.297420501708984,
          "pc2": -2.8876893520355225
         },
         {
          "pc1": 9.17556381225586,
          "pc2": 28.48493194580078
         },
         {
          "pc1": 45.83348083496094,
          "pc2": 55.50471496582031
         },
         {
          "pc1": 44.23786163330078,
          "pc2": 26.14360237121582
         },
         {
          "pc1": -5.005270957946777,
          "pc2": -79.2699966430664
         },
         {
          "pc1": 8.494036674499512,
          "pc2": -79.5094223022461
         },
         {
          "pc1": -19.792747497558594,
          "pc2": -21.149898529052734
         },
         {
          "pc1": -3.6924350261688232,
          "pc2": 42.1998405456543
         },
         {
          "pc1": -28.90567398071289,
          "pc2": -48.26494216918945
         },
         {
          "pc1": -11.873422622680664,
          "pc2": -4.6122965812683105
         },
         {
          "pc1": 2.679678440093994,
          "pc2": 78.03514099121094
         },
         {
          "pc1": -17.200618743896484,
          "pc2": 3.643071413040161
         },
         {
          "pc1": -30.060752868652344,
          "pc2": -16.720212936401367
         },
         {
          "pc1": -26.17771339416504,
          "pc2": -73.24622344970703
         },
         {
          "pc1": -31.929039001464844,
          "pc2": 19.501670837402344
         },
         {
          "pc1": 7.408131122589111,
          "pc2": -33.53032302856445
         },
         {
          "pc1": -12.716156005859375,
          "pc2": -25.55338478088379
         },
         {
          "pc1": -41.387630462646484,
          "pc2": 26.01974868774414
         },
         {
          "pc1": -40.974830627441406,
          "pc2": 50.76136016845703
         },
         {
          "pc1": -39.11411666870117,
          "pc2": -11.359244346618652
         },
         {
          "pc1": 45.5047492980957,
          "pc2": -49.361392974853516
         },
         {
          "pc1": 14.291926383972168,
          "pc2": 28.19562530517578
         },
         {
          "pc1": -6.968696117401123,
          "pc2": -75.37828063964844
         },
         {
          "pc1": -29.180740356445312,
          "pc2": -51.86319351196289
         },
         {
          "pc1": 29.689905166625977,
          "pc2": -68.50453186035156
         },
         {
          "pc1": 46.527339935302734,
          "pc2": -48.52105712890625
         },
         {
          "pc1": 11.241402626037598,
          "pc2": -38.33932113647461
         },
         {
          "pc1": 42.213653564453125,
          "pc2": -1.1246403455734253
         },
         {
          "pc1": 43.65188980102539,
          "pc2": -0.8856022953987122
         },
         {
          "pc1": 26.81861114501953,
          "pc2": -17.678197860717773
         },
         {
          "pc1": -40.87009048461914,
          "pc2": 44.22520446777344
         },
         {
          "pc1": -12.509973526000977,
          "pc2": 39.01888656616211
         },
         {
          "pc1": -6.139610290527344,
          "pc2": -83.17525482177734
         },
         {
          "pc1": -29.8516902923584,
          "pc2": -19.12648582458496
         },
         {
          "pc1": -5.871387004852295,
          "pc2": -79.02291870117188
         },
         {
          "pc1": -35.54393768310547,
          "pc2": 43.05550765991211
         },
         {
          "pc1": 33.20087432861328,
          "pc2": 50.58585739135742
         },
         {
          "pc1": -28.898561477661133,
          "pc2": 20.257532119750977
         },
         {
          "pc1": -44.071495056152344,
          "pc2": -47.64796447753906
         },
         {
          "pc1": -36.26002883911133,
          "pc2": 58.20627975463867
         },
         {
          "pc1": -31.82782745361328,
          "pc2": 15.693424224853516
         },
         {
          "pc1": -50.46426773071289,
          "pc2": -13.2037992477417
         },
         {
          "pc1": 39.53327560424805,
          "pc2": -51.50551986694336
         },
         {
          "pc1": 51.15363693237305,
          "pc2": -3.1033945083618164
         },
         {
          "pc1": -4.3385443687438965,
          "pc2": 41.797611236572266
         },
         {
          "pc1": 10.347929954528809,
          "pc2": -39.231040954589844
         },
         {
          "pc1": 12.469627380371094,
          "pc2": -73.14633178710938
         },
         {
          "pc1": -20.256004333496094,
          "pc2": 38.61660385131836
         },
         {
          "pc1": -14.390047073364258,
          "pc2": 68.13619232177734
         },
         {
          "pc1": -20.984371185302734,
          "pc2": -20.925647735595703
         },
         {
          "pc1": -27.06624984741211,
          "pc2": -73.23759460449219
         },
         {
          "pc1": 59.2725830078125,
          "pc2": 54.868717193603516
         },
         {
          "pc1": 1.2400002479553223,
          "pc2": -31.47505760192871
         },
         {
          "pc1": 1.5953660011291504,
          "pc2": 27.775928497314453
         },
         {
          "pc1": 21.25334930419922,
          "pc2": -73.4854507446289
         },
         {
          "pc1": 54.509578704833984,
          "pc2": 17.100372314453125
         },
         {
          "pc1": 5.731039524078369,
          "pc2": -31.879804611206055
         },
         {
          "pc1": -10.017875671386719,
          "pc2": -27.2226619720459
         },
         {
          "pc1": 39.805477142333984,
          "pc2": 20.506271362304688
         },
         {
          "pc1": 8.135247230529785,
          "pc2": -79.05844116210938
         },
         {
          "pc1": 4.29531192779541,
          "pc2": 3.82177734375
         },
         {
          "pc1": -7.24867057800293,
          "pc2": 40.43143844604492
         },
         {
          "pc1": -1.5303089618682861,
          "pc2": -81.54883575439453
         },
         {
          "pc1": 35.95720672607422,
          "pc2": -23.269798278808594
         },
         {
          "pc1": -22.825973510742188,
          "pc2": 18.3161563873291
         },
         {
          "pc1": 6.635347843170166,
          "pc2": -33.115379333496094
         },
         {
          "pc1": -1.2237907648086548,
          "pc2": 75.24508666992188
         },
         {
          "pc1": 25.090349197387695,
          "pc2": 40.12959671020508
         },
         {
          "pc1": -10.226951599121094,
          "pc2": -50.976985931396484
         },
         {
          "pc1": 51.67818832397461,
          "pc2": 0.5750480890274048
         },
         {
          "pc1": -50.79143142700195,
          "pc2": -8.392227172851562
         },
         {
          "pc1": -43.440364837646484,
          "pc2": -47.343780517578125
         },
         {
          "pc1": -8.17434024810791,
          "pc2": 59.62758255004883
         },
         {
          "pc1": -22.938308715820312,
          "pc2": 56.522159576416016
         },
         {
          "pc1": 15.910676956176758,
          "pc2": 29.558427810668945
         },
         {
          "pc1": 39.84340286254883,
          "pc2": 53.5843391418457
         },
         {
          "pc1": -40.858917236328125,
          "pc2": 17.311119079589844
         },
         {
          "pc1": 9.52662181854248,
          "pc2": 12.312397956848145
         },
         {
          "pc1": 32.048221588134766,
          "pc2": 49.56216812133789
         },
         {
          "pc1": 10.376527786254883,
          "pc2": 12.39330768585205
         },
         {
          "pc1": 12.387626647949219,
          "pc2": 4.539535999298096
         },
         {
          "pc1": 26.510705947875977,
          "pc2": -65.6935043334961
         },
         {
          "pc1": -4.4674224853515625,
          "pc2": -29.925418853759766
         },
         {
          "pc1": -0.2627318501472473,
          "pc2": -82.92980194091797
         },
         {
          "pc1": -7.769883632659912,
          "pc2": 41.035133361816406
         },
         {
          "pc1": -10.096397399902344,
          "pc2": -83.03748321533203
         },
         {
          "pc1": -29.560537338256836,
          "pc2": -48.75939178466797
         },
         {
          "pc1": -36.3410530090332,
          "pc2": -14.297003746032715
         },
         {
          "pc1": 49.95353698730469,
          "pc2": 27.055368423461914
         },
         {
          "pc1": 5.710067272186279,
          "pc2": -33.088138580322266
         },
         {
          "pc1": -55.529972076416016,
          "pc2": -11.701682090759277
         },
         {
          "pc1": -34.80895233154297,
          "pc2": -13.784782409667969
         },
         {
          "pc1": -45.366554260253906,
          "pc2": -46.015926361083984
         },
         {
          "pc1": 0.6621441841125488,
          "pc2": -81.58255004882812
         },
         {
          "pc1": 20.603300094604492,
          "pc2": 23.872928619384766
         },
         {
          "pc1": -41.92400360107422,
          "pc2": 25.0981502532959
         },
         {
          "pc1": 11.767943382263184,
          "pc2": -41.626014709472656
         },
         {
          "pc1": -36.435489654541016,
          "pc2": 43.284122467041016
         },
         {
          "pc1": -37.74308395385742,
          "pc2": 15.6736478805542
         },
         {
          "pc1": -18.856698989868164,
          "pc2": -49.49363708496094
         },
         {
          "pc1": 45.830322265625,
          "pc2": 54.765445709228516
         },
         {
          "pc1": -4.148277759552002,
          "pc2": 25.926557540893555
         },
         {
          "pc1": -34.135833740234375,
          "pc2": 22.26691246032715
         },
         {
          "pc1": -39.401302337646484,
          "pc2": 60.126747131347656
         },
         {
          "pc1": 37.52460861206055,
          "pc2": 0.12306006252765656
         },
         {
          "pc1": 26.181964874267578,
          "pc2": 27.284271240234375
         },
         {
          "pc1": -37.25973129272461,
          "pc2": 74.92694854736328
         },
         {
          "pc1": 4.091185092926025,
          "pc2": 3.260680913925171
         },
         {
          "pc1": -37.4322509765625,
          "pc2": 70.38678741455078
         },
         {
          "pc1": -26.669361114501953,
          "pc2": -74.18680572509766
         },
         {
          "pc1": 16.505834579467773,
          "pc2": -78.5866470336914
         },
         {
          "pc1": 25.357074737548828,
          "pc2": 24.297670364379883
         },
         {
          "pc1": -10.265311241149902,
          "pc2": -28.027713775634766
         },
         {
          "pc1": 9.242682456970215,
          "pc2": 45.40785598754883
         },
         {
          "pc1": -22.81523323059082,
          "pc2": -75.89188385009766
         },
         {
          "pc1": 41.060150146484375,
          "pc2": -57.212162017822266
         },
         {
          "pc1": 6.330201625823975,
          "pc2": -49.33970260620117
         },
         {
          "pc1": -25.80043601989746,
          "pc2": -54.4726448059082
         },
         {
          "pc1": 14.768499374389648,
          "pc2": -15.129312515258789
         },
         {
          "pc1": 26.09322166442871,
          "pc2": 23.719383239746094
         },
         {
          "pc1": 16.358482360839844,
          "pc2": -78.66961669921875
         },
         {
          "pc1": -25.48008155822754,
          "pc2": -75.3301010131836
         },
         {
          "pc1": -6.592278957366943,
          "pc2": -31.825719833374023
         },
         {
          "pc1": -18.824819564819336,
          "pc2": 61.89866638183594
         },
         {
          "pc1": -8.646506309509277,
          "pc2": -50.72296905517578
         },
         {
          "pc1": -29.37202262878418,
          "pc2": -17.078502655029297
         },
         {
          "pc1": 1.2455726861953735,
          "pc2": 27.717100143432617
         },
         {
          "pc1": -9.985808372497559,
          "pc2": 70.48619079589844
         },
         {
          "pc1": 23.921829223632812,
          "pc2": -16.454914093017578
         },
         {
          "pc1": 29.99065399169922,
          "pc2": -66.2287826538086
         },
         {
          "pc1": -6.867570400238037,
          "pc2": 25.30975914001465
         },
         {
          "pc1": 2.5716562271118164,
          "pc2": -51.014705657958984
         },
         {
          "pc1": -25.325105667114258,
          "pc2": -19.289548873901367
         },
         {
          "pc1": 7.150097846984863,
          "pc2": -48.87478256225586
         },
         {
          "pc1": 3.580202102661133,
          "pc2": -14.77629280090332
         },
         {
          "pc1": -37.417205810546875,
          "pc2": 76.6363525390625
         },
         {
          "pc1": 19.401464462280273,
          "pc2": 28.80095100402832
         },
         {
          "pc1": 25.227134704589844,
          "pc2": 24.338462829589844
         },
         {
          "pc1": 39.15818405151367,
          "pc2": 18.071556091308594
         },
         {
          "pc1": -34.91791534423828,
          "pc2": -13.695939064025879
         },
         {
          "pc1": 51.9300651550293,
          "pc2": 0.5013439655303955
         },
         {
          "pc1": -20.674854278564453,
          "pc2": 37.75187683105469
         },
         {
          "pc1": -18.60776710510254,
          "pc2": -73.27552032470703
         },
         {
          "pc1": -4.385961055755615,
          "pc2": 17.391408920288086
         },
         {
          "pc1": 0.12341710925102234,
          "pc2": -51.76743698120117
         },
         {
          "pc1": -35.39679718017578,
          "pc2": 13.45612907409668
         },
         {
          "pc1": 14.673544883728027,
          "pc2": 5.626235485076904
         },
         {
          "pc1": -10.259634017944336,
          "pc2": -76.83177947998047
         },
         {
          "pc1": -4.045975208282471,
          "pc2": 41.97813034057617
         },
         {
          "pc1": -1.7592003345489502,
          "pc2": 19.222274780273438
         },
         {
          "pc1": 5.904790878295898,
          "pc2": -8.313448905944824
         },
         {
          "pc1": 6.077024459838867,
          "pc2": -32.569000244140625
         },
         {
          "pc1": 0.7118189334869385,
          "pc2": 70.63188934326172
         },
         {
          "pc1": 17.572364807128906,
          "pc2": 7.060341835021973
         },
         {
          "pc1": -12.226605415344238,
          "pc2": -25.421979904174805
         },
         {
          "pc1": -3.5635392665863037,
          "pc2": 75.64591217041016
         },
         {
          "pc1": -17.352413177490234,
          "pc2": 60.31330490112305
         },
         {
          "pc1": 4.324160575866699,
          "pc2": 28.342010498046875
         },
         {
          "pc1": 62.11861038208008,
          "pc2": 18.23828887939453
         },
         {
          "pc1": -34.77177810668945,
          "pc2": -13.806013107299805
         },
         {
          "pc1": -10.121126174926758,
          "pc2": -27.312728881835938
         },
         {
          "pc1": -47.195579528808594,
          "pc2": -42.670101165771484
         },
         {
          "pc1": -10.133988380432129,
          "pc2": -51.57026290893555
         },
         {
          "pc1": -10.098983764648438,
          "pc2": -53.796722412109375
         },
         {
          "pc1": 10.60040283203125,
          "pc2": -78.50486755371094
         },
         {
          "pc1": 28.526681900024414,
          "pc2": 45.993553161621094
         },
         {
          "pc1": -30.89653968811035,
          "pc2": 12.832667350769043
         },
         {
          "pc1": -15.800016403198242,
          "pc2": -81.4092788696289
         },
         {
          "pc1": -1.5038412809371948,
          "pc2": 4.727395057678223
         },
         {
          "pc1": 47.50773239135742,
          "pc2": -1.9122239351272583
         },
         {
          "pc1": -29.96778678894043,
          "pc2": 39.37398910522461
         },
         {
          "pc1": 38.623695373535156,
          "pc2": 42.11674118041992
         },
         {
          "pc1": 26.298376083374023,
          "pc2": -65.94266510009766
         },
         {
          "pc1": 56.93974304199219,
          "pc2": 23.946823120117188
         },
         {
          "pc1": 6.281570911407471,
          "pc2": -9.527389526367188
         },
         {
          "pc1": 47.8902473449707,
          "pc2": -2.139871597290039
         },
         {
          "pc1": -11.776366233825684,
          "pc2": 68.6392593383789
         },
         {
          "pc1": 4.853838920593262,
          "pc2": -14.939229965209961
         },
         {
          "pc1": 15.841707229614258,
          "pc2": -77.12184143066406
         },
         {
          "pc1": 40.475341796875,
          "pc2": -1.189155101776123
         },
         {
          "pc1": -7.942787170410156,
          "pc2": 69.98104858398438
         },
         {
          "pc1": -4.646641254425049,
          "pc2": -11.88460636138916
         },
         {
          "pc1": 26.5615177154541,
          "pc2": 43.553466796875
         },
         {
          "pc1": 3.6071033477783203,
          "pc2": -32.58597183227539
         },
         {
          "pc1": 46.58348846435547,
          "pc2": -49.40590286254883
         },
         {
          "pc1": -2.4918065071105957,
          "pc2": 23.815006256103516
         },
         {
          "pc1": 19.715574264526367,
          "pc2": -74.63066864013672
         },
         {
          "pc1": -12.78441047668457,
          "pc2": 39.02375793457031
         },
         {
          "pc1": 20.134450912475586,
          "pc2": 23.861480712890625
         },
         {
          "pc1": -33.89883804321289,
          "pc2": 14.500158309936523
         },
         {
          "pc1": -37.492740631103516,
          "pc2": 67.87857818603516
         },
         {
          "pc1": -44.78587341308594,
          "pc2": -15.462627410888672
         },
         {
          "pc1": 44.092708587646484,
          "pc2": -24.16470718383789
         },
         {
          "pc1": -19.843782424926758,
          "pc2": 20.075103759765625
         },
         {
          "pc1": 7.772984981536865,
          "pc2": -78.6118392944336
         },
         {
          "pc1": 12.436410903930664,
          "pc2": 24.155643463134766
         },
         {
          "pc1": -39.685874938964844,
          "pc2": 57.82950210571289
         },
         {
          "pc1": 41.301429748535156,
          "pc2": -1.3518767356872559
         },
         {
          "pc1": 25.410503387451172,
          "pc2": 42.15163040161133
         },
         {
          "pc1": 5.338016033172607,
          "pc2": 26.425537109375
         },
         {
          "pc1": 56.64120864868164,
          "pc2": 15.832865715026855
         },
         {
          "pc1": 11.310937881469727,
          "pc2": -42.21067810058594
         },
         {
          "pc1": 41.31220626831055,
          "pc2": -27.181949615478516
         },
         {
          "pc1": -23.608379364013672,
          "pc2": -75.61793518066406
         },
         {
          "pc1": -40.32123565673828,
          "pc2": -10.554132461547852
         },
         {
          "pc1": -30.584169387817383,
          "pc2": 39.39006042480469
         },
         {
          "pc1": -33.36152648925781,
          "pc2": 21.70992088317871
         },
         {
          "pc1": 44.26605987548828,
          "pc2": 54.72072219848633
         },
         {
          "pc1": -39.0408821105957,
          "pc2": 25.53691864013672
         },
         {
          "pc1": -30.882415771484375,
          "pc2": 12.976541519165039
         },
         {
          "pc1": 6.8488569259643555,
          "pc2": 28.884449005126953
         },
         {
          "pc1": -13.266603469848633,
          "pc2": -82.99163818359375
         },
         {
          "pc1": -8.754692077636719,
          "pc2": -55.96937561035156
         },
         {
          "pc1": -0.9525195956230164,
          "pc2": 74.91706085205078
         },
         {
          "pc1": 28.570945739746094,
          "pc2": -18.37795639038086
         },
         {
          "pc1": 8.382136344909668,
          "pc2": 29.51390838623047
         },
         {
          "pc1": -1.817161202430725,
          "pc2": -82.67708587646484
         },
         {
          "pc1": -3.5947697162628174,
          "pc2": 19.601388931274414
         },
         {
          "pc1": -44.337928771972656,
          "pc2": 23.831233978271484
         },
         {
          "pc1": -16.039758682250977,
          "pc2": 4.88809871673584
         },
         {
          "pc1": -36.60756301879883,
          "pc2": 13.662115097045898
         },
         {
          "pc1": -16.16999053955078,
          "pc2": -81.23709106445312
         },
         {
          "pc1": -26.294662475585938,
          "pc2": -18.74843406677246
         },
         {
          "pc1": -39.33925247192383,
          "pc2": 42.1417121887207
         },
         {
          "pc1": -41.88886260986328,
          "pc2": 25.436702728271484
         },
         {
          "pc1": -8.050332069396973,
          "pc2": -56.23481369018555
         },
         {
          "pc1": -7.402855396270752,
          "pc2": 71.04048919677734
         },
         {
          "pc1": -10.811813354492188,
          "pc2": 72.26252746582031
         },
         {
          "pc1": -42.317928314208984,
          "pc2": -9.06376838684082
         },
         {
          "pc1": -7.924108028411865,
          "pc2": -56.288631439208984
         },
         {
          "pc1": 16.212589263916016,
          "pc2": -77.3848876953125
         },
         {
          "pc1": -44.57038116455078,
          "pc2": 23.27472686767578
         },
         {
          "pc1": -4.273491859436035,
          "pc2": 26.79037094116211
         },
         {
          "pc1": -13.570597648620605,
          "pc2": -83.29151916503906
         },
         {
          "pc1": -30.713420867919922,
          "pc2": 39.58903884887695
         },
         {
          "pc1": 21.87860679626465,
          "pc2": 27.363889694213867
         },
         {
          "pc1": 58.312721252441406,
          "pc2": 17.960905075073242
         },
         {
          "pc1": -13.59685230255127,
          "pc2": -25.596593856811523
         },
         {
          "pc1": 37.77947998046875,
          "pc2": -60.7308235168457
         },
         {
          "pc1": -13.807745933532715,
          "pc2": -26.03141212463379
         },
         {
          "pc1": -9.475353240966797,
          "pc2": 72.70128631591797
         },
         {
          "pc1": -10.805367469787598,
          "pc2": -53.63747024536133
         },
         {
          "pc1": 3.5250487327575684,
          "pc2": -37.39069366455078
         },
         {
          "pc1": 33.72873306274414,
          "pc2": 50.33164596557617
         },
         {
          "pc1": -12.787557601928711,
          "pc2": 65.49956512451172
         },
         {
          "pc1": -41.28515625,
          "pc2": 18.453123092651367
         },
         {
          "pc1": 49.15791320800781,
          "pc2": 44.536582946777344
         },
         {
          "pc1": -61.701480865478516,
          "pc2": -16.327617645263672
         },
         {
          "pc1": 26.966869354248047,
          "pc2": -17.57493782043457
         },
         {
          "pc1": 6.107864856719971,
          "pc2": -48.31603240966797
         },
         {
          "pc1": -42.08979415893555,
          "pc2": 22.190053939819336
         },
         {
          "pc1": -20.688392639160156,
          "pc2": -21.953168869018555
         },
         {
          "pc1": -36.760292053222656,
          "pc2": -13.205113410949707
         },
         {
          "pc1": 2.1603851318359375,
          "pc2": -36.397708892822266
         },
         {
          "pc1": -37.03826904296875,
          "pc2": 15.366549491882324
         },
         {
          "pc1": -33.02226257324219,
          "pc2": -48.40127944946289
         },
         {
          "pc1": -3.961984157562256,
          "pc2": 27.354408264160156
         },
         {
          "pc1": -3.3470683097839355,
          "pc2": 41.90970993041992
         },
         {
          "pc1": 13.979879379272461,
          "pc2": -72.31548309326172
         },
         {
          "pc1": 30.653121948242188,
          "pc2": -61.10444641113281
         },
         {
          "pc1": -55.974185943603516,
          "pc2": -9.454333305358887
         },
         {
          "pc1": 14.94466781616211,
          "pc2": -14.676130294799805
         },
         {
          "pc1": 20.494741439819336,
          "pc2": 10.064483642578125
         },
         {
          "pc1": -8.934136390686035,
          "pc2": 26.69637107849121
         },
         {
          "pc1": -25.448904037475586,
          "pc2": -19.19877815246582
         },
         {
          "pc1": 45.32114791870117,
          "pc2": -21.48733139038086
         },
         {
          "pc1": -63.993064880371094,
          "pc2": -20.756044387817383
         },
         {
          "pc1": 54.574073791503906,
          "pc2": 15.699078559875488
         },
         {
          "pc1": 42.805076599121094,
          "pc2": -27.23018455505371
         },
         {
          "pc1": -18.347732543945312,
          "pc2": -73.52316284179688
         },
         {
          "pc1": -59.04083251953125,
          "pc2": -12.418895721435547
         },
         {
          "pc1": 53.0150032043457,
          "pc2": -3.483543634414673
         },
         {
          "pc1": 3.3613786697387695,
          "pc2": 75.79326629638672
         },
         {
          "pc1": -4.857105731964111,
          "pc2": 4.63793420791626
         },
         {
          "pc1": -12.510305404663086,
          "pc2": -3.4815330505371094
         },
         {
          "pc1": 19.44872283935547,
          "pc2": 23.855510711669922
         },
         {
          "pc1": 53.198421478271484,
          "pc2": 15.863364219665527
         },
         {
          "pc1": 35.14875030517578,
          "pc2": -21.47393226623535
         },
         {
          "pc1": 38.79106903076172,
          "pc2": 0.23917929828166962
         },
         {
          "pc1": 7.565846920013428,
          "pc2": -47.586822509765625
         },
         {
          "pc1": -39.38865661621094,
          "pc2": 60.17599868774414
         },
         {
          "pc1": -44.31035614013672,
          "pc2": -47.067726135253906
         },
         {
          "pc1": -2.0851151943206787,
          "pc2": 77.26273345947266
         },
         {
          "pc1": 19.86471176147461,
          "pc2": -75.49532318115234
         },
         {
          "pc1": -38.9356575012207,
          "pc2": -43.74623107910156
         },
         {
          "pc1": -26.412288665771484,
          "pc2": -19.10371971130371
         },
         {
          "pc1": 38.08565139770508,
          "pc2": -0.02290922775864601
         },
         {
          "pc1": -2.7375991344451904,
          "pc2": -51.7734260559082
         },
         {
          "pc1": 37.885868072509766,
          "pc2": 0.6411374807357788
         },
         {
          "pc1": -24.542984008789062,
          "pc2": -54.359718322753906
         },
         {
          "pc1": 32.93627166748047,
          "pc2": -20.007064819335938
         },
         {
          "pc1": 43.4937629699707,
          "pc2": 3.123511552810669
         },
         {
          "pc1": 50.92741012573242,
          "pc2": 25.79500961303711
         },
         {
          "pc1": -60.526817321777344,
          "pc2": -14.052359580993652
         },
         {
          "pc1": -33.942684173583984,
          "pc2": 74.45623016357422
         },
         {
          "pc1": 7.4051833152771,
          "pc2": -80.32054901123047
         },
         {
          "pc1": 48.497501373291016,
          "pc2": 15.749797821044922
         },
         {
          "pc1": 60.6422004699707,
          "pc2": 17.18499183654785
         },
         {
          "pc1": -35.76827621459961,
          "pc2": 23.504043579101562
         },
         {
          "pc1": 14.504743576049805,
          "pc2": -77.82148742675781
         },
         {
          "pc1": 2.432610511779785,
          "pc2": -80.74236297607422
         },
         {
          "pc1": -37.317413330078125,
          "pc2": 74.35433197021484
         },
         {
          "pc1": -11.82426929473877,
          "pc2": -3.422417163848877
         },
         {
          "pc1": 58.873313903808594,
          "pc2": -4.1701273918151855
         },
         {
          "pc1": -0.7015957832336426,
          "pc2": 26.79784393310547
         },
         {
          "pc1": -7.33664608001709,
          "pc2": -83.08926391601562
         },
         {
          "pc1": 13.114838600158691,
          "pc2": -47.769134521484375
         },
         {
          "pc1": 59.57698440551758,
          "pc2": -3.7814712524414062
         },
         {
          "pc1": -28.183210372924805,
          "pc2": -48.13236618041992
         },
         {
          "pc1": 10.471822738647461,
          "pc2": -37.04724884033203
         },
         {
          "pc1": -38.988677978515625,
          "pc2": -48.349056243896484
         },
         {
          "pc1": -45.16542434692383,
          "pc2": -47.69081115722656
         },
         {
          "pc1": 61.511810302734375,
          "pc2": 18.24183464050293
         },
         {
          "pc1": 55.6002082824707,
          "pc2": 13.946642875671387
         },
         {
          "pc1": -11.52595329284668,
          "pc2": -5.116710186004639
         },
         {
          "pc1": 24.719524383544922,
          "pc2": -17.161775588989258
         },
         {
          "pc1": 0.5536174178123474,
          "pc2": -81.61544036865234
         },
         {
          "pc1": 34.289512634277344,
          "pc2": 51.03759765625
         },
         {
          "pc1": -9.463545799255371,
          "pc2": 34.835140228271484
         },
         {
          "pc1": -25.00922966003418,
          "pc2": -19.84066390991211
         },
         {
          "pc1": -28.45855712890625,
          "pc2": 14.000043869018555
         },
         {
          "pc1": -34.02960968017578,
          "pc2": 74.81391143798828
         },
         {
          "pc1": 46.37972640991211,
          "pc2": 25.120630264282227
         },
         {
          "pc1": 45.22952651977539,
          "pc2": -21.013925552368164
         },
         {
          "pc1": 45.823974609375,
          "pc2": 25.427576065063477
         },
         {
          "pc1": 35.12242889404297,
          "pc2": -62.99156951904297
         },
         {
          "pc1": -14.198339462280273,
          "pc2": -25.279935836791992
         },
         {
          "pc1": -8.103216171264648,
          "pc2": 40.14594268798828
         },
         {
          "pc1": 10.334367752075195,
          "pc2": 42.86370086669922
         },
         {
          "pc1": 59.71255111694336,
          "pc2": 14.549232482910156
         },
         {
          "pc1": -13.28664493560791,
          "pc2": -50.9454345703125
         },
         {
          "pc1": 45.473045349121094,
          "pc2": 17.145240783691406
         },
         {
          "pc1": -30.126781463623047,
          "pc2": -16.72537612915039
         },
         {
          "pc1": -63.22606658935547,
          "pc2": -19.645994186401367
         },
         {
          "pc1": -11.636322021484375,
          "pc2": -2.2262487411499023
         },
         {
          "pc1": 45.30095291137695,
          "pc2": -21.384246826171875
         },
         {
          "pc1": 10.105263710021973,
          "pc2": 42.90324783325195
         },
         {
          "pc1": -2.5764029026031494,
          "pc2": -29.57349395751953
         },
         {
          "pc1": -2.68780517578125,
          "pc2": 75.93380737304688
         },
         {
          "pc1": -4.715996742248535,
          "pc2": -11.414514541625977
         },
         {
          "pc1": 5.8772101402282715,
          "pc2": -41.0842399597168
         },
         {
          "pc1": -1.364153265953064,
          "pc2": -52.06815719604492
         },
         {
          "pc1": -32.94671630859375,
          "pc2": -15.165506362915039
         },
         {
          "pc1": -32.58229064941406,
          "pc2": 21.216514587402344
         },
         {
          "pc1": -18.171186447143555,
          "pc2": -80.21800231933594
         },
         {
          "pc1": -11.291393280029297,
          "pc2": -5.348225116729736
         },
         {
          "pc1": 4.770664691925049,
          "pc2": 44.72443389892578
         },
         {
          "pc1": 61.619102478027344,
          "pc2": 18.289926528930664
         },
         {
          "pc1": -20.38873863220215,
          "pc2": 37.909061431884766
         },
         {
          "pc1": 46.75938415527344,
          "pc2": 16.679662704467773
         },
         {
          "pc1": 20.908884048461914,
          "pc2": -73.89361572265625
         },
         {
          "pc1": -45.00801467895508,
          "pc2": -46.817955017089844
         },
         {
          "pc1": -40.03387451171875,
          "pc2": 48.95726776123047
         },
         {
          "pc1": 23.08127212524414,
          "pc2": 24.990278244018555
         },
         {
          "pc1": 18.078617095947266,
          "pc2": -15.186260223388672
         },
         {
          "pc1": -9.218743324279785,
          "pc2": -83.08610534667969
         },
         {
          "pc1": 0.3351716995239258,
          "pc2": 27.042598724365234
         },
         {
          "pc1": 26.631938934326172,
          "pc2": 27.12923240661621
         },
         {
          "pc1": -33.40200424194336,
          "pc2": -50.677284240722656
         },
         {
          "pc1": 39.94715881347656,
          "pc2": -58.069679260253906
         },
         {
          "pc1": 49.31252670288086,
          "pc2": 16.55717658996582
         },
         {
          "pc1": -39.981441497802734,
          "pc2": -11.237404823303223
         },
         {
          "pc1": 20.361032485961914,
          "pc2": -74.34214782714844
         },
         {
          "pc1": 40.29477310180664,
          "pc2": 19.155244827270508
         },
         {
          "pc1": 39.61573028564453,
          "pc2": 17.753965377807617
         },
         {
          "pc1": 4.793747901916504,
          "pc2": 44.71841812133789
         },
         {
          "pc1": -39.711116790771484,
          "pc2": 47.445579528808594
         },
         {
          "pc1": 34.21210861206055,
          "pc2": -20.714927673339844
         },
         {
          "pc1": 47.6140022277832,
          "pc2": 14.9533052444458
         },
         {
          "pc1": 11.00668716430664,
          "pc2": 4.22817325592041
         },
         {
          "pc1": 6.139720439910889,
          "pc2": -78.70087432861328
         },
         {
          "pc1": 17.555360794067383,
          "pc2": -74.78729248046875
         },
         {
          "pc1": 5.608124732971191,
          "pc2": -49.07490921020508
         },
         {
          "pc1": -38.67464828491211,
          "pc2": 14.990410804748535
         },
         {
          "pc1": 19.812341690063477,
          "pc2": -73.81233215332031
         },
         {
          "pc1": 29.769142150878906,
          "pc2": 47.19375228881836
         },
         {
          "pc1": 14.850787162780762,
          "pc2": 23.57823944091797
         },
         {
          "pc1": -24.559900283813477,
          "pc2": -48.04320526123047
         },
         {
          "pc1": -6.704447269439697,
          "pc2": 70.94419860839844
         },
         {
          "pc1": -21.188434600830078,
          "pc2": 38.61151123046875
         },
         {
          "pc1": -22.89069938659668,
          "pc2": 38.08195877075195
         },
         {
          "pc1": 10.592466354370117,
          "pc2": -45.20542526245117
         },
         {
          "pc1": -41.39865493774414,
          "pc2": -10.13802433013916
         },
         {
          "pc1": 8.380992889404297,
          "pc2": 45.91029739379883
         },
         {
          "pc1": -30.49175453186035,
          "pc2": 40.12895965576172
         },
         {
          "pc1": -7.95347261428833,
          "pc2": 40.590694427490234
         },
         {
          "pc1": 23.095291137695312,
          "pc2": 24.981664657592773
         },
         {
          "pc1": 39.21162414550781,
          "pc2": -58.3737678527832
         },
         {
          "pc1": -27.35688591003418,
          "pc2": -48.472938537597656
         },
         {
          "pc1": -21.950843811035156,
          "pc2": 17.157621383666992
         },
         {
          "pc1": 13.474039077758789,
          "pc2": -77.8673095703125
         },
         {
          "pc1": 14.512574195861816,
          "pc2": 23.540552139282227
         },
         {
          "pc1": 27.967405319213867,
          "pc2": -68.57807922363281
         },
         {
          "pc1": -25.09733009338379,
          "pc2": -49.079566955566406
         },
         {
          "pc1": 18.915922164916992,
          "pc2": 29.618791580200195
         },
         {
          "pc1": -6.165298938751221,
          "pc2": 74.10914611816406
         },
         {
          "pc1": -25.72132110595703,
          "pc2": -54.46209716796875
         },
         {
          "pc1": -36.7138557434082,
          "pc2": 75.54547119140625
         },
         {
          "pc1": 33.5117073059082,
          "pc2": -64.82209777832031
         },
         {
          "pc1": -46.91537094116211,
          "pc2": -46.28692626953125
         },
         {
          "pc1": -31.139049530029297,
          "pc2": 39.6754035949707
         },
         {
          "pc1": -26.1385555267334,
          "pc2": 16.545103073120117
         },
         {
          "pc1": -55.156715393066406,
          "pc2": -18.52521324157715
         },
         {
          "pc1": 2.7284486293792725,
          "pc2": 78.03944396972656
         },
         {
          "pc1": -0.5435044169425964,
          "pc2": 43.19388961791992
         },
         {
          "pc1": 15.045492172241211,
          "pc2": -14.843489646911621
         },
         {
          "pc1": 51.227027893066406,
          "pc2": 25.730201721191406
         },
         {
          "pc1": -38.02274703979492,
          "pc2": 66.21479034423828
         },
         {
          "pc1": 31.97743034362793,
          "pc2": -67.14734649658203
         },
         {
          "pc1": 14.73157024383545,
          "pc2": 29.491178512573242
         },
         {
          "pc1": 19.12127685546875,
          "pc2": -15.950760841369629
         },
         {
          "pc1": -12.419548988342285,
          "pc2": 35.1922492980957
         },
         {
          "pc1": -63.10862731933594,
          "pc2": -20.683984756469727
         },
         {
          "pc1": -27.364850997924805,
          "pc2": 38.9788703918457
         },
         {
          "pc1": 38.80567169189453,
          "pc2": -0.42134803533554077
         },
         {
          "pc1": -40.90428924560547,
          "pc2": -48.256065368652344
         },
         {
          "pc1": 27.39578628540039,
          "pc2": -69.74549102783203
         },
         {
          "pc1": -39.26529312133789,
          "pc2": -43.66977310180664
         },
         {
          "pc1": 6.695392608642578,
          "pc2": 45.1901741027832
         },
         {
          "pc1": -27.049877166748047,
          "pc2": -72.72604370117188
         },
         {
          "pc1": 5.638358116149902,
          "pc2": -34.02104187011719
         },
         {
          "pc1": 11.453325271606445,
          "pc2": -38.50040817260742
         },
         {
          "pc1": 9.981001853942871,
          "pc2": -46.040618896484375
         },
         {
          "pc1": 17.025115966796875,
          "pc2": 7.003945350646973
         },
         {
          "pc1": -9.891853332519531,
          "pc2": 2.6465365886688232
         },
         {
          "pc1": 3.0179128646850586,
          "pc2": -32.73748016357422
         },
         {
          "pc1": -56.047264099121094,
          "pc2": -10.907970428466797
         },
         {
          "pc1": 6.777924537658691,
          "pc2": -15.480388641357422
         },
         {
          "pc1": 5.261500358581543,
          "pc2": -32.67839813232422
         },
         {
          "pc1": 1.2339478731155396,
          "pc2": -80.91398620605469
         },
         {
          "pc1": 61.281822204589844,
          "pc2": 16.209999084472656
         },
         {
          "pc1": 23.075695037841797,
          "pc2": 27.09060287475586
         },
         {
          "pc1": -37.04716110229492,
          "pc2": 44.019020080566406
         },
         {
          "pc1": 7.799896240234375,
          "pc2": 45.45472717285156
         },
         {
          "pc1": -1.6821060180664062,
          "pc2": -29.16273307800293
         },
         {
          "pc1": 5.2118940353393555,
          "pc2": 45.33807373046875
         },
         {
          "pc1": -23.757400512695312,
          "pc2": 54.36750411987305
         },
         {
          "pc1": -23.433656692504883,
          "pc2": 38.339988708496094
         },
         {
          "pc1": 2.4892325401306152,
          "pc2": -80.12319946289062
         },
         {
          "pc1": 19.005355834960938,
          "pc2": -74.9561996459961
         },
         {
          "pc1": 42.13957595825195,
          "pc2": -26.74771499633789
         },
         {
          "pc1": -21.43096351623535,
          "pc2": -77.5999984741211
         },
         {
          "pc1": -40.0153923034668,
          "pc2": 55.910118103027344
         },
         {
          "pc1": -26.170988082885742,
          "pc2": -74.3163070678711
         },
         {
          "pc1": -19.844871520996094,
          "pc2": 58.831443786621094
         },
         {
          "pc1": 3.1324117183685303,
          "pc2": 28.07135009765625
         },
         {
          "pc1": -36.12665557861328,
          "pc2": -12.889103889465332
         },
         {
          "pc1": 2.7587993144989014,
          "pc2": 40.1825065612793
         },
         {
          "pc1": -31.916372299194336,
          "pc2": 40.15108871459961
         },
         {
          "pc1": 42.95247268676758,
          "pc2": 55.004119873046875
         },
         {
          "pc1": 2.557379722595215,
          "pc2": 77.1546630859375
         },
         {
          "pc1": -13.118440628051758,
          "pc2": 38.55893325805664
         },
         {
          "pc1": -25.99900245666504,
          "pc2": -48.903263092041016
         },
         {
          "pc1": 3.2237207889556885,
          "pc2": -31.286041259765625
         },
         {
          "pc1": -15.684212684631348,
          "pc2": -54.59965133666992
         },
         {
          "pc1": -59.91263198852539,
          "pc2": -14.684566497802734
         },
         {
          "pc1": -21.835073471069336,
          "pc2": -22.266998291015625
         },
         {
          "pc1": 31.48785400390625,
          "pc2": -19.7218074798584
         },
         {
          "pc1": 18.51603126525879,
          "pc2": 7.839358806610107
         },
         {
          "pc1": 6.794737339019775,
          "pc2": -33.68549728393555
         },
         {
          "pc1": -42.719703674316406,
          "pc2": 23.234365463256836
         },
         {
          "pc1": 11.080221176147461,
          "pc2": -42.9937629699707
         },
         {
          "pc1": -46.07683563232422,
          "pc2": -46.32210159301758
         },
         {
          "pc1": -8.00905704498291,
          "pc2": 26.05686378479004
         },
         {
          "pc1": 39.34088134765625,
          "pc2": 0.2637437880039215
         },
         {
          "pc1": 39.8223762512207,
          "pc2": 19.73910140991211
         },
         {
          "pc1": -8.062784194946289,
          "pc2": 60.079795837402344
         },
         {
          "pc1": -20.67551040649414,
          "pc2": 20.474790573120117
         },
         {
          "pc1": -1.1512339115142822,
          "pc2": -30.048362731933594
         },
         {
          "pc1": -32.58295822143555,
          "pc2": -15.567225456237793
         },
         {
          "pc1": 43.88871765136719,
          "pc2": -1.5143886804580688
         },
         {
          "pc1": -15.162774085998535,
          "pc2": 19.782302856445312
         },
         {
          "pc1": 37.14874267578125,
          "pc2": 52.88469314575195
         },
         {
          "pc1": -40.233131408691406,
          "pc2": 52.2896728515625
         },
         {
          "pc1": -40.56680679321289,
          "pc2": 51.20696258544922
         },
         {
          "pc1": -4.574456214904785,
          "pc2": 26.71714973449707
         },
         {
          "pc1": -37.27754211425781,
          "pc2": 67.11952209472656
         },
         {
          "pc1": -9.841716766357422,
          "pc2": -83.01825714111328
         },
         {
          "pc1": -39.15275955200195,
          "pc2": -43.69525909423828
         },
         {
          "pc1": -20.47112464904785,
          "pc2": 20.50372886657715
         },
         {
          "pc1": -43.63562774658203,
          "pc2": -47.773963928222656
         },
         {
          "pc1": 2.693046808242798,
          "pc2": 4.75259256362915
         },
         {
          "pc1": -14.160163879394531,
          "pc2": 66.15261840820312
         },
         {
          "pc1": 35.420631408691406,
          "pc2": -64.48109436035156
         },
         {
          "pc1": 50.82666778564453,
          "pc2": 44.834205627441406
         },
         {
          "pc1": -24.829267501831055,
          "pc2": -47.69599533081055
         },
         {
          "pc1": -57.439491271972656,
          "pc2": -11.786884307861328
         },
         {
          "pc1": 22.39238929748535,
          "pc2": 24.983823776245117
         },
         {
          "pc1": 18.328235626220703,
          "pc2": 23.353681564331055
         },
         {
          "pc1": -36.11185836791992,
          "pc2": 61.97740936279297
         },
         {
          "pc1": -23.995290756225586,
          "pc2": -48.55371856689453
         },
         {
          "pc1": 38.6005744934082,
          "pc2": -0.34450241923332214
         },
         {
          "pc1": -39.890254974365234,
          "pc2": 48.32246398925781
         },
         {
          "pc1": 11.144521713256836,
          "pc2": -39.03078079223633
         },
         {
          "pc1": -40.598087310791016,
          "pc2": 50.43244171142578
         },
         {
          "pc1": -31.966567993164062,
          "pc2": 14.51697063446045
         },
         {
          "pc1": 16.668167114257812,
          "pc2": 6.733380317687988
         },
         {
          "pc1": -42.812007904052734,
          "pc2": 20.303760528564453
         },
         {
          "pc1": 36.476985931396484,
          "pc2": 52.40703201293945
         },
         {
          "pc1": 9.398543357849121,
          "pc2": 12.303196907043457
         },
         {
          "pc1": -20.982595443725586,
          "pc2": 20.38902473449707
         },
         {
          "pc1": -35.848140716552734,
          "pc2": 43.342002868652344
         },
         {
          "pc1": 40.45842361450195,
          "pc2": -57.99408721923828
         },
         {
          "pc1": 39.63214111328125,
          "pc2": -25.408674240112305
         },
         {
          "pc1": 24.89234161376953,
          "pc2": -16.597288131713867
         },
         {
          "pc1": -47.38751220703125,
          "pc2": -8.959869384765625
         },
         {
          "pc1": -11.094633102416992,
          "pc2": 68.46194458007812
         },
         {
          "pc1": 24.596233367919922,
          "pc2": -16.191682815551758
         },
         {
          "pc1": 8.039968490600586,
          "pc2": 29.807239532470703
         },
         {
          "pc1": -49.48353958129883,
          "pc2": -10.008231163024902
         },
         {
          "pc1": -11.601235389709473,
          "pc2": 69.48342895507812
         },
         {
          "pc1": 58.94169616699219,
          "pc2": 15.416760444641113
         },
         {
          "pc1": -37.6952018737793,
          "pc2": 15.945910453796387
         },
         {
          "pc1": 47.57073974609375,
          "pc2": 26.379192352294922
         },
         {
          "pc1": 11.198750495910645,
          "pc2": -39.187530517578125
         },
         {
          "pc1": -20.672382354736328,
          "pc2": -49.579586029052734
         },
         {
          "pc1": 55.69852828979492,
          "pc2": 24.194250106811523
         },
         {
          "pc1": 16.599576950073242,
          "pc2": 30.546619415283203
         },
         {
          "pc1": 13.823817253112793,
          "pc2": -72.4185791015625
         },
         {
          "pc1": 5.719801425933838,
          "pc2": -30.426401138305664
         },
         {
          "pc1": -37.797969818115234,
          "pc2": 44.431922912597656
         },
         {
          "pc1": 5.477665424346924,
          "pc2": 4.299184799194336
         },
         {
          "pc1": -36.3426399230957,
          "pc2": 16.946706771850586
         },
         {
          "pc1": 58.4117546081543,
          "pc2": 14.632184028625488
         },
         {
          "pc1": -33.69746017456055,
          "pc2": -20.892040252685547
         },
         {
          "pc1": -63.00300598144531,
          "pc2": -20.31869125366211
         },
         {
          "pc1": 57.19036102294922,
          "pc2": 22.736486434936523
         },
         {
          "pc1": -38.430686950683594,
          "pc2": 73.53758239746094
         },
         {
          "pc1": 23.951934814453125,
          "pc2": -16.535863876342773
         },
         {
          "pc1": -39.60850524902344,
          "pc2": -47.478206634521484
         },
         {
          "pc1": 39.23957443237305,
          "pc2": -25.124940872192383
         },
         {
          "pc1": 6.701727390289307,
          "pc2": -48.26325988769531
         },
         {
          "pc1": 37.1671028137207,
          "pc2": 0.2495461106300354
         },
         {
          "pc1": -36.43447494506836,
          "pc2": 24.2119140625
         },
         {
          "pc1": 50.07574462890625,
          "pc2": 46.31473159790039
         },
         {
          "pc1": 3.5598602294921875,
          "pc2": -31.86611557006836
         },
         {
          "pc1": 49.33578109741211,
          "pc2": 26.11788558959961
         },
         {
          "pc1": -9.542781829833984,
          "pc2": -27.586336135864258
         },
         {
          "pc1": -7.5610175132751465,
          "pc2": -28.333942413330078
         },
         {
          "pc1": 14.007177352905273,
          "pc2": -77.63335418701172
         },
         {
          "pc1": -3.2754476070404053,
          "pc2": 42.35919189453125
         },
         {
          "pc1": 36.120826721191406,
          "pc2": 42.0772819519043
         },
         {
          "pc1": 4.264493942260742,
          "pc2": 4.753957271575928
         },
         {
          "pc1": -21.164100646972656,
          "pc2": 58.62879180908203
         },
         {
          "pc1": 3.870121479034424,
          "pc2": 12.041868209838867
         },
         {
          "pc1": -2.462512254714966,
          "pc2": -52.1577262878418
         },
         {
          "pc1": -26.33501625061035,
          "pc2": 19.410337448120117
         },
         {
          "pc1": -49.0147819519043,
          "pc2": -8.236310005187988
         },
         {
          "pc1": -33.1790657043457,
          "pc2": -14.221550941467285
         },
         {
          "pc1": 40.36469268798828,
          "pc2": 17.276241302490234
         },
         {
          "pc1": 3.7078027725219727,
          "pc2": 78.41093444824219
         },
         {
          "pc1": -5.250241279602051,
          "pc2": 40.827064514160156
         },
         {
          "pc1": -14.448864936828613,
          "pc2": -55.172550201416016
         },
         {
          "pc1": 7.323755264282227,
          "pc2": -15.899413108825684
         },
         {
          "pc1": 46.78525161743164,
          "pc2": -48.738773345947266
         },
         {
          "pc1": -29.910673141479492,
          "pc2": 40.55318069458008
         },
         {
          "pc1": -38.10824966430664,
          "pc2": 65.20182800292969
         },
         {
          "pc1": -18.012889862060547,
          "pc2": -79.73865509033203
         },
         {
          "pc1": 10.734130859375,
          "pc2": -36.83270263671875
         },
         {
          "pc1": 34.825775146484375,
          "pc2": 39.18758010864258
         },
         {
          "pc1": -42.114742279052734,
          "pc2": -47.77049255371094
         },
         {
          "pc1": 34.070011138916016,
          "pc2": -63.46382522583008
         },
         {
          "pc1": -7.318840503692627,
          "pc2": -51.58504104614258
         },
         {
          "pc1": 3.944214344024658,
          "pc2": -8.198702812194824
         },
         {
          "pc1": -4.472747802734375,
          "pc2": 24.346826553344727
         },
         {
          "pc1": 36.296714782714844,
          "pc2": 42.19398498535156
         },
         {
          "pc1": -63.652828216552734,
          "pc2": -18.82269859313965
         },
         {
          "pc1": 17.908456802368164,
          "pc2": 29.217668533325195
         },
         {
          "pc1": -23.56468963623047,
          "pc2": -74.53807830810547
         },
         {
          "pc1": -21.72848129272461,
          "pc2": -77.85780334472656
         },
         {
          "pc1": -18.338319778442383,
          "pc2": -80.07642364501953
         },
         {
          "pc1": -11.457194328308105,
          "pc2": 39.390777587890625
         },
         {
          "pc1": -6.532730579376221,
          "pc2": -31.845918655395508
         },
         {
          "pc1": 17.172950744628906,
          "pc2": 30.118671417236328
         },
         {
          "pc1": -8.168716430664062,
          "pc2": 59.640167236328125
         },
         {
          "pc1": 38.391944885253906,
          "pc2": -60.82635498046875
         },
         {
          "pc1": -3.386101722717285,
          "pc2": 18.148836135864258
         },
         {
          "pc1": -4.549094200134277,
          "pc2": -52.05968475341797
         },
         {
          "pc1": 50.599395751953125,
          "pc2": -2.2408742904663086
         },
         {
          "pc1": -2.700498104095459,
          "pc2": -52.174766540527344
         },
         {
          "pc1": 7.386017322540283,
          "pc2": -47.755428314208984
         },
         {
          "pc1": 27.493745803833008,
          "pc2": 25.797183990478516
         },
         {
          "pc1": 50.770668029785156,
          "pc2": 24.63172721862793
         },
         {
          "pc1": 9.989471435546875,
          "pc2": 4.364062309265137
         },
         {
          "pc1": 16.780746459960938,
          "pc2": 23.49114418029785
         },
         {
          "pc1": 16.064189910888672,
          "pc2": -76.57200622558594
         },
         {
          "pc1": -35.447120666503906,
          "pc2": 16.675113677978516
         },
         {
          "pc1": 24.69607925415039,
          "pc2": 27.225265502929688
         },
         {
          "pc1": -24.95446014404297,
          "pc2": -74.43724822998047
         },
         {
          "pc1": 13.276185989379883,
          "pc2": -77.29630279541016
         },
         {
          "pc1": 60.02117919921875,
          "pc2": 19.28103256225586
         },
         {
          "pc1": -15.945464134216309,
          "pc2": -29.321701049804688
         },
         {
          "pc1": 15.799830436706543,
          "pc2": 29.32478141784668
         },
         {
          "pc1": -8.46103286743164,
          "pc2": -28.066308975219727
         },
         {
          "pc1": -42.444496154785156,
          "pc2": -11.000092506408691
         },
         {
          "pc1": 10.065642356872559,
          "pc2": 4.344596862792969
         },
         {
          "pc1": 37.89495086669922,
          "pc2": -24.992387771606445
         },
         {
          "pc1": -63.81925964355469,
          "pc2": -23.996009826660156
         },
         {
          "pc1": -45.081600189208984,
          "pc2": -9.160219192504883
         },
         {
          "pc1": 51.50099182128906,
          "pc2": 46.509117126464844
         },
         {
          "pc1": -15.62122631072998,
          "pc2": -24.49480628967285
         },
         {
          "pc1": 55.704322814941406,
          "pc2": 16.170934677124023
         },
         {
          "pc1": -36.371665954589844,
          "pc2": 43.2526969909668
         },
         {
          "pc1": 0.3099149465560913,
          "pc2": 39.75349426269531
         },
         {
          "pc1": -9.66562271118164,
          "pc2": -27.74413299560547
         },
         {
          "pc1": 25.08356285095215,
          "pc2": 27.689870834350586
         },
         {
          "pc1": -3.3162736892700195,
          "pc2": 5.302854061126709
         },
         {
          "pc1": 59.4410514831543,
          "pc2": 54.88627243041992
         },
         {
          "pc1": -2.0130856037139893,
          "pc2": -82.83875274658203
         },
         {
          "pc1": 25.14383316040039,
          "pc2": -70.72518157958984
         },
         {
          "pc1": -39.895931243896484,
          "pc2": 49.495479583740234
         },
         {
          "pc1": 39.48856735229492,
          "pc2": 43.60814666748047
         },
         {
          "pc1": -33.79026794433594,
          "pc2": 16.302736282348633
         },
         {
          "pc1": 29.478622436523438,
          "pc2": 47.59282302856445
         },
         {
          "pc1": 11.574333190917969,
          "pc2": -40.3253173828125
         },
         {
          "pc1": -28.16640853881836,
          "pc2": 18.686426162719727
         },
         {
          "pc1": 0.8877462148666382,
          "pc2": -31.720932006835938
         },
         {
          "pc1": 9.544692039489746,
          "pc2": 29.861129760742188
         },
         {
          "pc1": -35.9035530090332,
          "pc2": 15.144290924072266
         },
         {
          "pc1": 30.438865661621094,
          "pc2": -67.91544342041016
         },
         {
          "pc1": -22.18239974975586,
          "pc2": 38.8217887878418
         },
         {
          "pc1": -7.0119948387146,
          "pc2": -75.39825439453125
         },
         {
          "pc1": -43.76633834838867,
          "pc2": 22.937070846557617
         },
         {
          "pc1": 32.7178955078125,
          "pc2": -66.0267105102539
         },
         {
          "pc1": 5.69818639755249,
          "pc2": 11.028264999389648
         },
         {
          "pc1": 52.455528259277344,
          "pc2": -3.024409770965576
         },
         {
          "pc1": -21.23303985595703,
          "pc2": 20.397090911865234
         },
         {
          "pc1": 5.779758930206299,
          "pc2": -8.319353103637695
         },
         {
          "pc1": -36.274715423583984,
          "pc2": 58.74833679199219
         },
         {
          "pc1": -39.80630874633789,
          "pc2": -43.56123352050781
         },
         {
          "pc1": -20.2475528717041,
          "pc2": -49.62416458129883
         },
         {
          "pc1": -12.73415756225586,
          "pc2": -81.46951293945312
         },
         {
          "pc1": 44.675262451171875,
          "pc2": -56.588134765625
         },
         {
          "pc1": 57.62481689453125,
          "pc2": 54.389671325683594
         },
         {
          "pc1": 9.25266170501709,
          "pc2": -47.21210861206055
         },
         {
          "pc1": -34.51515197753906,
          "pc2": 67.85792541503906
         },
         {
          "pc1": -19.984010696411133,
          "pc2": -21.39762306213379
         },
         {
          "pc1": 10.697867393493652,
          "pc2": -44.118282318115234
         },
         {
          "pc1": 17.97640609741211,
          "pc2": 7.929866313934326
         },
         {
          "pc1": -12.759431838989258,
          "pc2": 65.56371307373047
         },
         {
          "pc1": -9.148340225219727,
          "pc2": 71.14847564697266
         },
         {
          "pc1": -12.416245460510254,
          "pc2": -51.08525085449219
         },
         {
          "pc1": -42.297767639160156,
          "pc2": -9.889786720275879
         },
         {
          "pc1": -16.99400520324707,
          "pc2": -78.5774154663086
         },
         {
          "pc1": -6.900970935821533,
          "pc2": 25.512577056884766
         },
         {
          "pc1": 17.48409652709961,
          "pc2": 23.44070053100586
         },
         {
          "pc1": 60.893436431884766,
          "pc2": -3.081768035888672
         },
         {
          "pc1": 23.78211212158203,
          "pc2": -16.095380783081055
         },
         {
          "pc1": 37.598609924316406,
          "pc2": -60.62867736816406
         },
         {
          "pc1": -40.024375915527344,
          "pc2": 17.641254425048828
         },
         {
          "pc1": -40.03360366821289,
          "pc2": 50.90977096557617
         },
         {
          "pc1": -0.9473710060119629,
          "pc2": 5.167445659637451
         },
         {
          "pc1": -39.116878509521484,
          "pc2": 15.798515319824219
         },
         {
          "pc1": -22.982398986816406,
          "pc2": -51.50315856933594
         },
         {
          "pc1": -7.511117935180664,
          "pc2": -9.102659225463867
         },
         {
          "pc1": -18.43718147277832,
          "pc2": -73.45338439941406
         },
         {
          "pc1": -40.35375213623047,
          "pc2": -10.681934356689453
         },
         {
          "pc1": -28.201290130615234,
          "pc2": -20.100379943847656
         },
         {
          "pc1": -6.918763160705566,
          "pc2": 73.55048370361328
         },
         {
          "pc1": 18.581531524658203,
          "pc2": 23.34621810913086
         },
         {
          "pc1": -43.50205993652344,
          "pc2": -47.80551528930664
         },
         {
          "pc1": 20.050323486328125,
          "pc2": -73.7438735961914
         },
         {
          "pc1": 3.4642980098724365,
          "pc2": 78.42463684082031
         },
         {
          "pc1": 13.114995956420898,
          "pc2": -47.76759719848633
         },
         {
          "pc1": 12.46010971069336,
          "pc2": 4.9749274253845215
         },
         {
          "pc1": 20.667573928833008,
          "pc2": -73.5390853881836
         },
         {
          "pc1": 3.333292007446289,
          "pc2": 44.687355041503906
         }
        ],
        "data-c2c9979a35f655f109a7ee7935aeef7d": [
         {
          "pc1": -17.074405670166016,
          "pc2": -28.609695434570312
         },
         {
          "pc1": -58.98454666137695,
          "pc2": -14.420722961425781
         },
         {
          "pc1": 44.75114059448242,
          "pc2": -51.055973052978516
         },
         {
          "pc1": -25.59078598022461,
          "pc2": -73.79906463623047
         },
         {
          "pc1": 13.951995849609375,
          "pc2": -78.69483947753906
         },
         {
          "pc1": -34.137821197509766,
          "pc2": -14.488380432128906
         },
         {
          "pc1": -57.07315444946289,
          "pc2": -10.72990608215332
         },
         {
          "pc1": 39.588409423828125,
          "pc2": -58.00049591064453
         },
         {
          "pc1": 25.091623306274414,
          "pc2": 27.50874137878418
         },
         {
          "pc1": 6.547222137451172,
          "pc2": -79.61183166503906
         },
         {
          "pc1": -46.74660873413086,
          "pc2": -9.012062072753906
         },
         {
          "pc1": -40.48321533203125,
          "pc2": -11.267078399658203
         },
         {
          "pc1": 37.30830764770508,
          "pc2": 0.6954476237297058
         },
         {
          "pc1": 33.96944046020508,
          "pc2": -63.63737106323242
         },
         {
          "pc1": -32.04867935180664,
          "pc2": -48.536865234375
         },
         {
          "pc1": 46.522682189941406,
          "pc2": -47.60329818725586
         },
         {
          "pc1": 44.60466766357422,
          "pc2": -56.70375061035156
         },
         {
          "pc1": -3.211437702178955,
          "pc2": 41.647491455078125
         },
         {
          "pc1": 3.5221219062805176,
          "pc2": -32.5462532043457
         },
         {
          "pc1": 11.739492416381836,
          "pc2": -78.18917846679688
         },
         {
          "pc1": 37.42655944824219,
          "pc2": -24.02078628540039
         },
         {
          "pc1": -28.727699279785156,
          "pc2": -52.14506530761719
         },
         {
          "pc1": -48.4110221862793,
          "pc2": -8.99427604675293
         },
         {
          "pc1": 51.574214935302734,
          "pc2": -2.7472026348114014
         },
         {
          "pc1": -12.07756519317627,
          "pc2": -81.73986053466797
         },
         {
          "pc1": 11.575031280517578,
          "pc2": -41.765384674072266
         },
         {
          "pc1": -10.04549503326416,
          "pc2": -51.106937408447266
         },
         {
          "pc1": -23.12552261352539,
          "pc2": -76.65045166015625
         },
         {
          "pc1": 20.0580997467041,
          "pc2": -74.53563690185547
         },
         {
          "pc1": -1.3190860748291016,
          "pc2": -81.45799255371094
         },
         {
          "pc1": 5.900320529937744,
          "pc2": -41.23551940917969
         },
         {
          "pc1": 53.669002532958984,
          "pc2": 14.242295265197754
         },
         {
          "pc1": -17.31294059753418,
          "pc2": -23.753461837768555
         },
         {
          "pc1": 11.352845191955566,
          "pc2": -39.52617263793945
         },
         {
          "pc1": -43.901283264160156,
          "pc2": -15.768505096435547
         },
         {
          "pc1": 13.702157020568848,
          "pc2": -72.49095916748047
         },
         {
          "pc1": -35.55895233154297,
          "pc2": -13.863749504089355
         },
         {
          "pc1": 3.2367494106292725,
          "pc2": 78.55768585205078
         },
         {
          "pc1": -25.986940383911133,
          "pc2": 38.635337829589844
         },
         {
          "pc1": -29.137451171875,
          "pc2": -51.88760757446289
         },
         {
          "pc1": -24.633790969848633,
          "pc2": -73.57553100585938
         },
         {
          "pc1": 7.404155254364014,
          "pc2": 44.70192337036133
         },
         {
          "pc1": -14.112586975097656,
          "pc2": -55.34852600097656
         },
         {
          "pc1": -37.70574188232422,
          "pc2": 66.87223052978516
         },
         {
          "pc1": 8.170745849609375,
          "pc2": -34.567909240722656
         },
         {
          "pc1": 44.44031524658203,
          "pc2": 54.853492736816406
         },
         {
          "pc1": 13.60159683227539,
          "pc2": -78.92079162597656
         },
         {
          "pc1": -38.48870849609375,
          "pc2": 61.29694747924805
         },
         {
          "pc1": 44.547752380371094,
          "pc2": -48.867977142333984
         },
         {
          "pc1": 35.50309753417969,
          "pc2": -22.476909637451172
         },
         {
          "pc1": -11.086013793945312,
          "pc2": 1.6648173332214355
         },
         {
          "pc1": 10.27710247039795,
          "pc2": -44.89824295043945
         },
         {
          "pc1": -44.68585968017578,
          "pc2": 23.493410110473633
         },
         {
          "pc1": -14.091310501098633,
          "pc2": -24.708011627197266
         },
         {
          "pc1": -58.20337677001953,
          "pc2": -12.454968452453613
         }
        ],
        "data-f1b13aa978d28c691f5da0b8639ff2a7": [
         {
          "pc1": 50.20321273803711,
          "pc2": 15.361382484436035
         },
         {
          "pc1": -40.24756622314453,
          "pc2": 51.77231979370117
         },
         {
          "pc1": -24.746131896972656,
          "pc2": -19.722091674804688
         },
         {
          "pc1": 36.61777877807617,
          "pc2": 52.77294158935547
         },
         {
          "pc1": -8.86176872253418,
          "pc2": 70.93705749511719
         },
         {
          "pc1": -21.161712646484375,
          "pc2": -77.76165008544922
         },
         {
          "pc1": 59.35224533081055,
          "pc2": -4.205458164215088
         },
         {
          "pc1": 21.264371871948242,
          "pc2": 28.943931579589844
         },
         {
          "pc1": -58.017940521240234,
          "pc2": -12.616868019104004
         },
         {
          "pc1": -43.49196243286133,
          "pc2": 22.458656311035156
         },
         {
          "pc1": 40.20880126953125,
          "pc2": -57.23381042480469
         },
         {
          "pc1": 40.02083206176758,
          "pc2": 19.279401779174805
         },
         {
          "pc1": 28.81011962890625,
          "pc2": -68.16300201416016
         },
         {
          "pc1": -38.953636169433594,
          "pc2": -12.439105033874512
         },
         {
          "pc1": 38.959537506103516,
          "pc2": -56.81936264038086
         },
         {
          "pc1": 49.049163818359375,
          "pc2": 26.198030471801758
         },
         {
          "pc1": -21.236103057861328,
          "pc2": -23.933156967163086
         },
         {
          "pc1": 19.42253303527832,
          "pc2": 9.360697746276855
         },
         {
          "pc1": 35.21242904663086,
          "pc2": 39.58943176269531
         },
         {
          "pc1": 21.93817710876465,
          "pc2": 27.337413787841797
         },
         {
          "pc1": 61.34879684448242,
          "pc2": 19.122432708740234
         },
         {
          "pc1": 39.42720031738281,
          "pc2": 42.53158950805664
         },
         {
          "pc1": -63.69209671020508,
          "pc2": -20.10795021057129
         },
         {
          "pc1": -20.949079513549805,
          "pc2": 55.871219635009766
         },
         {
          "pc1": -37.271240234375,
          "pc2": 13.811919212341309
         },
         {
          "pc1": 15.439492225646973,
          "pc2": -76.89749908447266
         },
         {
          "pc1": 0.7804264426231384,
          "pc2": -7.47449254989624
         },
         {
          "pc1": -36.75090408325195,
          "pc2": 75.93748474121094
         },
         {
          "pc1": -0.4633939266204834,
          "pc2": 39.681705474853516
         },
         {
          "pc1": -10.743907928466797,
          "pc2": -51.1370964050293
         },
         {
          "pc1": -22.171955108642578,
          "pc2": -76.99427795410156
         },
         {
          "pc1": -36.53656768798828,
          "pc2": -47.961795806884766
         },
         {
          "pc1": -6.88214635848999,
          "pc2": -81.3905029296875
         },
         {
          "pc1": -12.632872581481934,
          "pc2": -28.128406524658203
         },
         {
          "pc1": -54.77259063720703,
          "pc2": -10.268004417419434
         },
         {
          "pc1": -26.06674575805664,
          "pc2": -73.3222885131836
         },
         {
          "pc1": -1.03225576877594,
          "pc2": 76.0224380493164
         },
         {
          "pc1": 40.51396560668945,
          "pc2": 3.1075634956359863
         },
         {
          "pc1": -37.39271926879883,
          "pc2": -12.791675567626953
         },
         {
          "pc1": -23.826377868652344,
          "pc2": -20.382888793945312
         },
         {
          "pc1": 36.8048210144043,
          "pc2": -23.180879592895508
         },
         {
          "pc1": 11.574454307556152,
          "pc2": 30.1613826751709
         },
         {
          "pc1": 3.456866979598999,
          "pc2": 10.84742546081543
         },
         {
          "pc1": 12.865461349487305,
          "pc2": 23.24612045288086
         },
         {
          "pc1": 2.17746639251709,
          "pc2": -80.69049072265625
         },
         {
          "pc1": -36.61823654174805,
          "pc2": 43.43523025512695
         },
         {
          "pc1": 45.76906967163086,
          "pc2": -48.11384963989258
         },
         {
          "pc1": -40.05032730102539,
          "pc2": 51.00404739379883
         },
         {
          "pc1": 59.16416549682617,
          "pc2": -3.770359516143799
         },
         {
          "pc1": -35.41814041137695,
          "pc2": -13.364784240722656
         },
         {
          "pc1": 33.48149871826172,
          "pc2": 51.130096435546875
         },
         {
          "pc1": 28.74492073059082,
          "pc2": 47.71822738647461
         },
         {
          "pc1": -20.492921829223633,
          "pc2": -78.30168914794922
         },
         {
          "pc1": 9.892887115478516,
          "pc2": 29.914583206176758
         },
         {
          "pc1": -23.203550338745117,
          "pc2": 56.1240119934082
         },
         {
          "pc1": -35.66765594482422,
          "pc2": 78.2254409790039
         },
         {
          "pc1": -26.750635147094727,
          "pc2": 39.1319465637207
         },
         {
          "pc1": 39.38661575317383,
          "pc2": -59.94142532348633
         },
         {
          "pc1": -3.6639556884765625,
          "pc2": 26.931684494018555
         },
         {
          "pc1": 36.39623260498047,
          "pc2": 40.660396575927734
         },
         {
          "pc1": -63.13504409790039,
          "pc2": -19.090654373168945
         },
         {
          "pc1": -32.165916442871094,
          "pc2": 16.12660026550293
         },
         {
          "pc1": 7.75474739074707,
          "pc2": -48.936458587646484
         },
         {
          "pc1": -49.5192985534668,
          "pc2": -8.344074249267578
         },
         {
          "pc1": 21.999954223632812,
          "pc2": -73.8294448852539
         },
         {
          "pc1": -34.72794723510742,
          "pc2": -48.886173248291016
         },
         {
          "pc1": 45.31812286376953,
          "pc2": -21.469482421875
         },
         {
          "pc1": 8.257481575012207,
          "pc2": 3.7968711853027344
         },
         {
          "pc1": 55.90476989746094,
          "pc2": -3.858276605606079
         },
         {
          "pc1": 25.74452018737793,
          "pc2": -70.64568328857422
         },
         {
          "pc1": -8.193316459655762,
          "pc2": -27.177602767944336
         },
         {
          "pc1": -28.245254516601562,
          "pc2": -20.074949264526367
         },
         {
          "pc1": 19.600271224975586,
          "pc2": -15.976634979248047
         },
         {
          "pc1": 51.3751106262207,
          "pc2": 0.6945976614952087
         },
         {
          "pc1": 61.33380126953125,
          "pc2": 19.120872497558594
         },
         {
          "pc1": 6.290772438049316,
          "pc2": -14.831572532653809
         },
         {
          "pc1": -10.729702949523926,
          "pc2": -6.13675594329834
         },
         {
          "pc1": 51.557708740234375,
          "pc2": 46.50995635986328
         },
         {
          "pc1": 28.388439178466797,
          "pc2": -69.35448455810547
         },
         {
          "pc1": -36.65607833862305,
          "pc2": -14.073817253112793
         },
         {
          "pc1": -0.20881228148937225,
          "pc2": -7.019194602966309
         },
         {
          "pc1": -37.44221115112305,
          "pc2": 69.95562744140625
         },
         {
          "pc1": 43.4697151184082,
          "pc2": 3.123746156692505
         },
         {
          "pc1": 40.352569580078125,
          "pc2": 19.527870178222656
         },
         {
          "pc1": -14.242965698242188,
          "pc2": -82.73174285888672
         },
         {
          "pc1": 44.98027420043945,
          "pc2": -48.71551513671875
         },
         {
          "pc1": 16.093229293823242,
          "pc2": -76.79766082763672
         },
         {
          "pc1": -15.672845840454102,
          "pc2": -29.585521697998047
         },
         {
          "pc1": -9.233708381652832,
          "pc2": -27.7474308013916
         },
         {
          "pc1": -39.609683990478516,
          "pc2": -48.22873306274414
         },
         {
          "pc1": -6.18339204788208,
          "pc2": 64.52934265136719
         },
         {
          "pc1": -1.3099839687347412,
          "pc2": 76.43517303466797
         },
         {
          "pc1": 26.09223175048828,
          "pc2": 42.83236312866211
         },
         {
          "pc1": -28.374305725097656,
          "pc2": -47.883995056152344
         },
         {
          "pc1": 49.192623138427734,
          "pc2": -2.2428553104400635
         },
         {
          "pc1": 28.601625442504883,
          "pc2": -70.3202896118164
         },
         {
          "pc1": 5.258299827575684,
          "pc2": 28.95694923400879
         },
         {
          "pc1": -40.461483001708984,
          "pc2": 18.501270294189453
         },
         {
          "pc1": -17.52764320373535,
          "pc2": 3.319338083267212
         },
         {
          "pc1": -1.5323647260665894,
          "pc2": -13.393736839294434
         },
         {
          "pc1": -22.16136360168457,
          "pc2": -21.404525756835938
         },
         {
          "pc1": 40.779598236083984,
          "pc2": -1.237951397895813
         },
         {
          "pc1": 43.44167709350586,
          "pc2": -0.8843096494674683
         },
         {
          "pc1": -24.309709548950195,
          "pc2": -48.6844367980957
         },
         {
          "pc1": 42.386993408203125,
          "pc2": -50.870182037353516
         },
         {
          "pc1": 35.24724578857422,
          "pc2": -62.72300338745117
         },
         {
          "pc1": 54.103572845458984,
          "pc2": 14.313848495483398
         },
         {
          "pc1": -16.39461898803711,
          "pc2": -29.00054359436035
         },
         {
          "pc1": 47.927249908447266,
          "pc2": 26.344018936157227
         },
         {
          "pc1": -22.043304443359375,
          "pc2": -74.64624786376953
         },
         {
          "pc1": 53.113162994384766,
          "pc2": -2.643462657928467
         },
         {
          "pc1": 34.89269256591797,
          "pc2": -64.99473571777344
         },
         {
          "pc1": -22.919675827026367,
          "pc2": 38.28387451171875
         },
         {
          "pc1": 35.394229888916016,
          "pc2": 39.7619514465332
         },
         {
          "pc1": -40.557281494140625,
          "pc2": 49.07478332519531
         },
         {
          "pc1": 0.7152987122535706,
          "pc2": 75.15272521972656
         },
         {
          "pc1": -25.48272705078125,
          "pc2": -54.430450439453125
         },
         {
          "pc1": -36.335350036621094,
          "pc2": 78.1279067993164
         },
         {
          "pc1": -23.073102951049805,
          "pc2": -20.9899845123291
         },
         {
          "pc1": -54.15904998779297,
          "pc2": -9.927048683166504
         },
         {
          "pc1": -46.842037200927734,
          "pc2": -15.618093490600586
         },
         {
          "pc1": -9.353641510009766,
          "pc2": -7.838301658630371
         },
         {
          "pc1": 33.88187789916992,
          "pc2": 37.969566345214844
         },
         {
          "pc1": -5.506869316101074,
          "pc2": 27.513389587402344
         },
         {
          "pc1": 11.339617729187012,
          "pc2": -39.11492156982422
         },
         {
          "pc1": -5.582722187042236,
          "pc2": 75.25725555419922
         },
         {
          "pc1": 44.93419647216797,
          "pc2": 55.73369598388672
         },
         {
          "pc1": 9.846059799194336,
          "pc2": 3.803584337234497
         },
         {
          "pc1": 22.70233726501465,
          "pc2": -12.753599166870117
         },
         {
          "pc1": -47.07167434692383,
          "pc2": -45.83915328979492
         },
         {
          "pc1": 45.361412048339844,
          "pc2": -21.903526306152344
         },
         {
          "pc1": -41.841163635253906,
          "pc2": 24.12569236755371
         },
         {
          "pc1": -42.81024932861328,
          "pc2": 23.392925262451172
         },
         {
          "pc1": -24.366701126098633,
          "pc2": -75.12359619140625
         },
         {
          "pc1": 34.18513870239258,
          "pc2": -21.363712310791016
         },
         {
          "pc1": 51.71825408935547,
          "pc2": 54.5372200012207
         },
         {
          "pc1": -40.02775955200195,
          "pc2": 57.890995025634766
         },
         {
          "pc1": -5.180940628051758,
          "pc2": -28.618972778320312
         },
         {
          "pc1": 1.9352918863296509,
          "pc2": -80.27992248535156
         },
         {
          "pc1": -36.438934326171875,
          "pc2": 43.85731887817383
         },
         {
          "pc1": 51.941444396972656,
          "pc2": 25.48522186279297
         },
         {
          "pc1": 57.466026306152344,
          "pc2": 23.91064453125
         },
         {
          "pc1": -44.008060455322266,
          "pc2": -41.08820343017578
         },
         {
          "pc1": 24.302278518676758,
          "pc2": -16.504289627075195
         },
         {
          "pc1": -9.432899475097656,
          "pc2": 34.83846664428711
         },
         {
          "pc1": -52.189701080322266,
          "pc2": -8.678606986999512
         },
         {
          "pc1": -40.08137893676758,
          "pc2": 49.315425872802734
         },
         {
          "pc1": -6.840081691741943,
          "pc2": -51.04204559326172
         },
         {
          "pc1": 10.245454788208008,
          "pc2": 11.054821968078613
         },
         {
          "pc1": -8.956412315368652,
          "pc2": 56.43614196777344
         },
         {
          "pc1": -31.32047462463379,
          "pc2": -48.34211349487305
         },
         {
          "pc1": 30.07643699645996,
          "pc2": -19.89410400390625
         },
         {
          "pc1": 12.773421287536621,
          "pc2": 24.22888946533203
         },
         {
          "pc1": 1.8687607049942017,
          "pc2": -80.72578430175781
         },
         {
          "pc1": -19.631301879882812,
          "pc2": 57.117130279541016
         },
         {
          "pc1": 44.953521728515625,
          "pc2": 18.121389389038086
         },
         {
          "pc1": -47.986270904541016,
          "pc2": -9.916897773742676
         },
         {
          "pc1": -27.7121524810791,
          "pc2": -17.413162231445312
         },
         {
          "pc1": -17.78643798828125,
          "pc2": 63.315574645996094
         },
         {
          "pc1": -12.141565322875977,
          "pc2": 35.1483039855957
         },
         {
          "pc1": -11.690345764160156,
          "pc2": 71.66593170166016
         },
         {
          "pc1": 25.826547622680664,
          "pc2": 41.69034957885742
         },
         {
          "pc1": 34.040306091308594,
          "pc2": -64.75944519042969
         },
         {
          "pc1": -40.50897216796875,
          "pc2": -47.908714294433594
         },
         {
          "pc1": -63.331295013427734,
          "pc2": -21.330768585205078
         },
         {
          "pc1": 6.763445854187012,
          "pc2": -49.39183807373047
         },
         {
          "pc1": -23.649717330932617,
          "pc2": -51.391700744628906
         },
         {
          "pc1": -23.820629119873047,
          "pc2": 16.96750259399414
         },
         {
          "pc1": -38.03221130371094,
          "pc2": 65.61911010742188
         },
         {
          "pc1": -18.05324935913086,
          "pc2": -80.28170776367188
         },
         {
          "pc1": 39.97821044921875,
          "pc2": -0.6788811683654785
         },
         {
          "pc1": 42.6611442565918,
          "pc2": 17.22241973876953
         },
         {
          "pc1": -37.78247833251953,
          "pc2": 66.02005004882812
         },
         {
          "pc1": 28.542339324951172,
          "pc2": 46.10270309448242
         },
         {
          "pc1": -40.15372848510742,
          "pc2": 50.2603645324707
         },
         {
          "pc1": 57.913875579833984,
          "pc2": 54.330135345458984
         },
         {
          "pc1": -55.67265701293945,
          "pc2": -9.664412498474121
         },
         {
          "pc1": 7.759146690368652,
          "pc2": -47.586402893066406
         },
         {
          "pc1": 0.2882595360279083,
          "pc2": 43.3851432800293
         },
         {
          "pc1": -3.2975504398345947,
          "pc2": 18.271682739257812
         },
         {
          "pc1": -34.413394927978516,
          "pc2": -20.363414764404297
         },
         {
          "pc1": -54.3637809753418,
          "pc2": -10.000652313232422
         },
         {
          "pc1": -4.835813999176025,
          "pc2": 5.719211101531982
         },
         {
          "pc1": -23.169750213623047,
          "pc2": -20.66016387939453
         },
         {
          "pc1": -39.30860137939453,
          "pc2": 18.463706970214844
         },
         {
          "pc1": 49.32697296142578,
          "pc2": 15.050470352172852
         },
         {
          "pc1": -31.410581588745117,
          "pc2": 40.4451904296875
         },
         {
          "pc1": 9.313240051269531,
          "pc2": 4.291036605834961
         },
         {
          "pc1": -22.829843521118164,
          "pc2": 38.65633773803711
         },
         {
          "pc1": -1.4887380599975586,
          "pc2": -82.77600860595703
         },
         {
          "pc1": 1.262159824371338,
          "pc2": 76.9936752319336
         },
         {
          "pc1": 0.2027263045310974,
          "pc2": 78.04222106933594
         },
         {
          "pc1": -2.5982837677001953,
          "pc2": 24.16658592224121
         },
         {
          "pc1": 34.49507141113281,
          "pc2": -64.26960754394531
         },
         {
          "pc1": -19.541784286499023,
          "pc2": -24.69342613220215
         },
         {
          "pc1": 51.293243408203125,
          "pc2": 0.7298473119735718
         },
         {
          "pc1": -20.509679794311523,
          "pc2": 20.946063995361328
         },
         {
          "pc1": -9.453034400939941,
          "pc2": 34.83631896972656
         },
         {
          "pc1": 0.597250759601593,
          "pc2": -81.58049011230469
         },
         {
          "pc1": -38.006065368652344,
          "pc2": 23.93523406982422
         },
         {
          "pc1": -40.052982330322266,
          "pc2": 55.58586502075195
         },
         {
          "pc1": 59.14181900024414,
          "pc2": 14.316697120666504
         },
         {
          "pc1": 43.80780029296875,
          "pc2": -52.2831916809082
         },
         {
          "pc1": 55.172645568847656,
          "pc2": 24.378385543823242
         },
         {
          "pc1": 28.079072952270508,
          "pc2": -18.120576858520508
         },
         {
          "pc1": 30.085302352905273,
          "pc2": 47.9614143371582
         },
         {
          "pc1": -36.04948425292969,
          "pc2": 55.89093780517578
         },
         {
          "pc1": 12.266669273376465,
          "pc2": -77.8455810546875
         },
         {
          "pc1": -35.62709045410156,
          "pc2": 23.41582679748535
         },
         {
          "pc1": 6.044299125671387,
          "pc2": 4.3758931159973145
         },
         {
          "pc1": 41.71097946166992,
          "pc2": 19.957088470458984
         },
         {
          "pc1": -16.76730728149414,
          "pc2": -80.67990112304688
         },
         {
          "pc1": -56.26362609863281,
          "pc2": -10.78345012664795
         },
         {
          "pc1": -1.6215407848358154,
          "pc2": -29.855451583862305
         },
         {
          "pc1": -6.68658971786499,
          "pc2": -31.802038192749023
         },
         {
          "pc1": -11.227200508117676,
          "pc2": -26.116975784301758
         },
         {
          "pc1": 11.417631149291992,
          "pc2": -73.62092590332031
         },
         {
          "pc1": -2.77935528755188,
          "pc2": 76.72357177734375
         },
         {
          "pc1": -11.136324882507324,
          "pc2": 72.28950500488281
         },
         {
          "pc1": -48.887428283691406,
          "pc2": -9.059603691101074
         },
         {
          "pc1": -46.906517028808594,
          "pc2": -15.634237289428711
         },
         {
          "pc1": 14.509986877441406,
          "pc2": 28.24748992919922
         },
         {
          "pc1": 6.344447135925293,
          "pc2": -28.278661727905273
         },
         {
          "pc1": -1.0357354879379272,
          "pc2": -7.640161037445068
         },
         {
          "pc1": -17.789852142333984,
          "pc2": 3.1350789070129395
         },
         {
          "pc1": -43.31941604614258,
          "pc2": -9.572698593139648
         },
         {
          "pc1": -9.617839813232422,
          "pc2": 39.9127082824707
         },
         {
          "pc1": 3.51245379447937,
          "pc2": 10.853181838989258
         },
         {
          "pc1": 50.77899932861328,
          "pc2": 0.9524427652359009
         },
         {
          "pc1": -23.00944709777832,
          "pc2": -54.569061279296875
         },
         {
          "pc1": 58.35008239746094,
          "pc2": 17.156829833984375
         },
         {
          "pc1": 16.4403133392334,
          "pc2": 6.3141679763793945
         },
         {
          "pc1": -8.131319999694824,
          "pc2": 26.97052764892578
         },
         {
          "pc1": 37.73075485229492,
          "pc2": 41.609458923339844
         },
         {
          "pc1": 0.5423309803009033,
          "pc2": 76.79891204833984
         },
         {
          "pc1": -26.72784996032715,
          "pc2": -48.51674270629883
         },
         {
          "pc1": -56.2663688659668,
          "pc2": -11.024788856506348
         },
         {
          "pc1": 0.6903666853904724,
          "pc2": 27.94127655029297
         },
         {
          "pc1": -4.811542987823486,
          "pc2": 17.133386611938477
         },
         {
          "pc1": 6.974303245544434,
          "pc2": 11.018980979919434
         },
         {
          "pc1": 16.067214965820312,
          "pc2": 6.3848557472229
         },
         {
          "pc1": -10.862700462341309,
          "pc2": -27.821826934814453
         },
         {
          "pc1": 40.92380905151367,
          "pc2": -57.013980865478516
         },
         {
          "pc1": 3.2258286476135254,
          "pc2": -50.90959548950195
         },
         {
          "pc1": 7.976920127868652,
          "pc2": 45.4873046875
         },
         {
          "pc1": -25.87652587890625,
          "pc2": -18.943754196166992
         },
         {
          "pc1": -1.1928354501724243,
          "pc2": 19.570592880249023
         },
         {
          "pc1": 60.627132415771484,
          "pc2": 17.175914764404297
         },
         {
          "pc1": -12.304706573486328,
          "pc2": -3.070189952850342
         },
         {
          "pc1": 38.71873092651367,
          "pc2": -23.98128890991211
         },
         {
          "pc1": -19.132221221923828,
          "pc2": 35.810829162597656
         },
         {
          "pc1": 1.2423826456069946,
          "pc2": -51.44256591796875
         },
         {
          "pc1": -35.93866729736328,
          "pc2": 62.40412902832031
         },
         {
          "pc1": -7.698209762573242,
          "pc2": -83.68162536621094
         },
         {
          "pc1": -11.223960876464844,
          "pc2": -25.846317291259766
         },
         {
          "pc1": -8.244255065917969,
          "pc2": -51.429168701171875
         },
         {
          "pc1": 13.136900901794434,
          "pc2": -47.71483612060547
         },
         {
          "pc1": 35.43561935424805,
          "pc2": -64.83123779296875
         },
         {
          "pc1": 53.130836486816406,
          "pc2": 25.12147331237793
         },
         {
          "pc1": 13.735649108886719,
          "pc2": -78.83988189697266
         },
         {
          "pc1": -10.45832633972168,
          "pc2": -27.149555206298828
         },
         {
          "pc1": -62.39000701904297,
          "pc2": -17.54388999938965
         },
         {
          "pc1": 45.0115966796875,
          "pc2": -50.31381607055664
         },
         {
          "pc1": 37.39472579956055,
          "pc2": 42.72511672973633
         },
         {
          "pc1": 46.09443283081055,
          "pc2": -50.66718292236328
         },
         {
          "pc1": -0.229099303483963,
          "pc2": 77.33429718017578
         },
         {
          "pc1": -6.150707244873047,
          "pc2": 75.41720581054688
         },
         {
          "pc1": -4.23004674911499,
          "pc2": 19.023096084594727
         },
         {
          "pc1": -17.60439682006836,
          "pc2": -23.608734130859375
         },
         {
          "pc1": 58.76240921020508,
          "pc2": 14.533663749694824
         },
         {
          "pc1": 13.81232738494873,
          "pc2": 30.080486297607422
         },
         {
          "pc1": -9.435571670532227,
          "pc2": 69.51168823242188
         },
         {
          "pc1": -6.729339122772217,
          "pc2": 70.92508697509766
         },
         {
          "pc1": -28.31905174255371,
          "pc2": -17.978363037109375
         },
         {
          "pc1": -8.464608192443848,
          "pc2": 69.615234375
         },
         {
          "pc1": 13.880685806274414,
          "pc2": -77.06368255615234
         },
         {
          "pc1": 57.61000442504883,
          "pc2": -3.4630677700042725
         },
         {
          "pc1": 3.5259509086608887,
          "pc2": 76.94715118408203
         },
         {
          "pc1": 24.95793914794922,
          "pc2": 39.48659133911133
         },
         {
          "pc1": 37.86697769165039,
          "pc2": -61.90974807739258
         },
         {
          "pc1": -24.91489601135254,
          "pc2": -74.4300308227539
         },
         {
          "pc1": 17.21770668029785,
          "pc2": 23.466798782348633
         },
         {
          "pc1": 41.54615783691406,
          "pc2": -0.4837210476398468
         },
         {
          "pc1": -36.252681732177734,
          "pc2": 43.18046951293945
         },
         {
          "pc1": -49.308746337890625,
          "pc2": -13.451811790466309
         },
         {
          "pc1": 39.58620071411133,
          "pc2": 42.580787658691406
         },
         {
          "pc1": -8.525798797607422,
          "pc2": 62.529415130615234
         },
         {
          "pc1": -3.834956407546997,
          "pc2": 17.86827850341797
         },
         {
          "pc1": 46.958465576171875,
          "pc2": 16.637439727783203
         },
         {
          "pc1": 4.395079135894775,
          "pc2": -80.17688751220703
         },
         {
          "pc1": -38.442867279052734,
          "pc2": 45.52052307128906
         },
         {
          "pc1": -51.32659149169922,
          "pc2": -10.128072738647461
         },
         {
          "pc1": 5.862717628479004,
          "pc2": -9.564483642578125
         },
         {
          "pc1": -36.00188064575195,
          "pc2": 42.37960433959961
         },
         {
          "pc1": -55.839134216308594,
          "pc2": -10.724325180053711
         },
         {
          "pc1": 3.262167453765869,
          "pc2": -50.86880874633789
         },
         {
          "pc1": -27.293779373168945,
          "pc2": -23.03481101989746
         },
         {
          "pc1": 35.80690002441406,
          "pc2": 40.14739990234375
         },
         {
          "pc1": 52.81549072265625,
          "pc2": 46.539337158203125
         },
         {
          "pc1": 54.41079330444336,
          "pc2": 54.456443786621094
         },
         {
          "pc1": -9.435755729675293,
          "pc2": 3.092451572418213
         },
         {
          "pc1": -13.406539916992188,
          "pc2": -25.76143455505371
         },
         {
          "pc1": 50.78889083862305,
          "pc2": 16.685932159423828
         },
         {
          "pc1": -7.734890460968018,
          "pc2": 71.94288635253906
         },
         {
          "pc1": -28.05091667175293,
          "pc2": -22.471036911010742
         },
         {
          "pc1": 23.379173278808594,
          "pc2": -72.1246109008789
         },
         {
          "pc1": 13.812560081481934,
          "pc2": 23.481245040893555
         },
         {
          "pc1": -5.4238505363464355,
          "pc2": -10.967964172363281
         },
         {
          "pc1": -44.40189743041992,
          "pc2": -47.047943115234375
         },
         {
          "pc1": -56.891571044921875,
          "pc2": -10.39194393157959
         },
         {
          "pc1": -33.96742630004883,
          "pc2": -20.681537628173828
         },
         {
          "pc1": -48.467681884765625,
          "pc2": -9.973459243774414
         },
         {
          "pc1": 5.9831862449646,
          "pc2": -15.919020652770996
         },
         {
          "pc1": 52.54684066772461,
          "pc2": 55.23153305053711
         },
         {
          "pc1": -20.263256072998047,
          "pc2": 59.78716278076172
         },
         {
          "pc1": -5.437385082244873,
          "pc2": 65.76139068603516
         },
         {
          "pc1": 56.738834381103516,
          "pc2": -3.4753193855285645
         },
         {
          "pc1": 23.96543312072754,
          "pc2": 24.652301788330078
         },
         {
          "pc1": -46.29352569580078,
          "pc2": -46.145729064941406
         },
         {
          "pc1": 3.8176443576812744,
          "pc2": -8.175241470336914
         },
         {
          "pc1": -37.695526123046875,
          "pc2": 17.16014862060547
         },
         {
          "pc1": -42.34403991699219,
          "pc2": -9.851164817810059
         },
         {
          "pc1": 5.02754020690918,
          "pc2": -14.919608116149902
         },
         {
          "pc1": -27.96832847595215,
          "pc2": 16.558443069458008
         },
         {
          "pc1": -44.869239807128906,
          "pc2": -40.71711730957031
         },
         {
          "pc1": 53.75054931640625,
          "pc2": 24.917800903320312
         },
         {
          "pc1": -64.62171173095703,
          "pc2": -19.706880569458008
         },
         {
          "pc1": -8.380474090576172,
          "pc2": -51.79375457763672
         },
         {
          "pc1": -18.647794723510742,
          "pc2": 62.23152542114258
         },
         {
          "pc1": 15.652519226074219,
          "pc2": 29.024250030517578
         },
         {
          "pc1": -24.146041870117188,
          "pc2": -49.256900787353516
         },
         {
          "pc1": 46.926265716552734,
          "pc2": 16.644058227539062
         },
         {
          "pc1": -20.963268280029297,
          "pc2": -49.9968376159668
         },
         {
          "pc1": -6.876472473144531,
          "pc2": -82.98067474365234
         },
         {
          "pc1": 29.764020919799805,
          "pc2": 48.22474670410156
         },
         {
          "pc1": -20.682950973510742,
          "pc2": 37.93596267700195
         },
         {
          "pc1": 49.95274353027344,
          "pc2": 27.055702209472656
         },
         {
          "pc1": 33.4674072265625,
          "pc2": -21.49022674560547
         },
         {
          "pc1": -15.395302772521973,
          "pc2": -50.143680572509766
         },
         {
          "pc1": -9.116077423095703,
          "pc2": -82.7762451171875
         },
         {
          "pc1": -14.246257781982422,
          "pc2": -25.742088317871094
         },
         {
          "pc1": -11.502435684204102,
          "pc2": -50.40058135986328
         },
         {
          "pc1": 43.086631774902344,
          "pc2": 3.1245296001434326
         },
         {
          "pc1": -5.45825719833374,
          "pc2": 65.78594207763672
         },
         {
          "pc1": -58.41346740722656,
          "pc2": -19.0079288482666
         },
         {
          "pc1": 18.812095642089844,
          "pc2": 29.863718032836914
         },
         {
          "pc1": 7.099517822265625,
          "pc2": -9.368042945861816
         },
         {
          "pc1": -44.122947692871094,
          "pc2": 23.54256820678711
         },
         {
          "pc1": -43.751956939697266,
          "pc2": -15.844682693481445
         },
         {
          "pc1": -10.721975326538086,
          "pc2": 68.75249481201172
         },
         {
          "pc1": 37.01430130004883,
          "pc2": 0.6268506646156311
         },
         {
          "pc1": -35.86957931518555,
          "pc2": 42.29930877685547
         },
         {
          "pc1": 2.805572748184204,
          "pc2": -50.955711364746094
         },
         {
          "pc1": -11.115418434143066,
          "pc2": -27.148508071899414
         },
         {
          "pc1": 1.5007752180099487,
          "pc2": -80.90791320800781
         },
         {
          "pc1": 49.67881774902344,
          "pc2": 46.228797912597656
         },
         {
          "pc1": -58.14423370361328,
          "pc2": -18.802827835083008
         },
         {
          "pc1": 41.52005386352539,
          "pc2": -26.54140281677246
         },
         {
          "pc1": -37.50715255737305,
          "pc2": 67.94969940185547
         },
         {
          "pc1": 8.860603332519531,
          "pc2": -78.46961975097656
         },
         {
          "pc1": -16.555641174316406,
          "pc2": 64.85970306396484
         },
         {
          "pc1": 44.89241027832031,
          "pc2": 16.87029266357422
         },
         {
          "pc1": 45.2912483215332,
          "pc2": -51.947715759277344
         },
         {
          "pc1": -3.8473432064056396,
          "pc2": -30.151777267456055
         },
         {
          "pc1": 37.548858642578125,
          "pc2": 0.11826395988464355
         },
         {
          "pc1": -57.455326080322266,
          "pc2": -14.931965827941895
         },
         {
          "pc1": 6.5507307052612305,
          "pc2": 11.009703636169434
         },
         {
          "pc1": -14.539528846740723,
          "pc2": 66.00532531738281
         },
         {
          "pc1": -22.27682876586914,
          "pc2": -49.119903564453125
         },
         {
          "pc1": 4.033631324768066,
          "pc2": -50.063480377197266
         },
         {
          "pc1": 27.009000778198242,
          "pc2": 23.847139358520508
         },
         {
          "pc1": 11.443115234375,
          "pc2": -73.61272430419922
         },
         {
          "pc1": 53.33857727050781,
          "pc2": 25.072477340698242
         },
         {
          "pc1": 55.959434509277344,
          "pc2": 22.797611236572266
         },
         {
          "pc1": -4.42311954498291,
          "pc2": 4.669954776763916
         },
         {
          "pc1": -62.907291412353516,
          "pc2": -18.367958068847656
         },
         {
          "pc1": -44.385162353515625,
          "pc2": -47.05474853515625
         },
         {
          "pc1": -5.752604961395264,
          "pc2": 67.82063293457031
         },
         {
          "pc1": -40.790672302246094,
          "pc2": -50.141334533691406
         },
         {
          "pc1": 35.58604049682617,
          "pc2": -64.17424011230469
         },
         {
          "pc1": -8.441141128540039,
          "pc2": 58.73572540283203
         },
         {
          "pc1": -20.491308212280273,
          "pc2": -48.84257888793945
         },
         {
          "pc1": -23.43519401550293,
          "pc2": -74.67623138427734
         },
         {
          "pc1": 4.636591911315918,
          "pc2": 4.662934303283691
         },
         {
          "pc1": -25.4935302734375,
          "pc2": 38.933319091796875
         },
         {
          "pc1": -36.64381790161133,
          "pc2": 24.462387084960938
         },
         {
          "pc1": 44.14890670776367,
          "pc2": 54.68781661987305
         },
         {
          "pc1": 40.66958236694336,
          "pc2": 19.349905014038086
         },
         {
          "pc1": 54.954368591308594,
          "pc2": 54.268733978271484
         },
         {
          "pc1": 13.207074165344238,
          "pc2": -72.76599884033203
         },
         {
          "pc1": -22.319751739501953,
          "pc2": 17.092195510864258
         },
         {
          "pc1": -9.170374870300293,
          "pc2": -51.49560546875
         },
         {
          "pc1": 12.958990097045898,
          "pc2": 23.255111694335938
         },
         {
          "pc1": -34.07743835449219,
          "pc2": 75.11437225341797
         },
         {
          "pc1": 30.242464065551758,
          "pc2": -19.964181900024414
         },
         {
          "pc1": 60.81312942504883,
          "pc2": 19.062313079833984
         },
         {
          "pc1": 4.982232570648193,
          "pc2": -77.95578002929688
         },
         {
          "pc1": 27.511852264404297,
          "pc2": 45.24386978149414
         },
         {
          "pc1": -1.4914140701293945,
          "pc2": 42.483009338378906
         },
         {
          "pc1": -18.95532989501953,
          "pc2": 21.180952072143555
         },
         {
          "pc1": -16.861522674560547,
          "pc2": 3.931725025177002
         },
         {
          "pc1": -37.33650588989258,
          "pc2": 71.3117446899414
         },
         {
          "pc1": -10.914546012878418,
          "pc2": -51.580467224121094
         },
         {
          "pc1": 43.26493453979492,
          "pc2": 17.676069259643555
         },
         {
          "pc1": 2.0360116958618164,
          "pc2": 77.34210205078125
         },
         {
          "pc1": -35.14359664916992,
          "pc2": -14.423213005065918
         },
         {
          "pc1": 2.6356825828552246,
          "pc2": 44.12335968017578
         },
         {
          "pc1": 0.38206157088279724,
          "pc2": 27.907299041748047
         },
         {
          "pc1": 51.812286376953125,
          "pc2": -2.8313040733337402
         },
         {
          "pc1": -6.724768161773682,
          "pc2": -10.56715202331543
         },
         {
          "pc1": -16.253080368041992,
          "pc2": -29.094106674194336
         },
         {
          "pc1": 6.901339054107666,
          "pc2": -8.242056846618652
         },
         {
          "pc1": -12.925559997558594,
          "pc2": 35.211181640625
         },
         {
          "pc1": -24.59257698059082,
          "pc2": -54.358238220214844
         },
         {
          "pc1": -63.12345504760742,
          "pc2": -25.213289260864258
         },
         {
          "pc1": 45.34037399291992,
          "pc2": -22.397628784179688
         },
         {
          "pc1": -57.34330368041992,
          "pc2": -14.841379165649414
         },
         {
          "pc1": -37.894405364990234,
          "pc2": -13.097554206848145
         },
         {
          "pc1": -43.920623779296875,
          "pc2": 21.8050594329834
         },
         {
          "pc1": -31.286907196044922,
          "pc2": 20.736295700073242
         },
         {
          "pc1": -64.2796630859375,
          "pc2": -22.759153366088867
         },
         {
          "pc1": 15.22241497039795,
          "pc2": 28.364452362060547
         },
         {
          "pc1": -8.607325553894043,
          "pc2": 3.5832061767578125
         },
         {
          "pc1": -11.617679595947266,
          "pc2": -2.074658155441284
         },
         {
          "pc1": -9.149614334106445,
          "pc2": 60.7491340637207
         },
         {
          "pc1": -11.127657890319824,
          "pc2": 71.14110565185547
         },
         {
          "pc1": -42.235565185546875,
          "pc2": 20.058120727539062
         },
         {
          "pc1": 3.6645376682281494,
          "pc2": 76.28584289550781
         },
         {
          "pc1": 4.2537946701049805,
          "pc2": 12.084942817687988
         },
         {
          "pc1": -20.575096130371094,
          "pc2": 20.011465072631836
         },
         {
          "pc1": 10.846445083618164,
          "pc2": 30.24728775024414
         },
         {
          "pc1": 15.720868110656738,
          "pc2": 5.822852611541748
         },
         {
          "pc1": 1.8742953538894653,
          "pc2": -30.204944610595703
         },
         {
          "pc1": 51.6708984375,
          "pc2": 44.914703369140625
         },
         {
          "pc1": 23.879270553588867,
          "pc2": -15.785696029663086
         },
         {
          "pc1": 2.033517837524414,
          "pc2": -51.160301208496094
         },
         {
          "pc1": 10.37124252319336,
          "pc2": 30.154891967773438
         },
         {
          "pc1": -27.8280086517334,
          "pc2": -18.275161743164062
         },
         {
          "pc1": -8.55366039276123,
          "pc2": 71.20613861083984
         },
         {
          "pc1": -44.52709197998047,
          "pc2": -15.520125389099121
         },
         {
          "pc1": -34.3176383972168,
          "pc2": 77.85384368896484
         },
         {
          "pc1": 15.520155906677246,
          "pc2": -14.933969497680664
         },
         {
          "pc1": -58.64802932739258,
          "pc2": -19.21489906311035
         },
         {
          "pc1": -4.821725845336914,
          "pc2": 66.61280059814453
         },
         {
          "pc1": 58.5611457824707,
          "pc2": 55.085025787353516
         },
         {
          "pc1": 19.383800506591797,
          "pc2": 8.706860542297363
         },
         {
          "pc1": 54.967735290527344,
          "pc2": 17.267436981201172
         },
         {
          "pc1": -49.76628494262695,
          "pc2": -13.300786972045898
         },
         {
          "pc1": 44.599727630615234,
          "pc2": 54.14664840698242
         },
         {
          "pc1": 39.61888122558594,
          "pc2": 19.81235694885254
         },
         {
          "pc1": 25.117292404174805,
          "pc2": 24.370840072631836
         },
         {
          "pc1": 45.58871078491211,
          "pc2": -48.749393463134766
         },
         {
          "pc1": -4.653275012969971,
          "pc2": 25.136735916137695
         },
         {
          "pc1": -19.620325088500977,
          "pc2": -50.016212463378906
         },
         {
          "pc1": -29.29021453857422,
          "pc2": -51.801841735839844
         },
         {
          "pc1": 10.429082870483398,
          "pc2": 11.076437950134277
         },
         {
          "pc1": 58.12909698486328,
          "pc2": -3.8315060138702393
         },
         {
          "pc1": 52.23977279663086,
          "pc2": 14.20710563659668
         },
         {
          "pc1": 59.99663162231445,
          "pc2": -3.745248317718506
         },
         {
          "pc1": -28.438106536865234,
          "pc2": 13.447482109069824
         },
         {
          "pc1": -13.661907196044922,
          "pc2": -50.83042907714844
         },
         {
          "pc1": 39.53908157348633,
          "pc2": -58.90228271484375
         },
         {
          "pc1": -0.9420111775398254,
          "pc2": 76.34148406982422
         },
         {
          "pc1": -6.855644226074219,
          "pc2": -83.28949737548828
         },
         {
          "pc1": -33.858482360839844,
          "pc2": 74.13774871826172
         },
         {
          "pc1": 24.872940063476562,
          "pc2": -71.2518081665039
         },
         {
          "pc1": -44.225215911865234,
          "pc2": 22.847091674804688
         },
         {
          "pc1": 58.51791000366211,
          "pc2": 55.11434555053711
         },
         {
          "pc1": 6.970305919647217,
          "pc2": -14.575074195861816
         },
         {
          "pc1": 54.458370208740234,
          "pc2": 15.687822341918945
         },
         {
          "pc1": 26.36672592163086,
          "pc2": -17.4421443939209
         },
         {
          "pc1": 50.34471893310547,
          "pc2": 54.588645935058594
         },
         {
          "pc1": 53.08222579956055,
          "pc2": 54.16383361816406
         },
         {
          "pc1": -13.625048637390137,
          "pc2": 66.4712142944336
         },
         {
          "pc1": -23.25737762451172,
          "pc2": 18.010398864746094
         },
         {
          "pc1": -0.6704791188240051,
          "pc2": -7.870758533477783
         },
         {
          "pc1": -14.350871086120605,
          "pc2": 38.81584930419922
         },
         {
          "pc1": -24.124128341674805,
          "pc2": -49.17976379394531
         },
         {
          "pc1": 34.08843994140625,
          "pc2": -21.29581642150879
         },
         {
          "pc1": -22.415752410888672,
          "pc2": -49.11440658569336
         },
         {
          "pc1": -18.815034866333008,
          "pc2": -79.7740707397461
         },
         {
          "pc1": -5.314873218536377,
          "pc2": 41.50313949584961
         },
         {
          "pc1": 9.232985496520996,
          "pc2": 27.94313621520996
         },
         {
          "pc1": 30.05652618408203,
          "pc2": -68.13038635253906
         },
         {
          "pc1": -12.24411678314209,
          "pc2": -1.7699867486953735
         },
         {
          "pc1": 57.35460662841797,
          "pc2": 54.496395111083984
         },
         {
          "pc1": 46.95613098144531,
          "pc2": -47.75216293334961
         },
         {
          "pc1": 29.121652603149414,
          "pc2": 47.19105529785156
         },
         {
          "pc1": -29.463157653808594,
          "pc2": -48.478363037109375
         },
         {
          "pc1": -38.577056884765625,
          "pc2": -12.051084518432617
         },
         {
          "pc1": 25.254966735839844,
          "pc2": 40.16615676879883
         },
         {
          "pc1": 6.22616720199585,
          "pc2": -49.84035873413086
         },
         {
          "pc1": 13.435522079467773,
          "pc2": -72.64299774169922
         },
         {
          "pc1": -46.472938537597656,
          "pc2": -15.549290657043457
         },
         {
          "pc1": 56.67595672607422,
          "pc2": 53.9390754699707
         },
         {
          "pc1": 26.16847801208496,
          "pc2": 27.290605545043945
         },
         {
          "pc1": -38.70014572143555,
          "pc2": 60.24330139160156
         },
         {
          "pc1": -5.275710105895996,
          "pc2": 74.43893432617188
         },
         {
          "pc1": -34.59565734863281,
          "pc2": 22.577856063842773
         },
         {
          "pc1": 5.668590068817139,
          "pc2": -79.79972839355469
         },
         {
          "pc1": -7.6239333152771,
          "pc2": 74.5013198852539
         },
         {
          "pc1": 20.151844024658203,
          "pc2": 9.541577339172363
         },
         {
          "pc1": -1.7925612926483154,
          "pc2": -51.36402130126953
         },
         {
          "pc1": -11.607933044433594,
          "pc2": -26.57256507873535
         },
         {
          "pc1": 3.525951862335205,
          "pc2": 12.01099967956543
         },
         {
          "pc1": 45.209815979003906,
          "pc2": -48.7249755859375
         },
         {
          "pc1": 34.08661651611328,
          "pc2": -64.75080108642578
         },
         {
          "pc1": -3.6357860565185547,
          "pc2": 41.52771759033203
         },
         {
          "pc1": 10.412219047546387,
          "pc2": 12.399616241455078
         },
         {
          "pc1": -20.288265228271484,
          "pc2": 21.008792877197266
         },
         {
          "pc1": 51.40516662597656,
          "pc2": -2.314415454864502
         },
         {
          "pc1": 52.57564926147461,
          "pc2": -2.4677438735961914
         },
         {
          "pc1": -15.537538528442383,
          "pc2": 66.26660919189453
         },
         {
          "pc1": 28.877845764160156,
          "pc2": 46.81813430786133
         },
         {
          "pc1": 8.408072471618652,
          "pc2": -34.345890045166016
         },
         {
          "pc1": 40.829959869384766,
          "pc2": -26.793010711669922
         },
         {
          "pc1": -30.681880950927734,
          "pc2": 16.191862106323242
         },
         {
          "pc1": 51.019432067871094,
          "pc2": 0.8505178093910217
         },
         {
          "pc1": 44.517372131347656,
          "pc2": -50.39640808105469
         },
         {
          "pc1": 41.4488410949707,
          "pc2": -25.898649215698242
         },
         {
          "pc1": -7.749100685119629,
          "pc2": 64.3218765258789
         },
         {
          "pc1": -39.52720260620117,
          "pc2": 59.04984664916992
         },
         {
          "pc1": 0.19316114485263824,
          "pc2": 76.91664123535156
         },
         {
          "pc1": -10.69043254852295,
          "pc2": -76.82658386230469
         },
         {
          "pc1": -27.073335647583008,
          "pc2": 15.329899787902832
         },
         {
          "pc1": 37.022342681884766,
          "pc2": -63.06330871582031
         },
         {
          "pc1": 11.627899169921875,
          "pc2": -77.89250183105469
         },
         {
          "pc1": -58.88692092895508,
          "pc2": -19.4406681060791
         },
         {
          "pc1": -53.54301071166992,
          "pc2": -9.958073616027832
         },
         {
          "pc1": -9.712677001953125,
          "pc2": -82.63373565673828
         },
         {
          "pc1": -7.037815093994141,
          "pc2": 65.57330322265625
         },
         {
          "pc1": 9.4024076461792,
          "pc2": -35.41527557373047
         },
         {
          "pc1": -42.864891052246094,
          "pc2": -10.88613510131836
         },
         {
          "pc1": -15.760908126831055,
          "pc2": 19.650493621826172
         },
         {
          "pc1": 17.832931518554688,
          "pc2": 23.38863182067871
         },
         {
          "pc1": 1.761209487915039,
          "pc2": -30.159786224365234
         },
         {
          "pc1": -29.664278030395508,
          "pc2": -17.196430206298828
         },
         {
          "pc1": -12.472164154052734,
          "pc2": 70.66070556640625
         },
         {
          "pc1": -45.060943603515625,
          "pc2": -46.58422088623047
         },
         {
          "pc1": -39.209938049316406,
          "pc2": 58.057777404785156
         },
         {
          "pc1": -36.21196365356445,
          "pc2": 57.33795166015625
         },
         {
          "pc1": 52.70115280151367,
          "pc2": 55.22820281982422
         },
         {
          "pc1": 40.5657844543457,
          "pc2": -50.03047561645508
         },
         {
          "pc1": 8.526766777038574,
          "pc2": -32.228763580322266
         },
         {
          "pc1": -27.97648048400879,
          "pc2": 39.840755462646484
         },
         {
          "pc1": 6.321625232696533,
          "pc2": -79.3882064819336
         },
         {
          "pc1": 29.457786560058594,
          "pc2": 47.58393096923828
         },
         {
          "pc1": -6.920998573303223,
          "pc2": -9.5510835647583
         },
         {
          "pc1": -7.155572414398193,
          "pc2": 62.44132995605469
         },
         {
          "pc1": -15.420614242553711,
          "pc2": 66.4292984008789
         },
         {
          "pc1": -14.048649787902832,
          "pc2": -82.071044921875
         },
         {
          "pc1": -0.980520486831665,
          "pc2": -14.016582489013672
         },
         {
          "pc1": -35.265357971191406,
          "pc2": -48.37272644042969
         },
         {
          "pc1": -19.291370391845703,
          "pc2": 61.21780014038086
         },
         {
          "pc1": -30.490896224975586,
          "pc2": -15.532027244567871
         },
         {
          "pc1": 3.5642428398132324,
          "pc2": -9.041116714477539
         },
         {
          "pc1": -33.93953323364258,
          "pc2": 14.883455276489258
         },
         {
          "pc1": 35.1639289855957,
          "pc2": -63.56625747680664
         },
         {
          "pc1": -18.51624870300293,
          "pc2": -80.7082748413086
         },
         {
          "pc1": 28.4138126373291,
          "pc2": -18.74696922302246
         },
         {
          "pc1": -21.318239212036133,
          "pc2": -49.6382942199707
         },
         {
          "pc1": 46.42271423339844,
          "pc2": 15.726472854614258
         },
         {
          "pc1": -5.800038814544678,
          "pc2": 72.70846557617188
         },
         {
          "pc1": 50.76066589355469,
          "pc2": 15.5233736038208
         },
         {
          "pc1": 1.6425552368164062,
          "pc2": -81.34373474121094
         },
         {
          "pc1": -57.77079772949219,
          "pc2": -12.029953956604004
         },
         {
          "pc1": -8.95200252532959,
          "pc2": 3.4370081424713135
         },
         {
          "pc1": -20.753620147705078,
          "pc2": 58.981807708740234
         },
         {
          "pc1": 52.98210525512695,
          "pc2": 55.2359619140625
         },
         {
          "pc1": -22.13717269897461,
          "pc2": -49.18472671508789
         },
         {
          "pc1": 58.09081268310547,
          "pc2": 16.281705856323242
         },
         {
          "pc1": -43.04009246826172,
          "pc2": -47.556251525878906
         },
         {
          "pc1": 8.185542106628418,
          "pc2": -79.94293975830078
         },
         {
          "pc1": 37.53445053100586,
          "pc2": -24.645864486694336
         },
         {
          "pc1": -39.50038528442383,
          "pc2": -48.25499725341797
         },
         {
          "pc1": -43.70203399658203,
          "pc2": 21.39258575439453
         },
         {
          "pc1": 33.56074905395508,
          "pc2": -20.966249465942383
         },
         {
          "pc1": 4.016110420227051,
          "pc2": -37.934410095214844
         },
         {
          "pc1": -16.313579559326172,
          "pc2": 20.10742950439453
         },
         {
          "pc1": -6.680685997009277,
          "pc2": 63.601722717285156
         },
         {
          "pc1": -23.832197189331055,
          "pc2": 55.214290618896484
         },
         {
          "pc1": 0.19926348328590393,
          "pc2": 28.02381706237793
         },
         {
          "pc1": -3.8083088397979736,
          "pc2": -11.992008209228516
         },
         {
          "pc1": -17.363496780395508,
          "pc2": -25.67547607421875
         },
         {
          "pc1": 19.297197341918945,
          "pc2": 10.31182861328125
         },
         {
          "pc1": 5.39961576461792,
          "pc2": -9.540200233459473
         },
         {
          "pc1": -37.83731460571289,
          "pc2": 17.598867416381836
         },
         {
          "pc1": 25.306245803833008,
          "pc2": 40.64036178588867
         },
         {
          "pc1": -5.6378912925720215,
          "pc2": -79.10163879394531
         },
         {
          "pc1": 46.95645523071289,
          "pc2": -47.589988708496094
         },
         {
          "pc1": 46.430721282958984,
          "pc2": 26.59180450439453
         },
         {
          "pc1": 5.597048282623291,
          "pc2": -15.85631275177002
         },
         {
          "pc1": -26.275217056274414,
          "pc2": -74.022705078125
         },
         {
          "pc1": -30.18722915649414,
          "pc2": 20.474863052368164
         },
         {
          "pc1": -3.3099772930145264,
          "pc2": 23.908201217651367
         },
         {
          "pc1": 18.055946350097656,
          "pc2": -15.732831001281738
         },
         {
          "pc1": -2.7856526374816895,
          "pc2": -29.645915985107422
         },
         {
          "pc1": -39.4688720703125,
          "pc2": 42.29119110107422
         },
         {
          "pc1": -44.10285949707031,
          "pc2": -47.11652374267578
         },
         {
          "pc1": -7.637449741363525,
          "pc2": 26.124225616455078
         },
         {
          "pc1": -4.598078727722168,
          "pc2": 5.23270845413208
         },
         {
          "pc1": -8.209733963012695,
          "pc2": 26.025487899780273
         },
         {
          "pc1": -40.942962646484375,
          "pc2": 19.283811569213867
         },
         {
          "pc1": -42.44451904296875,
          "pc2": -10.464824676513672
         },
         {
          "pc1": 4.3019938468933105,
          "pc2": 12.087630271911621
         },
         {
          "pc1": 2.9628396034240723,
          "pc2": 44.469608306884766
         },
         {
          "pc1": 14.154956817626953,
          "pc2": 30.098417282104492
         },
         {
          "pc1": 39.174530029296875,
          "pc2": 42.410953521728516
         },
         {
          "pc1": -11.98666000366211,
          "pc2": -0.9552554488182068
         },
         {
          "pc1": 4.681879997253418,
          "pc2": 27.648096084594727
         },
         {
          "pc1": -20.041433334350586,
          "pc2": 56.48081970214844
         },
         {
          "pc1": 5.872742652893066,
          "pc2": 11.02602767944336
         },
         {
          "pc1": 20.544538497924805,
          "pc2": 11.032410621643066
         },
         {
          "pc1": 8.022522926330566,
          "pc2": 4.072488307952881
         },
         {
          "pc1": -10.797799110412598,
          "pc2": 39.532649993896484
         },
         {
          "pc1": -17.27071762084961,
          "pc2": 3.5749330520629883
         },
         {
          "pc1": 6.693248748779297,
          "pc2": -14.854782104492188
         },
         {
          "pc1": -61.16962432861328,
          "pc2": -15.4881591796875
         },
         {
          "pc1": -52.68487548828125,
          "pc2": -10.969656944274902
         },
         {
          "pc1": 56.745140075683594,
          "pc2": 14.235960960388184
         },
         {
          "pc1": -40.36597442626953,
          "pc2": 48.195289611816406
         },
         {
          "pc1": 38.31622314453125,
          "pc2": 19.5848331451416
         },
         {
          "pc1": 52.43233108520508,
          "pc2": 14.188207626342773
         },
         {
          "pc1": 44.85338592529297,
          "pc2": 27.673017501831055
         },
         {
          "pc1": -23.993106842041016,
          "pc2": 38.569923400878906
         },
         {
          "pc1": 10.165157318115234,
          "pc2": -36.22018814086914
         },
         {
          "pc1": -11.876789093017578,
          "pc2": -51.15351104736328
         },
         {
          "pc1": 41.420955657958984,
          "pc2": 54.26566696166992
         },
         {
          "pc1": 28.68393325805664,
          "pc2": -68.75525665283203
         },
         {
          "pc1": -15.049742698669434,
          "pc2": 67.05294036865234
         },
         {
          "pc1": 5.5831098556518555,
          "pc2": 26.505701065063477
         },
         {
          "pc1": -46.82109069824219,
          "pc2": -9.93616771697998
         },
         {
          "pc1": 9.480658531188965,
          "pc2": 27.341947555541992
         },
         {
          "pc1": -2.5962870121002197,
          "pc2": -12.790170669555664
         },
         {
          "pc1": 6.189839839935303,
          "pc2": -33.88641357421875
         },
         {
          "pc1": -35.74481964111328,
          "pc2": -48.93186950683594
         },
         {
          "pc1": -11.15514087677002,
          "pc2": 72.27178192138672
         },
         {
          "pc1": -48.8455810546875,
          "pc2": -9.020254135131836
         },
         {
          "pc1": -31.747358322143555,
          "pc2": -48.07316207885742
         },
         {
          "pc1": -15.380702018737793,
          "pc2": -50.586036682128906
         },
         {
          "pc1": -11.552868843078613,
          "pc2": 35.01420211791992
         },
         {
          "pc1": 60.958457946777344,
          "pc2": -3.4903078079223633
         },
         {
          "pc1": -24.987546920776367,
          "pc2": -79.79644012451172
         },
         {
          "pc1": -13.340069770812988,
          "pc2": -82.19898223876953
         },
         {
          "pc1": -40.64142990112305,
          "pc2": 53.08306121826172
         },
         {
          "pc1": 34.996761322021484,
          "pc2": -63.01015090942383
         },
         {
          "pc1": -64.48009490966797,
          "pc2": -23.5174560546875
         },
         {
          "pc1": 9.597827911376953,
          "pc2": -45.7227668762207
         },
         {
          "pc1": -59.762290954589844,
          "pc2": -13.10478401184082
         },
         {
          "pc1": 38.66543960571289,
          "pc2": -60.518733978271484
         },
         {
          "pc1": 39.78874206542969,
          "pc2": 17.42859649658203
         },
         {
          "pc1": -49.510498046875,
          "pc2": -8.34181022644043
         },
         {
          "pc1": -22.563610076904297,
          "pc2": 38.138973236083984
         },
         {
          "pc1": -0.6068892478942871,
          "pc2": 27.886795043945312
         },
         {
          "pc1": 3.8158395290374756,
          "pc2": -46.82474136352539
         },
         {
          "pc1": 3.4026989936828613,
          "pc2": 77.48847961425781
         },
         {
          "pc1": -33.4995002746582,
          "pc2": -21.056591033935547
         },
         {
          "pc1": -41.01131820678711,
          "pc2": -10.392351150512695
         },
         {
          "pc1": -43.231178283691406,
          "pc2": -8.543624877929688
         },
         {
          "pc1": -13.771607398986816,
          "pc2": -50.8321533203125
         },
         {
          "pc1": -39.36712646484375,
          "pc2": -11.21921443939209
         }
        ]
       },
       "hconcat": [
        {
         "data": {
          "name": "data-4406e9ff27426907c78ddf0f1c5c91a5"
         },
         "encoding": {
          "x": {
           "field": "pc1",
           "type": "quantitative"
          },
          "y": {
           "field": "pc2",
           "type": "quantitative"
          }
         },
         "height": 200,
         "mark": "point",
         "selection": {
          "selector001": {
           "bind": "scales",
           "encodings": [
            "x",
            "y"
           ],
           "type": "interval"
          }
         },
         "width": 200
        },
        {
         "data": {
          "name": "data-0baa634ea900966d037d8fd34aea801e"
         },
         "encoding": {
          "x": {
           "field": "pc1",
           "type": "quantitative"
          },
          "y": {
           "field": "pc2",
           "type": "quantitative"
          }
         },
         "height": 200,
         "mark": "point",
         "selection": {
          "selector002": {
           "bind": "scales",
           "encodings": [
            "x",
            "y"
           ],
           "type": "interval"
          }
         },
         "width": 200
        },
        {
         "data": {
          "name": "data-1d6921f567b6b14ec12e6db146edf209"
         },
         "encoding": {
          "x": {
           "field": "pc1",
           "type": "quantitative"
          },
          "y": {
           "field": "pc2",
           "type": "quantitative"
          }
         },
         "height": 200,
         "mark": "point",
         "selection": {
          "selector003": {
           "bind": "scales",
           "encodings": [
            "x",
            "y"
           ],
           "type": "interval"
          }
         },
         "width": 200
        },
        {
         "data": {
          "name": "data-f1b13aa978d28c691f5da0b8639ff2a7"
         },
         "encoding": {
          "x": {
           "field": "pc1",
           "type": "quantitative"
          },
          "y": {
           "field": "pc2",
           "type": "quantitative"
          }
         },
         "height": 200,
         "mark": "point",
         "selection": {
          "selector004": {
           "bind": "scales",
           "encodings": [
            "x",
            "y"
           ],
           "type": "interval"
          }
         },
         "width": 200
        },
        {
         "data": {
          "name": "data-6bb33057d368836b7e40a97a98df06aa"
         },
         "encoding": {
          "x": {
           "field": "pc1",
           "type": "quantitative"
          },
          "y": {
           "field": "pc2",
           "type": "quantitative"
          }
         },
         "height": 200,
         "mark": "point",
         "selection": {
          "selector005": {
           "bind": "scales",
           "encodings": [
            "x",
            "y"
           ],
           "type": "interval"
          }
         },
         "width": 200
        },
        {
         "data": {
          "name": "data-61a9712930140a16f5a361b8a5f0704d"
         },
         "encoding": {
          "x": {
           "field": "pc1",
           "type": "quantitative"
          },
          "y": {
           "field": "pc2",
           "type": "quantitative"
          }
         },
         "height": 200,
         "mark": "point",
         "selection": {
          "selector006": {
           "bind": "scales",
           "encodings": [
            "x",
            "y"
           ],
           "type": "interval"
          }
         },
         "width": 200
        },
        {
         "data": {
          "name": "data-c2c9979a35f655f109a7ee7935aeef7d"
         },
         "encoding": {
          "x": {
           "field": "pc1",
           "type": "quantitative"
          },
          "y": {
           "field": "pc2",
           "type": "quantitative"
          }
         },
         "height": 200,
         "mark": "point",
         "selection": {
          "selector007": {
           "bind": "scales",
           "encodings": [
            "x",
            "y"
           ],
           "type": "interval"
          }
         },
         "width": 200
        }
       ]
      },
      "image/png": "[encoded data removed]",
      "text/plain": [
       "<VegaLite 3 object>\n",
       "\n",
       "If you see this message, it means the renderer has not been properly enabled\n",
       "for the frontend that you are using. For more information, see\n",
       "https://altair-viz.github.io/user_guide/troubleshooting.html\n"
      ]
     },
     "execution_count": 8,
     "metadata": {},
     "output_type": "execute_result"
    }
   ],
   "source": [
    "import altair as alt\n",
    "\n",
    "plots = []\n",
    "\n",
    "for label in np.unique(y):\n",
    "    tse = pd.DataFrame({'tSNE-X': tf[y == label, 0], 'tSNE-Y': tf[y == label, 1]})\n",
    "    tse = alt.Chart(tse).mark_point().encode(x='tSNE-X', y='tSNE-Y').properties(width=200, height=200).interactive() \n",
    "    tse.append(plot)\n",
    "\n",
    "alt.hconcat(*plots)"
   ]
  },
  {
   "cell_type": "code",
   "execution_count": 16,
   "metadata": {},
   "outputs": [
    {
     "data": {
      "text/plain": [
       "TSNE(angle=0.5, early_exaggeration=12.0, init='random', learning_rate=200.0,\n",
       "     method='barnes_hut', metric='euclidean', min_grad_norm=1e-07,\n",
       "     n_components=2, n_iter=1000, n_iter_without_progress=300, perplexity=30,\n",
       "     random_state=0, verbose=0)"
      ]
     },
     "execution_count": 16,
     "metadata": {},
     "output_type": "execute_result"
    },
    {
     "data": {
      "text/plain": [
       "<matplotlib.collections.PathCollection at 0x7f5c5cc32d30>"
      ]
     },
     "execution_count": 16,
     "metadata": {},
     "output_type": "execute_result"
    },
    {
     "data": {
      "text/plain": [
       "<matplotlib.collections.PathCollection at 0x7f5c5cbc0080>"
      ]
     },
     "execution_count": 16,
     "metadata": {},
     "output_type": "execute_result"
    },
    {
     "data": {
      "text/plain": [
       "<matplotlib.collections.PathCollection at 0x7f5c5cbc02e8>"
      ]
     },
     "execution_count": 16,
     "metadata": {},
     "output_type": "execute_result"
    },
    {
     "data": {
      "text/plain": [
       "<matplotlib.collections.PathCollection at 0x7f5c5cbc0898>"
      ]
     },
     "execution_count": 16,
     "metadata": {},
     "output_type": "execute_result"
    },
    {
     "data": {
      "text/plain": [
       "<matplotlib.collections.PathCollection at 0x7f5c5cbc0c50>"
      ]
     },
     "execution_count": 16,
     "metadata": {},
     "output_type": "execute_result"
    },
    {
     "data": {
      "text/plain": [
       "<matplotlib.collections.PathCollection at 0x7f5c5cbc0fd0>"
      ]
     },
     "execution_count": 16,
     "metadata": {},
     "output_type": "execute_result"
    },
    {
     "data": {
      "text/plain": [
       "Text(0.5, 1.0, 'tSNE (perplexity=30 n_iter=1000)')"
      ]
     },
     "execution_count": 16,
     "metadata": {},
     "output_type": "execute_result"
    },
    {
     "data": {
      "text/plain": [
       "Text(0.5, 0, 'tSNE-X')"
      ]
     },
     "execution_count": 16,
     "metadata": {},
     "output_type": "execute_result"
    },
    {
     "data": {
      "text/plain": [
       "Text(0, 0.5, 'tSNE-Y')"
      ]
     },
     "execution_count": 16,
     "metadata": {},
     "output_type": "execute_result"
    },
    {
     "data": {
      "image/png": "[encoded data removed]",
      "text/plain": [
       "<Figure size 432x288 with 1 Axes>"
      ]
     },
     "metadata": {
      "needs_background": "light"
     },
     "output_type": "display_data"
    },
    {
     "data": {
      "text/plain": [
       "TSNE(angle=0.5, early_exaggeration=12.0, init='random', learning_rate=200.0,\n",
       "     method='barnes_hut', metric='euclidean', min_grad_norm=1e-07,\n",
       "     n_components=2, n_iter=250, n_iter_without_progress=300, perplexity=10,\n",
       "     random_state=0, verbose=0)"
      ]
     },
     "execution_count": 16,
     "metadata": {},
     "output_type": "execute_result"
    },
    {
     "data": {
      "text/plain": [
       "<matplotlib.collections.PathCollection at 0x7f5c5cbac048>"
      ]
     },
     "execution_count": 16,
     "metadata": {},
     "output_type": "execute_result"
    },
    {
     "data": {
      "text/plain": [
       "<matplotlib.collections.PathCollection at 0x7f5c5cbac518>"
      ]
     },
     "execution_count": 16,
     "metadata": {},
     "output_type": "execute_result"
    },
    {
     "data": {
      "text/plain": [
       "<matplotlib.collections.PathCollection at 0x7f5c5cbac630>"
      ]
     },
     "execution_count": 16,
     "metadata": {},
     "output_type": "execute_result"
    },
    {
     "data": {
      "text/plain": [
       "<matplotlib.collections.PathCollection at 0x7f5c5cbacba8>"
      ]
     },
     "execution_count": 16,
     "metadata": {},
     "output_type": "execute_result"
    },
    {
     "data": {
      "text/plain": [
       "<matplotlib.collections.PathCollection at 0x7f5c5cbacf98>"
      ]
     },
     "execution_count": 16,
     "metadata": {},
     "output_type": "execute_result"
    },
    {
     "data": {
      "text/plain": [
       "<matplotlib.collections.PathCollection at 0x7f5c5cbbc198>"
      ]
     },
     "execution_count": 16,
     "metadata": {},
     "output_type": "execute_result"
    },
    {
     "data": {
      "text/plain": [
       "Text(0.5, 1.0, 'tSNE (perplexity=10 n_iter=250)')"
      ]
     },
     "execution_count": 16,
     "metadata": {},
     "output_type": "execute_result"
    },
    {
     "data": {
      "text/plain": [
       "Text(0.5, 0, 'tSNE-X')"
      ]
     },
     "execution_count": 16,
     "metadata": {},
     "output_type": "execute_result"
    },
    {
     "data": {
      "text/plain": [
       "Text(0, 0.5, 'tSNE-Y')"
      ]
     },
     "execution_count": 16,
     "metadata": {},
     "output_type": "execute_result"
    },
    {
     "data": {
      "image/png": "[encoded data removed]",
      "text/plain": [
       "<Figure size 432x288 with 1 Axes>"
      ]
     },
     "metadata": {
      "needs_background": "light"
     },
     "output_type": "display_data"
    }
   ],
   "source": [
    "# https://deepage.net/machine_learning/2017/03/08/tsne.html\n",
    "from sklearn.manifold import TSNE\n",
    "\n",
    "for param in [(30, 1000), (10, 250)]:\n",
    "    tsne = TSNE(n_components=2, random_state=0, perplexity=param[0], n_iter=param[1])\n",
    "    tsne.fit(X)\n",
    "    tf = tsne.fit_transform(X)\n",
    "    \n",
    "    for label in np.unique(y):\n",
    "        plt.scatter(tf[y == label, 0], tf[y == label, 1])\n",
    "    \n",
    "    plt.title('tSNE (perplexity=%s n_iter=%s)' % (param[0], param[1]))\n",
    "    plt.xlabel('tSNE-X')\n",
    "    plt.ylabel('tSNE-Y')\n",
    "    plt.show()"
   ]
  },
  {
   "cell_type": "code",
   "execution_count": 43,
   "metadata": {},
   "outputs": [
    {
     "data": {
      "text/plain": [
       "TSNE(angle=0.5, early_exaggeration=12.0, init='random', learning_rate=200.0,\n",
       "     method='barnes_hut', metric='euclidean', min_grad_norm=1e-07,\n",
       "     n_components=2, n_iter=1000, n_iter_without_progress=300, perplexity=10,\n",
       "     random_state=0, verbose=0)"
      ]
     },
     "execution_count": 43,
     "metadata": {},
     "output_type": "execute_result"
    },
    {
     "data": {
      "text/plain": [
       "<matplotlib.collections.PathCollection at 0x7f5c471f25c0>"
      ]
     },
     "execution_count": 43,
     "metadata": {},
     "output_type": "execute_result"
    },
    {
     "data": {
      "text/plain": [
       "<matplotlib.collections.PathCollection at 0x7f5c471f29e8>"
      ]
     },
     "execution_count": 43,
     "metadata": {},
     "output_type": "execute_result"
    },
    {
     "data": {
      "text/plain": [
       "<matplotlib.collections.PathCollection at 0x7f5c471f2f28>"
      ]
     },
     "execution_count": 43,
     "metadata": {},
     "output_type": "execute_result"
    },
    {
     "data": {
      "text/plain": [
       "<matplotlib.collections.PathCollection at 0x7f5c471f2ef0>"
      ]
     },
     "execution_count": 43,
     "metadata": {},
     "output_type": "execute_result"
    },
    {
     "data": {
      "text/plain": [
       "<matplotlib.collections.PathCollection at 0x7f5c471fc588>"
      ]
     },
     "execution_count": 43,
     "metadata": {},
     "output_type": "execute_result"
    },
    {
     "data": {
      "text/plain": [
       "<matplotlib.collections.PathCollection at 0x7f5c471fc4a8>"
      ]
     },
     "execution_count": 43,
     "metadata": {},
     "output_type": "execute_result"
    },
    {
     "data": {
      "text/plain": [
       "Text(0.5, 1.0, 'p=10 n=1000')"
      ]
     },
     "execution_count": 43,
     "metadata": {},
     "output_type": "execute_result"
    },
    {
     "data": {
      "text/plain": [
       "Text(0.5, 0, 'tSNE-X')"
      ]
     },
     "execution_count": 43,
     "metadata": {},
     "output_type": "execute_result"
    },
    {
     "data": {
      "text/plain": [
       "Text(0, 0.5, 'tSNE-Y')"
      ]
     },
     "execution_count": 43,
     "metadata": {},
     "output_type": "execute_result"
    },
    {
     "data": {
      "text/plain": [
       "TSNE(angle=0.5, early_exaggeration=12.0, init='random', learning_rate=200.0,\n",
       "     method='barnes_hut', metric='euclidean', min_grad_norm=1e-07,\n",
       "     n_components=2, n_iter=1000, n_iter_without_progress=300, perplexity=20,\n",
       "     random_state=0, verbose=0)"
      ]
     },
     "execution_count": 43,
     "metadata": {},
     "output_type": "execute_result"
    },
    {
     "data": {
      "text/plain": [
       "<matplotlib.collections.PathCollection at 0x7f5c471abe48>"
      ]
     },
     "execution_count": 43,
     "metadata": {},
     "output_type": "execute_result"
    },
    {
     "data": {
      "text/plain": [
       "<matplotlib.collections.PathCollection at 0x7f5c471b9160>"
      ]
     },
     "execution_count": 43,
     "metadata": {},
     "output_type": "execute_result"
    },
    {
     "data": {
      "text/plain": [
       "<matplotlib.collections.PathCollection at 0x7f5c471b9390>"
      ]
     },
     "execution_count": 43,
     "metadata": {},
     "output_type": "execute_result"
    },
    {
     "data": {
      "text/plain": [
       "<matplotlib.collections.PathCollection at 0x7f5c471b96d8>"
      ]
     },
     "execution_count": 43,
     "metadata": {},
     "output_type": "execute_result"
    },
    {
     "data": {
      "text/plain": [
       "<matplotlib.collections.PathCollection at 0x7f5c471b9a20>"
      ]
     },
     "execution_count": 43,
     "metadata": {},
     "output_type": "execute_result"
    },
    {
     "data": {
      "text/plain": [
       "<matplotlib.collections.PathCollection at 0x7f5c471b9fd0>"
      ]
     },
     "execution_count": 43,
     "metadata": {},
     "output_type": "execute_result"
    },
    {
     "data": {
      "text/plain": [
       "Text(0.5, 1.0, 'p=20 n=1000')"
      ]
     },
     "execution_count": 43,
     "metadata": {},
     "output_type": "execute_result"
    },
    {
     "data": {
      "text/plain": [
       "Text(0.5, 0, 'tSNE-X')"
      ]
     },
     "execution_count": 43,
     "metadata": {},
     "output_type": "execute_result"
    },
    {
     "data": {
      "text/plain": [
       "Text(0, 0.5, 'tSNE-Y')"
      ]
     },
     "execution_count": 43,
     "metadata": {},
     "output_type": "execute_result"
    },
    {
     "data": {
      "text/plain": [
       "TSNE(angle=0.5, early_exaggeration=12.0, init='random', learning_rate=200.0,\n",
       "     method='barnes_hut', metric='euclidean', min_grad_norm=1e-07,\n",
       "     n_components=2, n_iter=1000, n_iter_without_progress=300, perplexity=30,\n",
       "     random_state=0, verbose=0)"
      ]
     },
     "execution_count": 43,
     "metadata": {},
     "output_type": "execute_result"
    },
    {
     "data": {
      "text/plain": [
       "<matplotlib.collections.PathCollection at 0x7f5c4717a668>"
      ]
     },
     "execution_count": 43,
     "metadata": {},
     "output_type": "execute_result"
    },
    {
     "data": {
      "text/plain": [
       "<matplotlib.collections.PathCollection at 0x7f5c4717aac8>"
      ]
     },
     "execution_count": 43,
     "metadata": {},
     "output_type": "execute_result"
    },
    {
     "data": {
      "text/plain": [
       "<matplotlib.collections.PathCollection at 0x7f5c4717ae10>"
      ]
     },
     "execution_count": 43,
     "metadata": {},
     "output_type": "execute_result"
    },
    {
     "data": {
      "text/plain": [
       "<matplotlib.collections.PathCollection at 0x7f5c471130f0>"
      ]
     },
     "execution_count": 43,
     "metadata": {},
     "output_type": "execute_result"
    },
    {
     "data": {
      "text/plain": [
       "<matplotlib.collections.PathCollection at 0x7f5c471134a8>"
      ]
     },
     "execution_count": 43,
     "metadata": {},
     "output_type": "execute_result"
    },
    {
     "data": {
      "text/plain": [
       "<matplotlib.collections.PathCollection at 0x7f5c471137f0>"
      ]
     },
     "execution_count": 43,
     "metadata": {},
     "output_type": "execute_result"
    },
    {
     "data": {
      "text/plain": [
       "Text(0.5, 1.0, 'p=30 n=1000')"
      ]
     },
     "execution_count": 43,
     "metadata": {},
     "output_type": "execute_result"
    },
    {
     "data": {
      "text/plain": [
       "Text(0.5, 0, 'tSNE-X')"
      ]
     },
     "execution_count": 43,
     "metadata": {},
     "output_type": "execute_result"
    },
    {
     "data": {
      "text/plain": [
       "Text(0, 0.5, 'tSNE-Y')"
      ]
     },
     "execution_count": 43,
     "metadata": {},
     "output_type": "execute_result"
    },
    {
     "data": {
      "text/plain": [
       "TSNE(angle=0.5, early_exaggeration=12.0, init='random', learning_rate=200.0,\n",
       "     method='barnes_hut', metric='euclidean', min_grad_norm=1e-07,\n",
       "     n_components=2, n_iter=1000, n_iter_without_progress=300, perplexity=40,\n",
       "     random_state=0, verbose=0)"
      ]
     },
     "execution_count": 43,
     "metadata": {},
     "output_type": "execute_result"
    },
    {
     "data": {
      "text/plain": [
       "<matplotlib.collections.PathCollection at 0x7f5c4713add8>"
      ]
     },
     "execution_count": 43,
     "metadata": {},
     "output_type": "execute_result"
    },
    {
     "data": {
      "text/plain": [
       "<matplotlib.collections.PathCollection at 0x7f5c470c62e8>"
      ]
     },
     "execution_count": 43,
     "metadata": {},
     "output_type": "execute_result"
    },
    {
     "data": {
      "text/plain": [
       "<matplotlib.collections.PathCollection at 0x7f5c470c66d8>"
      ]
     },
     "execution_count": 43,
     "metadata": {},
     "output_type": "execute_result"
    },
    {
     "data": {
      "text/plain": [
       "<matplotlib.collections.PathCollection at 0x7f5c470c69e8>"
      ]
     },
     "execution_count": 43,
     "metadata": {},
     "output_type": "execute_result"
    },
    {
     "data": {
      "text/plain": [
       "<matplotlib.collections.PathCollection at 0x7f5c470c6cf8>"
      ]
     },
     "execution_count": 43,
     "metadata": {},
     "output_type": "execute_result"
    },
    {
     "data": {
      "text/plain": [
       "<matplotlib.collections.PathCollection at 0x7f5c470c6fd0>"
      ]
     },
     "execution_count": 43,
     "metadata": {},
     "output_type": "execute_result"
    },
    {
     "data": {
      "text/plain": [
       "Text(0.5, 1.0, 'p=40 n=1000')"
      ]
     },
     "execution_count": 43,
     "metadata": {},
     "output_type": "execute_result"
    },
    {
     "data": {
      "text/plain": [
       "Text(0.5, 0, 'tSNE-X')"
      ]
     },
     "execution_count": 43,
     "metadata": {},
     "output_type": "execute_result"
    },
    {
     "data": {
      "text/plain": [
       "Text(0, 0.5, 'tSNE-Y')"
      ]
     },
     "execution_count": 43,
     "metadata": {},
     "output_type": "execute_result"
    },
    {
     "data": {
      "text/plain": [
       "TSNE(angle=0.5, early_exaggeration=12.0, init='random', learning_rate=200.0,\n",
       "     method='barnes_hut', metric='euclidean', min_grad_norm=1e-07,\n",
       "     n_components=2, n_iter=1000, n_iter_without_progress=300, perplexity=50,\n",
       "     random_state=0, verbose=0)"
      ]
     },
     "execution_count": 43,
     "metadata": {},
     "output_type": "execute_result"
    },
    {
     "data": {
      "text/plain": [
       "<matplotlib.collections.PathCollection at 0x7f5c470855f8>"
      ]
     },
     "execution_count": 43,
     "metadata": {},
     "output_type": "execute_result"
    },
    {
     "data": {
      "text/plain": [
       "<matplotlib.collections.PathCollection at 0x7f5c47085940>"
      ]
     },
     "execution_count": 43,
     "metadata": {},
     "output_type": "execute_result"
    },
    {
     "data": {
      "text/plain": [
       "<matplotlib.collections.PathCollection at 0x7f5c47085cc0>"
      ]
     },
     "execution_count": 43,
     "metadata": {},
     "output_type": "execute_result"
    },
    {
     "data": {
      "text/plain": [
       "<matplotlib.collections.PathCollection at 0x7f5c47085668>"
      ]
     },
     "execution_count": 43,
     "metadata": {},
     "output_type": "execute_result"
    },
    {
     "data": {
      "text/plain": [
       "<matplotlib.collections.PathCollection at 0x7f5c47092518>"
      ]
     },
     "execution_count": 43,
     "metadata": {},
     "output_type": "execute_result"
    },
    {
     "data": {
      "text/plain": [
       "<matplotlib.collections.PathCollection at 0x7f5c47092860>"
      ]
     },
     "execution_count": 43,
     "metadata": {},
     "output_type": "execute_result"
    },
    {
     "data": {
      "text/plain": [
       "Text(0.5, 1.0, 'p=50 n=1000')"
      ]
     },
     "execution_count": 43,
     "metadata": {},
     "output_type": "execute_result"
    },
    {
     "data": {
      "text/plain": [
       "Text(0.5, 0, 'tSNE-X')"
      ]
     },
     "execution_count": 43,
     "metadata": {},
     "output_type": "execute_result"
    },
    {
     "data": {
      "text/plain": [
       "Text(0, 0.5, 'tSNE-Y')"
      ]
     },
     "execution_count": 43,
     "metadata": {},
     "output_type": "execute_result"
    },
    {
     "data": {
      "image/png": "[encoded data removed]",
      "text/plain": [
       "<Figure size 500x1500 with 5 Axes>"
      ]
     },
     "metadata": {
      "needs_background": "light"
     },
     "output_type": "display_data"
    }
   ],
   "source": [
    "# https://deepage.net/machine_learning/2017/03/08/tsne.html\n",
    "from sklearn.manifold import TSNE\n",
    "\n",
    "params = [(10, 1000), (20, 1000), (30, 1000), (40, 1000), (50, 1000)]\n",
    "\n",
    "fig = plt.figure(figsize=(5, 15), dpi=100)\n",
    "for i in range(len(params)):\n",
    "    tsne = TSNE(n_components=2, random_state=0, perplexity=params[i][0], n_iter=params[i][1])\n",
    "    tsne.fit(X)\n",
    "    tf = tsne.fit_transform(X)\n",
    "\n",
    "    ax = fig.add_subplot(len(params), 1, i + 1)\n",
    "    for label in np.unique(y):\n",
    "        ax.scatter(tf[y == label, 0], tf[y == label, 1])\n",
    "        \n",
    "    ax.set_title('p=%s n=%s' % (params[i][0], params[i][1]))\n",
    "    ax.set_xlabel('tSNE-X')\n",
    "    ax.set_ylabel('tSNE-Y')\n",
    "\n",
    "plt.tight_layout()\n",
    "plt.show()"
   ]
  },
  {
   "cell_type": "code",
   "execution_count": 65,
   "metadata": {},
   "outputs": [
    {
     "data": {
      "application/vnd.vegalite.v3+json": {
       "$schema": "https://vega.github.io/schema/vega-lite/v3.4.0.json",
       "config": {
        "mark": {
         "tooltip": null
        },
        "view": {
         "height": 300,
         "width": 400
        }
       },
       "data": {
        "name": "data-a93210c0b223eab0d6a85fc3f95bb934"
       },
       "datasets": {
        "data-a93210c0b223eab0d6a85fc3f95bb934": [
         {
          "tSNE-X": -4.527148246765137,
          "tSNE-Y": 9.643696784973145,
          "y": 5
         },
         {
          "tSNE-X": -0.32984253764152527,
          "tSNE-Y": 4.93626070022583,
          "y": 2
         },
         {
          "tSNE-X": 3.3214142322540283,
          "tSNE-Y": -1.4774609804153442,
          "y": 2
         },
         {
          "tSNE-X": -0.026763850823044777,
          "tSNE-Y": -2.057823419570923,
          "y": 4
         },
         {
          "tSNE-X": 2.0674209594726562,
          "tSNE-Y": 5.200129508972168,
          "y": 3
         },
         {
          "tSNE-X": -1.4174706935882568,
          "tSNE-Y": 0.720090925693512,
          "y": 2
         },
         {
          "tSNE-X": -2.5872509479522705,
          "tSNE-Y": 2.313279867172241,
          "y": 3
         },
         {
          "tSNE-X": 2.5032315254211426,
          "tSNE-Y": -1.8790016174316406,
          "y": 2
         },
         {
          "tSNE-X": 4.521101951599121,
          "tSNE-Y": 0.09098941087722778,
          "y": 3
         },
         {
          "tSNE-X": -1.8894522190093994,
          "tSNE-Y": 7.685012340545654,
          "y": 2
         },
         {
          "tSNE-X": -3.7214643955230713,
          "tSNE-Y": 10.454461097717285,
          "y": 2
         },
         {
          "tSNE-X": 2.832683801651001,
          "tSNE-Y": 3.5957324504852295,
          "y": 3
         },
         {
          "tSNE-X": -2.169126272201538,
          "tSNE-Y": 2.489924907684326,
          "y": 4
         },
         {
          "tSNE-X": -0.807327151298523,
          "tSNE-Y": 9.977978706359863,
          "y": 2
         },
         {
          "tSNE-X": -2.621389389038086,
          "tSNE-Y": 3.5948381423950195,
          "y": 2
         },
         {
          "tSNE-X": -1.0965160131454468,
          "tSNE-Y": 10.287461280822754,
          "y": 5
         },
         {
          "tSNE-X": 4.611772537231445,
          "tSNE-Y": -0.33053162693977356,
          "y": 3
         },
         {
          "tSNE-X": 4.307892799377441,
          "tSNE-Y": 0.381582111120224,
          "y": 5
         },
         {
          "tSNE-X": -4.366395473480225,
          "tSNE-Y": 8.808344841003418,
          "y": 5
         },
         {
          "tSNE-X": 1.1112210750579834,
          "tSNE-Y": 1.287643313407898,
          "y": 1
         },
         {
          "tSNE-X": -1.4900420904159546,
          "tSNE-Y": 10.812214851379395,
          "y": 1
         },
         {
          "tSNE-X": -2.4708974361419678,
          "tSNE-Y": 10.368210792541504,
          "y": 5
         },
         {
          "tSNE-X": 0.13242389261722565,
          "tSNE-Y": 1.3315130472183228,
          "y": 2
         },
         {
          "tSNE-X": 0.5489817261695862,
          "tSNE-Y": 2.9958412647247314,
          "y": 3
         },
         {
          "tSNE-X": 3.7477517127990723,
          "tSNE-Y": 0.3218372166156769,
          "y": 2
         },
         {
          "tSNE-X": -3.651535987854004,
          "tSNE-Y": 6.3249006271362305,
          "y": 2
         },
         {
          "tSNE-X": 0.5666484236717224,
          "tSNE-Y": 2.2307186126708984,
          "y": 5
         },
         {
          "tSNE-X": -0.6416134834289551,
          "tSNE-Y": 9.798048973083496,
          "y": 3
         },
         {
          "tSNE-X": -3.818920612335205,
          "tSNE-Y": 6.306875705718994,
          "y": 3
         },
         {
          "tSNE-X": -2.4643325805664062,
          "tSNE-Y": 8.140209197998047,
          "y": 5
         },
         {
          "tSNE-X": 3.2186567783355713,
          "tSNE-Y": -1.1298996210098267,
          "y": 4
         },
         {
          "tSNE-X": -1.9260677099227905,
          "tSNE-Y": 5.9540629386901855,
          "y": 2
         },
         {
          "tSNE-X": -3.3768041133880615,
          "tSNE-Y": 9.544716835021973,
          "y": 6
         },
         {
          "tSNE-X": 0.6790404319763184,
          "tSNE-Y": 0.0937730148434639,
          "y": 1
         },
         {
          "tSNE-X": -2.300490379333496,
          "tSNE-Y": 2.070072650909424,
          "y": 2
         },
         {
          "tSNE-X": 0.41944262385368347,
          "tSNE-Y": 2.7883970737457275,
          "y": 4
         },
         {
          "tSNE-X": -3.4419379234313965,
          "tSNE-Y": 9.315971374511719,
          "y": 4
         },
         {
          "tSNE-X": 0.3192455768585205,
          "tSNE-Y": 2.679612398147583,
          "y": 1
         },
         {
          "tSNE-X": -1.1332542896270752,
          "tSNE-Y": 10.466300010681152,
          "y": 2
         },
         {
          "tSNE-X": -2.869426965713501,
          "tSNE-Y": 7.723274230957031,
          "y": 2
         },
         {
          "tSNE-X": -3.087512969970703,
          "tSNE-Y": 8.771583557128906,
          "y": 3
         },
         {
          "tSNE-X": -1.2098376750946045,
          "tSNE-Y": 6.927705764770508,
          "y": 4
         },
         {
          "tSNE-X": -0.8502853512763977,
          "tSNE-Y": 2.9404475688934326,
          "y": 2
         },
         {
          "tSNE-X": -3.3651015758514404,
          "tSNE-Y": 5.4574127197265625,
          "y": 5
         },
         {
          "tSNE-X": 1.565535545349121,
          "tSNE-Y": 1.3825194835662842,
          "y": 1
         },
         {
          "tSNE-X": -1.191900610923767,
          "tSNE-Y": 6.350299835205078,
          "y": 2
         },
         {
          "tSNE-X": -3.3637313842773438,
          "tSNE-Y": 8.53095531463623,
          "y": 1
         },
         {
          "tSNE-X": -0.32015934586524963,
          "tSNE-Y": 3.21526837348938,
          "y": 3
         },
         {
          "tSNE-X": -0.2962069511413574,
          "tSNE-Y": -1.3324421644210815,
          "y": 1
         },
         {
          "tSNE-X": -3.5423622131347656,
          "tSNE-Y": 5.175972938537598,
          "y": 5
         },
         {
          "tSNE-X": -0.8012003898620605,
          "tSNE-Y": 5.230494022369385,
          "y": 2
         },
         {
          "tSNE-X": 2.7494287490844727,
          "tSNE-Y": 3.9103875160217285,
          "y": 2
         },
         {
          "tSNE-X": 1.873396635055542,
          "tSNE-Y": 2.1689212322235107,
          "y": 2
         },
         {
          "tSNE-X": -0.8044172525405884,
          "tSNE-Y": -0.3858194053173065,
          "y": 4
         },
         {
          "tSNE-X": 3.381915330886841,
          "tSNE-Y": 0.5594214200973511,
          "y": 1
         },
         {
          "tSNE-X": 1.6907832622528076,
          "tSNE-Y": 4.353158473968506,
          "y": 2
         },
         {
          "tSNE-X": -4.414249420166016,
          "tSNE-Y": 8.874369621276855,
          "y": 1
         },
         {
          "tSNE-X": 0.18414509296417236,
          "tSNE-Y": -1.4111907482147217,
          "y": 5
         },
         {
          "tSNE-X": -2.039360761642456,
          "tSNE-Y": 2.1258938312530518,
          "y": 6
         },
         {
          "tSNE-X": 1.8447598218917847,
          "tSNE-Y": 0.10876233875751495,
          "y": 3
         },
         {
          "tSNE-X": -2.612647771835327,
          "tSNE-Y": 2.9795045852661133,
          "y": 4
         },
         {
          "tSNE-X": 0.6388861536979675,
          "tSNE-Y": -2.4201760292053223,
          "y": 3
         },
         {
          "tSNE-X": 2.063995361328125,
          "tSNE-Y": 5.068129539489746,
          "y": 4
         },
         {
          "tSNE-X": -2.7915236949920654,
          "tSNE-Y": 3.090259075164795,
          "y": 4
         },
         {
          "tSNE-X": -0.875188946723938,
          "tSNE-Y": -0.2678503096103668,
          "y": 4
         },
         {
          "tSNE-X": -1.745633602142334,
          "tSNE-Y": 7.81021785736084,
          "y": 4
         },
         {
          "tSNE-X": 0.28348758816719055,
          "tSNE-Y": -2.0685131549835205,
          "y": 3
         },
         {
          "tSNE-X": -4.873623847961426,
          "tSNE-Y": 8.498424530029297,
          "y": 5
         },
         {
          "tSNE-X": 4.3557257652282715,
          "tSNE-Y": -1.0836865901947021,
          "y": 1
         },
         {
          "tSNE-X": -0.015465963631868362,
          "tSNE-Y": 4.597652912139893,
          "y": 2
         },
         {
          "tSNE-X": 4.39967155456543,
          "tSNE-Y": -1.0466233491897583,
          "y": 4
         },
         {
          "tSNE-X": -2.8925344944000244,
          "tSNE-Y": 10.668460845947266,
          "y": 3
         },
         {
          "tSNE-X": 0.09256294369697571,
          "tSNE-Y": 1.011009693145752,
          "y": 3
         },
         {
          "tSNE-X": -3.3288662433624268,
          "tSNE-Y": 4.9911627769470215,
          "y": 3
         },
         {
          "tSNE-X": -3.797088623046875,
          "tSNE-Y": 5.930111885070801,
          "y": 5
         },
         {
          "tSNE-X": -1.9122895002365112,
          "tSNE-Y": 10.977628707885742,
          "y": 2
         },
         {
          "tSNE-X": 2.8454794883728027,
          "tSNE-Y": 3.4307258129119873,
          "y": 2
         },
         {
          "tSNE-X": 1.4249190092086792,
          "tSNE-Y": -1.3730554580688477,
          "y": 1
         },
         {
          "tSNE-X": -0.7013440728187561,
          "tSNE-Y": 5.753174781799316,
          "y": 5
         },
         {
          "tSNE-X": 1.6294409036636353,
          "tSNE-Y": 5.869844913482666,
          "y": 5
         },
         {
          "tSNE-X": -3.185821771621704,
          "tSNE-Y": 4.441950798034668,
          "y": 1
         },
         {
          "tSNE-X": -2.690385580062866,
          "tSNE-Y": 7.391496181488037,
          "y": 1
         },
         {
          "tSNE-X": 0.37132149934768677,
          "tSNE-Y": 3.9692728519439697,
          "y": 2
         },
         {
          "tSNE-X": 2.4195175170898438,
          "tSNE-Y": -1.6711534261703491,
          "y": 2
         },
         {
          "tSNE-X": 1.3717448711395264,
          "tSNE-Y": -1.6287660598754883,
          "y": 3
         },
         {
          "tSNE-X": 2.7405221462249756,
          "tSNE-Y": 0.29432764649391174,
          "y": 2
         },
         {
          "tSNE-X": -1.5126601457595825,
          "tSNE-Y": 4.665194034576416,
          "y": 3
         },
         {
          "tSNE-X": -3.085803985595703,
          "tSNE-Y": 9.03127384185791,
          "y": 2
         },
         {
          "tSNE-X": 0.4844246208667755,
          "tSNE-Y": 0.4675075113773346,
          "y": 1
         },
         {
          "tSNE-X": 2.2932372093200684,
          "tSNE-Y": -0.7702975869178772,
          "y": 4
         },
         {
          "tSNE-X": -4.713207721710205,
          "tSNE-Y": 10.164424896240234,
          "y": 2
         },
         {
          "tSNE-X": 2.153764486312866,
          "tSNE-Y": 0.14782369136810303,
          "y": 1
         },
         {
          "tSNE-X": 4.133187294006348,
          "tSNE-Y": -0.42851221561431885,
          "y": 4
         },
         {
          "tSNE-X": 1.3580131530761719,
          "tSNE-Y": 0.6429169774055481,
          "y": 4
         },
         {
          "tSNE-X": -4.297131061553955,
          "tSNE-Y": 8.190450668334961,
          "y": 1
         },
         {
          "tSNE-X": 4.131843090057373,
          "tSNE-Y": -0.13166646659374237,
          "y": 1
         },
         {
          "tSNE-X": 0.3190078139305115,
          "tSNE-Y": -1.7776204347610474,
          "y": 2
         },
         {
          "tSNE-X": -4.550546646118164,
          "tSNE-Y": 10.328672409057617,
          "y": 1
         },
         {
          "tSNE-X": -4.708867073059082,
          "tSNE-Y": 9.38332748413086,
          "y": 1
         },
         {
          "tSNE-X": -2.547809362411499,
          "tSNE-Y": 9.863690376281738,
          "y": 3
         }
        ]
       },
       "encoding": {
        "color": {
         "field": "y",
         "type": "quantitative"
        },
        "x": {
         "field": "tSNE-X",
         "type": "quantitative"
        },
        "y": {
         "field": "tSNE-Y",
         "type": "quantitative"
        }
       },
       "height": 200,
       "mark": "point",
       "width": 200
      },
      "image/png": "[encoded data removed]",
      "text/plain": [
       "<VegaLite 3 object>\n",
       "\n",
       "If you see this message, it means the renderer has not been properly enabled\n",
       "for the frontend that you are using. For more information, see\n",
       "https://altair-viz.github.io/user_guide/troubleshooting.html\n"
      ]
     },
     "execution_count": 65,
     "metadata": {},
     "output_type": "execute_result"
    }
   ],
   "source": [
    "import altair as alt\n",
    "\n",
    "tsedf = pd.DataFrame(data=tf, columns=['tSNE-X', 'tSNE-Y'])\n",
    "tsedf['y'] = y.reset_index(drop=True)\n",
    "alt.Chart(tsedf).mark_point().encode(x='tSNE-X', y='tSNE-Y', color='y').properties(width=200, height=200)"
   ]
  },
  {
   "cell_type": "code",
   "execution_count": null,
   "metadata": {},
   "outputs": [],
   "source": []
  }
 ],
 "metadata": {
  "kernelspec": {
   "display_name": "Python 3",
   "language": "python",
   "name": "python3"
  },
  "language_info": {
   "codemirror_mode": {
    "name": "ipython",
    "version": 3
   },
   "file_extension": ".py",
   "mimetype": "text/x-python",
   "name": "python",
   "nbconvert_exporter": "python",
   "pygments_lexer": "ipython3",
   "version": "3.7.3"
  }
 },
 "nbformat": 4,
 "nbformat_minor": 4
}

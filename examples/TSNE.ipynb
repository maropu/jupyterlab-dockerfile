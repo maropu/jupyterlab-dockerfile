{
 "cells": [
  {
   "cell_type": "code",
   "execution_count": 22,
   "metadata": {},
   "outputs": [
    {
     "data": {
      "text/html": [
       "<div>\n",
       "<style scoped>\n",
       "    .dataframe tbody tr th:only-of-type {\n",
       "        vertical-align: middle;\n",
       "    }\n",
       "\n",
       "    .dataframe tbody tr th {\n",
       "        vertical-align: top;\n",
       "    }\n",
       "\n",
       "    .dataframe thead th {\n",
       "        text-align: right;\n",
       "    }\n",
       "</style>\n",
       "<table border=\"1\" class=\"dataframe\">\n",
       "  <thead>\n",
       "    <tr style=\"text-align: right;\">\n",
       "      <th></th>\n",
       "      <th>weekly_sales</th>\n",
       "      <th>sid</th>\n",
       "      <th>dept</th>\n",
       "      <th>store</th>\n",
       "      <th>type</th>\n",
       "      <th>size</th>\n",
       "      <th>temperature_stdev</th>\n",
       "      <th>fuel_price_avg</th>\n",
       "      <th>fuel_price_stdev</th>\n",
       "      <th>cpi_avg</th>\n",
       "      <th>cpi_stdev</th>\n",
       "      <th>unemployment_avg</th>\n",
       "      <th>unemployment_stdev</th>\n",
       "      <th>holidayfreq</th>\n",
       "    </tr>\n",
       "  </thead>\n",
       "  <tbody>\n",
       "    <tr>\n",
       "      <th>8152</th>\n",
       "      <td>4</td>\n",
       "      <td>31194</td>\n",
       "      <td>49</td>\n",
       "      <td>25</td>\n",
       "      <td>2</td>\n",
       "      <td>128107</td>\n",
       "      <td>26.776667</td>\n",
       "      <td>4.954456</td>\n",
       "      <td>3.133</td>\n",
       "      <td>0.323204</td>\n",
       "      <td>207.155695</td>\n",
       "      <td>4.694185</td>\n",
       "      <td>7.497</td>\n",
       "      <td>0.62734</td>\n",
       "    </tr>\n",
       "  </tbody>\n",
       "</table>\n",
       "</div>"
      ],
      "text/plain": [
       "      weekly_sales    sid  dept  store  type    size  temperature_stdev  \\\n",
       "8152             4  31194    49     25     2  128107          26.776667   \n",
       "\n",
       "      fuel_price_avg  fuel_price_stdev   cpi_avg   cpi_stdev  \\\n",
       "8152        4.954456             3.133  0.323204  207.155695   \n",
       "\n",
       "      unemployment_avg  unemployment_stdev  holidayfreq  \n",
       "8152          4.694185               7.497      0.62734  "
      ]
     },
     "execution_count": 22,
     "metadata": {},
     "output_type": "execute_result"
    }
   ],
   "source": [
    "df = pd.read_parquet('walmart.parquet').sample(n=4000)\n",
    "df.head(1)"
   ]
  },
  {
   "cell_type": "code",
   "execution_count": 23,
   "metadata": {},
   "outputs": [],
   "source": [
    "X = df[df.columns[df.columns != 'weekly_sales']]\n",
    "y = df['weekly_sales']"
   ]
  },
  {
   "cell_type": "code",
   "execution_count": 24,
   "metadata": {},
   "outputs": [
    {
     "data": {
      "text/plain": [
       "array([0, 1, 2, 3, 4, 5, 6], dtype=int32)"
      ]
     },
     "execution_count": 24,
     "metadata": {},
     "output_type": "execute_result"
    }
   ],
   "source": [
    "np.unique(y)"
   ]
  },
  {
   "cell_type": "code",
   "execution_count": 25,
   "metadata": {},
   "outputs": [
    {
     "data": {
      "text/plain": [
       "TSNE(angle=0.5, early_exaggeration=12.0, init='random', learning_rate=200.0,\n",
       "     method='barnes_hut', metric='euclidean', min_grad_norm=1e-07,\n",
       "     n_components=2, n_iter=1000, n_iter_without_progress=300, perplexity=30.0,\n",
       "     random_state=0, verbose=0)"
      ]
     },
     "execution_count": 25,
     "metadata": {},
     "output_type": "execute_result"
    }
   ],
   "source": [
    "# One of non-linear embedding in sklearn\n",
    "from sklearn.manifold import TSNE\n",
    "\n",
    "tsne = TSNE(n_components=2, random_state=0)\n",
    "tsne.fit(X)"
   ]
  },
  {
   "cell_type": "code",
   "execution_count": 26,
   "metadata": {},
   "outputs": [],
   "source": [
    "tf = tsne.fit_transform(X)"
   ]
  },
  {
   "cell_type": "code",
   "execution_count": 27,
   "metadata": {},
   "outputs": [
    {
     "data": {
      "text/plain": [
       "0.4163799285888672"
      ]
     },
     "execution_count": 27,
     "metadata": {},
     "output_type": "execute_result"
    }
   ],
   "source": [
    "tsne.kl_divergence_"
   ]
  },
  {
   "cell_type": "code",
   "execution_count": 28,
   "metadata": {},
   "outputs": [
    {
     "data": {
      "text/plain": [
       "<matplotlib.collections.PathCollection at 0x7ffab05b04a8>"
      ]
     },
     "execution_count": 28,
     "metadata": {},
     "output_type": "execute_result"
    },
    {
     "data": {
      "text/plain": [
       "Text(0.5, 1.0, 't-SNE')"
      ]
     },
     "execution_count": 28,
     "metadata": {},
     "output_type": "execute_result"
    },
    {
     "data": {
      "text/plain": [
       "Text(0.5, 0, 'dim1')"
      ]
     },
     "execution_count": 28,
     "metadata": {},
     "output_type": "execute_result"
    },
    {
     "data": {
      "text/plain": [
       "Text(0, 0.5, 'dim2')"
      ]
     },
     "execution_count": 28,
     "metadata": {},
     "output_type": "execute_result"
    },
    {
     "data": {
      "text/plain": [
       "<matplotlib.collections.PathCollection at 0x7ffab05b09b0>"
      ]
     },
     "execution_count": 28,
     "metadata": {},
     "output_type": "execute_result"
    },
    {
     "data": {
      "text/plain": [
       "Text(0.5, 1.0, 't-SNE')"
      ]
     },
     "execution_count": 28,
     "metadata": {},
     "output_type": "execute_result"
    },
    {
     "data": {
      "text/plain": [
       "Text(0.5, 0, 'dim1')"
      ]
     },
     "execution_count": 28,
     "metadata": {},
     "output_type": "execute_result"
    },
    {
     "data": {
      "text/plain": [
       "Text(0, 0.5, 'dim2')"
      ]
     },
     "execution_count": 28,
     "metadata": {},
     "output_type": "execute_result"
    },
    {
     "data": {
      "text/plain": [
       "<matplotlib.collections.PathCollection at 0x7ffab05b0c18>"
      ]
     },
     "execution_count": 28,
     "metadata": {},
     "output_type": "execute_result"
    },
    {
     "data": {
      "text/plain": [
       "Text(0.5, 1.0, 't-SNE')"
      ]
     },
     "execution_count": 28,
     "metadata": {},
     "output_type": "execute_result"
    },
    {
     "data": {
      "text/plain": [
       "Text(0.5, 0, 'dim1')"
      ]
     },
     "execution_count": 28,
     "metadata": {},
     "output_type": "execute_result"
    },
    {
     "data": {
      "text/plain": [
       "Text(0, 0.5, 'dim2')"
      ]
     },
     "execution_count": 28,
     "metadata": {},
     "output_type": "execute_result"
    },
    {
     "data": {
      "text/plain": [
       "<matplotlib.collections.PathCollection at 0x7ffab05b0f28>"
      ]
     },
     "execution_count": 28,
     "metadata": {},
     "output_type": "execute_result"
    },
    {
     "data": {
      "text/plain": [
       "Text(0.5, 1.0, 't-SNE')"
      ]
     },
     "execution_count": 28,
     "metadata": {},
     "output_type": "execute_result"
    },
    {
     "data": {
      "text/plain": [
       "Text(0.5, 0, 'dim1')"
      ]
     },
     "execution_count": 28,
     "metadata": {},
     "output_type": "execute_result"
    },
    {
     "data": {
      "text/plain": [
       "Text(0, 0.5, 'dim2')"
      ]
     },
     "execution_count": 28,
     "metadata": {},
     "output_type": "execute_result"
    },
    {
     "data": {
      "text/plain": [
       "<matplotlib.collections.PathCollection at 0x7ffab05b0ef0>"
      ]
     },
     "execution_count": 28,
     "metadata": {},
     "output_type": "execute_result"
    },
    {
     "data": {
      "text/plain": [
       "Text(0.5, 1.0, 't-SNE')"
      ]
     },
     "execution_count": 28,
     "metadata": {},
     "output_type": "execute_result"
    },
    {
     "data": {
      "text/plain": [
       "Text(0.5, 0, 'dim1')"
      ]
     },
     "execution_count": 28,
     "metadata": {},
     "output_type": "execute_result"
    },
    {
     "data": {
      "text/plain": [
       "Text(0, 0.5, 'dim2')"
      ]
     },
     "execution_count": 28,
     "metadata": {},
     "output_type": "execute_result"
    },
    {
     "data": {
      "text/plain": [
       "<matplotlib.collections.PathCollection at 0x7ffab053e128>"
      ]
     },
     "execution_count": 28,
     "metadata": {},
     "output_type": "execute_result"
    },
    {
     "data": {
      "text/plain": [
       "Text(0.5, 1.0, 't-SNE')"
      ]
     },
     "execution_count": 28,
     "metadata": {},
     "output_type": "execute_result"
    },
    {
     "data": {
      "text/plain": [
       "Text(0.5, 0, 'dim1')"
      ]
     },
     "execution_count": 28,
     "metadata": {},
     "output_type": "execute_result"
    },
    {
     "data": {
      "text/plain": [
       "Text(0, 0.5, 'dim2')"
      ]
     },
     "execution_count": 28,
     "metadata": {},
     "output_type": "execute_result"
    },
    {
     "data": {
      "text/plain": [
       "<matplotlib.collections.PathCollection at 0x7ffab053e4a8>"
      ]
     },
     "execution_count": 28,
     "metadata": {},
     "output_type": "execute_result"
    },
    {
     "data": {
      "text/plain": [
       "Text(0.5, 1.0, 't-SNE')"
      ]
     },
     "execution_count": 28,
     "metadata": {},
     "output_type": "execute_result"
    },
    {
     "data": {
      "text/plain": [
       "Text(0.5, 0, 'dim1')"
      ]
     },
     "execution_count": 28,
     "metadata": {},
     "output_type": "execute_result"
    },
    {
     "data": {
      "text/plain": [
       "Text(0, 0.5, 'dim2')"
      ]
     },
     "execution_count": 28,
     "metadata": {},
     "output_type": "execute_result"
    },
    {
     "data": {
      "image/png": "[encoded data removed]",
      "text/plain": [
       "<Figure size 432x288 with 1 Axes>"
      ]
     },
     "metadata": {
      "needs_background": "light"
     },
     "output_type": "display_data"
    }
   ],
   "source": [
    "from matplotlib import pyplot as plt\n",
    "\n",
    "for label in np.unique(y):\n",
    "    plt.scatter(tf[y == label, 0], tf[y == label, 1])\n",
    "    plt.title('t-SNE')\n",
    "    plt.xlabel('dim1')\n",
    "    plt.ylabel('dim2')\n",
    "    \n",
    "plt.show()"
   ]
  },
  {
   "cell_type": "code",
   "execution_count": 29,
   "metadata": {},
   "outputs": [
    {
     "data": {
      "application/vnd.vegalite.v3+json": {
       "$schema": "https://vega.github.io/schema/vega-lite/v3.4.0.json",
       "config": {
        "mark": {
         "tooltip": null
        },
        "view": {
         "height": 300,
         "width": 400
        }
       },
       "datasets": {
        "data-0d0717318b36284bf89ef30f6ac5354a": [
         {
          "pc1": 12.948295593261719,
          "pc2": -26.123695373535156
         },
         {
          "pc1": -27.542278289794922,
          "pc2": 0.3156449496746063
         },
         {
          "pc1": -33.88159942626953,
          "pc2": 20.145931243896484
         },
         {
          "pc1": -48.5743293762207,
          "pc2": 7.449424743652344
         },
         {
          "pc1": 71.55650329589844,
          "pc2": -1.9832546710968018
         },
         {
          "pc1": 28.788814544677734,
          "pc2": -45.15692138671875
         },
         {
          "pc1": 72.1763916015625,
          "pc2": -0.09835293143987656
         },
         {
          "pc1": -14.998055458068848,
          "pc2": -20.10114097595215
         },
         {
          "pc1": -24.2496337890625,
          "pc2": -70.50153350830078
         },
         {
          "pc1": -14.072880744934082,
          "pc2": -45.78392791748047
         },
         {
          "pc1": -29.353784561157227,
          "pc2": -24.49759864807129
         },
         {
          "pc1": -22.63850212097168,
          "pc2": 64.85572052001953
         },
         {
          "pc1": 2.973233222961426,
          "pc2": 50.65711212158203
         },
         {
          "pc1": 71.28199768066406,
          "pc2": -3.7920000553131104
         },
         {
          "pc1": -24.099462509155273,
          "pc2": 35.053680419921875
         },
         {
          "pc1": -35.71750259399414,
          "pc2": -20.236087799072266
         },
         {
          "pc1": 71.24295043945312,
          "pc2": 7.665533065795898
         },
         {
          "pc1": -34.01740264892578,
          "pc2": 17.388578414916992
         },
         {
          "pc1": -26.948657989501953,
          "pc2": -46.55648422241211
         },
         {
          "pc1": 11.005845069885254,
          "pc2": 20.573434829711914
         },
         {
          "pc1": -19.126012802124023,
          "pc2": 27.25465202331543
         },
         {
          "pc1": 19.86475944519043,
          "pc2": 42.69363784790039
         },
         {
          "pc1": -32.08449935913086,
          "pc2": -66.46701049804688
         },
         {
          "pc1": -28.31283187866211,
          "pc2": 49.79414749145508
         },
         {
          "pc1": 58.65728759765625,
          "pc2": 20.455595016479492
         },
         {
          "pc1": 48.740867614746094,
          "pc2": 37.73536682128906
         },
         {
          "pc1": -20.676565170288086,
          "pc2": 5.693605899810791
         },
         {
          "pc1": 43.89298629760742,
          "pc2": -4.878108978271484
         },
         {
          "pc1": -56.59589767456055,
          "pc2": -9.204875946044922
         },
         {
          "pc1": 0.03663194179534912,
          "pc2": 34.98062515258789
         },
         {
          "pc1": 57.531089782714844,
          "pc2": -22.093093872070312
         },
         {
          "pc1": -28.40187644958496,
          "pc2": 62.4354248046875
         },
         {
          "pc1": 58.6925163269043,
          "pc2": 25.270849227905273
         },
         {
          "pc1": 66.08621215820312,
          "pc2": -15.35423469543457
         },
         {
          "pc1": 36.45194625854492,
          "pc2": 17.11903190612793
         },
         {
          "pc1": 26.9007625579834,
          "pc2": -53.35478210449219
         },
         {
          "pc1": -30.203086853027344,
          "pc2": -19.880136489868164
         },
         {
          "pc1": 39.93390655517578,
          "pc2": 43.14426803588867
         },
         {
          "pc1": -36.12564468383789,
          "pc2": 56.38808822631836
         },
         {
          "pc1": 56.532466888427734,
          "pc2": 9.550032615661621
         },
         {
          "pc1": 31.90497398376465,
          "pc2": -7.462714672088623
         },
         {
          "pc1": 42.12120819091797,
          "pc2": -2.623767614364624
         },
         {
          "pc1": -29.332927703857422,
          "pc2": -19.7703800201416
         },
         {
          "pc1": 9.577394485473633,
          "pc2": 10.892348289489746
         },
         {
          "pc1": -25.81133460998535,
          "pc2": 21.66363525390625
         },
         {
          "pc1": 22.53498077392578,
          "pc2": 22.02479362487793
         },
         {
          "pc1": -25.860984802246094,
          "pc2": 51.338871002197266
         },
         {
          "pc1": -34.15601348876953,
          "pc2": -63.39747619628906
         },
         {
          "pc1": -47.85871887207031,
          "pc2": 9.353593826293945
         },
         {
          "pc1": 32.65418243408203,
          "pc2": -3.340118408203125
         },
         {
          "pc1": -22.376483917236328,
          "pc2": -50.604679107666016
         },
         {
          "pc1": -19.9562931060791,
          "pc2": 27.10944175720215
         },
         {
          "pc1": 31.320507049560547,
          "pc2": -42.08641052246094
         },
         {
          "pc1": 59.470359802246094,
          "pc2": -20.62980842590332
         },
         {
          "pc1": 73.42631530761719,
          "pc2": 5.445499897003174
         },
         {
          "pc1": -45.262359619140625,
          "pc2": 8.840693473815918
         },
         {
          "pc1": -30.747713088989258,
          "pc2": 60.52586364746094
         },
         {
          "pc1": 61.89169692993164,
          "pc2": -11.434724807739258
         },
         {
          "pc1": 35.28691101074219,
          "pc2": -10.85542106628418
         },
         {
          "pc1": 20.061140060424805,
          "pc2": -58.2442626953125
         },
         {
          "pc1": -19.077917098999023,
          "pc2": 27.784961700439453
         },
         {
          "pc1": -9.504308700561523,
          "pc2": -83.82617950439453
         },
         {
          "pc1": -50.306644439697266,
          "pc2": 42.313636779785156
         },
         {
          "pc1": 26.020004272460938,
          "pc2": 49.49365234375
         },
         {
          "pc1": -45.42878723144531,
          "pc2": 16.868444442749023
         },
         {
          "pc1": -25.248964309692383,
          "pc2": 22.129953384399414
         },
         {
          "pc1": -14.991578102111816,
          "pc2": -24.7922306060791
         },
         {
          "pc1": -22.571317672729492,
          "pc2": 24.189626693725586
         },
         {
          "pc1": -41.09623336791992,
          "pc2": 18.80327606201172
         },
         {
          "pc1": 60.09377670288086,
          "pc2": 12.528146743774414
         },
         {
          "pc1": -53.477542877197266,
          "pc2": 40.81452178955078
         },
         {
          "pc1": 39.41325378417969,
          "pc2": 43.61103820800781
         },
         {
          "pc1": -51.87094497680664,
          "pc2": 31.478099822998047
         },
         {
          "pc1": 26.720766067504883,
          "pc2": -34.69407272338867
         },
         {
          "pc1": -31.673227310180664,
          "pc2": -49.50355529785156
         },
         {
          "pc1": 22.73619270324707,
          "pc2": 42.592533111572266
         },
         {
          "pc1": -46.658451080322266,
          "pc2": 44.08121109008789
         },
         {
          "pc1": 34.04071807861328,
          "pc2": -9.170905113220215
         },
         {
          "pc1": 58.68724822998047,
          "pc2": 11.612527847290039
         },
         {
          "pc1": -36.376651763916016,
          "pc2": -56.1265869140625
         },
         {
          "pc1": -13.600940704345703,
          "pc2": -21.10417366027832
         },
         {
          "pc1": 55.93235397338867,
          "pc2": -23.602022171020508
         },
         {
          "pc1": -2.061610460281372,
          "pc2": -85.4682388305664
         },
         {
          "pc1": 55.62398147583008,
          "pc2": 7.282919883728027
         },
         {
          "pc1": -28.273584365844727,
          "pc2": 61.70799255371094
         },
         {
          "pc1": 11.516036033630371,
          "pc2": 20.971542358398438
         },
         {
          "pc1": -6.188762664794922,
          "pc2": -23.543380737304688
         },
         {
          "pc1": 10.288124084472656,
          "pc2": 0.6395608186721802
         },
         {
          "pc1": 14.291865348815918,
          "pc2": -56.62889099121094
         },
         {
          "pc1": -40.26525115966797,
          "pc2": 52.5318489074707
         },
         {
          "pc1": 73.90524291992188,
          "pc2": 9.566855430603027
         },
         {
          "pc1": -2.0471150875091553,
          "pc2": -21.554962158203125
         },
         {
          "pc1": 61.19633483886719,
          "pc2": -12.805219650268555
         },
         {
          "pc1": 61.850669860839844,
          "pc2": -11.516227722167969
         },
         {
          "pc1": -35.59428024291992,
          "pc2": 14.24233341217041
         },
         {
          "pc1": 49.58645248413086,
          "pc2": 37.58856201171875
         },
         {
          "pc1": -33.03367614746094,
          "pc2": 16.298463821411133
         },
         {
          "pc1": 30.511747360229492,
          "pc2": -48.51763916015625
         },
         {
          "pc1": 66.8634262084961,
          "pc2": -12.695959091186523
         },
         {
          "pc1": -4.802543640136719,
          "pc2": 54.50858688354492
         },
         {
          "pc1": -29.181535720825195,
          "pc2": -0.45400479435920715
         },
         {
          "pc1": -28.94558334350586,
          "pc2": -21.008520126342773
         },
         {
          "pc1": 0.929465115070343,
          "pc2": -22.89161491394043
         },
         {
          "pc1": 20.87282943725586,
          "pc2": 21.338603973388672
         },
         {
          "pc1": -51.117862701416016,
          "pc2": 41.16265869140625
         },
         {
          "pc1": 36.50592803955078,
          "pc2": 19.887821197509766
         },
         {
          "pc1": -50.7640495300293,
          "pc2": 31.559329986572266
         },
         {
          "pc1": 60.95819091796875,
          "pc2": 18.215246200561523
         },
         {
          "pc1": -24.065658569335938,
          "pc2": 64.06957244873047
         },
         {
          "pc1": 24.101715087890625,
          "pc2": 51.59144592285156
         },
         {
          "pc1": -48.329593658447266,
          "pc2": -19.37156105041504
         },
         {
          "pc1": 16.760852813720703,
          "pc2": 20.957738876342773
         },
         {
          "pc1": -34.89358139038086,
          "pc2": 14.484526634216309
         },
         {
          "pc1": -29.15481185913086,
          "pc2": -71.47300720214844
         },
         {
          "pc1": 20.503217697143555,
          "pc2": -57.655723571777344
         },
         {
          "pc1": -4.913505554199219,
          "pc2": 65.69564819335938
         },
         {
          "pc1": -61.458431243896484,
          "pc2": -13.131841659545898
         },
         {
          "pc1": -32.2706413269043,
          "pc2": -20.015823364257812
         },
         {
          "pc1": -34.11155700683594,
          "pc2": 58.09504318237305
         },
         {
          "pc1": -23.270702362060547,
          "pc2": 23.89422607421875
         },
         {
          "pc1": -17.502941131591797,
          "pc2": -45.15570068359375
         },
         {
          "pc1": 0.7940073013305664,
          "pc2": -4.295468330383301
         },
         {
          "pc1": -15.332989692687988,
          "pc2": 32.72443771362305
         },
         {
          "pc1": 19.00580596923828,
          "pc2": 42.99447250366211
         },
         {
          "pc1": -18.017349243164062,
          "pc2": 30.684978485107422
         },
         {
          "pc1": -15.45740032196045,
          "pc2": 66.9749526977539
         },
         {
          "pc1": 12.075882911682129,
          "pc2": 21.198705673217773
         },
         {
          "pc1": 4.451363563537598,
          "pc2": -54.91838455200195
         },
         {
          "pc1": -8.76832389831543,
          "pc2": 59.551048278808594
         },
         {
          "pc1": -31.88043785095215,
          "pc2": 48.562217712402344
         },
         {
          "pc1": -56.50466537475586,
          "pc2": 38.057861328125
         },
         {
          "pc1": -8.121171951293945,
          "pc2": -84.60730743408203
         },
         {
          "pc1": 2.421124219894409,
          "pc2": -28.43773078918457
         },
         {
          "pc1": 26.010530471801758,
          "pc2": 21.098207473754883
         },
         {
          "pc1": -26.457027435302734,
          "pc2": -73.67452239990234
         },
         {
          "pc1": 3.297731876373291,
          "pc2": -87.94178771972656
         },
         {
          "pc1": 8.558478355407715,
          "pc2": 8.161847114562988
         },
         {
          "pc1": -39.10920715332031,
          "pc2": 12.575748443603516
         },
         {
          "pc1": -23.139541625976562,
          "pc2": 24.15435791015625
         },
         {
          "pc1": 54.1833381652832,
          "pc2": -21.29888343811035
         },
         {
          "pc1": 19.635297775268555,
          "pc2": -57.792213439941406
         },
         {
          "pc1": 60.84775924682617,
          "pc2": -13.544246673583984
         },
         {
          "pc1": -35.29618453979492,
          "pc2": -57.30145263671875
         },
         {
          "pc1": 2.844296455383301,
          "pc2": 54.67263412475586
         },
         {
          "pc1": -12.42634391784668,
          "pc2": 67.48461151123047
         },
         {
          "pc1": -5.825780391693115,
          "pc2": -48.8572998046875
         },
         {
          "pc1": 37.23359298706055,
          "pc2": -9.920928001403809
         },
         {
          "pc1": -49.6734504699707,
          "pc2": 31.857494354248047
         },
         {
          "pc1": -39.81871032714844,
          "pc2": 22.311813354492188
         },
         {
          "pc1": -0.42415666580200195,
          "pc2": 14.055536270141602
         },
         {
          "pc1": 1.0285813808441162,
          "pc2": 36.78993225097656
         },
         {
          "pc1": 0.6697679162025452,
          "pc2": 12.876738548278809
         },
         {
          "pc1": 45.171363830566406,
          "pc2": 40.5394401550293
         },
         {
          "pc1": -5.049169063568115,
          "pc2": 54.922855377197266
         },
         {
          "pc1": -0.6743233799934387,
          "pc2": 5.733618259429932
         },
         {
          "pc1": 28.95055389404297,
          "pc2": -36.01164245605469
         },
         {
          "pc1": -9.891620635986328,
          "pc2": 60.158721923828125
         },
         {
          "pc1": -0.12347768992185593,
          "pc2": 28.33598518371582
         },
         {
          "pc1": 0.2622241973876953,
          "pc2": 10.267060279846191
         },
         {
          "pc1": -64.10004425048828,
          "pc2": -8.041232109069824
         },
         {
          "pc1": -19.11454200744629,
          "pc2": 29.662368774414062
         },
         {
          "pc1": 29.027299880981445,
          "pc2": -10.793330192565918
         },
         {
          "pc1": -12.529296875,
          "pc2": 32.38388442993164
         },
         {
          "pc1": 27.18230438232422,
          "pc2": -5.713986396789551
         },
         {
          "pc1": -48.84006881713867,
          "pc2": 7.782735347747803
         },
         {
          "pc1": -34.90068817138672,
          "pc2": -62.76808547973633
         },
         {
          "pc1": 0.7902835607528687,
          "pc2": -4.292428970336914
         },
         {
          "pc1": -8.785135269165039,
          "pc2": 58.21364974975586
         },
         {
          "pc1": 10.832265853881836,
          "pc2": -58.834678649902344
         },
         {
          "pc1": -18.52520751953125,
          "pc2": -80.32373809814453
         },
         {
          "pc1": -15.557186126708984,
          "pc2": -82.0204086303711
         },
         {
          "pc1": 32.684173583984375,
          "pc2": -1.6602683067321777
         },
         {
          "pc1": 15.936985969543457,
          "pc2": -27.618364334106445
         },
         {
          "pc1": -12.337015151977539,
          "pc2": 32.80113983154297
         },
         {
          "pc1": 71.54114532470703,
          "pc2": -2.0517704486846924
         },
         {
          "pc1": -7.35437536239624,
          "pc2": 58.85026168823242
         },
         {
          "pc1": 34.35895538330078,
          "pc2": 17.61635971069336
         },
         {
          "pc1": -10.283005714416504,
          "pc2": 67.56159973144531
         },
         {
          "pc1": -28.52996063232422,
          "pc2": -70.35663604736328
         },
         {
          "pc1": 47.14263153076172,
          "pc2": 39.649658203125
         },
         {
          "pc1": -18.576017379760742,
          "pc2": -45.02456283569336
         },
         {
          "pc1": -2.3724722862243652,
          "pc2": -86.11902618408203
         },
         {
          "pc1": 55.999568939208984,
          "pc2": 23.100799560546875
         },
         {
          "pc1": -40.52132797241211,
          "pc2": -20.426414489746094
         },
         {
          "pc1": 0.4803653061389923,
          "pc2": 25.47957420349121
         },
         {
          "pc1": -27.78717803955078,
          "pc2": -46.66059494018555
         },
         {
          "pc1": 40.779266357421875,
          "pc2": -4.398978233337402
         },
         {
          "pc1": 67.40037536621094,
          "pc2": -11.096202850341797
         },
         {
          "pc1": 1.6429321765899658,
          "pc2": -85.35948944091797
         },
         {
          "pc1": 2.3646018505096436,
          "pc2": -54.935245513916016
         },
         {
          "pc1": -22.407320022583008,
          "pc2": -21.7007999420166
         },
         {
          "pc1": 3.1137545108795166,
          "pc2": 47.761077880859375
         },
         {
          "pc1": 24.36919403076172,
          "pc2": 41.06655502319336
         },
         {
          "pc1": -54.37775802612305,
          "pc2": 39.49317932128906
         },
         {
          "pc1": -27.94615936279297,
          "pc2": -0.5549337267875671
         },
         {
          "pc1": -57.05036544799805,
          "pc2": 38.57733917236328
         },
         {
          "pc1": 37.5594367980957,
          "pc2": -7.610435962677002
         },
         {
          "pc1": 10.603082656860352,
          "pc2": 20.765207290649414
         },
         {
          "pc1": 51.32069778442383,
          "pc2": 19.022377014160156
         },
         {
          "pc1": 46.874488830566406,
          "pc2": 38.447418212890625
         },
         {
          "pc1": 55.16967010498047,
          "pc2": 31.91604995727539
         },
         {
          "pc1": 1.1517237424850464,
          "pc2": 42.55844497680664
         },
         {
          "pc1": -44.70319747924805,
          "pc2": 9.057016372680664
         },
         {
          "pc1": 24.29564094543457,
          "pc2": 50.02865982055664
         },
         {
          "pc1": 66.7455825805664,
          "pc2": -12.36517333984375
         },
         {
          "pc1": -56.232242584228516,
          "pc2": 38.391502380371094
         },
         {
          "pc1": -50.56298828125,
          "pc2": 33.417388916015625
         },
         {
          "pc1": 6.33551025390625,
          "pc2": 30.15663719177246
         },
         {
          "pc1": 31.526317596435547,
          "pc2": 19.370527267456055
         },
         {
          "pc1": -34.70003128051758,
          "pc2": -53.355281829833984
         },
         {
          "pc1": -13.469098091125488,
          "pc2": 11.634561538696289
         },
         {
          "pc1": 58.74332046508789,
          "pc2": 19.997772216796875
         },
         {
          "pc1": -17.77210807800293,
          "pc2": -83.19281768798828
         },
         {
          "pc1": -51.96550369262695,
          "pc2": 41.68444061279297
         },
         {
          "pc1": 46.737571716308594,
          "pc2": -1.3467265367507935
         },
         {
          "pc1": -32.87507629394531,
          "pc2": 18.493494033813477
         },
         {
          "pc1": -22.78706932067871,
          "pc2": -18.719348907470703
         },
         {
          "pc1": 0.32557401061058044,
          "pc2": -85.17646026611328
         },
         {
          "pc1": 11.112234115600586,
          "pc2": -25.174739837646484
         },
         {
          "pc1": 45.054931640625,
          "pc2": -1.6125210523605347
         },
         {
          "pc1": -9.39716911315918,
          "pc2": -52.26978302001953
         },
         {
          "pc1": -32.251258850097656,
          "pc2": -2.971308469772339
         },
         {
          "pc1": 69.75867462158203,
          "pc2": -6.996711254119873
         },
         {
          "pc1": -53.368934631347656,
          "pc2": 40.05988311767578
         },
         {
          "pc1": 69.33108520507812,
          "pc2": -6.3434295654296875
         },
         {
          "pc1": 1.0443776845932007,
          "pc2": -53.56056213378906
         },
         {
          "pc1": 2.5095102787017822,
          "pc2": 44.70745849609375
         },
         {
          "pc1": -3.278470754623413,
          "pc2": 65.19424438476562
         },
         {
          "pc1": -55.5871696472168,
          "pc2": -16.40219497680664
         },
         {
          "pc1": 2.186633825302124,
          "pc2": 59.74714279174805
         },
         {
          "pc1": 27.41172981262207,
          "pc2": -10.7609224319458
         },
         {
          "pc1": 19.596988677978516,
          "pc2": 42.982887268066406
         },
         {
          "pc1": -17.448871612548828,
          "pc2": -45.43732452392578
         },
         {
          "pc1": -35.15158462524414,
          "pc2": -56.37443923950195
         },
         {
          "pc1": -12.021812438964844,
          "pc2": -77.40190124511719
         },
         {
          "pc1": -20.862871170043945,
          "pc2": -20.001567840576172
         },
         {
          "pc1": -41.12074279785156,
          "pc2": 10.183289527893066
         },
         {
          "pc1": 8.467885971069336,
          "pc2": 6.388038158416748
         },
         {
          "pc1": 0.044170841574668884,
          "pc2": 16.933265686035156
         },
         {
          "pc1": -0.15204627811908722,
          "pc2": 7.927128791809082
         },
         {
          "pc1": 59.53696060180664,
          "pc2": 11.873828887939453
         },
         {
          "pc1": 23.297056198120117,
          "pc2": -33.238407135009766
         },
         {
          "pc1": 15.143200874328613,
          "pc2": -58.629730224609375
         },
         {
          "pc1": -25.173898696899414,
          "pc2": 24.686660766601562
         },
         {
          "pc1": -35.35277557373047,
          "pc2": -60.9256591796875
         },
         {
          "pc1": 1.184698224067688,
          "pc2": 40.50086975097656
         },
         {
          "pc1": 32.07542419433594,
          "pc2": -4.018287658691406
         },
         {
          "pc1": 0.8210436701774597,
          "pc2": 17.487964630126953
         },
         {
          "pc1": -4.588582515716553,
          "pc2": -25.797958374023438
         },
         {
          "pc1": 58.79443359375,
          "pc2": 19.353090286254883
         },
         {
          "pc1": 34.51578903198242,
          "pc2": 47.82081985473633
         },
         {
          "pc1": -51.710384368896484,
          "pc2": 40.86636734008789
         },
         {
          "pc1": 39.52136993408203,
          "pc2": 43.20918273925781
         },
         {
          "pc1": -20.148197174072266,
          "pc2": 26.960758209228516
         },
         {
          "pc1": -18.928861618041992,
          "pc2": -82.075927734375
         },
         {
          "pc1": 73.29505157470703,
          "pc2": 3.5830962657928467
         },
         {
          "pc1": -61.49063491821289,
          "pc2": -13.388951301574707
         },
         {
          "pc1": -14.208773612976074,
          "pc2": -82.37147521972656
         },
         {
          "pc1": -8.042366981506348,
          "pc2": -50.07398223876953
         },
         {
          "pc1": -21.216697692871094,
          "pc2": -77.32075500488281
         },
         {
          "pc1": -62.27008819580078,
          "pc2": -11.862251281738281
         },
         {
          "pc1": -1.2375081777572632,
          "pc2": -87.3758773803711
         },
         {
          "pc1": -17.945066452026367,
          "pc2": -45.24626541137695
         },
         {
          "pc1": -36.28965377807617,
          "pc2": -57.06599426269531
         },
         {
          "pc1": 35.132164001464844,
          "pc2": 42.07393264770508
         },
         {
          "pc1": 40.055992126464844,
          "pc2": -7.3235015869140625
         },
         {
          "pc1": 54.66107940673828,
          "pc2": -23.345178604125977
         },
         {
          "pc1": -55.78464889526367,
          "pc2": 38.48599624633789
         },
         {
          "pc1": -39.78466796875,
          "pc2": 22.363731384277344
         },
         {
          "pc1": -25.37999153137207,
          "pc2": 24.145248413085938
         },
         {
          "pc1": 59.09440994262695,
          "pc2": 20.877826690673828
         },
         {
          "pc1": -44.51900863647461,
          "pc2": -15.751980781555176
         },
         {
          "pc1": 18.21714973449707,
          "pc2": -29.131546020507812
         },
         {
          "pc1": 62.650718688964844,
          "pc2": -18.396278381347656
         },
         {
          "pc1": 2.6456072330474854,
          "pc2": 47.45827865600586
         },
         {
          "pc1": 74.32874298095703,
          "pc2": 9.92843246459961
         },
         {
          "pc1": -5.98197603225708,
          "pc2": -48.78070068359375
         },
         {
          "pc1": 63.51333999633789,
          "pc2": -17.682842254638672
         },
         {
          "pc1": 70.5003433227539,
          "pc2": -4.804637908935547
         },
         {
          "pc1": 51.265621185302734,
          "pc2": 21.499221801757812
         },
         {
          "pc1": 8.012710571289062,
          "pc2": 38.15923309326172
         },
         {
          "pc1": 26.777729034423828,
          "pc2": -53.51699447631836
         },
         {
          "pc1": -17.061229705810547,
          "pc2": 7.879297733306885
         },
         {
          "pc1": -6.095306396484375,
          "pc2": -21.316862106323242
         },
         {
          "pc1": -16.535114288330078,
          "pc2": -80.75959014892578
         },
         {
          "pc1": 25.462806701660156,
          "pc2": 51.12338638305664
         },
         {
          "pc1": -35.21943664550781,
          "pc2": -61.38539505004883
         },
         {
          "pc1": 38.06246566772461,
          "pc2": 16.29897117614746
         },
         {
          "pc1": -27.57573127746582,
          "pc2": -19.93091583251953
         },
         {
          "pc1": -40.665531158447266,
          "pc2": 21.106266021728516
         },
         {
          "pc1": 69.2666015625,
          "pc2": -7.418482780456543
         },
         {
          "pc1": 70.65580749511719,
          "pc2": -3.2441771030426025
         },
         {
          "pc1": -1.4599547386169434,
          "pc2": -21.817813873291016
         },
         {
          "pc1": -15.345629692077637,
          "pc2": 34.25153732299805
         },
         {
          "pc1": -22.91961097717285,
          "pc2": -44.64442825317383
         },
         {
          "pc1": -43.32833480834961,
          "pc2": 18.341421127319336
         },
         {
          "pc1": 60.10850143432617,
          "pc2": 19.898834228515625
         },
         {
          "pc1": -21.569753646850586,
          "pc2": 26.014495849609375
         },
         {
          "pc1": -33.11703872680664,
          "pc2": 59.57024002075195
         },
         {
          "pc1": 55.306602478027344,
          "pc2": -23.395559310913086
         },
         {
          "pc1": 33.741756439208984,
          "pc2": -10.979555130004883
         },
         {
          "pc1": -31.24875831604004,
          "pc2": 47.14896011352539
         },
         {
          "pc1": -20.465011596679688,
          "pc2": 26.741914749145508
         },
         {
          "pc1": 21.978586196899414,
          "pc2": -31.112327575683594
         },
         {
          "pc1": 28.49526596069336,
          "pc2": -9.109780311584473
         },
         {
          "pc1": -44.82094955444336,
          "pc2": 17.283899307250977
         },
         {
          "pc1": 0.0477280355989933,
          "pc2": 63.45030212402344
         },
         {
          "pc1": 72.9147720336914,
          "pc2": 4.0392303466796875
         },
         {
          "pc1": 52.67649841308594,
          "pc2": 21.49016761779785
         },
         {
          "pc1": 28.338125228881836,
          "pc2": -11.940682411193848
         },
         {
          "pc1": -51.68065643310547,
          "pc2": -19.379003524780273
         },
         {
          "pc1": 50.15778732299805,
          "pc2": 12.537529945373535
         },
         {
          "pc1": -62.32329177856445,
          "pc2": -13.39317512512207
         },
         {
          "pc1": -8.328230857849121,
          "pc2": 57.906620025634766
         },
         {
          "pc1": 3.3484046459198,
          "pc2": -85.74917602539062
         },
         {
          "pc1": -7.814871311187744,
          "pc2": -48.77540969848633
         },
         {
          "pc1": -35.43770217895508,
          "pc2": -57.58528137207031
         },
         {
          "pc1": 5.488528251647949,
          "pc2": 30.169883728027344
         },
         {
          "pc1": 1.8162864446640015,
          "pc2": 60.6731071472168
         },
         {
          "pc1": -2.06042742729187,
          "pc2": -85.81634521484375
         },
         {
          "pc1": -22.538572311401367,
          "pc2": -50.718711853027344
         },
         {
          "pc1": 2.868915557861328,
          "pc2": -4.410983085632324
         },
         {
          "pc1": 17.2789249420166,
          "pc2": -58.60739517211914
         },
         {
          "pc1": -34.12065887451172,
          "pc2": -53.53289794921875
         },
         {
          "pc1": -24.144554138183594,
          "pc2": 3.076500177383423
         },
         {
          "pc1": -1.1562864780426025,
          "pc2": -21.91038703918457
         },
         {
          "pc1": 10.188247680664062,
          "pc2": 9.104783058166504
         },
         {
          "pc1": -26.420333862304688,
          "pc2": -21.142229080200195
         },
         {
          "pc1": 2.0646564960479736,
          "pc2": 49.2795295715332
         },
         {
          "pc1": -12.0562162399292,
          "pc2": 14.573399543762207
         },
         {
          "pc1": -62.676753997802734,
          "pc2": -12.641490936279297
         },
         {
          "pc1": 68.34980010986328,
          "pc2": -9.576379776000977
         },
         {
          "pc1": -42.72877883911133,
          "pc2": 8.439988136291504
         },
         {
          "pc1": 30.74322509765625,
          "pc2": -3.3910346031188965
         },
         {
          "pc1": -14.787311553955078,
          "pc2": 10.196561813354492
         },
         {
          "pc1": -1.7346769571304321,
          "pc2": -22.556238174438477
         },
         {
          "pc1": 56.04573440551758,
          "pc2": -23.064010620117188
         },
         {
          "pc1": 18.013938903808594,
          "pc2": -51.59633255004883
         },
         {
          "pc1": -23.454063415527344,
          "pc2": 34.96272659301758
         },
         {
          "pc1": 5.341892242431641,
          "pc2": -23.542455673217773
         },
         {
          "pc1": -22.247116088867188,
          "pc2": -18.641033172607422
         },
         {
          "pc1": 46.04975128173828,
          "pc2": -0.6095789074897766
         },
         {
          "pc1": 22.302011489868164,
          "pc2": -57.097835540771484
         },
         {
          "pc1": -33.86039733886719,
          "pc2": 19.609230041503906
         },
         {
          "pc1": 0.44147080183029175,
          "pc2": 13.412810325622559
         },
         {
          "pc1": -26.8828067779541,
          "pc2": 62.53076171875
         },
         {
          "pc1": 0.2180965393781662,
          "pc2": 63.252197265625
         },
         {
          "pc1": -22.318971633911133,
          "pc2": -47.816619873046875
         },
         {
          "pc1": -47.218223571777344,
          "pc2": -18.916744232177734
         },
         {
          "pc1": 1.2082669734954834,
          "pc2": 60.75736999511719
         },
         {
          "pc1": -51.84006118774414,
          "pc2": 31.477956771850586
         },
         {
          "pc1": -48.47877883911133,
          "pc2": 43.78208541870117
         },
         {
          "pc1": -40.93572235107422,
          "pc2": 20.864566802978516
         },
         {
          "pc1": 0.15510569512844086,
          "pc2": 8.653143882751465
         },
         {
          "pc1": 0.07991007715463638,
          "pc2": 18.16642189025879
         },
         {
          "pc1": 33.4899787902832,
          "pc2": -0.8799915909767151
         },
         {
          "pc1": -27.811817169189453,
          "pc2": 62.222984313964844
         },
         {
          "pc1": -10.349310874938965,
          "pc2": 67.215087890625
         },
         {
          "pc1": 30.842641830444336,
          "pc2": 19.778825759887695
         },
         {
          "pc1": 50.264991760253906,
          "pc2": 12.707515716552734
         },
         {
          "pc1": 9.97020435333252,
          "pc2": 8.334237098693848
         },
         {
          "pc1": -30.08479881286621,
          "pc2": 18.769071578979492
         },
         {
          "pc1": -35.011962890625,
          "pc2": -54.804115295410156
         },
         {
          "pc1": 9.671112060546875,
          "pc2": 6.587808609008789
         },
         {
          "pc1": 42.48725128173828,
          "pc2": 40.441219329833984
         },
         {
          "pc1": 53.864288330078125,
          "pc2": 31.24116325378418
         },
         {
          "pc1": 42.09894943237305,
          "pc2": 40.58232498168945
         },
         {
          "pc1": 30.740262985229492,
          "pc2": -41.351810455322266
         },
         {
          "pc1": 0.16112443804740906,
          "pc2": 8.363019943237305
         },
         {
          "pc1": -13.30270767211914,
          "pc2": -77.02073669433594
         },
         {
          "pc1": 53.200653076171875,
          "pc2": 30.647533416748047
         },
         {
          "pc1": -31.738534927368164,
          "pc2": -19.752212524414062
         },
         {
          "pc1": -33.828468322753906,
          "pc2": 58.80289840698242
         },
         {
          "pc1": -54.071529388427734,
          "pc2": -13.06746768951416
         },
         {
          "pc1": -60.736778259277344,
          "pc2": -12.502849578857422
         },
         {
          "pc1": -51.25506591796875,
          "pc2": 33.28974914550781
         },
         {
          "pc1": 72.6477279663086,
          "pc2": 0.5516017079353333
         },
         {
          "pc1": 71.67896270751953,
          "pc2": -1.32032310962677
         },
         {
          "pc1": 0.6372119188308716,
          "pc2": -82.10563659667969
         },
         {
          "pc1": -28.758800506591797,
          "pc2": -24.67009925842285
         },
         {
          "pc1": -28.269405364990234,
          "pc2": 61.76662826538086
         },
         {
          "pc1": 38.4067497253418,
          "pc2": 42.47623062133789
         },
         {
          "pc1": -5.266331672668457,
          "pc2": -21.52415657043457
         },
         {
          "pc1": -19.865102767944336,
          "pc2": 27.17919921875
         },
         {
          "pc1": 70.8600082397461,
          "pc2": -4.504924774169922
         },
         {
          "pc1": -44.734214782714844,
          "pc2": 8.168408393859863
         },
         {
          "pc1": 58.416099548339844,
          "pc2": -21.28536605834961
         },
         {
          "pc1": 28.468366622924805,
          "pc2": 39.82258987426758
         },
         {
          "pc1": 4.977973937988281,
          "pc2": -56.78318405151367
         },
         {
          "pc1": 5.998885154724121,
          "pc2": -57.54743957519531
         },
         {
          "pc1": 60.055580139160156,
          "pc2": 24.412696838378906
         },
         {
          "pc1": -34.1497917175293,
          "pc2": -52.21068572998047
         },
         {
          "pc1": 34.212921142578125,
          "pc2": 18.860755920410156
         },
         {
          "pc1": 41.76151657104492,
          "pc2": 40.933692932128906
         },
         {
          "pc1": 58.6855583190918,
          "pc2": 20.32355308532715
         },
         {
          "pc1": -31.921478271484375,
          "pc2": 48.4730110168457
         },
         {
          "pc1": 30.02428436279297,
          "pc2": 49.435150146484375
         },
         {
          "pc1": 15.805635452270508,
          "pc2": 20.734975814819336
         },
         {
          "pc1": 68.2511978149414,
          "pc2": -8.918983459472656
         },
         {
          "pc1": 67.08018493652344,
          "pc2": -11.88597583770752
         },
         {
          "pc1": 50.1285514831543,
          "pc2": 1.5305476188659668
         },
         {
          "pc1": -10.54336929321289,
          "pc2": -83.53495025634766
         },
         {
          "pc1": -35.27959060668945,
          "pc2": -56.92736053466797
         },
         {
          "pc1": 59.232242584228516,
          "pc2": 11.067584037780762
         },
         {
          "pc1": -19.114286422729492,
          "pc2": 29.22667121887207
         },
         {
          "pc1": -1.3145296573638916,
          "pc2": -52.50707244873047
         },
         {
          "pc1": -21.339948654174805,
          "pc2": 26.169822692871094
         },
         {
          "pc1": -28.18703842163086,
          "pc2": 4.010148048400879
         },
         {
          "pc1": -5.718861103057861,
          "pc2": 55.969295501708984
         },
         {
          "pc1": 2.979283094406128,
          "pc2": 47.129058837890625
         },
         {
          "pc1": 13.709611892700195,
          "pc2": 21.058456420898438
         },
         {
          "pc1": -9.65890884399414,
          "pc2": -21.62676239013672
         },
         {
          "pc1": 10.000332832336426,
          "pc2": 8.487414360046387
         },
         {
          "pc1": -2.046412944793701,
          "pc2": 65.68358612060547
         },
         {
          "pc1": 3.860750675201416,
          "pc2": -23.68924903869629
         },
         {
          "pc1": 62.59630584716797,
          "pc2": -18.434558868408203
         },
         {
          "pc1": 46.742828369140625,
          "pc2": 40.28189468383789
         },
         {
          "pc1": -30.773284912109375,
          "pc2": -2.6894190311431885
         },
         {
          "pc1": 48.683467864990234,
          "pc2": -0.1910788118839264
         },
         {
          "pc1": -16.984235763549805,
          "pc2": 31.390501022338867
         },
         {
          "pc1": 2.8202059268951416,
          "pc2": 51.46821975708008
         },
         {
          "pc1": -32.691139221191406,
          "pc2": 19.057626724243164
         },
         {
          "pc1": 60.25908279418945,
          "pc2": 18.40764045715332
         },
         {
          "pc1": 8.874792098999023,
          "pc2": 3.170079469680786
         },
         {
          "pc1": 60.123802185058594,
          "pc2": 19.786720275878906
         },
         {
          "pc1": 59.87947082519531,
          "pc2": 24.14107322692871
         },
         {
          "pc1": 0.4581434726715088,
          "pc2": 17.183950424194336
         },
         {
          "pc1": 0.04714938625693321,
          "pc2": -22.127037048339844
         },
         {
          "pc1": -19.91029167175293,
          "pc2": 33.706565856933594
         },
         {
          "pc1": 0.4783085584640503,
          "pc2": 22.685409545898438
         },
         {
          "pc1": -51.44377517700195,
          "pc2": -19.42743492126465
         },
         {
          "pc1": -20.878936767578125,
          "pc2": -76.39366149902344
         },
         {
          "pc1": 58.94194793701172,
          "pc2": 17.245277404785156
         },
         {
          "pc1": -34.06954574584961,
          "pc2": 19.98491096496582
         },
         {
          "pc1": 69.50933837890625,
          "pc2": -6.881352424621582
         },
         {
          "pc1": -2.9870712757110596,
          "pc2": -50.925201416015625
         },
         {
          "pc1": 0.04356690123677254,
          "pc2": -81.8209457397461
         },
         {
          "pc1": 2.540248155593872,
          "pc2": 57.85737228393555
         },
         {
          "pc1": 58.33194351196289,
          "pc2": 21.66900634765625
         },
         {
          "pc1": 10.301721572875977,
          "pc2": 9.498087882995605
         },
         {
          "pc1": 34.32260513305664,
          "pc2": 41.9774284362793
         },
         {
          "pc1": -9.12026309967041,
          "pc2": -47.53351593017578
         },
         {
          "pc1": 22.975969314575195,
          "pc2": -56.42082595825195
         },
         {
          "pc1": 25.980478286743164,
          "pc2": 21.11668586730957
         },
         {
          "pc1": 69.97245025634766,
          "pc2": -6.088290214538574
         },
         {
          "pc1": -41.0289306640625,
          "pc2": 13.871057510375977
         },
         {
          "pc1": 31.832590103149414,
          "pc2": -46.549827575683594
         },
         {
          "pc1": 1.882341980934143,
          "pc2": 44.793697357177734
         },
         {
          "pc1": 2.4214422702789307,
          "pc2": -28.437835693359375
         },
         {
          "pc1": 18.638673782348633,
          "pc2": 43.34663772583008
         },
         {
          "pc1": 47.46179962158203,
          "pc2": 37.528663635253906
         },
         {
          "pc1": -34.02486038208008,
          "pc2": 15.202692985534668
         },
         {
          "pc1": 0.4017602801322937,
          "pc2": 12.708708763122559
         },
         {
          "pc1": 16.970443725585938,
          "pc2": -51.80638885498047
         },
         {
          "pc1": 12.975719451904297,
          "pc2": 21.39777183532715
         },
         {
          "pc1": 16.712398529052734,
          "pc2": 20.942487716674805
         },
         {
          "pc1": 49.42973327636719,
          "pc2": 7.600040435791016
         },
         {
          "pc1": 51.20458984375,
          "pc2": 17.09294891357422
         },
         {
          "pc1": 20.203857421875,
          "pc2": 42.10936737060547
         },
         {
          "pc1": -48.18809127807617,
          "pc2": 10.29709243774414
         },
         {
          "pc1": 27.009746551513672,
          "pc2": -11.870450019836426
         },
         {
          "pc1": -33.35784912109375,
          "pc2": 0.9881198406219482
         },
         {
          "pc1": -62.25758361816406,
          "pc2": -11.828064918518066
         },
         {
          "pc1": -3.1114072799682617,
          "pc2": -26.81212615966797
         },
         {
          "pc1": 22.745481491088867,
          "pc2": -31.61844253540039
         },
         {
          "pc1": -13.927643775939941,
          "pc2": -76.77103424072266
         },
         {
          "pc1": 67.83934020996094,
          "pc2": -9.527240753173828
         },
         {
          "pc1": 56.84204864501953,
          "pc2": -22.326120376586914
         },
         {
          "pc1": 1.9431179761886597,
          "pc2": 45.39550018310547
         },
         {
          "pc1": -0.03344091773033142,
          "pc2": 2.249072313308716
         },
         {
          "pc1": 33.54446029663086,
          "pc2": 40.161705017089844
         },
         {
          "pc1": -12.423796653747559,
          "pc2": 12.047811508178711
         },
         {
          "pc1": -30.805587768554688,
          "pc2": 47.8245964050293
         },
         {
          "pc1": 64.24154663085938,
          "pc2": -17.024829864501953
         },
         {
          "pc1": -63.623775482177734,
          "pc2": -12.1026611328125
         },
         {
          "pc1": 57.801048278808594,
          "pc2": -22.226648330688477
         },
         {
          "pc1": 34.27067184448242,
          "pc2": 47.85030746459961
         },
         {
          "pc1": -4.932852268218994,
          "pc2": 66.60051727294922
         },
         {
          "pc1": -14.672638893127441,
          "pc2": -46.43743896484375
         },
         {
          "pc1": -20.65993881225586,
          "pc2": -45.06792068481445
         },
         {
          "pc1": 22.696300506591797,
          "pc2": -30.943376541137695
         },
         {
          "pc1": 59.55051040649414,
          "pc2": 24.70659828186035
         },
         {
          "pc1": -43.04970169067383,
          "pc2": 12.723122596740723
         },
         {
          "pc1": -30.042848587036133,
          "pc2": -1.895286202430725
         },
         {
          "pc1": 10.211089134216309,
          "pc2": -58.728248596191406
         },
         {
          "pc1": 5.928585529327393,
          "pc2": -55.982154846191406
         },
         {
          "pc1": 1.9048428535461426,
          "pc2": 45.1434326171875
         },
         {
          "pc1": 73.88524627685547,
          "pc2": 9.226262092590332
         },
         {
          "pc1": 36.20244598388672,
          "pc2": -8.5643892288208
         },
         {
          "pc1": 47.661006927490234,
          "pc2": 30.112150192260742
         },
         {
          "pc1": 14.929872512817383,
          "pc2": -59.3959846496582
         },
         {
          "pc1": -49.79754638671875,
          "pc2": 31.814298629760742
         },
         {
          "pc1": -48.101505279541016,
          "pc2": -19.79380226135254
         },
         {
          "pc1": 37.63652038574219,
          "pc2": 16.75250816345215
         },
         {
          "pc1": 29.412321090698242,
          "pc2": 48.907691955566406
         },
         {
          "pc1": 2.252715587615967,
          "pc2": -55.333709716796875
         },
         {
          "pc1": 4.674160957336426,
          "pc2": -5.821654796600342
         },
         {
          "pc1": -1.960639476776123,
          "pc2": -85.45974731445312
         },
         {
          "pc1": -9.950292587280273,
          "pc2": -20.72081184387207
         },
         {
          "pc1": 71.42290496826172,
          "pc2": -2.895162582397461
         },
         {
          "pc1": -29.635395050048828,
          "pc2": -20.5760555267334
         },
         {
          "pc1": -26.394189834594727,
          "pc2": 5.595902919769287
         },
         {
          "pc1": 0.7031792402267456,
          "pc2": 33.45441818237305
         },
         {
          "pc1": 3.423319101333618,
          "pc2": -86.08106994628906
         },
         {
          "pc1": -24.035673141479492,
          "pc2": 3.5604982376098633
         },
         {
          "pc1": -16.163421630859375,
          "pc2": -20.275630950927734
         },
         {
          "pc1": -64.93143463134766,
          "pc2": -6.798059463500977
         },
         {
          "pc1": -0.35531267523765564,
          "pc2": -51.68402099609375
         },
         {
          "pc1": 70.43657684326172,
          "pc2": 5.206953525543213
         },
         {
          "pc1": -33.402103424072266,
          "pc2": -20.225778579711914
         },
         {
          "pc1": -18.36819076538086,
          "pc2": 7.674708843231201
         },
         {
          "pc1": 22.074764251708984,
          "pc2": 25.4901065826416
         },
         {
          "pc1": 27.04804229736328,
          "pc2": 50.53688430786133
         },
         {
          "pc1": -26.552631378173828,
          "pc2": 62.645416259765625
         },
         {
          "pc1": 13.108641624450684,
          "pc2": 20.93291664123535
         },
         {
          "pc1": -30.506549835205078,
          "pc2": -59.41667556762695
         },
         {
          "pc1": 46.81175231933594,
          "pc2": 38.76829147338867
         },
         {
          "pc1": -20.846649169921875,
          "pc2": -50.13825988769531
         },
         {
          "pc1": 8.463311195373535,
          "pc2": 6.2069268226623535
         },
         {
          "pc1": -1.9896827936172485,
          "pc2": -21.933029174804688
         },
         {
          "pc1": 16.636240005493164,
          "pc2": -27.93202781677246
         },
         {
          "pc1": 73.16423034667969,
          "pc2": 5.46435546875
         },
         {
          "pc1": 20.668655395507812,
          "pc2": -30.23594093322754
         },
         {
          "pc1": 26.387741088867188,
          "pc2": -53.83283615112305
         },
         {
          "pc1": -27.777860641479492,
          "pc2": -19.572555541992188
         },
         {
          "pc1": 8.684078216552734,
          "pc2": -58.232276916503906
         },
         {
          "pc1": 59.5886116027832,
          "pc2": 24.596359252929688
         },
         {
          "pc1": 47.26987075805664,
          "pc2": 30.5524959564209
         },
         {
          "pc1": -22.840290069580078,
          "pc2": 64.1921157836914
         },
         {
          "pc1": -26.6280460357666,
          "pc2": 5.367284297943115
         },
         {
          "pc1": -50.20845031738281,
          "pc2": 31.69129753112793
         },
         {
          "pc1": -34.6148681640625,
          "pc2": -61.09717559814453
         },
         {
          "pc1": -24.650856018066406,
          "pc2": 26.903953552246094
         },
         {
          "pc1": 25.88713836669922,
          "pc2": 21.163259506225586
         },
         {
          "pc1": 28.609100341796875,
          "pc2": 39.80839538574219
         },
         {
          "pc1": -16.733694076538086,
          "pc2": 66.53260803222656
         },
         {
          "pc1": -15.352714538574219,
          "pc2": -82.14974212646484
         },
         {
          "pc1": 54.50682830810547,
          "pc2": 31.099750518798828
         },
         {
          "pc1": -15.731220245361328,
          "pc2": -47.43539810180664
         },
         {
          "pc1": -52.604190826416016,
          "pc2": 31.490129470825195
         },
         {
          "pc1": -16.11236572265625,
          "pc2": -81.49281311035156
         },
         {
          "pc1": 44.746238708496094,
          "pc2": 40.75290298461914
         },
         {
          "pc1": 30.766836166381836,
          "pc2": 40.8507194519043
         },
         {
          "pc1": 10.262420654296875,
          "pc2": 1.452406883239746
         },
         {
          "pc1": -23.733972549438477,
          "pc2": 26.323074340820312
         },
         {
          "pc1": -9.14986515045166,
          "pc2": -84.28730010986328
         },
         {
          "pc1": 47.74704360961914,
          "pc2": 6.103692054748535
         },
         {
          "pc1": 60.2318115234375,
          "pc2": 23.726470947265625
         },
         {
          "pc1": -23.55496597290039,
          "pc2": 23.690689086914062
         },
         {
          "pc1": 0.4478532671928406,
          "pc2": 12.54294490814209
         },
         {
          "pc1": -45.04353332519531,
          "pc2": 46.61821746826172
         },
         {
          "pc1": -17.906784057617188,
          "pc2": 7.643276691436768
         },
         {
          "pc1": -41.60823440551758,
          "pc2": 11.561556816101074
         },
         {
          "pc1": -53.5494384765625,
          "pc2": -18.920591354370117
         },
         {
          "pc1": 52.8068962097168,
          "pc2": 7.386126518249512
         },
         {
          "pc1": 27.367631912231445,
          "pc2": -10.032214164733887
         },
         {
          "pc1": 33.918426513671875,
          "pc2": -0.591810405254364
         },
         {
          "pc1": -29.113134384155273,
          "pc2": -73.12689208984375
         },
         {
          "pc1": 0.2592948377132416,
          "pc2": 8.932854652404785
         },
         {
          "pc1": 53.94682693481445,
          "pc2": -21.697315216064453
         },
         {
          "pc1": -28.09962272644043,
          "pc2": -72.42644500732422
         },
         {
          "pc1": 56.2033805847168,
          "pc2": 7.440579891204834
         },
         {
          "pc1": -19.875259399414062,
          "pc2": -44.955047607421875
         },
         {
          "pc1": 66.2934799194336,
          "pc2": -13.230918884277344
         },
         {
          "pc1": -15.202059745788574,
          "pc2": 9.632807731628418
         },
         {
          "pc1": -29.6829776763916,
          "pc2": -61.1766242980957
         },
         {
          "pc1": 36.629268646240234,
          "pc2": -10.246567726135254
         },
         {
          "pc1": 39.43791198730469,
          "pc2": 19.040477752685547
         },
         {
          "pc1": 74.08026123046875,
          "pc2": 7.740898132324219
         },
         {
          "pc1": 47.79655838012695,
          "pc2": -0.6472066640853882
         },
         {
          "pc1": -51.589176177978516,
          "pc2": 40.58061981201172
         },
         {
          "pc1": 65.60523986816406,
          "pc2": -15.054826736450195
         },
         {
          "pc1": -35.549991607666016,
          "pc2": 13.944890022277832
         },
         {
          "pc1": 8.67464828491211,
          "pc2": 8.594114303588867
         },
         {
          "pc1": 68.43972778320312,
          "pc2": -9.404613494873047
         },
         {
          "pc1": 21.311649322509766,
          "pc2": 21.621644973754883
         },
         {
          "pc1": -18.80260467529297,
          "pc2": 34.411842346191406
         },
         {
          "pc1": 56.23176956176758,
          "pc2": 8.217327117919922
         },
         {
          "pc1": -18.65427017211914,
          "pc2": -83.9791030883789
         },
         {
          "pc1": -63.04622268676758,
          "pc2": -9.679305076599121
         },
         {
          "pc1": -0.5750138163566589,
          "pc2": 1.4259092807769775
         },
         {
          "pc1": 63.323177337646484,
          "pc2": -17.091487884521484
         },
         {
          "pc1": 26.288787841796875,
          "pc2": -54.00236511230469
         },
         {
          "pc1": -28.18357276916504,
          "pc2": 19.915218353271484
         },
         {
          "pc1": 69.98018646240234,
          "pc2": -6.0628838539123535
         },
         {
          "pc1": -33.54511260986328,
          "pc2": 16.568540573120117
         },
         {
          "pc1": 58.26125717163086,
          "pc2": -17.530593872070312
         },
         {
          "pc1": -31.879451751708984,
          "pc2": -68.49080657958984
         },
         {
          "pc1": 54.731658935546875,
          "pc2": -23.291107177734375
         },
         {
          "pc1": -10.047524452209473,
          "pc2": 67.19664764404297
         },
         {
          "pc1": 25.3775691986084,
          "pc2": -48.564964294433594
         },
         {
          "pc1": 42.60755157470703,
          "pc2": -2.7138233184814453
         },
         {
          "pc1": -63.01151657104492,
          "pc2": -8.59309196472168
         },
         {
          "pc1": -4.347030162811279,
          "pc2": -84.5797348022461
         },
         {
          "pc1": 30.32001304626465,
          "pc2": -41.53934097290039
         },
         {
          "pc1": -0.9858922958374023,
          "pc2": 63.66454315185547
         },
         {
          "pc1": 57.178768157958984,
          "pc2": 11.629537582397461
         },
         {
          "pc1": 27.623991012573242,
          "pc2": -11.895143508911133
         },
         {
          "pc1": -14.144570350646973,
          "pc2": 33.582969665527344
         },
         {
          "pc1": 19.720388412475586,
          "pc2": 42.17538070678711
         },
         {
          "pc1": 29.375776290893555,
          "pc2": 49.63467025756836
         },
         {
          "pc1": -37.178871154785156,
          "pc2": -20.242643356323242
         },
         {
          "pc1": 60.668209075927734,
          "pc2": -20.41823959350586
         },
         {
          "pc1": -36.72378921508789,
          "pc2": 13.256340980529785
         },
         {
          "pc1": -45.65573501586914,
          "pc2": 16.71973991394043
         },
         {
          "pc1": -34.64149475097656,
          "pc2": -60.96657180786133
         },
         {
          "pc1": 48.544708251953125,
          "pc2": 1.3839329481124878
         },
         {
          "pc1": 62.59355926513672,
          "pc2": -9.842085838317871
         },
         {
          "pc1": -24.378393173217773,
          "pc2": 2.9263715744018555
         },
         {
          "pc1": -15.751448631286621,
          "pc2": 30.664953231811523
         },
         {
          "pc1": 12.493797302246094,
          "pc2": -54.91445541381836
         },
         {
          "pc1": 8.468890190124512,
          "pc2": 6.4117279052734375
         },
         {
          "pc1": 15.968442916870117,
          "pc2": 24.983835220336914
         },
         {
          "pc1": -52.306949615478516,
          "pc2": 31.498729705810547
         },
         {
          "pc1": -41.49190902709961,
          "pc2": 9.666814804077148
         },
         {
          "pc1": -13.809449195861816,
          "pc2": 11.032787322998047
         },
         {
          "pc1": 22.74821662902832,
          "pc2": 25.44969940185547
         },
         {
          "pc1": -14.866870880126953,
          "pc2": -82.89057159423828
         },
         {
          "pc1": 51.33167266845703,
          "pc2": 19.739418029785156
         },
         {
          "pc1": -0.4861259460449219,
          "pc2": 8.129770278930664
         },
         {
          "pc1": 24.260984420776367,
          "pc2": -33.68291473388672
         },
         {
          "pc1": 48.10942077636719,
          "pc2": 37.19477844238281
         },
         {
          "pc1": -35.082515716552734,
          "pc2": 19.074167251586914
         },
         {
          "pc1": 73.6651840209961,
          "pc2": 8.046859741210938
         },
         {
          "pc1": 60.61602783203125,
          "pc2": 17.684917449951172
         },
         {
          "pc1": 12.567134857177734,
          "pc2": -27.39313316345215
         },
         {
          "pc1": -27.77963638305664,
          "pc2": 20.109607696533203
         },
         {
          "pc1": -46.77942657470703,
          "pc2": 7.433976173400879
         },
         {
          "pc1": 65.585693359375,
          "pc2": -14.057109832763672
         },
         {
          "pc1": 37.576629638671875,
          "pc2": 16.760610580444336
         },
         {
          "pc1": -24.689361572265625,
          "pc2": 35.046878814697266
         },
         {
          "pc1": 20.98777961730957,
          "pc2": 22.148399353027344
         },
         {
          "pc1": 29.219051361083984,
          "pc2": -9.361401557922363
         },
         {
          "pc1": -27.85205078125,
          "pc2": -72.6235122680664
         },
         {
          "pc1": -3.5750014781951904,
          "pc2": -21.254892349243164
         },
         {
          "pc1": 43.19689178466797,
          "pc2": -5.84934139251709
         },
         {
          "pc1": 62.92849349975586,
          "pc2": -18.180828094482422
         },
         {
          "pc1": 48.01683807373047,
          "pc2": 0.8843268752098083
         },
         {
          "pc1": -18.521224975585938,
          "pc2": 66.3973388671875
         },
         {
          "pc1": 49.11146545410156,
          "pc2": 28.021509170532227
         },
         {
          "pc1": -47.159915924072266,
          "pc2": 44.78448486328125
         },
         {
          "pc1": -16.5404052734375,
          "pc2": -81.10088348388672
         },
         {
          "pc1": 30.434045791625977,
          "pc2": 20.067317962646484
         },
         {
          "pc1": 70.67027282714844,
          "pc2": 5.823955535888672
         },
         {
          "pc1": -47.655555725097656,
          "pc2": 9.090867042541504
         },
         {
          "pc1": -34.12870407104492,
          "pc2": 58.5399169921875
         },
         {
          "pc1": -28.998790740966797,
          "pc2": -19.823692321777344
         },
         {
          "pc1": 37.12643814086914,
          "pc2": 0.23015621304512024
         },
         {
          "pc1": -43.78089141845703,
          "pc2": 16.566268920898438
         },
         {
          "pc1": -3.8752951622009277,
          "pc2": 51.47292709350586
         },
         {
          "pc1": 7.325888633728027,
          "pc2": -6.998940944671631
         },
         {
          "pc1": 28.15330696105957,
          "pc2": -11.220603942871094
         },
         {
          "pc1": 33.73609924316406,
          "pc2": -0.7102250456809998
         },
         {
          "pc1": 23.146831512451172,
          "pc2": -54.666542053222656
         },
         {
          "pc1": 41.58429718017578,
          "pc2": -5.227659225463867
         },
         {
          "pc1": 50.745849609375,
          "pc2": 2.539990186691284
         },
         {
          "pc1": -7.561420440673828,
          "pc2": -50.3348388671875
         },
         {
          "pc1": 40.88227081298828,
          "pc2": -6.758021354675293
         },
         {
          "pc1": 56.034217834472656,
          "pc2": -22.541954040527344
         },
         {
          "pc1": 31.579936981201172,
          "pc2": -4.5277228355407715
         },
         {
          "pc1": -24.998777389526367,
          "pc2": 26.628965377807617
         },
         {
          "pc1": 47.57857131958008,
          "pc2": 30.204586029052734
         },
         {
          "pc1": -5.304957389831543,
          "pc2": -21.268651962280273
         },
         {
          "pc1": 10.193635940551758,
          "pc2": 2.3892006874084473
         },
         {
          "pc1": -56.214515686035156,
          "pc2": 37.13703155517578
         },
         {
          "pc1": 57.40756607055664,
          "pc2": 14.980738639831543
         },
         {
          "pc1": -21.00783920288086,
          "pc2": -19.46734046936035
         },
         {
          "pc1": 69.65290069580078,
          "pc2": -5.951156139373779
         },
         {
          "pc1": -11.287147521972656,
          "pc2": 67.47334289550781
         },
         {
          "pc1": -53.00519943237305,
          "pc2": 32.86467361450195
         },
         {
          "pc1": -38.08953094482422,
          "pc2": 54.874813079833984
         },
         {
          "pc1": 41.30548095703125,
          "pc2": -5.0109734535217285
         },
         {
          "pc1": -52.16881561279297,
          "pc2": -18.95795249938965
         },
         {
          "pc1": -34.44440841674805,
          "pc2": -0.4308684468269348
         },
         {
          "pc1": -40.60968780517578,
          "pc2": 10.21507740020752
         },
         {
          "pc1": -38.32485580444336,
          "pc2": 53.27113342285156
         },
         {
          "pc1": -31.558685302734375,
          "pc2": 59.45590591430664
         },
         {
          "pc1": -14.454793930053711,
          "pc2": 30.79818344116211
         },
         {
          "pc1": 25.100488662719727,
          "pc2": 49.76974868774414
         },
         {
          "pc1": -18.66166877746582,
          "pc2": 65.70965576171875
         },
         {
          "pc1": -6.203411102294922,
          "pc2": -84.82559967041016
         },
         {
          "pc1": 10.836535453796387,
          "pc2": -59.46910858154297
         },
         {
          "pc1": 3.907418966293335,
          "pc2": -5.591910362243652
         },
         {
          "pc1": 26.11817169189453,
          "pc2": -35.17698669433594
         },
         {
          "pc1": -56.265220642089844,
          "pc2": -17.79544448852539
         },
         {
          "pc1": 36.48788833618164,
          "pc2": -0.2720976769924164
         },
         {
          "pc1": -57.05498504638672,
          "pc2": 37.77537536621094
         },
         {
          "pc1": 19.728927612304688,
          "pc2": -26.730194091796875
         },
         {
          "pc1": -47.75856018066406,
          "pc2": 8.0176420211792
         },
         {
          "pc1": -5.902735233306885,
          "pc2": -23.509355545043945
         },
         {
          "pc1": 29.97415542602539,
          "pc2": -49.39167785644531
         },
         {
          "pc1": 3.421088457107544,
          "pc2": 53.44586181640625
         },
         {
          "pc1": -12.377924919128418,
          "pc2": 66.77660369873047
         },
         {
          "pc1": 73.43486785888672,
          "pc2": 5.479022979736328
         },
         {
          "pc1": 1.1210463047027588,
          "pc2": 31.069812774658203
         },
         {
          "pc1": 68.14744567871094,
          "pc2": -10.440550804138184
         },
         {
          "pc1": -22.267881393432617,
          "pc2": 4.919910430908203
         },
         {
          "pc1": 52.6920280456543,
          "pc2": 21.110763549804688
         },
         {
          "pc1": 3.782531261444092,
          "pc2": -85.63029479980469
         },
         {
          "pc1": 2.1916775703430176,
          "pc2": -3.173611879348755
         },
         {
          "pc1": -40.464942932128906,
          "pc2": 10.335087776184082
         },
         {
          "pc1": 34.47568893432617,
          "pc2": -10.714666366577148
         },
         {
          "pc1": 18.66424560546875,
          "pc2": 25.77872657775879
         },
         {
          "pc1": 0.24385793507099152,
          "pc2": 30.561874389648438
         },
         {
          "pc1": -63.15744400024414,
          "pc2": -12.79045581817627
         },
         {
          "pc1": 51.14657974243164,
          "pc2": 21.934314727783203
         },
         {
          "pc1": -18.94719886779785,
          "pc2": -19.77028465270996
         },
         {
          "pc1": 30.53449058532715,
          "pc2": -5.233060836791992
         },
         {
          "pc1": -13.361964225769043,
          "pc2": 11.418390274047852
         },
         {
          "pc1": -13.611454963684082,
          "pc2": -82.58290100097656
         },
         {
          "pc1": 26.996944427490234,
          "pc2": -54.45772171020508
         },
         {
          "pc1": -29.008159637451172,
          "pc2": -20.547969818115234
         },
         {
          "pc1": -39.19810485839844,
          "pc2": 52.17191696166992
         },
         {
          "pc1": -51.04575729370117,
          "pc2": 41.47377395629883
         },
         {
          "pc1": 0.056147199124097824,
          "pc2": 7.50930118560791
         },
         {
          "pc1": 30.406654357910156,
          "pc2": 20.182649612426758
         },
         {
          "pc1": -13.475310325622559,
          "pc2": -19.80144691467285
         },
         {
          "pc1": 26.52832794189453,
          "pc2": 50.75831985473633
         },
         {
          "pc1": 0.42970511317253113,
          "pc2": 24.438098907470703
         },
         {
          "pc1": 4.077864646911621,
          "pc2": -5.750342845916748
         },
         {
          "pc1": 5.462866306304932,
          "pc2": -28.94307518005371
         },
         {
          "pc1": 19.35442352294922,
          "pc2": -58.20610046386719
         },
         {
          "pc1": 0.6262137293815613,
          "pc2": -21.991607666015625
         },
         {
          "pc1": 34.647972106933594,
          "pc2": 40.394840240478516
         },
         {
          "pc1": 8.012707710266113,
          "pc2": 38.15791320800781
         },
         {
          "pc1": -24.90703582763672,
          "pc2": 63.511138916015625
         },
         {
          "pc1": -22.837364196777344,
          "pc2": 26.23200798034668
         },
         {
          "pc1": 51.33145523071289,
          "pc2": 20.069480895996094
         },
         {
          "pc1": -20.724546432495117,
          "pc2": -19.7762508392334
         },
         {
          "pc1": -0.26248934864997864,
          "pc2": -85.7618179321289
         },
         {
          "pc1": 19.044843673706055,
          "pc2": -51.152801513671875
         },
         {
          "pc1": -13.287247657775879,
          "pc2": 67.23104095458984
         },
         {
          "pc1": 18.42692756652832,
          "pc2": -51.47022247314453
         },
         {
          "pc1": -31.163232803344727,
          "pc2": 60.152854919433594
         },
         {
          "pc1": -33.89604568481445,
          "pc2": -51.76130676269531
         },
         {
          "pc1": 7.530151844024658,
          "pc2": -57.7462043762207
         },
         {
          "pc1": 5.815067291259766,
          "pc2": 29.045156478881836
         },
         {
          "pc1": 60.96883010864258,
          "pc2": 18.858600616455078
         },
         {
          "pc1": 16.502962112426758,
          "pc2": -28.253358840942383
         },
         {
          "pc1": 36.29558563232422,
          "pc2": 1.097520112991333
         },
         {
          "pc1": -27.98861312866211,
          "pc2": 19.902578353881836
         },
         {
          "pc1": -52.461708068847656,
          "pc2": 32.98764419555664
         },
         {
          "pc1": 2.3976328372955322,
          "pc2": 45.96297836303711
         },
         {
          "pc1": 57.66999053955078,
          "pc2": -22.330833435058594
         },
         {
          "pc1": -50.43740463256836,
          "pc2": 31.629423141479492
         },
         {
          "pc1": 70.080078125,
          "pc2": -5.293801784515381
         },
         {
          "pc1": -47.116512298583984,
          "pc2": 15.611607551574707
         },
         {
          "pc1": 1.129248857498169,
          "pc2": 61.28187942504883
         },
         {
          "pc1": -57.442352294921875,
          "pc2": -17.588619232177734
         },
         {
          "pc1": -31.399213790893555,
          "pc2": -68.95226287841797
         },
         {
          "pc1": 13.663484573364258,
          "pc2": -56.79542922973633
         },
         {
          "pc1": 69.71845245361328,
          "pc2": -6.575192451477051
         },
         {
          "pc1": -42.042510986328125,
          "pc2": 48.82008743286133
         },
         {
          "pc1": -12.685029983520508,
          "pc2": 12.395208358764648
         },
         {
          "pc1": 44.830482482910156,
          "pc2": 41.23443603515625
         },
         {
          "pc1": 54.983524322509766,
          "pc2": 7.8817973136901855
         },
         {
          "pc1": -2.8118810653686523,
          "pc2": 51.892887115478516
         },
         {
          "pc1": 10.181438446044922,
          "pc2": 9.083406448364258
         },
         {
          "pc1": -0.13438598811626434,
          "pc2": -53.71205139160156
         },
         {
          "pc1": 10.16590404510498,
          "pc2": -24.45638084411621
         },
         {
          "pc1": 10.213016510009766,
          "pc2": 9.18111801147461
         },
         {
          "pc1": -65.00282287597656,
          "pc2": -6.445007801055908
         },
         {
          "pc1": 20.334009170532227,
          "pc2": 21.61943817138672
         },
         {
          "pc1": 1.3308069705963135,
          "pc2": 39.93941879272461
         },
         {
          "pc1": 41.47712707519531,
          "pc2": 40.80625915527344
         },
         {
          "pc1": 30.84493064880371,
          "pc2": -3.306708812713623
         },
         {
          "pc1": 34.94804000854492,
          "pc2": 40.52727508544922
         },
         {
          "pc1": 18.86315155029297,
          "pc2": -58.66984558105469
         },
         {
          "pc1": -2.738542318344116,
          "pc2": 51.38692855834961
         },
         {
          "pc1": 8.983997344970703,
          "pc2": 1.5119045972824097
         },
         {
          "pc1": -40.52206039428711,
          "pc2": 10.820000648498535
         },
         {
          "pc1": -52.654151916503906,
          "pc2": -18.9013614654541
         },
         {
          "pc1": -24.70439338684082,
          "pc2": 24.7379150390625
         },
         {
          "pc1": 56.27748107910156,
          "pc2": 24.228803634643555
         },
         {
          "pc1": -34.99953842163086,
          "pc2": -60.79557418823242
         },
         {
          "pc1": -27.169097900390625,
          "pc2": 0.6557691693305969
         },
         {
          "pc1": -15.640905380249023,
          "pc2": -24.806482315063477
         },
         {
          "pc1": -54.03254699707031,
          "pc2": 39.67059326171875
         },
         {
          "pc1": -42.923763275146484,
          "pc2": 9.33700180053711
         },
         {
          "pc1": -20.747682571411133,
          "pc2": -19.508453369140625
         },
         {
          "pc1": -33.26430130004883,
          "pc2": -19.999414443969727
         },
         {
          "pc1": -34.78014373779297,
          "pc2": -57.434303283691406
         },
         {
          "pc1": -24.142696380615234,
          "pc2": -19.61954689025879
         },
         {
          "pc1": -37.0713996887207,
          "pc2": 13.014107704162598
         },
         {
          "pc1": 31.342350006103516,
          "pc2": -44.138206481933594
         },
         {
          "pc1": -47.77261734008789,
          "pc2": 7.559565544128418
         },
         {
          "pc1": -40.92170333862305,
          "pc2": 51.604888916015625
         },
         {
          "pc1": 29.256309509277344,
          "pc2": -11.045145034790039
         },
         {
          "pc1": 51.10812759399414,
          "pc2": 16.050949096679688
         },
         {
          "pc1": 25.43065071105957,
          "pc2": 51.13533401489258
         },
         {
          "pc1": -55.87253189086914,
          "pc2": -17.93885612487793
         },
         {
          "pc1": -25.76848030090332,
          "pc2": 26.05979347229004
         },
         {
          "pc1": 0.5021741390228271,
          "pc2": 14.663378715515137
         },
         {
          "pc1": 62.57537078857422,
          "pc2": -9.823760986328125
         },
         {
          "pc1": -12.659101486206055,
          "pc2": -83.10594177246094
         },
         {
          "pc1": 58.9544792175293,
          "pc2": -16.723011016845703
         },
         {
          "pc1": -10.907194137573242,
          "pc2": -48.50871658325195
         },
         {
          "pc1": 37.17963409423828,
          "pc2": 16.821857452392578
         },
         {
          "pc1": 0.4794413447380066,
          "pc2": 22.678380966186523
         },
         {
          "pc1": -14.097407341003418,
          "pc2": -82.43392944335938
         },
         {
          "pc1": 54.3657112121582,
          "pc2": 7.543868064880371
         },
         {
          "pc1": 29.77950668334961,
          "pc2": -12.694472312927246
         },
         {
          "pc1": 5.6886701583862305,
          "pc2": -57.471954345703125
         },
         {
          "pc1": -42.79838562011719,
          "pc2": -19.66611671447754
         },
         {
          "pc1": 70.73324584960938,
          "pc2": -2.891082525253296
         },
         {
          "pc1": -22.544017791748047,
          "pc2": -45.79954528808594
         },
         {
          "pc1": 3.7479453086853027,
          "pc2": -85.0717544555664
         },
         {
          "pc1": -50.99052429199219,
          "pc2": -14.291034698486328
         },
         {
          "pc1": -18.29729461669922,
          "pc2": 65.76961517333984
         },
         {
          "pc1": 55.84102249145508,
          "pc2": -23.66716957092285
         },
         {
          "pc1": 15.680459976196289,
          "pc2": -28.894180297851562
         },
         {
          "pc1": -10.427018165588379,
          "pc2": -46.96307373046875
         },
         {
          "pc1": 64.43225860595703,
          "pc2": -16.825546264648438
         },
         {
          "pc1": -22.787858963012695,
          "pc2": -76.5079116821289
         },
         {
          "pc1": 68.36249542236328,
          "pc2": -9.547837257385254
         },
         {
          "pc1": 27.32774543762207,
          "pc2": -6.681384563446045
         },
         {
          "pc1": -26.701814651489258,
          "pc2": 5.297826290130615
         },
         {
          "pc1": 27.47001838684082,
          "pc2": 40.54633712768555
         },
         {
          "pc1": 23.29800796508789,
          "pc2": 21.27657127380371
         },
         {
          "pc1": 28.6407527923584,
          "pc2": -51.39259338378906
         },
         {
          "pc1": -12.515030860900879,
          "pc2": -77.2696304321289
         },
         {
          "pc1": 26.06502342224121,
          "pc2": 49.47981262207031
         },
         {
          "pc1": -18.547061920166016,
          "pc2": 6.828829765319824
         },
         {
          "pc1": 16.468191146850586,
          "pc2": 25.061275482177734
         },
         {
          "pc1": 47.8806266784668,
          "pc2": 2.276536464691162
         },
         {
          "pc1": 28.940256118774414,
          "pc2": -10.447216033935547
         },
         {
          "pc1": 46.387760162353516,
          "pc2": 31.12425994873047
         },
         {
          "pc1": -36.14580535888672,
          "pc2": 56.85908889770508
         },
         {
          "pc1": 74.07128143310547,
          "pc2": 8.701982498168945
         },
         {
          "pc1": -28.18800163269043,
          "pc2": 51.439414978027344
         },
         {
          "pc1": 1.1049306392669678,
          "pc2": 42.358341217041016
         },
         {
          "pc1": -35.42120361328125,
          "pc2": -18.142343521118164
         },
         {
          "pc1": -10.72546672821045,
          "pc2": -21.137420654296875
         },
         {
          "pc1": -11.41493034362793,
          "pc2": -45.462913513183594
         },
         {
          "pc1": 0.18715567886829376,
          "pc2": -55.24116516113281
         },
         {
          "pc1": 27.400991439819336,
          "pc2": -5.625568866729736
         },
         {
          "pc1": 9.649819374084473,
          "pc2": -3.548218011856079
         },
         {
          "pc1": -9.747024536132812,
          "pc2": 67.52041625976562
         },
         {
          "pc1": 33.33333206176758,
          "pc2": 22.599063873291016
         },
         {
          "pc1": 60.71466827392578,
          "pc2": 17.65702247619629
         },
         {
          "pc1": 17.898876190185547,
          "pc2": 44.26461410522461
         },
         {
          "pc1": 13.041519165039062,
          "pc2": 21.608505249023438
         },
         {
          "pc1": -29.98529815673828,
          "pc2": 18.788970947265625
         },
         {
          "pc1": 0.3616357743740082,
          "pc2": 34.56191635131836
         },
         {
          "pc1": -8.907754898071289,
          "pc2": 58.296478271484375
         },
         {
          "pc1": 0.2923460006713867,
          "pc2": 29.565095901489258
         },
         {
          "pc1": 70.39824676513672,
          "pc2": 5.13222599029541
         },
         {
          "pc1": -50.64950942993164,
          "pc2": -18.16944122314453
         },
         {
          "pc1": 10.158666610717773,
          "pc2": 2.662083625793457
         },
         {
          "pc1": -55.716129302978516,
          "pc2": -9.369832038879395
         },
         {
          "pc1": -63.68328857421875,
          "pc2": -9.375411033630371
         },
         {
          "pc1": -39.24757766723633,
          "pc2": 13.833266258239746
         },
         {
          "pc1": 4.2707719802856445,
          "pc2": -5.906912326812744
         },
         {
          "pc1": -36.3453483581543,
          "pc2": 13.88986587524414
         },
         {
          "pc1": -34.87191390991211,
          "pc2": -54.11863708496094
         },
         {
          "pc1": -22.285024642944336,
          "pc2": -45.82715606689453
         },
         {
          "pc1": 0.21406975388526917,
          "pc2": 19.118215560913086
         },
         {
          "pc1": -40.622283935546875,
          "pc2": -19.955547332763672
         },
         {
          "pc1": 41.25784683227539,
          "pc2": 40.91746139526367
         },
         {
          "pc1": -30.47602081298828,
          "pc2": -70.23130798339844
         },
         {
          "pc1": 62.08857727050781,
          "pc2": -11.033738136291504
         },
         {
          "pc1": -26.017004013061523,
          "pc2": 51.24266815185547
         },
         {
          "pc1": -27.110488891601562,
          "pc2": -46.505130767822266
         },
         {
          "pc1": 29.737768173217773,
          "pc2": -39.514766693115234
         },
         {
          "pc1": -27.819583892822266,
          "pc2": -50.55226516723633
         },
         {
          "pc1": -28.990821838378906,
          "pc2": 61.557552337646484
         },
         {
          "pc1": 72.25676727294922,
          "pc2": -0.8766998648643494
         },
         {
          "pc1": -27.64693832397461,
          "pc2": -19.617332458496094
         },
         {
          "pc1": -21.86384391784668,
          "pc2": -18.803865432739258
         },
         {
          "pc1": 66.28315734863281,
          "pc2": -14.962895393371582
         },
         {
          "pc1": 58.91606140136719,
          "pc2": 16.90517234802246
         },
         {
          "pc1": -41.67205810546875,
          "pc2": 49.37849426269531
         },
         {
          "pc1": -17.368732452392578,
          "pc2": -44.504478454589844
         },
         {
          "pc1": -21.791656494140625,
          "pc2": 53.01765823364258
         },
         {
          "pc1": 46.53450012207031,
          "pc2": 5.535754203796387
         },
         {
          "pc1": 59.3697395324707,
          "pc2": 13.103682518005371
         },
         {
          "pc1": -50.16004943847656,
          "pc2": 33.48575973510742
         },
         {
          "pc1": -26.299856185913086,
          "pc2": 1.5187292098999023
         },
         {
          "pc1": -27.970439910888672,
          "pc2": -20.06663703918457
         },
         {
          "pc1": 57.77010726928711,
          "pc2": -21.924068450927734
         },
         {
          "pc1": -35.4425163269043,
          "pc2": -58.20882797241211
         },
         {
          "pc1": -40.9766960144043,
          "pc2": 20.886362075805664
         },
         {
          "pc1": 32.39503860473633,
          "pc2": 41.32479476928711
         },
         {
          "pc1": 2.5150845050811768,
          "pc2": -85.27677154541016
         },
         {
          "pc1": 5.894021034240723,
          "pc2": 37.24266815185547
         },
         {
          "pc1": -6.039825916290283,
          "pc2": 65.67166137695312
         },
         {
          "pc1": -25.899181365966797,
          "pc2": 1.8798139095306396
         },
         {
          "pc1": -11.506888389587402,
          "pc2": 13.206710815429688
         },
         {
          "pc1": -48.619991302490234,
          "pc2": 9.036870002746582
         },
         {
          "pc1": 52.905941009521484,
          "pc2": 3.6205670833587646
         },
         {
          "pc1": 0.3778104782104492,
          "pc2": 26.142372131347656
         },
         {
          "pc1": -36.305694580078125,
          "pc2": -57.10934829711914
         },
         {
          "pc1": -25.863866806030273,
          "pc2": 2.285743236541748
         },
         {
          "pc1": -8.3390531539917,
          "pc2": -21.05893898010254
         },
         {
          "pc1": 23.633516311645508,
          "pc2": 40.831138610839844
         },
         {
          "pc1": 8.91272258758545,
          "pc2": 2.899308919906616
         },
         {
          "pc1": -21.982772827148438,
          "pc2": -18.815595626831055
         },
         {
          "pc1": -0.7049891948699951,
          "pc2": 5.554741382598877
         },
         {
          "pc1": 21.71088409423828,
          "pc2": -56.97067642211914
         },
         {
          "pc1": 12.362632751464844,
          "pc2": -26.96961784362793
         },
         {
          "pc1": 0.49874547123908997,
          "pc2": 13.869112014770508
         },
         {
          "pc1": 2.764280080795288,
          "pc2": 48.10599899291992
         },
         {
          "pc1": -15.921968460083008,
          "pc2": 8.596147537231445
         },
         {
          "pc1": 0.8072166442871094,
          "pc2": 34.64528274536133
         },
         {
          "pc1": -50.782379150390625,
          "pc2": 33.38471984863281
         },
         {
          "pc1": -8.991522789001465,
          "pc2": -20.9560604095459
         },
         {
          "pc1": 37.337608337402344,
          "pc2": 17.34931755065918
         },
         {
          "pc1": -19.646331787109375,
          "pc2": 26.7783260345459
         },
         {
          "pc1": 52.67654800415039,
          "pc2": 3.4556660652160645
         },
         {
          "pc1": -62.838130950927734,
          "pc2": -10.997756958007812
         },
         {
          "pc1": -13.890876770019531,
          "pc2": -45.22464370727539
         },
         {
          "pc1": 2.3895819187164307,
          "pc2": -56.64144515991211
         },
         {
          "pc1": -21.751842498779297,
          "pc2": -19.986928939819336
         },
         {
          "pc1": -13.483943939208984,
          "pc2": -20.245336532592773
         },
         {
          "pc1": 32.35707092285156,
          "pc2": -11.88631534576416
         },
         {
          "pc1": 33.969242095947266,
          "pc2": -0.3809320628643036
         },
         {
          "pc1": 32.67375183105469,
          "pc2": 40.18611526489258
         },
         {
          "pc1": 66.39131164550781,
          "pc2": -13.946447372436523
         },
         {
          "pc1": 0.7130011320114136,
          "pc2": 15.580354690551758
         },
         {
          "pc1": -42.09840393066406,
          "pc2": -19.277095794677734
         },
         {
          "pc1": -18.092594146728516,
          "pc2": -79.75077056884766
         },
         {
          "pc1": -23.630512237548828,
          "pc2": -71.37553405761719
         },
         {
          "pc1": -25.57048225402832,
          "pc2": 34.9300537109375
         },
         {
          "pc1": 38.786216735839844,
          "pc2": 41.91522979736328
         },
         {
          "pc1": 25.038297653198242,
          "pc2": 21.414587020874023
         },
         {
          "pc1": 10.249954223632812,
          "pc2": -58.46205139160156
         },
         {
          "pc1": 0.6251498460769653,
          "pc2": -82.09961700439453
         },
         {
          "pc1": -61.722591400146484,
          "pc2": -7.903563976287842
         },
         {
          "pc1": -28.409677505493164,
          "pc2": 0.022551076486706734
         },
         {
          "pc1": -25.253374099731445,
          "pc2": 22.52227783203125
         },
         {
          "pc1": 40.20566940307617,
          "pc2": 40.27216339111328
         },
         {
          "pc1": 18.399456024169922,
          "pc2": -58.430908203125
         },
         {
          "pc1": 46.14205551147461,
          "pc2": 40.79281234741211
         },
         {
          "pc1": 65.04157257080078,
          "pc2": -15.929004669189453
         },
         {
          "pc1": -1.7172191143035889,
          "pc2": -51.0761604309082
         },
         {
          "pc1": -48.544376373291016,
          "pc2": 33.68848419189453
         },
         {
          "pc1": 4.896890640258789,
          "pc2": -28.829238891601562
         },
         {
          "pc1": 57.07246780395508,
          "pc2": 25.02231216430664
         },
         {
          "pc1": 57.8592414855957,
          "pc2": -21.451663970947266
         },
         {
          "pc1": 0.30108901858329773,
          "pc2": 20.788827896118164
         },
         {
          "pc1": 66.09135437011719,
          "pc2": -14.408761978149414
         },
         {
          "pc1": 33.66590118408203,
          "pc2": -10.162789344787598
         }
        ],
        "data-148be879894a6456489a4bb23524846f": [
         {
          "pc1": 46.87498474121094,
          "pc2": 32.46180725097656
         },
         {
          "pc1": 73.26630401611328,
          "pc2": 4.643266201019287
         },
         {
          "pc1": 3.255875825881958,
          "pc2": 54.6888542175293
         },
         {
          "pc1": 58.91826629638672,
          "pc2": 12.186525344848633
         },
         {
          "pc1": 46.90932083129883,
          "pc2": 0.044021982699632645
         },
         {
          "pc1": 71.22053527832031,
          "pc2": 7.607321739196777
         },
         {
          "pc1": -54.15554428100586,
          "pc2": -13.034810066223145
         },
         {
          "pc1": 49.396034240722656,
          "pc2": 0.6860789060592651
         },
         {
          "pc1": -36.70817184448242,
          "pc2": 56.04634094238281
         },
         {
          "pc1": -13.007116317749023,
          "pc2": -82.98210906982422
         },
         {
          "pc1": 47.485206604003906,
          "pc2": 39.98428726196289
         },
         {
          "pc1": -22.240318298339844,
          "pc2": -21.693954467773438
         },
         {
          "pc1": 5.706210136413574,
          "pc2": 36.68850326538086
         },
         {
          "pc1": 10.488463401794434,
          "pc2": -2.8199946880340576
         },
         {
          "pc1": -56.35320281982422,
          "pc2": 38.953163146972656
         },
         {
          "pc1": -21.238418579101562,
          "pc2": -79.5526123046875
         },
         {
          "pc1": -18.451496124267578,
          "pc2": -79.87559509277344
         },
         {
          "pc1": 21.003246307373047,
          "pc2": 41.3887825012207
         },
         {
          "pc1": -16.392974853515625,
          "pc2": 8.787616729736328
         },
         {
          "pc1": -13.627997398376465,
          "pc2": 66.24639129638672
         },
         {
          "pc1": -14.437163352966309,
          "pc2": -24.812007904052734
         },
         {
          "pc1": -23.115570068359375,
          "pc2": -19.22149658203125
         },
         {
          "pc1": 32.00360870361328,
          "pc2": -2.2612860202789307
         },
         {
          "pc1": -27.803312301635742,
          "pc2": -50.54046630859375
         },
         {
          "pc1": 0.4546157121658325,
          "pc2": 21.786155700683594
         },
         {
          "pc1": -40.2559700012207,
          "pc2": 19.84136199951172
         },
         {
          "pc1": 9.5841703414917,
          "pc2": -25.72136116027832
         },
         {
          "pc1": -62.797088623046875,
          "pc2": -11.12421989440918
         },
         {
          "pc1": 51.13496780395508,
          "pc2": 12.051284790039062
         },
         {
          "pc1": -3.4527528285980225,
          "pc2": -20.11977195739746
         },
         {
          "pc1": -6.0899248123168945,
          "pc2": -49.216712951660156
         },
         {
          "pc1": -23.719818115234375,
          "pc2": 26.334758758544922
         },
         {
          "pc1": 21.402053833007812,
          "pc2": 22.213186264038086
         },
         {
          "pc1": -7.791103363037109,
          "pc2": -47.60972595214844
         },
         {
          "pc1": -23.011123657226562,
          "pc2": 54.046722412109375
         },
         {
          "pc1": -30.28445053100586,
          "pc2": -20.4467716217041
         },
         {
          "pc1": 10.369482040405273,
          "pc2": -2.6102066040039062
         },
         {
          "pc1": 1.1770727634429932,
          "pc2": 38.949424743652344
         },
         {
          "pc1": -64.19185638427734,
          "pc2": -7.678265571594238
         },
         {
          "pc1": 14.021584510803223,
          "pc2": -54.46408462524414
         },
         {
          "pc1": -19.118675231933594,
          "pc2": 26.818958282470703
         },
         {
          "pc1": 5.588443756103516,
          "pc2": -28.976177215576172
         },
         {
          "pc1": -14.249412536621094,
          "pc2": -24.83182716369629
         },
         {
          "pc1": -19.544178009033203,
          "pc2": 30.954322814941406
         },
         {
          "pc1": -26.49671745300293,
          "pc2": 50.933448791503906
         },
         {
          "pc1": -16.08489227294922,
          "pc2": 8.495870590209961
         },
         {
          "pc1": 14.118118286132812,
          "pc2": -56.682098388671875
         },
         {
          "pc1": -8.190035820007324,
          "pc2": 59.299591064453125
         },
         {
          "pc1": 26.720691680908203,
          "pc2": 20.644493103027344
         },
         {
          "pc1": -6.653702259063721,
          "pc2": -84.61366271972656
         },
         {
          "pc1": -18.898147583007812,
          "pc2": 7.6116557121276855
         },
         {
          "pc1": 14.425935745239258,
          "pc2": -56.57991027832031
         },
         {
          "pc1": 40.55544662475586,
          "pc2": -4.620703220367432
         },
         {
          "pc1": -6.810789108276367,
          "pc2": 58.47884750366211
         },
         {
          "pc1": 44.83869171142578,
          "pc2": 32.42353057861328
         },
         {
          "pc1": -25.15577507019043,
          "pc2": -19.46046257019043
         },
         {
          "pc1": 51.3101806640625,
          "pc2": 20.931652069091797
         },
         {
          "pc1": 2.6492953300476074,
          "pc2": 53.4075813293457
         },
         {
          "pc1": 39.97903823852539,
          "pc2": -6.662073135375977
         },
         {
          "pc1": -21.03227424621582,
          "pc2": -18.510759353637695
         },
         {
          "pc1": 2.6901910305023193,
          "pc2": 51.159847259521484
         },
         {
          "pc1": -14.13621711730957,
          "pc2": 33.25359344482422
         },
         {
          "pc1": -35.12236404418945,
          "pc2": 18.55095672607422
         },
         {
          "pc1": 31.83162498474121,
          "pc2": 19.43260383605957
         },
         {
          "pc1": -48.40657043457031,
          "pc2": 10.154842376708984
         },
         {
          "pc1": -45.889583587646484,
          "pc2": 16.569629669189453
         },
         {
          "pc1": -34.91484832763672,
          "pc2": -60.748600006103516
         },
         {
          "pc1": 30.066104888916016,
          "pc2": -39.19551467895508
         },
         {
          "pc1": -32.42781066894531,
          "pc2": 16.226638793945312
         },
         {
          "pc1": -51.76652526855469,
          "pc2": -19.99404525756836
         },
         {
          "pc1": -3.1125338077545166,
          "pc2": 53.1512336730957
         },
         {
          "pc1": -39.258399963378906,
          "pc2": 13.487554550170898
         },
         {
          "pc1": 32.01852798461914,
          "pc2": 18.991369247436523
         },
         {
          "pc1": 10.195768356323242,
          "pc2": 9.127670288085938
         },
         {
          "pc1": -24.763418197631836,
          "pc2": 3.2853591442108154
         },
         {
          "pc1": 21.36351776123047,
          "pc2": -57.19798278808594
         },
         {
          "pc1": 32.063385009765625,
          "pc2": -12.35120677947998
         },
         {
          "pc1": 20.753986358642578,
          "pc2": 25.706756591796875
         },
         {
          "pc1": -34.067726135253906,
          "pc2": 0.09399104118347168
         },
         {
          "pc1": 3.779193878173828,
          "pc2": -86.27811431884766
         },
         {
          "pc1": 67.90338897705078,
          "pc2": -3.0889108180999756
         },
         {
          "pc1": -37.76151657104492,
          "pc2": 16.48394203186035
         },
         {
          "pc1": 29.390846252441406,
          "pc2": -48.73813247680664
         },
         {
          "pc1": 29.186338424682617,
          "pc2": -52.03573226928711
         },
         {
          "pc1": 11.641766548156738,
          "pc2": -58.945987701416016
         },
         {
          "pc1": 25.925954818725586,
          "pc2": -54.473873138427734
         },
         {
          "pc1": -35.62492370605469,
          "pc2": -19.8748836517334
         },
         {
          "pc1": 29.28794288635254,
          "pc2": 41.16679763793945
         },
         {
          "pc1": 61.09403991699219,
          "pc2": -13.022621154785156
         },
         {
          "pc1": 23.04869842529297,
          "pc2": 21.662885665893555
         },
         {
          "pc1": -52.14105987548828,
          "pc2": -13.377080917358398
         },
         {
          "pc1": 66.8064956665039,
          "pc2": -12.83030891418457
         },
         {
          "pc1": 29.11749267578125,
          "pc2": -5.956416130065918
         },
         {
          "pc1": -35.38807678222656,
          "pc2": 14.065637588500977
         },
         {
          "pc1": 51.25853729248047,
          "pc2": 17.24985122680664
         },
         {
          "pc1": 14.547650337219238,
          "pc2": 21.122379302978516
         },
         {
          "pc1": 0.8028883337974548,
          "pc2": 14.411568641662598
         },
         {
          "pc1": 47.66080856323242,
          "pc2": 38.140037536621094
         },
         {
          "pc1": -33.79515838623047,
          "pc2": 58.307796478271484
         },
         {
          "pc1": -1.5069620609283447,
          "pc2": 64.27196502685547
         },
         {
          "pc1": -34.632686614990234,
          "pc2": -53.93821334838867
         },
         {
          "pc1": -24.281280517578125,
          "pc2": -23.15691375732422
         },
         {
          "pc1": 0.537055492401123,
          "pc2": -21.988231658935547
         },
         {
          "pc1": -13.007711410522461,
          "pc2": 66.77630615234375
         },
         {
          "pc1": -21.252708435058594,
          "pc2": -77.86284637451172
         },
         {
          "pc1": -25.723339080810547,
          "pc2": -46.0267448425293
         },
         {
          "pc1": -39.8727912902832,
          "pc2": 50.90221405029297
         },
         {
          "pc1": -26.331602096557617,
          "pc2": 63.14623260498047
         },
         {
          "pc1": -18.18453598022461,
          "pc2": -19.792034149169922
         },
         {
          "pc1": -47.324703216552734,
          "pc2": 10.410747528076172
         },
         {
          "pc1": 58.64219284057617,
          "pc2": 21.528066635131836
         },
         {
          "pc1": -47.09177780151367,
          "pc2": 15.628925323486328
         },
         {
          "pc1": 36.46669006347656,
          "pc2": 17.539947509765625
         },
         {
          "pc1": -47.06837844848633,
          "pc2": 44.23137283325195
         },
         {
          "pc1": -48.79951477050781,
          "pc2": 7.055285930633545
         },
         {
          "pc1": -43.656097412109375,
          "pc2": 16.667724609375
         },
         {
          "pc1": -23.16434097290039,
          "pc2": 4.272336006164551
         },
         {
          "pc1": 1.8081351518630981,
          "pc2": -55.03312683105469
         },
         {
          "pc1": 31.695608139038086,
          "pc2": 41.032188415527344
         },
         {
          "pc1": -8.655808448791504,
          "pc2": 58.12714767456055
         },
         {
          "pc1": -20.80771827697754,
          "pc2": 65.02145385742188
         },
         {
          "pc1": -21.9762020111084,
          "pc2": 24.67150115966797
         },
         {
          "pc1": -31.23688507080078,
          "pc2": -20.01887321472168
         },
         {
          "pc1": -18.616365432739258,
          "pc2": -79.39726257324219
         },
         {
          "pc1": 55.91319274902344,
          "pc2": 23.534404754638672
         },
         {
          "pc1": -21.20892333984375,
          "pc2": 29.16840171813965
         },
         {
          "pc1": 18.954675674438477,
          "pc2": 43.95161819458008
         },
         {
          "pc1": 30.61004066467285,
          "pc2": 41.44377899169922
         },
         {
          "pc1": -21.97662353515625,
          "pc2": 53.01142120361328
         },
         {
          "pc1": -8.721722602844238,
          "pc2": 58.17104721069336
         },
         {
          "pc1": -51.132137298583984,
          "pc2": -14.229280471801758
         },
         {
          "pc1": 26.845325469970703,
          "pc2": 40.25664520263672
         },
         {
          "pc1": -31.90707015991211,
          "pc2": -68.10173797607422
         },
         {
          "pc1": -26.679662704467773,
          "pc2": -74.86447143554688
         },
         {
          "pc1": -43.02821350097656,
          "pc2": -19.649633407592773
         },
         {
          "pc1": 28.91524314880371,
          "pc2": -35.94697189331055
         },
         {
          "pc1": 34.363548278808594,
          "pc2": 47.827186584472656
         },
         {
          "pc1": -18.171714782714844,
          "pc2": -82.85592651367188
         },
         {
          "pc1": 27.403545379638672,
          "pc2": 40.00337600708008
         },
         {
          "pc1": 30.721349716186523,
          "pc2": -5.1331377029418945
         },
         {
          "pc1": 30.96092414855957,
          "pc2": -46.016422271728516
         },
         {
          "pc1": -16.014110565185547,
          "pc2": -81.4937515258789
         },
         {
          "pc1": 51.2907600402832,
          "pc2": 17.599384307861328
         },
         {
          "pc1": 29.77009391784668,
          "pc2": -49.049251556396484
         },
         {
          "pc1": 48.353824615478516,
          "pc2": 38.2469482421875
         },
         {
          "pc1": -32.89755630493164,
          "pc2": 16.22397804260254
         },
         {
          "pc1": 26.77876853942871,
          "pc2": 21.3796329498291
         },
         {
          "pc1": -24.73038101196289,
          "pc2": 52.02798843383789
         },
         {
          "pc1": -14.692904472351074,
          "pc2": -20.099123001098633
         },
         {
          "pc1": 2.9399895668029785,
          "pc2": -55.267601013183594
         },
         {
          "pc1": -40.0556640625,
          "pc2": 51.04433059692383
         },
         {
          "pc1": 23.022132873535156,
          "pc2": -57.18946075439453
         },
         {
          "pc1": -31.02773094177246,
          "pc2": -55.50529098510742
         },
         {
          "pc1": -27.87401580810547,
          "pc2": -47.51072311401367
         },
         {
          "pc1": 28.962764739990234,
          "pc2": -37.90966033935547
         },
         {
          "pc1": -13.969304084777832,
          "pc2": 67.15834045410156
         },
         {
          "pc1": -27.81684684753418,
          "pc2": 20.067432403564453
         },
         {
          "pc1": 26.714231491088867,
          "pc2": 39.94852828979492
         },
         {
          "pc1": 37.038551330566406,
          "pc2": -7.806254863739014
         },
         {
          "pc1": -14.464451789855957,
          "pc2": -46.48493194580078
         },
         {
          "pc1": -31.00553321838379,
          "pc2": 17.550405502319336
         },
         {
          "pc1": 33.55806350708008,
          "pc2": -10.204620361328125
         },
         {
          "pc1": 48.95996856689453,
          "pc2": 28.358861923217773
         },
         {
          "pc1": -46.949092864990234,
          "pc2": -19.25017738342285
         },
         {
          "pc1": 0.2045402079820633,
          "pc2": 1.977365493774414
         },
         {
          "pc1": -21.63056755065918,
          "pc2": -44.57941818237305
         },
         {
          "pc1": -39.94982147216797,
          "pc2": 10.779735565185547
         },
         {
          "pc1": -44.097511291503906,
          "pc2": 17.757230758666992
         },
         {
          "pc1": 21.666643142700195,
          "pc2": 25.541366577148438
         },
         {
          "pc1": 28.093753814697266,
          "pc2": -52.00050735473633
         },
         {
          "pc1": -63.73305130004883,
          "pc2": -10.916887283325195
         },
         {
          "pc1": -31.490182876586914,
          "pc2": -49.24422836303711
         },
         {
          "pc1": -13.641070365905762,
          "pc2": -76.89766693115234
         },
         {
          "pc1": 10.213214874267578,
          "pc2": 2.217998743057251
         },
         {
          "pc1": 62.17723083496094,
          "pc2": -18.824487686157227
         },
         {
          "pc1": 58.486793518066406,
          "pc2": 25.6897029876709
         },
         {
          "pc1": 39.56523895263672,
          "pc2": 40.683597564697266
         },
         {
          "pc1": 30.488622665405273,
          "pc2": -46.4375
         },
         {
          "pc1": -16.191564559936523,
          "pc2": 9.277422904968262
         },
         {
          "pc1": 26.757038116455078,
          "pc2": -34.70014190673828
         },
         {
          "pc1": -50.30398178100586,
          "pc2": -18.961463928222656
         },
         {
          "pc1": -39.079524993896484,
          "pc2": -19.554540634155273
         },
         {
          "pc1": -14.69020938873291,
          "pc2": 9.976533889770508
         },
         {
          "pc1": 15.535350799560547,
          "pc2": -51.93968200683594
         },
         {
          "pc1": 49.05027389526367,
          "pc2": 2.5308361053466797
         },
         {
          "pc1": -31.52239990234375,
          "pc2": -2.8111090660095215
         },
         {
          "pc1": 15.255008697509766,
          "pc2": 21.789371490478516
         },
         {
          "pc1": 46.84226989746094,
          "pc2": 30.739707946777344
         },
         {
          "pc1": 42.07515335083008,
          "pc2": -4.821769714355469
         },
         {
          "pc1": -37.07387924194336,
          "pc2": 15.375125885009766
         },
         {
          "pc1": -19.167217254638672,
          "pc2": 65.79792785644531
         },
         {
          "pc1": 52.610496520996094,
          "pc2": 22.06975555419922
         },
         {
          "pc1": 11.300586700439453,
          "pc2": 20.91107749938965
         },
         {
          "pc1": 61.127960205078125,
          "pc2": -19.618160247802734
         },
         {
          "pc1": -17.36297035217285,
          "pc2": 32.66964340209961
         },
         {
          "pc1": 7.3930840492248535,
          "pc2": -7.953993320465088
         },
         {
          "pc1": 30.819791793823242,
          "pc2": 19.987876892089844
         },
         {
          "pc1": 0.7301684021949768,
          "pc2": -23.309553146362305
         },
         {
          "pc1": -12.405399322509766,
          "pc2": -46.637001037597656
         },
         {
          "pc1": -23.844093322753906,
          "pc2": -18.64946174621582
         },
         {
          "pc1": -24.445772171020508,
          "pc2": 52.18698501586914
         },
         {
          "pc1": 24.341812133789062,
          "pc2": -43.531890869140625
         },
         {
          "pc1": -13.093268394470215,
          "pc2": -45.89335250854492
         },
         {
          "pc1": 52.954307556152344,
          "pc2": 7.524336338043213
         },
         {
          "pc1": 5.962993144989014,
          "pc2": 37.44316101074219
         },
         {
          "pc1": 73.74966430664062,
          "pc2": 9.912080764770508
         },
         {
          "pc1": -46.38899230957031,
          "pc2": 7.788356781005859
         },
         {
          "pc1": -45.39505386352539,
          "pc2": 7.921349048614502
         },
         {
          "pc1": 19.984756469726562,
          "pc2": 41.864131927490234
         },
         {
          "pc1": -33.50868606567383,
          "pc2": -64.34146118164062
         },
         {
          "pc1": 52.643707275390625,
          "pc2": 30.670001983642578
         },
         {
          "pc1": -3.9071052074432373,
          "pc2": -50.17831802368164
         },
         {
          "pc1": -32.62989044189453,
          "pc2": -53.38469696044922
         },
         {
          "pc1": -35.76852798461914,
          "pc2": -55.842750549316406
         },
         {
          "pc1": -34.01266098022461,
          "pc2": -66.05955505371094
         },
         {
          "pc1": 1.2525856494903564,
          "pc2": 60.616050720214844
         },
         {
          "pc1": 20.167648315429688,
          "pc2": -57.73963165283203
         },
         {
          "pc1": -42.07376480102539,
          "pc2": 48.842185974121094
         },
         {
          "pc1": 55.016048431396484,
          "pc2": -23.571250915527344
         },
         {
          "pc1": -31.191116333007812,
          "pc2": -55.84109878540039
         },
         {
          "pc1": -16.966556549072266,
          "pc2": -44.307579040527344
         },
         {
          "pc1": 57.20762252807617,
          "pc2": 25.936662673950195
         },
         {
          "pc1": 16.398025512695312,
          "pc2": 25.04518699645996
         },
         {
          "pc1": -0.5623038411140442,
          "pc2": -51.262786865234375
         },
         {
          "pc1": -10.259504318237305,
          "pc2": -46.7032356262207
         },
         {
          "pc1": -12.78510856628418,
          "pc2": 32.57605743408203
         },
         {
          "pc1": 5.709084510803223,
          "pc2": 28.99208641052246
         },
         {
          "pc1": -4.225097179412842,
          "pc2": -45.84883499145508
         },
         {
          "pc1": -46.78562545776367,
          "pc2": -19.807662963867188
         },
         {
          "pc1": 27.70789337158203,
          "pc2": 50.23383331298828
         },
         {
          "pc1": 21.90910530090332,
          "pc2": 21.57954216003418
         },
         {
          "pc1": 19.91286277770996,
          "pc2": -34.4097785949707
         },
         {
          "pc1": -17.88808250427246,
          "pc2": -80.82880401611328
         },
         {
          "pc1": -7.664208889007568,
          "pc2": -53.17441177368164
         },
         {
          "pc1": 2.909682035446167,
          "pc2": -4.4365925788879395
         },
         {
          "pc1": -32.43015670776367,
          "pc2": -52.88027572631836
         },
         {
          "pc1": 7.147718906402588,
          "pc2": -57.508419036865234
         },
         {
          "pc1": -43.35478591918945,
          "pc2": 12.563984870910645
         },
         {
          "pc1": -0.2630211412906647,
          "pc2": -86.13116455078125
         },
         {
          "pc1": 13.266561508178711,
          "pc2": 20.445877075195312
         },
         {
          "pc1": 60.965335845947266,
          "pc2": 19.175798416137695
         },
         {
          "pc1": 24.723678588867188,
          "pc2": -33.8974723815918
         },
         {
          "pc1": -20.6667423248291,
          "pc2": 6.178058624267578
         },
         {
          "pc1": 53.32173538208008,
          "pc2": 30.48272705078125
         },
         {
          "pc1": 74.02350616455078,
          "pc2": 8.5603666305542
         },
         {
          "pc1": 72.52112579345703,
          "pc2": 1.6786713600158691
         },
         {
          "pc1": -61.45193099975586,
          "pc2": -13.141069412231445
         },
         {
          "pc1": -1.1804096698760986,
          "pc2": -84.89588165283203
         },
         {
          "pc1": 28.04496955871582,
          "pc2": -42.32752990722656
         },
         {
          "pc1": 28.658767700195312,
          "pc2": 20.42624855041504
         },
         {
          "pc1": -34.0269775390625,
          "pc2": -63.78863525390625
         },
         {
          "pc1": -32.45752716064453,
          "pc2": 18.8280086517334
         },
         {
          "pc1": -18.25129508972168,
          "pc2": 31.33397674560547
         },
         {
          "pc1": 31.115888595581055,
          "pc2": -12.326271057128906
         },
         {
          "pc1": -34.32400894165039,
          "pc2": 57.51644515991211
         },
         {
          "pc1": -31.489248275756836,
          "pc2": -68.85414123535156
         },
         {
          "pc1": 5.553868770599365,
          "pc2": 29.78242301940918
         },
         {
          "pc1": 5.9804205894470215,
          "pc2": 37.499446868896484
         },
         {
          "pc1": -21.049711227416992,
          "pc2": 5.546482563018799
         },
         {
          "pc1": -3.3413124084472656,
          "pc2": -21.96201515197754
         },
         {
          "pc1": 46.025630950927734,
          "pc2": 41.20209503173828
         },
         {
          "pc1": 10.604349136352539,
          "pc2": -59.43645477294922
         },
         {
          "pc1": -53.39226150512695,
          "pc2": -18.99321937561035
         },
         {
          "pc1": 12.480890274047852,
          "pc2": 21.279964447021484
         },
         {
          "pc1": 33.92741775512695,
          "pc2": 18.227022171020508
         },
         {
          "pc1": -27.708850860595703,
          "pc2": -73.32666015625
         },
         {
          "pc1": -53.610260009765625,
          "pc2": -18.615928649902344
         },
         {
          "pc1": -4.017083644866943,
          "pc2": -85.33893585205078
         },
         {
          "pc1": -34.98625183105469,
          "pc2": -62.10072326660156
         },
         {
          "pc1": 32.39112091064453,
          "pc2": -11.874930381774902
         },
         {
          "pc1": 7.167463302612305,
          "pc2": 38.136322021484375
         },
         {
          "pc1": -39.679473876953125,
          "pc2": -20.088581085205078
         },
         {
          "pc1": 26.69424057006836,
          "pc2": 20.645601272583008
         },
         {
          "pc1": -26.69878387451172,
          "pc2": 1.1493453979492188
         },
         {
          "pc1": 1.9714221954345703,
          "pc2": -2.1297149658203125
         },
         {
          "pc1": 20.916419982910156,
          "pc2": 41.881717681884766
         },
         {
          "pc1": 57.70625305175781,
          "pc2": -18.06585121154785
         },
         {
          "pc1": 34.17795181274414,
          "pc2": -1.858267068862915
         },
         {
          "pc1": -18.216337203979492,
          "pc2": 66.4146728515625
         },
         {
          "pc1": 50.82460403442383,
          "pc2": 14.674270629882812
         },
         {
          "pc1": -21.983247756958008,
          "pc2": -76.7573471069336
         },
         {
          "pc1": 56.356422424316406,
          "pc2": 30.014232635498047
         },
         {
          "pc1": 61.86953353881836,
          "pc2": -11.479147911071777
         },
         {
          "pc1": 27.937942504882812,
          "pc2": -53.713897705078125
         },
         {
          "pc1": -4.821671962738037,
          "pc2": -84.81501007080078
         },
         {
          "pc1": -32.66386413574219,
          "pc2": -67.08505249023438
         },
         {
          "pc1": -12.6303071975708,
          "pc2": 33.069583892822266
         },
         {
          "pc1": -38.33474349975586,
          "pc2": -20.194791793823242
         },
         {
          "pc1": 14.534215927124023,
          "pc2": -59.66765213012695
         },
         {
          "pc1": -46.49855041503906,
          "pc2": 11.101420402526855
         },
         {
          "pc1": -29.076005935668945,
          "pc2": -1.648898720741272
         },
         {
          "pc1": -35.661869049072266,
          "pc2": -57.90288543701172
         },
         {
          "pc1": 39.93357467651367,
          "pc2": 40.56876754760742
         },
         {
          "pc1": -22.783151626586914,
          "pc2": -76.59992980957031
         },
         {
          "pc1": 12.144693374633789,
          "pc2": -54.8571891784668
         },
         {
          "pc1": 28.15460968017578,
          "pc2": 20.854402542114258
         },
         {
          "pc1": 24.527851104736328,
          "pc2": -55.13911819458008
         },
         {
          "pc1": 43.50934982299805,
          "pc2": -1.6282895803451538
         },
         {
          "pc1": -27.59891700744629,
          "pc2": 0.6377761960029602
         },
         {
          "pc1": -10.773015975952148,
          "pc2": 67.52806854248047
         },
         {
          "pc1": -30.352460861206055,
          "pc2": -1.3402880430221558
         },
         {
          "pc1": 1.8112388849258423,
          "pc2": 41.93089294433594
         },
         {
          "pc1": -28.963199615478516,
          "pc2": 19.370864868164062
         },
         {
          "pc1": -23.85737419128418,
          "pc2": -76.34221649169922
         },
         {
          "pc1": -24.118688583374023,
          "pc2": 35.07041549682617
         },
         {
          "pc1": 52.52043151855469,
          "pc2": 3.1816725730895996
         },
         {
          "pc1": -7.374469757080078,
          "pc2": 66.65248107910156
         },
         {
          "pc1": 0.2872285842895508,
          "pc2": 36.09719467163086
         },
         {
          "pc1": -4.541767597198486,
          "pc2": -49.30415344238281
         },
         {
          "pc1": 32.53592300415039,
          "pc2": -7.3426408767700195
         },
         {
          "pc1": 30.043067932128906,
          "pc2": -40.526058197021484
         },
         {
          "pc1": -19.0864200592041,
          "pc2": -81.8917007446289
         },
         {
          "pc1": -34.86708068847656,
          "pc2": -52.06242752075195
         },
         {
          "pc1": 7.204811096191406,
          "pc2": -7.921874046325684
         },
         {
          "pc1": 10.881159782409668,
          "pc2": -58.110931396484375
         },
         {
          "pc1": 59.053611755371094,
          "pc2": 14.395173072814941
         },
         {
          "pc1": 0.8700400590896606,
          "pc2": 37.434730529785156
         },
         {
          "pc1": 33.2801513671875,
          "pc2": -7.327171802520752
         },
         {
          "pc1": -61.070716857910156,
          "pc2": -12.703082084655762
         },
         {
          "pc1": -2.9435174465179443,
          "pc2": 52.50447082519531
         },
         {
          "pc1": -32.43220138549805,
          "pc2": 19.25860595703125
         },
         {
          "pc1": 26.144201278686523,
          "pc2": 40.06971740722656
         },
         {
          "pc1": 0.45318320393562317,
          "pc2": 4.787123203277588
         },
         {
          "pc1": 14.311150550842285,
          "pc2": -27.156076431274414
         },
         {
          "pc1": 2.6272811889648438,
          "pc2": 49.52524185180664
         },
         {
          "pc1": -49.39501190185547,
          "pc2": 33.59591293334961
         },
         {
          "pc1": 7.162070274353027,
          "pc2": 38.11331558227539
         },
         {
          "pc1": 50.59849548339844,
          "pc2": 13.804296493530273
         },
         {
          "pc1": -16.00310516357422,
          "pc2": 9.635513305664062
         },
         {
          "pc1": -5.797722339630127,
          "pc2": 56.07958221435547
         },
         {
          "pc1": 17.349180221557617,
          "pc2": -28.513540267944336
         },
         {
          "pc1": -10.328506469726562,
          "pc2": -84.13502502441406
         },
         {
          "pc1": 1.4325684309005737,
          "pc2": 36.32441329956055
         },
         {
          "pc1": -21.61864471435547,
          "pc2": -44.45148849487305
         },
         {
          "pc1": -11.142363548278809,
          "pc2": 66.87601470947266
         },
         {
          "pc1": 28.77111053466797,
          "pc2": -51.2561149597168
         },
         {
          "pc1": -33.70935821533203,
          "pc2": 19.731569290161133
         },
         {
          "pc1": 60.23137664794922,
          "pc2": 18.738353729248047
         },
         {
          "pc1": 54.982688903808594,
          "pc2": -23.899246215820312
         },
         {
          "pc1": 17.61480140686035,
          "pc2": -57.74095916748047
         },
         {
          "pc1": 54.99003219604492,
          "pc2": 32.342628479003906
         },
         {
          "pc1": -32.59437942504883,
          "pc2": -19.997167587280273
         },
         {
          "pc1": 52.35591506958008,
          "pc2": 31.789714813232422
         },
         {
          "pc1": -33.69878387451172,
          "pc2": -20.09930419921875
         },
         {
          "pc1": 14.119677543640137,
          "pc2": -56.6816520690918
         },
         {
          "pc1": 34.50797653198242,
          "pc2": -9.425650596618652
         },
         {
          "pc1": 71.80205535888672,
          "pc2": -0.8600241541862488
         },
         {
          "pc1": 51.317047119140625,
          "pc2": 17.94886589050293
         },
         {
          "pc1": 17.80914306640625,
          "pc2": 44.53439712524414
         },
         {
          "pc1": 10.310460090637207,
          "pc2": -1.894245982170105
         },
         {
          "pc1": -19.336772918701172,
          "pc2": 65.62724304199219
         },
         {
          "pc1": -49.60191345214844,
          "pc2": 33.56786346435547
         },
         {
          "pc1": 0.006161003839224577,
          "pc2": 8.77817153930664
         },
         {
          "pc1": 47.60755157470703,
          "pc2": -0.8468098044395447
         },
         {
          "pc1": -5.350481986999512,
          "pc2": -49.40586853027344
         },
         {
          "pc1": 15.152080535888672,
          "pc2": 21.073528289794922
         },
         {
          "pc1": 17.58395767211914,
          "pc2": -28.234485626220703
         },
         {
          "pc1": 17.292570114135742,
          "pc2": -29.34415054321289
         },
         {
          "pc1": 8.514481544494629,
          "pc2": 7.757171630859375
         },
         {
          "pc1": 0.8110705614089966,
          "pc2": 16.7996768951416
         },
         {
          "pc1": 0.5851069688796997,
          "pc2": 32.20484924316406
         },
         {
          "pc1": 39.444339752197266,
          "pc2": 43.371124267578125
         },
         {
          "pc1": 41.723426818847656,
          "pc2": -5.501835823059082
         },
         {
          "pc1": -45.774539947509766,
          "pc2": 7.775331020355225
         },
         {
          "pc1": 30.966434478759766,
          "pc2": 41.11083984375
         },
         {
          "pc1": 45.514835357666016,
          "pc2": 41.457759857177734
         },
         {
          "pc1": 61.88320541381836,
          "pc2": -11.453596115112305
         },
         {
          "pc1": -20.114421844482422,
          "pc2": 34.81847381591797
         },
         {
          "pc1": 14.780920028686523,
          "pc2": 21.799652099609375
         },
         {
          "pc1": -32.3289680480957,
          "pc2": 19.79029083251953
         },
         {
          "pc1": 22.466880798339844,
          "pc2": -56.092918395996094
         },
         {
          "pc1": 59.3448486328125,
          "pc2": 25.85651206970215
         },
         {
          "pc1": 8.349306106567383,
          "pc2": -56.50379180908203
         },
         {
          "pc1": -61.513980865478516,
          "pc2": -13.046014785766602
         },
         {
          "pc1": -47.467647552490234,
          "pc2": 32.52531051635742
         },
         {
          "pc1": 0.7140892148017883,
          "pc2": 26.313955307006836
         },
         {
          "pc1": 30.297555923461914,
          "pc2": -43.8447151184082
         },
         {
          "pc1": 66.63069152832031,
          "pc2": -13.382664680480957
         },
         {
          "pc1": -10.742168426513672,
          "pc2": -20.5943660736084
         },
         {
          "pc1": 71.00548553466797,
          "pc2": -2.6162991523742676
         },
         {
          "pc1": 13.748366355895996,
          "pc2": -54.65055847167969
         },
         {
          "pc1": -27.043048858642578,
          "pc2": 62.45650100708008
         },
         {
          "pc1": -8.210939407348633,
          "pc2": 57.83242416381836
         },
         {
          "pc1": 55.6888542175293,
          "pc2": 10.69603443145752
         },
         {
          "pc1": -27.7255916595459,
          "pc2": -47.46511459350586
         },
         {
          "pc1": -6.55598258972168,
          "pc2": 58.27537536621094
         },
         {
          "pc1": -3.820415735244751,
          "pc2": 65.53035736083984
         },
         {
          "pc1": -12.146973609924316,
          "pc2": -83.26020050048828
         },
         {
          "pc1": 12.49587631225586,
          "pc2": 20.367773056030273
         },
         {
          "pc1": -0.04347246140241623,
          "pc2": 6.636381149291992
         },
         {
          "pc1": 2.1021173000335693,
          "pc2": -3.0065114498138428
         },
         {
          "pc1": -18.930980682373047,
          "pc2": -82.07401275634766
         },
         {
          "pc1": 29.615205764770508,
          "pc2": 49.56258010864258
         },
         {
          "pc1": -15.948341369628906,
          "pc2": -20.02305793762207
         },
         {
          "pc1": 35.8869743347168,
          "pc2": -0.6929326057434082
         },
         {
          "pc1": 46.105857849121094,
          "pc2": 40.6304931640625
         },
         {
          "pc1": 25.128957748413086,
          "pc2": -32.87696075439453
         },
         {
          "pc1": -41.142887115478516,
          "pc2": 10.160446166992188
         },
         {
          "pc1": 46.27421951293945,
          "pc2": -0.3467983901500702
         },
         {
          "pc1": 47.63663101196289,
          "pc2": 31.90182113647461
         },
         {
          "pc1": -27.58050537109375,
          "pc2": 20.333642959594727
         },
         {
          "pc1": 32.765586853027344,
          "pc2": 18.415136337280273
         },
         {
          "pc1": -2.919666290283203,
          "pc2": 65.09640502929688
         },
         {
          "pc1": 27.034244537353516,
          "pc2": -34.68061065673828
         },
         {
          "pc1": 1.0737496614456177,
          "pc2": 34.85279083251953
         },
         {
          "pc1": -8.781543731689453,
          "pc2": -83.9725112915039
         },
         {
          "pc1": -15.600173950195312,
          "pc2": -24.804086685180664
         },
         {
          "pc1": 2.2636008262634277,
          "pc2": 51.097015380859375
         },
         {
          "pc1": -3.563371181488037,
          "pc2": -85.67493438720703
         },
         {
          "pc1": 7.199343681335449,
          "pc2": 38.28656005859375
         },
         {
          "pc1": 6.3211140632629395,
          "pc2": 30.836565017700195
         },
         {
          "pc1": 25.504859924316406,
          "pc2": 43.25503158569336
         },
         {
          "pc1": -7.825072288513184,
          "pc2": -53.05397033691406
         },
         {
          "pc1": 60.660221099853516,
          "pc2": -19.938329696655273
         },
         {
          "pc1": 29.139301300048828,
          "pc2": -51.89936065673828
         },
         {
          "pc1": -40.66855239868164,
          "pc2": 21.154287338256836
         },
         {
          "pc1": 5.529587745666504,
          "pc2": -5.978987693786621
         },
         {
          "pc1": -55.16830062866211,
          "pc2": -17.80467414855957
         },
         {
          "pc1": -10.224534034729004,
          "pc2": 60.32741165161133
         },
         {
          "pc1": -15.251579284667969,
          "pc2": -76.10039520263672
         },
         {
          "pc1": -2.816161870956421,
          "pc2": 65.03787231445312
         },
         {
          "pc1": -29.833303451538086,
          "pc2": -70.6222915649414
         },
         {
          "pc1": 16.69011878967285,
          "pc2": -58.71029281616211
         },
         {
          "pc1": -64.99436950683594,
          "pc2": -5.344534873962402
         },
         {
          "pc1": -13.367364883422852,
          "pc2": 31.914806365966797
         },
         {
          "pc1": 28.18928337097168,
          "pc2": -36.678531646728516
         },
         {
          "pc1": 1.0903559923171997,
          "pc2": -54.55426788330078
         },
         {
          "pc1": 72.02995300292969,
          "pc2": 9.471654891967773
         },
         {
          "pc1": -23.794694900512695,
          "pc2": -75.73871612548828
         },
         {
          "pc1": -32.24737548828125,
          "pc2": 47.75522232055664
         },
         {
          "pc1": -5.619747638702393,
          "pc2": -85.05758666992188
         },
         {
          "pc1": -27.228872299194336,
          "pc2": 62.19900131225586
         },
         {
          "pc1": -24.600675582885742,
          "pc2": 35.06242752075195
         },
         {
          "pc1": -17.10211753845215,
          "pc2": -80.66439056396484
         },
         {
          "pc1": -11.181429862976074,
          "pc2": 15.650949478149414
         },
         {
          "pc1": -28.575443267822266,
          "pc2": -0.640836238861084
         },
         {
          "pc1": -28.30811309814453,
          "pc2": -72.40238952636719
         },
         {
          "pc1": -34.37472152709961,
          "pc2": -20.717897415161133
         },
         {
          "pc1": -27.41912269592285,
          "pc2": 51.86670684814453
         },
         {
          "pc1": -64.99300384521484,
          "pc2": -5.3486647605896
         },
         {
          "pc1": 61.03491973876953,
          "pc2": -13.148468017578125
         },
         {
          "pc1": 20.54232406616211,
          "pc2": 21.37893295288086
         },
         {
          "pc1": 0.6033516526222229,
          "pc2": 14.947458267211914
         },
         {
          "pc1": 21.822635650634766,
          "pc2": 41.259273529052734
         },
         {
          "pc1": 58.62373352050781,
          "pc2": 20.621017456054688
         },
         {
          "pc1": -31.415246963500977,
          "pc2": -56.465110778808594
         },
         {
          "pc1": -5.487698554992676,
          "pc2": -84.70142364501953
         },
         {
          "pc1": -24.8361873626709,
          "pc2": 3.17692494392395
         },
         {
          "pc1": 33.12953186035156,
          "pc2": 41.88430404663086
         },
         {
          "pc1": -24.261505126953125,
          "pc2": 35.05940246582031
         },
         {
          "pc1": -23.88329315185547,
          "pc2": -23.10236167907715
         },
         {
          "pc1": -22.403392791748047,
          "pc2": -76.7292251586914
         },
         {
          "pc1": 60.71614074707031,
          "pc2": -19.31175994873047
         },
         {
          "pc1": -0.8457529544830322,
          "pc2": -52.2978630065918
         },
         {
          "pc1": 50.408905029296875,
          "pc2": 29.894336700439453
         },
         {
          "pc1": 20.951801300048828,
          "pc2": 25.669132232666016
         },
         {
          "pc1": 1.1307392120361328,
          "pc2": 42.46272277832031
         },
         {
          "pc1": 37.61729049682617,
          "pc2": 16.311004638671875
         },
         {
          "pc1": -27.894062042236328,
          "pc2": -73.76958465576172
         },
         {
          "pc1": 31.344066619873047,
          "pc2": -2.887096643447876
         },
         {
          "pc1": -29.212055206298828,
          "pc2": -47.78663635253906
         },
         {
          "pc1": -25.678462982177734,
          "pc2": 52.77244186401367
         },
         {
          "pc1": -5.1733832359313965,
          "pc2": 66.12659454345703
         },
         {
          "pc1": -35.04011535644531,
          "pc2": -60.215911865234375
         },
         {
          "pc1": 22.804311752319336,
          "pc2": -31.226551055908203
         },
         {
          "pc1": -7.072133541107178,
          "pc2": -84.50517272949219
         },
         {
          "pc1": -3.5359206199645996,
          "pc2": -21.29961585998535
         },
         {
          "pc1": 47.259918212890625,
          "pc2": 32.179603576660156
         },
         {
          "pc1": -23.199687957763672,
          "pc2": -44.760589599609375
         },
         {
          "pc1": -40.8792610168457,
          "pc2": 21.730541229248047
         },
         {
          "pc1": 31.32438850402832,
          "pc2": -43.74220657348633
         },
         {
          "pc1": -27.73880386352539,
          "pc2": 22.43062973022461
         },
         {
          "pc1": -58.69328308105469,
          "pc2": -8.5509614944458
         },
         {
          "pc1": 24.706159591674805,
          "pc2": -42.0906867980957
         },
         {
          "pc1": -23.83165740966797,
          "pc2": -71.12810516357422
         },
         {
          "pc1": 58.353057861328125,
          "pc2": -21.8386173248291
         },
         {
          "pc1": -31.209524154663086,
          "pc2": 47.2206916809082
         },
         {
          "pc1": -54.88010787963867,
          "pc2": -18.494672775268555
         },
         {
          "pc1": -5.390155792236328,
          "pc2": -84.74102020263672
         },
         {
          "pc1": 0.6886029243469238,
          "pc2": 28.33301544189453
         },
         {
          "pc1": -8.691380500793457,
          "pc2": -47.25894546508789
         },
         {
          "pc1": -35.444461822509766,
          "pc2": 15.071511268615723
         },
         {
          "pc1": 22.118669509887695,
          "pc2": 41.14762878417969
         },
         {
          "pc1": 32.008331298828125,
          "pc2": -43.10820388793945
         },
         {
          "pc1": -30.018468856811523,
          "pc2": -48.17506408691406
         },
         {
          "pc1": 0.15484821796417236,
          "pc2": 8.65575122833252
         },
         {
          "pc1": 1.1844170093536377,
          "pc2": 14.371779441833496
         },
         {
          "pc1": 34.19680404663086,
          "pc2": -9.936284065246582
         },
         {
          "pc1": -27.923391342163086,
          "pc2": -47.11893844604492
         },
         {
          "pc1": 72.18878173828125,
          "pc2": -1.0809682607650757
         },
         {
          "pc1": 6.872019290924072,
          "pc2": -6.514490604400635
         },
         {
          "pc1": -28.080827713012695,
          "pc2": 51.560638427734375
         },
         {
          "pc1": -46.858238220214844,
          "pc2": 7.407454490661621
         },
         {
          "pc1": 0.5355296730995178,
          "pc2": 20.290300369262695
         },
         {
          "pc1": -0.6876336336135864,
          "pc2": -86.16138458251953
         },
         {
          "pc1": 6.583747386932373,
          "pc2": -56.05794906616211
         },
         {
          "pc1": 1.6608598232269287,
          "pc2": 41.202308654785156
         },
         {
          "pc1": -1.97174870967865,
          "pc2": -52.47153854370117
         },
         {
          "pc1": 30.330001831054688,
          "pc2": -41.392330169677734
         },
         {
          "pc1": 0.7467334270477295,
          "pc2": 28.774032592773438
         },
         {
          "pc1": 30.715862274169922,
          "pc2": -45.471927642822266
         },
         {
          "pc1": 13.133612632751465,
          "pc2": -26.4687442779541
         },
         {
          "pc1": -36.515350341796875,
          "pc2": 55.60953140258789
         },
         {
          "pc1": -21.225969314575195,
          "pc2": -20.020631790161133
         },
         {
          "pc1": -33.96245193481445,
          "pc2": -63.02339172363281
         },
         {
          "pc1": 24.945301055908203,
          "pc2": -34.579776763916016
         },
         {
          "pc1": -18.12354278564453,
          "pc2": 65.82247924804688
         },
         {
          "pc1": -53.69060516357422,
          "pc2": 40.65070724487305
         },
         {
          "pc1": 18.117502212524414,
          "pc2": -28.955894470214844
         },
         {
          "pc1": 71.9066162109375,
          "pc2": -2.417348623275757
         },
         {
          "pc1": 11.663322448730469,
          "pc2": 21.059066772460938
         },
         {
          "pc1": 4.423300743103027,
          "pc2": -54.89705276489258
         },
         {
          "pc1": 54.18018341064453,
          "pc2": -21.30366325378418
         },
         {
          "pc1": 58.071712493896484,
          "pc2": 19.52081871032715
         },
         {
          "pc1": -16.412508010864258,
          "pc2": 31.862857818603516
         },
         {
          "pc1": 33.731170654296875,
          "pc2": 18.306840896606445
         },
         {
          "pc1": 16.057947158813477,
          "pc2": 21.183870315551758
         },
         {
          "pc1": -27.50305938720703,
          "pc2": 61.82377243041992
         },
         {
          "pc1": -13.082415580749512,
          "pc2": -20.265893936157227
         },
         {
          "pc1": 7.216758728027344,
          "pc2": -23.327781677246094
         },
         {
          "pc1": -7.123175621032715,
          "pc2": -53.59537124633789
         },
         {
          "pc1": 0.19138547778129578,
          "pc2": 9.399821281433105
         },
         {
          "pc1": 46.694847106933594,
          "pc2": 6.436208724975586
         },
         {
          "pc1": 17.292699813842773,
          "pc2": -28.484813690185547
         },
         {
          "pc1": -33.75492858886719,
          "pc2": -51.611324310302734
         },
         {
          "pc1": 33.815067291259766,
          "pc2": 22.221651077270508
         },
         {
          "pc1": -40.93511199951172,
          "pc2": 50.11526107788086
         },
         {
          "pc1": -24.17426109313965,
          "pc2": 63.65445327758789
         },
         {
          "pc1": 3.277780294418335,
          "pc2": 55.11579132080078
         },
         {
          "pc1": -51.62741470336914,
          "pc2": 31.46814727783203
         },
         {
          "pc1": 34.8575325012207,
          "pc2": -8.899234771728516
         },
         {
          "pc1": 50.3905143737793,
          "pc2": 13.141551971435547
         },
         {
          "pc1": -46.575252532958984,
          "pc2": 16.034530639648438
         },
         {
          "pc1": 38.5738639831543,
          "pc2": -8.551093101501465
         },
         {
          "pc1": -47.52397155761719,
          "pc2": 10.299938201904297
         },
         {
          "pc1": -62.46247100830078,
          "pc2": -11.622777938842773
         },
         {
          "pc1": -15.435815811157227,
          "pc2": -20.048120498657227
         },
         {
          "pc1": -53.00422286987305,
          "pc2": 32.86430358886719
         },
         {
          "pc1": -0.326194167137146,
          "pc2": 62.28622817993164
         },
         {
          "pc1": 55.08842086791992,
          "pc2": 32.722412109375
         },
         {
          "pc1": -19.06683921813965,
          "pc2": 6.984539031982422
         },
         {
          "pc1": -40.31406021118164,
          "pc2": 52.46148681640625
         },
         {
          "pc1": -10.514948844909668,
          "pc2": 66.8571548461914
         },
         {
          "pc1": 1.3530977964401245,
          "pc2": -23.085895538330078
         },
         {
          "pc1": -43.049076080322266,
          "pc2": 48.93427276611328
         },
         {
          "pc1": 0.6429324746131897,
          "pc2": 0.08349599689245224
         },
         {
          "pc1": -22.51520347595215,
          "pc2": -50.69865417480469
         },
         {
          "pc1": 68.43572235107422,
          "pc2": -10.037919998168945
         },
         {
          "pc1": 33.69493865966797,
          "pc2": 48.100914001464844
         },
         {
          "pc1": -4.366333961486816,
          "pc2": 53.36221694946289
         },
         {
          "pc1": 22.950416564941406,
          "pc2": -31.587528228759766
         },
         {
          "pc1": -13.823262214660645,
          "pc2": -82.83148193359375
         },
         {
          "pc1": 60.96586608886719,
          "pc2": 19.0844783782959
         },
         {
          "pc1": -51.13929748535156,
          "pc2": 31.499404907226562
         },
         {
          "pc1": -63.11130142211914,
          "pc2": -9.489415168762207
         },
         {
          "pc1": -19.81171989440918,
          "pc2": -45.0224723815918
         },
         {
          "pc1": 35.105186462402344,
          "pc2": 0.2939645051956177
         },
         {
          "pc1": 27.990100860595703,
          "pc2": -35.850894927978516
         },
         {
          "pc1": 51.255950927734375,
          "pc2": 17.726490020751953
         },
         {
          "pc1": -40.7708625793457,
          "pc2": 19.194671630859375
         },
         {
          "pc1": 65.29476165771484,
          "pc2": -16.614858627319336
         },
         {
          "pc1": -57.63477325439453,
          "pc2": -8.95770263671875
         },
         {
          "pc1": 31.26908302307129,
          "pc2": -40.692596435546875
         },
         {
          "pc1": -0.05894475430250168,
          "pc2": 4.240400791168213
         },
         {
          "pc1": -34.30657196044922,
          "pc2": 14.957379341125488
         },
         {
          "pc1": 36.43302917480469,
          "pc2": -8.506542205810547
         },
         {
          "pc1": 50.389923095703125,
          "pc2": 1.6223609447479248
         },
         {
          "pc1": -60.282447814941406,
          "pc2": -13.439327239990234
         },
         {
          "pc1": -28.877588272094727,
          "pc2": -72.32830047607422
         },
         {
          "pc1": 25.41439437866211,
          "pc2": 43.266021728515625
         },
         {
          "pc1": 2.7974863052368164,
          "pc2": -3.6250722408294678
         },
         {
          "pc1": -57.725067138671875,
          "pc2": -16.655960083007812
         },
         {
          "pc1": -22.749818801879883,
          "pc2": 27.014827728271484
         },
         {
          "pc1": -23.12002944946289,
          "pc2": 26.756553649902344
         },
         {
          "pc1": -29.41927719116211,
          "pc2": -24.48255729675293
         },
         {
          "pc1": -30.986021041870117,
          "pc2": -55.43769073486328
         },
         {
          "pc1": 35.525238037109375,
          "pc2": 0.591385543346405
         },
         {
          "pc1": 50.90386199951172,
          "pc2": 14.96325397491455
         },
         {
          "pc1": 59.32996368408203,
          "pc2": 25.37726402282715
         },
         {
          "pc1": 26.788259506225586,
          "pc2": 21.078834533691406
         },
         {
          "pc1": 39.957061767578125,
          "pc2": 40.900882720947266
         },
         {
          "pc1": -34.43867492675781,
          "pc2": -53.45917510986328
         },
         {
          "pc1": -28.947105407714844,
          "pc2": -1.53730046749115
         },
         {
          "pc1": 25.923830032348633,
          "pc2": 49.52385711669922
         },
         {
          "pc1": 10.096122741699219,
          "pc2": 8.834129333496094
         },
         {
          "pc1": -14.457502365112305,
          "pc2": 33.351104736328125
         },
         {
          "pc1": 49.78020477294922,
          "pc2": 11.696503639221191
         },
         {
          "pc1": -23.308433532714844,
          "pc2": 52.77629470825195
         },
         {
          "pc1": -40.65422439575195,
          "pc2": 11.264863014221191
         },
         {
          "pc1": -20.465816497802734,
          "pc2": -18.63220977783203
         },
         {
          "pc1": 7.144851207733154,
          "pc2": -23.302608489990234
         },
         {
          "pc1": 26.164936065673828,
          "pc2": 50.78485870361328
         },
         {
          "pc1": -26.167123794555664,
          "pc2": 21.797035217285156
         },
         {
          "pc1": 41.37205123901367,
          "pc2": 41.12063217163086
         },
         {
          "pc1": -29.7076473236084,
          "pc2": -61.25559997558594
         },
         {
          "pc1": -30.963970184326172,
          "pc2": 22.311931610107422
         },
         {
          "pc1": -21.13396453857422,
          "pc2": 10.097565650939941
         },
         {
          "pc1": -47.81576919555664,
          "pc2": 32.501136779785156
         },
         {
          "pc1": 35.382205963134766,
          "pc2": 18.104402542114258
         },
         {
          "pc1": 3.9118289947509766,
          "pc2": -85.6284408569336
         },
         {
          "pc1": 2.2770795822143555,
          "pc2": 48.3701286315918
         },
         {
          "pc1": 25.787944793701172,
          "pc2": -54.137168884277344
         },
         {
          "pc1": -22.742706298828125,
          "pc2": -45.627872467041016
         },
         {
          "pc1": -23.67708396911621,
          "pc2": -71.32169342041016
         },
         {
          "pc1": 59.71314239501953,
          "pc2": 24.66998863220215
         },
         {
          "pc1": -56.5103645324707,
          "pc2": -17.88429832458496
         },
         {
          "pc1": -9.622081756591797,
          "pc2": -83.88751983642578
         },
         {
          "pc1": -51.36341857910156,
          "pc2": 41.335121154785156
         },
         {
          "pc1": 18.005353927612305,
          "pc2": 21.33968162536621
         },
         {
          "pc1": 56.14902877807617,
          "pc2": 8.138665199279785
         },
         {
          "pc1": 25.73104476928711,
          "pc2": 41.66782760620117
         },
         {
          "pc1": 3.7203052043914795,
          "pc2": -4.241730690002441
         },
         {
          "pc1": -5.805246353149414,
          "pc2": 65.58699035644531
         },
         {
          "pc1": 30.170198440551758,
          "pc2": 48.75944900512695
         },
         {
          "pc1": 56.02224349975586,
          "pc2": 30.342350006103516
         },
         {
          "pc1": -23.13367462158203,
          "pc2": -19.369827270507812
         },
         {
          "pc1": 12.55065631866455,
          "pc2": -58.80533218383789
         },
         {
          "pc1": -26.1352596282959,
          "pc2": 25.45052719116211
         },
         {
          "pc1": 19.707027435302734,
          "pc2": -28.791128158569336
         },
         {
          "pc1": 14.436760902404785,
          "pc2": -27.101621627807617
         },
         {
          "pc1": -35.789520263671875,
          "pc2": -21.028541564941406
         },
         {
          "pc1": -31.386655807495117,
          "pc2": -2.696823835372925
         },
         {
          "pc1": 10.541813850402832,
          "pc2": -24.993528366088867
         },
         {
          "pc1": 72.22688293457031,
          "pc2": 0.012307945638895035
         },
         {
          "pc1": 2.776968002319336,
          "pc2": -85.81522369384766
         },
         {
          "pc1": -27.94167137145996,
          "pc2": 50.03490447998047
         },
         {
          "pc1": -14.799346923828125,
          "pc2": -82.27047729492188
         },
         {
          "pc1": 15.506360054016113,
          "pc2": -26.85563087463379
         },
         {
          "pc1": -34.31400680541992,
          "pc2": -0.8969495296478271
         },
         {
          "pc1": -23.638364791870117,
          "pc2": 34.99003601074219
         },
         {
          "pc1": -57.759849548339844,
          "pc2": -8.920867919921875
         },
         {
          "pc1": -22.245792388916016,
          "pc2": -50.53688430786133
         },
         {
          "pc1": -0.32615795731544495,
          "pc2": -22.080183029174805
         },
         {
          "pc1": 59.25906753540039,
          "pc2": 11.789624214172363
         },
         {
          "pc1": 21.637723922729492,
          "pc2": -26.46966552734375
         },
         {
          "pc1": 15.402327537536621,
          "pc2": -27.2879581451416
         },
         {
          "pc1": 71.19347381591797,
          "pc2": 7.533046722412109
         },
         {
          "pc1": -26.239347457885742,
          "pc2": -46.337371826171875
         },
         {
          "pc1": 2.8068268299102783,
          "pc2": 51.60348892211914
         },
         {
          "pc1": 33.62731170654297,
          "pc2": -9.80518627166748
         },
         {
          "pc1": 1.9938857555389404,
          "pc2": -85.67765045166016
         },
         {
          "pc1": -4.3380537033081055,
          "pc2": -45.792728424072266
         },
         {
          "pc1": 0.09538089483976364,
          "pc2": -81.8458480834961
         },
         {
          "pc1": -23.254268646240234,
          "pc2": -19.346221923828125
         },
         {
          "pc1": 41.92897033691406,
          "pc2": -6.190651893615723
         },
         {
          "pc1": -29.10903549194336,
          "pc2": -60.11795425415039
         },
         {
          "pc1": -45.613914489746094,
          "pc2": 16.739164352416992
         },
         {
          "pc1": -4.108706951141357,
          "pc2": 52.575599670410156
         },
         {
          "pc1": -24.447891235351562,
          "pc2": 35.07087707519531
         },
         {
          "pc1": -5.204952716827393,
          "pc2": -49.487117767333984
         },
         {
          "pc1": 19.953725814819336,
          "pc2": 43.828182220458984
         },
         {
          "pc1": -11.661880493164062,
          "pc2": -21.311216354370117
         },
         {
          "pc1": -15.499817848205566,
          "pc2": -20.02131462097168
         },
         {
          "pc1": -8.63719367980957,
          "pc2": 58.11457443237305
         },
         {
          "pc1": -6.644813537597656,
          "pc2": -84.69481658935547
         },
         {
          "pc1": 33.911865234375,
          "pc2": 40.1988525390625
         },
         {
          "pc1": 29.08397102355957,
          "pc2": -12.697291374206543
         },
         {
          "pc1": 30.910017013549805,
          "pc2": 19.76055908203125
         },
         {
          "pc1": 50.15917205810547,
          "pc2": 3.653988838195801
         },
         {
          "pc1": -19.993141174316406,
          "pc2": 30.595890045166016
         },
         {
          "pc1": 23.77927589416504,
          "pc2": -55.12922286987305
         },
         {
          "pc1": 13.804433822631836,
          "pc2": -59.6883430480957
         },
         {
          "pc1": -20.87445831298828,
          "pc2": 5.912771224975586
         },
         {
          "pc1": 39.4570198059082,
          "pc2": 43.61022186279297
         },
         {
          "pc1": 25.891674041748047,
          "pc2": -33.594303131103516
         },
         {
          "pc1": 67.24181365966797,
          "pc2": -11.493623733520508
         },
         {
          "pc1": -26.435253143310547,
          "pc2": 25.573896408081055
         },
         {
          "pc1": 30.614517211914062,
          "pc2": -41.69852066040039
         },
         {
          "pc1": -30.253761291503906,
          "pc2": 16.56359100341797
         },
         {
          "pc1": -22.78543472290039,
          "pc2": 24.296552658081055
         },
         {
          "pc1": 57.41537857055664,
          "pc2": 28.05110740661621
         },
         {
          "pc1": 3.3934061527252197,
          "pc2": -85.10848999023438
         },
         {
          "pc1": -14.990148544311523,
          "pc2": 66.58767700195312
         },
         {
          "pc1": 41.306053161621094,
          "pc2": -3.8909122943878174
         },
         {
          "pc1": -40.51202392578125,
          "pc2": 52.19953536987305
         },
         {
          "pc1": 73.39958190917969,
          "pc2": 5.321656227111816
         },
         {
          "pc1": -14.272944450378418,
          "pc2": -20.097667694091797
         },
         {
          "pc1": -13.723495483398438,
          "pc2": 32.37605285644531
         },
         {
          "pc1": -39.814598083496094,
          "pc2": 22.317523956298828
         },
         {
          "pc1": 52.55360412597656,
          "pc2": 22.493648529052734
         },
         {
          "pc1": 8.58207893371582,
          "pc2": 8.274771690368652
         },
         {
          "pc1": -46.480430603027344,
          "pc2": 11.109074592590332
         },
         {
          "pc1": -22.637317657470703,
          "pc2": -47.90599822998047
         },
         {
          "pc1": -13.630976676940918,
          "pc2": 11.193046569824219
         },
         {
          "pc1": -10.146309852600098,
          "pc2": -21.568172454833984
         },
         {
          "pc1": -60.3389892578125,
          "pc2": -10.29357624053955
         }
        ],
        "data-2f572200da727fa75c27a4214a42ee22": [
         {
          "pc1": -40.6205940246582,
          "pc2": 10.20596694946289
         },
         {
          "pc1": -27.077194213867188,
          "pc2": 21.594615936279297
         },
         {
          "pc1": -30.535255432128906,
          "pc2": -48.450157165527344
         },
         {
          "pc1": -62.33025360107422,
          "pc2": -13.151445388793945
         },
         {
          "pc1": 15.86796760559082,
          "pc2": 21.173187255859375
         },
         {
          "pc1": 0.4952411949634552,
          "pc2": 17.503618240356445
         },
         {
          "pc1": -14.11096477508545,
          "pc2": 66.76078796386719
         },
         {
          "pc1": 35.14070510864258,
          "pc2": 18.24517059326172
         },
         {
          "pc1": -32.14188003540039,
          "pc2": -67.95975494384766
         },
         {
          "pc1": 12.853118896484375,
          "pc2": -58.395687103271484
         },
         {
          "pc1": -29.527061462402344,
          "pc2": -1.46428382396698
         },
         {
          "pc1": 2.7989046573638916,
          "pc2": -3.1903910636901855
         },
         {
          "pc1": 1.9898409843444824,
          "pc2": 47.88645553588867
         },
         {
          "pc1": 10.339768409729004,
          "pc2": -2.4845523834228516
         },
         {
          "pc1": 70.01765441894531,
          "pc2": 4.552170753479004
         },
         {
          "pc1": -33.72373580932617,
          "pc2": -51.56664276123047
         },
         {
          "pc1": -53.479339599609375,
          "pc2": 39.93912124633789
         },
         {
          "pc1": -4.879899501800537,
          "pc2": -49.84474182128906
         },
         {
          "pc1": 39.808921813964844,
          "pc2": 41.863685607910156
         },
         {
          "pc1": -34.876895904541016,
          "pc2": -0.3877049684524536
         },
         {
          "pc1": 0.0249309241771698,
          "pc2": 10.090420722961426
         },
         {
          "pc1": 52.694332122802734,
          "pc2": 30.496685028076172
         },
         {
          "pc1": -4.322239398956299,
          "pc2": -21.57398223876953
         },
         {
          "pc1": -24.615419387817383,
          "pc2": -19.66071319580078
         },
         {
          "pc1": 6.860483169555664,
          "pc2": -22.15742301940918
         },
         {
          "pc1": -20.94904899597168,
          "pc2": 34.511348724365234
         },
         {
          "pc1": 68.52169799804688,
          "pc2": -9.229693412780762
         },
         {
          "pc1": -15.549945831298828,
          "pc2": 9.154827117919922
         },
         {
          "pc1": -33.27748489379883,
          "pc2": -65.50821685791016
         },
         {
          "pc1": -61.53235626220703,
          "pc2": -12.406533241271973
         },
         {
          "pc1": -18.728763580322266,
          "pc2": 34.463905334472656
         },
         {
          "pc1": -63.41557693481445,
          "pc2": -10.153738021850586
         },
         {
          "pc1": -31.94603157043457,
          "pc2": 19.226238250732422
         },
         {
          "pc1": -42.73540115356445,
          "pc2": 18.86855697631836
         },
         {
          "pc1": 26.985605239868164,
          "pc2": 50.49441146850586
         },
         {
          "pc1": 2.9856271743774414,
          "pc2": 50.72235107421875
         },
         {
          "pc1": -42.439918518066406,
          "pc2": 49.0573844909668
         },
         {
          "pc1": 32.47770690917969,
          "pc2": -7.347656726837158
         },
         {
          "pc1": -29.92859649658203,
          "pc2": -47.63804244995117
         },
         {
          "pc1": -20.49897003173828,
          "pc2": -50.10597610473633
         },
         {
          "pc1": -31.137380599975586,
          "pc2": -55.71989822387695
         },
         {
          "pc1": 10.28566837310791,
          "pc2": 0.7477274537086487
         },
         {
          "pc1": 21.01934814453125,
          "pc2": 42.904296875
         },
         {
          "pc1": -33.57943344116211,
          "pc2": -64.62688446044922
         },
         {
          "pc1": -10.830801010131836,
          "pc2": -46.62870788574219
         },
         {
          "pc1": -28.399986267089844,
          "pc2": 19.602785110473633
         },
         {
          "pc1": 0.4118901789188385,
          "pc2": 12.477283477783203
         },
         {
          "pc1": -38.14945602416992,
          "pc2": 16.712825775146484
         },
         {
          "pc1": 47.27412033081055,
          "pc2": 30.38703155517578
         },
         {
          "pc1": -11.76939868927002,
          "pc2": -45.37208557128906
         },
         {
          "pc1": -30.16769790649414,
          "pc2": -70.32059478759766
         },
         {
          "pc1": 18.974323272705078,
          "pc2": -26.530773162841797
         },
         {
          "pc1": -41.142333984375,
          "pc2": 49.18465042114258
         },
         {
          "pc1": 42.389278411865234,
          "pc2": -5.910455703735352
         },
         {
          "pc1": 64.80907440185547,
          "pc2": -16.307077407836914
         },
         {
          "pc1": 55.78559494018555,
          "pc2": 7.599196434020996
         },
         {
          "pc1": 50.35547637939453,
          "pc2": 12.942195892333984
         },
         {
          "pc1": -37.54216003417969,
          "pc2": -18.284589767456055
         },
         {
          "pc1": -3.0868513584136963,
          "pc2": -50.68464279174805
         },
         {
          "pc1": -43.01150894165039,
          "pc2": 47.635562896728516
         },
         {
          "pc1": -50.5316162109375,
          "pc2": -19.453763961791992
         },
         {
          "pc1": -46.046077728271484,
          "pc2": 45.380062103271484
         },
         {
          "pc1": -52.88140869140625,
          "pc2": 32.88410186767578
         },
         {
          "pc1": -22.04983139038086,
          "pc2": -45.2476692199707
         },
         {
          "pc1": -12.698222160339355,
          "pc2": -20.322250366210938
         },
         {
          "pc1": 46.01050567626953,
          "pc2": 38.78982925415039
         },
         {
          "pc1": -48.11850357055664,
          "pc2": 8.63693904876709
         },
         {
          "pc1": -19.77879524230957,
          "pc2": 27.242902755737305
         },
         {
          "pc1": -41.10768508911133,
          "pc2": -20.40483856201172
         },
         {
          "pc1": -15.737380981445312,
          "pc2": 9.753747940063477
         },
         {
          "pc1": 50.0167121887207,
          "pc2": 1.2837451696395874
         },
         {
          "pc1": 24.049610137939453,
          "pc2": 50.10295867919922
         },
         {
          "pc1": 0.15451163053512573,
          "pc2": 9.453696250915527
         },
         {
          "pc1": -6.566606044769287,
          "pc2": 66.53887176513672
         },
         {
          "pc1": 45.10466003417969,
          "pc2": -0.3385888636112213
         },
         {
          "pc1": -28.275367736816406,
          "pc2": -19.648283004760742
         },
         {
          "pc1": 9.608302116394043,
          "pc2": -3.4870920181274414
         },
         {
          "pc1": 10.465204238891602,
          "pc2": -25.208538055419922
         },
         {
          "pc1": 72.57609558105469,
          "pc2": 0.1021781712770462
         },
         {
          "pc1": 72.30769348144531,
          "pc2": 0.41851240396499634
         },
         {
          "pc1": -43.97589111328125,
          "pc2": 47.29622268676758
         },
         {
          "pc1": 55.664981842041016,
          "pc2": 24.86041831970215
         },
         {
          "pc1": 39.673240661621094,
          "pc2": -7.6149468421936035
         },
         {
          "pc1": 63.834999084472656,
          "pc2": -17.903932571411133
         },
         {
          "pc1": 45.21988296508789,
          "pc2": 32.10486602783203
         },
         {
          "pc1": 30.916248321533203,
          "pc2": -43.06193542480469
         },
         {
          "pc1": 22.33174705505371,
          "pc2": -32.43977737426758
         },
         {
          "pc1": 54.76232147216797,
          "pc2": 8.075044631958008
         },
         {
          "pc1": 5.094522476196289,
          "pc2": -6.160552978515625
         },
         {
          "pc1": 0.08310423046350479,
          "pc2": 16.065277099609375
         },
         {
          "pc1": 27.115684509277344,
          "pc2": -54.75381851196289
         },
         {
          "pc1": 13.483646392822266,
          "pc2": 20.480966567993164
         },
         {
          "pc1": 20.412580490112305,
          "pc2": -57.68293380737305
         },
         {
          "pc1": 8.361668586730957,
          "pc2": -58.120811462402344
         },
         {
          "pc1": 25.33131980895996,
          "pc2": -53.73102569580078
         },
         {
          "pc1": 73.88736724853516,
          "pc2": 9.693305969238281
         },
         {
          "pc1": -7.580755233764648,
          "pc2": 58.984493255615234
         },
         {
          "pc1": 24.87420082092285,
          "pc2": -56.46318817138672
         },
         {
          "pc1": 9.104305267333984,
          "pc2": -25.81627082824707
         },
         {
          "pc1": -27.666391372680664,
          "pc2": -19.981143951416016
         },
         {
          "pc1": 10.1571044921875,
          "pc2": -58.70751953125
         },
         {
          "pc1": 24.840835571289062,
          "pc2": 40.57786178588867
         },
         {
          "pc1": -0.9497032165527344,
          "pc2": -85.58224487304688
         },
         {
          "pc1": -4.393648624420166,
          "pc2": -45.758731842041016
         },
         {
          "pc1": 14.907760620117188,
          "pc2": -58.58122253417969
         },
         {
          "pc1": -27.806474685668945,
          "pc2": -0.547175943851471
         },
         {
          "pc1": -22.763565063476562,
          "pc2": 4.131802558898926
         },
         {
          "pc1": 39.116722106933594,
          "pc2": -8.07919692993164
         },
         {
          "pc1": 23.33487892150879,
          "pc2": 25.416593551635742
         },
         {
          "pc1": -39.86361312866211,
          "pc2": -20.056785583496094
         },
         {
          "pc1": -55.923675537109375,
          "pc2": -18.27999496459961
         },
         {
          "pc1": -37.39786911010742,
          "pc2": 54.497257232666016
         },
         {
          "pc1": -62.95695114135742,
          "pc2": -10.877851486206055
         },
         {
          "pc1": 9.536983489990234,
          "pc2": -3.3897759914398193
         },
         {
          "pc1": 2.0315985679626465,
          "pc2": -54.13520431518555
         },
         {
          "pc1": 26.237812042236328,
          "pc2": 21.646724700927734
         },
         {
          "pc1": 33.3760986328125,
          "pc2": 48.24739074707031
         },
         {
          "pc1": -63.29594039916992,
          "pc2": -12.015793800354004
         },
         {
          "pc1": -4.414333343505859,
          "pc2": -49.258235931396484
         },
         {
          "pc1": -35.32778549194336,
          "pc2": -58.64527130126953
         },
         {
          "pc1": 10.264352798461914,
          "pc2": 1.4115502834320068
         },
         {
          "pc1": 36.82978820800781,
          "pc2": 16.98230743408203
         },
         {
          "pc1": -48.76176834106445,
          "pc2": 8.956171035766602
         },
         {
          "pc1": 22.49535369873047,
          "pc2": 25.46019172668457
         },
         {
          "pc1": 58.28390884399414,
          "pc2": 13.857977867126465
         },
         {
          "pc1": -50.17335891723633,
          "pc2": 31.700864791870117
         },
         {
          "pc1": -29.469240188598633,
          "pc2": -24.472412109375
         },
         {
          "pc1": 24.72981834411621,
          "pc2": 41.72580337524414
         },
         {
          "pc1": -32.12015914916992,
          "pc2": -60.59968948364258
         },
         {
          "pc1": -55.92024230957031,
          "pc2": -9.337655067443848
         },
         {
          "pc1": -26.06702423095703,
          "pc2": 34.792694091796875
         },
         {
          "pc1": -41.204872131347656,
          "pc2": 49.10667419433594
         },
         {
          "pc1": -27.69769859313965,
          "pc2": 22.83066177368164
         },
         {
          "pc1": 55.81950378417969,
          "pc2": 11.419953346252441
         },
         {
          "pc1": 21.677051544189453,
          "pc2": -57.328548431396484
         },
         {
          "pc1": 30.02265739440918,
          "pc2": -48.30575942993164
         },
         {
          "pc1": -18.49956703186035,
          "pc2": 30.304780960083008
         },
         {
          "pc1": 60.178096771240234,
          "pc2": -20.672510147094727
         },
         {
          "pc1": 7.650811672210693,
          "pc2": -57.75146484375
         },
         {
          "pc1": -33.29446792602539,
          "pc2": -20.036293029785156
         },
         {
          "pc1": 30.140583038330078,
          "pc2": -12.662766456604004
         },
         {
          "pc1": 26.176557540893555,
          "pc2": 50.90375518798828
         },
         {
          "pc1": 5.647964000701904,
          "pc2": 36.47870635986328
         },
         {
          "pc1": -18.438085556030273,
          "pc2": -79.81636810302734
         },
         {
          "pc1": -22.317604064941406,
          "pc2": -76.87914276123047
         },
         {
          "pc1": 50.122886657714844,
          "pc2": 2.880816698074341
         },
         {
          "pc1": 68.10041809082031,
          "pc2": -2.671788454055786
         },
         {
          "pc1": -16.53561782836914,
          "pc2": -45.135398864746094
         },
         {
          "pc1": -11.029056549072266,
          "pc2": 13.106372833251953
         },
         {
          "pc1": -6.010191917419434,
          "pc2": 56.312747955322266
         },
         {
          "pc1": -20.041536331176758,
          "pc2": -77.10372161865234
         },
         {
          "pc1": -47.03913879394531,
          "pc2": -20.389781951904297
         },
         {
          "pc1": 44.995487213134766,
          "pc2": 41.63374710083008
         },
         {
          "pc1": -28.909135818481445,
          "pc2": -72.29534149169922
         },
         {
          "pc1": -43.37710952758789,
          "pc2": 48.61996078491211
         },
         {
          "pc1": 29.958337783813477,
          "pc2": -5.53720760345459
         },
         {
          "pc1": 56.75372314453125,
          "pc2": 29.186365127563477
         },
         {
          "pc1": -11.507625579833984,
          "pc2": 12.032712936401367
         },
         {
          "pc1": -16.444353103637695,
          "pc2": -19.941362380981445
         },
         {
          "pc1": 53.35850143432617,
          "pc2": 7.367124080657959
         },
         {
          "pc1": 38.784244537353516,
          "pc2": 43.30728530883789
         },
         {
          "pc1": -34.377342224121094,
          "pc2": -67.64817810058594
         },
         {
          "pc1": -47.151466369628906,
          "pc2": 8.139106750488281
         },
         {
          "pc1": 52.698646545410156,
          "pc2": 20.115392684936523
         },
         {
          "pc1": 34.790042877197266,
          "pc2": 18.492809295654297
         },
         {
          "pc1": 58.501224517822266,
          "pc2": -21.484220504760742
         },
         {
          "pc1": -34.6143684387207,
          "pc2": -19.82277488708496
         },
         {
          "pc1": 49.84786605834961,
          "pc2": 5.024108409881592
         },
         {
          "pc1": 0.5942373871803284,
          "pc2": 18.970855712890625
         },
         {
          "pc1": 61.217140197753906,
          "pc2": -19.552600860595703
         },
         {
          "pc1": -15.828402519226074,
          "pc2": -24.821964263916016
         },
         {
          "pc1": -16.020870208740234,
          "pc2": -44.87788391113281
         },
         {
          "pc1": 26.404376983642578,
          "pc2": 21.043699264526367
         },
         {
          "pc1": -2.883227825164795,
          "pc2": -22.02464485168457
         },
         {
          "pc1": -41.669166564941406,
          "pc2": 18.257671356201172
         },
         {
          "pc1": -20.675024032592773,
          "pc2": -77.78400421142578
         },
         {
          "pc1": -21.54509925842285,
          "pc2": 28.905275344848633
         },
         {
          "pc1": 1.966192364692688,
          "pc2": 47.70806121826172
         },
         {
          "pc1": 27.588472366333008,
          "pc2": 21.027257919311523
         },
         {
          "pc1": 57.647701263427734,
          "pc2": 12.449691772460938
         },
         {
          "pc1": 0.70198655128479,
          "pc2": 26.479459762573242
         },
         {
          "pc1": 28.417457580566406,
          "pc2": 39.83229446411133
         },
         {
          "pc1": -20.56833267211914,
          "pc2": 33.33210372924805
         },
         {
          "pc1": -30.552703857421875,
          "pc2": -70.10131072998047
         },
         {
          "pc1": 56.234283447265625,
          "pc2": 7.272661209106445
         },
         {
          "pc1": 10.06049633026123,
          "pc2": 3.3666181564331055
         },
         {
          "pc1": 60.672462463378906,
          "pc2": -19.932144165039062
         },
         {
          "pc1": -33.663021087646484,
          "pc2": -62.571044921875
         },
         {
          "pc1": -33.11307907104492,
          "pc2": 58.705413818359375
         },
         {
          "pc1": -21.301979064941406,
          "pc2": 64.86956024169922
         },
         {
          "pc1": -15.440935134887695,
          "pc2": 30.899070739746094
         },
         {
          "pc1": 3.3521604537963867,
          "pc2": 50.83662033081055
         },
         {
          "pc1": 44.80544662475586,
          "pc2": 38.47986602783203
         },
         {
          "pc1": -32.12693786621094,
          "pc2": -2.855036973953247
         },
         {
          "pc1": 1.6618003845214844,
          "pc2": -53.77769088745117
         },
         {
          "pc1": -3.893624782562256,
          "pc2": -85.24465942382812
         },
         {
          "pc1": 71.39089965820312,
          "pc2": 8.006422996520996
         },
         {
          "pc1": -53.47205352783203,
          "pc2": -18.95346450805664
         },
         {
          "pc1": 34.706642150878906,
          "pc2": 47.83980178833008
         },
         {
          "pc1": -22.11433982849121,
          "pc2": -77.77205657958984
         },
         {
          "pc1": -11.053297996520996,
          "pc2": 15.828503608703613
         },
         {
          "pc1": -4.103432655334473,
          "pc2": 65.66260528564453
         },
         {
          "pc1": 31.64344596862793,
          "pc2": -11.67746353149414
         },
         {
          "pc1": -20.15438461303711,
          "pc2": -78.97321319580078
         },
         {
          "pc1": 26.979936599731445,
          "pc2": -35.12287139892578
         },
         {
          "pc1": 24.730796813964844,
          "pc2": 51.32492446899414
         },
         {
          "pc1": 28.415876388549805,
          "pc2": -6.255103588104248
         },
         {
          "pc1": -16.086257934570312,
          "pc2": -80.04649353027344
         },
         {
          "pc1": -0.25388509035110474,
          "pc2": 62.738502502441406
         },
         {
          "pc1": -15.669440269470215,
          "pc2": -19.989654541015625
         },
         {
          "pc1": -21.179649353027344,
          "pc2": 27.206289291381836
         },
         {
          "pc1": -0.03089839220046997,
          "pc2": 4.007542610168457
         },
         {
          "pc1": -4.868521690368652,
          "pc2": 54.62759780883789
         },
         {
          "pc1": 55.54904556274414,
          "pc2": 11.029669761657715
         },
         {
          "pc1": 19.277332305908203,
          "pc2": -30.472816467285156
         },
         {
          "pc1": 32.828338623046875,
          "pc2": -7.325698375701904
         },
         {
          "pc1": 48.17802810668945,
          "pc2": 37.86848068237305
         },
         {
          "pc1": 31.606969833374023,
          "pc2": -8.024909973144531
         },
         {
          "pc1": 18.978872299194336,
          "pc2": 42.72538375854492
         },
         {
          "pc1": -48.35393524169922,
          "pc2": -19.377775192260742
         },
         {
          "pc1": -52.38314437866211,
          "pc2": -19.314462661743164
         },
         {
          "pc1": 5.879818439483643,
          "pc2": -5.580252170562744
         },
         {
          "pc1": 5.616756916046143,
          "pc2": -56.91615295410156
         },
         {
          "pc1": -28.323490142822266,
          "pc2": -71.76022338867188
         },
         {
          "pc1": 55.1619873046875,
          "pc2": -24.173137664794922
         },
         {
          "pc1": 49.63381576538086,
          "pc2": 4.856924057006836
         },
         {
          "pc1": -43.61516189575195,
          "pc2": -19.59307098388672
         },
         {
          "pc1": -16.313213348388672,
          "pc2": 9.45994758605957
         },
         {
          "pc1": -52.33797073364258,
          "pc2": -19.29941177368164
         },
         {
          "pc1": -54.66014099121094,
          "pc2": -9.478055000305176
         },
         {
          "pc1": 26.49032974243164,
          "pc2": -34.61930847167969
         },
         {
          "pc1": -18.521028518676758,
          "pc2": -82.52964782714844
         },
         {
          "pc1": 44.26998519897461,
          "pc2": -1.4916609525680542
         },
         {
          "pc1": 47.804534912109375,
          "pc2": 7.469789981842041
         },
         {
          "pc1": -28.71098518371582,
          "pc2": -47.341854095458984
         },
         {
          "pc1": -0.7825524806976318,
          "pc2": -52.376670837402344
         },
         {
          "pc1": -47.8105583190918,
          "pc2": 8.010628700256348
         },
         {
          "pc1": 23.983808517456055,
          "pc2": 41.81436538696289
         },
         {
          "pc1": 55.981937408447266,
          "pc2": 23.1676025390625
         },
         {
          "pc1": 45.33857345581055,
          "pc2": 32.007476806640625
         },
         {
          "pc1": 23.718101501464844,
          "pc2": -56.09141540527344
         },
         {
          "pc1": -22.581872940063477,
          "pc2": -50.757144927978516
         },
         {
          "pc1": -21.29262924194336,
          "pc2": 64.83802032470703
         },
         {
          "pc1": -39.43971633911133,
          "pc2": -20.14980125427246
         },
         {
          "pc1": 47.90190505981445,
          "pc2": 1.4386394023895264
         },
         {
          "pc1": 18.290794372558594,
          "pc2": 42.88067626953125
         },
         {
          "pc1": 11.056600570678711,
          "pc2": -25.22995376586914
         },
         {
          "pc1": 43.045284271240234,
          "pc2": 42.329002380371094
         },
         {
          "pc1": 47.02479553222656,
          "pc2": -0.1321677714586258
         },
         {
          "pc1": 43.47627258300781,
          "pc2": -3.026527166366577
         },
         {
          "pc1": -29.91167640686035,
          "pc2": -1.2284530401229858
         },
         {
          "pc1": 50.90262985229492,
          "pc2": 14.826519012451172
         },
         {
          "pc1": 15.82522201538086,
          "pc2": -58.86406326293945
         },
         {
          "pc1": 45.9360466003418,
          "pc2": -4.700851917266846
         },
         {
          "pc1": 11.716453552246094,
          "pc2": 20.29629898071289
         },
         {
          "pc1": -32.59932327270508,
          "pc2": -50.25908660888672
         },
         {
          "pc1": 29.3785343170166,
          "pc2": -10.34390640258789
         },
         {
          "pc1": -17.135501861572266,
          "pc2": -80.39798736572266
         },
         {
          "pc1": 18.71592903137207,
          "pc2": -26.443214416503906
         },
         {
          "pc1": 30.452978134155273,
          "pc2": -11.803468704223633
         },
         {
          "pc1": -21.157487869262695,
          "pc2": 5.756730079650879
         },
         {
          "pc1": -55.227962493896484,
          "pc2": 38.89165115356445
         },
         {
          "pc1": 7.070502758026123,
          "pc2": -7.551284313201904
         },
         {
          "pc1": 48.434566497802734,
          "pc2": 0.4301961362361908
         },
         {
          "pc1": 55.76033020019531,
          "pc2": 7.539760112762451
         },
         {
          "pc1": -21.072816848754883,
          "pc2": -76.24749755859375
         },
         {
          "pc1": -27.25826072692871,
          "pc2": 20.216379165649414
         },
         {
          "pc1": -0.6030012369155884,
          "pc2": -54.7007942199707
         },
         {
          "pc1": -15.804638862609863,
          "pc2": 32.38336944580078
         },
         {
          "pc1": 30.878583908081055,
          "pc2": 40.1320686340332
         },
         {
          "pc1": -9.457012176513672,
          "pc2": -52.25211715698242
         },
         {
          "pc1": -55.69363784790039,
          "pc2": -9.372618675231934
         },
         {
          "pc1": -25.041418075561523,
          "pc2": 51.8494987487793
         },
         {
          "pc1": 30.3560733795166,
          "pc2": -49.356632232666016
         },
         {
          "pc1": -55.402488708496094,
          "pc2": -18.337404251098633
         },
         {
          "pc1": -28.922304153442383,
          "pc2": -24.619129180908203
         },
         {
          "pc1": 55.30662536621094,
          "pc2": 25.97670555114746
         },
         {
          "pc1": -8.184228897094727,
          "pc2": -52.82696533203125
         },
         {
          "pc1": -37.952232360839844,
          "pc2": -16.86092758178711
         },
         {
          "pc1": -23.854171752929688,
          "pc2": 27.1370849609375
         },
         {
          "pc1": 14.406110763549805,
          "pc2": -59.49095916748047
         },
         {
          "pc1": 0.6383212804794312,
          "pc2": 16.05174446105957
         },
         {
          "pc1": 3.599703788757324,
          "pc2": -86.59283447265625
         },
         {
          "pc1": -7.901697635650635,
          "pc2": -47.791481018066406
         },
         {
          "pc1": 27.682510375976562,
          "pc2": -5.470005512237549
         },
         {
          "pc1": -8.755793571472168,
          "pc2": -47.80756759643555
         },
         {
          "pc1": -10.082165718078613,
          "pc2": -47.68036651611328
         },
         {
          "pc1": 1.114333152770996,
          "pc2": -52.38538360595703
         },
         {
          "pc1": 52.43998336791992,
          "pc2": 16.488054275512695
         },
         {
          "pc1": 57.682064056396484,
          "pc2": -18.088359832763672
         },
         {
          "pc1": 23.72397804260254,
          "pc2": -32.159095764160156
         },
         {
          "pc1": -52.9600830078125,
          "pc2": 32.87076950073242
         },
         {
          "pc1": 67.55332946777344,
          "pc2": -11.259515762329102
         },
         {
          "pc1": -17.418420791625977,
          "pc2": -45.17913818359375
         },
         {
          "pc1": -44.2333984375,
          "pc2": 46.709022521972656
         },
         {
          "pc1": -17.347440719604492,
          "pc2": 8.421586036682129
         },
         {
          "pc1": -6.0973076820373535,
          "pc2": -48.75093078613281
         },
         {
          "pc1": -28.083955764770508,
          "pc2": 0.13476207852363586
         },
         {
          "pc1": 6.786745071411133,
          "pc2": -6.950454235076904
         },
         {
          "pc1": 55.523963928222656,
          "pc2": -22.916826248168945
         },
         {
          "pc1": 42.01673889160156,
          "pc2": -5.26877498626709
         },
         {
          "pc1": 1.9054725170135498,
          "pc2": 44.00492477416992
         },
         {
          "pc1": -6.613933563232422,
          "pc2": -48.31324005126953
         },
         {
          "pc1": -64.43733978271484,
          "pc2": -7.242185592651367
         },
         {
          "pc1": -30.245946884155273,
          "pc2": 16.568374633789062
         },
         {
          "pc1": -32.55651092529297,
          "pc2": -20.022483825683594
         },
         {
          "pc1": -28.818674087524414,
          "pc2": 61.53975296020508
         },
         {
          "pc1": -43.552757263183594,
          "pc2": 47.206390380859375
         },
         {
          "pc1": 10.23173999786377,
          "pc2": 2.0069990158081055
         },
         {
          "pc1": 30.628814697265625,
          "pc2": -3.527261972427368
         },
         {
          "pc1": 44.02799987792969,
          "pc2": -4.766901016235352
         },
         {
          "pc1": 5.710147380828857,
          "pc2": -6.237218856811523
         },
         {
          "pc1": 27.532623291015625,
          "pc2": -10.740531921386719
         },
         {
          "pc1": -32.652503967285156,
          "pc2": -66.91481018066406
         },
         {
          "pc1": -27.331520080566406,
          "pc2": 20.801334381103516
         },
         {
          "pc1": -22.21770668029785,
          "pc2": 25.560401916503906
         },
         {
          "pc1": -55.537208557128906,
          "pc2": -9.394240379333496
         },
         {
          "pc1": 19.633649826049805,
          "pc2": -58.0166130065918
         },
         {
          "pc1": 0.3389476537704468,
          "pc2": 10.449544906616211
         },
         {
          "pc1": -45.43179702758789,
          "pc2": 8.175496101379395
         },
         {
          "pc1": 40.900508880615234,
          "pc2": -7.143764972686768
         },
         {
          "pc1": -25.68330192565918,
          "pc2": -73.44651794433594
         },
         {
          "pc1": 47.15450668334961,
          "pc2": 30.490873336791992
         },
         {
          "pc1": -44.7714729309082,
          "pc2": -15.759206771850586
         },
         {
          "pc1": 14.028800964355469,
          "pc2": -25.76569366455078
         },
         {
          "pc1": 14.718928337097168,
          "pc2": 21.08994483947754
         },
         {
          "pc1": 54.62678527832031,
          "pc2": 32.36199188232422
         },
         {
          "pc1": -3.3094663619995117,
          "pc2": -85.62699890136719
         },
         {
          "pc1": 28.848499298095703,
          "pc2": -52.34189987182617
         },
         {
          "pc1": 27.40251350402832,
          "pc2": 49.179195404052734
         },
         {
          "pc1": -35.60706329345703,
          "pc2": 56.47818374633789
         },
         {
          "pc1": -11.900181770324707,
          "pc2": 14.710769653320312
         },
         {
          "pc1": 16.681316375732422,
          "pc2": -58.74382781982422
         },
         {
          "pc1": -21.506561279296875,
          "pc2": 9.823822975158691
         },
         {
          "pc1": 24.979393005371094,
          "pc2": 51.193668365478516
         },
         {
          "pc1": -26.246585845947266,
          "pc2": 1.7919710874557495
         },
         {
          "pc1": 33.321083068847656,
          "pc2": 22.607120513916016
         },
         {
          "pc1": -5.188415050506592,
          "pc2": -84.74071502685547
         },
         {
          "pc1": 65.45523071289062,
          "pc2": -15.248102188110352
         },
         {
          "pc1": -34.89653015136719,
          "pc2": -0.38404181599617004
         },
         {
          "pc1": 20.292739868164062,
          "pc2": -26.81561279296875
         },
         {
          "pc1": -47.133148193359375,
          "pc2": 14.298789978027344
         },
         {
          "pc1": 50.24932098388672,
          "pc2": 12.756610870361328
         },
         {
          "pc1": 32.80765914916992,
          "pc2": 48.45287322998047
         },
         {
          "pc1": 31.11192512512207,
          "pc2": -45.50663375854492
         },
         {
          "pc1": 34.409420013427734,
          "pc2": -9.472786903381348
         },
         {
          "pc1": 57.545658111572266,
          "pc2": 25.87940788269043
         },
         {
          "pc1": 4.265974998474121,
          "pc2": -85.58143615722656
         },
         {
          "pc1": 21.496463775634766,
          "pc2": -30.636856079101562
         },
         {
          "pc1": 27.657028198242188,
          "pc2": 39.95112228393555
         },
         {
          "pc1": 24.613025665283203,
          "pc2": -56.3453369140625
         },
         {
          "pc1": 31.535938262939453,
          "pc2": 40.79668045043945
         },
         {
          "pc1": -23.30211067199707,
          "pc2": 4.429556369781494
         },
         {
          "pc1": -38.507301330566406,
          "pc2": 15.596964836120605
         },
         {
          "pc1": -24.403818130493164,
          "pc2": 22.846885681152344
         },
         {
          "pc1": 39.27064514160156,
          "pc2": -7.285552024841309
         },
         {
          "pc1": 30.50275993347168,
          "pc2": -48.781005859375
         },
         {
          "pc1": -39.723106384277344,
          "pc2": 51.420345306396484
         },
         {
          "pc1": -63.23389434814453,
          "pc2": -9.349353790283203
         },
         {
          "pc1": -34.64103698730469,
          "pc2": 17.79059410095215
         },
         {
          "pc1": 71.91011810302734,
          "pc2": 9.172037124633789
         },
         {
          "pc1": -32.558650970458984,
          "pc2": 59.20100021362305
         },
         {
          "pc1": 25.887617111206055,
          "pc2": -34.86399841308594
         },
         {
          "pc1": 21.830842971801758,
          "pc2": 22.040143966674805
         },
         {
          "pc1": -56.8197021484375,
          "pc2": -9.156867027282715
         },
         {
          "pc1": -55.69044876098633,
          "pc2": -17.514606475830078
         },
         {
          "pc1": -0.008789006620645523,
          "pc2": 6.464687347412109
         },
         {
          "pc1": -31.369850158691406,
          "pc2": -68.98019409179688
         },
         {
          "pc1": -4.726240158081055,
          "pc2": -49.895591735839844
         },
         {
          "pc1": -49.33245086669922,
          "pc2": 31.985305786132812
         },
         {
          "pc1": -26.783740997314453,
          "pc2": 20.72211456298828
         },
         {
          "pc1": -37.09782791137695,
          "pc2": -18.267555236816406
         },
         {
          "pc1": -11.379798889160156,
          "pc2": -46.805999755859375
         },
         {
          "pc1": -25.581388473510742,
          "pc2": 34.92764663696289
         },
         {
          "pc1": -47.24215316772461,
          "pc2": -20.18281364440918
         },
         {
          "pc1": 22.477577209472656,
          "pc2": 22.017606735229492
         },
         {
          "pc1": -25.319067001342773,
          "pc2": 23.13255500793457
         },
         {
          "pc1": 1.62862229347229,
          "pc2": 40.87100601196289
         },
         {
          "pc1": 45.89072036743164,
          "pc2": 40.917293548583984
         },
         {
          "pc1": -11.0114164352417,
          "pc2": 15.88272762298584
         },
         {
          "pc1": 55.34123611450195,
          "pc2": 29.125036239624023
         },
         {
          "pc1": -57.02967071533203,
          "pc2": -17.72817039489746
         },
         {
          "pc1": -20.19610023498535,
          "pc2": -44.23516845703125
         },
         {
          "pc1": -29.7449951171875,
          "pc2": -48.981178283691406
         },
         {
          "pc1": -27.876876831054688,
          "pc2": 4.241795063018799
         },
         {
          "pc1": -1.133179783821106,
          "pc2": -52.648555755615234
         },
         {
          "pc1": 0.5363031029701233,
          "pc2": -21.82927894592285
         },
         {
          "pc1": 69.0543441772461,
          "pc2": -7.910398483276367
         },
         {
          "pc1": -4.151483058929443,
          "pc2": -45.87841033935547
         },
         {
          "pc1": -9.360482215881348,
          "pc2": -47.50018310546875
         },
         {
          "pc1": -23.748201370239258,
          "pc2": 23.559696197509766
         },
         {
          "pc1": 53.444671630859375,
          "pc2": 32.19800567626953
         },
         {
          "pc1": -49.80634307861328,
          "pc2": 33.539024353027344
         },
         {
          "pc1": -50.69866180419922,
          "pc2": -14.394192695617676
         },
         {
          "pc1": 28.78171730041504,
          "pc2": 39.55049514770508
         },
         {
          "pc1": -22.924701690673828,
          "pc2": 64.1721420288086
         },
         {
          "pc1": 46.75875473022461,
          "pc2": 40.41242218017578
         },
         {
          "pc1": 30.78309440612793,
          "pc2": 41.43556213378906
         },
         {
          "pc1": 59.50657272338867,
          "pc2": 13.379532814025879
         },
         {
          "pc1": -4.855571269989014,
          "pc2": -20.994680404663086
         },
         {
          "pc1": -35.640342712402344,
          "pc2": 14.225879669189453
         },
         {
          "pc1": 7.552400588989258,
          "pc2": -6.926045894622803
         },
         {
          "pc1": 6.728219985961914,
          "pc2": -57.25980758666992
         },
         {
          "pc1": -13.54612922668457,
          "pc2": -20.233245849609375
         },
         {
          "pc1": -14.987611770629883,
          "pc2": -45.519805908203125
         },
         {
          "pc1": -32.6976203918457,
          "pc2": 59.10112762451172
         },
         {
          "pc1": 49.84986114501953,
          "pc2": 2.603754997253418
         },
         {
          "pc1": -1.4981833696365356,
          "pc2": 62.76325607299805
         },
         {
          "pc1": -50.491703033447266,
          "pc2": 33.434417724609375
         },
         {
          "pc1": 46.73838806152344,
          "pc2": 5.64230489730835
         },
         {
          "pc1": -63.93233871459961,
          "pc2": -6.991868019104004
         },
         {
          "pc1": 25.89117431640625,
          "pc2": 41.648887634277344
         },
         {
          "pc1": -55.312992095947266,
          "pc2": -18.36338996887207
         },
         {
          "pc1": -21.512409210205078,
          "pc2": -45.22490692138672
         },
         {
          "pc1": -10.696669578552246,
          "pc2": -84.36184692382812
         },
         {
          "pc1": 22.15235137939453,
          "pc2": 21.197410583496094
         },
         {
          "pc1": -36.9332160949707,
          "pc2": 55.19643020629883
         },
         {
          "pc1": 7.481349945068359,
          "pc2": -7.947428226470947
         },
         {
          "pc1": 51.32586669921875,
          "pc2": 18.95265769958496
         },
         {
          "pc1": -44.526058197021484,
          "pc2": -15.753120422363281
         },
         {
          "pc1": 30.260112762451172,
          "pc2": -10.175127983093262
         },
         {
          "pc1": -21.907634735107422,
          "pc2": 28.619043350219727
         },
         {
          "pc1": 25.23065185546875,
          "pc2": 40.525474548339844
         },
         {
          "pc1": -18.733129501342773,
          "pc2": 34.46091842651367
         },
         {
          "pc1": 64.48321533203125,
          "pc2": -16.761695861816406
         },
         {
          "pc1": 58.419952392578125,
          "pc2": 14.214726448059082
         },
         {
          "pc1": 4.515761375427246,
          "pc2": -23.27593994140625
         },
         {
          "pc1": 16.972030639648438,
          "pc2": 21.027925491333008
         },
         {
          "pc1": 24.316570281982422,
          "pc2": 50.02202606201172
         },
         {
          "pc1": -11.732176780700684,
          "pc2": -21.041961669921875
         },
         {
          "pc1": -0.0020195068791508675,
          "pc2": 5.664397239685059
         },
         {
          "pc1": -30.353776931762695,
          "pc2": -19.910287857055664
         },
         {
          "pc1": -61.0864143371582,
          "pc2": -8.841684341430664
         },
         {
          "pc1": 51.307857513427734,
          "pc2": 21.005701065063477
         },
         {
          "pc1": -13.152945518493652,
          "pc2": 32.12733459472656
         },
         {
          "pc1": 0.35755228996276855,
          "pc2": 62.118141174316406
         },
         {
          "pc1": 30.94843101501465,
          "pc2": 41.11335372924805
         },
         {
          "pc1": -19.11980628967285,
          "pc2": 7.349117755889893
         },
         {
          "pc1": 70.96041870117188,
          "pc2": -2.8735508918762207
         },
         {
          "pc1": 19.5605525970459,
          "pc2": 44.26015090942383
         },
         {
          "pc1": -11.410749435424805,
          "pc2": -20.50558090209961
         },
         {
          "pc1": 8.973095893859863,
          "pc2": -58.31404495239258
         },
         {
          "pc1": 55.17228317260742,
          "pc2": 7.733038425445557
         },
         {
          "pc1": -12.730466842651367,
          "pc2": 32.4789924621582
         },
         {
          "pc1": 33.6519889831543,
          "pc2": 17.882444381713867
         },
         {
          "pc1": 38.016578674316406,
          "pc2": 17.080169677734375
         },
         {
          "pc1": 41.4381103515625,
          "pc2": 41.30582809448242
         },
         {
          "pc1": 54.67125701904297,
          "pc2": 7.049026012420654
         },
         {
          "pc1": -14.628704071044922,
          "pc2": 66.6332015991211
         },
         {
          "pc1": 60.31610107421875,
          "pc2": 22.653797149658203
         },
         {
          "pc1": -52.26956558227539,
          "pc2": 40.76145553588867
         },
         {
          "pc1": 58.26079177856445,
          "pc2": 12.431344985961914
         },
         {
          "pc1": 4.324004650115967,
          "pc2": -86.06623077392578
         },
         {
          "pc1": 10.237404823303223,
          "pc2": 1.893798589706421
         },
         {
          "pc1": 29.867225646972656,
          "pc2": 41.262813568115234
         },
         {
          "pc1": 29.89537239074707,
          "pc2": -50.026527404785156
         },
         {
          "pc1": -34.788997650146484,
          "pc2": -54.30287551879883
         },
         {
          "pc1": 16.94503402709961,
          "pc2": -51.80923843383789
         },
         {
          "pc1": 50.42649841308594,
          "pc2": 4.920503616333008
         },
         {
          "pc1": 19.233970642089844,
          "pc2": 43.31401443481445
         },
         {
          "pc1": -28.718460083007812,
          "pc2": -0.80415940284729
         },
         {
          "pc1": 19.296831130981445,
          "pc2": -30.4815673828125
         },
         {
          "pc1": 36.69889450073242,
          "pc2": 17.036903381347656
         },
         {
          "pc1": -3.3470442295074463,
          "pc2": -22.430004119873047
         },
         {
          "pc1": 22.3015193939209,
          "pc2": 41.172119140625
         },
         {
          "pc1": 60.205810546875,
          "pc2": 17.00046157836914
         },
         {
          "pc1": -18.82283592224121,
          "pc2": 6.6468305587768555
         },
         {
          "pc1": 51.18507766723633,
          "pc2": 16.87125015258789
         },
         {
          "pc1": -38.464935302734375,
          "pc2": 52.10874557495117
         },
         {
          "pc1": 21.820571899414062,
          "pc2": -30.971572875976562
         },
         {
          "pc1": 20.552162170410156,
          "pc2": -29.962732315063477
         },
         {
          "pc1": -30.36762046813965,
          "pc2": -48.322303771972656
         },
         {
          "pc1": 37.946861267089844,
          "pc2": -7.931529521942139
         },
         {
          "pc1": -23.266035079956055,
          "pc2": 4.4880170822143555
         },
         {
          "pc1": 57.46434020996094,
          "pc2": 15.290515899658203
         },
         {
          "pc1": -5.406212329864502,
          "pc2": -49.54054260253906
         },
         {
          "pc1": -37.521087646484375,
          "pc2": 13.618365287780762
         },
         {
          "pc1": -48.2657470703125,
          "pc2": 8.854097366333008
         },
         {
          "pc1": 33.23211669921875,
          "pc2": 41.40482711791992
         },
         {
          "pc1": -55.671043395996094,
          "pc2": 38.503326416015625
         },
         {
          "pc1": 16.204757690429688,
          "pc2": 21.810876846313477
         },
         {
          "pc1": 0.8564280271530151,
          "pc2": 34.88349151611328
         },
         {
          "pc1": -23.183032989501953,
          "pc2": 54.00382995605469
         },
         {
          "pc1": 56.63544464111328,
          "pc2": -22.2724609375
         },
         {
          "pc1": -35.435638427734375,
          "pc2": -57.83376693725586
         },
         {
          "pc1": 40.17020797729492,
          "pc2": -4.446518898010254
         },
         {
          "pc1": 24.038734436035156,
          "pc2": -55.876487731933594
         },
         {
          "pc1": -20.736007690429688,
          "pc2": 6.148493766784668
         },
         {
          "pc1": -21.070215225219727,
          "pc2": 10.130516052246094
         },
         {
          "pc1": -33.830318450927734,
          "pc2": 0.45897164940834045
         },
         {
          "pc1": -20.655376434326172,
          "pc2": -77.83137512207031
         },
         {
          "pc1": 28.82798957824707,
          "pc2": -42.328914642333984
         },
         {
          "pc1": -39.468196868896484,
          "pc2": 13.640645027160645
         },
         {
          "pc1": -17.15214729309082,
          "pc2": -44.621646881103516
         },
         {
          "pc1": 5.645511627197266,
          "pc2": -28.993432998657227
         },
         {
          "pc1": 26.506881713867188,
          "pc2": 50.765281677246094
         },
         {
          "pc1": 57.43745040893555,
          "pc2": 26.20318031311035
         },
         {
          "pc1": 0.3455881178379059,
          "pc2": 62.140525817871094
         },
         {
          "pc1": 54.16208267211914,
          "pc2": -21.328628540039062
         },
         {
          "pc1": 8.247700691223145,
          "pc2": -25.385385513305664
         },
         {
          "pc1": 0.27562984824180603,
          "pc2": 0.8670705556869507
         },
         {
          "pc1": 6.12628173828125,
          "pc2": -23.456825256347656
         },
         {
          "pc1": -20.472633361816406,
          "pc2": 33.37907409667969
         },
         {
          "pc1": -14.61221981048584,
          "pc2": 32.9140625
         },
         {
          "pc1": 48.6519660949707,
          "pc2": 0.6331106424331665
         },
         {
          "pc1": -27.067190170288086,
          "pc2": 50.563758850097656
         },
         {
          "pc1": -20.114473342895508,
          "pc2": -77.04080963134766
         },
         {
          "pc1": 56.3025016784668,
          "pc2": 29.87179183959961
         },
         {
          "pc1": -33.67571258544922,
          "pc2": -19.78438377380371
         },
         {
          "pc1": -21.76620864868164,
          "pc2": -44.432247161865234
         },
         {
          "pc1": 17.32117462158203,
          "pc2": -58.5948600769043
         },
         {
          "pc1": -8.000890731811523,
          "pc2": -86.35717010498047
         },
         {
          "pc1": -43.21685791015625,
          "pc2": 12.23664665222168
         },
         {
          "pc1": 27.3679256439209,
          "pc2": 20.570802688598633
         },
         {
          "pc1": 5.822464942932129,
          "pc2": -56.72477340698242
         },
         {
          "pc1": 52.69551467895508,
          "pc2": 19.660913467407227
         },
         {
          "pc1": 41.85684585571289,
          "pc2": -4.509026050567627
         },
         {
          "pc1": 27.540040969848633,
          "pc2": -35.86711883544922
         },
         {
          "pc1": 13.180017471313477,
          "pc2": -26.10179328918457
         },
         {
          "pc1": -18.6112003326416,
          "pc2": 65.70751953125
         },
         {
          "pc1": -32.017913818359375,
          "pc2": -52.080440521240234
         },
         {
          "pc1": -11.550506591796875,
          "pc2": -45.84061050415039
         },
         {
          "pc1": 18.001352310180664,
          "pc2": 21.212617874145508
         },
         {
          "pc1": -58.86270523071289,
          "pc2": -8.469012260437012
         },
         {
          "pc1": -32.18025588989258,
          "pc2": -3.3286783695220947
         },
         {
          "pc1": -12.84089183807373,
          "pc2": 11.865729331970215
         },
         {
          "pc1": 29.9273624420166,
          "pc2": -12.680469512939453
         },
         {
          "pc1": 36.87385177612305,
          "pc2": -8.644292831420898
         },
         {
          "pc1": -0.7954466342926025,
          "pc2": 2.598700761795044
         },
         {
          "pc1": 54.56169128417969,
          "pc2": -23.87881088256836
         },
         {
          "pc1": -12.298738479614258,
          "pc2": -21.190322875976562
         },
         {
          "pc1": -31.328468322753906,
          "pc2": -3.176178216934204
         },
         {
          "pc1": 29.451875686645508,
          "pc2": -38.41307067871094
         },
         {
          "pc1": 25.523035049438477,
          "pc2": 42.93483352661133
         },
         {
          "pc1": 40.26054763793945,
          "pc2": 40.190311431884766
         },
         {
          "pc1": -10.574220657348633,
          "pc2": 66.67227172851562
         },
         {
          "pc1": -35.97762680053711,
          "pc2": -55.97607421875
         },
         {
          "pc1": -63.72610855102539,
          "pc2": -7.824303150177002
         },
         {
          "pc1": 59.25218963623047,
          "pc2": 25.50762367248535
         },
         {
          "pc1": -63.961490631103516,
          "pc2": -7.175416946411133
         },
         {
          "pc1": -13.965471267700195,
          "pc2": 31.390117645263672
         },
         {
          "pc1": 73.7367172241211,
          "pc2": 8.756486892700195
         },
         {
          "pc1": 57.79135513305664,
          "pc2": 9.547839164733887
         },
         {
          "pc1": -20.377965927124023,
          "pc2": 65.32211303710938
         },
         {
          "pc1": 36.588829040527344,
          "pc2": -8.464646339416504
         },
         {
          "pc1": 57.8162727355957,
          "pc2": 23.95408058166504
         },
         {
          "pc1": 51.29338073730469,
          "pc2": 18.125839233398438
         },
         {
          "pc1": 11.859452247619629,
          "pc2": -27.06340217590332
         },
         {
          "pc1": 32.058799743652344,
          "pc2": -7.421950340270996
         },
         {
          "pc1": -32.94157028198242,
          "pc2": -65.8014144897461
         },
         {
          "pc1": -24.470735549926758,
          "pc2": 24.934064865112305
         },
         {
          "pc1": -8.267439842224121,
          "pc2": -84.13513946533203
         },
         {
          "pc1": 55.05430221557617,
          "pc2": 27.291955947875977
         },
         {
          "pc1": 73.79906463623047,
          "pc2": 10.525666236877441
         },
         {
          "pc1": 37.096622467041016,
          "pc2": -9.55543041229248
         },
         {
          "pc1": 12.852668762207031,
          "pc2": -26.462818145751953
         },
         {
          "pc1": -9.971156120300293,
          "pc2": -83.73727416992188
         },
         {
          "pc1": -14.324923515319824,
          "pc2": 10.356700897216797
         },
         {
          "pc1": 57.6584587097168,
          "pc2": 24.400144577026367
         },
         {
          "pc1": -15.446847915649414,
          "pc2": -81.35650634765625
         },
         {
          "pc1": -45.36351776123047,
          "pc2": -20.040836334228516
         },
         {
          "pc1": -19.280197143554688,
          "pc2": -81.68505859375
         },
         {
          "pc1": 1.0576938390731812,
          "pc2": -22.223430633544922
         },
         {
          "pc1": -9.753483772277832,
          "pc2": -20.778383255004883
         },
         {
          "pc1": -26.21677017211914,
          "pc2": 5.785970687866211
         },
         {
          "pc1": 25.019868850708008,
          "pc2": 40.42416000366211
         },
         {
          "pc1": -33.727561950683594,
          "pc2": -64.93051147460938
         },
         {
          "pc1": 72.14510345458984,
          "pc2": -1.1847015619277954
         },
         {
          "pc1": -31.589929580688477,
          "pc2": 19.859453201293945
         },
         {
          "pc1": 3.438035726547241,
          "pc2": 53.898746490478516
         },
         {
          "pc1": 24.53787612915039,
          "pc2": -32.91510009765625
         },
         {
          "pc1": 32.83399963378906,
          "pc2": -1.4755637645721436
         },
         {
          "pc1": 8.595620155334473,
          "pc2": 8.329656600952148
         },
         {
          "pc1": 47.83891677856445,
          "pc2": 38.56926345825195
         },
         {
          "pc1": -20.610868453979492,
          "pc2": 34.63732147216797
         },
         {
          "pc1": 13.014403343200684,
          "pc2": 20.90658187866211
         },
         {
          "pc1": -27.381074905395508,
          "pc2": -46.60212707519531
         },
         {
          "pc1": 44.812435150146484,
          "pc2": 32.40851593017578
         },
         {
          "pc1": -42.78956985473633,
          "pc2": 11.763924598693848
         },
         {
          "pc1": 40.69496154785156,
          "pc2": -4.481250762939453
         },
         {
          "pc1": -20.835166931152344,
          "pc2": 26.501895904541016
         },
         {
          "pc1": -21.18511962890625,
          "pc2": 34.52876663208008
         },
         {
          "pc1": 33.00888442993164,
          "pc2": 41.1627311706543
         },
         {
          "pc1": -13.858441352844238,
          "pc2": 31.638322830200195
         },
         {
          "pc1": 12.762603759765625,
          "pc2": -27.479450225830078
         },
         {
          "pc1": -28.45501136779785,
          "pc2": -19.621286392211914
         },
         {
          "pc1": -14.161664009094238,
          "pc2": 32.937374114990234
         },
         {
          "pc1": 1.7989459037780762,
          "pc2": -54.28837585449219
         },
         {
          "pc1": -27.88065528869629,
          "pc2": -46.728302001953125
         },
         {
          "pc1": 2.8136439323425293,
          "pc2": 56.49654769897461
         },
         {
          "pc1": 16.51360511779785,
          "pc2": -58.7587890625
         },
         {
          "pc1": -27.337480545043945,
          "pc2": -73.39808654785156
         },
         {
          "pc1": 7.556973934173584,
          "pc2": -22.378231048583984
         },
         {
          "pc1": 30.454748153686523,
          "pc2": -3.6041271686553955
         },
         {
          "pc1": 70.7342300415039,
          "pc2": 6.02379846572876
         },
         {
          "pc1": 46.81231689453125,
          "pc2": 30.788726806640625
         },
         {
          "pc1": 29.513774871826172,
          "pc2": -12.459898948669434
         },
         {
          "pc1": 5.7798380851745605,
          "pc2": -6.207292079925537
         },
         {
          "pc1": 48.99580764770508,
          "pc2": 37.44483184814453
         },
         {
          "pc1": 28.398405075073242,
          "pc2": -10.599491119384766
         },
         {
          "pc1": 33.126163482666016,
          "pc2": -10.026477813720703
         },
         {
          "pc1": 36.96581268310547,
          "pc2": 17.600332260131836
         },
         {
          "pc1": -36.186641693115234,
          "pc2": -57.27199935913086
         },
         {
          "pc1": 61.53962707519531,
          "pc2": -19.753177642822266
         },
         {
          "pc1": -31.95231819152832,
          "pc2": 19.61980438232422
         },
         {
          "pc1": -8.94726848602295,
          "pc2": -48.192626953125
         },
         {
          "pc1": 33.73520278930664,
          "pc2": 18.81970977783203
         },
         {
          "pc1": -55.6249885559082,
          "pc2": -18.124860763549805
         },
         {
          "pc1": 9.847376823425293,
          "pc2": -25.173303604125977
         },
         {
          "pc1": 30.608022689819336,
          "pc2": 39.58065414428711
         },
         {
          "pc1": 16.769948959350586,
          "pc2": -29.064029693603516
         },
         {
          "pc1": 5.38991117477417,
          "pc2": -28.92649269104004
         },
         {
          "pc1": 10.5249662399292,
          "pc2": -58.38108825683594
         },
         {
          "pc1": -42.240718841552734,
          "pc2": 17.81186294555664
         },
         {
          "pc1": -24.461688995361328,
          "pc2": -45.00082015991211
         },
         {
          "pc1": 22.96143913269043,
          "pc2": 25.4411678314209
         },
         {
          "pc1": 55.69782638549805,
          "pc2": -23.765790939331055
         },
         {
          "pc1": 45.82831954956055,
          "pc2": -1.4554729461669922
         },
         {
          "pc1": -14.69439697265625,
          "pc2": -45.14518356323242
         },
         {
          "pc1": -16.112485885620117,
          "pc2": 31.308897018432617
         },
         {
          "pc1": 49.45127868652344,
          "pc2": 2.969285249710083
         },
         {
          "pc1": 54.81428527832031,
          "pc2": 31.92292022705078
         },
         {
          "pc1": 7.7912468910217285,
          "pc2": -7.691303730010986
         },
         {
          "pc1": -11.910579681396484,
          "pc2": -20.263277053833008
         },
         {
          "pc1": -57.943180084228516,
          "pc2": -8.860730171203613
         },
         {
          "pc1": 3.1076574325561523,
          "pc2": -22.2880802154541
         },
         {
          "pc1": -21.269380569458008,
          "pc2": 10.01213550567627
         },
         {
          "pc1": -32.04634475708008,
          "pc2": 16.47417449951172
         },
         {
          "pc1": 27.065155029296875,
          "pc2": -5.814425468444824
         },
         {
          "pc1": 16.34453582763672,
          "pc2": 21.6175594329834
         },
         {
          "pc1": -26.66316032409668,
          "pc2": 21.310749053955078
         },
         {
          "pc1": -11.508865356445312,
          "pc2": 12.034287452697754
         },
         {
          "pc1": 25.531272888183594,
          "pc2": -33.588722229003906
         },
         {
          "pc1": 52.69637680053711,
          "pc2": 19.76475715637207
         },
         {
          "pc1": -38.081085205078125,
          "pc2": -16.82999038696289
         },
         {
          "pc1": -31.066070556640625,
          "pc2": 59.893924713134766
         },
         {
          "pc1": 45.55474853515625,
          "pc2": -0.3077259659767151
         },
         {
          "pc1": 54.66672134399414,
          "pc2": -23.824684143066406
         },
         {
          "pc1": 19.78015899658203,
          "pc2": -57.7484245300293
         },
         {
          "pc1": -39.96571731567383,
          "pc2": 22.081279754638672
         },
         {
          "pc1": 27.72231101989746,
          "pc2": 20.952747344970703
         },
         {
          "pc1": 28.25732421875,
          "pc2": -36.33992004394531
         },
         {
          "pc1": -44.856998443603516,
          "pc2": 8.997444152832031
         },
         {
          "pc1": 25.332809448242188,
          "pc2": -48.62156295776367
         },
         {
          "pc1": -28.297306060791016,
          "pc2": 51.36793518066406
         },
         {
          "pc1": -0.0007872278802096844,
          "pc2": 33.362205505371094
         },
         {
          "pc1": -9.349233627319336,
          "pc2": -47.25565719604492
         },
         {
          "pc1": -35.15103530883789,
          "pc2": 57.0557861328125
         },
         {
          "pc1": -31.714324951171875,
          "pc2": 48.84992599487305
         },
         {
          "pc1": -34.949398040771484,
          "pc2": -54.513668060302734
         },
         {
          "pc1": 1.1495387554168701,
          "pc2": 37.66923904418945
         },
         {
          "pc1": -25.96311378479004,
          "pc2": -46.317195892333984
         },
         {
          "pc1": 49.494789123535156,
          "pc2": 0.9191518425941467
         },
         {
          "pc1": 19.499786376953125,
          "pc2": -34.11436080932617
         },
         {
          "pc1": -56.166259765625,
          "pc2": 36.996944427490234
         },
         {
          "pc1": -7.529648303985596,
          "pc2": -50.35165023803711
         },
         {
          "pc1": 32.910709381103516,
          "pc2": 19.279558181762695
         },
         {
          "pc1": -9.382604598999023,
          "pc2": -52.2737922668457
         },
         {
          "pc1": 25.65030288696289,
          "pc2": 51.07221603393555
         },
         {
          "pc1": 48.37568283081055,
          "pc2": 2.7799015045166016
         },
         {
          "pc1": -25.218305587768555,
          "pc2": 34.9986457824707
         },
         {
          "pc1": 22.3738956451416,
          "pc2": 22.290006637573242
         },
         {
          "pc1": 2.9644625186920166,
          "pc2": -4.011676788330078
         },
         {
          "pc1": 29.418184280395508,
          "pc2": -49.9075813293457
         },
         {
          "pc1": -29.35684585571289,
          "pc2": -71.2024154663086
         },
         {
          "pc1": 47.34580993652344,
          "pc2": 38.27204895019531
         },
         {
          "pc1": 44.5047492980957,
          "pc2": -5.421525478363037
         },
         {
          "pc1": -36.31818771362305,
          "pc2": 14.482593536376953
         },
         {
          "pc1": -39.31158447265625,
          "pc2": 51.52170181274414
         },
         {
          "pc1": -26.39027976989746,
          "pc2": -21.131309509277344
         },
         {
          "pc1": -30.81990623474121,
          "pc2": -49.20322036743164
         },
         {
          "pc1": 70.21023559570312,
          "pc2": -4.924810409545898
         },
         {
          "pc1": -21.594961166381836,
          "pc2": 9.749874114990234
         },
         {
          "pc1": 30.242277145385742,
          "pc2": -43.26628112792969
         },
         {
          "pc1": 18.404043197631836,
          "pc2": -28.66020965576172
         },
         {
          "pc1": -11.394486427307129,
          "pc2": -19.98518943786621
         },
         {
          "pc1": -34.530921936035156,
          "pc2": 57.583030700683594
         },
         {
          "pc1": -31.281232833862305,
          "pc2": 19.722484588623047
         },
         {
          "pc1": -29.587371826171875,
          "pc2": -48.042747497558594
         },
         {
          "pc1": -31.401517868041992,
          "pc2": -56.41024398803711
         },
         {
          "pc1": 58.90468215942383,
          "pc2": 14.86430549621582
         },
         {
          "pc1": -40.526058197021484,
          "pc2": 11.3515625
         },
         {
          "pc1": -12.487300872802734,
          "pc2": -77.27754211425781
         },
         {
          "pc1": -63.64496994018555,
          "pc2": -9.581512451171875
         },
         {
          "pc1": 21.22043800354004,
          "pc2": -25.365306854248047
         },
         {
          "pc1": -27.258359909057617,
          "pc2": -19.70616912841797
         },
         {
          "pc1": -31.567995071411133,
          "pc2": -3.3118629455566406
         },
         {
          "pc1": 31.278738021850586,
          "pc2": -4.776944637298584
         },
         {
          "pc1": -24.117473602294922,
          "pc2": -23.12568473815918
         },
         {
          "pc1": 23.792613983154297,
          "pc2": 51.77103042602539
         },
         {
          "pc1": -12.642966270446777,
          "pc2": 14.224482536315918
         },
         {
          "pc1": -9.364458084106445,
          "pc2": 66.86884307861328
         },
         {
          "pc1": -22.238052368164062,
          "pc2": -21.69342041015625
         },
         {
          "pc1": 7.5102620124816895,
          "pc2": -24.051029205322266
         },
         {
          "pc1": -34.2883186340332,
          "pc2": 18.099395751953125
         },
         {
          "pc1": -4.245543956756592,
          "pc2": -25.977750778198242
         },
         {
          "pc1": -23.66718292236328,
          "pc2": 3.670905828475952
         },
         {
          "pc1": 10.812972068786621,
          "pc2": -24.68484878540039
         },
         {
          "pc1": -52.78799819946289,
          "pc2": 39.80049514770508
         },
         {
          "pc1": 34.229400634765625,
          "pc2": 18.091161727905273
         },
         {
          "pc1": 35.72241973876953,
          "pc2": 17.509979248046875
         },
         {
          "pc1": -2.321218729019165,
          "pc2": 64.78553771972656
         },
         {
          "pc1": -24.27392578125,
          "pc2": 3.45318603515625
         },
         {
          "pc1": 26.040393829345703,
          "pc2": -52.47697067260742
         },
         {
          "pc1": -42.8201789855957,
          "pc2": 48.05538558959961
         },
         {
          "pc1": -28.81056785583496,
          "pc2": 61.8382453918457
         },
         {
          "pc1": -38.066097259521484,
          "pc2": 14.551865577697754
         },
         {
          "pc1": -34.73091506958008,
          "pc2": -56.9611930847168
         },
         {
          "pc1": -35.067081451416016,
          "pc2": -57.96210479736328
         },
         {
          "pc1": 0.56965571641922,
          "pc2": 31.263038635253906
         },
         {
          "pc1": -14.946965217590332,
          "pc2": -82.15618896484375
         },
         {
          "pc1": -28.112018585205078,
          "pc2": -73.12012481689453
         },
         {
          "pc1": -2.7859840393066406,
          "pc2": -20.281700134277344
         },
         {
          "pc1": -28.261079788208008,
          "pc2": -19.64751625061035
         },
         {
          "pc1": 33.648590087890625,
          "pc2": 19.119104385375977
         },
         {
          "pc1": -0.42181816697120667,
          "pc2": 14.450505256652832
         },
         {
          "pc1": -43.61930465698242,
          "pc2": 47.52427291870117
         },
         {
          "pc1": 16.454608917236328,
          "pc2": -58.47277069091797
         },
         {
          "pc1": -29.616147994995117,
          "pc2": -47.546295166015625
         },
         {
          "pc1": -20.160537719726562,
          "pc2": 25.984832763671875
         },
         {
          "pc1": 50.078365325927734,
          "pc2": 5.213325023651123
         },
         {
          "pc1": 18.78122901916504,
          "pc2": -29.871444702148438
         },
         {
          "pc1": -45.80000686645508,
          "pc2": 11.375962257385254
         },
         {
          "pc1": -17.20294761657715,
          "pc2": 8.168697357177734
         },
         {
          "pc1": -29.423582077026367,
          "pc2": -0.8611149191856384
         },
         {
          "pc1": 9.864068984985352,
          "pc2": -25.18404769897461
         },
         {
          "pc1": 5.315081596374512,
          "pc2": -22.671154022216797
         },
         {
          "pc1": -0.8164287805557251,
          "pc2": 3.06473445892334
         },
         {
          "pc1": 16.237483978271484,
          "pc2": -27.964075088500977
         },
         {
          "pc1": 32.67427444458008,
          "pc2": 40.1862678527832
         },
         {
          "pc1": -16.519514083862305,
          "pc2": -19.934791564941406
         },
         {
          "pc1": -21.66647720336914,
          "pc2": 24.900691986083984
         },
         {
          "pc1": 65.28472137451172,
          "pc2": -14.69167709350586
         },
         {
          "pc1": 0.1136670783162117,
          "pc2": 25.89781951904297
         },
         {
          "pc1": -37.25644302368164,
          "pc2": -18.27798843383789
         },
         {
          "pc1": 27.149656295776367,
          "pc2": -12.16336727142334
         },
         {
          "pc1": -30.20931625366211,
          "pc2": -1.9885962009429932
         },
         {
          "pc1": 0.5669756531715393,
          "pc2": 31.16998863220215
         },
         {
          "pc1": 16.95323944091797,
          "pc2": -29.161962509155273
         },
         {
          "pc1": 55.927833557128906,
          "pc2": -23.118619918823242
         },
         {
          "pc1": 65.59320068359375,
          "pc2": -16.233150482177734
         },
         {
          "pc1": -32.241661071777344,
          "pc2": 19.401607513427734
         },
         {
          "pc1": -15.163915634155273,
          "pc2": -20.80658531188965
         },
         {
          "pc1": 65.1428451538086,
          "pc2": -15.76352596282959
         },
         {
          "pc1": -38.903099060058594,
          "pc2": 21.323633193969727
         },
         {
          "pc1": -45.54393768310547,
          "pc2": 10.178353309631348
         },
         {
          "pc1": -41.61351776123047,
          "pc2": 18.304325103759766
         },
         {
          "pc1": 69.37338256835938,
          "pc2": -7.136593818664551
         },
         {
          "pc1": 42.07139205932617,
          "pc2": -4.824867248535156
         },
         {
          "pc1": -20.35161018371582,
          "pc2": 65.18214416503906
         },
         {
          "pc1": -19.680124282836914,
          "pc2": 6.166613578796387
         },
         {
          "pc1": 0.3910458981990814,
          "pc2": 0.3863670527935028
         },
         {
          "pc1": 64.55691528320312,
          "pc2": -15.657864570617676
         },
         {
          "pc1": 23.22669219970703,
          "pc2": 40.84515380859375
         },
         {
          "pc1": 26.094165802001953,
          "pc2": -35.14802551269531
         },
         {
          "pc1": 9.688039779663086,
          "pc2": -3.6168274879455566
         },
         {
          "pc1": 4.640074729919434,
          "pc2": -55.30792236328125
         },
         {
          "pc1": -4.66727876663208,
          "pc2": -21.496829986572266
         },
         {
          "pc1": 42.614891052246094,
          "pc2": 39.794342041015625
         },
         {
          "pc1": -43.608367919921875,
          "pc2": 47.52825164794922
         },
         {
          "pc1": -38.93987274169922,
          "pc2": 53.3635139465332
         },
         {
          "pc1": 18.624570846557617,
          "pc2": 42.24714279174805
         },
         {
          "pc1": -20.406652450561523,
          "pc2": -45.0400390625
         },
         {
          "pc1": -41.26295471191406,
          "pc2": 12.368807792663574
         },
         {
          "pc1": -14.264662742614746,
          "pc2": -81.7027587890625
         },
         {
          "pc1": 22.558862686157227,
          "pc2": 21.566368103027344
         },
         {
          "pc1": -8.739997863769531,
          "pc2": -84.5983657836914
         },
         {
          "pc1": 58.274192810058594,
          "pc2": 10.266011238098145
         },
         {
          "pc1": 58.56285858154297,
          "pc2": 13.696049690246582
         },
         {
          "pc1": 19.42599868774414,
          "pc2": 25.884010314941406
         },
         {
          "pc1": 57.168479919433594,
          "pc2": 24.6612606048584
         },
         {
          "pc1": 0.7013365030288696,
          "pc2": 33.215972900390625
         },
         {
          "pc1": 57.15338134765625,
          "pc2": 12.998936653137207
         },
         {
          "pc1": -48.594154357910156,
          "pc2": 43.12293243408203
         },
         {
          "pc1": -46.3770866394043,
          "pc2": 9.927214622497559
         },
         {
          "pc1": -15.999354362487793,
          "pc2": 9.30865478515625
         },
         {
          "pc1": -32.23710250854492,
          "pc2": -60.93194580078125
         },
         {
          "pc1": 36.40494155883789,
          "pc2": 17.551530838012695
         },
         {
          "pc1": -1.9838279485702515,
          "pc2": -50.86188507080078
         },
         {
          "pc1": 21.894166946411133,
          "pc2": 21.581708908081055
         },
         {
          "pc1": -23.518898010253906,
          "pc2": 34.96626663208008
         },
         {
          "pc1": -34.06287384033203,
          "pc2": -52.43241882324219
         },
         {
          "pc1": 22.698965072631836,
          "pc2": -31.00826072692871
         },
         {
          "pc1": 45.18111801147461,
          "pc2": -3.570260763168335
         },
         {
          "pc1": 72.63787078857422,
          "pc2": 3.5562727451324463
         },
         {
          "pc1": -22.540559768676758,
          "pc2": -76.27595520019531
         },
         {
          "pc1": 56.66875457763672,
          "pc2": -22.741378784179688
         },
         {
          "pc1": 36.118621826171875,
          "pc2": 20.091102600097656
         },
         {
          "pc1": 34.71577072143555,
          "pc2": 0.041993025690317154
         },
         {
          "pc1": -26.2347354888916,
          "pc2": 22.282779693603516
         },
         {
          "pc1": 3.2693142890930176,
          "pc2": 54.79950714111328
         },
         {
          "pc1": 47.71099853515625,
          "pc2": -0.859776496887207
         },
         {
          "pc1": -8.289532661437988,
          "pc2": -86.23728942871094
         },
         {
          "pc1": -21.226016998291016,
          "pc2": 5.703618049621582
         },
         {
          "pc1": 31.413551330566406,
          "pc2": -42.078060150146484
         },
         {
          "pc1": 6.358670711517334,
          "pc2": -23.978221893310547
         },
         {
          "pc1": -14.28547477722168,
          "pc2": -20.124204635620117
         },
         {
          "pc1": -47.51979446411133,
          "pc2": -19.755870819091797
         },
         {
          "pc1": -19.35919952392578,
          "pc2": -45.21849822998047
         },
         {
          "pc1": 24.495054244995117,
          "pc2": 40.60171127319336
         },
         {
          "pc1": -40.613006591796875,
          "pc2": -19.628955841064453
         },
         {
          "pc1": 31.228042602539062,
          "pc2": -43.380001068115234
         },
         {
          "pc1": 30.496824264526367,
          "pc2": -48.683197021484375
         },
         {
          "pc1": -54.41260528564453,
          "pc2": 39.4591064453125
         },
         {
          "pc1": -12.286754608154297,
          "pc2": -45.23896408081055
         },
         {
          "pc1": -35.142921447753906,
          "pc2": -56.48125457763672
         },
         {
          "pc1": -56.062713623046875,
          "pc2": 38.277587890625
         },
         {
          "pc1": 33.82741165161133,
          "pc2": 19.031572341918945
         },
         {
          "pc1": 10.132878303527832,
          "pc2": 20.36078453063965
         },
         {
          "pc1": -25.341197967529297,
          "pc2": 24.54259490966797
         },
         {
          "pc1": -32.207462310791016,
          "pc2": -63.12222671508789
         },
         {
          "pc1": -42.15949249267578,
          "pc2": 19.52910804748535
         },
         {
          "pc1": 29.406200408935547,
          "pc2": -10.711385726928711
         },
         {
          "pc1": 11.528237342834473,
          "pc2": -59.05189895629883
         },
         {
          "pc1": -21.18313980102539,
          "pc2": -19.453994750976562
         },
         {
          "pc1": 21.226245880126953,
          "pc2": -25.359037399291992
         },
         {
          "pc1": 0.12013649940490723,
          "pc2": -81.85778045654297
         },
         {
          "pc1": 26.400161743164062,
          "pc2": 21.614261627197266
         },
         {
          "pc1": -40.60206604003906,
          "pc2": 12.421685218811035
         },
         {
          "pc1": -4.704868793487549,
          "pc2": 66.97560119628906
         },
         {
          "pc1": -45.29644012451172,
          "pc2": 9.630608558654785
         },
         {
          "pc1": 30.315296173095703,
          "pc2": -40.50908279418945
         },
         {
          "pc1": 51.013832092285156,
          "pc2": 4.507706165313721
         },
         {
          "pc1": -1.800086259841919,
          "pc2": -51.697147369384766
         },
         {
          "pc1": 58.0082893371582,
          "pc2": 26.603076934814453
         },
         {
          "pc1": 31.89165496826172,
          "pc2": -46.35159683227539
         },
         {
          "pc1": 17.24321937561035,
          "pc2": -51.762935638427734
         },
         {
          "pc1": -2.6883251667022705,
          "pc2": -20.75345230102539
         },
         {
          "pc1": -54.88578796386719,
          "pc2": -18.205398559570312
         },
         {
          "pc1": -6.928460121154785,
          "pc2": -47.56583023071289
         },
         {
          "pc1": -18.555360794067383,
          "pc2": 31.694007873535156
         },
         {
          "pc1": 14.420239448547363,
          "pc2": 20.55350685119629
         },
         {
          "pc1": -46.55657196044922,
          "pc2": 7.736710071563721
         },
         {
          "pc1": 1.044726848602295,
          "pc2": 27.091171264648438
         },
         {
          "pc1": -22.165746688842773,
          "pc2": -77.05216217041016
         },
         {
          "pc1": 31.76573944091797,
          "pc2": 41.84545135498047
         },
         {
          "pc1": -52.18678283691406,
          "pc2": 31.491910934448242
         },
         {
          "pc1": 19.29192543029785,
          "pc2": 42.98706817626953
         },
         {
          "pc1": 28.302263259887695,
          "pc2": -37.0670280456543
         },
         {
          "pc1": -30.094371795654297,
          "pc2": -47.77983474731445
         },
         {
          "pc1": 20.770723342895508,
          "pc2": -30.093469619750977
         },
         {
          "pc1": 60.83910369873047,
          "pc2": 17.14185333251953
         },
         {
          "pc1": 9.666121482849121,
          "pc2": 5.8168253898620605
         },
         {
          "pc1": 58.785682678222656,
          "pc2": 14.354340553283691
         },
         {
          "pc1": 9.430194854736328,
          "pc2": -58.8463249206543
         },
         {
          "pc1": 34.04351806640625,
          "pc2": 18.177047729492188
         },
         {
          "pc1": 3.9479589462280273,
          "pc2": -54.50223159790039
         },
         {
          "pc1": 29.858814239501953,
          "pc2": -8.3970365524292
         },
         {
          "pc1": 18.889564514160156,
          "pc2": -30.042306900024414
         },
         {
          "pc1": 72.79389953613281,
          "pc2": 1.2101563215255737
         },
         {
          "pc1": -23.334110260009766,
          "pc2": 27.51968002319336
         },
         {
          "pc1": -30.94111442565918,
          "pc2": -48.53779220581055
         },
         {
          "pc1": 57.672203063964844,
          "pc2": 19.207555770874023
         },
         {
          "pc1": -8.169509887695312,
          "pc2": -47.568294525146484
         },
         {
          "pc1": 52.631710052490234,
          "pc2": 3.4247000217437744
         },
         {
          "pc1": 17.339509963989258,
          "pc2": -51.745296478271484
         },
         {
          "pc1": -1.5260376930236816,
          "pc2": -21.24563217163086
         },
         {
          "pc1": 52.64655685424805,
          "pc2": 32.185726165771484
         },
         {
          "pc1": 19.358253479003906,
          "pc2": 25.88521957397461
         },
         {
          "pc1": -41.94375228881836,
          "pc2": 12.062862396240234
         },
         {
          "pc1": -24.040468215942383,
          "pc2": 4.103659152984619
         },
         {
          "pc1": -30.18182373046875,
          "pc2": 48.46139144897461
         },
         {
          "pc1": 30.19768714904785,
          "pc2": -49.6490592956543
         },
         {
          "pc1": -5.2449235916137695,
          "pc2": -21.000978469848633
         },
         {
          "pc1": -38.5662956237793,
          "pc2": 16.199844360351562
         },
         {
          "pc1": 59.66568374633789,
          "pc2": 13.994643211364746
         },
         {
          "pc1": 8.463306427001953,
          "pc2": 6.206674575805664
         },
         {
          "pc1": 45.20259094238281,
          "pc2": 41.06691360473633
         },
         {
          "pc1": -7.139225959777832,
          "pc2": -21.18836784362793
         },
         {
          "pc1": 28.306501388549805,
          "pc2": -52.694374084472656
         },
         {
          "pc1": 2.6379952430725098,
          "pc2": 45.29994583129883
         },
         {
          "pc1": -50.237449645996094,
          "pc2": 42.36039733886719
         },
         {
          "pc1": 32.58336639404297,
          "pc2": 19.37864112854004
         },
         {
          "pc1": -25.895578384399414,
          "pc2": -75.27960205078125
         },
         {
          "pc1": -42.61577224731445,
          "pc2": -20.41136932373047
         },
         {
          "pc1": 68.03379821777344,
          "pc2": -2.8273866176605225
         },
         {
          "pc1": 7.78442907333374,
          "pc2": -25.009138107299805
         },
         {
          "pc1": 9.461429595947266,
          "pc2": -3.274322032928467
         },
         {
          "pc1": 0.5996057987213135,
          "pc2": 16.277185440063477
         },
         {
          "pc1": 31.283674240112305,
          "pc2": -43.71406936645508
         },
         {
          "pc1": 5.561951160430908,
          "pc2": -57.066917419433594
         },
         {
          "pc1": 21.0009822845459,
          "pc2": 41.6003303527832
         },
         {
          "pc1": 2.470027446746826,
          "pc2": -54.739341735839844
         },
         {
          "pc1": -57.40945816040039,
          "pc2": 38.33662796020508
         },
         {
          "pc1": 0.49834373593330383,
          "pc2": 13.288934707641602
         },
         {
          "pc1": -21.298030853271484,
          "pc2": 9.991942405700684
         },
         {
          "pc1": 44.24936294555664,
          "pc2": -4.573152542114258
         },
         {
          "pc1": 43.16891098022461,
          "pc2": 42.11420440673828
         },
         {
          "pc1": 14.084397315979004,
          "pc2": 21.11504364013672
         },
         {
          "pc1": 8.698253631591797,
          "pc2": -58.11880111694336
         },
         {
          "pc1": -21.497421264648438,
          "pc2": -76.97477722167969
         },
         {
          "pc1": -22.552000045776367,
          "pc2": -47.87410354614258
         },
         {
          "pc1": 39.632083892822266,
          "pc2": 43.343849182128906
         },
         {
          "pc1": -17.27008628845215,
          "pc2": -45.2409782409668
         },
         {
          "pc1": 24.84966468811035,
          "pc2": 21.431346893310547
         },
         {
          "pc1": -16.9285888671875,
          "pc2": 66.17870330810547
         },
         {
          "pc1": 26.261823654174805,
          "pc2": -34.1976318359375
         },
         {
          "pc1": -26.782155990600586,
          "pc2": 1.0799190998077393
         },
         {
          "pc1": 10.404573440551758,
          "pc2": -25.451486587524414
         },
         {
          "pc1": 5.3140130043029785,
          "pc2": -23.685625076293945
         },
         {
          "pc1": 49.150230407714844,
          "pc2": 0.18554900586605072
         },
         {
          "pc1": 35.739105224609375,
          "pc2": 41.372310638427734
         },
         {
          "pc1": 29.770872116088867,
          "pc2": 49.54088592529297
         },
         {
          "pc1": -34.63612365722656,
          "pc2": 15.136594772338867
         },
         {
          "pc1": -0.9003059267997742,
          "pc2": -54.509552001953125
         },
         {
          "pc1": -15.307117462158203,
          "pc2": -24.7932186126709
         },
         {
          "pc1": 19.550458908081055,
          "pc2": -34.14461898803711
         },
         {
          "pc1": -40.87638854980469,
          "pc2": 20.916658401489258
         },
         {
          "pc1": 5.007823944091797,
          "pc2": -55.629722595214844
         },
         {
          "pc1": 73.64556121826172,
          "pc2": 7.681913375854492
         },
         {
          "pc1": -22.97760772705078,
          "pc2": -76.29048919677734
         },
         {
          "pc1": 16.69338035583496,
          "pc2": -29.35824966430664
         },
         {
          "pc1": 30.798532485961914,
          "pc2": -44.32169723510742
         },
         {
          "pc1": 32.86463928222656,
          "pc2": 18.84497833251953
         },
         {
          "pc1": 27.020263671875,
          "pc2": -11.869339942932129
         },
         {
          "pc1": 54.52907180786133,
          "pc2": 27.749807357788086
         },
         {
          "pc1": -20.17725944519043,
          "pc2": 33.535030364990234
         },
         {
          "pc1": 23.44956398010254,
          "pc2": 42.42559051513672
         },
         {
          "pc1": 34.10627365112305,
          "pc2": 47.9058952331543
         },
         {
          "pc1": 13.76567268371582,
          "pc2": 21.540855407714844
         },
         {
          "pc1": 51.00613784790039,
          "pc2": 15.470011711120605
         },
         {
          "pc1": 0.3310670554637909,
          "pc2": -23.250450134277344
         },
         {
          "pc1": -23.427785873413086,
          "pc2": -71.58053588867188
         },
         {
          "pc1": -0.13182364404201508,
          "pc2": 1.2110992670059204
         },
         {
          "pc1": 2.4286773204803467,
          "pc2": 58.08869171142578
         },
         {
          "pc1": 51.85139465332031,
          "pc2": 14.1446533203125
         },
         {
          "pc1": 58.754920959472656,
          "pc2": 19.941347122192383
         },
         {
          "pc1": -23.814176559448242,
          "pc2": 3.61132550239563
         },
         {
          "pc1": 10.573418617248535,
          "pc2": 20.315555572509766
         },
         {
          "pc1": 27.972095489501953,
          "pc2": -11.924285888671875
         },
         {
          "pc1": -28.574081420898438,
          "pc2": 20.09241485595703
         },
         {
          "pc1": 39.15376281738281,
          "pc2": 42.903602600097656
         },
         {
          "pc1": 56.18650817871094,
          "pc2": -23.42281723022461
         },
         {
          "pc1": 45.24515151977539,
          "pc2": -1.79167902469635
         },
         {
          "pc1": 12.06255054473877,
          "pc2": -59.02729415893555
         },
         {
          "pc1": -44.19489669799805,
          "pc2": 17.72584342956543
         },
         {
          "pc1": 2.1947009563446045,
          "pc2": -56.51731491088867
         },
         {
          "pc1": -28.087980270385742,
          "pc2": 51.5340690612793
         },
         {
          "pc1": -5.744984149932861,
          "pc2": -48.908714294433594
         },
         {
          "pc1": 21.04438018798828,
          "pc2": -30.41398811340332
         },
         {
          "pc1": 9.79420280456543,
          "pc2": 7.41809606552124
         }
        ],
        "data-85af4477bc48fe5d217bf992f1a219e9": [
         {
          "pc1": 33.11481857299805,
          "pc2": -10.386757850646973
         },
         {
          "pc1": 47.354732513427734,
          "pc2": 30.31987762451172
         },
         {
          "pc1": -33.03599166870117,
          "pc2": -64.51049041748047
         },
         {
          "pc1": 10.007338523864746,
          "pc2": 8.518497467041016
         },
         {
          "pc1": -10.406543731689453,
          "pc2": -21.535518646240234
         },
         {
          "pc1": -48.109710693359375,
          "pc2": 7.121131896972656
         },
         {
          "pc1": 2.553290605545044,
          "pc2": -54.520591735839844
         }
        ],
        "data-cc0c2c9d7b98fbde22143069508206f6": [
         {
          "pc1": -7.821175575256348,
          "pc2": -84.21587371826172
         },
         {
          "pc1": 59.27986526489258,
          "pc2": 11.48080825805664
         },
         {
          "pc1": 25.352176666259766,
          "pc2": -54.98651885986328
         },
         {
          "pc1": 22.413009643554688,
          "pc2": -31.454618453979492
         },
         {
          "pc1": 18.101417541503906,
          "pc2": -57.5694580078125
         },
         {
          "pc1": -57.40174865722656,
          "pc2": -17.63909149169922
         },
         {
          "pc1": 73.71552276611328,
          "pc2": 9.66628646850586
         },
         {
          "pc1": 7.91814661026001,
          "pc2": -24.011924743652344
         },
         {
          "pc1": 63.64195251464844,
          "pc2": -16.700490951538086
         },
         {
          "pc1": 2.746925115585327,
          "pc2": -55.1204948425293
         },
         {
          "pc1": 31.966419219970703,
          "pc2": -43.72937774658203
         },
         {
          "pc1": 18.87953758239746,
          "pc2": 43.00244140625
         },
         {
          "pc1": -14.115321159362793,
          "pc2": -81.67701721191406
         },
         {
          "pc1": 18.363977432250977,
          "pc2": 44.372840881347656
         },
         {
          "pc1": 0.3096703886985779,
          "pc2": 11.009644508361816
         },
         {
          "pc1": 26.56633949279785,
          "pc2": 50.741458892822266
         },
         {
          "pc1": 6.814021587371826,
          "pc2": -23.713613510131836
         },
         {
          "pc1": 50.49531936645508,
          "pc2": 29.73456573486328
         },
         {
          "pc1": -31.087953567504883,
          "pc2": -2.97094988822937
         },
         {
          "pc1": 59.646339416503906,
          "pc2": 12.322409629821777
         },
         {
          "pc1": -50.8605842590332,
          "pc2": -19.606359481811523
         },
         {
          "pc1": 49.02029800415039,
          "pc2": 0.3359071910381317
         },
         {
          "pc1": 20.550762176513672,
          "pc2": -57.73038864135742
         },
         {
          "pc1": -55.85138702392578,
          "pc2": -18.312780380249023
         },
         {
          "pc1": -61.50724792480469,
          "pc2": -8.21566390991211
         },
         {
          "pc1": 2.844494581222534,
          "pc2": -85.11688995361328
         },
         {
          "pc1": 62.17354965209961,
          "pc2": -10.857009887695312
         },
         {
          "pc1": 5.464680194854736,
          "pc2": 30.378206253051758
         },
         {
          "pc1": 33.911216735839844,
          "pc2": -11.527502059936523
         },
         {
          "pc1": 2.2962937355041504,
          "pc2": 42.60987854003906
         },
         {
          "pc1": 18.560771942138672,
          "pc2": -51.418724060058594
         },
         {
          "pc1": 11.247756004333496,
          "pc2": -25.75062370300293
         },
         {
          "pc1": 0.8225218653678894,
          "pc2": 32.567501068115234
         },
         {
          "pc1": -10.43030071258545,
          "pc2": -20.639007568359375
         },
         {
          "pc1": -0.003252919763326645,
          "pc2": -51.56146240234375
         },
         {
          "pc1": 22.218624114990234,
          "pc2": 22.295879364013672
         },
         {
          "pc1": 56.13534164428711,
          "pc2": -19.511194229125977
         },
         {
          "pc1": -28.562063217163086,
          "pc2": -1.226784586906433
         },
         {
          "pc1": 39.03718185424805,
          "pc2": 40.905269622802734
         },
         {
          "pc1": 4.883965015411377,
          "pc2": -22.984830856323242
         },
         {
          "pc1": 33.09014892578125,
          "pc2": 18.677978515625
         },
         {
          "pc1": 3.728285551071167,
          "pc2": -85.68500518798828
         },
         {
          "pc1": 52.579532623291016,
          "pc2": 3.227414131164551
         },
         {
          "pc1": 34.973663330078125,
          "pc2": 46.9049072265625
         },
         {
          "pc1": -64.1362075805664,
          "pc2": -6.417796611785889
         },
         {
          "pc1": 48.8082389831543,
          "pc2": 1.63057279586792
         },
         {
          "pc1": -20.53750228881836,
          "pc2": 6.780847072601318
         },
         {
          "pc1": 5.801372051239014,
          "pc2": -56.98098373413086
         },
         {
          "pc1": 1.325939416885376,
          "pc2": 39.22694396972656
         },
         {
          "pc1": -46.68968200683594,
          "pc2": 44.6511344909668
         },
         {
          "pc1": -51.20075988769531,
          "pc2": -19.487611770629883
         },
         {
          "pc1": 29.35184669494629,
          "pc2": -50.70454025268555
         },
         {
          "pc1": 72.8742446899414,
          "pc2": 2.6540825366973877
         },
         {
          "pc1": -44.74596405029297,
          "pc2": -15.761438369750977
         },
         {
          "pc1": 16.059080123901367,
          "pc2": -51.901241302490234
         },
         {
          "pc1": 71.21708679199219,
          "pc2": -3.3209731578826904
         },
         {
          "pc1": -23.984041213989258,
          "pc2": 3.161614418029785
         },
         {
          "pc1": 18.711946487426758,
          "pc2": -58.3539924621582
         },
         {
          "pc1": 2.2750399112701416,
          "pc2": -3.39945912361145
         },
         {
          "pc1": -12.264410018920898,
          "pc2": 12.701976776123047
         },
         {
          "pc1": -23.216880798339844,
          "pc2": -44.76508712768555
         },
         {
          "pc1": -15.281115531921387,
          "pc2": -81.59708404541016
         },
         {
          "pc1": -60.46820831298828,
          "pc2": -13.106363296508789
         },
         {
          "pc1": -15.180929183959961,
          "pc2": 31.125749588012695
         },
         {
          "pc1": -21.758203506469727,
          "pc2": -19.486568450927734
         },
         {
          "pc1": -32.90285873413086,
          "pc2": -19.763174057006836
         },
         {
          "pc1": 11.110686302185059,
          "pc2": -58.873619079589844
         },
         {
          "pc1": 33.94266891479492,
          "pc2": -10.90532398223877
         },
         {
          "pc1": -24.853036880493164,
          "pc2": 63.3931999206543
         },
         {
          "pc1": -2.7849085330963135,
          "pc2": 51.73244857788086
         },
         {
          "pc1": 25.177120208740234,
          "pc2": 49.746376037597656
         },
         {
          "pc1": 29.636245727539062,
          "pc2": -5.704310417175293
         },
         {
          "pc1": -19.1561279296875,
          "pc2": -81.81568908691406
         },
         {
          "pc1": 28.63931655883789,
          "pc2": -37.274009704589844
         },
         {
          "pc1": -22.8383846282959,
          "pc2": -47.991580963134766
         },
         {
          "pc1": 71.90129089355469,
          "pc2": -0.6781758666038513
         },
         {
          "pc1": -46.96753692626953,
          "pc2": 44.39706802368164
         },
         {
          "pc1": 30.139019012451172,
          "pc2": 41.2137565612793
         },
         {
          "pc1": 13.498672485351562,
          "pc2": -26.677352905273438
         },
         {
          "pc1": -0.3577715754508972,
          "pc2": -21.901138305664062
         },
         {
          "pc1": 56.1579475402832,
          "pc2": 8.145851135253906
         },
         {
          "pc1": 16.172306060791016,
          "pc2": -58.823089599609375
         },
         {
          "pc1": 26.310747146606445,
          "pc2": -35.56142044067383
         },
         {
          "pc1": 46.53089904785156,
          "pc2": 5.533751964569092
         },
         {
          "pc1": -9.700406074523926,
          "pc2": -83.87792205810547
         },
         {
          "pc1": -39.94374465942383,
          "pc2": 11.260773658752441
         },
         {
          "pc1": -43.269412994384766,
          "pc2": -19.82124900817871
         },
         {
          "pc1": -0.4899541437625885,
          "pc2": -85.64481353759766
         },
         {
          "pc1": -7.909703254699707,
          "pc2": -47.73600387573242
         },
         {
          "pc1": -48.27303695678711,
          "pc2": 10.243368148803711
         },
         {
          "pc1": -30.09789276123047,
          "pc2": -1.1284397840499878
         },
         {
          "pc1": -5.756384372711182,
          "pc2": -23.498180389404297
         },
         {
          "pc1": -8.368066787719727,
          "pc2": -84.10423278808594
         },
         {
          "pc1": -32.29909133911133,
          "pc2": -68.5718765258789
         },
         {
          "pc1": 7.494626522064209,
          "pc2": -7.18818998336792
         },
         {
          "pc1": -33.16007995605469,
          "pc2": -65.7723388671875
         },
         {
          "pc1": -22.221406936645508,
          "pc2": -45.0251350402832
         },
         {
          "pc1": -31.524484634399414,
          "pc2": -67.93023681640625
         },
         {
          "pc1": 55.40122985839844,
          "pc2": 31.557296752929688
         },
         {
          "pc1": 45.35155487060547,
          "pc2": 33.2956428527832
         },
         {
          "pc1": 59.689788818359375,
          "pc2": 12.455589294433594
         },
         {
          "pc1": 24.115270614624023,
          "pc2": -32.410072326660156
         },
         {
          "pc1": 10.151461601257324,
          "pc2": -26.104766845703125
         },
         {
          "pc1": -33.89897155761719,
          "pc2": 15.585959434509277
         },
         {
          "pc1": -21.37257957458496,
          "pc2": -19.773523330688477
         },
         {
          "pc1": 26.97823143005371,
          "pc2": -35.12879180908203
         },
         {
          "pc1": 5.18398904800415,
          "pc2": -56.67607116699219
         },
         {
          "pc1": 36.25931930541992,
          "pc2": 1.0977495908737183
         },
         {
          "pc1": -1.306545615196228,
          "pc2": 63.734535217285156
         },
         {
          "pc1": 48.29538345336914,
          "pc2": 6.372452735900879
         },
         {
          "pc1": -26.50003433227539,
          "pc2": 1.5525949001312256
         },
         {
          "pc1": 60.463191986083984,
          "pc2": -20.518259048461914
         },
         {
          "pc1": 1.3824691772460938,
          "pc2": -53.621402740478516
         },
         {
          "pc1": 30.831018447875977,
          "pc2": -12.366737365722656
         },
         {
          "pc1": -30.2338924407959,
          "pc2": 22.775022506713867
         },
         {
          "pc1": -4.725702285766602,
          "pc2": 54.35095977783203
         },
         {
          "pc1": -64.21659851074219,
          "pc2": -9.452481269836426
         },
         {
          "pc1": 5.9573235511779785,
          "pc2": -55.99721145629883
         },
         {
          "pc1": -48.00639343261719,
          "pc2": -20.098215103149414
         },
         {
          "pc1": 7.086243152618408,
          "pc2": -24.2919921875
         },
         {
          "pc1": 67.84835052490234,
          "pc2": -9.507352828979492
         },
         {
          "pc1": 32.1032600402832,
          "pc2": 41.2794303894043
         },
         {
          "pc1": 22.755971908569336,
          "pc2": -56.33731460571289
         },
         {
          "pc1": -21.008825302124023,
          "pc2": -79.77053833007812
         },
         {
          "pc1": 26.6573543548584,
          "pc2": -53.58489227294922
         },
         {
          "pc1": 25.242307662963867,
          "pc2": 21.067119598388672
         },
         {
          "pc1": 38.47737121582031,
          "pc2": -7.8518171310424805
         },
         {
          "pc1": -29.99446678161621,
          "pc2": -48.14496994018555
         },
         {
          "pc1": 30.840097427368164,
          "pc2": -40.646854400634766
         },
         {
          "pc1": -15.31637191772461,
          "pc2": -24.793609619140625
         },
         {
          "pc1": -3.165322780609131,
          "pc2": -26.76621437072754
         },
         {
          "pc1": -21.727893829345703,
          "pc2": -77.54900360107422
         },
         {
          "pc1": 24.598712921142578,
          "pc2": -42.41501998901367
         },
         {
          "pc1": 9.00527286529541,
          "pc2": 1.299516201019287
         },
         {
          "pc1": -18.585216522216797,
          "pc2": -84.09385681152344
         },
         {
          "pc1": -4.466611385345459,
          "pc2": -22.148563385009766
         },
         {
          "pc1": -15.155938148498535,
          "pc2": -76.15081024169922
         },
         {
          "pc1": 45.28123092651367,
          "pc2": -1.38581120967865
         },
         {
          "pc1": -32.10070037841797,
          "pc2": -49.84221649169922
         },
         {
          "pc1": 0.015622400678694248,
          "pc2": 62.264896392822266
         },
         {
          "pc1": 15.771015167236328,
          "pc2": -27.410696029663086
         },
         {
          "pc1": 56.38699722290039,
          "pc2": 7.531306266784668
         },
         {
          "pc1": 25.91057586669922,
          "pc2": 50.9909782409668
         },
         {
          "pc1": 64.10475158691406,
          "pc2": -15.966772079467773
         },
         {
          "pc1": -16.348512649536133,
          "pc2": 8.80291748046875
         },
         {
          "pc1": 62.67170715332031,
          "pc2": -9.842437744140625
         },
         {
          "pc1": -17.046899795532227,
          "pc2": 32.957008361816406
         },
         {
          "pc1": -29.97563934326172,
          "pc2": -48.82724380493164
         },
         {
          "pc1": -0.5852147936820984,
          "pc2": -52.9516716003418
         },
         {
          "pc1": 2.725100517272949,
          "pc2": 57.294158935546875
         },
         {
          "pc1": 31.190696716308594,
          "pc2": -45.16781997680664
         },
         {
          "pc1": -1.4842053651809692,
          "pc2": -51.908016204833984
         },
         {
          "pc1": 7.217670440673828,
          "pc2": -57.54042053222656
         },
         {
          "pc1": -2.7542741298675537,
          "pc2": 64.79075622558594
         },
         {
          "pc1": 73.05905151367188,
          "pc2": 4.795159816741943
         },
         {
          "pc1": -1.4054443836212158,
          "pc2": -21.831464767456055
         },
         {
          "pc1": -28.130929946899414,
          "pc2": -20.205923080444336
         },
         {
          "pc1": -26.571500778198242,
          "pc2": -46.468318939208984
         },
         {
          "pc1": -35.236854553222656,
          "pc2": -56.7617073059082
         },
         {
          "pc1": 25.338346481323242,
          "pc2": -32.84320831298828
         },
         {
          "pc1": 26.03704833984375,
          "pc2": -52.48182678222656
         },
         {
          "pc1": 24.323162078857422,
          "pc2": -56.82961654663086
         },
         {
          "pc1": -4.758523464202881,
          "pc2": -23.519123077392578
         },
         {
          "pc1": 30.027137756347656,
          "pc2": -49.25724792480469
         },
         {
          "pc1": -48.93352127075195,
          "pc2": 7.276578426361084
         },
         {
          "pc1": 3.917423725128174,
          "pc2": -85.0767822265625
         },
         {
          "pc1": -32.07746505737305,
          "pc2": -49.8306770324707
         },
         {
          "pc1": 50.63386917114258,
          "pc2": 5.1368632316589355
         },
         {
          "pc1": 37.48655700683594,
          "pc2": 17.461742401123047
         },
         {
          "pc1": 36.9973258972168,
          "pc2": 0.117063507437706
         },
         {
          "pc1": 5.334056854248047,
          "pc2": -23.538646697998047
         },
         {
          "pc1": -15.543466567993164,
          "pc2": 9.548992156982422
         },
         {
          "pc1": 3.956038236618042,
          "pc2": -22.757051467895508
         },
         {
          "pc1": 33.010108947753906,
          "pc2": 18.745555877685547
         },
         {
          "pc1": 50.80292510986328,
          "pc2": 3.8638434410095215
         },
         {
          "pc1": 24.748703002929688,
          "pc2": -40.712615966796875
         },
         {
          "pc1": -42.90163803100586,
          "pc2": -19.833620071411133
         },
         {
          "pc1": 72.50041198730469,
          "pc2": 2.983041763305664
         },
         {
          "pc1": 25.830392837524414,
          "pc2": -34.80909729003906
         },
         {
          "pc1": -7.805135726928711,
          "pc2": -84.37316131591797
         },
         {
          "pc1": -30.66172981262207,
          "pc2": 48.004066467285156
         },
         {
          "pc1": -13.137839317321777,
          "pc2": -46.42989730834961
         },
         {
          "pc1": 24.70061683654785,
          "pc2": 42.25529861450195
         },
         {
          "pc1": -22.036407470703125,
          "pc2": -18.624483108520508
         },
         {
          "pc1": -46.75400161743164,
          "pc2": -20.402759552001953
         },
         {
          "pc1": -45.326656341552734,
          "pc2": 10.25788402557373
         },
         {
          "pc1": 59.052154541015625,
          "pc2": 25.85186195373535
         },
         {
          "pc1": 29.349149703979492,
          "pc2": 20.286428451538086
         },
         {
          "pc1": 65.92052459716797,
          "pc2": -15.68522834777832
         },
         {
          "pc1": 42.72837829589844,
          "pc2": -2.606118679046631
         },
         {
          "pc1": 1.1106959581375122,
          "pc2": 37.006736755371094
         },
         {
          "pc1": 28.919906616210938,
          "pc2": -11.908038139343262
         },
         {
          "pc1": -40.7086296081543,
          "pc2": -20.392757415771484
         },
         {
          "pc1": 33.86713409423828,
          "pc2": -0.6199628710746765
         },
         {
          "pc1": -54.012088775634766,
          "pc2": 39.68128204345703
         },
         {
          "pc1": -33.46596908569336,
          "pc2": -50.682708740234375
         },
         {
          "pc1": 0.5920405387878418,
          "pc2": 27.47581672668457
         },
         {
          "pc1": 11.244332313537598,
          "pc2": -25.931758880615234
         },
         {
          "pc1": -52.56051254272461,
          "pc2": -19.2954044342041
         },
         {
          "pc1": -28.21826934814453,
          "pc2": -47.996864318847656
         },
         {
          "pc1": 36.02448272705078,
          "pc2": 42.2364616394043
         },
         {
          "pc1": -18.799728393554688,
          "pc2": 6.662712574005127
         },
         {
          "pc1": -29.464946746826172,
          "pc2": -60.67542266845703
         },
         {
          "pc1": -17.07960319519043,
          "pc2": -45.09194564819336
         },
         {
          "pc1": -0.1576082408428192,
          "pc2": -51.806758880615234
         },
         {
          "pc1": -54.683414459228516,
          "pc2": -18.295753479003906
         },
         {
          "pc1": 11.879142761230469,
          "pc2": -58.80078887939453
         },
         {
          "pc1": -25.28309440612793,
          "pc2": 22.177173614501953
         },
         {
          "pc1": -13.366089820861816,
          "pc2": -45.38715362548828
         },
         {
          "pc1": 38.08663558959961,
          "pc2": 17.038246154785156
         },
         {
          "pc1": 23.513050079345703,
          "pc2": -56.2903938293457
         },
         {
          "pc1": -29.473499298095703,
          "pc2": 48.96068572998047
         },
         {
          "pc1": 25.66839599609375,
          "pc2": -33.20131301879883
         },
         {
          "pc1": -0.23370061814785004,
          "pc2": 18.431184768676758
         },
         {
          "pc1": -3.2312796115875244,
          "pc2": -21.354572296142578
         },
         {
          "pc1": -15.227293014526367,
          "pc2": 66.21582794189453
         },
         {
          "pc1": 29.47883415222168,
          "pc2": 49.62522888183594
         },
         {
          "pc1": 19.996227264404297,
          "pc2": -34.483734130859375
         },
         {
          "pc1": 18.483882904052734,
          "pc2": -29.73557472229004
         },
         {
          "pc1": 57.71518325805664,
          "pc2": 21.302865982055664
         },
         {
          "pc1": -8.38497543334961,
          "pc2": -48.077816009521484
         },
         {
          "pc1": 72.49679565429688,
          "pc2": 2.968982458114624
         },
         {
          "pc1": -14.288253784179688,
          "pc2": 31.194734573364258
         },
         {
          "pc1": 2.660712242126465,
          "pc2": -85.80760955810547
         },
         {
          "pc1": 3.9989335536956787,
          "pc2": -22.808475494384766
         },
         {
          "pc1": -32.05603790283203,
          "pc2": -20.1165828704834
         },
         {
          "pc1": 60.11326217651367,
          "pc2": 24.168420791625977
         },
         {
          "pc1": 28.657379150390625,
          "pc2": -6.156275749206543
         },
         {
          "pc1": 68.67084503173828,
          "pc2": -8.374226570129395
         },
         {
          "pc1": 28.62906837463379,
          "pc2": -12.45720386505127
         },
         {
          "pc1": -50.41785430908203,
          "pc2": -19.703218460083008
         },
         {
          "pc1": -3.8594253063201904,
          "pc2": 51.220458984375
         },
         {
          "pc1": -27.21378517150879,
          "pc2": -73.33732604980469
         },
         {
          "pc1": 28.351953506469727,
          "pc2": -51.70446014404297
         },
         {
          "pc1": 25.364110946655273,
          "pc2": -48.5850830078125
         },
         {
          "pc1": 0.44476816058158875,
          "pc2": 14.059343338012695
         },
         {
          "pc1": 0.2323109358549118,
          "pc2": 1.7782139778137207
         },
         {
          "pc1": 44.72531509399414,
          "pc2": -4.915900230407715
         },
         {
          "pc1": -47.25922775268555,
          "pc2": -20.401485443115234
         },
         {
          "pc1": -43.929664611816406,
          "pc2": -19.878564834594727
         },
         {
          "pc1": 22.635005950927734,
          "pc2": 40.99979782104492
         },
         {
          "pc1": 54.4201545715332,
          "pc2": 7.138659954071045
         },
         {
          "pc1": 17.986759185791016,
          "pc2": -51.60325241088867
         },
         {
          "pc1": 54.8746337890625,
          "pc2": 7.683544635772705
         },
         {
          "pc1": -32.33127975463867,
          "pc2": 47.58986282348633
         },
         {
          "pc1": -12.821995735168457,
          "pc2": -46.509376525878906
         },
         {
          "pc1": -14.891505241394043,
          "pc2": -82.20083618164062
         },
         {
          "pc1": 31.34324073791504,
          "pc2": -42.96844482421875
         },
         {
          "pc1": -2.1285276412963867,
          "pc2": -52.32966613769531
         },
         {
          "pc1": -35.99184036254883,
          "pc2": 13.700837135314941
         },
         {
          "pc1": 68.18286895751953,
          "pc2": -2.3956263065338135
         },
         {
          "pc1": -23.726879119873047,
          "pc2": -45.576904296875
         },
         {
          "pc1": 71.9115982055664,
          "pc2": 0.45030835270881653
         },
         {
          "pc1": 23.09518051147461,
          "pc2": 21.252492904663086
         },
         {
          "pc1": -45.629817962646484,
          "pc2": 11.444554328918457
         },
         {
          "pc1": 3.6638662815093994,
          "pc2": -87.29711151123047
         },
         {
          "pc1": 1.209499478340149,
          "pc2": 38.363094329833984
         },
         {
          "pc1": 31.61682891845703,
          "pc2": -46.095008850097656
         },
         {
          "pc1": 28.877187728881836,
          "pc2": -37.78263473510742
         },
         {
          "pc1": -8.513078689575195,
          "pc2": -84.11190795898438
         },
         {
          "pc1": 23.58754539489746,
          "pc2": 40.731422424316406
         },
         {
          "pc1": -26.9787540435791,
          "pc2": -73.9957046508789
         },
         {
          "pc1": -5.394076347351074,
          "pc2": 66.23258972167969
         },
         {
          "pc1": -64.40312194824219,
          "pc2": -6.5160417556762695
         },
         {
          "pc1": -44.41082000732422,
          "pc2": -20.0290470123291
         },
         {
          "pc1": -32.39540481567383,
          "pc2": 59.34541702270508
         },
         {
          "pc1": -56.69875717163086,
          "pc2": -17.370820999145508
         },
         {
          "pc1": -30.22666358947754,
          "pc2": -70.57245635986328
         },
         {
          "pc1": 53.60750198364258,
          "pc2": 7.6928324699401855
         },
         {
          "pc1": -27.200475692749023,
          "pc2": 20.7165470123291
         },
         {
          "pc1": 18.764402389526367,
          "pc2": -57.712646484375
         },
         {
          "pc1": 57.67098617553711,
          "pc2": 25.429454803466797
         },
         {
          "pc1": 24.792118072509766,
          "pc2": -32.92760467529297
         },
         {
          "pc1": -8.234417915344238,
          "pc2": -84.59164428710938
         },
         {
          "pc1": 18.993438720703125,
          "pc2": -58.15013122558594
         },
         {
          "pc1": 44.13964080810547,
          "pc2": -2.4458513259887695
         },
         {
          "pc1": 11.823890686035156,
          "pc2": -25.85455322265625
         },
         {
          "pc1": -33.52820587158203,
          "pc2": -51.18644332885742
         },
         {
          "pc1": 47.993194580078125,
          "pc2": 31.643787384033203
         },
         {
          "pc1": 25.267473220825195,
          "pc2": -32.782230377197266
         },
         {
          "pc1": 1.845664620399475,
          "pc2": 42.10757064819336
         },
         {
          "pc1": -60.86678695678711,
          "pc2": -13.236364364624023
         },
         {
          "pc1": 2.5464770793914795,
          "pc2": -3.3301899433135986
         },
         {
          "pc1": 19.494686126708984,
          "pc2": 42.70064163208008
         },
         {
          "pc1": 73.50334167480469,
          "pc2": 4.839147567749023
         },
         {
          "pc1": -12.364882469177246,
          "pc2": -77.31205749511719
         },
         {
          "pc1": -41.5947380065918,
          "pc2": -18.403432846069336
         },
         {
          "pc1": 1.8525587320327759,
          "pc2": 42.13943099975586
         },
         {
          "pc1": 0.2561228573322296,
          "pc2": 2.8818774223327637
         },
         {
          "pc1": 29.71659278869629,
          "pc2": -39.468109130859375
         },
         {
          "pc1": 47.37543869018555,
          "pc2": 1.7740428447723389
         },
         {
          "pc1": 11.245105743408203,
          "pc2": -25.93191146850586
         },
         {
          "pc1": 14.981030464172363,
          "pc2": -27.025583267211914
         },
         {
          "pc1": -25.71448516845703,
          "pc2": 25.73762321472168
         },
         {
          "pc1": 43.87688446044922,
          "pc2": 40.386844635009766
         },
         {
          "pc1": 37.411495208740234,
          "pc2": 16.76292610168457
         },
         {
          "pc1": -25.625688552856445,
          "pc2": 51.48939514160156
         },
         {
          "pc1": 11.622052192687988,
          "pc2": 21.014263153076172
         },
         {
          "pc1": 1.9070689678192139,
          "pc2": -22.466686248779297
         },
         {
          "pc1": -3.078300714492798,
          "pc2": -21.718223571777344
         },
         {
          "pc1": 33.80994415283203,
          "pc2": -9.730701446533203
         },
         {
          "pc1": 21.059097290039062,
          "pc2": 21.653095245361328
         },
         {
          "pc1": 52.5355110168457,
          "pc2": 17.301528930664062
         },
         {
          "pc1": -40.08177947998047,
          "pc2": -19.985679626464844
         },
         {
          "pc1": -55.2398681640625,
          "pc2": -9.42703914642334
         },
         {
          "pc1": 49.7442626953125,
          "pc2": 4.318663597106934
         },
         {
          "pc1": -6.331027030944824,
          "pc2": 66.16919708251953
         },
         {
          "pc1": -9.978826522827148,
          "pc2": -46.8945426940918
         },
         {
          "pc1": -37.65934371948242,
          "pc2": 54.13634490966797
         },
         {
          "pc1": 6.13709020614624,
          "pc2": -57.13071060180664
         },
         {
          "pc1": 44.04830551147461,
          "pc2": -5.452170372009277
         },
         {
          "pc1": -17.412948608398438,
          "pc2": -80.10631561279297
         },
         {
          "pc1": -40.56903839111328,
          "pc2": 21.249631881713867
         },
         {
          "pc1": 18.667985916137695,
          "pc2": -57.63107681274414
         },
         {
          "pc1": 3.1779627799987793,
          "pc2": -86.22652435302734
         },
         {
          "pc1": 52.66927719116211,
          "pc2": 21.582643508911133
         },
         {
          "pc1": -34.35042190551758,
          "pc2": -64.1634292602539
         },
         {
          "pc1": -9.209260940551758,
          "pc2": -20.974233627319336
         },
         {
          "pc1": 2.0432679653167725,
          "pc2": -23.138511657714844
         },
         {
          "pc1": -24.101978302001953,
          "pc2": -23.122974395751953
         },
         {
          "pc1": 26.009248733520508,
          "pc2": -54.31644821166992
         },
         {
          "pc1": -30.453161239624023,
          "pc2": -70.27189636230469
         },
         {
          "pc1": 1.4135750532150269,
          "pc2": -54.29231262207031
         },
         {
          "pc1": -22.689443588256836,
          "pc2": -19.88746452331543
         },
         {
          "pc1": 57.0799674987793,
          "pc2": 28.676101684570312
         },
         {
          "pc1": -28.86458969116211,
          "pc2": 49.39602279663086
         },
         {
          "pc1": -28.409706115722656,
          "pc2": -73.36813354492188
         },
         {
          "pc1": 0.5031315684318542,
          "pc2": 11.6553955078125
         },
         {
          "pc1": -4.211061000823975,
          "pc2": -20.959365844726562
         },
         {
          "pc1": -19.106828689575195,
          "pc2": 26.83001136779785
         },
         {
          "pc1": 19.68733024597168,
          "pc2": -34.23354721069336
         },
         {
          "pc1": 7.995955944061279,
          "pc2": -57.96210479736328
         },
         {
          "pc1": 50.956172943115234,
          "pc2": 3.6335465908050537
         },
         {
          "pc1": -3.3497180938720703,
          "pc2": -26.620134353637695
         },
         {
          "pc1": -3.7175498008728027,
          "pc2": -26.348539352416992
         },
         {
          "pc1": 1.114662528038025,
          "pc2": 13.806851387023926
         },
         {
          "pc1": 1.6757254600524902,
          "pc2": 41.29849624633789
         },
         {
          "pc1": 0.31541261076927185,
          "pc2": -85.67012023925781
         },
         {
          "pc1": 44.80406188964844,
          "pc2": -1.0128984451293945
         },
         {
          "pc1": -37.6195182800293,
          "pc2": -20.234163284301758
         },
         {
          "pc1": -27.83609390258789,
          "pc2": -50.56747055053711
         },
         {
          "pc1": 44.05653381347656,
          "pc2": -5.710725784301758
         },
         {
          "pc1": 67.08724975585938,
          "pc2": -11.581025123596191
         },
         {
          "pc1": -31.35718536376953,
          "pc2": -68.22957611083984
         },
         {
          "pc1": -34.41614532470703,
          "pc2": 19.165292739868164
         },
         {
          "pc1": -3.162627935409546,
          "pc2": -50.631046295166016
         },
         {
          "pc1": -41.839683532714844,
          "pc2": -20.02586555480957
         },
         {
          "pc1": 6.940698146820068,
          "pc2": -7.019885540008545
         },
         {
          "pc1": 46.81319808959961,
          "pc2": 39.03042984008789
         },
         {
          "pc1": 0.004922395572066307,
          "pc2": 3.9973084926605225
         },
         {
          "pc1": 2.5696046352386475,
          "pc2": -28.449594497680664
         },
         {
          "pc1": 73.64216613769531,
          "pc2": 9.162705421447754
         },
         {
          "pc1": -12.658679962158203,
          "pc2": 67.1792221069336
         },
         {
          "pc1": 36.20888137817383,
          "pc2": -9.084375381469727
         },
         {
          "pc1": 45.43195724487305,
          "pc2": 41.13901138305664
         },
         {
          "pc1": 43.71634292602539,
          "pc2": -2.804166793823242
         },
         {
          "pc1": -32.162540435791016,
          "pc2": -67.91635131835938
         },
         {
          "pc1": 22.085290908813477,
          "pc2": 22.29136848449707
         },
         {
          "pc1": 8.395651817321777,
          "pc2": -57.86993408203125
         },
         {
          "pc1": -30.747282028198242,
          "pc2": -66.61653137207031
         },
         {
          "pc1": 3.280670166015625,
          "pc2": -28.55489730834961
         },
         {
          "pc1": 73.5389633178711,
          "pc2": 8.382915496826172
         },
         {
          "pc1": 60.3431282043457,
          "pc2": 23.321041107177734
         },
         {
          "pc1": -23.36883544921875,
          "pc2": -44.386104583740234
         },
         {
          "pc1": -51.03841781616211,
          "pc2": -19.681894302368164
         },
         {
          "pc1": -12.618464469909668,
          "pc2": -46.105857849121094
         },
         {
          "pc1": -47.20220947265625,
          "pc2": 44.07215881347656
         },
         {
          "pc1": -63.93024826049805,
          "pc2": -6.958195686340332
         },
         {
          "pc1": -62.890037536621094,
          "pc2": -10.978866577148438
         },
         {
          "pc1": -23.63685417175293,
          "pc2": 23.63732147216797
         },
         {
          "pc1": -0.06572525948286057,
          "pc2": 4.7515411376953125
         },
         {
          "pc1": 23.11769676208496,
          "pc2": 42.98289489746094
         },
         {
          "pc1": -15.688026428222656,
          "pc2": 9.78877067565918
         },
         {
          "pc1": -47.377994537353516,
          "pc2": 15.470367431640625
         },
         {
          "pc1": 24.184249877929688,
          "pc2": -33.432621002197266
         },
         {
          "pc1": -40.63541793823242,
          "pc2": 10.599961280822754
         },
         {
          "pc1": -7.412332534790039,
          "pc2": -47.898746490478516
         },
         {
          "pc1": -28.658172607421875,
          "pc2": -72.58252716064453
         },
         {
          "pc1": -5.667117118835449,
          "pc2": -21.23316192626953
         },
         {
          "pc1": 34.38761520385742,
          "pc2": 18.764867782592773
         },
         {
          "pc1": -63.57442092895508,
          "pc2": -11.577742576599121
         },
         {
          "pc1": -1.332828164100647,
          "pc2": -85.57731628417969
         },
         {
          "pc1": 25.598278045654297,
          "pc2": 42.209285736083984
         },
         {
          "pc1": -29.50575065612793,
          "pc2": -47.49896240234375
         },
         {
          "pc1": 21.80451202392578,
          "pc2": -26.472423553466797
         },
         {
          "pc1": 5.987408638000488,
          "pc2": 37.52473449707031
         },
         {
          "pc1": 18.701183319091797,
          "pc2": 43.342018127441406
         },
         {
          "pc1": 4.608902454376221,
          "pc2": -5.222836494445801
         },
         {
          "pc1": 60.96841049194336,
          "pc2": 19.89744758605957
         },
         {
          "pc1": 34.38785934448242,
          "pc2": -0.11471258103847504
         },
         {
          "pc1": -32.871944427490234,
          "pc2": -50.94845962524414
         },
         {
          "pc1": 6.064692497253418,
          "pc2": -23.340030670166016
         },
         {
          "pc1": -28.65067481994629,
          "pc2": -19.96085548400879
         },
         {
          "pc1": 24.89575958251953,
          "pc2": -54.25887680053711
         },
         {
          "pc1": -33.64320755004883,
          "pc2": 17.723405838012695
         },
         {
          "pc1": 11.879372596740723,
          "pc2": 21.142791748046875
         },
         {
          "pc1": 52.981971740722656,
          "pc2": 29.987545013427734
         },
         {
          "pc1": 67.6157455444336,
          "pc2": -10.501375198364258
         },
         {
          "pc1": -32.45311737060547,
          "pc2": 19.242589950561523
         },
         {
          "pc1": -9.947742462158203,
          "pc2": -83.15861511230469
         },
         {
          "pc1": 25.147676467895508,
          "pc2": 41.69986343383789
         },
         {
          "pc1": -14.065366744995117,
          "pc2": 11.011472702026367
         },
         {
          "pc1": -23.164875030517578,
          "pc2": -19.393657684326172
         },
         {
          "pc1": 30.438276290893555,
          "pc2": -48.976863861083984
         },
         {
          "pc1": 27.2850284576416,
          "pc2": -12.267380714416504
         },
         {
          "pc1": -1.001567006111145,
          "pc2": -85.63429260253906
         },
         {
          "pc1": -31.86833953857422,
          "pc2": 59.7327880859375
         },
         {
          "pc1": -28.51233673095703,
          "pc2": 61.98926544189453
         },
         {
          "pc1": -14.990530014038086,
          "pc2": 30.668689727783203
         },
         {
          "pc1": 26.48105812072754,
          "pc2": 40.2238883972168
         },
         {
          "pc1": 60.48902893066406,
          "pc2": -20.0523738861084
         },
         {
          "pc1": 33.12202453613281,
          "pc2": 48.344932556152344
         },
         {
          "pc1": 68.64933776855469,
          "pc2": -8.574501037597656
         },
         {
          "pc1": -23.90985107421875,
          "pc2": -45.63312911987305
         },
         {
          "pc1": -46.32474136352539,
          "pc2": -19.954912185668945
         },
         {
          "pc1": -34.454017639160156,
          "pc2": -59.85641098022461
         },
         {
          "pc1": 61.512813568115234,
          "pc2": -18.881755828857422
         },
         {
          "pc1": 5.846163272857666,
          "pc2": -23.809017181396484
         },
         {
          "pc1": 24.36026954650879,
          "pc2": 41.067684173583984
         },
         {
          "pc1": 42.4061164855957,
          "pc2": -2.891127586364746
         },
         {
          "pc1": -21.403690338134766,
          "pc2": -78.29009246826172
         },
         {
          "pc1": -0.28935301303863525,
          "pc2": -85.51873779296875
         },
         {
          "pc1": 18.319002151489258,
          "pc2": -51.50747299194336
         },
         {
          "pc1": 39.20088577270508,
          "pc2": 42.888668060302734
         },
         {
          "pc1": -12.445833206176758,
          "pc2": -46.1753044128418
         },
         {
          "pc1": -20.01073455810547,
          "pc2": -50.125003814697266
         },
         {
          "pc1": 58.672515869140625,
          "pc2": 20.38910675048828
         },
         {
          "pc1": 24.047122955322266,
          "pc2": -31.856298446655273
         },
         {
          "pc1": 36.49656295776367,
          "pc2": 42.04252624511719
         },
         {
          "pc1": 49.68796920776367,
          "pc2": 2.796816825866699
         },
         {
          "pc1": 72.4169921875,
          "pc2": 0.9201928377151489
         },
         {
          "pc1": -20.557506561279297,
          "pc2": 6.8807291984558105
         },
         {
          "pc1": 31.07120704650879,
          "pc2": -44.31521224975586
         },
         {
          "pc1": 28.795352935791016,
          "pc2": -50.71800994873047
         },
         {
          "pc1": 24.603933334350586,
          "pc2": 21.868913650512695
         },
         {
          "pc1": -11.675028800964355,
          "pc2": 12.99808406829834
         },
         {
          "pc1": 50.049503326416016,
          "pc2": 30.20849609375
         },
         {
          "pc1": 29.535242080688477,
          "pc2": 41.33605194091797
         },
         {
          "pc1": 6.309844493865967,
          "pc2": -53.646610260009766
         },
         {
          "pc1": -28.5509090423584,
          "pc2": -19.605009078979492
         },
         {
          "pc1": -29.38540267944336,
          "pc2": -1.9132981300354004
         },
         {
          "pc1": 0.4716137647628784,
          "pc2": 17.04487419128418
         },
         {
          "pc1": 56.85861587524414,
          "pc2": 12.386273384094238
         },
         {
          "pc1": -36.83230209350586,
          "pc2": -20.629056930541992
         },
         {
          "pc1": 35.86705780029297,
          "pc2": 42.251644134521484
         },
         {
          "pc1": -29.376148223876953,
          "pc2": -47.615665435791016
         },
         {
          "pc1": 60.177486419677734,
          "pc2": 23.24136734008789
         },
         {
          "pc1": -22.103666305541992,
          "pc2": -19.52340316772461
         },
         {
          "pc1": 29.314741134643555,
          "pc2": -48.941341400146484
         },
         {
          "pc1": 57.09019088745117,
          "pc2": 27.09023666381836
         },
         {
          "pc1": -18.04561996459961,
          "pc2": 31.486379623413086
         },
         {
          "pc1": 30.30010414123535,
          "pc2": 19.946090698242188
         },
         {
          "pc1": -49.19880676269531,
          "pc2": 42.65159225463867
         },
         {
          "pc1": -29.093530654907227,
          "pc2": -71.93242645263672
         },
         {
          "pc1": -29.780593872070312,
          "pc2": -61.623165130615234
         },
         {
          "pc1": -28.493412017822266,
          "pc2": -72.7590103149414
         },
         {
          "pc1": 41.739349365234375,
          "pc2": -3.48252010345459
         },
         {
          "pc1": -16.472551345825195,
          "pc2": -45.67998123168945
         },
         {
          "pc1": 12.632927894592285,
          "pc2": 21.51954460144043
         },
         {
          "pc1": -30.972488403320312,
          "pc2": -69.41643524169922
         },
         {
          "pc1": 52.069496154785156,
          "pc2": 3.0221457481384277
         },
         {
          "pc1": 66.81890869140625,
          "pc2": -12.792354583740234
         },
         {
          "pc1": -26.22763442993164,
          "pc2": -73.87240600585938
         },
         {
          "pc1": -13.592851638793945,
          "pc2": -82.59051513671875
         },
         {
          "pc1": 72.99906158447266,
          "pc2": 3.2633378505706787
         },
         {
          "pc1": -5.006694316864014,
          "pc2": 54.85573196411133
         },
         {
          "pc1": 22.00246810913086,
          "pc2": -30.963918685913086
         },
         {
          "pc1": -22.319360733032227,
          "pc2": -47.8166618347168
         },
         {
          "pc1": 0.5796374082565308,
          "pc2": 26.743684768676758
         },
         {
          "pc1": 25.041324615478516,
          "pc2": -55.2043342590332
         },
         {
          "pc1": -17.44676399230957,
          "pc2": -19.881933212280273
         },
         {
          "pc1": -34.370208740234375,
          "pc2": 57.67754364013672
         },
         {
          "pc1": -35.920772552490234,
          "pc2": -20.24466323852539
         },
         {
          "pc1": 2.5276432037353516,
          "pc2": 49.0490608215332
         },
         {
          "pc1": 0.7408817410469055,
          "pc2": -53.3444709777832
         },
         {
          "pc1": 29.28997039794922,
          "pc2": -52.31855773925781
         },
         {
          "pc1": 54.910797119140625,
          "pc2": -23.9468994140625
         },
         {
          "pc1": 19.08829689025879,
          "pc2": 25.869020462036133
         },
         {
          "pc1": -1.36266028881073,
          "pc2": -87.35614776611328
         },
         {
          "pc1": -31.889484405517578,
          "pc2": -2.3999581336975098
         },
         {
          "pc1": 30.48175621032715,
          "pc2": -10.906288146972656
         },
         {
          "pc1": 54.768123626708984,
          "pc2": 30.07333755493164
         },
         {
          "pc1": 54.77473831176758,
          "pc2": 30.537033081054688
         },
         {
          "pc1": 56.91575622558594,
          "pc2": 29.111661911010742
         },
         {
          "pc1": 2.8169126510620117,
          "pc2": 54.8472900390625
         },
         {
          "pc1": 72.52603912353516,
          "pc2": 1.6799784898757935
         },
         {
          "pc1": -29.8127498626709,
          "pc2": -0.9003098011016846
         },
         {
          "pc1": 18.36992835998535,
          "pc2": -51.490333557128906
         },
         {
          "pc1": -30.07151222229004,
          "pc2": -69.65640258789062
         },
         {
          "pc1": 65.89237976074219,
          "pc2": -13.642317771911621
         },
         {
          "pc1": -33.246826171875,
          "pc2": -65.56867218017578
         },
         {
          "pc1": -61.698875427246094,
          "pc2": -12.7218599319458
         },
         {
          "pc1": -13.925699234008789,
          "pc2": 10.724129676818848
         },
         {
          "pc1": 52.67365646362305,
          "pc2": 19.08056640625
         },
         {
          "pc1": -0.7394227385520935,
          "pc2": -52.94973373413086
         },
         {
          "pc1": 32.79037094116211,
          "pc2": -7.328185558319092
         },
         {
          "pc1": -0.3459041714668274,
          "pc2": -53.58879852294922
         },
         {
          "pc1": 17.284040451049805,
          "pc2": -58.608856201171875
         },
         {
          "pc1": 56.01006317138672,
          "pc2": 30.36529541015625
         },
         {
          "pc1": -32.84811782836914,
          "pc2": -50.91820526123047
         },
         {
          "pc1": -33.98359680175781,
          "pc2": 0.2438828945159912
         },
         {
          "pc1": 23.794269561767578,
          "pc2": -31.719646453857422
         },
         {
          "pc1": 11.54561996459961,
          "pc2": -25.742305755615234
         },
         {
          "pc1": -19.64017105102539,
          "pc2": 26.36042594909668
         },
         {
          "pc1": -5.78023099899292,
          "pc2": -25.574142456054688
         },
         {
          "pc1": 69.14228057861328,
          "pc2": -7.686654090881348
         },
         {
          "pc1": 37.2863655090332,
          "pc2": 16.774587631225586
         },
         {
          "pc1": -15.640596389770508,
          "pc2": -24.806488037109375
         },
         {
          "pc1": -42.87456512451172,
          "pc2": -20.609052658081055
         },
         {
          "pc1": 7.0610857009887695,
          "pc2": -56.38391876220703
         },
         {
          "pc1": 27.06928253173828,
          "pc2": -5.777168273925781
         },
         {
          "pc1": 24.557388305664062,
          "pc2": -42.483245849609375
         },
         {
          "pc1": 22.311016082763672,
          "pc2": -56.22105407714844
         },
         {
          "pc1": -16.47027015686035,
          "pc2": -45.263545989990234
         },
         {
          "pc1": -30.51189613342285,
          "pc2": -59.42527389526367
         },
         {
          "pc1": 4.818317890167236,
          "pc2": -56.61467742919922
         },
         {
          "pc1": -34.71040725708008,
          "pc2": -63.42251968383789
         },
         {
          "pc1": -48.613037109375,
          "pc2": -19.820636749267578
         },
         {
          "pc1": -45.55345916748047,
          "pc2": -19.48594856262207
         },
         {
          "pc1": 10.289898872375488,
          "pc2": 0.5578451752662659
         },
         {
          "pc1": -14.145909309387207,
          "pc2": 31.287128448486328
         },
         {
          "pc1": -63.62489700317383,
          "pc2": -7.948777198791504
         },
         {
          "pc1": -23.92840576171875,
          "pc2": 4.1464924812316895
         },
         {
          "pc1": -45.30766677856445,
          "pc2": 9.6267728805542
         },
         {
          "pc1": -38.94700622558594,
          "pc2": 52.639564514160156
         },
         {
          "pc1": -3.2890830039978027,
          "pc2": -26.666391372680664
         },
         {
          "pc1": -22.472036361694336,
          "pc2": -45.189884185791016
         },
         {
          "pc1": 25.946773529052734,
          "pc2": 21.68950080871582
         },
         {
          "pc1": -31.7885799407959,
          "pc2": 21.704599380493164
         },
         {
          "pc1": -0.1277705729007721,
          "pc2": -81.73180389404297
         },
         {
          "pc1": -7.391645431518555,
          "pc2": -48.95534133911133
         },
         {
          "pc1": -56.373836517333984,
          "pc2": 38.06370544433594
         },
         {
          "pc1": 27.31494903564453,
          "pc2": -5.634425163269043
         },
         {
          "pc1": -18.26726722717285,
          "pc2": 31.32325553894043
         },
         {
          "pc1": -40.43478775024414,
          "pc2": -20.439998626708984
         },
         {
          "pc1": -47.07590866088867,
          "pc2": -19.85059928894043
         },
         {
          "pc1": 68.09883880615234,
          "pc2": -9.953202247619629
         },
         {
          "pc1": -15.6978178024292,
          "pc2": -80.684326171875
         },
         {
          "pc1": 63.409881591796875,
          "pc2": -17.297731399536133
         },
         {
          "pc1": 25.278318405151367,
          "pc2": -48.66939926147461
         },
         {
          "pc1": -20.62454605102539,
          "pc2": 33.30653762817383
         },
         {
          "pc1": 60.2835807800293,
          "pc2": 15.17306137084961
         },
         {
          "pc1": 38.79493713378906,
          "pc2": 41.0081672668457
         },
         {
          "pc1": -11.32214069366455,
          "pc2": -46.86631393432617
         },
         {
          "pc1": -41.63883972167969,
          "pc2": 49.47987365722656
         },
         {
          "pc1": 18.023305892944336,
          "pc2": -29.9182071685791
         },
         {
          "pc1": -42.72148132324219,
          "pc2": 8.442885398864746
         },
         {
          "pc1": -22.517078399658203,
          "pc2": -18.626190185546875
         },
         {
          "pc1": -1.1713370084762573,
          "pc2": -51.36351013183594
         },
         {
          "pc1": 24.96754264831543,
          "pc2": -33.11813735961914
         },
         {
          "pc1": -36.57040023803711,
          "pc2": -56.773868560791016
         },
         {
          "pc1": -0.21288450062274933,
          "pc2": -85.51781463623047
         },
         {
          "pc1": 43.82453155517578,
          "pc2": -3.7306900024414062
         },
         {
          "pc1": -10.727392196655273,
          "pc2": -83.52842712402344
         },
         {
          "pc1": 30.457244873046875,
          "pc2": -40.078025817871094
         },
         {
          "pc1": -35.3242301940918,
          "pc2": -57.11763000488281
         },
         {
          "pc1": 51.164154052734375,
          "pc2": 12.120010375976562
         },
         {
          "pc1": -19.934473037719727,
          "pc2": 33.69169616699219
         },
         {
          "pc1": 38.27973556518555,
          "pc2": 42.044761657714844
         },
         {
          "pc1": -44.417484283447266,
          "pc2": 10.396954536437988
         },
         {
          "pc1": 32.07118225097656,
          "pc2": -12.099833488464355
         },
         {
          "pc1": 9.142451286315918,
          "pc2": 0.41722699999809265
         },
         {
          "pc1": -56.297645568847656,
          "pc2": -17.880430221557617
         },
         {
          "pc1": 3.551651954650879,
          "pc2": -22.741809844970703
         },
         {
          "pc1": -21.397939682006836,
          "pc2": -77.22557830810547
         },
         {
          "pc1": 3.013997793197632,
          "pc2": -28.512088775634766
         },
         {
          "pc1": 0.21732361614704132,
          "pc2": 9.171031951904297
         },
         {
          "pc1": 21.51738929748535,
          "pc2": -57.0699348449707
         },
         {
          "pc1": 5.777294635772705,
          "pc2": -29.03850555419922
         },
         {
          "pc1": -23.73689079284668,
          "pc2": -71.251220703125
         },
         {
          "pc1": 3.2757792472839355,
          "pc2": -22.686574935913086
         },
         {
          "pc1": -31.567686080932617,
          "pc2": 21.878231048583984
         },
         {
          "pc1": 43.00431442260742,
          "pc2": -6.083187103271484
         },
         {
          "pc1": -32.328704833984375,
          "pc2": -62.671112060546875
         },
         {
          "pc1": -30.271074295043945,
          "pc2": -71.68476104736328
         },
         {
          "pc1": 56.15620803833008,
          "pc2": 24.84572982788086
         },
         {
          "pc1": 33.18806457519531,
          "pc2": -1.173795461654663
         },
         {
          "pc1": -18.919103622436523,
          "pc2": -44.64766311645508
         },
         {
          "pc1": 73.76538848876953,
          "pc2": 8.853011131286621
         },
         {
          "pc1": -41.06126022338867,
          "pc2": -18.36539077758789
         },
         {
          "pc1": -27.790924072265625,
          "pc2": 61.66061019897461
         },
         {
          "pc1": 29.650178909301758,
          "pc2": -38.673065185546875
         },
         {
          "pc1": 32.662776947021484,
          "pc2": 40.94582748413086
         },
         {
          "pc1": -50.78614044189453,
          "pc2": 31.556137084960938
         },
         {
          "pc1": 38.191864013671875,
          "pc2": -7.220749378204346
         },
         {
          "pc1": -7.1561431884765625,
          "pc2": 58.72393035888672
         },
         {
          "pc1": -14.951114654541016,
          "pc2": 30.6990909576416
         },
         {
          "pc1": 2.780820608139038,
          "pc2": -84.8600082397461
         },
         {
          "pc1": -9.543022155761719,
          "pc2": -20.826303482055664
         },
         {
          "pc1": 45.47969436645508,
          "pc2": 37.86777114868164
         },
         {
          "pc1": 14.984811782836914,
          "pc2": 21.583690643310547
         },
         {
          "pc1": 1.9138859510421753,
          "pc2": -52.89812088012695
         },
         {
          "pc1": 7.086369514465332,
          "pc2": 37.633907318115234
         },
         {
          "pc1": -43.118587493896484,
          "pc2": 17.11948585510254
         },
         {
          "pc1": 28.81217384338379,
          "pc2": -45.048072814941406
         },
         {
          "pc1": -36.137290954589844,
          "pc2": -20.25861930847168
         },
         {
          "pc1": -38.497528076171875,
          "pc2": -20.253801345825195
         },
         {
          "pc1": -34.12632751464844,
          "pc2": -52.72503662109375
         },
         {
          "pc1": 4.74559211730957,
          "pc2": -24.356836318969727
         },
         {
          "pc1": -34.085968017578125,
          "pc2": 0.05359656736254692
         },
         {
          "pc1": 1.5623807907104492,
          "pc2": -85.2806167602539
         },
         {
          "pc1": 51.47389602661133,
          "pc2": 12.869948387145996
         },
         {
          "pc1": -46.079158782958984,
          "pc2": 9.383611679077148
         },
         {
          "pc1": -15.061655044555664,
          "pc2": -19.508316040039062
         },
         {
          "pc1": -50.091217041015625,
          "pc2": -19.647310256958008
         },
         {
          "pc1": 2.5243875980377197,
          "pc2": -28.444883346557617
         },
         {
          "pc1": 0.7419743537902832,
          "pc2": 25.877836227416992
         },
         {
          "pc1": -21.45586585998535,
          "pc2": 28.976259231567383
         },
         {
          "pc1": -34.3237419128418,
          "pc2": -1.6796576976776123
         },
         {
          "pc1": -45.37900924682617,
          "pc2": -19.671802520751953
         },
         {
          "pc1": -54.441139221191406,
          "pc2": -19.3559627532959
         },
         {
          "pc1": -33.762939453125,
          "pc2": -62.25653839111328
         },
         {
          "pc1": -22.148000717163086,
          "pc2": 64.51165771484375
         },
         {
          "pc1": 44.8112907409668,
          "pc2": 39.943172454833984
         },
         {
          "pc1": 29.053104400634766,
          "pc2": 20.524442672729492
         },
         {
          "pc1": 0.5381984114646912,
          "pc2": -85.66273498535156
         },
         {
          "pc1": -31.739757537841797,
          "pc2": -2.3044373989105225
         },
         {
          "pc1": 30.843835830688477,
          "pc2": -44.14345169067383
         },
         {
          "pc1": -54.15829849243164,
          "pc2": -9.525572776794434
         },
         {
          "pc1": 49.18360900878906,
          "pc2": 27.82277488708496
         },
         {
          "pc1": -4.4893927574157715,
          "pc2": -84.9159927368164
         },
         {
          "pc1": 15.446112632751465,
          "pc2": -27.775182723999023
         },
         {
          "pc1": 47.882362365722656,
          "pc2": 37.32703399658203
         },
         {
          "pc1": -45.82501220703125,
          "pc2": -20.021282196044922
         },
         {
          "pc1": 47.390716552734375,
          "pc2": 38.79325485229492
         },
         {
          "pc1": 41.25812530517578,
          "pc2": -5.519140243530273
         },
         {
          "pc1": -41.029476165771484,
          "pc2": 10.290870666503906
         },
         {
          "pc1": -40.5946044921875,
          "pc2": 12.760398864746094
         },
         {
          "pc1": 31.50138282775879,
          "pc2": -7.590612411499023
         },
         {
          "pc1": 73.27719116210938,
          "pc2": 6.1277875900268555
         },
         {
          "pc1": 52.684268951416016,
          "pc2": 21.358104705810547
         },
         {
          "pc1": -17.22848892211914,
          "pc2": 32.16775131225586
         },
         {
          "pc1": -39.21736526489258,
          "pc2": 15.455828666687012
         },
         {
          "pc1": 37.02811813354492,
          "pc2": -10.155295372009277
         },
         {
          "pc1": -51.09170150756836,
          "pc2": -19.14235496520996
         },
         {
          "pc1": -3.819645404815674,
          "pc2": 65.53396606445312
         },
         {
          "pc1": 70.03759765625,
          "pc2": -5.921621322631836
         },
         {
          "pc1": -25.894390106201172,
          "pc2": 62.934837341308594
         },
         {
          "pc1": 12.814845085144043,
          "pc2": -59.065547943115234
         },
         {
          "pc1": -9.654643058776855,
          "pc2": -46.880977630615234
         },
         {
          "pc1": -34.794742584228516,
          "pc2": -61.18716812133789
         },
         {
          "pc1": 29.540620803833008,
          "pc2": -49.6402473449707
         },
         {
          "pc1": -33.8065185546875,
          "pc2": -65.67059326171875
         },
         {
          "pc1": -37.614044189453125,
          "pc2": 15.413670539855957
         },
         {
          "pc1": 0.1296473741531372,
          "pc2": -84.77635955810547
         },
         {
          "pc1": -37.02334213256836,
          "pc2": 55.07353973388672
         },
         {
          "pc1": 63.85521697998047,
          "pc2": -16.36806297302246
         },
         {
          "pc1": -30.372577667236328,
          "pc2": -1.5895448923110962
         },
         {
          "pc1": 11.697808265686035,
          "pc2": -25.83782386779785
         },
         {
          "pc1": 37.060218811035156,
          "pc2": -10.35406494140625
         },
         {
          "pc1": -3.3820197582244873,
          "pc2": -21.32974624633789
         },
         {
          "pc1": -7.46599817276001,
          "pc2": -83.97384643554688
         },
         {
          "pc1": -13.76547622680664,
          "pc2": -20.170127868652344
         },
         {
          "pc1": -18.22588348388672,
          "pc2": -45.03040313720703
         },
         {
          "pc1": 23.65717887878418,
          "pc2": 21.62967872619629
         },
         {
          "pc1": -54.48585510253906,
          "pc2": -19.12803840637207
         },
         {
          "pc1": 53.216888427734375,
          "pc2": 30.637426376342773
         },
         {
          "pc1": -26.695146560668945,
          "pc2": 25.37848663330078
         },
         {
          "pc1": 48.631256103515625,
          "pc2": 37.83104705810547
         },
         {
          "pc1": 2.1576151847839355,
          "pc2": 58.94915008544922
         },
         {
          "pc1": -13.689844131469727,
          "pc2": 33.57905578613281
         },
         {
          "pc1": -42.14851379394531,
          "pc2": 12.713499069213867
         },
         {
          "pc1": 31.082799911499023,
          "pc2": -47.9438362121582
         },
         {
          "pc1": -33.37685775756836,
          "pc2": -51.1341438293457
         },
         {
          "pc1": -46.60026168823242,
          "pc2": -19.844228744506836
         },
         {
          "pc1": -34.9156494140625,
          "pc2": -58.03726577758789
         },
         {
          "pc1": -27.198617935180664,
          "pc2": -73.80744171142578
         },
         {
          "pc1": -13.322785377502441,
          "pc2": 31.953454971313477
         },
         {
          "pc1": -24.323291778564453,
          "pc2": -70.37970733642578
         },
         {
          "pc1": 6.490968227386475,
          "pc2": -23.044998168945312
         },
         {
          "pc1": 4.076416015625,
          "pc2": -86.18762969970703
         },
         {
          "pc1": -56.3939323425293,
          "pc2": -17.644001007080078
         },
         {
          "pc1": -40.409358978271484,
          "pc2": 19.663681030273438
         },
         {
          "pc1": -19.395591735839844,
          "pc2": 6.332596778869629
         },
         {
          "pc1": -33.712989807128906,
          "pc2": -20.10139274597168
         },
         {
          "pc1": -12.38224983215332,
          "pc2": -46.58772659301758
         },
         {
          "pc1": 72.07115173339844,
          "pc2": -1.463228702545166
         },
         {
          "pc1": 30.683313369750977,
          "pc2": -43.18578338623047
         },
         {
          "pc1": 31.475013732910156,
          "pc2": -46.67942810058594
         },
         {
          "pc1": 17.1334285736084,
          "pc2": -51.781829833984375
         },
         {
          "pc1": -25.76741600036621,
          "pc2": 52.73192596435547
         },
         {
          "pc1": -15.689311981201172,
          "pc2": -47.438507080078125
         },
         {
          "pc1": -35.56401824951172,
          "pc2": -20.264019012451172
         },
         {
          "pc1": -20.046724319458008,
          "pc2": -78.1325912475586
         },
         {
          "pc1": 16.24614143371582,
          "pc2": -51.885520935058594
         },
         {
          "pc1": -5.443248271942139,
          "pc2": -48.92816925048828
         },
         {
          "pc1": 53.997802734375,
          "pc2": 6.737115859985352
         },
         {
          "pc1": 1.8047906160354614,
          "pc2": -54.4883918762207
         },
         {
          "pc1": -29.786012649536133,
          "pc2": -61.70987319946289
         },
         {
          "pc1": -37.12626266479492,
          "pc2": -20.25739288330078
         },
         {
          "pc1": 57.43010711669922,
          "pc2": 15.089729309082031
         },
         {
          "pc1": 60.533016204833984,
          "pc2": -14.167923927307129
         },
         {
          "pc1": 46.53904724121094,
          "pc2": 32.6897087097168
         },
         {
          "pc1": -4.5983405113220215,
          "pc2": -22.115541458129883
         },
         {
          "pc1": 27.102252960205078,
          "pc2": -10.091850280761719
         },
         {
          "pc1": 36.43492126464844,
          "pc2": -10.66382884979248
         },
         {
          "pc1": 29.31504249572754,
          "pc2": -38.677791595458984
         },
         {
          "pc1": -56.647064208984375,
          "pc2": 37.47040557861328
         },
         {
          "pc1": -7.470091819763184,
          "pc2": -84.8736801147461
         },
         {
          "pc1": 10.128534317016602,
          "pc2": -59.54218292236328
         },
         {
          "pc1": 27.31458854675293,
          "pc2": -35.74403381347656
         }
        ],
        "data-f4f798fd48e0dbf46641af1cdf017939": [
         {
          "pc1": -10.046542167663574,
          "pc2": -83.6977310180664
         },
         {
          "pc1": 39.59489059448242,
          "pc2": 43.351531982421875
         },
         {
          "pc1": 28.810274124145508,
          "pc2": -45.06162643432617
         },
         {
          "pc1": -14.237509727478027,
          "pc2": -81.58222198486328
         },
         {
          "pc1": -30.96763801574707,
          "pc2": 22.150102615356445
         },
         {
          "pc1": -26.646629333496094,
          "pc2": -19.86343002319336
         },
         {
          "pc1": -12.991519927978516,
          "pc2": -45.90351104736328
         },
         {
          "pc1": 19.911136627197266,
          "pc2": -29.383190155029297
         },
         {
          "pc1": 27.548587799072266,
          "pc2": -52.62990188598633
         },
         {
          "pc1": 70.52399444580078,
          "pc2": -3.698289632797241
         },
         {
          "pc1": -13.355928421020508,
          "pc2": -77.00224304199219
         },
         {
          "pc1": 29.0678653717041,
          "pc2": -49.53365707397461
         },
         {
          "pc1": 15.07673168182373,
          "pc2": -58.958621978759766
         },
         {
          "pc1": -14.182275772094727,
          "pc2": -76.64676666259766
         },
         {
          "pc1": -35.696929931640625,
          "pc2": -20.00606918334961
         },
         {
          "pc1": 20.443206787109375,
          "pc2": -26.8232479095459
         },
         {
          "pc1": -54.98161697387695,
          "pc2": -9.450896263122559
         },
         {
          "pc1": -18.42561912536621,
          "pc2": 7.8336076736450195
         },
         {
          "pc1": 24.394315719604492,
          "pc2": -56.3685302734375
         },
         {
          "pc1": 70.16522216796875,
          "pc2": -5.078062534332275
         },
         {
          "pc1": 22.709735870361328,
          "pc2": 40.98023986816406
         },
         {
          "pc1": -8.241028785705566,
          "pc2": -47.47362518310547
         },
         {
          "pc1": 73.4881820678711,
          "pc2": 7.602515697479248
         },
         {
          "pc1": 31.902814865112305,
          "pc2": -43.14231872558594
         },
         {
          "pc1": -17.03529930114746,
          "pc2": -19.88625717163086
         },
         {
          "pc1": -32.65944290161133,
          "pc2": 16.391048431396484
         },
         {
          "pc1": -44.65627670288086,
          "pc2": -15.764238357543945
         },
         {
          "pc1": -31.683969497680664,
          "pc2": -68.52064514160156
         },
         {
          "pc1": -29.015695571899414,
          "pc2": -24.590635299682617
         },
         {
          "pc1": 59.61735534667969,
          "pc2": 12.145545959472656
         },
         {
          "pc1": -0.01999540999531746,
          "pc2": -22.74970054626465
         },
         {
          "pc1": 61.650638580322266,
          "pc2": -18.78461265563965
         },
         {
          "pc1": -53.10676193237305,
          "pc2": -13.376416206359863
         },
         {
          "pc1": -23.89859390258789,
          "pc2": -20.028106689453125
         },
         {
          "pc1": 30.93276596069336,
          "pc2": -42.081939697265625
         },
         {
          "pc1": -18.714967727661133,
          "pc2": -19.934268951416016
         },
         {
          "pc1": -34.13856887817383,
          "pc2": -62.34846115112305
         },
         {
          "pc1": -21.896642684936523,
          "pc2": -77.96485900878906
         },
         {
          "pc1": -23.41012191772461,
          "pc2": -71.59739685058594
         },
         {
          "pc1": 45.12655258178711,
          "pc2": -4.4105658531188965
         },
         {
          "pc1": -0.07660187035799026,
          "pc2": -52.01200485229492
         },
         {
          "pc1": 24.741374969482422,
          "pc2": -40.6733283996582
         },
         {
          "pc1": -63.32038116455078,
          "pc2": -11.71626091003418
         },
         {
          "pc1": -32.04800796508789,
          "pc2": -66.54376983642578
         },
         {
          "pc1": -13.40288257598877,
          "pc2": -45.99939727783203
         },
         {
          "pc1": 53.12250518798828,
          "pc2": 3.8217034339904785
         },
         {
          "pc1": 25.201793670654297,
          "pc2": 51.19051742553711
         },
         {
          "pc1": 2.5253677368164062,
          "pc2": -22.718151092529297
         },
         {
          "pc1": -14.47964859008789,
          "pc2": -24.809375762939453
         },
         {
          "pc1": 36.15016174316406,
          "pc2": -10.593038558959961
         },
         {
          "pc1": -16.679759979248047,
          "pc2": -45.27872085571289
         },
         {
          "pc1": -51.98294448852539,
          "pc2": 41.33860778808594
         },
         {
          "pc1": -5.631918430328369,
          "pc2": 66.8891372680664
         }
        ],
        "data-f96a84c5aa97c295303804dee9419e10": [
         {
          "pc1": 1.6240731477737427,
          "pc2": -2.2436797618865967
         },
         {
          "pc1": -46.320770263671875,
          "pc2": 44.9541015625
         },
         {
          "pc1": -48.0295524597168,
          "pc2": 43.51792526245117
         },
         {
          "pc1": 30.469799041748047,
          "pc2": -42.04964065551758
         },
         {
          "pc1": -44.33718490600586,
          "pc2": 46.61343765258789
         },
         {
          "pc1": 26.781888961791992,
          "pc2": -35.166343688964844
         },
         {
          "pc1": 58.89103317260742,
          "pc2": -21.230548858642578
         },
         {
          "pc1": -23.565776824951172,
          "pc2": 26.05279541015625
         },
         {
          "pc1": -43.15208053588867,
          "pc2": 47.42743682861328
         },
         {
          "pc1": 0.4699269235134125,
          "pc2": 37.10970687866211
         },
         {
          "pc1": -9.42631721496582,
          "pc2": 59.88910675048828
         },
         {
          "pc1": 1.8589458465576172,
          "pc2": 43.02922439575195
         },
         {
          "pc1": -29.372539520263672,
          "pc2": -20.616445541381836
         },
         {
          "pc1": -9.535122871398926,
          "pc2": 59.95390319824219
         },
         {
          "pc1": 56.220394134521484,
          "pc2": 24.5831356048584
         },
         {
          "pc1": 5.913315296173096,
          "pc2": 37.29749298095703
         },
         {
          "pc1": 6.518538475036621,
          "pc2": -23.056411743164062
         },
         {
          "pc1": 34.551910400390625,
          "pc2": 40.41640090942383
         },
         {
          "pc1": -2.695284843444824,
          "pc2": 51.109375
         },
         {
          "pc1": 9.665428161621094,
          "pc2": 6.521211624145508
         },
         {
          "pc1": 6.466031551361084,
          "pc2": -5.957927227020264
         },
         {
          "pc1": 49.16798782348633,
          "pc2": 27.867332458496094
         },
         {
          "pc1": -44.499107360839844,
          "pc2": -15.748605728149414
         },
         {
          "pc1": -0.002586436690762639,
          "pc2": 5.675037384033203
         },
         {
          "pc1": -62.304771423339844,
          "pc2": -11.026165008544922
         },
         {
          "pc1": -22.761417388916016,
          "pc2": 52.928955078125
         },
         {
          "pc1": 4.09070348739624,
          "pc2": -85.97413635253906
         },
         {
          "pc1": 44.875,
          "pc2": 41.65742111206055
         },
         {
          "pc1": -13.860745429992676,
          "pc2": -76.80144500732422
         },
         {
          "pc1": -62.82012176513672,
          "pc2": -13.255892753601074
         },
         {
          "pc1": -32.38480758666992,
          "pc2": -62.178157806396484
         },
         {
          "pc1": 0.5609285831451416,
          "pc2": 32.7625846862793
         },
         {
          "pc1": 6.6790313720703125,
          "pc2": -6.44589376449585
         },
         {
          "pc1": 1.5628330707550049,
          "pc2": -1.7793669700622559
         },
         {
          "pc1": 50.57453918457031,
          "pc2": 4.074659824371338
         },
         {
          "pc1": -45.26719284057617,
          "pc2": 45.63557815551758
         },
         {
          "pc1": 27.285837173461914,
          "pc2": 50.3904914855957
         },
         {
          "pc1": 2.4593846797943115,
          "pc2": 57.96543884277344
         },
         {
          "pc1": 24.34172821044922,
          "pc2": 51.475669860839844
         },
         {
          "pc1": 0.4987275302410126,
          "pc2": 0.6265967488288879
         },
         {
          "pc1": -3.356959581375122,
          "pc2": 53.939308166503906
         },
         {
          "pc1": -40.26779556274414,
          "pc2": 50.87331771850586
         },
         {
          "pc1": 0.92777419090271,
          "pc2": 28.085599899291992
         },
         {
          "pc1": 2.7576053142547607,
          "pc2": 57.10801315307617
         },
         {
          "pc1": -0.15373533964157104,
          "pc2": 31.308788299560547
         },
         {
          "pc1": -26.62205696105957,
          "pc2": 21.346691131591797
         },
         {
          "pc1": -52.968963623046875,
          "pc2": 40.30503463745117
         },
         {
          "pc1": -10.82987117767334,
          "pc2": -83.70755004882812
         },
         {
          "pc1": 1.8985850811004639,
          "pc2": 42.68389129638672
         },
         {
          "pc1": 53.161041259765625,
          "pc2": 32.717254638671875
         },
         {
          "pc1": -32.406524658203125,
          "pc2": 58.66520690917969
         },
         {
          "pc1": 59.595787048339844,
          "pc2": -20.301708221435547
         },
         {
          "pc1": -47.291893005371094,
          "pc2": 15.50385570526123
         },
         {
          "pc1": -42.23447036743164,
          "pc2": 19.385326385498047
         },
         {
          "pc1": -21.50368309020996,
          "pc2": -77.6874771118164
         },
         {
          "pc1": -52.7590446472168,
          "pc2": 40.10407638549805
         },
         {
          "pc1": -4.047659397125244,
          "pc2": -85.67406463623047
         },
         {
          "pc1": -36.12739562988281,
          "pc2": 55.629486083984375
         },
         {
          "pc1": 12.220823287963867,
          "pc2": 20.726543426513672
         },
         {
          "pc1": -19.598697662353516,
          "pc2": 10.66092586517334
         },
         {
          "pc1": -39.055503845214844,
          "pc2": 14.969001770019531
         },
         {
          "pc1": 28.821701049804688,
          "pc2": -51.24983215332031
         },
         {
          "pc1": 30.404254913330078,
          "pc2": -39.89270782470703
         },
         {
          "pc1": -10.523651123046875,
          "pc2": -20.44611167907715
         },
         {
          "pc1": -51.91901397705078,
          "pc2": -19.467029571533203
         },
         {
          "pc1": 2.6504149436950684,
          "pc2": 55.918434143066406
         },
         {
          "pc1": -28.54720115661621,
          "pc2": 61.32590866088867
         },
         {
          "pc1": 46.5980224609375,
          "pc2": 31.04598617553711
         },
         {
          "pc1": 2.8775479793548584,
          "pc2": -22.557558059692383
         },
         {
          "pc1": -31.03493309020996,
          "pc2": -68.92774200439453
         },
         {
          "pc1": -30.3841552734375,
          "pc2": 60.84229278564453
         },
         {
          "pc1": 1.771659016609192,
          "pc2": 41.81913375854492
         },
         {
          "pc1": 1.891451120376587,
          "pc2": 44.23356628417969
         },
         {
          "pc1": 54.89838409423828,
          "pc2": -23.8144588470459
         },
         {
          "pc1": -4.2585673332214355,
          "pc2": -50.12363815307617
         },
         {
          "pc1": 1.477506399154663,
          "pc2": 39.64655303955078
         },
         {
          "pc1": -4.684743881225586,
          "pc2": -21.303407669067383
         },
         {
          "pc1": 48.414798736572266,
          "pc2": 36.98785400390625
         },
         {
          "pc1": -9.612602233886719,
          "pc2": 66.84541320800781
         },
         {
          "pc1": 60.22011184692383,
          "pc2": 17.268606185913086
         },
         {
          "pc1": 0.3800567388534546,
          "pc2": 24.742578506469727
         },
         {
          "pc1": 2.5930604934692383,
          "pc2": 50.507545471191406
         },
         {
          "pc1": 56.12965393066406,
          "pc2": 6.74492883682251
         },
         {
          "pc1": -23.7451229095459,
          "pc2": -45.56305694580078
         },
         {
          "pc1": 0.5956846475601196,
          "pc2": 20.845922470092773
         },
         {
          "pc1": 33.59724426269531,
          "pc2": 48.14484786987305
         },
         {
          "pc1": 62.77761459350586,
          "pc2": -17.69841957092285
         },
         {
          "pc1": -38.69790267944336,
          "pc2": 52.40334701538086
         },
         {
          "pc1": 45.006893157958984,
          "pc2": 32.308353424072266
         },
         {
          "pc1": 60.147335052490234,
          "pc2": 14.744242668151855
         },
         {
          "pc1": -2.5232279300689697,
          "pc2": -21.417245864868164
         },
         {
          "pc1": -16.719606399536133,
          "pc2": -80.95748901367188
         },
         {
          "pc1": -10.455973625183105,
          "pc2": -83.89550018310547
         },
         {
          "pc1": 3.172536611557007,
          "pc2": 48.10102081298828
         },
         {
          "pc1": 50.88370895385742,
          "pc2": 14.7506685256958
         },
         {
          "pc1": 23.227914810180664,
          "pc2": 22.016441345214844
         },
         {
          "pc1": 35.27992630004883,
          "pc2": -1.101401686668396
         },
         {
          "pc1": 57.590606689453125,
          "pc2": 16.217416763305664
         },
         {
          "pc1": -32.1019401550293,
          "pc2": 59.25617218017578
         },
         {
          "pc1": 6.307543754577637,
          "pc2": 30.765954971313477
         },
         {
          "pc1": -27.699344635009766,
          "pc2": -73.02639770507812
         },
         {
          "pc1": -31.224178314208984,
          "pc2": -48.97807312011719
         },
         {
          "pc1": -45.423675537109375,
          "pc2": 16.871803283691406
         },
         {
          "pc1": -0.026610882952809334,
          "pc2": 5.119363784790039
         },
         {
          "pc1": 10.484347343444824,
          "pc2": -58.78358459472656
         },
         {
          "pc1": 0.7299515604972839,
          "pc2": 25.71694564819336
         },
         {
          "pc1": 2.967406749725342,
          "pc2": 55.25579071044922
         },
         {
          "pc1": -49.11309051513672,
          "pc2": 8.682662010192871
         },
         {
          "pc1": -21.31006622314453,
          "pc2": 29.425260543823242
         },
         {
          "pc1": 0.16364888846874237,
          "pc2": 2.1624863147735596
         },
         {
          "pc1": -12.9760160446167,
          "pc2": 12.166821479797363
         },
         {
          "pc1": 57.26087188720703,
          "pc2": -21.984172821044922
         },
         {
          "pc1": -33.179054260253906,
          "pc2": -20.759817123413086
         },
         {
          "pc1": -40.92195510864258,
          "pc2": 19.007108688354492
         },
         {
          "pc1": -38.249412536621094,
          "pc2": 53.36601257324219
         },
         {
          "pc1": 0.8727092146873474,
          "pc2": 33.24650955200195
         },
         {
          "pc1": -22.542030334472656,
          "pc2": 64.27857208251953
         },
         {
          "pc1": -41.793556213378906,
          "pc2": 49.28814697265625
         },
         {
          "pc1": 14.034210205078125,
          "pc2": -25.768146514892578
         },
         {
          "pc1": 28.753002166748047,
          "pc2": 49.85495376586914
         },
         {
          "pc1": -19.331586837768555,
          "pc2": 6.803877353668213
         },
         {
          "pc1": 27.220666885375977,
          "pc2": -9.654687881469727
         },
         {
          "pc1": -0.24769894778728485,
          "pc2": 9.089500427246094
         },
         {
          "pc1": -44.30530548095703,
          "pc2": 11.69494915008545
         },
         {
          "pc1": 39.18222427368164,
          "pc2": 18.99748420715332
         },
         {
          "pc1": 62.679012298583984,
          "pc2": -18.373428344726562
         },
         {
          "pc1": 33.74516677856445,
          "pc2": 22.287212371826172
         },
         {
          "pc1": -22.49958038330078,
          "pc2": -21.70283317565918
         },
         {
          "pc1": 21.420215606689453,
          "pc2": -26.46632194519043
         },
         {
          "pc1": 45.558048248291016,
          "pc2": 40.36597442626953
         },
         {
          "pc1": -34.93511962890625,
          "pc2": 15.448196411132812
         },
         {
          "pc1": 0.7506456971168518,
          "pc2": 19.87250328063965
         },
         {
          "pc1": 53.860008239746094,
          "pc2": 31.25033187866211
         },
         {
          "pc1": -30.020444869995117,
          "pc2": -1.8828097581863403
         },
         {
          "pc1": -21.759479522705078,
          "pc2": 64.35513305664062
         },
         {
          "pc1": 5.730671405792236,
          "pc2": -6.269810199737549
         },
         {
          "pc1": -34.328338623046875,
          "pc2": -1.5916450023651123
         },
         {
          "pc1": 18.825870513916016,
          "pc2": -26.48293113708496
         },
         {
          "pc1": 11.738283157348633,
          "pc2": -54.729942321777344
         },
         {
          "pc1": 6.066916465759277,
          "pc2": -6.517651081085205
         },
         {
          "pc1": 2.394364356994629,
          "pc2": -28.435829162597656
         },
         {
          "pc1": -26.03610610961914,
          "pc2": -74.01547241210938
         },
         {
          "pc1": 1.6096421480178833,
          "pc2": 41.48484420776367
         },
         {
          "pc1": -51.549346923828125,
          "pc2": 33.224361419677734
         },
         {
          "pc1": 57.66745376586914,
          "pc2": 19.307537078857422
         },
         {
          "pc1": 9.576851844787598,
          "pc2": 10.861726760864258
         },
         {
          "pc1": -6.251342296600342,
          "pc2": 66.4832992553711
         },
         {
          "pc1": 22.30390167236328,
          "pc2": -57.097267150878906
         },
         {
          "pc1": -57.06254959106445,
          "pc2": 37.761375427246094
         },
         {
          "pc1": -25.44355010986328,
          "pc2": 2.4962236881256104
         },
         {
          "pc1": -48.32011032104492,
          "pc2": 43.33147048950195
         },
         {
          "pc1": 30.47524642944336,
          "pc2": 40.896209716796875
         },
         {
          "pc1": -27.75154685974121,
          "pc2": 20.4271240234375
         },
         {
          "pc1": -16.84314727783203,
          "pc2": 8.403024673461914
         },
         {
          "pc1": -29.507427215576172,
          "pc2": 61.17993927001953
         },
         {
          "pc1": 37.5388298034668,
          "pc2": 41.812286376953125
         },
         {
          "pc1": 58.9210205078125,
          "pc2": 17.85199737548828
         },
         {
          "pc1": 2.6039865016937256,
          "pc2": 49.97862243652344
         },
         {
          "pc1": 39.645713806152344,
          "pc2": 41.63153076171875
         },
         {
          "pc1": 0.501600444316864,
          "pc2": 35.347904205322266
         },
         {
          "pc1": -0.03111429139971733,
          "pc2": 2.2802553176879883
         },
         {
          "pc1": -44.59592056274414,
          "pc2": 15.958250999450684
         },
         {
          "pc1": -32.695491790771484,
          "pc2": -66.45677185058594
         },
         {
          "pc1": -43.762474060058594,
          "pc2": 46.98988723754883
         },
         {
          "pc1": -31.519912719726562,
          "pc2": -70.10314178466797
         },
         {
          "pc1": 34.14823532104492,
          "pc2": -11.332408905029297
         },
         {
          "pc1": 2.1041030883789062,
          "pc2": 46.4031982421875
         },
         {
          "pc1": 64.24251556396484,
          "pc2": -15.715569496154785
         },
         {
          "pc1": -34.44704055786133,
          "pc2": 19.13661003112793
         },
         {
          "pc1": -15.842743873596191,
          "pc2": -47.43122100830078
         },
         {
          "pc1": 40.65528106689453,
          "pc2": -6.290905952453613
         },
         {
          "pc1": 2.910600423812866,
          "pc2": 56.07242965698242
         },
         {
          "pc1": -8.638945579528809,
          "pc2": -21.011932373046875
         },
         {
          "pc1": 2.070035457611084,
          "pc2": 46.201934814453125
         },
         {
          "pc1": 58.52273941040039,
          "pc2": -17.250181198120117
         },
         {
          "pc1": -39.259090423583984,
          "pc2": 52.074317932128906
         },
         {
          "pc1": -39.697853088378906,
          "pc2": 51.45207214355469
         },
         {
          "pc1": 6.4051103591918945,
          "pc2": -5.920351028442383
         },
         {
          "pc1": -49.21471405029297,
          "pc2": 42.741485595703125
         },
         {
          "pc1": 0.7782686948776245,
          "pc2": 14.114596366882324
         },
         {
          "pc1": -10.456564903259277,
          "pc2": 66.81981658935547
         },
         {
          "pc1": -10.149930000305176,
          "pc2": -20.680068969726562
         },
         {
          "pc1": 33.850425720214844,
          "pc2": -7.837477207183838
         },
         {
          "pc1": 15.929065704345703,
          "pc2": -58.69451904296875
         },
         {
          "pc1": -28.70021629333496,
          "pc2": 19.141109466552734
         },
         {
          "pc1": -25.331693649291992,
          "pc2": 51.67744445800781
         },
         {
          "pc1": -3.759190320968628,
          "pc2": -84.7559814453125
         },
         {
          "pc1": -4.37972354888916,
          "pc2": 53.40469741821289
         },
         {
          "pc1": 0.7129335999488831,
          "pc2": 28.634309768676758
         },
         {
          "pc1": -24.37337875366211,
          "pc2": 35.059165954589844
         },
         {
          "pc1": 27.61085319519043,
          "pc2": -11.263145446777344
         },
         {
          "pc1": 0.6056841611862183,
          "pc2": 2.7121078968048096
         },
         {
          "pc1": 2.5879111289978027,
          "pc2": 53.34560775756836
         },
         {
          "pc1": 0.7989082336425781,
          "pc2": 34.59210205078125
         },
         {
          "pc1": -63.057884216308594,
          "pc2": -9.849780082702637
         },
         {
          "pc1": 13.977751731872559,
          "pc2": -56.71980667114258
         },
         {
          "pc1": 2.3414907455444336,
          "pc2": 48.39993667602539
         },
         {
          "pc1": -51.35633850097656,
          "pc2": 41.27989959716797
         },
         {
          "pc1": -48.355323791503906,
          "pc2": 32.367557525634766
         },
         {
          "pc1": 59.45597457885742,
          "pc2": 11.723517417907715
         },
         {
          "pc1": 1.9685156345367432,
          "pc2": 45.79143524169922
         },
         {
          "pc1": -2.745926856994629,
          "pc2": 51.442996978759766
         },
         {
          "pc1": 1.1298644542694092,
          "pc2": 61.2791748046875
         },
         {
          "pc1": 59.291107177734375,
          "pc2": -16.24275016784668
         },
         {
          "pc1": 6.549627780914307,
          "pc2": -7.249840259552002
         },
         {
          "pc1": 5.786491394042969,
          "pc2": 29.032947540283203
         },
         {
          "pc1": 28.91874885559082,
          "pc2": -42.81519317626953
         },
         {
          "pc1": 27.117137908935547,
          "pc2": -5.788267612457275
         },
         {
          "pc1": 24.322376251220703,
          "pc2": -43.582191467285156
         },
         {
          "pc1": 0.4914837181568146,
          "pc2": 17.942358016967773
         },
         {
          "pc1": 72.49658966064453,
          "pc2": 1.724524736404419
         },
         {
          "pc1": 28.3950138092041,
          "pc2": 40.86171340942383
         },
         {
          "pc1": 25.787717819213867,
          "pc2": -54.58747863769531
         },
         {
          "pc1": 2.5041136741638184,
          "pc2": 56.625186920166016
         },
         {
          "pc1": 10.451950073242188,
          "pc2": -2.7744834423065186
         },
         {
          "pc1": 0.6851739883422852,
          "pc2": 15.425973892211914
         },
         {
          "pc1": 49.19612121582031,
          "pc2": 27.83201026916504
         },
         {
          "pc1": -20.915992736816406,
          "pc2": -45.0749397277832
         },
         {
          "pc1": 0.9699927568435669,
          "pc2": 61.09450149536133
         },
         {
          "pc1": -33.85611343383789,
          "pc2": -66.41088104248047
         },
         {
          "pc1": 0.43063464760780334,
          "pc2": 12.373661994934082
         },
         {
          "pc1": 0.634259045124054,
          "pc2": 27.735931396484375
         },
         {
          "pc1": -44.12934112548828,
          "pc2": -19.572120666503906
         },
         {
          "pc1": 2.225163459777832,
          "pc2": 47.615604400634766
         },
         {
          "pc1": -5.896795749664307,
          "pc2": 57.62781524658203
         },
         {
          "pc1": -18.904399871826172,
          "pc2": 65.24163055419922
         },
         {
          "pc1": 22.642436981201172,
          "pc2": -30.50844955444336
         },
         {
          "pc1": 0.2062850296497345,
          "pc2": 1.5596550703048706
         },
         {
          "pc1": -22.466022491455078,
          "pc2": 24.566207885742188
         },
         {
          "pc1": -5.6706929206848145,
          "pc2": 66.35824584960938
         },
         {
          "pc1": -2.6164162158966064,
          "pc2": 64.75971984863281
         },
         {
          "pc1": -36.28999710083008,
          "pc2": 55.77676010131836
         },
         {
          "pc1": -47.14649200439453,
          "pc2": 44.30348587036133
         },
         {
          "pc1": -1.7985515594482422,
          "pc2": 63.54924011230469
         },
         {
          "pc1": 48.49540328979492,
          "pc2": 6.5022735595703125
         },
         {
          "pc1": 24.002532958984375,
          "pc2": -32.360984802246094
         },
         {
          "pc1": -3.46066951751709,
          "pc2": 54.188438415527344
         },
         {
          "pc1": -22.72104835510254,
          "pc2": -45.30830764770508
         },
         {
          "pc1": -43.67728805541992,
          "pc2": 47.491424560546875
         },
         {
          "pc1": -52.15190887451172,
          "pc2": -13.371416091918945
         },
         {
          "pc1": 22.80300521850586,
          "pc2": 25.448076248168945
         },
         {
          "pc1": -35.2487907409668,
          "pc2": 16.201011657714844
         },
         {
          "pc1": 2.9429233074188232,
          "pc2": 56.433837890625
         },
         {
          "pc1": -22.947160720825195,
          "pc2": 54.058258056640625
         },
         {
          "pc1": 14.188008308410645,
          "pc2": -56.66075134277344
         },
         {
          "pc1": -64.39476776123047,
          "pc2": -6.887235641479492
         },
         {
          "pc1": -48.62688064575195,
          "pc2": 7.075258255004883
         },
         {
          "pc1": -57.40037536621094,
          "pc2": 38.03244400024414
         },
         {
          "pc1": -25.649499893188477,
          "pc2": 2.0955615043640137
         },
         {
          "pc1": 0.7531449794769287,
          "pc2": 18.220563888549805
         },
         {
          "pc1": 72.41431427001953,
          "pc2": 2.555548906326294
         },
         {
          "pc1": -37.8078727722168,
          "pc2": 53.971622467041016
         },
         {
          "pc1": -22.808670043945312,
          "pc2": -45.89989471435547
         },
         {
          "pc1": -38.707275390625,
          "pc2": 52.81322479248047
         },
         {
          "pc1": 14.364723205566406,
          "pc2": 20.543067932128906
         },
         {
          "pc1": -48.78183364868164,
          "pc2": 8.601058959960938
         },
         {
          "pc1": -15.242704391479492,
          "pc2": 32.78197479248047
         },
         {
          "pc1": -19.615604400634766,
          "pc2": 7.027234077453613
         },
         {
          "pc1": 0.6247557401657104,
          "pc2": 15.645255088806152
         },
         {
          "pc1": -37.271827697753906,
          "pc2": 54.672061920166016
         },
         {
          "pc1": 2.8159162998199463,
          "pc2": 54.81528091430664
         },
         {
          "pc1": -56.28152084350586,
          "pc2": 38.04616165161133
         },
         {
          "pc1": -14.995116233825684,
          "pc2": 66.58646392822266
         },
         {
          "pc1": -48.058895111083984,
          "pc2": 32.461181640625
         },
         {
          "pc1": -57.57416534423828,
          "pc2": -17.162723541259766
         },
         {
          "pc1": -11.63576889038086,
          "pc2": 15.016854286193848
         },
         {
          "pc1": -40.804012298583984,
          "pc2": 12.300551414489746
         },
         {
          "pc1": -46.49723815917969,
          "pc2": -20.373451232910156
         },
         {
          "pc1": -32.029747009277344,
          "pc2": -2.5064752101898193
         },
         {
          "pc1": 53.54702377319336,
          "pc2": 32.63570785522461
         },
         {
          "pc1": 47.252437591552734,
          "pc2": 6.849740982055664
         },
         {
          "pc1": 24.055341720581055,
          "pc2": 50.10140609741211
         },
         {
          "pc1": 51.06401443481445,
          "pc2": 22.27254867553711
         },
         {
          "pc1": -37.56400680541992,
          "pc2": -20.237457275390625
         },
         {
          "pc1": -21.4556884765625,
          "pc2": 27.974842071533203
         },
         {
          "pc1": 0.8311278820037842,
          "pc2": 16.975404739379883
         },
         {
          "pc1": 20.25836753845215,
          "pc2": 21.603242874145508
         },
         {
          "pc1": -13.395048141479492,
          "pc2": 66.77886962890625
         },
         {
          "pc1": 32.09279251098633,
          "pc2": 19.281627655029297
         },
         {
          "pc1": -0.10415864735841751,
          "pc2": 28.67814064025879
         },
         {
          "pc1": -0.8524146676063538,
          "pc2": 4.253746032714844
         },
         {
          "pc1": -6.062671661376953,
          "pc2": 66.93016052246094
         },
         {
          "pc1": -63.64857864379883,
          "pc2": -8.162053108215332
         },
         {
          "pc1": 56.393821716308594,
          "pc2": -19.275096893310547
         },
         {
          "pc1": 0.8024228811264038,
          "pc2": 0.42853036522865295
         },
         {
          "pc1": 3.1646697521209717,
          "pc2": 53.55216979980469
         },
         {
          "pc1": -40.83031463623047,
          "pc2": 21.628664016723633
         },
         {
          "pc1": -64.27452850341797,
          "pc2": -6.261074542999268
         },
         {
          "pc1": -61.72319030761719,
          "pc2": -12.691056251525879
         },
         {
          "pc1": -47.888641357421875,
          "pc2": 44.280887603759766
         },
         {
          "pc1": -23.998210906982422,
          "pc2": 35.06020736694336
         },
         {
          "pc1": -29.772415161132812,
          "pc2": -61.90034103393555
         },
         {
          "pc1": 4.827178478240967,
          "pc2": -5.418097972869873
         },
         {
          "pc1": 56.06666564941406,
          "pc2": 9.201737403869629
         },
         {
          "pc1": 0.04299577698111534,
          "pc2": 15.494429588317871
         },
         {
          "pc1": 42.45750427246094,
          "pc2": 40.67453384399414
         },
         {
          "pc1": 7.307479381561279,
          "pc2": -7.0961408615112305
         },
         {
          "pc1": -51.65731430053711,
          "pc2": 40.53693389892578
         },
         {
          "pc1": -27.56751251220703,
          "pc2": 62.46379470825195
         },
         {
          "pc1": 48.02322006225586,
          "pc2": 29.67178726196289
         },
         {
          "pc1": 39.97516632080078,
          "pc2": 43.13617706298828
         },
         {
          "pc1": -1.6855978965759277,
          "pc2": 63.908302307128906
         },
         {
          "pc1": 49.78385925292969,
          "pc2": 37.59000778198242
         },
         {
          "pc1": -5.720466613769531,
          "pc2": 66.29783630371094
         },
         {
          "pc1": 0.5864522457122803,
          "pc2": 26.90765380859375
         },
         {
          "pc1": -26.739364624023438,
          "pc2": 5.262657642364502
         },
         {
          "pc1": 1.1182570457458496,
          "pc2": 30.670042037963867
         },
         {
          "pc1": 70.9396743774414,
          "pc2": -2.2138497829437256
         },
         {
          "pc1": -5.923818588256836,
          "pc2": 65.62879180908203
         },
         {
          "pc1": 28.408885955810547,
          "pc2": 40.86056900024414
         },
         {
          "pc1": 52.64373779296875,
          "pc2": 30.672958374023438
         },
         {
          "pc1": -21.69003677368164,
          "pc2": -76.8299331665039
         },
         {
          "pc1": 58.52916717529297,
          "pc2": 26.49950408935547
         },
         {
          "pc1": -4.0288801193237305,
          "pc2": 52.29738998413086
         },
         {
          "pc1": -51.4348030090332,
          "pc2": 41.22036361694336
         },
         {
          "pc1": 10.219139099121094,
          "pc2": 2.1578609943389893
         },
         {
          "pc1": -32.766212463378906,
          "pc2": -50.42625427246094
         },
         {
          "pc1": -48.642574310302734,
          "pc2": 33.67864990234375
         },
         {
          "pc1": 1.8669347763061523,
          "pc2": 45.037757873535156
         },
         {
          "pc1": -6.066554546356201,
          "pc2": 57.81832504272461
         },
         {
          "pc1": -27.345043182373047,
          "pc2": 62.53316879272461
         },
         {
          "pc1": -14.565397262573242,
          "pc2": 66.72322082519531
         },
         {
          "pc1": 1.3066076040267944,
          "pc2": -2.176395893096924
         },
         {
          "pc1": 0.5471022129058838,
          "pc2": 19.256784439086914
         },
         {
          "pc1": -38.502384185791016,
          "pc2": 53.13609313964844
         },
         {
          "pc1": -3.4660027027130127,
          "pc2": 65.29722595214844
         },
         {
          "pc1": -51.71337127685547,
          "pc2": 33.18411636352539
         },
         {
          "pc1": -44.32347106933594,
          "pc2": -20.320371627807617
         },
         {
          "pc1": -33.67628479003906,
          "pc2": 16.469911575317383
         },
         {
          "pc1": -2.104135751724243,
          "pc2": 64.21649932861328
         },
         {
          "pc1": -0.021383345127105713,
          "pc2": 3.3869082927703857
         },
         {
          "pc1": 2.9029111862182617,
          "pc2": -3.978785753250122
         },
         {
          "pc1": 58.56064224243164,
          "pc2": 26.44915199279785
         },
         {
          "pc1": -28.040420532226562,
          "pc2": 22.187885284423828
         },
         {
          "pc1": 45.309967041015625,
          "pc2": 40.479530334472656
         },
         {
          "pc1": -38.138206481933594,
          "pc2": 54.27963638305664
         },
         {
          "pc1": -15.161482810974121,
          "pc2": -47.50992965698242
         },
         {
          "pc1": 24.351430892944336,
          "pc2": 21.486696243286133
         },
         {
          "pc1": 29.934965133666992,
          "pc2": -48.54209899902344
         },
         {
          "pc1": 45.94214630126953,
          "pc2": -4.697213172912598
         },
         {
          "pc1": 55.08749008178711,
          "pc2": 32.32206726074219
         },
         {
          "pc1": 35.3514518737793,
          "pc2": 41.67496871948242
         },
         {
          "pc1": 1.5844793319702148,
          "pc2": 41.1364860534668
         },
         {
          "pc1": 2.756908416748047,
          "pc2": 57.10908889770508
         },
         {
          "pc1": 0.9799851179122925,
          "pc2": 36.191829681396484
         },
         {
          "pc1": 51.16263198852539,
          "pc2": 16.46235466003418
         },
         {
          "pc1": -7.507262706756592,
          "pc2": 66.6736068725586
         },
         {
          "pc1": 60.26030731201172,
          "pc2": 18.105724334716797
         },
         {
          "pc1": 0.7565738558769226,
          "pc2": 18.360013961791992
         },
         {
          "pc1": -50.1154670715332,
          "pc2": 41.91991424560547
         },
         {
          "pc1": -54.003631591796875,
          "pc2": -13.091330528259277
         },
         {
          "pc1": 0.4829566180706024,
          "pc2": 61.88792037963867
         },
         {
          "pc1": 52.95503234863281,
          "pc2": 7.051451683044434
         },
         {
          "pc1": 2.8461384773254395,
          "pc2": 51.91361999511719
         },
         {
          "pc1": 0.9249800443649292,
          "pc2": -0.6165530681610107
         },
         {
          "pc1": -52.37193298339844,
          "pc2": 40.69290542602539
         },
         {
          "pc1": 51.30603790283203,
          "pc2": 18.27995491027832
         },
         {
          "pc1": 34.68681716918945,
          "pc2": 18.308683395385742
         },
         {
          "pc1": -5.048911094665527,
          "pc2": -23.491334915161133
         },
         {
          "pc1": 29.385814666748047,
          "pc2": 39.48542785644531
         },
         {
          "pc1": 0.5151677131652832,
          "pc2": 19.825037002563477
         },
         {
          "pc1": -22.396839141845703,
          "pc2": -18.294626235961914
         },
         {
          "pc1": -17.04183006286621,
          "pc2": 8.681473731994629
         },
         {
          "pc1": -19.880191802978516,
          "pc2": 65.34183502197266
         },
         {
          "pc1": 36.589073181152344,
          "pc2": 16.623600006103516
         },
         {
          "pc1": -32.45269775390625,
          "pc2": -2.891385078430176
         },
         {
          "pc1": -29.536924362182617,
          "pc2": 61.136146545410156
         },
         {
          "pc1": -48.32670211791992,
          "pc2": 43.326805114746094
         },
         {
          "pc1": -3.260713815689087,
          "pc2": 65.28978729248047
         },
         {
          "pc1": -46.65212631225586,
          "pc2": 44.74824142456055
         },
         {
          "pc1": -47.453678131103516,
          "pc2": 43.890892028808594
         },
         {
          "pc1": -27.586172103881836,
          "pc2": 51.77798843383789
         },
         {
          "pc1": -28.91168212890625,
          "pc2": -24.62242317199707
         },
         {
          "pc1": -14.419145584106445,
          "pc2": 66.63786315917969
         },
         {
          "pc1": -22.196680068969727,
          "pc2": -45.266483306884766
         },
         {
          "pc1": -15.397168159484863,
          "pc2": -80.8493423461914
         },
         {
          "pc1": -29.16482925415039,
          "pc2": 61.37382507324219
         },
         {
          "pc1": -18.8447208404541,
          "pc2": 65.79519653320312
         },
         {
          "pc1": 35.25038146972656,
          "pc2": 46.8482666015625
         },
         {
          "pc1": 2.1505401134490967,
          "pc2": 47.400550842285156
         },
         {
          "pc1": 16.95311164855957,
          "pc2": 21.360187530517578
         },
         {
          "pc1": -47.52991485595703,
          "pc2": 44.37359619140625
         },
         {
          "pc1": 2.647709369659424,
          "pc2": 55.75220489501953
         },
         {
          "pc1": 1.3608980178833008,
          "pc2": -22.950298309326172
         },
         {
          "pc1": 45.62552261352539,
          "pc2": 41.41695785522461
         },
         {
          "pc1": -2.349644422531128,
          "pc2": 64.80643463134766
         },
         {
          "pc1": 2.5913898944854736,
          "pc2": 58.31768035888672
         },
         {
          "pc1": 53.14470291137695,
          "pc2": 7.747673034667969
         },
         {
          "pc1": -4.615682125091553,
          "pc2": 65.85887908935547
         },
         {
          "pc1": -46.10982894897461,
          "pc2": 16.389039993286133
         },
         {
          "pc1": 0.6433178782463074,
          "pc2": 30.121774673461914
         },
         {
          "pc1": 52.45053482055664,
          "pc2": 31.490779876708984
         },
         {
          "pc1": 14.929189682006836,
          "pc2": -26.9962158203125
         },
         {
          "pc1": 7.870267868041992,
          "pc2": -57.86723709106445
         },
         {
          "pc1": -34.28056335449219,
          "pc2": -20.10350227355957
         },
         {
          "pc1": -43.9613151550293,
          "pc2": 11.877774238586426
         },
         {
          "pc1": -25.30387306213379,
          "pc2": 63.215728759765625
         },
         {
          "pc1": -38.395469665527344,
          "pc2": 13.92527961730957
         },
         {
          "pc1": -19.34027671813965,
          "pc2": 65.62068939208984
         },
         {
          "pc1": 0.10378365218639374,
          "pc2": 33.3342399597168
         },
         {
          "pc1": -13.887155532836914,
          "pc2": -20.146907806396484
         },
         {
          "pc1": 12.365803718566895,
          "pc2": -54.90336227416992
         },
         {
          "pc1": -34.435401916503906,
          "pc2": -53.343467712402344
         },
         {
          "pc1": 40.824546813964844,
          "pc2": -5.448450565338135
         },
         {
          "pc1": 1.99053955078125,
          "pc2": 60.224388122558594
         },
         {
          "pc1": -45.76303482055664,
          "pc2": 16.60982894897461
         },
         {
          "pc1": 1.8641271591186523,
          "pc2": 42.749752044677734
         },
         {
          "pc1": -1.4744306802749634,
          "pc2": -86.02909088134766
         },
         {
          "pc1": -41.1275634765625,
          "pc2": 49.96906661987305
         },
         {
          "pc1": -22.969924926757812,
          "pc2": 52.887474060058594
         },
         {
          "pc1": -19.256864547729492,
          "pc2": 65.549560546875
         },
         {
          "pc1": 0.4954858422279358,
          "pc2": -85.7755126953125
         },
         {
          "pc1": -56.75735092163086,
          "pc2": 38.458892822265625
         },
         {
          "pc1": -16.269676208496094,
          "pc2": 66.47418975830078
         },
         {
          "pc1": -13.012825012207031,
          "pc2": 11.716590881347656
         },
         {
          "pc1": 2.53389835357666,
          "pc2": 57.35097122192383
         },
         {
          "pc1": 71.47607421875,
          "pc2": -2.6525309085845947
         },
         {
          "pc1": 0.7277864217758179,
          "pc2": 24.621196746826172
         },
         {
          "pc1": 32.4841423034668,
          "pc2": -3.5386104583740234
         },
         {
          "pc1": -9.611493110656738,
          "pc2": -84.431396484375
         },
         {
          "pc1": 2.8823580741882324,
          "pc2": 53.88643264770508
         },
         {
          "pc1": -1.3724098205566406,
          "pc2": 64.10417175292969
         },
         {
          "pc1": -27.462018966674805,
          "pc2": 50.318641662597656
         },
         {
          "pc1": 8.060054779052734,
          "pc2": -7.176853179931641
         },
         {
          "pc1": -22.990251541137695,
          "pc2": 54.051170349121094
         },
         {
          "pc1": 0.8321779370307922,
          "pc2": 25.278230667114258
         },
         {
          "pc1": 0.2252829670906067,
          "pc2": 35.815284729003906
         },
         {
          "pc1": -20.598011016845703,
          "pc2": 26.657421112060547
         },
         {
          "pc1": -29.371559143066406,
          "pc2": -19.908016204833984
         },
         {
          "pc1": 59.26417541503906,
          "pc2": 24.142242431640625
         },
         {
          "pc1": -35.08430480957031,
          "pc2": 57.10573196411133
         },
         {
          "pc1": 0.6689783930778503,
          "pc2": 28.226499557495117
         },
         {
          "pc1": -5.94736385345459,
          "pc2": 66.43529510498047
         },
         {
          "pc1": -27.17823028564453,
          "pc2": -47.21088790893555
         },
         {
          "pc1": -39.994659423828125,
          "pc2": -20.492496490478516
         },
         {
          "pc1": -55.21126174926758,
          "pc2": 38.882179260253906
         },
         {
          "pc1": -37.84140396118164,
          "pc2": 15.199597358703613
         },
         {
          "pc1": 28.01802635192871,
          "pc2": 19.661579132080078
         },
         {
          "pc1": -29.5201473236084,
          "pc2": 48.93024444580078
         },
         {
          "pc1": 4.817832946777344,
          "pc2": -23.35911750793457
         },
         {
          "pc1": 0.08834035694599152,
          "pc2": 2.3440206050872803
         },
         {
          "pc1": -34.26064682006836,
          "pc2": -0.6282569169998169
         },
         {
          "pc1": 52.5760383605957,
          "pc2": 22.3302001953125
         },
         {
          "pc1": 46.3370246887207,
          "pc2": 32.81079864501953
         },
         {
          "pc1": 73.11268615722656,
          "pc2": 2.5786802768707275
         },
         {
          "pc1": 57.80809783935547,
          "pc2": 26.9671630859375
         },
         {
          "pc1": -23.428279876708984,
          "pc2": 63.96931838989258
         },
         {
          "pc1": 16.199237823486328,
          "pc2": 21.811059951782227
         },
         {
          "pc1": 60.02894592285156,
          "pc2": -20.044275283813477
         },
         {
          "pc1": 0.6159639358520508,
          "pc2": 31.368061065673828
         },
         {
          "pc1": 31.923919677734375,
          "pc2": -12.389570236206055
         },
         {
          "pc1": 0.512184202671051,
          "pc2": 32.336822509765625
         },
         {
          "pc1": 29.682842254638672,
          "pc2": -8.503337860107422
         },
         {
          "pc1": 0.7851373553276062,
          "pc2": 18.08664321899414
         },
         {
          "pc1": 28.023616790771484,
          "pc2": 19.659568786621094
         },
         {
          "pc1": -47.990840911865234,
          "pc2": 7.400746822357178
         },
         {
          "pc1": -1.6450142860412598,
          "pc2": 64.36720275878906
         },
         {
          "pc1": 67.67694854736328,
          "pc2": -3.4936575889587402
         },
         {
          "pc1": -52.899574279785156,
          "pc2": 40.436668395996094
         },
         {
          "pc1": -21.047515869140625,
          "pc2": 64.9464340209961
         },
         {
          "pc1": 0.5347468256950378,
          "pc2": 18.757875442504883
         },
         {
          "pc1": -28.00564956665039,
          "pc2": -46.47142791748047
         },
         {
          "pc1": -31.83145523071289,
          "pc2": 48.65923309326172
         },
         {
          "pc1": 2.898977756500244,
          "pc2": 52.428157806396484
         },
         {
          "pc1": -45.20914077758789,
          "pc2": -19.981367111206055
         },
         {
          "pc1": 1.6948137283325195,
          "pc2": 59.33287048339844
         },
         {
          "pc1": -41.63655471801758,
          "pc2": 49.99345016479492
         },
         {
          "pc1": -1.1817280054092407,
          "pc2": -85.5961685180664
         },
         {
          "pc1": 37.118064880371094,
          "pc2": -9.9871187210083
         },
         {
          "pc1": -36.37881851196289,
          "pc2": 55.806602478027344
         },
         {
          "pc1": 25.412263870239258,
          "pc2": 40.16075134277344
         },
         {
          "pc1": -27.7934513092041,
          "pc2": 62.285152435302734
         },
         {
          "pc1": 2.342339515686035,
          "pc2": 48.58250427246094
         },
         {
          "pc1": -43.9891357421875,
          "pc2": 46.606475830078125
         },
         {
          "pc1": -30.96230125427246,
          "pc2": 47.605098724365234
         },
         {
          "pc1": -44.080074310302734,
          "pc2": 47.05599594116211
         },
         {
          "pc1": -42.67972946166992,
          "pc2": 48.150413513183594
         },
         {
          "pc1": -36.915061950683594,
          "pc2": 55.233802795410156
         },
         {
          "pc1": 5.083690166473389,
          "pc2": -5.623559474945068
         },
         {
          "pc1": 13.969422340393066,
          "pc2": -58.963626861572266
         },
         {
          "pc1": -23.187610626220703,
          "pc2": 64.11223602294922
         },
         {
          "pc1": -22.625154495239258,
          "pc2": 64.25426483154297
         },
         {
          "pc1": -23.250446319580078,
          "pc2": -45.43896484375
         },
         {
          "pc1": -0.08709906786680222,
          "pc2": 4.471568584442139
         },
         {
          "pc1": 31.190256118774414,
          "pc2": -4.8362956047058105
         },
         {
          "pc1": 2.018158435821533,
          "pc2": -2.229520797729492
         },
         {
          "pc1": 0.22793614864349365,
          "pc2": 10.11389446258545
         },
         {
          "pc1": -38.887054443359375,
          "pc2": 15.160534858703613
         },
         {
          "pc1": -7.317009449005127,
          "pc2": -47.3853874206543
         },
         {
          "pc1": 44.64474868774414,
          "pc2": -5.312868595123291
         },
         {
          "pc1": -29.05356216430664,
          "pc2": -0.5765881538391113
         },
         {
          "pc1": -27.995929718017578,
          "pc2": 62.171321868896484
         },
         {
          "pc1": 54.29731369018555,
          "pc2": 7.460409641265869
         },
         {
          "pc1": 46.19004821777344,
          "pc2": 31.29102325439453
         },
         {
          "pc1": -60.42666244506836,
          "pc2": -10.074947357177734
         },
         {
          "pc1": 33.5399055480957,
          "pc2": -0.7623002529144287
         },
         {
          "pc1": -13.058568954467773,
          "pc2": 66.72441101074219
         },
         {
          "pc1": 0.6016910672187805,
          "pc2": 15.491704940795898
         },
         {
          "pc1": 1.3266162872314453,
          "pc2": 60.524253845214844
         },
         {
          "pc1": -24.100536346435547,
          "pc2": 63.84865188598633
         },
         {
          "pc1": -17.811731338500977,
          "pc2": 7.729973316192627
         },
         {
          "pc1": -44.68555450439453,
          "pc2": 15.889230728149414
         },
         {
          "pc1": 0.7147889733314514,
          "pc2": 29.159273147583008
         },
         {
          "pc1": 65.32441711425781,
          "pc2": -15.461280822753906
         },
         {
          "pc1": -46.646907806396484,
          "pc2": 44.747283935546875
         },
         {
          "pc1": 3.1040709018707275,
          "pc2": -85.80545806884766
         },
         {
          "pc1": -56.534732818603516,
          "pc2": 37.500911712646484
         },
         {
          "pc1": -36.42129135131836,
          "pc2": 55.78926086425781
         },
         {
          "pc1": -32.1026611328125,
          "pc2": -50.42528533935547
         },
         {
          "pc1": 7.562623500823975,
          "pc2": -7.942049980163574
         },
         {
          "pc1": 64.89798736572266,
          "pc2": -16.190811157226562
         },
         {
          "pc1": -0.005219863727688789,
          "pc2": 7.193070411682129
         },
         {
          "pc1": -32.77139663696289,
          "pc2": -20.99932098388672
         },
         {
          "pc1": -22.5216064453125,
          "pc2": 26.419809341430664
         },
         {
          "pc1": 61.2015266418457,
          "pc2": -20.05070686340332
         },
         {
          "pc1": -10.685185432434082,
          "pc2": 60.50052261352539
         },
         {
          "pc1": -11.792695999145508,
          "pc2": 66.85224914550781
         },
         {
          "pc1": -21.218122482299805,
          "pc2": -76.14862823486328
         },
         {
          "pc1": 4.428503036499023,
          "pc2": -28.750024795532227
         },
         {
          "pc1": 4.636848449707031,
          "pc2": -5.046184539794922
         },
         {
          "pc1": 24.72593116760254,
          "pc2": 21.42888641357422
         },
         {
          "pc1": -13.260343551635742,
          "pc2": -20.27094268798828
         },
         {
          "pc1": 50.0451774597168,
          "pc2": 12.238821983337402
         },
         {
          "pc1": 0.7225739359855652,
          "pc2": 1.0368257761001587
         },
         {
          "pc1": 26.791231155395508,
          "pc2": -54.67784881591797
         },
         {
          "pc1": 59.72330856323242,
          "pc2": 12.536908149719238
         },
         {
          "pc1": -0.055123165249824524,
          "pc2": 4.91607141494751
         },
         {
          "pc1": -1.0866414308547974,
          "pc2": -50.98808288574219
         },
         {
          "pc1": 27.222402572631836,
          "pc2": -9.654016494750977
         },
         {
          "pc1": 51.20684814453125,
          "pc2": 21.628843307495117
         },
         {
          "pc1": -14.573469161987305,
          "pc2": 10.557591438293457
         },
         {
          "pc1": 2.2218520641326904,
          "pc2": 58.78505325317383
         },
         {
          "pc1": 72.92757415771484,
          "pc2": 4.091159820556641
         },
         {
          "pc1": 46.80060577392578,
          "pc2": 30.79469108581543
         },
         {
          "pc1": -21.338041305541992,
          "pc2": 53.040626525878906
         },
         {
          "pc1": -33.70680236816406,
          "pc2": -51.89876174926758
         },
         {
          "pc1": -9.805891990661621,
          "pc2": 66.84976959228516
         },
         {
          "pc1": 17.63715171813965,
          "pc2": -28.838157653808594
         },
         {
          "pc1": -22.2619571685791,
          "pc2": 64.42923736572266
         },
         {
          "pc1": 34.99470520019531,
          "pc2": 46.90699768066406
         },
         {
          "pc1": 48.154762268066406,
          "pc2": 8.014766693115234
         },
         {
          "pc1": 35.06038284301758,
          "pc2": 0.30758512020111084
         },
         {
          "pc1": -43.11764144897461,
          "pc2": 48.85562515258789
         },
         {
          "pc1": 57.849483489990234,
          "pc2": 11.61279296875
         },
         {
          "pc1": 0.2649749219417572,
          "pc2": 30.297395706176758
         },
         {
          "pc1": -14.034603118896484,
          "pc2": -20.70950698852539
         },
         {
          "pc1": -13.781471252441406,
          "pc2": 66.75540161132812
         },
         {
          "pc1": -54.51874923706055,
          "pc2": 39.35795593261719
         },
         {
          "pc1": -6.662484169006348,
          "pc2": -20.861541748046875
         },
         {
          "pc1": -0.034122008830308914,
          "pc2": 3.6684482097625732
         },
         {
          "pc1": 0.9164239764213562,
          "pc2": -0.19553494453430176
         },
         {
          "pc1": 27.03380584716797,
          "pc2": -5.797191619873047
         },
         {
          "pc1": 29.328554153442383,
          "pc2": -11.870959281921387
         },
         {
          "pc1": 0.671231746673584,
          "pc2": 0.020422611385583878
         },
         {
          "pc1": 6.276506423950195,
          "pc2": -6.611083030700684
         },
         {
          "pc1": -64.91425323486328,
          "pc2": -7.042973041534424
         },
         {
          "pc1": -33.03892135620117,
          "pc2": 58.47455978393555
         },
         {
          "pc1": 2.500563144683838,
          "pc2": 48.83359909057617
         },
         {
          "pc1": -63.74934768676758,
          "pc2": -9.011636734008789
         },
         {
          "pc1": -49.065773010253906,
          "pc2": 43.255455017089844
         },
         {
          "pc1": 42.178035736083984,
          "pc2": -2.5691981315612793
         },
         {
          "pc1": -27.440900802612305,
          "pc2": 61.54926681518555
         },
         {
          "pc1": 31.51641082763672,
          "pc2": -11.71521282196045
         },
         {
          "pc1": -61.07331848144531,
          "pc2": -8.860821723937988
         },
         {
          "pc1": 46.07404327392578,
          "pc2": 31.444467544555664
         },
         {
          "pc1": -14.0724458694458,
          "pc2": 32.06808090209961
         },
         {
          "pc1": -17.954126358032227,
          "pc2": 65.88782501220703
         },
         {
          "pc1": 51.87704849243164,
          "pc2": 14.231644630432129
         },
         {
          "pc1": -35.38668441772461,
          "pc2": -57.39185333251953
         },
         {
          "pc1": -64.43013763427734,
          "pc2": -6.965899467468262
         },
         {
          "pc1": -42.53635787963867,
          "pc2": -19.54043197631836
         },
         {
          "pc1": 0.591598391532898,
          "pc2": 27.816415786743164
         },
         {
          "pc1": 19.417705535888672,
          "pc2": -58.15195846557617
         },
         {
          "pc1": 0.5785093307495117,
          "pc2": 32.278846740722656
         },
         {
          "pc1": 2.7692489624023438,
          "pc2": 51.26850891113281
         },
         {
          "pc1": -0.03808366134762764,
          "pc2": 6.893251419067383
         },
         {
          "pc1": -55.908145904541016,
          "pc2": 38.15160369873047
         },
         {
          "pc1": 33.80475616455078,
          "pc2": -0.49805930256843567
         },
         {
          "pc1": 6.6228485107421875,
          "pc2": -24.054811477661133
         },
         {
          "pc1": -44.26688766479492,
          "pc2": 46.7859992980957
         },
         {
          "pc1": 9.615050315856934,
          "pc2": -3.4963300228118896
         },
         {
          "pc1": -32.078697204589844,
          "pc2": 59.585777282714844
         },
         {
          "pc1": -13.464631080627441,
          "pc2": 66.24182891845703
         },
         {
          "pc1": -31.712072372436523,
          "pc2": 21.764469146728516
         },
         {
          "pc1": 34.2758903503418,
          "pc2": 47.87896728515625
         },
         {
          "pc1": 29.540464401245117,
          "pc2": 41.33424758911133
         },
         {
          "pc1": 58.56528854370117,
          "pc2": 21.72998046875
         },
         {
          "pc1": -36.085147857666016,
          "pc2": -56.2808723449707
         },
         {
          "pc1": -37.85765838623047,
          "pc2": 53.8402099609375
         },
         {
          "pc1": -35.33639907836914,
          "pc2": 56.846622467041016
         },
         {
          "pc1": -57.16047668457031,
          "pc2": 37.760826110839844
         },
         {
          "pc1": -47.43033981323242,
          "pc2": 7.615878582000732
         },
         {
          "pc1": 15.526398658752441,
          "pc2": 21.58600616455078
         },
         {
          "pc1": -20.86288070678711,
          "pc2": 64.97867584228516
         },
         {
          "pc1": -49.62385177612305,
          "pc2": 42.43056106567383
         },
         {
          "pc1": 73.47358703613281,
          "pc2": 5.649645805358887
         },
         {
          "pc1": -21.74488067626953,
          "pc2": 64.7278060913086
         },
         {
          "pc1": 1.1133579015731812,
          "pc2": 37.1873893737793
         },
         {
          "pc1": -24.295978546142578,
          "pc2": -23.160146713256836
         },
         {
          "pc1": 0.721583366394043,
          "pc2": 33.583683013916016
         },
         {
          "pc1": -24.280536651611328,
          "pc2": 63.386783599853516
         },
         {
          "pc1": -36.58074188232422,
          "pc2": -19.551773071289062
         },
         {
          "pc1": 65.89720916748047,
          "pc2": -13.63461971282959
         },
         {
          "pc1": 0.08584520220756531,
          "pc2": 7.732738018035889
         },
         {
          "pc1": -13.389452934265137,
          "pc2": 67.54137420654297
         },
         {
          "pc1": 48.084205627441406,
          "pc2": 29.65316390991211
         },
         {
          "pc1": -38.022945404052734,
          "pc2": 53.76156234741211
         },
         {
          "pc1": 2.1229360103607178,
          "pc2": -3.021594762802124
         },
         {
          "pc1": 71.50064849853516,
          "pc2": -2.413545846939087
         },
         {
          "pc1": -23.594369888305664,
          "pc2": 52.64619445800781
         },
         {
          "pc1": -22.002294540405273,
          "pc2": 26.713764190673828
         },
         {
          "pc1": 28.990283966064453,
          "pc2": 49.75364303588867
         },
         {
          "pc1": 2.156235933303833,
          "pc2": 46.92984390258789
         },
         {
          "pc1": -2.4632303714752197,
          "pc2": 63.9527587890625
         },
         {
          "pc1": 34.64529800415039,
          "pc2": 0.055222105234861374
         },
         {
          "pc1": -32.677494049072266,
          "pc2": 19.556285858154297
         },
         {
          "pc1": 0.915835976600647,
          "pc2": 35.304744720458984
         },
         {
          "pc1": 34.37880325317383,
          "pc2": -0.19585256278514862
         },
         {
          "pc1": -21.535306930541992,
          "pc2": 53.026947021484375
         },
         {
          "pc1": 3.4932947158813477,
          "pc2": -3.9790306091308594
         },
         {
          "pc1": -34.22764587402344,
          "pc2": 58.46424102783203
         },
         {
          "pc1": -30.979373931884766,
          "pc2": -19.444244384765625
         },
         {
          "pc1": 31.959007263183594,
          "pc2": -2.3367605209350586
         },
         {
          "pc1": -31.47995376586914,
          "pc2": -69.61568450927734
         },
         {
          "pc1": 74.23369598388672,
          "pc2": 8.39868450164795
         },
         {
          "pc1": 55.62485885620117,
          "pc2": -22.68958854675293
         },
         {
          "pc1": 2.562819242477417,
          "pc2": 44.918087005615234
         },
         {
          "pc1": -17.889385223388672,
          "pc2": 30.771333694458008
         },
         {
          "pc1": -1.4982564449310303,
          "pc2": 62.76437759399414
         },
         {
          "pc1": 1.4425290822982788,
          "pc2": 60.02696990966797
         },
         {
          "pc1": -27.17023468017578,
          "pc2": 0.9159314036369324
         },
         {
          "pc1": -6.226461887359619,
          "pc2": 57.97966003417969
         },
         {
          "pc1": -39.30086898803711,
          "pc2": 51.52469253540039
         },
         {
          "pc1": -38.90069580078125,
          "pc2": -20.191709518432617
         },
         {
          "pc1": -46.79603576660156,
          "pc2": -19.8824405670166
         },
         {
          "pc1": -0.018204381689429283,
          "pc2": 2.9319727420806885
         },
         {
          "pc1": -0.10863086581230164,
          "pc2": 28.637836456298828
         },
         {
          "pc1": 0.6646328568458557,
          "pc2": 29.687088012695312
         },
         {
          "pc1": -31.70085334777832,
          "pc2": 59.84514617919922
         },
         {
          "pc1": -30.99090003967285,
          "pc2": -66.2396011352539
         },
         {
          "pc1": -34.94866943359375,
          "pc2": -18.07297706604004
         },
         {
          "pc1": -12.968287467956543,
          "pc2": 66.77110290527344
         },
         {
          "pc1": -56.14450454711914,
          "pc2": -17.263587951660156
         },
         {
          "pc1": 2.3043510913848877,
          "pc2": 58.4781494140625
         },
         {
          "pc1": -32.7411994934082,
          "pc2": 58.76450729370117
         },
         {
          "pc1": -17.600738525390625,
          "pc2": 66.04608154296875
         },
         {
          "pc1": 57.74288558959961,
          "pc2": 9.258360862731934
         },
         {
          "pc1": 0.7531504034996033,
          "pc2": -22.873699188232422
         },
         {
          "pc1": -31.65203857421875,
          "pc2": -2.950063467025757
         },
         {
          "pc1": -16.117698669433594,
          "pc2": 66.35455322265625
         },
         {
          "pc1": -53.87981033325195,
          "pc2": 39.737674713134766
         },
         {
          "pc1": 60.071937561035156,
          "pc2": 12.376384735107422
         },
         {
          "pc1": 17.4431209564209,
          "pc2": 21.32210350036621
         },
         {
          "pc1": -3.4666249752044678,
          "pc2": -85.24921417236328
         },
         {
          "pc1": 4.195932388305664,
          "pc2": -4.976250171661377
         },
         {
          "pc1": 0.9884440898895264,
          "pc2": 35.92066955566406
         },
         {
          "pc1": -35.445106506347656,
          "pc2": 56.714778900146484
         },
         {
          "pc1": 29.147598266601562,
          "pc2": 20.35852813720703
         },
         {
          "pc1": 1.5786000490188599,
          "pc2": -2.093390941619873
         },
         {
          "pc1": 1.2323850393295288,
          "pc2": 38.52193832397461
         },
         {
          "pc1": -44.94059753417969,
          "pc2": 46.8279914855957
         },
         {
          "pc1": 69.84019470214844,
          "pc2": -6.29707145690918
         },
         {
          "pc1": 14.322702407836914,
          "pc2": 21.129159927368164
         },
         {
          "pc1": -24.8701229095459,
          "pc2": 51.94844055175781
         },
         {
          "pc1": -52.86722183227539,
          "pc2": 40.39090347290039
         },
         {
          "pc1": -48.493656158447266,
          "pc2": 33.69337844848633
         },
         {
          "pc1": 49.43098068237305,
          "pc2": 4.695777416229248
         },
         {
          "pc1": 66.74701690673828,
          "pc2": -13.002867698669434
         },
         {
          "pc1": -40.16651153564453,
          "pc2": 51.826412200927734
         },
         {
          "pc1": -28.233415603637695,
          "pc2": 62.866859436035156
         }
        ]
       },
       "hconcat": [
        {
         "data": {
          "name": "data-85af4477bc48fe5d217bf992f1a219e9"
         },
         "encoding": {
          "x": {
           "field": "pc1",
           "type": "quantitative"
          },
          "y": {
           "field": "pc2",
           "type": "quantitative"
          }
         },
         "height": 200,
         "mark": "point",
         "selection": {
          "selector008": {
           "bind": "scales",
           "encodings": [
            "x",
            "y"
           ],
           "type": "interval"
          }
         },
         "width": 200
        },
        {
         "data": {
          "name": "data-f96a84c5aa97c295303804dee9419e10"
         },
         "encoding": {
          "x": {
           "field": "pc1",
           "type": "quantitative"
          },
          "y": {
           "field": "pc2",
           "type": "quantitative"
          }
         },
         "height": 200,
         "mark": "point",
         "selection": {
          "selector009": {
           "bind": "scales",
           "encodings": [
            "x",
            "y"
           ],
           "type": "interval"
          }
         },
         "width": 200
        },
        {
         "data": {
          "name": "data-0d0717318b36284bf89ef30f6ac5354a"
         },
         "encoding": {
          "x": {
           "field": "pc1",
           "type": "quantitative"
          },
          "y": {
           "field": "pc2",
           "type": "quantitative"
          }
         },
         "height": 200,
         "mark": "point",
         "selection": {
          "selector010": {
           "bind": "scales",
           "encodings": [
            "x",
            "y"
           ],
           "type": "interval"
          }
         },
         "width": 200
        },
        {
         "data": {
          "name": "data-148be879894a6456489a4bb23524846f"
         },
         "encoding": {
          "x": {
           "field": "pc1",
           "type": "quantitative"
          },
          "y": {
           "field": "pc2",
           "type": "quantitative"
          }
         },
         "height": 200,
         "mark": "point",
         "selection": {
          "selector011": {
           "bind": "scales",
           "encodings": [
            "x",
            "y"
           ],
           "type": "interval"
          }
         },
         "width": 200
        },
        {
         "data": {
          "name": "data-2f572200da727fa75c27a4214a42ee22"
         },
         "encoding": {
          "x": {
           "field": "pc1",
           "type": "quantitative"
          },
          "y": {
           "field": "pc2",
           "type": "quantitative"
          }
         },
         "height": 200,
         "mark": "point",
         "selection": {
          "selector012": {
           "bind": "scales",
           "encodings": [
            "x",
            "y"
           ],
           "type": "interval"
          }
         },
         "width": 200
        },
        {
         "data": {
          "name": "data-cc0c2c9d7b98fbde22143069508206f6"
         },
         "encoding": {
          "x": {
           "field": "pc1",
           "type": "quantitative"
          },
          "y": {
           "field": "pc2",
           "type": "quantitative"
          }
         },
         "height": 200,
         "mark": "point",
         "selection": {
          "selector013": {
           "bind": "scales",
           "encodings": [
            "x",
            "y"
           ],
           "type": "interval"
          }
         },
         "width": 200
        },
        {
         "data": {
          "name": "data-f4f798fd48e0dbf46641af1cdf017939"
         },
         "encoding": {
          "x": {
           "field": "pc1",
           "type": "quantitative"
          },
          "y": {
           "field": "pc2",
           "type": "quantitative"
          }
         },
         "height": 200,
         "mark": "point",
         "selection": {
          "selector014": {
           "bind": "scales",
           "encodings": [
            "x",
            "y"
           ],
           "type": "interval"
          }
         },
         "width": 200
        }
       ]
      },
      "image/png": "[encoded data removed]",
      "text/plain": [
       "<VegaLite 3 object>\n",
       "\n",
       "If you see this message, it means the renderer has not been properly enabled\n",
       "for the frontend that you are using. For more information, see\n",
       "https://altair-viz.github.io/user_guide/troubleshooting.html\n"
      ]
     },
     "execution_count": 29,
     "metadata": {},
     "output_type": "execute_result"
    }
   ],
   "source": [
    "import altair as alt\n",
    "\n",
    "plots = []\n",
    "\n",
    "for label in np.unique(y):\n",
    "    pcs = pd.DataFrame({'pc1': tf[y == label, 0], 'pc2': tf[y == label, 1]})\n",
    "    plot = alt.Chart(pcs).mark_point().encode(x='pc1', y='pc2').properties(width=200, height=200).interactive() \n",
    "    plots.append(plot)\n",
    "\n",
    "alt.hconcat(*plots)"
   ]
  },
  {
   "cell_type": "code",
   "execution_count": null,
   "metadata": {},
   "outputs": [],
   "source": []
  }
 ],
 "metadata": {
  "kernelspec": {
   "display_name": "Python 3",
   "language": "python",
   "name": "python3"
  },
  "language_info": {
   "codemirror_mode": {
    "name": "ipython",
    "version": 3
   },
   "file_extension": ".py",
   "mimetype": "text/x-python",
   "name": "python",
   "nbconvert_exporter": "python",
   "pygments_lexer": "ipython3",
   "version": "3.7.3"
  }
 },
 "nbformat": 4,
 "nbformat_minor": 4
}

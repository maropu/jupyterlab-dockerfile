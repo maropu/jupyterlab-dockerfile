{
 "cells": [
  {
   "cell_type": "code",
   "execution_count": 1,
   "metadata": {
    "papermill": {
     "duration": 0.03169,
     "end_time": "2019-11-08T04:52:18.454956",
     "exception": false,
     "start_time": "2019-11-08T04:52:18.423266",
     "status": "completed"
    },
    "tags": [
     "parameters"
    ]
   },
   "outputs": [],
   "source": [
    "# papermill papermill.ipynb papermill_out.ipynb -p param_a 0.3 -p param_b 0.2\n",
    "param_a = 0.1\n",
    "param_b = 0.5"
   ]
  },
  {
   "cell_type": "code",
   "execution_count": 2,
   "metadata": {
    "papermill": {
     "duration": 0.02395,
     "end_time": "2019-11-08T04:52:18.487048",
     "exception": false,
     "start_time": "2019-11-08T04:52:18.463098",
     "status": "completed"
    },
    "tags": [
     "injected-parameters"
    ]
   },
   "outputs": [],
   "source": [
    "# Parameters\n",
    "param_a = 0.3\n",
    "param_b = 0.2\n"
   ]
  },
  {
   "cell_type": "code",
   "execution_count": 3,
   "metadata": {
    "papermill": {
     "duration": 0.03351,
     "end_time": "2019-11-08T04:52:18.531837",
     "exception": false,
     "start_time": "2019-11-08T04:52:18.498327",
     "status": "completed"
    },
    "tags": []
   },
   "outputs": [
    {
     "name": "stdout",
     "output_type": "stream",
     "text": [
      "0.06\n"
     ]
    }
   ],
   "source": [
    "print(param_a * param_b)"
   ]
  },
  {
   "cell_type": "code",
   "execution_count": null,
   "metadata": {
    "papermill": {
     "duration": 0.006788,
     "end_time": "2019-11-08T04:52:18.549193",
     "exception": false,
     "start_time": "2019-11-08T04:52:18.542405",
     "status": "completed"
    },
    "tags": []
   },
   "outputs": [],
   "source": []
  }
 ],
 "metadata": {
  "kernelspec": {
   "display_name": "Python 3",
   "language": "python",
   "name": "python3"
  },
  "language_info": {
   "codemirror_mode": {
    "name": "ipython",
    "version": 3
   },
   "file_extension": ".py",
   "mimetype": "text/x-python",
   "name": "python",
   "nbconvert_exporter": "python",
   "pygments_lexer": "ipython3",
   "version": "3.7.3"
  },
  "papermill": {
   "duration": 8.793693,
   "end_time": "2019-11-08T04:52:19.071224",
   "environment_variables": {},
   "exception": null,
   "input_path": "papermill.ipynb",
   "output_path": "papermill_out.ipynb",
   "parameters": {
    "param_a": 0.3,
    "param_b": 0.2
   },
   "start_time": "2019-11-08T04:52:10.277531",
   "version": "1.2.1"
  }
 },
 "nbformat": 4,
 "nbformat_minor": 4
}